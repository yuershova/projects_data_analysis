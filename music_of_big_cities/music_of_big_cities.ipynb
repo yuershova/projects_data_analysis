{
 "cells": [
  {
   "cell_type": "markdown",
   "metadata": {
    "toc": true
   },
   "source": [
    "<h1>Содержание<span class=\"tocSkip\"></span></h1>\n",
    "<div class=\"toc\"><ul class=\"toc-item\"><li><span><a href=\"#Обзор-данных\" data-toc-modified-id=\"Обзор-данных-1\"><span class=\"toc-item-num\">1&nbsp;&nbsp;</span>Обзор данных</a></span></li><li><span><a href=\"#Предобработка-данных\" data-toc-modified-id=\"Предобработка-данных-2\"><span class=\"toc-item-num\">2&nbsp;&nbsp;</span>Предобработка данных</a></span><ul class=\"toc-item\"><li><span><a href=\"#Приведение-колонок-к-единому-стилю\" data-toc-modified-id=\"Приведение-колонок-к-единому-стилю-2.1\"><span class=\"toc-item-num\">2.1&nbsp;&nbsp;</span>Приведение колонок к единому стилю</a></span></li><li><span><a href=\"#Преобразование-пропущенных-значений\" data-toc-modified-id=\"Преобразование-пропущенных-значений-2.2\"><span class=\"toc-item-num\">2.2&nbsp;&nbsp;</span>Преобразование пропущенных значений</a></span></li><li><span><a href=\"#Удаление-дубликатов\" data-toc-modified-id=\"Удаление-дубликатов-2.3\"><span class=\"toc-item-num\">2.3&nbsp;&nbsp;</span>Удаление дубликатов</a></span></li></ul></li><li><span><a href=\"#Проверка-гипотез\" data-toc-modified-id=\"Проверка-гипотез-3\"><span class=\"toc-item-num\">3&nbsp;&nbsp;</span>Проверка гипотез</a></span><ul class=\"toc-item\"><li><span><a href=\"#Сравнение-поведения-пользователей-двух-столиц\" data-toc-modified-id=\"Сравнение-поведения-пользователей-двух-столиц-3.1\"><span class=\"toc-item-num\">3.1&nbsp;&nbsp;</span>Сравнение поведения пользователей двух столиц</a></span></li><li><span><a href=\"#Музыка-в-начале-и-в-конце-недели\" data-toc-modified-id=\"Музыка-в-начале-и-в-конце-недели-3.2\"><span class=\"toc-item-num\">3.2&nbsp;&nbsp;</span>Музыка в начале и в конце недели</a></span></li><li><span><a href=\"#Жанровые-предпочтения-в-Москве-и-Петербурге\" data-toc-modified-id=\"Жанровые-предпочтения-в-Москве-и-Петербурге-3.3\"><span class=\"toc-item-num\">3.3&nbsp;&nbsp;</span>Жанровые предпочтения в Москве и Петербурге</a></span></li></ul></li><li><span><a href=\"#Вывод\" data-toc-modified-id=\"Вывод-4\"><span class=\"toc-item-num\">4&nbsp;&nbsp;</span>Вывод</a></span></li></ul></div>"
   ]
  },
  {
   "cell_type": "markdown",
   "metadata": {
    "id": "E0vqbgi9ay0H"
   },
   "source": [
    "# Исследование данных сервиса “Яндекс.Музыка” #"
   ]
  },
  {
   "cell_type": "markdown",
   "metadata": {
    "id": "VUC88oWjTJw2"
   },
   "source": [
    "Сравнение Москвы и Петербурга окружено мифами. Например:\n",
    " * Москва — мегаполис, подчинённый жёсткому ритму рабочей недели;\n",
    " * Петербург — культурная столица, со своими вкусами.\n",
    "\n",
    "На данных Яндекс.Музыки необходимо сравнить поведение пользователей двух столиц.\n",
    "\n",
    "**Цель исследования** — проверьте три гипотезы:\n",
    "1. Активность пользователей зависит от дня недели. Причём в Москве и Петербурге это проявляется по-разному.\n",
    "2. В понедельник утром в Москве преобладают одни жанры, а в Петербурге — другие. Так же и вечером пятницы преобладают разные жанры — в зависимости от города. \n",
    "3. Москва и Петербург предпочитают разные жанры музыки. В Москве чаще слушают поп-музыку, в Петербурге — русский рэп."
   ]
  },
  {
   "cell_type": "markdown",
   "metadata": {
    "id": "Ml1hmfXC_Zcs"
   },
   "source": [
    "## Обзор данных"
   ]
  },
  {
   "cell_type": "code",
   "execution_count": 1,
   "metadata": {
    "id": "AXN7PHPN_Zcs"
   },
   "outputs": [],
   "source": [
    "# импорт библиотеки pandas\n",
    "import pandas as pd "
   ]
  },
  {
   "cell_type": "code",
   "execution_count": 2,
   "metadata": {
    "id": "fFVu7vqh_Zct"
   },
   "outputs": [
    {
     "data": {
      "text/html": [
       "<div>\n",
       "<style scoped>\n",
       "    .dataframe tbody tr th:only-of-type {\n",
       "        vertical-align: middle;\n",
       "    }\n",
       "\n",
       "    .dataframe tbody tr th {\n",
       "        vertical-align: top;\n",
       "    }\n",
       "\n",
       "    .dataframe thead th {\n",
       "        text-align: right;\n",
       "    }\n",
       "</style>\n",
       "<table border=\"1\" class=\"dataframe\">\n",
       "  <thead>\n",
       "    <tr style=\"text-align: right;\">\n",
       "      <th></th>\n",
       "      <th>userID</th>\n",
       "      <th>Track</th>\n",
       "      <th>artist</th>\n",
       "      <th>genre</th>\n",
       "      <th>City</th>\n",
       "      <th>time</th>\n",
       "      <th>Day</th>\n",
       "    </tr>\n",
       "  </thead>\n",
       "  <tbody>\n",
       "    <tr>\n",
       "      <th>0</th>\n",
       "      <td>FFB692EC</td>\n",
       "      <td>Kamigata To Boots</td>\n",
       "      <td>The Mass Missile</td>\n",
       "      <td>rock</td>\n",
       "      <td>Saint-Petersburg</td>\n",
       "      <td>20:28:33</td>\n",
       "      <td>Wednesday</td>\n",
       "    </tr>\n",
       "    <tr>\n",
       "      <th>1</th>\n",
       "      <td>55204538</td>\n",
       "      <td>Delayed Because of Accident</td>\n",
       "      <td>Andreas Rönnberg</td>\n",
       "      <td>rock</td>\n",
       "      <td>Moscow</td>\n",
       "      <td>14:07:09</td>\n",
       "      <td>Friday</td>\n",
       "    </tr>\n",
       "    <tr>\n",
       "      <th>2</th>\n",
       "      <td>20EC38</td>\n",
       "      <td>Funiculì funiculà</td>\n",
       "      <td>Mario Lanza</td>\n",
       "      <td>pop</td>\n",
       "      <td>Saint-Petersburg</td>\n",
       "      <td>20:58:07</td>\n",
       "      <td>Wednesday</td>\n",
       "    </tr>\n",
       "    <tr>\n",
       "      <th>3</th>\n",
       "      <td>A3DD03C9</td>\n",
       "      <td>Dragons in the Sunset</td>\n",
       "      <td>Fire + Ice</td>\n",
       "      <td>folk</td>\n",
       "      <td>Saint-Petersburg</td>\n",
       "      <td>08:37:09</td>\n",
       "      <td>Monday</td>\n",
       "    </tr>\n",
       "    <tr>\n",
       "      <th>4</th>\n",
       "      <td>E2DC1FAE</td>\n",
       "      <td>Soul People</td>\n",
       "      <td>Space Echo</td>\n",
       "      <td>dance</td>\n",
       "      <td>Moscow</td>\n",
       "      <td>08:34:34</td>\n",
       "      <td>Monday</td>\n",
       "    </tr>\n",
       "    <tr>\n",
       "      <th>5</th>\n",
       "      <td>842029A1</td>\n",
       "      <td>Преданная</td>\n",
       "      <td>IMPERVTOR</td>\n",
       "      <td>rusrap</td>\n",
       "      <td>Saint-Petersburg</td>\n",
       "      <td>13:09:41</td>\n",
       "      <td>Friday</td>\n",
       "    </tr>\n",
       "    <tr>\n",
       "      <th>6</th>\n",
       "      <td>4CB90AA5</td>\n",
       "      <td>True</td>\n",
       "      <td>Roman Messer</td>\n",
       "      <td>dance</td>\n",
       "      <td>Moscow</td>\n",
       "      <td>13:00:07</td>\n",
       "      <td>Wednesday</td>\n",
       "    </tr>\n",
       "    <tr>\n",
       "      <th>7</th>\n",
       "      <td>F03E1C1F</td>\n",
       "      <td>Feeling This Way</td>\n",
       "      <td>Polina Griffith</td>\n",
       "      <td>dance</td>\n",
       "      <td>Moscow</td>\n",
       "      <td>20:47:49</td>\n",
       "      <td>Wednesday</td>\n",
       "    </tr>\n",
       "    <tr>\n",
       "      <th>8</th>\n",
       "      <td>8FA1D3BE</td>\n",
       "      <td>И вновь продолжается бой</td>\n",
       "      <td>NaN</td>\n",
       "      <td>ruspop</td>\n",
       "      <td>Moscow</td>\n",
       "      <td>09:17:40</td>\n",
       "      <td>Friday</td>\n",
       "    </tr>\n",
       "    <tr>\n",
       "      <th>9</th>\n",
       "      <td>E772D5C0</td>\n",
       "      <td>Pessimist</td>\n",
       "      <td>NaN</td>\n",
       "      <td>dance</td>\n",
       "      <td>Saint-Petersburg</td>\n",
       "      <td>21:20:49</td>\n",
       "      <td>Wednesday</td>\n",
       "    </tr>\n",
       "  </tbody>\n",
       "</table>\n",
       "</div>"
      ],
      "text/plain": [
       "     userID                        Track            artist   genre  \\\n",
       "0  FFB692EC            Kamigata To Boots  The Mass Missile    rock   \n",
       "1  55204538  Delayed Because of Accident  Andreas Rönnberg    rock   \n",
       "2    20EC38            Funiculì funiculà       Mario Lanza     pop   \n",
       "3  A3DD03C9        Dragons in the Sunset        Fire + Ice    folk   \n",
       "4  E2DC1FAE                  Soul People        Space Echo   dance   \n",
       "5  842029A1                    Преданная         IMPERVTOR  rusrap   \n",
       "6  4CB90AA5                         True      Roman Messer   dance   \n",
       "7  F03E1C1F             Feeling This Way   Polina Griffith   dance   \n",
       "8  8FA1D3BE     И вновь продолжается бой               NaN  ruspop   \n",
       "9  E772D5C0                    Pessimist               NaN   dance   \n",
       "\n",
       "             City        time        Day  \n",
       "0  Saint-Petersburg  20:28:33  Wednesday  \n",
       "1            Moscow  14:07:09     Friday  \n",
       "2  Saint-Petersburg  20:58:07  Wednesday  \n",
       "3  Saint-Petersburg  08:37:09     Monday  \n",
       "4            Moscow  08:34:34     Monday  \n",
       "5  Saint-Petersburg  13:09:41     Friday  \n",
       "6            Moscow  13:00:07  Wednesday  \n",
       "7            Moscow  20:47:49  Wednesday  \n",
       "8            Moscow  09:17:40     Friday  \n",
       "9  Saint-Petersburg  21:20:49  Wednesday  "
      ]
     },
     "execution_count": 2,
     "metadata": {},
     "output_type": "execute_result"
    }
   ],
   "source": [
    "# чтение файла с данными и сохранение в переменную df\n",
    "df = pd.read_csv('/datasets/yandex_music_project.csv') \n",
    "# получение первых 10 строк таблицы df\n",
    "df.head(10) "
   ]
  },
  {
   "cell_type": "code",
   "execution_count": 3,
   "metadata": {
    "id": "DSf2kIb-_Zct"
   },
   "outputs": [
    {
     "name": "stdout",
     "output_type": "stream",
     "text": [
      "<class 'pandas.core.frame.DataFrame'>\n",
      "RangeIndex: 65079 entries, 0 to 65078\n",
      "Data columns (total 7 columns):\n",
      " #   Column    Non-Null Count  Dtype \n",
      "---  ------    --------------  ----- \n",
      " 0     userID  65079 non-null  object\n",
      " 1   Track     63848 non-null  object\n",
      " 2   artist    57876 non-null  object\n",
      " 3   genre     63881 non-null  object\n",
      " 4     City    65079 non-null  object\n",
      " 5   time      65079 non-null  object\n",
      " 6   Day       65079 non-null  object\n",
      "dtypes: object(7)\n",
      "memory usage: 3.5+ MB\n"
     ]
    }
   ],
   "source": [
    "# получение общей информации о данных\n",
    "df.info() "
   ]
  },
  {
   "cell_type": "markdown",
   "metadata": {
    "id": "TaQ2Iwbr_Zct"
   },
   "source": [
    "Согласно документации к данным:\n",
    "* `userID` — идентификатор пользователя;\n",
    "* `Track` — название трека;  \n",
    "* `artist` — имя исполнителя;\n",
    "* `genre` — название жанра;\n",
    "* `City` — город пользователя;\n",
    "* `time` — время начала прослушивания;\n",
    "* `Day` — день недели."
   ]
  },
  {
   "cell_type": "markdown",
   "metadata": {
    "id": "MCB6-dXG_Zct"
   },
   "source": [
    "**Вывод**\n",
    "\n",
    "В каждой строке таблицы — данные о прослушанном треке. Часть колонок описывает саму композицию: название, исполнителя и жанр. Остальные данные рассказывают о пользователе: из какого он города, когда он слушал музыку. \n",
    "\n",
    "Предварительно можно утверждать, что, данных достаточно для проверки гипотез. Но встречаются пропуски в данных, а в названиях колонок — расхождения с хорошим стилем.\n",
    "\n",
    "Чтобы двигаться дальше, нужно устранить проблемы в данных."
   ]
  },
  {
   "cell_type": "markdown",
   "metadata": {
    "id": "SjYF6Ub9_Zct"
   },
   "source": [
    "## Предобработка данных"
   ]
  },
  {
   "cell_type": "markdown",
   "metadata": {
    "id": "dIaKXr29_Zct"
   },
   "source": [
    "### Приведение колонок к единому стилю"
   ]
  },
  {
   "cell_type": "code",
   "execution_count": 4,
   "metadata": {
    "id": "oKOTdF_Q_Zct"
   },
   "outputs": [
    {
     "data": {
      "text/plain": [
       "Index(['  userID', 'Track', 'artist', 'genre', '  City  ', 'time', 'Day'], dtype='object')"
      ]
     },
     "execution_count": 4,
     "metadata": {},
     "output_type": "execute_result"
    }
   ],
   "source": [
    "# вывод названий столбцов таблицы df\n",
    "df.columns "
   ]
  },
  {
   "cell_type": "code",
   "execution_count": 5,
   "metadata": {
    "id": "ISlFqs5y_Zct"
   },
   "outputs": [
    {
     "data": {
      "text/plain": [
       "Index(['user_id', 'track', 'artist', 'genre', 'city', 'time', 'day'], dtype='object')"
      ]
     },
     "execution_count": 5,
     "metadata": {},
     "output_type": "execute_result"
    }
   ],
   "source": [
    "# приведение столбцов к единому стилю\n",
    "df = df.rename(columns={'  userID':'user_id', 'Track':'track', '  City  ':'city', 'Day':'day'})\n",
    "# вывод названий столбцов после преобразований\n",
    "df.columns "
   ]
  },
  {
   "cell_type": "markdown",
   "metadata": {
    "id": "5ISfbcfY_Zct"
   },
   "source": [
    "### Преобразование пропущенных значений"
   ]
  },
  {
   "cell_type": "code",
   "execution_count": 6,
   "metadata": {
    "id": "RskX29qr_Zct"
   },
   "outputs": [
    {
     "data": {
      "text/plain": [
       "user_id       0\n",
       "track      1231\n",
       "artist     7203\n",
       "genre      1198\n",
       "city          0\n",
       "time          0\n",
       "day           0\n",
       "dtype: int64"
      ]
     },
     "execution_count": 6,
     "metadata": {},
     "output_type": "execute_result"
    }
   ],
   "source": [
    "# подсчёт количества пропусков\n",
    "df.isna().sum() "
   ]
  },
  {
   "cell_type": "markdown",
   "metadata": {
    "id": "qubhgnlO_Zct"
   },
   "source": [
    "Не все пропущенные значения влияют на исследование. Так в `track` и `artist` пропуски не важны для вашей работы. Достаточно заменить их явными обозначениями.\n",
    "\n",
    "Но пропуски в `genre` могут помешать сравнению музыкальных вкусов в Москве и Санкт-Петербурге. На практике было бы правильно установить причину пропусков и восстановить данные. "
   ]
  },
  {
   "cell_type": "markdown",
   "metadata": {
    "id": "fSv2laPA_Zct"
   },
   "source": [
    "Заменим пропущенные значения в столбцах `track`, `artist` и `genre` на строку `'unknown'`"
   ]
  },
  {
   "cell_type": "code",
   "execution_count": 7,
   "metadata": {
    "id": "KplB5qWs_Zct"
   },
   "outputs": [],
   "source": [
    "# перебор названий столбцов в цикле и замена пропущенных значений на 'unknown'  \n",
    "columns_to_replace = ['track', 'artist', 'genre'] \n",
    "\n",
    "for column in columns_to_replace:\n",
    "    df[column] = df[column].fillna('unknown')"
   ]
  },
  {
   "cell_type": "code",
   "execution_count": 8,
   "metadata": {
    "id": "Tq4nYRX4_Zct"
   },
   "outputs": [
    {
     "data": {
      "text/plain": [
       "user_id    0\n",
       "track      0\n",
       "artist     0\n",
       "genre      0\n",
       "city       0\n",
       "time       0\n",
       "day        0\n",
       "dtype: int64"
      ]
     },
     "execution_count": 8,
     "metadata": {},
     "output_type": "execute_result"
    }
   ],
   "source": [
    "# подсчёт пропусков\n",
    "df.isna().sum()"
   ]
  },
  {
   "cell_type": "markdown",
   "metadata": {
    "id": "BWKRtBJ3_Zct"
   },
   "source": [
    "### Удаление дубликатов"
   ]
  },
  {
   "cell_type": "code",
   "execution_count": 9,
   "metadata": {
    "id": "36eES_S0_Zct"
   },
   "outputs": [
    {
     "data": {
      "text/plain": [
       "3826"
      ]
     },
     "execution_count": 9,
     "metadata": {},
     "output_type": "execute_result"
    }
   ],
   "source": [
    "# подсчёт числа явных дубликатов\n",
    "df.duplicated().sum() "
   ]
  },
  {
   "cell_type": "code",
   "execution_count": 10,
   "metadata": {
    "id": "exFHq6tt_Zct"
   },
   "outputs": [
    {
     "data": {
      "text/html": [
       "<div>\n",
       "<style scoped>\n",
       "    .dataframe tbody tr th:only-of-type {\n",
       "        vertical-align: middle;\n",
       "    }\n",
       "\n",
       "    .dataframe tbody tr th {\n",
       "        vertical-align: top;\n",
       "    }\n",
       "\n",
       "    .dataframe thead th {\n",
       "        text-align: right;\n",
       "    }\n",
       "</style>\n",
       "<table border=\"1\" class=\"dataframe\">\n",
       "  <thead>\n",
       "    <tr style=\"text-align: right;\">\n",
       "      <th></th>\n",
       "      <th>user_id</th>\n",
       "      <th>track</th>\n",
       "      <th>artist</th>\n",
       "      <th>genre</th>\n",
       "      <th>city</th>\n",
       "      <th>time</th>\n",
       "      <th>day</th>\n",
       "    </tr>\n",
       "  </thead>\n",
       "  <tbody>\n",
       "    <tr>\n",
       "      <th>0</th>\n",
       "      <td>FFB692EC</td>\n",
       "      <td>Kamigata To Boots</td>\n",
       "      <td>The Mass Missile</td>\n",
       "      <td>rock</td>\n",
       "      <td>Saint-Petersburg</td>\n",
       "      <td>20:28:33</td>\n",
       "      <td>Wednesday</td>\n",
       "    </tr>\n",
       "    <tr>\n",
       "      <th>1</th>\n",
       "      <td>55204538</td>\n",
       "      <td>Delayed Because of Accident</td>\n",
       "      <td>Andreas Rönnberg</td>\n",
       "      <td>rock</td>\n",
       "      <td>Moscow</td>\n",
       "      <td>14:07:09</td>\n",
       "      <td>Friday</td>\n",
       "    </tr>\n",
       "    <tr>\n",
       "      <th>2</th>\n",
       "      <td>20EC38</td>\n",
       "      <td>Funiculì funiculà</td>\n",
       "      <td>Mario Lanza</td>\n",
       "      <td>pop</td>\n",
       "      <td>Saint-Petersburg</td>\n",
       "      <td>20:58:07</td>\n",
       "      <td>Wednesday</td>\n",
       "    </tr>\n",
       "    <tr>\n",
       "      <th>3</th>\n",
       "      <td>A3DD03C9</td>\n",
       "      <td>Dragons in the Sunset</td>\n",
       "      <td>Fire + Ice</td>\n",
       "      <td>folk</td>\n",
       "      <td>Saint-Petersburg</td>\n",
       "      <td>08:37:09</td>\n",
       "      <td>Monday</td>\n",
       "    </tr>\n",
       "    <tr>\n",
       "      <th>4</th>\n",
       "      <td>E2DC1FAE</td>\n",
       "      <td>Soul People</td>\n",
       "      <td>Space Echo</td>\n",
       "      <td>dance</td>\n",
       "      <td>Moscow</td>\n",
       "      <td>08:34:34</td>\n",
       "      <td>Monday</td>\n",
       "    </tr>\n",
       "  </tbody>\n",
       "</table>\n",
       "</div>"
      ],
      "text/plain": [
       "    user_id                        track            artist  genre  \\\n",
       "0  FFB692EC            Kamigata To Boots  The Mass Missile   rock   \n",
       "1  55204538  Delayed Because of Accident  Andreas Rönnberg   rock   \n",
       "2    20EC38            Funiculì funiculà       Mario Lanza    pop   \n",
       "3  A3DD03C9        Dragons in the Sunset        Fire + Ice   folk   \n",
       "4  E2DC1FAE                  Soul People        Space Echo  dance   \n",
       "\n",
       "               city      time        day  \n",
       "0  Saint-Petersburg  20:28:33  Wednesday  \n",
       "1            Moscow  14:07:09     Friday  \n",
       "2  Saint-Petersburg  20:58:07  Wednesday  \n",
       "3  Saint-Petersburg  08:37:09     Monday  \n",
       "4            Moscow  08:34:34     Monday  "
      ]
     },
     "execution_count": 10,
     "metadata": {},
     "output_type": "execute_result"
    }
   ],
   "source": [
    "# удаление явных дубликатов (с удалением старых индексов и формированием новых)\n",
    "df = df.drop_duplicates().reset_index(drop=True) \n",
    "df.head()"
   ]
  },
  {
   "cell_type": "code",
   "execution_count": 11,
   "metadata": {
    "id": "-8PuNWQ0_Zct"
   },
   "outputs": [
    {
     "data": {
      "text/plain": [
       "0"
      ]
     },
     "execution_count": 11,
     "metadata": {},
     "output_type": "execute_result"
    }
   ],
   "source": [
    "# проверка на отсутствие дубликатов\n",
    "df.duplicated().sum() "
   ]
  },
  {
   "cell_type": "code",
   "execution_count": 12,
   "metadata": {
    "id": "JIUcqzZN_Zct"
   },
   "outputs": [
    {
     "data": {
      "text/plain": [
       "array(['acid', 'acoustic', 'action', 'adult', 'africa', 'afrikaans',\n",
       "       'alternative', 'alternativepunk', 'ambient', 'americana',\n",
       "       'animated', 'anime', 'arabesk', 'arabic', 'arena',\n",
       "       'argentinetango', 'art', 'audiobook', 'author', 'avantgarde',\n",
       "       'axé', 'baile', 'balkan', 'beats', 'bigroom', 'black', 'bluegrass',\n",
       "       'blues', 'bollywood', 'bossa', 'brazilian', 'breakbeat', 'breaks',\n",
       "       'broadway', 'cantautori', 'cantopop', 'canzone', 'caribbean',\n",
       "       'caucasian', 'celtic', 'chamber', 'chanson', 'children', 'chill',\n",
       "       'chinese', 'choral', 'christian', 'christmas', 'classical',\n",
       "       'classicmetal', 'club', 'colombian', 'comedy', 'conjazz',\n",
       "       'contemporary', 'country', 'cuban', 'dance', 'dancehall',\n",
       "       'dancepop', 'dark', 'death', 'deep', 'deutschrock', 'deutschspr',\n",
       "       'dirty', 'disco', 'dnb', 'documentary', 'downbeat', 'downtempo',\n",
       "       'drum', 'dub', 'dubstep', 'eastern', 'easy', 'electronic',\n",
       "       'electropop', 'emo', 'entehno', 'epicmetal', 'estrada', 'ethnic',\n",
       "       'eurofolk', 'european', 'experimental', 'extrememetal', 'fado',\n",
       "       'fairytail', 'film', 'fitness', 'flamenco', 'folk', 'folklore',\n",
       "       'folkmetal', 'folkrock', 'folktronica', 'forró', 'frankreich',\n",
       "       'französisch', 'french', 'funk', 'future', 'gangsta', 'garage',\n",
       "       'german', 'ghazal', 'gitarre', 'glitch', 'gospel', 'gothic',\n",
       "       'grime', 'grunge', 'gypsy', 'handsup', \"hard'n'heavy\", 'hardcore',\n",
       "       'hardstyle', 'hardtechno', 'hip', 'hip-hop', 'hiphop',\n",
       "       'historisch', 'holiday', 'hop', 'horror', 'house', 'hymn', 'idm',\n",
       "       'independent', 'indian', 'indie', 'indipop', 'industrial',\n",
       "       'inspirational', 'instrumental', 'international', 'irish', 'jam',\n",
       "       'japanese', 'jazz', 'jewish', 'jpop', 'jungle', 'k-pop',\n",
       "       'karadeniz', 'karaoke', 'kayokyoku', 'korean', 'laiko', 'latin',\n",
       "       'latino', 'leftfield', 'local', 'lounge', 'loungeelectronic',\n",
       "       'lovers', 'malaysian', 'mandopop', 'marschmusik', 'meditative',\n",
       "       'mediterranean', 'melodic', 'metal', 'metalcore', 'mexican',\n",
       "       'middle', 'minimal', 'miscellaneous', 'modern', 'mood', 'mpb',\n",
       "       'muslim', 'native', 'neoklassik', 'neue', 'new', 'newage',\n",
       "       'newwave', 'nu', 'nujazz', 'numetal', 'oceania', 'old', 'opera',\n",
       "       'orchestral', 'other', 'piano', 'podcasts', 'pop', 'popdance',\n",
       "       'popelectronic', 'popeurodance', 'poprussian', 'post',\n",
       "       'posthardcore', 'postrock', 'power', 'progmetal', 'progressive',\n",
       "       'psychedelic', 'punjabi', 'punk', 'quebecois', 'ragga', 'ram',\n",
       "       'rancheras', 'rap', 'rave', 'reggae', 'reggaeton', 'regional',\n",
       "       'relax', 'religious', 'retro', 'rhythm', 'rnb', 'rnr', 'rock',\n",
       "       'rockabilly', 'rockalternative', 'rockindie', 'rockother',\n",
       "       'romance', 'roots', 'ruspop', 'rusrap', 'rusrock', 'russian',\n",
       "       'salsa', 'samba', 'scenic', 'schlager', 'self', 'sertanejo',\n",
       "       'shanson', 'shoegazing', 'showtunes', 'singer', 'ska', 'skarock',\n",
       "       'slow', 'smooth', 'soft', 'soul', 'soulful', 'sound', 'soundtrack',\n",
       "       'southern', 'specialty', 'speech', 'spiritual', 'sport',\n",
       "       'stonerrock', 'surf', 'swing', 'synthpop', 'synthrock',\n",
       "       'sängerportrait', 'tango', 'tanzorchester', 'taraftar', 'tatar',\n",
       "       'tech', 'techno', 'teen', 'thrash', 'top', 'traditional',\n",
       "       'tradjazz', 'trance', 'tribal', 'trip', 'triphop', 'tropical',\n",
       "       'türk', 'türkçe', 'ukrrock', 'unknown', 'urban', 'uzbek',\n",
       "       'variété', 'vi', 'videogame', 'vocal', 'western', 'world',\n",
       "       'worldbeat', 'ïîï', 'электроника'], dtype=object)"
      ]
     },
     "execution_count": 12,
     "metadata": {},
     "output_type": "execute_result"
    }
   ],
   "source": [
    "# вывод уникальных названий жанров\n",
    "df['genre'].sort_values().unique() "
   ]
  },
  {
   "cell_type": "code",
   "execution_count": 13,
   "metadata": {
    "id": "ErNDkmns_Zct"
   },
   "outputs": [],
   "source": [
    "# функция для удаления неявных дубликатов\n",
    "def replace_wrong_genres(wrong_genres, correct_genre): \n",
    "    for i in wrong_genres:\n",
    "        df['genre'] = df['genre'].replace(wrong_genres, correct_genre) \n",
    "        \n",
    "duplicates = ['hip', 'hop', 'hip-hop'] \n",
    "name = 'hiphop' \n",
    "replace_wrong_genres(duplicates, name)"
   ]
  },
  {
   "cell_type": "code",
   "execution_count": 14,
   "metadata": {
    "id": "wvixALnFG15m"
   },
   "outputs": [
    {
     "data": {
      "text/plain": [
       "array(['acid', 'acoustic', 'action', 'adult', 'africa', 'afrikaans',\n",
       "       'alternative', 'alternativepunk', 'ambient', 'americana',\n",
       "       'animated', 'anime', 'arabesk', 'arabic', 'arena',\n",
       "       'argentinetango', 'art', 'audiobook', 'author', 'avantgarde',\n",
       "       'axé', 'baile', 'balkan', 'beats', 'bigroom', 'black', 'bluegrass',\n",
       "       'blues', 'bollywood', 'bossa', 'brazilian', 'breakbeat', 'breaks',\n",
       "       'broadway', 'cantautori', 'cantopop', 'canzone', 'caribbean',\n",
       "       'caucasian', 'celtic', 'chamber', 'chanson', 'children', 'chill',\n",
       "       'chinese', 'choral', 'christian', 'christmas', 'classical',\n",
       "       'classicmetal', 'club', 'colombian', 'comedy', 'conjazz',\n",
       "       'contemporary', 'country', 'cuban', 'dance', 'dancehall',\n",
       "       'dancepop', 'dark', 'death', 'deep', 'deutschrock', 'deutschspr',\n",
       "       'dirty', 'disco', 'dnb', 'documentary', 'downbeat', 'downtempo',\n",
       "       'drum', 'dub', 'dubstep', 'eastern', 'easy', 'electronic',\n",
       "       'electropop', 'emo', 'entehno', 'epicmetal', 'estrada', 'ethnic',\n",
       "       'eurofolk', 'european', 'experimental', 'extrememetal', 'fado',\n",
       "       'fairytail', 'film', 'fitness', 'flamenco', 'folk', 'folklore',\n",
       "       'folkmetal', 'folkrock', 'folktronica', 'forró', 'frankreich',\n",
       "       'französisch', 'french', 'funk', 'future', 'gangsta', 'garage',\n",
       "       'german', 'ghazal', 'gitarre', 'glitch', 'gospel', 'gothic',\n",
       "       'grime', 'grunge', 'gypsy', 'handsup', \"hard'n'heavy\", 'hardcore',\n",
       "       'hardstyle', 'hardtechno', 'hiphop', 'historisch', 'holiday',\n",
       "       'horror', 'house', 'hymn', 'idm', 'independent', 'indian', 'indie',\n",
       "       'indipop', 'industrial', 'inspirational', 'instrumental',\n",
       "       'international', 'irish', 'jam', 'japanese', 'jazz', 'jewish',\n",
       "       'jpop', 'jungle', 'k-pop', 'karadeniz', 'karaoke', 'kayokyoku',\n",
       "       'korean', 'laiko', 'latin', 'latino', 'leftfield', 'local',\n",
       "       'lounge', 'loungeelectronic', 'lovers', 'malaysian', 'mandopop',\n",
       "       'marschmusik', 'meditative', 'mediterranean', 'melodic', 'metal',\n",
       "       'metalcore', 'mexican', 'middle', 'minimal', 'miscellaneous',\n",
       "       'modern', 'mood', 'mpb', 'muslim', 'native', 'neoklassik', 'neue',\n",
       "       'new', 'newage', 'newwave', 'nu', 'nujazz', 'numetal', 'oceania',\n",
       "       'old', 'opera', 'orchestral', 'other', 'piano', 'podcasts', 'pop',\n",
       "       'popdance', 'popelectronic', 'popeurodance', 'poprussian', 'post',\n",
       "       'posthardcore', 'postrock', 'power', 'progmetal', 'progressive',\n",
       "       'psychedelic', 'punjabi', 'punk', 'quebecois', 'ragga', 'ram',\n",
       "       'rancheras', 'rap', 'rave', 'reggae', 'reggaeton', 'regional',\n",
       "       'relax', 'religious', 'retro', 'rhythm', 'rnb', 'rnr', 'rock',\n",
       "       'rockabilly', 'rockalternative', 'rockindie', 'rockother',\n",
       "       'romance', 'roots', 'ruspop', 'rusrap', 'rusrock', 'russian',\n",
       "       'salsa', 'samba', 'scenic', 'schlager', 'self', 'sertanejo',\n",
       "       'shanson', 'shoegazing', 'showtunes', 'singer', 'ska', 'skarock',\n",
       "       'slow', 'smooth', 'soft', 'soul', 'soulful', 'sound', 'soundtrack',\n",
       "       'southern', 'specialty', 'speech', 'spiritual', 'sport',\n",
       "       'stonerrock', 'surf', 'swing', 'synthpop', 'synthrock',\n",
       "       'sängerportrait', 'tango', 'tanzorchester', 'taraftar', 'tatar',\n",
       "       'tech', 'techno', 'teen', 'thrash', 'top', 'traditional',\n",
       "       'tradjazz', 'trance', 'tribal', 'trip', 'triphop', 'tropical',\n",
       "       'türk', 'türkçe', 'ukrrock', 'unknown', 'urban', 'uzbek',\n",
       "       'variété', 'vi', 'videogame', 'vocal', 'western', 'world',\n",
       "       'worldbeat', 'ïîï', 'электроника'], dtype=object)"
      ]
     },
     "execution_count": 14,
     "metadata": {},
     "output_type": "execute_result"
    }
   ],
   "source": [
    "# вывод уникальных названий жанров после преобразований\n",
    "df['genre'].sort_values().unique()"
   ]
  },
  {
   "cell_type": "markdown",
   "metadata": {
    "id": "jz6a9-7HQUDd"
   },
   "source": [
    "**Вывод**\n",
    "\n",
    "Предобработка обнаружила три проблемы в данных:\n",
    "\n",
    "- нарушения в стиле заголовков,\n",
    "- пропущенные значения,\n",
    "- дубликаты — явные и неявные.\n",
    "\n",
    "Пропущенные значения мы заменили на `'unknown'`. Ещё предстоит увидеть, не повредят ли исследованию пропуски в колонке `genre`. "
   ]
  },
  {
   "cell_type": "markdown",
   "metadata": {
    "id": "WttZHXH0SqKk"
   },
   "source": [
    "## Проверка гипотез"
   ]
  },
  {
   "cell_type": "markdown",
   "metadata": {
    "id": "Im936VVi_Zcu"
   },
   "source": [
    "### Сравнение поведения пользователей двух столиц"
   ]
  },
  {
   "cell_type": "markdown",
   "metadata": {
    "id": "nwt_MuaL_Zcu"
   },
   "source": [
    "Первая гипотеза утверждает, что пользователи по-разному слушают музыку в Москве и Санкт-Петербурге. Проверим это предположение по данным о трёх днях недели — понедельнике, среде и пятнице."
   ]
  },
  {
   "cell_type": "code",
   "execution_count": 15,
   "metadata": {
    "id": "0_Qs96oh_Zcu"
   },
   "outputs": [
    {
     "data": {
      "text/plain": [
       "city\n",
       "Moscow              42741\n",
       "Saint-Petersburg    18512\n",
       "Name: user_id, dtype: int64"
      ]
     },
     "execution_count": 15,
     "metadata": {},
     "output_type": "execute_result"
    }
   ],
   "source": [
    "# подсчёт количества прослушиваний в каждом городе\n",
    "df.groupby('city')['user_id'].count()"
   ]
  },
  {
   "cell_type": "markdown",
   "metadata": {
    "id": "dzli3w8o_Zcu"
   },
   "source": [
    "В Москве прослушиваний больше, чем в Санкт-Петербурге. Из этого не следует, что московские пользователи чаще слушают музыку, да и самих пользователей в Москве больше."
   ]
  },
  {
   "cell_type": "code",
   "execution_count": 16,
   "metadata": {
    "id": "uZMKjiJz_Zcu"
   },
   "outputs": [
    {
     "data": {
      "text/plain": [
       "day\n",
       "Friday       21840\n",
       "Monday       21354\n",
       "Wednesday    18059\n",
       "Name: user_id, dtype: int64"
      ]
     },
     "execution_count": 16,
     "metadata": {},
     "output_type": "execute_result"
    }
   ],
   "source": [
    "# подсчёт прослушиваний в каждый из трёх дней\n",
    "df.groupby('day')['user_id'].count() "
   ]
  },
  {
   "cell_type": "markdown",
   "metadata": {
    "id": "cC2tNrlL_Zcu"
   },
   "source": [
    "В среднем пользователи из двух городов менее активны по средам. Но картина может измениться, если рассмотреть каждый город в отдельности."
   ]
  },
  {
   "cell_type": "code",
   "execution_count": 17,
   "metadata": {
    "id": "Nz3GdQB1_Zcu"
   },
   "outputs": [],
   "source": [
    "# функция для подсчёта прослушиваний для конкретного города и дня\n",
    "def number_tracks(day, city):\n",
    "    track_list = df[df['day'] == day]\n",
    "    track_list = track_list[track_list['city'] == city]\n",
    "    track_list_count = track_list['user_id'].count()\n",
    "    \n",
    "    return track_list_count"
   ]
  },
  {
   "cell_type": "code",
   "execution_count": 18,
   "metadata": {
    "id": "rJcRATNQ_Zcu"
   },
   "outputs": [
    {
     "data": {
      "text/plain": [
       "15740"
      ]
     },
     "execution_count": 18,
     "metadata": {},
     "output_type": "execute_result"
    }
   ],
   "source": [
    "# количество прослушиваний в Москве по понедельникам\n",
    "number_tracks('Monday', 'Moscow') "
   ]
  },
  {
   "cell_type": "code",
   "execution_count": 19,
   "metadata": {
    "id": "hq_ncZ5T_Zcu"
   },
   "outputs": [
    {
     "data": {
      "text/plain": [
       "5614"
      ]
     },
     "execution_count": 19,
     "metadata": {},
     "output_type": "execute_result"
    }
   ],
   "source": [
    "# количество прослушиваний в Санкт-Петербурге по понедельникам\n",
    "number_tracks('Monday', 'Saint-Petersburg') "
   ]
  },
  {
   "cell_type": "code",
   "execution_count": 20,
   "metadata": {
    "id": "_NTy2VPU_Zcu"
   },
   "outputs": [
    {
     "data": {
      "text/plain": [
       "11056"
      ]
     },
     "execution_count": 20,
     "metadata": {},
     "output_type": "execute_result"
    }
   ],
   "source": [
    "# количество прослушиваний в Москве по средам\n",
    "number_tracks('Wednesday', 'Moscow') "
   ]
  },
  {
   "cell_type": "code",
   "execution_count": 21,
   "metadata": {
    "id": "j2y3TAwo_Zcu"
   },
   "outputs": [
    {
     "data": {
      "text/plain": [
       "7003"
      ]
     },
     "execution_count": 21,
     "metadata": {},
     "output_type": "execute_result"
    }
   ],
   "source": [
    "# количество прослушиваний в Санкт-Петербурге по средам\n",
    "number_tracks('Wednesday', 'Saint-Petersburg') "
   ]
  },
  {
   "cell_type": "code",
   "execution_count": 22,
   "metadata": {
    "id": "vYDw5u_K_Zcu"
   },
   "outputs": [
    {
     "data": {
      "text/plain": [
       "15945"
      ]
     },
     "execution_count": 22,
     "metadata": {},
     "output_type": "execute_result"
    }
   ],
   "source": [
    "# количество прослушиваний в Москве по пятницам\n",
    "number_tracks('Friday', 'Moscow') "
   ]
  },
  {
   "cell_type": "code",
   "execution_count": 23,
   "metadata": {
    "id": "8_yzFtW3_Zcu"
   },
   "outputs": [
    {
     "data": {
      "text/plain": [
       "5895"
      ]
     },
     "execution_count": 23,
     "metadata": {},
     "output_type": "execute_result"
    }
   ],
   "source": [
    "# количество прослушиваний в Санкт-Петербурге по пятницам'\n",
    "number_tracks('Friday', 'Saint-Petersburg') "
   ]
  },
  {
   "cell_type": "code",
   "execution_count": 24,
   "metadata": {
    "id": "APAcLpOr_Zcu"
   },
   "outputs": [
    {
     "data": {
      "text/html": [
       "<div>\n",
       "<style scoped>\n",
       "    .dataframe tbody tr th:only-of-type {\n",
       "        vertical-align: middle;\n",
       "    }\n",
       "\n",
       "    .dataframe tbody tr th {\n",
       "        vertical-align: top;\n",
       "    }\n",
       "\n",
       "    .dataframe thead th {\n",
       "        text-align: right;\n",
       "    }\n",
       "</style>\n",
       "<table border=\"1\" class=\"dataframe\">\n",
       "  <thead>\n",
       "    <tr style=\"text-align: right;\">\n",
       "      <th></th>\n",
       "      <th>city</th>\n",
       "      <th>monday</th>\n",
       "      <th>wednesday</th>\n",
       "      <th>friday</th>\n",
       "    </tr>\n",
       "  </thead>\n",
       "  <tbody>\n",
       "    <tr>\n",
       "      <th>0</th>\n",
       "      <td>Moscow</td>\n",
       "      <td>15740</td>\n",
       "      <td>11056</td>\n",
       "      <td>15945</td>\n",
       "    </tr>\n",
       "    <tr>\n",
       "      <th>1</th>\n",
       "      <td>Saint-Petersburg</td>\n",
       "      <td>5614</td>\n",
       "      <td>7003</td>\n",
       "      <td>5895</td>\n",
       "    </tr>\n",
       "  </tbody>\n",
       "</table>\n",
       "</div>"
      ],
      "text/plain": [
       "               city  monday  wednesday  friday\n",
       "0            Moscow   15740      11056   15945\n",
       "1  Saint-Petersburg    5614       7003    5895"
      ]
     },
     "execution_count": 24,
     "metadata": {},
     "output_type": "execute_result"
    }
   ],
   "source": [
    "# объединим результаты в таблице\n",
    "columns = ['city', 'monday', 'wednesday', 'friday']\n",
    "data_number_tracks = [['Moscow', 15740, 11056, 15945],['Saint-Petersburg', 5614, 7003, 5895]]\n",
    "pd.DataFrame(data = data_number_tracks, columns = columns)                  "
   ]
  },
  {
   "cell_type": "markdown",
   "metadata": {
    "id": "-EgPIHYu_Zcu"
   },
   "source": [
    "**Вывод**\n",
    "\n",
    "Данные показывают разницу поведения пользователей:\n",
    "\n",
    "- В Москве пик прослушиваний приходится на понедельник и пятницу, а в среду заметен спад.\n",
    "- В Петербурге, наоборот, больше слушают музыку по средам. Активность в понедельник и пятницу здесь почти в равной мере уступает среде.\n",
    "\n",
    "Значит, данные говорят в пользу первой гипотезы."
   ]
  },
  {
   "cell_type": "markdown",
   "metadata": {
    "id": "atZAxtq4_Zcu"
   },
   "source": [
    "### Музыка в начале и в конце недели"
   ]
  },
  {
   "cell_type": "markdown",
   "metadata": {
    "id": "eXrQqXFH_Zcu"
   },
   "source": [
    "Согласно второй гипотезе, утром в понедельник в Москве преобладают одни жанры, а в Петербурге — другие. Так же и вечером пятницы преобладают разные жанры — в зависимости от города."
   ]
  },
  {
   "cell_type": "code",
   "execution_count": 25,
   "metadata": {
    "id": "qeaFfM_P_Zcu"
   },
   "outputs": [
    {
     "data": {
      "text/html": [
       "<div>\n",
       "<style scoped>\n",
       "    .dataframe tbody tr th:only-of-type {\n",
       "        vertical-align: middle;\n",
       "    }\n",
       "\n",
       "    .dataframe tbody tr th {\n",
       "        vertical-align: top;\n",
       "    }\n",
       "\n",
       "    .dataframe thead th {\n",
       "        text-align: right;\n",
       "    }\n",
       "</style>\n",
       "<table border=\"1\" class=\"dataframe\">\n",
       "  <thead>\n",
       "    <tr style=\"text-align: right;\">\n",
       "      <th></th>\n",
       "      <th>user_id</th>\n",
       "      <th>track</th>\n",
       "      <th>artist</th>\n",
       "      <th>genre</th>\n",
       "      <th>city</th>\n",
       "      <th>time</th>\n",
       "      <th>day</th>\n",
       "    </tr>\n",
       "  </thead>\n",
       "  <tbody>\n",
       "    <tr>\n",
       "      <th>1</th>\n",
       "      <td>55204538</td>\n",
       "      <td>Delayed Because of Accident</td>\n",
       "      <td>Andreas Rönnberg</td>\n",
       "      <td>rock</td>\n",
       "      <td>Moscow</td>\n",
       "      <td>14:07:09</td>\n",
       "      <td>Friday</td>\n",
       "    </tr>\n",
       "    <tr>\n",
       "      <th>4</th>\n",
       "      <td>E2DC1FAE</td>\n",
       "      <td>Soul People</td>\n",
       "      <td>Space Echo</td>\n",
       "      <td>dance</td>\n",
       "      <td>Moscow</td>\n",
       "      <td>08:34:34</td>\n",
       "      <td>Monday</td>\n",
       "    </tr>\n",
       "    <tr>\n",
       "      <th>6</th>\n",
       "      <td>4CB90AA5</td>\n",
       "      <td>True</td>\n",
       "      <td>Roman Messer</td>\n",
       "      <td>dance</td>\n",
       "      <td>Moscow</td>\n",
       "      <td>13:00:07</td>\n",
       "      <td>Wednesday</td>\n",
       "    </tr>\n",
       "    <tr>\n",
       "      <th>7</th>\n",
       "      <td>F03E1C1F</td>\n",
       "      <td>Feeling This Way</td>\n",
       "      <td>Polina Griffith</td>\n",
       "      <td>dance</td>\n",
       "      <td>Moscow</td>\n",
       "      <td>20:47:49</td>\n",
       "      <td>Wednesday</td>\n",
       "    </tr>\n",
       "    <tr>\n",
       "      <th>8</th>\n",
       "      <td>8FA1D3BE</td>\n",
       "      <td>И вновь продолжается бой</td>\n",
       "      <td>unknown</td>\n",
       "      <td>ruspop</td>\n",
       "      <td>Moscow</td>\n",
       "      <td>09:17:40</td>\n",
       "      <td>Friday</td>\n",
       "    </tr>\n",
       "  </tbody>\n",
       "</table>\n",
       "</div>"
      ],
      "text/plain": [
       "    user_id                        track            artist   genre    city  \\\n",
       "1  55204538  Delayed Because of Accident  Andreas Rönnberg    rock  Moscow   \n",
       "4  E2DC1FAE                  Soul People        Space Echo   dance  Moscow   \n",
       "6  4CB90AA5                         True      Roman Messer   dance  Moscow   \n",
       "7  F03E1C1F             Feeling This Way   Polina Griffith   dance  Moscow   \n",
       "8  8FA1D3BE     И вновь продолжается бой           unknown  ruspop  Moscow   \n",
       "\n",
       "       time        day  \n",
       "1  14:07:09     Friday  \n",
       "4  08:34:34     Monday  \n",
       "6  13:00:07  Wednesday  \n",
       "7  20:47:49  Wednesday  \n",
       "8  09:17:40     Friday  "
      ]
     },
     "execution_count": 25,
     "metadata": {},
     "output_type": "execute_result"
    }
   ],
   "source": [
    "# выделим данные по Москве и сохраним в переменную moscow_general\n",
    "moscow_general = df[df['city'] == 'Moscow'] \n",
    "# вывод первых строк таблицы\n",
    "moscow_general.head(5)"
   ]
  },
  {
   "cell_type": "code",
   "execution_count": 26,
   "metadata": {
    "id": "ORaVRKto_Zcu"
   },
   "outputs": [
    {
     "data": {
      "text/html": [
       "<div>\n",
       "<style scoped>\n",
       "    .dataframe tbody tr th:only-of-type {\n",
       "        vertical-align: middle;\n",
       "    }\n",
       "\n",
       "    .dataframe tbody tr th {\n",
       "        vertical-align: top;\n",
       "    }\n",
       "\n",
       "    .dataframe thead th {\n",
       "        text-align: right;\n",
       "    }\n",
       "</style>\n",
       "<table border=\"1\" class=\"dataframe\">\n",
       "  <thead>\n",
       "    <tr style=\"text-align: right;\">\n",
       "      <th></th>\n",
       "      <th>user_id</th>\n",
       "      <th>track</th>\n",
       "      <th>artist</th>\n",
       "      <th>genre</th>\n",
       "      <th>city</th>\n",
       "      <th>time</th>\n",
       "      <th>day</th>\n",
       "    </tr>\n",
       "  </thead>\n",
       "  <tbody>\n",
       "    <tr>\n",
       "      <th>0</th>\n",
       "      <td>FFB692EC</td>\n",
       "      <td>Kamigata To Boots</td>\n",
       "      <td>The Mass Missile</td>\n",
       "      <td>rock</td>\n",
       "      <td>Saint-Petersburg</td>\n",
       "      <td>20:28:33</td>\n",
       "      <td>Wednesday</td>\n",
       "    </tr>\n",
       "    <tr>\n",
       "      <th>2</th>\n",
       "      <td>20EC38</td>\n",
       "      <td>Funiculì funiculà</td>\n",
       "      <td>Mario Lanza</td>\n",
       "      <td>pop</td>\n",
       "      <td>Saint-Petersburg</td>\n",
       "      <td>20:58:07</td>\n",
       "      <td>Wednesday</td>\n",
       "    </tr>\n",
       "    <tr>\n",
       "      <th>3</th>\n",
       "      <td>A3DD03C9</td>\n",
       "      <td>Dragons in the Sunset</td>\n",
       "      <td>Fire + Ice</td>\n",
       "      <td>folk</td>\n",
       "      <td>Saint-Petersburg</td>\n",
       "      <td>08:37:09</td>\n",
       "      <td>Monday</td>\n",
       "    </tr>\n",
       "    <tr>\n",
       "      <th>5</th>\n",
       "      <td>842029A1</td>\n",
       "      <td>Преданная</td>\n",
       "      <td>IMPERVTOR</td>\n",
       "      <td>rusrap</td>\n",
       "      <td>Saint-Petersburg</td>\n",
       "      <td>13:09:41</td>\n",
       "      <td>Friday</td>\n",
       "    </tr>\n",
       "    <tr>\n",
       "      <th>9</th>\n",
       "      <td>E772D5C0</td>\n",
       "      <td>Pessimist</td>\n",
       "      <td>unknown</td>\n",
       "      <td>dance</td>\n",
       "      <td>Saint-Petersburg</td>\n",
       "      <td>21:20:49</td>\n",
       "      <td>Wednesday</td>\n",
       "    </tr>\n",
       "  </tbody>\n",
       "</table>\n",
       "</div>"
      ],
      "text/plain": [
       "    user_id                  track            artist   genre  \\\n",
       "0  FFB692EC      Kamigata To Boots  The Mass Missile    rock   \n",
       "2    20EC38      Funiculì funiculà       Mario Lanza     pop   \n",
       "3  A3DD03C9  Dragons in the Sunset        Fire + Ice    folk   \n",
       "5  842029A1              Преданная         IMPERVTOR  rusrap   \n",
       "9  E772D5C0              Pessimist           unknown   dance   \n",
       "\n",
       "               city      time        day  \n",
       "0  Saint-Petersburg  20:28:33  Wednesday  \n",
       "2  Saint-Petersburg  20:58:07  Wednesday  \n",
       "3  Saint-Petersburg  08:37:09     Monday  \n",
       "5  Saint-Petersburg  13:09:41     Friday  \n",
       "9  Saint-Petersburg  21:20:49  Wednesday  "
      ]
     },
     "execution_count": 26,
     "metadata": {},
     "output_type": "execute_result"
    }
   ],
   "source": [
    "# выделим данные по Санкт-Петербургу и сохраним в переменную spb_general\n",
    "spb_general = df[df['city'] == 'Saint-Petersburg'] \n",
    "# вывод первых строк таблицы\n",
    "spb_general.head(5)"
   ]
  },
  {
   "cell_type": "code",
   "execution_count": 27,
   "metadata": {
    "id": "laJT9BYl_Zcu"
   },
   "outputs": [],
   "source": [
    "# создадим функцию, которая вернет информацию о самых популярных жанрах в указанный день в заданное время\n",
    "def genre_weekday(table, day, time1, time2):\n",
    "    genre_df = table[(table['day'] == day) & (table['time'] > time1) & (table['time'] < time2)]\n",
    "    genre_df_count = genre_df.groupby('genre')['user_id'].count()\n",
    "    genre_df_sorted =  genre_df_count.sort_values(ascending=False)\n",
    "    return genre_df_sorted.head(10)"
   ]
  },
  {
   "cell_type": "markdown",
   "metadata": {
    "id": "la2s2_PF_Zcu"
   },
   "source": [
    "Сравним результаты функции `genre_weekday()` для Москвы и Санкт-Петербурга в понедельник утром (с 7:00 до 11:00) и в пятницу вечером (с 17:00 до 23:00):"
   ]
  },
  {
   "cell_type": "code",
   "execution_count": 28,
   "metadata": {
    "id": "yz7itPUQ_Zcu"
   },
   "outputs": [
    {
     "data": {
      "text/plain": [
       "genre\n",
       "pop            781\n",
       "dance          549\n",
       "electronic     480\n",
       "rock           474\n",
       "hiphop         286\n",
       "ruspop         186\n",
       "world          181\n",
       "rusrap         175\n",
       "alternative    164\n",
       "unknown        161\n",
       "Name: user_id, dtype: int64"
      ]
     },
     "execution_count": 28,
     "metadata": {},
     "output_type": "execute_result"
    }
   ],
   "source": [
    "# вызов функции для утра понедельника в Москве\n",
    "genre_weekday(moscow_general, 'Monday', '07:00', '11:00') "
   ]
  },
  {
   "cell_type": "code",
   "execution_count": 29,
   "metadata": {
    "id": "kwUcHPdy_Zcu"
   },
   "outputs": [
    {
     "data": {
      "text/plain": [
       "genre\n",
       "pop            218\n",
       "dance          182\n",
       "rock           162\n",
       "electronic     147\n",
       "hiphop          80\n",
       "ruspop          64\n",
       "alternative     58\n",
       "rusrap          55\n",
       "jazz            44\n",
       "classical       40\n",
       "Name: user_id, dtype: int64"
      ]
     },
     "execution_count": 29,
     "metadata": {},
     "output_type": "execute_result"
    }
   ],
   "source": [
    "# вызов функции для утра понедельника в Санкт-Петербурге \n",
    "genre_weekday(spb_general, 'Monday', '07:00', '11:00') "
   ]
  },
  {
   "cell_type": "code",
   "execution_count": 30,
   "metadata": {
    "id": "EzXVRE1o_Zcu"
   },
   "outputs": [
    {
     "data": {
      "text/plain": [
       "genre\n",
       "pop            713\n",
       "rock           517\n",
       "dance          495\n",
       "electronic     482\n",
       "hiphop         273\n",
       "world          208\n",
       "ruspop         170\n",
       "alternative    163\n",
       "classical      163\n",
       "rusrap         142\n",
       "Name: user_id, dtype: int64"
      ]
     },
     "execution_count": 30,
     "metadata": {},
     "output_type": "execute_result"
    }
   ],
   "source": [
    "# вызов функции для вечера пятницы в Москве\n",
    "genre_weekday(moscow_general, 'Friday', '17:00', '23:00') "
   ]
  },
  {
   "cell_type": "code",
   "execution_count": 31,
   "metadata": {
    "id": "JZaEKu5v_Zcu"
   },
   "outputs": [
    {
     "data": {
      "text/plain": [
       "genre\n",
       "pop            256\n",
       "electronic     216\n",
       "rock           216\n",
       "dance          210\n",
       "hiphop          97\n",
       "alternative     63\n",
       "jazz            61\n",
       "classical       60\n",
       "rusrap          59\n",
       "world           54\n",
       "Name: user_id, dtype: int64"
      ]
     },
     "execution_count": 31,
     "metadata": {},
     "output_type": "execute_result"
    }
   ],
   "source": [
    "# вызов функции для вечера пятницы в Санкт-Петербурге\n",
    "genre_weekday(spb_general, 'Friday', '17:00', '23:00') "
   ]
  },
  {
   "cell_type": "markdown",
   "metadata": {
    "id": "wrCe4MNX_Zcu"
   },
   "source": [
    "**Выводы**\n",
    "\n",
    "Если сравнить топ-10 жанров в понедельник утром, можно сделать такие выводы:\n",
    "\n",
    "1. В Москве и Петербурге слушают похожую музыку. Единственное отличие — в московский рейтинг вошёл жанр “world”, а в петербургский — джаз и классика.\n",
    "\n",
    "2. В Москве пропущенных значений оказалось так много, что значение `'unknown'` заняло десятое место среди самых популярных жанров. Значит, пропущенные значения занимают существенную долю в данных и угрожают достоверности исследования.\n",
    "\n",
    "Вечер пятницы не меняет эту картину. Некоторые жанры поднимаются немного выше, другие спускаются, но в целом топ-10 остаётся тем же самым.\n",
    "\n",
    "Таким образом, вторая гипотеза подтвердилась лишь частично:\n",
    "* Пользователи слушают похожую музыку в начале недели и в конце.\n",
    "* Разница между Москвой и Петербургом не слишком выражена. В Москве чаще слушают русскую популярную музыку, в Петербурге — джаз.\n",
    "\n",
    "Однако пропуски в данных ставят под сомнение этот результат. В Москве их так много, что рейтинг топ-10 мог бы выглядеть иначе, если бы не утерянные  данные о жанрах."
   ]
  },
  {
   "cell_type": "markdown",
   "metadata": {
    "id": "JolODAqr_Zcu"
   },
   "source": [
    "### Жанровые предпочтения в Москве и Петербурге\n",
    "\n",
    "Гипотеза: Петербург — столица рэпа, музыку этого жанра там слушают чаще, чем в Москве.  А Москва — город контрастов, в котором, тем не менее, преобладает поп-музыка."
   ]
  },
  {
   "cell_type": "code",
   "execution_count": 32,
   "metadata": {
    "id": "r19lIPke_Zcu"
   },
   "outputs": [
    {
     "data": {
      "text/plain": [
       "genre\n",
       "pop            5892\n",
       "dance          4435\n",
       "rock           3965\n",
       "electronic     3786\n",
       "hiphop         2096\n",
       "classical      1616\n",
       "world          1432\n",
       "alternative    1379\n",
       "ruspop         1372\n",
       "rusrap         1161\n",
       "Name: genre, dtype: int64"
      ]
     },
     "execution_count": 32,
     "metadata": {},
     "output_type": "execute_result"
    }
   ],
   "source": [
    "# сгруппируем таблицу moscow_general по столбцу 'genre' и посчитаем количество треков каждого жанра\n",
    "moscow_general_groupby = moscow_general.groupby('genre')['genre'].count()\n",
    "# отсортируем данные по убыванию количества \n",
    "moscow_genres = moscow_general_groupby.sort_values(ascending=False) \n",
    "# просмотр первых 10 строк moscow_genres\n",
    "moscow_genres.head(10)"
   ]
  },
  {
   "cell_type": "code",
   "execution_count": 33,
   "metadata": {
    "id": "gluLIpE7_Zcv"
   },
   "outputs": [
    {
     "data": {
      "text/plain": [
       "genre\n",
       "pop            2431\n",
       "dance          1932\n",
       "rock           1879\n",
       "electronic     1736\n",
       "hiphop          960\n",
       "alternative     649\n",
       "classical       646\n",
       "rusrap          564\n",
       "ruspop          538\n",
       "world           515\n",
       "Name: genre, dtype: int64"
      ]
     },
     "execution_count": 33,
     "metadata": {},
     "output_type": "execute_result"
    }
   ],
   "source": [
    "# сгруппируем таблицу spb_general по столбцу 'genre' и посчитаем количество треков каждого жанра\n",
    "spb_general_groupby = spb_general.groupby('genre')['genre'].count() \n",
    "# отсортируем данные в порядке убывания\n",
    "spb_genres = spb_general_groupby.sort_values(ascending=False) \n",
    "# просмотр первых 10 строк spb_genres\n",
    "spb_genres.head(10) "
   ]
  },
  {
   "cell_type": "markdown",
   "metadata": {
    "id": "RY51YJYu_Zcv"
   },
   "source": [
    "**Выводы**"
   ]
  },
  {
   "cell_type": "markdown",
   "metadata": {
    "id": "nVhnJEm__Zcv"
   },
   "source": [
    "Гипотеза частично подтвердилась:\n",
    "* Поп-музыка — самый популярный жанр в Москве, как и предполагала гипотеза. Более того, в топ-10 жанров встречается близкий жанр — русская популярная музыка.\n",
    "* Вопреки ожиданиям, рэп одинаково популярен в Москве и Петербурге. \n"
   ]
  },
  {
   "cell_type": "markdown",
   "metadata": {
    "id": "ykKQ0N65_Zcv"
   },
   "source": [
    "## Вывод"
   ]
  },
  {
   "cell_type": "markdown",
   "metadata": {
    "id": "tjUwbHb3_Zcv"
   },
   "source": [
    "Мы проверили три гипотезы и установили:\n",
    "\n",
    "1. День недели по-разному влияет на активность пользователей в Москве и Петербурге. \n",
    "\n",
    "Первая гипотеза полностью подтвердилась.\n",
    "\n",
    "2. Музыкальные предпочтения не сильно меняются в течение недели — будь то Москва или Петербург. Небольшие различия заметны в начале недели, по понедельникам:\n",
    "* в Москве слушают музыку жанра “world”,\n",
    "* в Петербурге — джаз и классику.\n",
    "\n",
    "Таким образом, вторая гипотеза подтвердилась лишь отчасти. Этот результат мог оказаться иным, если бы не пропуски в данных.\n",
    "\n",
    "3. Во вкусах пользователей Москвы и Петербурга больше общего чем различий. Вопреки ожиданиям, предпочтения жанров в Петербурге напоминают московские.\n",
    "\n",
    "Третья гипотеза не подтвердилась. Если различия в предпочтениях и существуют, на основной массе пользователей они незаметны."
   ]
  }
 ],
 "metadata": {
  "ExecuteTimeLog": [
   {
    "duration": 46,
    "start_time": "2022-04-15T10:42:55.256Z"
   },
   {
    "duration": 6,
    "start_time": "2022-04-15T10:43:06.132Z"
   },
   {
    "duration": 383,
    "start_time": "2022-04-15T10:43:16.628Z"
   },
   {
    "duration": 148,
    "start_time": "2022-04-15T10:43:18.780Z"
   },
   {
    "duration": 31,
    "start_time": "2022-04-15T10:43:25.842Z"
   },
   {
    "duration": 17,
    "start_time": "2022-04-15T10:43:43.719Z"
   },
   {
    "duration": 32,
    "start_time": "2022-04-15T10:44:14.644Z"
   },
   {
    "duration": 4,
    "start_time": "2022-04-15T10:44:27.300Z"
   },
   {
    "duration": 12,
    "start_time": "2022-04-15T10:44:34.227Z"
   },
   {
    "duration": 5,
    "start_time": "2022-04-15T10:44:46.080Z"
   },
   {
    "duration": 25,
    "start_time": "2022-04-15T10:44:53.478Z"
   },
   {
    "duration": 90,
    "start_time": "2022-04-15T10:51:03.835Z"
   },
   {
    "duration": 1620,
    "start_time": "2022-04-15T12:30:38.335Z"
   },
   {
    "duration": 7,
    "start_time": "2022-04-15T12:30:53.124Z"
   },
   {
    "duration": 1405,
    "start_time": "2022-04-15T12:35:22.848Z"
   },
   {
    "duration": 1499,
    "start_time": "2022-04-15T12:36:04.990Z"
   },
   {
    "duration": 1449,
    "start_time": "2022-04-15T12:38:01.760Z"
   },
   {
    "duration": 1438,
    "start_time": "2022-04-15T12:41:45.368Z"
   },
   {
    "duration": 1821,
    "start_time": "2022-04-15T12:42:17.328Z"
   },
   {
    "duration": 1378,
    "start_time": "2022-04-15T12:48:57.682Z"
   },
   {
    "duration": 5,
    "start_time": "2022-04-15T12:49:11.689Z"
   },
   {
    "duration": 6,
    "start_time": "2022-04-15T12:50:02.944Z"
   },
   {
    "duration": 4,
    "start_time": "2022-04-15T12:50:19.062Z"
   },
   {
    "duration": 5,
    "start_time": "2022-04-15T12:50:34.039Z"
   },
   {
    "duration": 1447,
    "start_time": "2022-04-15T12:52:18.381Z"
   },
   {
    "duration": 1636,
    "start_time": "2022-04-15T12:58:16.397Z"
   },
   {
    "duration": 8,
    "start_time": "2022-04-15T12:59:12.188Z"
   },
   {
    "duration": 1577,
    "start_time": "2022-04-15T13:04:36.735Z"
   },
   {
    "duration": 1480,
    "start_time": "2022-04-15T13:05:34.486Z"
   },
   {
    "duration": 11,
    "start_time": "2022-04-15T13:06:31.992Z"
   },
   {
    "duration": 8,
    "start_time": "2022-04-15T13:06:41.998Z"
   },
   {
    "duration": 7,
    "start_time": "2022-04-15T13:06:49.408Z"
   },
   {
    "duration": 7,
    "start_time": "2022-04-15T13:07:19.182Z"
   },
   {
    "duration": 21,
    "start_time": "2022-04-15T13:07:50.358Z"
   },
   {
    "duration": 15,
    "start_time": "2022-04-15T13:08:54.679Z"
   },
   {
    "duration": 15,
    "start_time": "2022-04-15T13:11:01.477Z"
   },
   {
    "duration": 15,
    "start_time": "2022-04-15T13:11:08.361Z"
   },
   {
    "duration": 14,
    "start_time": "2022-04-15T13:11:15.452Z"
   },
   {
    "duration": 14,
    "start_time": "2022-04-15T13:12:00.982Z"
   },
   {
    "duration": 14,
    "start_time": "2022-04-15T13:12:07.965Z"
   },
   {
    "duration": 15,
    "start_time": "2022-04-15T13:12:35.979Z"
   },
   {
    "duration": 19,
    "start_time": "2022-04-15T13:13:07.818Z"
   },
   {
    "duration": 10,
    "start_time": "2022-04-15T13:13:17.192Z"
   },
   {
    "duration": 12,
    "start_time": "2022-04-15T13:21:09.412Z"
   },
   {
    "duration": 2425,
    "start_time": "2022-04-15T13:22:24.075Z"
   },
   {
    "duration": 1483,
    "start_time": "2022-04-15T13:22:39.595Z"
   },
   {
    "duration": 1670,
    "start_time": "2022-04-15T13:22:53.068Z"
   },
   {
    "duration": 12,
    "start_time": "2022-04-15T13:25:44.805Z"
   },
   {
    "duration": 14,
    "start_time": "2022-04-15T13:26:19.822Z"
   },
   {
    "duration": 23,
    "start_time": "2022-04-15T13:28:16.059Z"
   },
   {
    "duration": 25,
    "start_time": "2022-04-15T13:29:02.536Z"
   },
   {
    "duration": 19,
    "start_time": "2022-04-15T13:29:24.486Z"
   },
   {
    "duration": 17,
    "start_time": "2022-04-15T13:29:27.032Z"
   },
   {
    "duration": 8,
    "start_time": "2022-04-15T13:29:30.007Z"
   },
   {
    "duration": 21,
    "start_time": "2022-04-15T13:31:19.835Z"
   },
   {
    "duration": 24,
    "start_time": "2022-04-15T13:32:02.474Z"
   },
   {
    "duration": 70,
    "start_time": "2022-04-15T13:39:57.587Z"
   },
   {
    "duration": 70,
    "start_time": "2022-04-15T13:48:06.598Z"
   },
   {
    "duration": 96,
    "start_time": "2022-04-15T13:50:38.106Z"
   },
   {
    "duration": 77,
    "start_time": "2022-04-15T13:50:41.089Z"
   },
   {
    "duration": 66,
    "start_time": "2022-04-15T13:51:25.323Z"
   },
   {
    "duration": 88,
    "start_time": "2022-04-15T13:52:27.699Z"
   },
   {
    "duration": 63,
    "start_time": "2022-04-15T13:52:46.004Z"
   },
   {
    "duration": 70,
    "start_time": "2022-04-15T13:53:46.254Z"
   },
   {
    "duration": 71,
    "start_time": "2022-04-15T13:53:50.776Z"
   },
   {
    "duration": 75,
    "start_time": "2022-04-15T13:54:02.839Z"
   },
   {
    "duration": 62,
    "start_time": "2022-04-15T13:54:21.004Z"
   },
   {
    "duration": 5,
    "start_time": "2022-04-15T13:56:37.539Z"
   },
   {
    "duration": 3,
    "start_time": "2022-04-15T13:57:14.810Z"
   },
   {
    "duration": 6,
    "start_time": "2022-04-15T13:57:17.367Z"
   },
   {
    "duration": 8,
    "start_time": "2022-04-15T13:57:22.547Z"
   },
   {
    "duration": 7,
    "start_time": "2022-04-15T13:57:52.865Z"
   },
   {
    "duration": 103,
    "start_time": "2022-04-15T13:58:15.748Z"
   },
   {
    "duration": 7,
    "start_time": "2022-04-15T13:58:22.738Z"
   },
   {
    "duration": 8,
    "start_time": "2022-04-15T13:59:54.063Z"
   },
   {
    "duration": 7,
    "start_time": "2022-04-15T14:00:00.658Z"
   },
   {
    "duration": 6,
    "start_time": "2022-04-15T14:00:49.311Z"
   },
   {
    "duration": 8,
    "start_time": "2022-04-15T14:01:44.644Z"
   },
   {
    "duration": 8,
    "start_time": "2022-04-15T14:01:56.968Z"
   },
   {
    "duration": 9,
    "start_time": "2022-04-15T14:03:03.708Z"
   },
   {
    "duration": 7,
    "start_time": "2022-04-15T14:03:17.355Z"
   },
   {
    "duration": 3,
    "start_time": "2022-04-15T14:03:33.919Z"
   },
   {
    "duration": 7,
    "start_time": "2022-04-15T14:06:25.493Z"
   },
   {
    "duration": 6,
    "start_time": "2022-04-15T14:06:30.555Z"
   },
   {
    "duration": 6,
    "start_time": "2022-04-15T14:06:42.831Z"
   },
   {
    "duration": 8,
    "start_time": "2022-04-15T14:07:09.425Z"
   },
   {
    "duration": 2,
    "start_time": "2022-04-15T14:07:58.865Z"
   },
   {
    "duration": 7,
    "start_time": "2022-04-15T14:09:20.261Z"
   },
   {
    "duration": 6,
    "start_time": "2022-04-15T14:10:15.455Z"
   },
   {
    "duration": 7,
    "start_time": "2022-04-15T14:10:22.940Z"
   },
   {
    "duration": 7,
    "start_time": "2022-04-15T14:11:06.937Z"
   },
   {
    "duration": 6,
    "start_time": "2022-04-15T14:11:14.846Z"
   },
   {
    "duration": 7,
    "start_time": "2022-04-15T14:11:24.415Z"
   },
   {
    "duration": 6,
    "start_time": "2022-04-15T14:12:13.734Z"
   },
   {
    "duration": 7,
    "start_time": "2022-04-15T14:12:19.788Z"
   },
   {
    "duration": 7,
    "start_time": "2022-04-15T14:12:46.989Z"
   },
   {
    "duration": 7,
    "start_time": "2022-04-15T14:12:49.510Z"
   },
   {
    "duration": 2,
    "start_time": "2022-04-15T14:13:19.093Z"
   },
   {
    "duration": 7,
    "start_time": "2022-04-15T14:15:35.682Z"
   },
   {
    "duration": 7,
    "start_time": "2022-04-15T14:16:14.926Z"
   },
   {
    "duration": 7,
    "start_time": "2022-04-15T14:18:42.689Z"
   },
   {
    "duration": 8,
    "start_time": "2022-04-15T14:18:44.892Z"
   },
   {
    "duration": 7,
    "start_time": "2022-04-15T14:18:49.472Z"
   },
   {
    "duration": 2,
    "start_time": "2022-04-15T14:18:58.569Z"
   },
   {
    "duration": 7,
    "start_time": "2022-04-15T14:19:34.104Z"
   },
   {
    "duration": 7,
    "start_time": "2022-04-15T14:19:47.271Z"
   },
   {
    "duration": 7,
    "start_time": "2022-04-15T14:19:51.931Z"
   },
   {
    "duration": 7,
    "start_time": "2022-04-15T14:20:01.825Z"
   },
   {
    "duration": 3,
    "start_time": "2022-04-15T14:20:54.834Z"
   },
   {
    "duration": 150,
    "start_time": "2022-04-15T14:20:57.053Z"
   },
   {
    "duration": 11,
    "start_time": "2022-04-15T14:20:58.896Z"
   },
   {
    "duration": 30,
    "start_time": "2022-04-15T14:21:01.551Z"
   },
   {
    "duration": 6,
    "start_time": "2022-04-15T14:21:05.937Z"
   },
   {
    "duration": 9,
    "start_time": "2022-04-15T14:21:09.020Z"
   },
   {
    "duration": 4,
    "start_time": "2022-04-15T14:21:11.760Z"
   },
   {
    "duration": 19,
    "start_time": "2022-04-15T14:21:17.626Z"
   },
   {
    "duration": 25,
    "start_time": "2022-04-15T14:21:20.686Z"
   },
   {
    "duration": 62,
    "start_time": "2022-04-15T14:21:23.475Z"
   },
   {
    "duration": 74,
    "start_time": "2022-04-15T14:21:30.278Z"
   },
   {
    "duration": 58,
    "start_time": "2022-04-15T14:21:34.805Z"
   },
   {
    "duration": 7,
    "start_time": "2022-04-15T14:22:03.017Z"
   },
   {
    "duration": 9,
    "start_time": "2022-04-15T14:26:37.760Z"
   },
   {
    "duration": 7,
    "start_time": "2022-04-15T14:26:47.138Z"
   },
   {
    "duration": 49,
    "start_time": "2022-04-17T15:38:32.931Z"
   },
   {
    "duration": 8,
    "start_time": "2022-04-17T15:39:47.979Z"
   },
   {
    "duration": 11,
    "start_time": "2022-04-17T15:40:01.647Z"
   },
   {
    "duration": 7,
    "start_time": "2022-04-17T15:40:22.841Z"
   },
   {
    "duration": 369,
    "start_time": "2022-04-17T15:40:30.111Z"
   },
   {
    "duration": 210,
    "start_time": "2022-04-17T15:40:31.803Z"
   },
   {
    "duration": 17,
    "start_time": "2022-04-17T15:40:33.715Z"
   },
   {
    "duration": 32,
    "start_time": "2022-04-17T15:40:36.770Z"
   },
   {
    "duration": 4,
    "start_time": "2022-04-17T15:40:45.986Z"
   },
   {
    "duration": 14,
    "start_time": "2022-04-17T15:40:48.697Z"
   },
   {
    "duration": 4,
    "start_time": "2022-04-17T15:40:50.572Z"
   },
   {
    "duration": 26,
    "start_time": "2022-04-17T15:40:54.879Z"
   },
   {
    "duration": 21,
    "start_time": "2022-04-17T15:40:58.371Z"
   },
   {
    "duration": 28,
    "start_time": "2022-04-17T15:41:01.295Z"
   },
   {
    "duration": 68,
    "start_time": "2022-04-17T15:41:04.147Z"
   },
   {
    "duration": 102,
    "start_time": "2022-04-17T15:41:05.877Z"
   },
   {
    "duration": 63,
    "start_time": "2022-04-17T15:41:08.799Z"
   },
   {
    "duration": 8,
    "start_time": "2022-04-17T15:41:10.610Z"
   },
   {
    "duration": 30,
    "start_time": "2022-04-17T15:42:12.146Z"
   },
   {
    "duration": 10,
    "start_time": "2022-04-17T15:43:06.745Z"
   },
   {
    "duration": 11,
    "start_time": "2022-04-17T15:47:12.437Z"
   },
   {
    "duration": 10,
    "start_time": "2022-04-17T15:47:47.524Z"
   },
   {
    "duration": 7,
    "start_time": "2022-04-17T15:48:10.668Z"
   },
   {
    "duration": 25,
    "start_time": "2022-04-17T15:50:39.000Z"
   },
   {
    "duration": 4,
    "start_time": "2022-04-17T15:51:09.455Z"
   },
   {
    "duration": 26,
    "start_time": "2022-04-17T15:51:11.487Z"
   },
   {
    "duration": 5,
    "start_time": "2022-04-17T15:51:45.805Z"
   },
   {
    "duration": 8,
    "start_time": "2022-04-17T15:55:08.620Z"
   },
   {
    "duration": 38,
    "start_time": "2022-04-17T15:59:37.208Z"
   },
   {
    "duration": 13,
    "start_time": "2022-04-17T16:06:05.237Z"
   },
   {
    "duration": 15,
    "start_time": "2022-04-17T16:06:23.405Z"
   },
   {
    "duration": 35,
    "start_time": "2022-04-17T16:07:01.312Z"
   },
   {
    "duration": 13,
    "start_time": "2022-04-18T05:53:28.015Z"
   },
   {
    "duration": 5,
    "start_time": "2022-04-18T05:53:33.306Z"
   },
   {
    "duration": 5,
    "start_time": "2022-04-18T05:56:38.482Z"
   },
   {
    "duration": 65,
    "start_time": "2022-04-18T06:01:33.076Z"
   },
   {
    "duration": 8,
    "start_time": "2022-04-18T06:01:56.990Z"
   },
   {
    "duration": 11,
    "start_time": "2022-04-18T06:02:07.279Z"
   },
   {
    "duration": 483,
    "start_time": "2022-04-18T06:02:40.123Z"
   },
   {
    "duration": 219,
    "start_time": "2022-04-18T06:02:41.619Z"
   },
   {
    "duration": 27,
    "start_time": "2022-04-18T06:02:43.264Z"
   },
   {
    "duration": 45,
    "start_time": "2022-04-18T06:02:46.669Z"
   },
   {
    "duration": 6,
    "start_time": "2022-04-18T06:02:50.188Z"
   },
   {
    "duration": 19,
    "start_time": "2022-04-18T06:02:52.547Z"
   },
   {
    "duration": 6,
    "start_time": "2022-04-18T06:02:54.560Z"
   },
   {
    "duration": 36,
    "start_time": "2022-04-18T06:02:56.432Z"
   },
   {
    "duration": 26,
    "start_time": "2022-04-18T06:02:59.249Z"
   },
   {
    "duration": 35,
    "start_time": "2022-04-18T06:03:01.458Z"
   },
   {
    "duration": 107,
    "start_time": "2022-04-18T06:03:04.211Z"
   },
   {
    "duration": 144,
    "start_time": "2022-04-18T06:03:06.060Z"
   },
   {
    "duration": 98,
    "start_time": "2022-04-18T06:03:08.865Z"
   },
   {
    "duration": 12,
    "start_time": "2022-04-18T06:03:10.798Z"
   },
   {
    "duration": 5,
    "start_time": "2022-04-18T06:03:13.903Z"
   },
   {
    "duration": 35,
    "start_time": "2022-04-18T06:03:18.250Z"
   },
   {
    "duration": 12,
    "start_time": "2022-04-18T06:03:20.773Z"
   },
   {
    "duration": 58,
    "start_time": "2022-04-18T06:03:24.099Z"
   },
   {
    "duration": 49,
    "start_time": "2022-04-18T06:03:26.605Z"
   },
   {
    "duration": 6,
    "start_time": "2022-04-18T06:03:36.841Z"
   },
   {
    "duration": 17,
    "start_time": "2022-04-18T06:03:43.845Z"
   },
   {
    "duration": 14,
    "start_time": "2022-04-18T06:03:58.013Z"
   },
   {
    "duration": 6,
    "start_time": "2022-04-18T06:04:30.962Z"
   },
   {
    "duration": 26,
    "start_time": "2022-04-18T06:04:32.969Z"
   },
   {
    "duration": 24,
    "start_time": "2022-04-18T06:04:34.961Z"
   },
   {
    "duration": 22,
    "start_time": "2022-04-18T06:04:42.615Z"
   },
   {
    "duration": 23,
    "start_time": "2022-04-18T06:04:47.764Z"
   },
   {
    "duration": 24,
    "start_time": "2022-04-18T06:04:54.400Z"
   },
   {
    "duration": 24,
    "start_time": "2022-04-18T06:05:06.167Z"
   },
   {
    "duration": 46,
    "start_time": "2022-04-18T06:06:40.256Z"
   },
   {
    "duration": 10,
    "start_time": "2022-04-18T06:06:58.433Z"
   },
   {
    "duration": 3,
    "start_time": "2022-04-18T06:07:33.138Z"
   },
   {
    "duration": 10,
    "start_time": "2022-04-18T06:19:00.041Z"
   },
   {
    "duration": 10,
    "start_time": "2022-04-18T06:31:09.923Z"
   },
   {
    "duration": 11,
    "start_time": "2022-04-18T06:32:11.504Z"
   },
   {
    "duration": 10,
    "start_time": "2022-04-18T06:35:25.481Z"
   },
   {
    "duration": 10,
    "start_time": "2022-04-18T06:35:30.450Z"
   },
   {
    "duration": 11,
    "start_time": "2022-04-18T06:35:37.298Z"
   },
   {
    "duration": 12,
    "start_time": "2022-04-18T06:35:50.632Z"
   },
   {
    "duration": 20,
    "start_time": "2022-04-18T06:35:59.707Z"
   },
   {
    "duration": 11,
    "start_time": "2022-04-18T06:40:03.295Z"
   },
   {
    "duration": 7,
    "start_time": "2022-04-18T06:40:19.256Z"
   },
   {
    "duration": 5,
    "start_time": "2022-04-18T06:40:36.625Z"
   },
   {
    "duration": 5,
    "start_time": "2022-04-18T06:40:38.419Z"
   },
   {
    "duration": 11,
    "start_time": "2022-04-18T06:41:54.320Z"
   },
   {
    "duration": 11,
    "start_time": "2022-04-18T06:42:04.767Z"
   },
   {
    "duration": 3,
    "start_time": "2022-04-18T06:42:26.563Z"
   },
   {
    "duration": 17,
    "start_time": "2022-04-18T06:47:39.552Z"
   },
   {
    "duration": 21,
    "start_time": "2022-04-18T06:49:16.185Z"
   },
   {
    "duration": 3,
    "start_time": "2022-04-18T06:53:35.261Z"
   },
   {
    "duration": 17,
    "start_time": "2022-04-18T07:07:24.365Z"
   },
   {
    "duration": 18,
    "start_time": "2022-04-18T07:08:52.327Z"
   },
   {
    "duration": 14,
    "start_time": "2022-04-18T07:10:17.494Z"
   },
   {
    "duration": 15,
    "start_time": "2022-04-18T07:15:49.617Z"
   },
   {
    "duration": 13,
    "start_time": "2022-04-18T07:17:48.204Z"
   },
   {
    "duration": 12,
    "start_time": "2022-04-18T07:19:19.857Z"
   },
   {
    "duration": 11,
    "start_time": "2022-04-18T07:24:45.100Z"
   },
   {
    "duration": 12,
    "start_time": "2022-04-18T07:28:09.096Z"
   },
   {
    "duration": 8,
    "start_time": "2022-04-18T07:59:19.581Z"
   },
   {
    "duration": 6,
    "start_time": "2022-04-18T07:59:23.065Z"
   },
   {
    "duration": 12,
    "start_time": "2022-04-18T07:59:28.086Z"
   },
   {
    "duration": 13,
    "start_time": "2022-04-18T07:59:41.656Z"
   },
   {
    "duration": 5,
    "start_time": "2022-04-18T08:00:18.002Z"
   },
   {
    "duration": 5,
    "start_time": "2022-04-18T08:01:38.157Z"
   },
   {
    "duration": 5,
    "start_time": "2022-04-18T08:01:40.294Z"
   },
   {
    "duration": 6,
    "start_time": "2022-04-18T08:01:57.482Z"
   },
   {
    "duration": 149,
    "start_time": "2022-04-18T08:02:24.382Z"
   },
   {
    "duration": 143,
    "start_time": "2022-04-18T08:02:31.167Z"
   },
   {
    "duration": 5,
    "start_time": "2022-04-18T08:07:31.404Z"
   },
   {
    "duration": 8,
    "start_time": "2022-04-18T08:09:53.750Z"
   },
   {
    "duration": 6,
    "start_time": "2022-04-18T08:15:41.072Z"
   },
   {
    "duration": 2270,
    "start_time": "2022-04-18T08:18:24.301Z"
   },
   {
    "duration": 0,
    "start_time": "2022-04-18T08:18:26.574Z"
   },
   {
    "duration": 6,
    "start_time": "2022-04-18T08:19:42.464Z"
   },
   {
    "duration": 2404,
    "start_time": "2022-04-18T08:19:45.239Z"
   },
   {
    "duration": 11,
    "start_time": "2022-04-18T08:21:12.445Z"
   },
   {
    "duration": 2642,
    "start_time": "2022-04-18T08:21:14.552Z"
   },
   {
    "duration": 6,
    "start_time": "2022-04-18T08:23:52.887Z"
   },
   {
    "duration": 2244,
    "start_time": "2022-04-18T08:23:55.299Z"
   },
   {
    "duration": 6,
    "start_time": "2022-04-18T08:24:34.003Z"
   },
   {
    "duration": 2378,
    "start_time": "2022-04-18T08:24:36.457Z"
   },
   {
    "duration": 2327,
    "start_time": "2022-04-18T08:33:13.589Z"
   },
   {
    "duration": 4,
    "start_time": "2022-04-18T08:33:44.991Z"
   },
   {
    "duration": 210,
    "start_time": "2022-04-18T08:33:46.745Z"
   },
   {
    "duration": 16,
    "start_time": "2022-04-18T08:33:48.862Z"
   },
   {
    "duration": 43,
    "start_time": "2022-04-18T08:33:51.035Z"
   },
   {
    "duration": 6,
    "start_time": "2022-04-18T08:33:54.411Z"
   },
   {
    "duration": 12,
    "start_time": "2022-04-18T08:33:57.188Z"
   },
   {
    "duration": 5,
    "start_time": "2022-04-18T08:33:59.241Z"
   },
   {
    "duration": 48,
    "start_time": "2022-04-18T08:34:01.084Z"
   },
   {
    "duration": 37,
    "start_time": "2022-04-18T08:34:04.256Z"
   },
   {
    "duration": 35,
    "start_time": "2022-04-18T08:34:06.058Z"
   },
   {
    "duration": 106,
    "start_time": "2022-04-18T08:34:10.164Z"
   },
   {
    "duration": 133,
    "start_time": "2022-04-18T08:34:11.885Z"
   },
   {
    "duration": 93,
    "start_time": "2022-04-18T08:34:14.525Z"
   },
   {
    "duration": 12,
    "start_time": "2022-04-18T08:34:16.414Z"
   },
   {
    "duration": 4,
    "start_time": "2022-04-18T08:34:19.684Z"
   },
   {
    "duration": 35,
    "start_time": "2022-04-18T08:34:21.215Z"
   },
   {
    "duration": 11,
    "start_time": "2022-04-18T08:34:23.607Z"
   },
   {
    "duration": 51,
    "start_time": "2022-04-18T08:34:27.219Z"
   },
   {
    "duration": 53,
    "start_time": "2022-04-18T08:34:29.526Z"
   },
   {
    "duration": 7,
    "start_time": "2022-04-18T08:34:34.420Z"
   },
   {
    "duration": 26,
    "start_time": "2022-04-18T08:34:40.141Z"
   },
   {
    "duration": 31,
    "start_time": "2022-04-18T08:34:41.665Z"
   },
   {
    "duration": 32,
    "start_time": "2022-04-18T08:34:43.244Z"
   },
   {
    "duration": 20,
    "start_time": "2022-04-18T08:34:44.833Z"
   },
   {
    "duration": 25,
    "start_time": "2022-04-18T08:34:46.299Z"
   },
   {
    "duration": 22,
    "start_time": "2022-04-18T08:34:47.892Z"
   },
   {
    "duration": 29,
    "start_time": "2022-04-18T08:34:51.004Z"
   },
   {
    "duration": 12,
    "start_time": "2022-04-18T08:34:54.249Z"
   },
   {
    "duration": 16,
    "start_time": "2022-04-18T08:34:56.017Z"
   },
   {
    "duration": 6,
    "start_time": "2022-04-18T08:34:58.307Z"
   },
   {
    "duration": 2298,
    "start_time": "2022-04-18T08:35:02.514Z"
   },
   {
    "duration": 2541,
    "start_time": "2022-04-18T08:35:57.458Z"
   },
   {
    "duration": 2773,
    "start_time": "2022-04-18T08:36:17.007Z"
   },
   {
    "duration": 3361,
    "start_time": "2022-04-18T08:37:34.519Z"
   },
   {
    "duration": 15,
    "start_time": "2022-04-18T08:45:22.318Z"
   },
   {
    "duration": 12,
    "start_time": "2022-04-18T08:45:28.676Z"
   },
   {
    "duration": 16,
    "start_time": "2022-04-18T08:45:36.618Z"
   },
   {
    "duration": 6,
    "start_time": "2022-04-18T08:45:51.836Z"
   },
   {
    "duration": 2505,
    "start_time": "2022-04-18T08:45:56.168Z"
   },
   {
    "duration": 5,
    "start_time": "2022-04-18T08:46:44.563Z"
   },
   {
    "duration": 4062,
    "start_time": "2022-04-18T08:46:50.574Z"
   },
   {
    "duration": 0,
    "start_time": "2022-04-18T08:46:54.638Z"
   },
   {
    "duration": 0,
    "start_time": "2022-04-18T08:46:54.641Z"
   },
   {
    "duration": 0,
    "start_time": "2022-04-18T08:46:54.642Z"
   },
   {
    "duration": 0,
    "start_time": "2022-04-18T08:46:54.644Z"
   },
   {
    "duration": 0,
    "start_time": "2022-04-18T08:46:54.645Z"
   },
   {
    "duration": 18,
    "start_time": "2022-04-18T08:47:14.084Z"
   },
   {
    "duration": 24,
    "start_time": "2022-04-18T08:47:25.855Z"
   },
   {
    "duration": 4,
    "start_time": "2022-04-18T08:47:37.414Z"
   },
   {
    "duration": 195,
    "start_time": "2022-04-18T08:47:39.208Z"
   },
   {
    "duration": 16,
    "start_time": "2022-04-18T08:47:40.849Z"
   },
   {
    "duration": 60,
    "start_time": "2022-04-18T08:47:44.051Z"
   },
   {
    "duration": 6,
    "start_time": "2022-04-18T08:47:49.894Z"
   },
   {
    "duration": 16,
    "start_time": "2022-04-18T08:47:54.343Z"
   },
   {
    "duration": 6,
    "start_time": "2022-04-18T08:47:56.712Z"
   },
   {
    "duration": 67,
    "start_time": "2022-04-18T08:47:59.856Z"
   },
   {
    "duration": 38,
    "start_time": "2022-04-18T08:48:03.877Z"
   },
   {
    "duration": 51,
    "start_time": "2022-04-18T08:48:06.327Z"
   },
   {
    "duration": 116,
    "start_time": "2022-04-18T08:48:09.672Z"
   },
   {
    "duration": 200,
    "start_time": "2022-04-18T08:48:14.185Z"
   },
   {
    "duration": 143,
    "start_time": "2022-04-18T08:48:18.668Z"
   },
   {
    "duration": 17,
    "start_time": "2022-04-18T08:48:21.302Z"
   },
   {
    "duration": 6,
    "start_time": "2022-04-18T08:48:25.372Z"
   },
   {
    "duration": 114,
    "start_time": "2022-04-18T08:48:27.528Z"
   },
   {
    "duration": 15,
    "start_time": "2022-04-18T08:48:29.858Z"
   },
   {
    "duration": 50,
    "start_time": "2022-04-18T08:48:59.232Z"
   },
   {
    "duration": 77,
    "start_time": "2022-04-18T08:49:13.193Z"
   },
   {
    "duration": 6,
    "start_time": "2022-04-18T08:49:29.908Z"
   },
   {
    "duration": 35,
    "start_time": "2022-04-18T08:49:35.219Z"
   },
   {
    "duration": 34,
    "start_time": "2022-04-18T08:49:40.249Z"
   },
   {
    "duration": 24,
    "start_time": "2022-04-18T08:49:42.050Z"
   },
   {
    "duration": 32,
    "start_time": "2022-04-18T08:49:43.712Z"
   },
   {
    "duration": 36,
    "start_time": "2022-04-18T08:49:45.449Z"
   },
   {
    "duration": 34,
    "start_time": "2022-04-18T08:49:47.061Z"
   },
   {
    "duration": 19,
    "start_time": "2022-04-18T08:49:58.166Z"
   },
   {
    "duration": 7,
    "start_time": "2022-04-18T08:54:48.074Z"
   },
   {
    "duration": 12,
    "start_time": "2022-04-18T08:54:56.752Z"
   },
   {
    "duration": 32,
    "start_time": "2022-04-18T08:55:22.210Z"
   },
   {
    "duration": 28,
    "start_time": "2022-04-18T08:55:29.326Z"
   },
   {
    "duration": 6,
    "start_time": "2022-04-18T08:55:35.797Z"
   },
   {
    "duration": 27,
    "start_time": "2022-04-18T08:55:39.706Z"
   },
   {
    "duration": 16,
    "start_time": "2022-04-18T08:56:29.339Z"
   },
   {
    "duration": 32,
    "start_time": "2022-04-18T08:57:24.307Z"
   },
   {
    "duration": 1990,
    "start_time": "2022-04-18T08:57:35.071Z"
   },
   {
    "duration": 33,
    "start_time": "2022-04-18T08:57:42.476Z"
   },
   {
    "duration": 7,
    "start_time": "2022-04-18T08:57:49.335Z"
   },
   {
    "duration": 20,
    "start_time": "2022-04-18T08:57:52.541Z"
   },
   {
    "duration": 4,
    "start_time": "2022-04-18T08:58:11.566Z"
   },
   {
    "duration": 7,
    "start_time": "2022-04-18T08:59:04.060Z"
   },
   {
    "duration": 6,
    "start_time": "2022-04-18T09:16:15.548Z"
   },
   {
    "duration": 19,
    "start_time": "2022-04-18T09:16:18.001Z"
   },
   {
    "duration": 209,
    "start_time": "2022-04-18T09:17:43.260Z"
   },
   {
    "duration": 5,
    "start_time": "2022-04-18T09:17:50.735Z"
   },
   {
    "duration": 25,
    "start_time": "2022-04-18T09:17:53.217Z"
   },
   {
    "duration": 16,
    "start_time": "2022-04-18T10:23:19.041Z"
   },
   {
    "duration": 33,
    "start_time": "2022-04-18T10:25:30.411Z"
   },
   {
    "duration": 22,
    "start_time": "2022-04-18T10:25:45.367Z"
   },
   {
    "duration": 150,
    "start_time": "2022-04-18T10:37:54.335Z"
   },
   {
    "duration": 45,
    "start_time": "2022-04-18T10:38:08.163Z"
   },
   {
    "duration": 78,
    "start_time": "2022-04-18T10:46:23.733Z"
   },
   {
    "duration": 79,
    "start_time": "2022-04-18T10:46:57.559Z"
   },
   {
    "duration": 72,
    "start_time": "2022-04-18T10:47:13.716Z"
   },
   {
    "duration": 16,
    "start_time": "2022-04-18T10:47:59.055Z"
   },
   {
    "duration": 17,
    "start_time": "2022-04-18T10:58:04.953Z"
   },
   {
    "duration": 13,
    "start_time": "2022-04-18T10:58:23.625Z"
   },
   {
    "duration": 40,
    "start_time": "2022-04-18T10:58:51.146Z"
   },
   {
    "duration": 40,
    "start_time": "2022-04-18T10:59:18.386Z"
   },
   {
    "duration": 51,
    "start_time": "2022-04-18T11:00:14.475Z"
   },
   {
    "duration": 49,
    "start_time": "2022-04-18T11:00:20.452Z"
   },
   {
    "duration": 17,
    "start_time": "2022-04-18T11:00:28.032Z"
   },
   {
    "duration": 4,
    "start_time": "2022-04-18T11:00:41.926Z"
   },
   {
    "duration": 3,
    "start_time": "2022-04-18T11:01:10.115Z"
   },
   {
    "duration": 4,
    "start_time": "2022-04-18T11:01:18.397Z"
   },
   {
    "duration": 3,
    "start_time": "2022-04-18T11:01:22.905Z"
   },
   {
    "duration": 34,
    "start_time": "2022-04-18T11:17:13.222Z"
   },
   {
    "duration": 15,
    "start_time": "2022-04-18T11:17:57.104Z"
   },
   {
    "duration": 13,
    "start_time": "2022-04-18T11:18:04.091Z"
   },
   {
    "duration": 15,
    "start_time": "2022-04-18T11:18:21.731Z"
   },
   {
    "duration": 7,
    "start_time": "2022-04-18T11:18:48.222Z"
   },
   {
    "duration": 12,
    "start_time": "2022-04-18T11:19:12.139Z"
   },
   {
    "duration": 13,
    "start_time": "2022-04-18T11:19:34.121Z"
   },
   {
    "duration": 25,
    "start_time": "2022-04-18T11:20:06.627Z"
   },
   {
    "duration": 22,
    "start_time": "2022-04-18T11:20:13.571Z"
   },
   {
    "duration": 18,
    "start_time": "2022-04-18T11:20:27.675Z"
   },
   {
    "duration": 10,
    "start_time": "2022-04-18T11:20:55.552Z"
   },
   {
    "duration": 13,
    "start_time": "2022-04-18T11:24:57.745Z"
   },
   {
    "duration": 10,
    "start_time": "2022-04-18T11:25:12.462Z"
   },
   {
    "duration": 3,
    "start_time": "2022-04-18T11:25:40.707Z"
   },
   {
    "duration": 16,
    "start_time": "2022-04-18T11:39:46.227Z"
   },
   {
    "duration": 7,
    "start_time": "2022-04-18T11:43:26.728Z"
   },
   {
    "duration": 7,
    "start_time": "2022-04-18T11:44:28.441Z"
   },
   {
    "duration": 7,
    "start_time": "2022-04-18T11:45:10.881Z"
   },
   {
    "duration": 7,
    "start_time": "2022-04-18T11:45:13.016Z"
   },
   {
    "duration": 12,
    "start_time": "2022-04-18T11:46:13.166Z"
   },
   {
    "duration": 11,
    "start_time": "2022-04-18T11:47:55.065Z"
   },
   {
    "duration": 4,
    "start_time": "2022-04-18T11:49:13.313Z"
   },
   {
    "duration": 255,
    "start_time": "2022-04-18T11:49:15.110Z"
   },
   {
    "duration": 22,
    "start_time": "2022-04-18T11:49:16.949Z"
   },
   {
    "duration": 70,
    "start_time": "2022-04-18T11:49:19.581Z"
   },
   {
    "duration": 8,
    "start_time": "2022-04-18T11:49:22.880Z"
   },
   {
    "duration": 12,
    "start_time": "2022-04-18T11:49:25.325Z"
   },
   {
    "duration": 6,
    "start_time": "2022-04-18T11:49:26.863Z"
   },
   {
    "duration": 55,
    "start_time": "2022-04-18T11:49:28.499Z"
   },
   {
    "duration": 38,
    "start_time": "2022-04-18T11:49:30.688Z"
   },
   {
    "duration": 57,
    "start_time": "2022-04-18T11:49:32.723Z"
   },
   {
    "duration": 98,
    "start_time": "2022-04-18T11:49:35.205Z"
   },
   {
    "duration": 125,
    "start_time": "2022-04-18T11:49:36.922Z"
   },
   {
    "duration": 90,
    "start_time": "2022-04-18T11:49:39.595Z"
   },
   {
    "duration": 12,
    "start_time": "2022-04-18T11:49:41.391Z"
   },
   {
    "duration": 4,
    "start_time": "2022-04-18T11:49:44.136Z"
   },
   {
    "duration": 34,
    "start_time": "2022-04-18T11:49:46.397Z"
   },
   {
    "duration": 11,
    "start_time": "2022-04-18T11:49:48.034Z"
   },
   {
    "duration": 48,
    "start_time": "2022-04-18T11:49:51.418Z"
   },
   {
    "duration": 49,
    "start_time": "2022-04-18T11:49:54.241Z"
   },
   {
    "duration": 5,
    "start_time": "2022-04-18T11:49:57.879Z"
   },
   {
    "duration": 24,
    "start_time": "2022-04-18T11:50:01.069Z"
   },
   {
    "duration": 20,
    "start_time": "2022-04-18T11:50:02.854Z"
   },
   {
    "duration": 20,
    "start_time": "2022-04-18T11:50:04.526Z"
   },
   {
    "duration": 24,
    "start_time": "2022-04-18T11:50:08.256Z"
   },
   {
    "duration": 21,
    "start_time": "2022-04-18T11:50:09.852Z"
   },
   {
    "duration": 12,
    "start_time": "2022-04-18T11:50:12.546Z"
   },
   {
    "duration": 30,
    "start_time": "2022-04-18T11:50:15.931Z"
   },
   {
    "duration": 31,
    "start_time": "2022-04-18T11:50:19.595Z"
   },
   {
    "duration": 6,
    "start_time": "2022-04-18T11:50:22.392Z"
   },
   {
    "duration": 25,
    "start_time": "2022-04-18T11:50:29.909Z"
   },
   {
    "duration": 17,
    "start_time": "2022-04-18T11:50:33.836Z"
   },
   {
    "duration": 24,
    "start_time": "2022-04-18T11:50:35.605Z"
   },
   {
    "duration": 21,
    "start_time": "2022-04-18T11:50:37.917Z"
   },
   {
    "duration": 15,
    "start_time": "2022-04-18T11:50:41.859Z"
   },
   {
    "duration": 7,
    "start_time": "2022-04-18T11:50:44.868Z"
   },
   {
    "duration": 12,
    "start_time": "2022-04-18T11:51:20.786Z"
   },
   {
    "duration": 8,
    "start_time": "2022-04-18T11:51:41.853Z"
   },
   {
    "duration": 397,
    "start_time": "2022-04-20T22:40:27.317Z"
   },
   {
    "duration": 155,
    "start_time": "2022-04-20T22:40:27.716Z"
   },
   {
    "duration": 24,
    "start_time": "2022-04-20T22:40:27.873Z"
   },
   {
    "duration": 34,
    "start_time": "2022-04-20T22:40:27.899Z"
   },
   {
    "duration": 5,
    "start_time": "2022-04-20T22:40:27.935Z"
   },
   {
    "duration": 14,
    "start_time": "2022-04-20T22:40:27.942Z"
   },
   {
    "duration": 36,
    "start_time": "2022-04-20T22:40:27.958Z"
   },
   {
    "duration": 28,
    "start_time": "2022-04-20T22:40:27.996Z"
   },
   {
    "duration": 18,
    "start_time": "2022-04-20T22:40:28.026Z"
   },
   {
    "duration": 46,
    "start_time": "2022-04-20T22:40:28.047Z"
   },
   {
    "duration": 64,
    "start_time": "2022-04-20T22:40:28.095Z"
   },
   {
    "duration": 105,
    "start_time": "2022-04-20T22:40:28.161Z"
   },
   {
    "duration": 79,
    "start_time": "2022-04-20T22:40:28.268Z"
   },
   {
    "duration": 9,
    "start_time": "2022-04-20T22:40:28.349Z"
   },
   {
    "duration": 3,
    "start_time": "2022-04-20T22:40:28.361Z"
   },
   {
    "duration": 46,
    "start_time": "2022-04-20T22:40:28.366Z"
   },
   {
    "duration": 9,
    "start_time": "2022-04-20T22:40:28.414Z"
   },
   {
    "duration": 34,
    "start_time": "2022-04-20T22:40:28.425Z"
   },
   {
    "duration": 58,
    "start_time": "2022-04-20T22:40:28.462Z"
   },
   {
    "duration": 4,
    "start_time": "2022-04-20T22:40:28.522Z"
   },
   {
    "duration": 22,
    "start_time": "2022-04-20T22:40:28.528Z"
   },
   {
    "duration": 41,
    "start_time": "2022-04-20T22:40:28.552Z"
   },
   {
    "duration": 17,
    "start_time": "2022-04-20T22:40:28.595Z"
   },
   {
    "duration": 17,
    "start_time": "2022-04-20T22:40:28.615Z"
   },
   {
    "duration": 20,
    "start_time": "2022-04-20T22:40:28.634Z"
   },
   {
    "duration": 49,
    "start_time": "2022-04-20T22:40:28.655Z"
   },
   {
    "duration": 66,
    "start_time": "2022-04-20T22:40:28.706Z"
   },
   {
    "duration": 0,
    "start_time": "2022-04-20T22:40:28.775Z"
   },
   {
    "duration": 0,
    "start_time": "2022-04-20T22:40:28.793Z"
   },
   {
    "duration": 0,
    "start_time": "2022-04-20T22:40:28.795Z"
   },
   {
    "duration": 0,
    "start_time": "2022-04-20T22:40:28.796Z"
   },
   {
    "duration": 0,
    "start_time": "2022-04-20T22:40:28.798Z"
   },
   {
    "duration": 0,
    "start_time": "2022-04-20T22:40:28.800Z"
   },
   {
    "duration": 0,
    "start_time": "2022-04-20T22:40:28.801Z"
   },
   {
    "duration": 0,
    "start_time": "2022-04-20T22:40:28.803Z"
   },
   {
    "duration": 0,
    "start_time": "2022-04-20T22:40:28.804Z"
   },
   {
    "duration": 0,
    "start_time": "2022-04-20T22:40:28.805Z"
   },
   {
    "duration": 0,
    "start_time": "2022-04-20T22:40:28.806Z"
   },
   {
    "duration": 25,
    "start_time": "2022-04-20T22:49:25.201Z"
   },
   {
    "duration": 53,
    "start_time": "2022-04-21T05:53:03.838Z"
   },
   {
    "duration": 453,
    "start_time": "2022-04-21T06:55:50.812Z"
   },
   {
    "duration": 1867,
    "start_time": "2022-04-21T06:55:53.158Z"
   },
   {
    "duration": 19,
    "start_time": "2022-04-21T06:55:55.417Z"
   },
   {
    "duration": 12,
    "start_time": "2022-04-21T06:56:02.059Z"
   },
   {
    "duration": 45,
    "start_time": "2022-04-21T06:56:16.560Z"
   },
   {
    "duration": 5,
    "start_time": "2022-04-21T06:58:21.294Z"
   },
   {
    "duration": 41,
    "start_time": "2022-04-21T06:58:54.538Z"
   },
   {
    "duration": 5,
    "start_time": "2022-04-21T06:59:38.897Z"
   },
   {
    "duration": 29,
    "start_time": "2022-04-21T07:00:35.506Z"
   },
   {
    "duration": 8,
    "start_time": "2022-04-21T07:00:41.252Z"
   },
   {
    "duration": 10,
    "start_time": "2022-04-21T07:08:59.115Z"
   },
   {
    "duration": 5,
    "start_time": "2022-04-21T07:09:40.374Z"
   },
   {
    "duration": 9,
    "start_time": "2022-04-21T07:09:51.870Z"
   },
   {
    "duration": 9,
    "start_time": "2022-04-21T07:13:35.598Z"
   },
   {
    "duration": 10,
    "start_time": "2022-04-21T07:15:11.663Z"
   },
   {
    "duration": 2503,
    "start_time": "2022-04-21T07:15:23.198Z"
   },
   {
    "duration": 0,
    "start_time": "2022-04-21T07:15:25.703Z"
   },
   {
    "duration": 4,
    "start_time": "2022-04-21T07:15:27.021Z"
   },
   {
    "duration": 9,
    "start_time": "2022-04-21T07:15:31.351Z"
   },
   {
    "duration": 2407,
    "start_time": "2022-04-21T07:17:09.076Z"
   },
   {
    "duration": 15,
    "start_time": "2022-04-21T07:21:33.751Z"
   },
   {
    "duration": 3,
    "start_time": "2022-04-21T07:21:47.193Z"
   },
   {
    "duration": 204,
    "start_time": "2022-04-21T07:21:49.106Z"
   },
   {
    "duration": 12,
    "start_time": "2022-04-21T07:21:50.768Z"
   },
   {
    "duration": 35,
    "start_time": "2022-04-21T07:21:53.878Z"
   },
   {
    "duration": 5,
    "start_time": "2022-04-21T07:22:00.276Z"
   },
   {
    "duration": 12,
    "start_time": "2022-04-21T07:22:07.280Z"
   },
   {
    "duration": 5,
    "start_time": "2022-04-21T07:22:09.290Z"
   },
   {
    "duration": 39,
    "start_time": "2022-04-21T07:22:12.002Z"
   },
   {
    "duration": 30,
    "start_time": "2022-04-21T07:22:14.223Z"
   },
   {
    "duration": 27,
    "start_time": "2022-04-21T07:22:19.071Z"
   },
   {
    "duration": 84,
    "start_time": "2022-04-21T07:22:21.377Z"
   },
   {
    "duration": 117,
    "start_time": "2022-04-21T07:22:23.122Z"
   },
   {
    "duration": 78,
    "start_time": "2022-04-21T07:22:26.127Z"
   },
   {
    "duration": 9,
    "start_time": "2022-04-21T07:22:35.021Z"
   },
   {
    "duration": 4,
    "start_time": "2022-04-21T07:22:40.259Z"
   },
   {
    "duration": 29,
    "start_time": "2022-04-21T07:22:42.702Z"
   },
   {
    "duration": 10,
    "start_time": "2022-04-21T07:22:45.114Z"
   },
   {
    "duration": 14,
    "start_time": "2022-04-21T07:22:52.678Z"
   },
   {
    "duration": 26,
    "start_time": "2022-04-21T07:23:16.122Z"
   },
   {
    "duration": 5,
    "start_time": "2022-04-21T07:23:30.680Z"
   },
   {
    "duration": 20,
    "start_time": "2022-04-21T07:23:33.986Z"
   },
   {
    "duration": 18,
    "start_time": "2022-04-21T07:23:35.778Z"
   },
   {
    "duration": 17,
    "start_time": "2022-04-21T07:23:37.665Z"
   },
   {
    "duration": 16,
    "start_time": "2022-04-21T07:23:39.206Z"
   },
   {
    "duration": 19,
    "start_time": "2022-04-21T07:23:40.659Z"
   },
   {
    "duration": 17,
    "start_time": "2022-04-21T07:23:42.203Z"
   },
   {
    "duration": 9,
    "start_time": "2022-04-21T07:23:45.326Z"
   },
   {
    "duration": 9,
    "start_time": "2022-04-21T07:23:49.581Z"
   },
   {
    "duration": 23,
    "start_time": "2022-04-21T07:24:25.704Z"
   },
   {
    "duration": 20,
    "start_time": "2022-04-21T07:24:28.701Z"
   },
   {
    "duration": 5,
    "start_time": "2022-04-21T07:24:32.607Z"
   },
   {
    "duration": 18,
    "start_time": "2022-04-21T07:24:34.776Z"
   },
   {
    "duration": 15,
    "start_time": "2022-04-21T07:24:37.646Z"
   },
   {
    "duration": 20,
    "start_time": "2022-04-21T07:24:40.064Z"
   },
   {
    "duration": 13,
    "start_time": "2022-04-21T07:24:42.087Z"
   },
   {
    "duration": 11,
    "start_time": "2022-04-21T07:24:46.095Z"
   },
   {
    "duration": 6,
    "start_time": "2022-04-21T07:24:47.671Z"
   },
   {
    "duration": 9,
    "start_time": "2022-04-21T07:24:49.798Z"
   },
   {
    "duration": 6,
    "start_time": "2022-04-21T07:24:51.559Z"
   },
   {
    "duration": 9,
    "start_time": "2022-04-21T07:25:07.662Z"
   },
   {
    "duration": 10,
    "start_time": "2022-04-21T07:29:25.276Z"
   },
   {
    "duration": 13,
    "start_time": "2022-04-21T07:29:48.123Z"
   },
   {
    "duration": 8,
    "start_time": "2022-04-21T12:41:36.418Z"
   },
   {
    "duration": 8,
    "start_time": "2022-04-21T12:41:42.458Z"
   },
   {
    "duration": 81,
    "start_time": "2022-04-24T07:38:25.273Z"
   },
   {
    "duration": 10,
    "start_time": "2022-04-24T07:38:55.609Z"
   },
   {
    "duration": 560,
    "start_time": "2022-04-24T07:39:05.153Z"
   },
   {
    "duration": 233,
    "start_time": "2022-04-24T07:39:07.522Z"
   },
   {
    "duration": 38,
    "start_time": "2022-04-24T07:39:09.669Z"
   },
   {
    "duration": 43,
    "start_time": "2022-04-24T07:39:12.315Z"
   },
   {
    "duration": 147,
    "start_time": "2022-04-24T07:39:23.966Z"
   },
   {
    "duration": 164,
    "start_time": "2022-04-24T07:39:43.645Z"
   },
   {
    "duration": 5,
    "start_time": "2022-04-24T07:40:01.199Z"
   },
   {
    "duration": 14,
    "start_time": "2022-04-24T07:40:03.443Z"
   },
   {
    "duration": 5,
    "start_time": "2022-04-24T07:40:05.562Z"
   },
   {
    "duration": 33,
    "start_time": "2022-04-24T07:40:07.925Z"
   },
   {
    "duration": 36,
    "start_time": "2022-04-24T07:40:11.695Z"
   },
   {
    "duration": 35,
    "start_time": "2022-04-24T07:40:14.409Z"
   },
   {
    "duration": 110,
    "start_time": "2022-04-24T07:40:17.099Z"
   },
   {
    "duration": 138,
    "start_time": "2022-04-24T07:40:19.550Z"
   },
   {
    "duration": 96,
    "start_time": "2022-04-24T07:40:23.615Z"
   },
   {
    "duration": 49,
    "start_time": "2022-04-24T07:40:26.327Z"
   },
   {
    "duration": 15,
    "start_time": "2022-04-24T07:41:27.717Z"
   },
   {
    "duration": 22,
    "start_time": "2022-04-24T07:41:36.125Z"
   },
   {
    "duration": 19,
    "start_time": "2022-04-24T07:41:44.254Z"
   },
   {
    "duration": 12,
    "start_time": "2022-04-24T07:42:04.159Z"
   },
   {
    "duration": 63,
    "start_time": "2022-04-24T07:42:25.153Z"
   },
   {
    "duration": 63,
    "start_time": "2022-04-24T07:42:50.453Z"
   },
   {
    "duration": 155,
    "start_time": "2022-04-24T07:43:02.461Z"
   },
   {
    "duration": 81,
    "start_time": "2022-04-24T07:43:11.765Z"
   },
   {
    "duration": 63,
    "start_time": "2022-04-24T07:43:23.857Z"
   },
   {
    "duration": 18,
    "start_time": "2022-04-24T07:43:37.931Z"
   },
   {
    "duration": 31,
    "start_time": "2022-04-24T07:43:41.883Z"
   },
   {
    "duration": 17,
    "start_time": "2022-04-24T07:43:49.329Z"
   },
   {
    "duration": 14,
    "start_time": "2022-04-24T07:47:28.721Z"
   },
   {
    "duration": 150,
    "start_time": "2022-04-24T08:07:22.924Z"
   },
   {
    "duration": 38,
    "start_time": "2022-04-24T08:08:40.981Z"
   },
   {
    "duration": 222,
    "start_time": "2022-04-24T08:15:11.374Z"
   },
   {
    "duration": 15,
    "start_time": "2022-04-24T08:15:13.899Z"
   },
   {
    "duration": 56,
    "start_time": "2022-04-24T08:22:16.725Z"
   },
   {
    "duration": 6,
    "start_time": "2022-04-24T08:26:30.880Z"
   },
   {
    "duration": 127,
    "start_time": "2022-04-24T08:34:06.055Z"
   },
   {
    "duration": 13,
    "start_time": "2022-04-24T08:40:01.713Z"
   },
   {
    "duration": 3,
    "start_time": "2022-04-24T08:40:16.041Z"
   },
   {
    "duration": 200,
    "start_time": "2022-04-24T08:40:22.720Z"
   },
   {
    "duration": 16,
    "start_time": "2022-04-24T08:40:24.769Z"
   },
   {
    "duration": 40,
    "start_time": "2022-04-24T08:40:30.244Z"
   },
   {
    "duration": 6,
    "start_time": "2022-04-24T08:40:44.433Z"
   },
   {
    "duration": 8,
    "start_time": "2022-04-24T08:40:46.691Z"
   },
   {
    "duration": 6,
    "start_time": "2022-04-24T08:40:48.880Z"
   },
   {
    "duration": 54,
    "start_time": "2022-04-24T08:40:50.676Z"
   },
   {
    "duration": 36,
    "start_time": "2022-04-24T08:40:53.185Z"
   },
   {
    "duration": 54,
    "start_time": "2022-04-24T08:40:55.678Z"
   },
   {
    "duration": 103,
    "start_time": "2022-04-24T08:40:58.104Z"
   },
   {
    "duration": 129,
    "start_time": "2022-04-24T08:41:00.347Z"
   },
   {
    "duration": 89,
    "start_time": "2022-04-24T08:41:03.003Z"
   },
   {
    "duration": 52,
    "start_time": "2022-04-24T08:41:07.266Z"
   },
   {
    "duration": 4,
    "start_time": "2022-04-24T08:41:12.897Z"
   },
   {
    "duration": 34,
    "start_time": "2022-04-24T08:41:15.260Z"
   },
   {
    "duration": 34,
    "start_time": "2022-04-24T08:41:37.100Z"
   },
   {
    "duration": 54,
    "start_time": "2022-04-24T08:41:39.010Z"
   },
   {
    "duration": 18,
    "start_time": "2022-04-24T08:41:46.337Z"
   },
   {
    "duration": 16,
    "start_time": "2022-04-24T08:41:57.101Z"
   },
   {
    "duration": 5,
    "start_time": "2022-04-24T08:42:02.462Z"
   },
   {
    "duration": 24,
    "start_time": "2022-04-24T08:42:07.011Z"
   },
   {
    "duration": 21,
    "start_time": "2022-04-24T08:42:09.228Z"
   },
   {
    "duration": 22,
    "start_time": "2022-04-24T08:42:11.064Z"
   },
   {
    "duration": 27,
    "start_time": "2022-04-24T08:42:13.330Z"
   },
   {
    "duration": 30,
    "start_time": "2022-04-24T08:42:14.972Z"
   },
   {
    "duration": 17,
    "start_time": "2022-04-24T08:42:18.788Z"
   },
   {
    "duration": 42,
    "start_time": "2022-04-24T08:42:27.878Z"
   },
   {
    "duration": 41,
    "start_time": "2022-04-24T08:42:32.194Z"
   },
   {
    "duration": 7,
    "start_time": "2022-04-24T08:42:37.173Z"
   },
   {
    "duration": 21,
    "start_time": "2022-04-24T08:42:39.459Z"
   },
   {
    "duration": 15,
    "start_time": "2022-04-24T08:42:42.025Z"
   },
   {
    "duration": 22,
    "start_time": "2022-04-24T08:42:44.617Z"
   },
   {
    "duration": 14,
    "start_time": "2022-04-24T08:42:46.669Z"
   },
   {
    "duration": 11,
    "start_time": "2022-04-24T08:42:52.726Z"
   },
   {
    "duration": 7,
    "start_time": "2022-04-24T08:42:54.791Z"
   },
   {
    "duration": 8,
    "start_time": "2022-04-24T08:42:57.202Z"
   },
   {
    "duration": 6,
    "start_time": "2022-04-24T08:42:59.654Z"
   },
   {
    "duration": 11,
    "start_time": "2022-04-24T08:55:21.389Z"
   },
   {
    "duration": 41,
    "start_time": "2022-04-24T08:55:31.802Z"
   },
   {
    "duration": 48,
    "start_time": "2022-04-24T08:57:34.710Z"
   },
   {
    "duration": 32,
    "start_time": "2022-04-24T08:57:49.102Z"
   },
   {
    "duration": 48,
    "start_time": "2022-04-24T08:59:26.100Z"
   },
   {
    "duration": 47,
    "start_time": "2022-04-24T09:00:35.452Z"
   },
   {
    "duration": 48,
    "start_time": "2022-04-24T09:00:44.827Z"
   },
   {
    "duration": 34,
    "start_time": "2022-04-24T09:00:49.320Z"
   },
   {
    "duration": 4,
    "start_time": "2022-04-24T09:01:39.955Z"
   },
   {
    "duration": 33,
    "start_time": "2022-04-24T09:02:16.886Z"
   },
   {
    "duration": 56,
    "start_time": "2022-04-24T09:02:20.616Z"
   },
   {
    "duration": 28,
    "start_time": "2022-04-24T09:02:51.796Z"
   },
   {
    "duration": 33,
    "start_time": "2022-04-24T09:02:57.652Z"
   },
   {
    "duration": 6,
    "start_time": "2022-04-24T09:03:02.740Z"
   },
   {
    "duration": 35,
    "start_time": "2022-04-24T09:03:05.119Z"
   },
   {
    "duration": 16,
    "start_time": "2022-04-24T09:03:07.048Z"
   },
   {
    "duration": 35,
    "start_time": "2022-04-24T09:03:09.330Z"
   },
   {
    "duration": 16,
    "start_time": "2022-04-24T09:03:11.293Z"
   },
   {
    "duration": 12,
    "start_time": "2022-04-24T09:05:38.426Z"
   },
   {
    "duration": 3,
    "start_time": "2022-04-24T12:53:39.109Z"
   },
   {
    "duration": 199,
    "start_time": "2022-04-24T12:54:30.145Z"
   },
   {
    "duration": 16,
    "start_time": "2022-04-24T12:54:33.425Z"
   },
   {
    "duration": 41,
    "start_time": "2022-04-24T12:54:40.564Z"
   },
   {
    "duration": 5,
    "start_time": "2022-04-24T12:54:49.815Z"
   },
   {
    "duration": 13,
    "start_time": "2022-04-24T12:54:53.036Z"
   },
   {
    "duration": 6,
    "start_time": "2022-04-24T12:54:55.065Z"
   },
   {
    "duration": 38,
    "start_time": "2022-04-24T12:54:58.287Z"
   },
   {
    "duration": 28,
    "start_time": "2022-04-24T12:55:02.088Z"
   },
   {
    "duration": 34,
    "start_time": "2022-04-24T12:55:04.347Z"
   },
   {
    "duration": 98,
    "start_time": "2022-04-24T12:55:15.588Z"
   },
   {
    "duration": 133,
    "start_time": "2022-04-24T12:55:17.987Z"
   },
   {
    "duration": 87,
    "start_time": "2022-04-24T12:55:21.376Z"
   },
   {
    "duration": 53,
    "start_time": "2022-04-24T12:55:28.364Z"
   },
   {
    "duration": 6,
    "start_time": "2022-04-24T12:55:36.863Z"
   },
   {
    "duration": 38,
    "start_time": "2022-04-24T12:55:41.968Z"
   },
   {
    "duration": 53,
    "start_time": "2022-04-24T12:55:45.050Z"
   },
   {
    "duration": 19,
    "start_time": "2022-04-24T12:55:53.629Z"
   },
   {
    "duration": 17,
    "start_time": "2022-04-24T12:56:00.069Z"
   },
   {
    "duration": 5,
    "start_time": "2022-04-24T12:56:05.128Z"
   },
   {
    "duration": 22,
    "start_time": "2022-04-24T12:56:07.818Z"
   },
   {
    "duration": 20,
    "start_time": "2022-04-24T12:56:09.709Z"
   },
   {
    "duration": 19,
    "start_time": "2022-04-24T12:56:12.103Z"
   },
   {
    "duration": 22,
    "start_time": "2022-04-24T12:56:13.718Z"
   },
   {
    "duration": 23,
    "start_time": "2022-04-24T12:56:15.853Z"
   },
   {
    "duration": 13,
    "start_time": "2022-04-24T12:56:18.034Z"
   },
   {
    "duration": 30,
    "start_time": "2022-04-24T12:56:33.029Z"
   },
   {
    "duration": 27,
    "start_time": "2022-04-24T12:56:37.005Z"
   },
   {
    "duration": 5,
    "start_time": "2022-04-24T12:56:41.369Z"
   },
   {
    "duration": 22,
    "start_time": "2022-04-24T12:56:43.907Z"
   },
   {
    "duration": 16,
    "start_time": "2022-04-24T12:56:46.233Z"
   },
   {
    "duration": 23,
    "start_time": "2022-04-24T12:56:47.719Z"
   },
   {
    "duration": 22,
    "start_time": "2022-04-24T12:56:49.768Z"
   },
   {
    "duration": 18,
    "start_time": "2022-04-24T12:56:54.404Z"
   },
   {
    "duration": 12,
    "start_time": "2022-04-24T12:56:56.502Z"
   },
   {
    "duration": 9,
    "start_time": "2022-04-24T12:56:58.632Z"
   },
   {
    "duration": 7,
    "start_time": "2022-04-24T12:57:00.919Z"
   },
   {
    "duration": 569,
    "start_time": "2022-04-24T19:53:02.799Z"
   },
   {
    "duration": 232,
    "start_time": "2022-04-24T19:53:04.909Z"
   },
   {
    "duration": 28,
    "start_time": "2022-04-24T19:53:07.674Z"
   },
   {
    "duration": 82,
    "start_time": "2022-04-24T19:53:10.458Z"
   },
   {
    "duration": 11,
    "start_time": "2022-04-24T19:53:15.013Z"
   },
   {
    "duration": 14,
    "start_time": "2022-04-24T19:53:17.361Z"
   },
   {
    "duration": 6,
    "start_time": "2022-04-24T19:53:19.011Z"
   },
   {
    "duration": 34,
    "start_time": "2022-04-24T19:53:21.264Z"
   },
   {
    "duration": 27,
    "start_time": "2022-04-24T19:53:23.970Z"
   },
   {
    "duration": 39,
    "start_time": "2022-04-24T19:53:26.468Z"
   },
   {
    "duration": 118,
    "start_time": "2022-04-24T19:53:29.415Z"
   },
   {
    "duration": 146,
    "start_time": "2022-04-24T19:53:31.652Z"
   },
   {
    "duration": 99,
    "start_time": "2022-04-24T19:53:34.611Z"
   },
   {
    "duration": 55,
    "start_time": "2022-04-24T19:53:36.843Z"
   },
   {
    "duration": 4,
    "start_time": "2022-04-24T19:53:43.539Z"
   },
   {
    "duration": 36,
    "start_time": "2022-04-24T19:53:45.956Z"
   },
   {
    "duration": 54,
    "start_time": "2022-04-24T19:53:47.910Z"
   },
   {
    "duration": 19,
    "start_time": "2022-04-24T19:53:58.838Z"
   },
   {
    "duration": 24,
    "start_time": "2022-04-24T19:54:03.407Z"
   },
   {
    "duration": 5,
    "start_time": "2022-04-24T19:54:06.949Z"
   },
   {
    "duration": 30,
    "start_time": "2022-04-24T19:54:08.998Z"
   },
   {
    "duration": 23,
    "start_time": "2022-04-24T19:54:10.761Z"
   },
   {
    "duration": 30,
    "start_time": "2022-04-24T19:54:12.190Z"
   },
   {
    "duration": 28,
    "start_time": "2022-04-24T19:54:12.824Z"
   },
   {
    "duration": 45,
    "start_time": "2022-04-24T19:54:15.333Z"
   },
   {
    "duration": 41,
    "start_time": "2022-04-24T19:54:16.160Z"
   },
   {
    "duration": 14,
    "start_time": "2022-04-24T19:54:19.062Z"
   },
   {
    "duration": 37,
    "start_time": "2022-04-24T19:54:23.685Z"
   },
   {
    "duration": 30,
    "start_time": "2022-04-24T19:54:26.059Z"
   },
   {
    "duration": 6,
    "start_time": "2022-04-24T19:54:29.471Z"
   },
   {
    "duration": 35,
    "start_time": "2022-04-24T19:54:32.747Z"
   },
   {
    "duration": 17,
    "start_time": "2022-04-24T19:54:35.748Z"
   },
   {
    "duration": 16,
    "start_time": "2022-04-24T19:54:53.848Z"
   },
   {
    "duration": 28,
    "start_time": "2022-04-24T19:54:55.970Z"
   },
   {
    "duration": 17,
    "start_time": "2022-04-24T19:55:31.958Z"
   },
   {
    "duration": 33,
    "start_time": "2022-04-24T19:55:34.387Z"
   },
   {
    "duration": 26,
    "start_time": "2022-04-24T19:55:43.025Z"
   },
   {
    "duration": 18,
    "start_time": "2022-04-24T19:55:45.364Z"
   },
   {
    "duration": 35,
    "start_time": "2022-04-24T19:57:07.104Z"
   },
   {
    "duration": 20,
    "start_time": "2022-04-24T19:57:09.288Z"
   },
   {
    "duration": 13,
    "start_time": "2022-04-24T19:57:15.567Z"
   },
   {
    "duration": 7,
    "start_time": "2022-04-24T19:57:17.363Z"
   },
   {
    "duration": 9,
    "start_time": "2022-04-24T19:57:20.832Z"
   },
   {
    "duration": 8,
    "start_time": "2022-04-24T19:57:22.510Z"
   },
   {
    "duration": 46,
    "start_time": "2022-04-24T19:57:46.211Z"
   },
   {
    "duration": 30,
    "start_time": "2022-04-24T19:57:51.009Z"
   },
   {
    "duration": 25,
    "start_time": "2022-04-24T19:57:56.054Z"
   },
   {
    "duration": 17,
    "start_time": "2022-04-24T19:57:58.321Z"
   },
   {
    "duration": 13,
    "start_time": "2022-04-24T19:58:12.725Z"
   },
   {
    "duration": 7,
    "start_time": "2022-04-24T19:58:15.156Z"
   },
   {
    "duration": 10,
    "start_time": "2022-04-24T19:58:18.148Z"
   },
   {
    "duration": 7,
    "start_time": "2022-04-24T19:58:20.121Z"
   },
   {
    "duration": 342,
    "start_time": "2022-11-30T08:38:56.954Z"
   },
   {
    "duration": 218,
    "start_time": "2022-11-30T08:39:14.690Z"
   },
   {
    "duration": 179,
    "start_time": "2022-11-30T08:39:29.279Z"
   },
   {
    "duration": 29,
    "start_time": "2022-11-30T08:39:51.685Z"
   },
   {
    "duration": 171,
    "start_time": "2022-11-30T08:40:15.316Z"
   },
   {
    "duration": 10,
    "start_time": "2022-11-30T08:40:22.274Z"
   },
   {
    "duration": 27,
    "start_time": "2022-11-30T08:40:37.514Z"
   },
   {
    "duration": 8,
    "start_time": "2022-11-30T10:26:12.494Z"
   },
   {
    "duration": 12,
    "start_time": "2022-11-30T10:26:23.979Z"
   },
   {
    "duration": 10,
    "start_time": "2022-11-30T10:26:51.117Z"
   },
   {
    "duration": 24,
    "start_time": "2022-11-30T10:27:33.388Z"
   },
   {
    "duration": 47,
    "start_time": "2022-12-01T07:31:49.982Z"
   },
   {
    "duration": 389,
    "start_time": "2022-12-01T07:31:53.521Z"
   },
   {
    "duration": 487,
    "start_time": "2022-12-01T07:31:53.912Z"
   },
   {
    "duration": 26,
    "start_time": "2022-12-01T07:31:54.401Z"
   },
   {
    "duration": 27,
    "start_time": "2022-12-01T07:35:40.714Z"
   },
   {
    "duration": 23,
    "start_time": "2022-12-01T07:36:32.220Z"
   },
   {
    "duration": 1338,
    "start_time": "2022-12-01T07:37:42.090Z"
   },
   {
    "duration": 386,
    "start_time": "2022-12-01T07:37:59.830Z"
   },
   {
    "duration": 200,
    "start_time": "2022-12-01T07:38:00.218Z"
   },
   {
    "duration": 30,
    "start_time": "2022-12-01T07:38:00.420Z"
   },
   {
    "duration": 41,
    "start_time": "2022-12-01T07:38:00.453Z"
   },
   {
    "duration": 48,
    "start_time": "2022-12-01T07:38:00.496Z"
   },
   {
    "duration": 55,
    "start_time": "2022-12-01T07:38:00.545Z"
   },
   {
    "duration": 47,
    "start_time": "2022-12-01T07:38:00.602Z"
   },
   {
    "duration": 63,
    "start_time": "2022-12-01T07:38:00.651Z"
   },
   {
    "duration": 98,
    "start_time": "2022-12-01T07:38:00.716Z"
   },
   {
    "duration": 94,
    "start_time": "2022-12-01T07:38:00.817Z"
   },
   {
    "duration": 65,
    "start_time": "2022-12-01T07:38:00.913Z"
   },
   {
    "duration": 44,
    "start_time": "2022-12-01T07:38:00.993Z"
   },
   {
    "duration": 3,
    "start_time": "2022-12-01T07:38:01.039Z"
   },
   {
    "duration": 42,
    "start_time": "2022-12-01T07:38:01.044Z"
   },
   {
    "duration": 41,
    "start_time": "2022-12-01T07:38:01.089Z"
   },
   {
    "duration": 11,
    "start_time": "2022-12-01T07:38:01.132Z"
   },
   {
    "duration": 19,
    "start_time": "2022-12-01T07:38:01.144Z"
   },
   {
    "duration": 20,
    "start_time": "2022-12-01T07:38:01.164Z"
   },
   {
    "duration": 23,
    "start_time": "2022-12-01T07:38:01.186Z"
   },
   {
    "duration": 28,
    "start_time": "2022-12-01T07:38:01.210Z"
   },
   {
    "duration": 43,
    "start_time": "2022-12-01T07:38:01.240Z"
   },
   {
    "duration": 39,
    "start_time": "2022-12-01T07:38:01.291Z"
   },
   {
    "duration": 16,
    "start_time": "2022-12-01T07:38:01.333Z"
   },
   {
    "duration": 58,
    "start_time": "2022-12-01T07:38:01.351Z"
   },
   {
    "duration": 10,
    "start_time": "2022-12-01T07:38:01.411Z"
   },
   {
    "duration": 28,
    "start_time": "2022-12-01T07:38:01.423Z"
   },
   {
    "duration": 16,
    "start_time": "2022-12-01T07:38:01.453Z"
   },
   {
    "duration": 27,
    "start_time": "2022-12-01T07:38:01.473Z"
   },
   {
    "duration": 60,
    "start_time": "2022-12-01T07:38:01.502Z"
   },
   {
    "duration": 97,
    "start_time": "2022-12-01T07:38:01.564Z"
   },
   {
    "duration": 57,
    "start_time": "2022-12-01T07:38:01.662Z"
   },
   {
    "duration": 15,
    "start_time": "2022-12-01T07:38:01.721Z"
   },
   {
    "duration": 23,
    "start_time": "2022-12-01T07:38:01.738Z"
   },
   {
    "duration": 50,
    "start_time": "2022-12-01T07:38:01.763Z"
   },
   {
    "duration": 33,
    "start_time": "2022-12-01T07:38:01.815Z"
   },
   {
    "duration": 7,
    "start_time": "2022-12-01T07:38:01.850Z"
   },
   {
    "duration": 15,
    "start_time": "2022-12-01T08:03:17.513Z"
   },
   {
    "duration": 26,
    "start_time": "2022-12-01T08:05:06.653Z"
   },
   {
    "duration": 60,
    "start_time": "2022-12-01T08:05:29.458Z"
   },
   {
    "duration": 384,
    "start_time": "2022-12-01T08:05:36.405Z"
   },
   {
    "duration": 228,
    "start_time": "2022-12-01T08:05:36.791Z"
   },
   {
    "duration": 39,
    "start_time": "2022-12-01T08:05:37.020Z"
   },
   {
    "duration": 19,
    "start_time": "2022-12-01T08:05:37.062Z"
   },
   {
    "duration": 22,
    "start_time": "2022-12-01T08:05:37.082Z"
   },
   {
    "duration": 31,
    "start_time": "2022-12-01T08:05:37.105Z"
   },
   {
    "duration": 17,
    "start_time": "2022-12-01T08:05:37.137Z"
   },
   {
    "duration": 33,
    "start_time": "2022-12-01T08:05:37.156Z"
   },
   {
    "duration": 63,
    "start_time": "2022-12-01T08:05:37.191Z"
   },
   {
    "duration": 109,
    "start_time": "2022-12-01T08:05:37.256Z"
   },
   {
    "duration": 73,
    "start_time": "2022-12-01T08:05:37.367Z"
   },
   {
    "duration": 58,
    "start_time": "2022-12-01T08:05:37.442Z"
   },
   {
    "duration": 3,
    "start_time": "2022-12-01T08:05:37.503Z"
   },
   {
    "duration": 29,
    "start_time": "2022-12-01T08:05:37.508Z"
   },
   {
    "duration": 77,
    "start_time": "2022-12-01T08:05:37.539Z"
   },
   {
    "duration": 16,
    "start_time": "2022-12-01T08:05:37.619Z"
   },
   {
    "duration": 33,
    "start_time": "2022-12-01T08:05:37.637Z"
   },
   {
    "duration": 6,
    "start_time": "2022-12-01T08:05:37.677Z"
   },
   {
    "duration": 23,
    "start_time": "2022-12-01T08:05:37.685Z"
   },
   {
    "duration": 15,
    "start_time": "2022-12-01T08:05:37.711Z"
   },
   {
    "duration": 17,
    "start_time": "2022-12-01T08:05:37.728Z"
   },
   {
    "duration": 40,
    "start_time": "2022-12-01T08:05:37.746Z"
   },
   {
    "duration": 20,
    "start_time": "2022-12-01T08:05:37.787Z"
   },
   {
    "duration": 16,
    "start_time": "2022-12-01T08:05:37.809Z"
   },
   {
    "duration": 9,
    "start_time": "2022-12-01T08:05:37.827Z"
   },
   {
    "duration": 50,
    "start_time": "2022-12-01T08:05:37.837Z"
   },
   {
    "duration": 17,
    "start_time": "2022-12-01T08:05:37.889Z"
   },
   {
    "duration": 4,
    "start_time": "2022-12-01T08:05:37.910Z"
   },
   {
    "duration": 26,
    "start_time": "2022-12-01T08:05:37.916Z"
   },
   {
    "duration": 36,
    "start_time": "2022-12-01T08:05:37.943Z"
   },
   {
    "duration": 23,
    "start_time": "2022-12-01T08:05:37.981Z"
   },
   {
    "duration": 14,
    "start_time": "2022-12-01T08:05:38.006Z"
   },
   {
    "duration": 9,
    "start_time": "2022-12-01T08:05:38.022Z"
   },
   {
    "duration": 4,
    "start_time": "2022-12-01T08:05:38.033Z"
   },
   {
    "duration": 7,
    "start_time": "2022-12-01T08:05:38.039Z"
   },
   {
    "duration": 5,
    "start_time": "2022-12-01T08:05:38.078Z"
   },
   {
    "duration": 85,
    "start_time": "2022-12-01T08:11:50.043Z"
   },
   {
    "duration": 69,
    "start_time": "2022-12-01T08:12:01.240Z"
   },
   {
    "duration": 67,
    "start_time": "2022-12-01T08:12:19.331Z"
   },
   {
    "duration": 46,
    "start_time": "2022-12-01T08:12:50.998Z"
   },
   {
    "duration": 3,
    "start_time": "2022-12-01T08:22:53.713Z"
   },
   {
    "duration": 28,
    "start_time": "2022-12-01T08:22:54.083Z"
   },
   {
    "duration": 37,
    "start_time": "2022-12-01T08:22:54.501Z"
   },
   {
    "duration": 442,
    "start_time": "2022-12-01T08:23:17.443Z"
   },
   {
    "duration": 183,
    "start_time": "2022-12-01T08:23:17.886Z"
   },
   {
    "duration": 32,
    "start_time": "2022-12-01T08:23:18.071Z"
   },
   {
    "duration": 13,
    "start_time": "2022-12-01T08:23:18.105Z"
   },
   {
    "duration": 32,
    "start_time": "2022-12-01T08:23:18.120Z"
   },
   {
    "duration": 37,
    "start_time": "2022-12-01T08:23:18.153Z"
   },
   {
    "duration": 36,
    "start_time": "2022-12-01T08:23:18.191Z"
   },
   {
    "duration": 41,
    "start_time": "2022-12-01T08:23:18.228Z"
   },
   {
    "duration": 65,
    "start_time": "2022-12-01T08:23:18.270Z"
   },
   {
    "duration": 77,
    "start_time": "2022-12-01T08:23:18.337Z"
   },
   {
    "duration": 63,
    "start_time": "2022-12-01T08:23:18.416Z"
   },
   {
    "duration": 37,
    "start_time": "2022-12-01T08:23:18.481Z"
   },
   {
    "duration": 22,
    "start_time": "2022-12-01T08:23:18.519Z"
   },
   {
    "duration": 41,
    "start_time": "2022-12-01T08:23:18.545Z"
   },
   {
    "duration": 55,
    "start_time": "2022-12-01T08:23:18.588Z"
   },
   {
    "duration": 11,
    "start_time": "2022-12-01T08:23:18.644Z"
   },
   {
    "duration": 26,
    "start_time": "2022-12-01T08:23:18.657Z"
   },
   {
    "duration": 40,
    "start_time": "2022-12-01T08:23:18.685Z"
   },
   {
    "duration": 51,
    "start_time": "2022-12-01T08:23:18.727Z"
   },
   {
    "duration": 29,
    "start_time": "2022-12-01T08:23:18.780Z"
   },
   {
    "duration": 45,
    "start_time": "2022-12-01T08:23:18.812Z"
   },
   {
    "duration": 13,
    "start_time": "2022-12-01T08:23:18.858Z"
   },
   {
    "duration": 42,
    "start_time": "2022-12-01T08:23:18.872Z"
   },
   {
    "duration": 41,
    "start_time": "2022-12-01T08:23:18.916Z"
   },
   {
    "duration": 11,
    "start_time": "2022-12-01T08:23:18.959Z"
   },
   {
    "duration": 65,
    "start_time": "2022-12-01T08:23:18.971Z"
   },
   {
    "duration": 36,
    "start_time": "2022-12-01T08:23:19.037Z"
   },
   {
    "duration": 10,
    "start_time": "2022-12-01T08:23:19.075Z"
   },
   {
    "duration": 57,
    "start_time": "2022-12-01T08:23:19.087Z"
   },
   {
    "duration": 29,
    "start_time": "2022-12-01T08:23:19.145Z"
   },
   {
    "duration": 17,
    "start_time": "2022-12-01T08:23:19.176Z"
   },
   {
    "duration": 24,
    "start_time": "2022-12-01T08:23:19.195Z"
   },
   {
    "duration": 12,
    "start_time": "2022-12-01T08:23:19.221Z"
   },
   {
    "duration": 5,
    "start_time": "2022-12-01T08:23:19.234Z"
   },
   {
    "duration": 13,
    "start_time": "2022-12-01T08:23:19.240Z"
   },
   {
    "duration": 8,
    "start_time": "2022-12-01T08:23:19.255Z"
   },
   {
    "duration": 3,
    "start_time": "2022-12-01T08:26:19.894Z"
   },
   {
    "duration": 24,
    "start_time": "2022-12-01T08:26:20.261Z"
   },
   {
    "duration": 39,
    "start_time": "2022-12-01T08:26:20.586Z"
   },
   {
    "duration": 12,
    "start_time": "2022-12-01T08:37:18.595Z"
   },
   {
    "duration": 17,
    "start_time": "2022-12-01T08:38:39.787Z"
   },
   {
    "duration": 17,
    "start_time": "2022-12-01T08:56:58.320Z"
   },
   {
    "duration": 15,
    "start_time": "2022-12-01T08:57:29.613Z"
   },
   {
    "duration": 96,
    "start_time": "2022-12-01T09:11:10.197Z"
   },
   {
    "duration": 3,
    "start_time": "2022-12-01T09:11:13.537Z"
   },
   {
    "duration": 16,
    "start_time": "2022-12-01T09:11:58.673Z"
   },
   {
    "duration": 10,
    "start_time": "2022-12-01T09:12:03.989Z"
   },
   {
    "duration": 16,
    "start_time": "2022-12-01T09:12:07.122Z"
   },
   {
    "duration": 13,
    "start_time": "2022-12-01T09:50:47.400Z"
   },
   {
    "duration": 8,
    "start_time": "2022-12-01T10:37:11.994Z"
   },
   {
    "duration": 9,
    "start_time": "2022-12-01T10:41:51.986Z"
   },
   {
    "duration": 10,
    "start_time": "2022-12-01T10:41:54.957Z"
   },
   {
    "duration": 403,
    "start_time": "2022-12-01T10:47:17.983Z"
   },
   {
    "duration": 177,
    "start_time": "2022-12-01T10:47:18.388Z"
   },
   {
    "duration": 33,
    "start_time": "2022-12-01T10:47:18.567Z"
   },
   {
    "duration": 4,
    "start_time": "2022-12-01T10:47:18.602Z"
   },
   {
    "duration": 13,
    "start_time": "2022-12-01T10:47:18.610Z"
   },
   {
    "duration": 54,
    "start_time": "2022-12-01T10:47:18.625Z"
   },
   {
    "duration": 17,
    "start_time": "2022-12-01T10:47:18.681Z"
   },
   {
    "duration": 25,
    "start_time": "2022-12-01T10:47:18.700Z"
   },
   {
    "duration": 79,
    "start_time": "2022-12-01T10:47:18.727Z"
   },
   {
    "duration": 92,
    "start_time": "2022-12-01T10:47:18.807Z"
   },
   {
    "duration": 56,
    "start_time": "2022-12-01T10:47:18.900Z"
   },
   {
    "duration": 52,
    "start_time": "2022-12-01T10:47:18.958Z"
   },
   {
    "duration": 3,
    "start_time": "2022-12-01T10:47:19.012Z"
   },
   {
    "duration": 30,
    "start_time": "2022-12-01T10:47:19.019Z"
   },
   {
    "duration": 53,
    "start_time": "2022-12-01T10:47:19.051Z"
   },
   {
    "duration": 17,
    "start_time": "2022-12-01T10:47:19.106Z"
   },
   {
    "duration": 15,
    "start_time": "2022-12-01T10:47:19.125Z"
   },
   {
    "duration": 4,
    "start_time": "2022-12-01T10:47:19.142Z"
   },
   {
    "duration": 47,
    "start_time": "2022-12-01T10:47:19.148Z"
   },
   {
    "duration": 20,
    "start_time": "2022-12-01T10:47:19.198Z"
   },
   {
    "duration": 40,
    "start_time": "2022-12-01T10:47:19.220Z"
   },
   {
    "duration": 30,
    "start_time": "2022-12-01T10:47:19.262Z"
   },
   {
    "duration": 18,
    "start_time": "2022-12-01T10:47:19.294Z"
   },
   {
    "duration": 20,
    "start_time": "2022-12-01T10:47:19.314Z"
   },
   {
    "duration": 10,
    "start_time": "2022-12-01T10:47:19.336Z"
   },
   {
    "duration": 46,
    "start_time": "2022-12-01T10:47:19.348Z"
   },
   {
    "duration": 16,
    "start_time": "2022-12-01T10:47:19.395Z"
   },
   {
    "duration": 3,
    "start_time": "2022-12-01T10:47:19.412Z"
   },
   {
    "duration": 17,
    "start_time": "2022-12-01T10:47:19.417Z"
   },
   {
    "duration": 12,
    "start_time": "2022-12-01T10:47:19.435Z"
   },
   {
    "duration": 41,
    "start_time": "2022-12-01T10:47:19.448Z"
   },
   {
    "duration": 10,
    "start_time": "2022-12-01T10:47:19.491Z"
   },
   {
    "duration": 12,
    "start_time": "2022-12-01T10:47:19.502Z"
   },
   {
    "duration": 8,
    "start_time": "2022-12-01T10:47:19.515Z"
   },
   {
    "duration": 23,
    "start_time": "2022-12-01T10:50:26.554Z"
   },
   {
    "duration": 16,
    "start_time": "2022-12-01T10:58:22.694Z"
   },
   {
    "duration": 17,
    "start_time": "2022-12-01T10:58:56.538Z"
   },
   {
    "duration": 447,
    "start_time": "2022-12-01T11:04:02.271Z"
   },
   {
    "duration": 198,
    "start_time": "2022-12-01T11:04:02.719Z"
   },
   {
    "duration": 33,
    "start_time": "2022-12-01T11:04:02.919Z"
   },
   {
    "duration": 26,
    "start_time": "2022-12-01T11:04:02.954Z"
   },
   {
    "duration": 38,
    "start_time": "2022-12-01T11:04:02.982Z"
   },
   {
    "duration": 37,
    "start_time": "2022-12-01T11:04:03.022Z"
   },
   {
    "duration": 23,
    "start_time": "2022-12-01T11:04:03.061Z"
   },
   {
    "duration": 32,
    "start_time": "2022-12-01T11:04:03.086Z"
   },
   {
    "duration": 82,
    "start_time": "2022-12-01T11:04:03.120Z"
   },
   {
    "duration": 90,
    "start_time": "2022-12-01T11:04:03.205Z"
   },
   {
    "duration": 56,
    "start_time": "2022-12-01T11:04:03.297Z"
   },
   {
    "duration": 52,
    "start_time": "2022-12-01T11:04:03.355Z"
   },
   {
    "duration": 23,
    "start_time": "2022-12-01T11:04:03.408Z"
   },
   {
    "duration": 63,
    "start_time": "2022-12-01T11:04:03.432Z"
   },
   {
    "duration": 12,
    "start_time": "2022-12-01T11:04:03.497Z"
   },
   {
    "duration": 11,
    "start_time": "2022-12-01T11:04:03.511Z"
   },
   {
    "duration": 3,
    "start_time": "2022-12-01T11:04:03.523Z"
   },
   {
    "duration": 51,
    "start_time": "2022-12-01T11:04:03.528Z"
   },
   {
    "duration": 21,
    "start_time": "2022-12-01T11:04:03.581Z"
   },
   {
    "duration": 22,
    "start_time": "2022-12-01T11:04:03.604Z"
   },
   {
    "duration": 20,
    "start_time": "2022-12-01T11:04:03.628Z"
   },
   {
    "duration": 41,
    "start_time": "2022-12-01T11:04:03.650Z"
   },
   {
    "duration": 14,
    "start_time": "2022-12-01T11:04:03.694Z"
   },
   {
    "duration": 14,
    "start_time": "2022-12-01T11:04:03.710Z"
   },
   {
    "duration": 21,
    "start_time": "2022-12-01T11:04:03.725Z"
   },
   {
    "duration": 37,
    "start_time": "2022-12-01T11:04:03.747Z"
   },
   {
    "duration": 3,
    "start_time": "2022-12-01T11:04:03.786Z"
   },
   {
    "duration": 17,
    "start_time": "2022-12-01T11:04:03.793Z"
   },
   {
    "duration": 15,
    "start_time": "2022-12-01T11:04:03.812Z"
   },
   {
    "duration": 50,
    "start_time": "2022-12-01T11:04:03.828Z"
   },
   {
    "duration": 15,
    "start_time": "2022-12-01T11:04:03.880Z"
   },
   {
    "duration": 21,
    "start_time": "2022-12-01T11:04:03.897Z"
   },
   {
    "duration": 11,
    "start_time": "2022-12-01T11:04:03.920Z"
   }
  ],
  "colab": {
   "collapsed_sections": [
    "E0vqbgi9ay0H",
    "VUC88oWjTJw2"
   ],
   "name": "yandex_music_project.ipynb",
   "provenance": []
  },
  "kernelspec": {
   "display_name": "Python 3 (ipykernel)",
   "language": "python",
   "name": "python3"
  },
  "language_info": {
   "codemirror_mode": {
    "name": "ipython",
    "version": 3
   },
   "file_extension": ".py",
   "mimetype": "text/x-python",
   "name": "python",
   "nbconvert_exporter": "python",
   "pygments_lexer": "ipython3",
   "version": "3.9.5"
  },
  "toc": {
   "base_numbering": 1,
   "nav_menu": {},
   "number_sections": true,
   "sideBar": true,
   "skip_h1_title": true,
   "title_cell": "Содержание",
   "title_sidebar": "Contents",
   "toc_cell": true,
   "toc_position": {
    "height": "calc(100% - 180px)",
    "left": "10px",
    "top": "150px",
    "width": "289.6px"
   },
   "toc_section_display": true,
   "toc_window_display": true
  }
 },
 "nbformat": 4,
 "nbformat_minor": 1
}
