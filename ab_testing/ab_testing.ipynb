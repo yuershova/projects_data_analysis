{
 "cells": [
  {
   "cell_type": "markdown",
   "metadata": {},
   "source": [
    "# Проверка гипотез по увеличению выручки в интернет-магазине #"
   ]
  },
  {
   "cell_type": "markdown",
   "metadata": {},
   "source": [
    "Аналитики крупного интернет-магазина вместе с отделом маркетинга подготовили список гипотез для увеличения выручки.\n",
    "\n",
    "Необходимо приоритизировать гипотезы, запустить A/B-тест и проанализировать результаты."
   ]
  },
  {
   "cell_type": "markdown",
   "metadata": {
    "toc": true
   },
   "source": [
    "<h1>Содержание<span class=\"tocSkip\"></span></h1>\n",
    "<div class=\"toc\"><ul class=\"toc-item\"><li><span><a href=\"#Обзор-данных\" data-toc-modified-id=\"Обзор-данных-1\"><span class=\"toc-item-num\">1&nbsp;&nbsp;</span>Обзор данных</a></span></li><li><span><a href=\"#Предобработка-данных\" data-toc-modified-id=\"Предобработка-данных-2\"><span class=\"toc-item-num\">2&nbsp;&nbsp;</span>Предобработка данных</a></span><ul class=\"toc-item\"><li><span><a href=\"#Обработка-данных-в-таблице-hypothesis\" data-toc-modified-id=\"Обработка-данных-в-таблице-hypothesis-2.1\"><span class=\"toc-item-num\">2.1&nbsp;&nbsp;</span>Обработка данных в таблице hypothesis</a></span></li><li><span><a href=\"#Обработка-данных-в-таблице-orders\" data-toc-modified-id=\"Обработка-данных-в-таблице-orders-2.2\"><span class=\"toc-item-num\">2.2&nbsp;&nbsp;</span>Обработка данных в таблице orders</a></span></li><li><span><a href=\"#Обработка-данных-в-таблице-visitors\" data-toc-modified-id=\"Обработка-данных-в-таблице-visitors-2.3\"><span class=\"toc-item-num\">2.3&nbsp;&nbsp;</span>Обработка данных в таблице visitors</a></span></li></ul></li><li><span><a href=\"#Приоритизация-гипотез\" data-toc-modified-id=\"Приоритизация-гипотез-3\"><span class=\"toc-item-num\">3&nbsp;&nbsp;</span>Приоритизация гипотез</a></span><ul class=\"toc-item\"><li><span><a href=\"#Применение-фреймворка-ICE-для-приоритизации-гипотез\" data-toc-modified-id=\"Применение-фреймворка-ICE-для-приоритизации-гипотез-3.1\"><span class=\"toc-item-num\">3.1&nbsp;&nbsp;</span>Применение фреймворка ICE для приоритизации гипотез</a></span></li><li><span><a href=\"#Применение-фреймворка-RICE-для-приоритизации-гипотез\" data-toc-modified-id=\"Применение-фреймворка-RICE-для-приоритизации-гипотез-3.2\"><span class=\"toc-item-num\">3.2&nbsp;&nbsp;</span>Применение фреймворка RICE для приоритизации гипотез</a></span></li><li><span><a href=\"#Изменения-в-приоритизации-гипотез-при-применении-RICE-вместо-ICE\" data-toc-modified-id=\"Изменения-в-приоритизации-гипотез-при-применении-RICE-вместо-ICE-3.3\"><span class=\"toc-item-num\">3.3&nbsp;&nbsp;</span>Изменения в приоритизации гипотез при применении RICE вместо ICE</a></span></li></ul></li><li><span><a href=\"#Анализ-A/B-теста\" data-toc-modified-id=\"Анализ-A/B-теста-4\"><span class=\"toc-item-num\">4&nbsp;&nbsp;</span>Анализ A/B-теста</a></span><ul class=\"toc-item\"><li><span><a href=\"#График-кумулятивной-выручки-по-группам\" data-toc-modified-id=\"График-кумулятивной-выручки-по-группам-4.1\"><span class=\"toc-item-num\">4.1&nbsp;&nbsp;</span>График кумулятивной выручки по группам</a></span></li><li><span><a href=\"#График-кумулятивного-среднего-чека-по-группам\" data-toc-modified-id=\"График-кумулятивного-среднего-чека-по-группам-4.2\"><span class=\"toc-item-num\">4.2&nbsp;&nbsp;</span>График кумулятивного среднего чека по группам</a></span></li><li><span><a href=\"#График-относительного-изменения-кумулятивного-среднего-чека-группы-B-к-группе-A\" data-toc-modified-id=\"График-относительного-изменения-кумулятивного-среднего-чека-группы-B-к-группе-A-4.3\"><span class=\"toc-item-num\">4.3&nbsp;&nbsp;</span>График относительного изменения кумулятивного среднего чека группы B к группе A</a></span></li><li><span><a href=\"#График-кумулятивной-конверсии-по-группам\" data-toc-modified-id=\"График-кумулятивной-конверсии-по-группам-4.4\"><span class=\"toc-item-num\">4.4&nbsp;&nbsp;</span>График кумулятивной конверсии по группам</a></span></li><li><span><a href=\"#График-относительного-изменения-кумулятивной-конверсии-группы-B-к-группе-A\" data-toc-modified-id=\"График-относительного-изменения-кумулятивной-конверсии-группы-B-к-группе-A-4.5\"><span class=\"toc-item-num\">4.5&nbsp;&nbsp;</span>График относительного изменения кумулятивной конверсии группы B к группе A</a></span></li><li><span><a href=\"#График-количества-заказов-по-пользователям\" data-toc-modified-id=\"График-количества-заказов-по-пользователям-4.6\"><span class=\"toc-item-num\">4.6&nbsp;&nbsp;</span>График количества заказов по пользователям</a></span></li><li><span><a href=\"#Подсчет-95-го-и-99-го-перцентилей-количества-заказов-на-пользователя\" data-toc-modified-id=\"Подсчет-95-го-и-99-го-перцентилей-количества-заказов-на-пользователя-4.7\"><span class=\"toc-item-num\">4.7&nbsp;&nbsp;</span>Подсчет 95-го и 99-го перцентилей количества заказов на пользователя</a></span></li><li><span><a href=\"#График-стоимостей-заказов\" data-toc-modified-id=\"График-стоимостей-заказов-4.8\"><span class=\"toc-item-num\">4.8&nbsp;&nbsp;</span>График стоимостей заказов</a></span></li><li><span><a href=\"#Подсчет-95-го-и-99-го-перцентилей-стоимости-заказов\" data-toc-modified-id=\"Подсчет-95-го-и-99-го-перцентилей-стоимости-заказов-4.9\"><span class=\"toc-item-num\">4.9&nbsp;&nbsp;</span>Подсчет 95-го и 99-го перцентилей стоимости заказов</a></span></li><li><span><a href=\"#Подсчет-статистической-значимости-различий-в-конверсии-между-группами-по-«сырым»-данным\" data-toc-modified-id=\"Подсчет-статистической-значимости-различий-в-конверсии-между-группами-по-«сырым»-данным-4.10\"><span class=\"toc-item-num\">4.10&nbsp;&nbsp;</span>Подсчет статистической значимости различий в конверсии между группами по «сырым» данным</a></span></li><li><span><a href=\"#Подсчет-статистической-значимости-различий-в-среднем-чеке-заказа-между-группами-по-«сырым»-данным\" data-toc-modified-id=\"Подсчет-статистической-значимости-различий-в-среднем-чеке-заказа-между-группами-по-«сырым»-данным-4.11\"><span class=\"toc-item-num\">4.11&nbsp;&nbsp;</span>Подсчет статистической значимости различий в среднем чеке заказа между группами по «сырым» данным</a></span></li><li><span><a href=\"#Подсчет-статистической-значимости-различий-в-конверсии-между-группами-по-«очищенным»-данным\" data-toc-modified-id=\"Подсчет-статистической-значимости-различий-в-конверсии-между-группами-по-«очищенным»-данным-4.12\"><span class=\"toc-item-num\">4.12&nbsp;&nbsp;</span>Подсчет статистической значимости различий в конверсии между группами по «очищенным» данным</a></span></li><li><span><a href=\"#Подсчет-статистической-значимости-различий-в-среднем-чеке-заказа-между-группами-по-«очищенным»-данным\" data-toc-modified-id=\"Подсчет-статистической-значимости-различий-в-среднем-чеке-заказа-между-группами-по-«очищенным»-данным-4.13\"><span class=\"toc-item-num\">4.13&nbsp;&nbsp;</span>Подсчет статистической значимости различий в среднем чеке заказа между группами по «очищенным» данным</a></span></li></ul></li><li><span><a href=\"#Общий-вывод\" data-toc-modified-id=\"Общий-вывод-5\"><span class=\"toc-item-num\">5&nbsp;&nbsp;</span>Общий вывод</a></span></li></ul></div>"
   ]
  },
  {
   "cell_type": "markdown",
   "metadata": {},
   "source": [
    "## Обзор данных"
   ]
  },
  {
   "cell_type": "code",
   "execution_count": 1,
   "metadata": {},
   "outputs": [],
   "source": [
    "# импорт библиотек\n",
    "import pandas as pd\n",
    "import matplotlib.pyplot as plt\n",
    "import numpy as np\n",
    "import scipy.stats as stats\n",
    "import datetime as dt"
   ]
  },
  {
   "cell_type": "code",
   "execution_count": 2,
   "metadata": {
    "scrolled": true
   },
   "outputs": [
    {
     "data": {
      "text/html": [
       "<div>\n",
       "<style scoped>\n",
       "    .dataframe tbody tr th:only-of-type {\n",
       "        vertical-align: middle;\n",
       "    }\n",
       "\n",
       "    .dataframe tbody tr th {\n",
       "        vertical-align: top;\n",
       "    }\n",
       "\n",
       "    .dataframe thead th {\n",
       "        text-align: right;\n",
       "    }\n",
       "</style>\n",
       "<table border=\"1\" class=\"dataframe\">\n",
       "  <thead>\n",
       "    <tr style=\"text-align: right;\">\n",
       "      <th></th>\n",
       "      <th>Hypothesis</th>\n",
       "      <th>Reach</th>\n",
       "      <th>Impact</th>\n",
       "      <th>Confidence</th>\n",
       "      <th>Efforts</th>\n",
       "    </tr>\n",
       "  </thead>\n",
       "  <tbody>\n",
       "    <tr>\n",
       "      <th>0</th>\n",
       "      <td>Добавить два новых канала привлечения трафика, что позволит привлекать на 30% больше пользователей</td>\n",
       "      <td>3</td>\n",
       "      <td>10</td>\n",
       "      <td>8</td>\n",
       "      <td>6</td>\n",
       "    </tr>\n",
       "    <tr>\n",
       "      <th>1</th>\n",
       "      <td>Запустить собственную службу доставки, что сократит срок доставки заказов</td>\n",
       "      <td>2</td>\n",
       "      <td>5</td>\n",
       "      <td>4</td>\n",
       "      <td>10</td>\n",
       "    </tr>\n",
       "    <tr>\n",
       "      <th>2</th>\n",
       "      <td>Добавить блоки рекомендаций товаров на сайт интернет магазина, чтобы повысить конверсию и средни...</td>\n",
       "      <td>8</td>\n",
       "      <td>3</td>\n",
       "      <td>7</td>\n",
       "      <td>3</td>\n",
       "    </tr>\n",
       "    <tr>\n",
       "      <th>3</th>\n",
       "      <td>Изменить структура категорий, что увеличит конверсию, т.к. пользователи быстрее найдут нужный товар</td>\n",
       "      <td>8</td>\n",
       "      <td>3</td>\n",
       "      <td>3</td>\n",
       "      <td>8</td>\n",
       "    </tr>\n",
       "    <tr>\n",
       "      <th>4</th>\n",
       "      <td>Изменить цвет фона главной страницы, чтобы увеличить вовлеченность пользователей</td>\n",
       "      <td>3</td>\n",
       "      <td>1</td>\n",
       "      <td>1</td>\n",
       "      <td>1</td>\n",
       "    </tr>\n",
       "    <tr>\n",
       "      <th>5</th>\n",
       "      <td>Добавить страницу отзывов клиентов о магазине, что позволит увеличить количество заказов</td>\n",
       "      <td>3</td>\n",
       "      <td>2</td>\n",
       "      <td>2</td>\n",
       "      <td>3</td>\n",
       "    </tr>\n",
       "    <tr>\n",
       "      <th>6</th>\n",
       "      <td>Показать на главной странице баннеры с актуальными акциями и распродажами, чтобы увеличить конве...</td>\n",
       "      <td>5</td>\n",
       "      <td>3</td>\n",
       "      <td>8</td>\n",
       "      <td>3</td>\n",
       "    </tr>\n",
       "    <tr>\n",
       "      <th>7</th>\n",
       "      <td>Добавить форму подписки на все основные страницы, чтобы собрать базу клиентов для email-рассылок</td>\n",
       "      <td>10</td>\n",
       "      <td>7</td>\n",
       "      <td>8</td>\n",
       "      <td>5</td>\n",
       "    </tr>\n",
       "    <tr>\n",
       "      <th>8</th>\n",
       "      <td>Запустить акцию, дающую скидку на товар в день рождения</td>\n",
       "      <td>1</td>\n",
       "      <td>9</td>\n",
       "      <td>9</td>\n",
       "      <td>5</td>\n",
       "    </tr>\n",
       "  </tbody>\n",
       "</table>\n",
       "</div>"
      ],
      "text/plain": [
       "                                                                                            Hypothesis  \\\n",
       "0   Добавить два новых канала привлечения трафика, что позволит привлекать на 30% больше пользователей   \n",
       "1                            Запустить собственную службу доставки, что сократит срок доставки заказов   \n",
       "2  Добавить блоки рекомендаций товаров на сайт интернет магазина, чтобы повысить конверсию и средни...   \n",
       "3  Изменить структура категорий, что увеличит конверсию, т.к. пользователи быстрее найдут нужный товар   \n",
       "4                     Изменить цвет фона главной страницы, чтобы увеличить вовлеченность пользователей   \n",
       "5             Добавить страницу отзывов клиентов о магазине, что позволит увеличить количество заказов   \n",
       "6  Показать на главной странице баннеры с актуальными акциями и распродажами, чтобы увеличить конве...   \n",
       "7     Добавить форму подписки на все основные страницы, чтобы собрать базу клиентов для email-рассылок   \n",
       "8                                              Запустить акцию, дающую скидку на товар в день рождения   \n",
       "\n",
       "   Reach  Impact  Confidence  Efforts  \n",
       "0      3      10           8        6  \n",
       "1      2       5           4       10  \n",
       "2      8       3           7        3  \n",
       "3      8       3           3        8  \n",
       "4      3       1           1        1  \n",
       "5      3       2           2        3  \n",
       "6      5       3           8        3  \n",
       "7     10       7           8        5  \n",
       "8      1       9           9        5  "
      ]
     },
     "execution_count": 2,
     "metadata": {},
     "output_type": "execute_result"
    }
   ],
   "source": [
    "# чтение файла с данными \n",
    "hypothesis = pd.read_csv('/datasets/hypothesis.csv')\n",
    "pd.options.display.max_colwidth = 100\n",
    "# вывод первых строк таблицы\n",
    "hypothesis"
   ]
  },
  {
   "cell_type": "code",
   "execution_count": 3,
   "metadata": {
    "scrolled": true
   },
   "outputs": [
    {
     "name": "stdout",
     "output_type": "stream",
     "text": [
      "<class 'pandas.core.frame.DataFrame'>\n",
      "RangeIndex: 9 entries, 0 to 8\n",
      "Data columns (total 5 columns):\n",
      " #   Column      Non-Null Count  Dtype \n",
      "---  ------      --------------  ----- \n",
      " 0   Hypothesis  9 non-null      object\n",
      " 1   Reach       9 non-null      int64 \n",
      " 2   Impact      9 non-null      int64 \n",
      " 3   Confidence  9 non-null      int64 \n",
      " 4   Efforts     9 non-null      int64 \n",
      "dtypes: int64(4), object(1)\n",
      "memory usage: 488.0+ bytes\n"
     ]
    }
   ],
   "source": [
    "# получение общей информации о данных\n",
    "hypothesis.info()"
   ]
  },
  {
   "cell_type": "markdown",
   "metadata": {},
   "source": [
    "В файле hypothesis приведены 9 гипотез по увеличению выручки интернет-магазина.\n",
    "\n",
    "**Структура hypothesis:**\n",
    "* Hypothesis — краткое описание гипотезы;\n",
    "* Reach — охват пользователей по 10-балльной шкале;\n",
    "* Impact — влияние на пользователей по 10-балльной шкале;\n",
    "* Confidence — уверенность в гипотезе по 10-балльной шкале;\n",
    "* Efforts — затраты ресурсов на проверку гипотезы по 10-балльной шкале. Чем больше значение Efforts, тем дороже проверка гипотезы."
   ]
  },
  {
   "cell_type": "markdown",
   "metadata": {},
   "source": [
    "Результаты проведения А/В теста представлены в файлах orders и visitors."
   ]
  },
  {
   "cell_type": "code",
   "execution_count": 4,
   "metadata": {},
   "outputs": [
    {
     "data": {
      "text/html": [
       "<div>\n",
       "<style scoped>\n",
       "    .dataframe tbody tr th:only-of-type {\n",
       "        vertical-align: middle;\n",
       "    }\n",
       "\n",
       "    .dataframe tbody tr th {\n",
       "        vertical-align: top;\n",
       "    }\n",
       "\n",
       "    .dataframe thead th {\n",
       "        text-align: right;\n",
       "    }\n",
       "</style>\n",
       "<table border=\"1\" class=\"dataframe\">\n",
       "  <thead>\n",
       "    <tr style=\"text-align: right;\">\n",
       "      <th></th>\n",
       "      <th>transactionId</th>\n",
       "      <th>visitorId</th>\n",
       "      <th>date</th>\n",
       "      <th>revenue</th>\n",
       "      <th>group</th>\n",
       "    </tr>\n",
       "  </thead>\n",
       "  <tbody>\n",
       "    <tr>\n",
       "      <th>0</th>\n",
       "      <td>3667963787</td>\n",
       "      <td>3312258926</td>\n",
       "      <td>2019-08-15</td>\n",
       "      <td>1650</td>\n",
       "      <td>B</td>\n",
       "    </tr>\n",
       "    <tr>\n",
       "      <th>1</th>\n",
       "      <td>2804400009</td>\n",
       "      <td>3642806036</td>\n",
       "      <td>2019-08-15</td>\n",
       "      <td>730</td>\n",
       "      <td>B</td>\n",
       "    </tr>\n",
       "    <tr>\n",
       "      <th>2</th>\n",
       "      <td>2961555356</td>\n",
       "      <td>4069496402</td>\n",
       "      <td>2019-08-15</td>\n",
       "      <td>400</td>\n",
       "      <td>A</td>\n",
       "    </tr>\n",
       "    <tr>\n",
       "      <th>3</th>\n",
       "      <td>3797467345</td>\n",
       "      <td>1196621759</td>\n",
       "      <td>2019-08-15</td>\n",
       "      <td>9759</td>\n",
       "      <td>B</td>\n",
       "    </tr>\n",
       "    <tr>\n",
       "      <th>4</th>\n",
       "      <td>2282983706</td>\n",
       "      <td>2322279887</td>\n",
       "      <td>2019-08-15</td>\n",
       "      <td>2308</td>\n",
       "      <td>B</td>\n",
       "    </tr>\n",
       "  </tbody>\n",
       "</table>\n",
       "</div>"
      ],
      "text/plain": [
       "   transactionId   visitorId        date  revenue group\n",
       "0     3667963787  3312258926  2019-08-15     1650     B\n",
       "1     2804400009  3642806036  2019-08-15      730     B\n",
       "2     2961555356  4069496402  2019-08-15      400     A\n",
       "3     3797467345  1196621759  2019-08-15     9759     B\n",
       "4     2282983706  2322279887  2019-08-15     2308     B"
      ]
     },
     "execution_count": 4,
     "metadata": {},
     "output_type": "execute_result"
    }
   ],
   "source": [
    "# чтение файла с данными и вывод первых строк таблицы\n",
    "orders = pd.read_csv('/datasets/orders.csv')\n",
    "orders.head()"
   ]
  },
  {
   "cell_type": "code",
   "execution_count": 5,
   "metadata": {
    "scrolled": true
   },
   "outputs": [
    {
     "name": "stdout",
     "output_type": "stream",
     "text": [
      "<class 'pandas.core.frame.DataFrame'>\n",
      "RangeIndex: 1197 entries, 0 to 1196\n",
      "Data columns (total 5 columns):\n",
      " #   Column         Non-Null Count  Dtype \n",
      "---  ------         --------------  ----- \n",
      " 0   transactionId  1197 non-null   int64 \n",
      " 1   visitorId      1197 non-null   int64 \n",
      " 2   date           1197 non-null   object\n",
      " 3   revenue        1197 non-null   int64 \n",
      " 4   group          1197 non-null   object\n",
      "dtypes: int64(3), object(2)\n",
      "memory usage: 46.9+ KB\n"
     ]
    }
   ],
   "source": [
    "# получение общей информации о данных\n",
    "orders.info()"
   ]
  },
  {
   "cell_type": "markdown",
   "metadata": {},
   "source": [
    "**Структура orders:**\n",
    "\n",
    "* transactionId — идентификатор заказа;\n",
    "* visitorId — идентификатор пользователя, совершившего заказ;\n",
    "* date — дата, когда был совершён заказ;\n",
    "* revenue — выручка заказа;\n",
    "* group — группа A/B-теста, в которую попал заказ."
   ]
  },
  {
   "cell_type": "code",
   "execution_count": 6,
   "metadata": {
    "scrolled": true
   },
   "outputs": [
    {
     "data": {
      "text/html": [
       "<div>\n",
       "<style scoped>\n",
       "    .dataframe tbody tr th:only-of-type {\n",
       "        vertical-align: middle;\n",
       "    }\n",
       "\n",
       "    .dataframe tbody tr th {\n",
       "        vertical-align: top;\n",
       "    }\n",
       "\n",
       "    .dataframe thead th {\n",
       "        text-align: right;\n",
       "    }\n",
       "</style>\n",
       "<table border=\"1\" class=\"dataframe\">\n",
       "  <thead>\n",
       "    <tr style=\"text-align: right;\">\n",
       "      <th></th>\n",
       "      <th>date</th>\n",
       "      <th>group</th>\n",
       "      <th>visitors</th>\n",
       "    </tr>\n",
       "  </thead>\n",
       "  <tbody>\n",
       "    <tr>\n",
       "      <th>0</th>\n",
       "      <td>2019-08-01</td>\n",
       "      <td>A</td>\n",
       "      <td>719</td>\n",
       "    </tr>\n",
       "    <tr>\n",
       "      <th>1</th>\n",
       "      <td>2019-08-02</td>\n",
       "      <td>A</td>\n",
       "      <td>619</td>\n",
       "    </tr>\n",
       "    <tr>\n",
       "      <th>2</th>\n",
       "      <td>2019-08-03</td>\n",
       "      <td>A</td>\n",
       "      <td>507</td>\n",
       "    </tr>\n",
       "    <tr>\n",
       "      <th>3</th>\n",
       "      <td>2019-08-04</td>\n",
       "      <td>A</td>\n",
       "      <td>717</td>\n",
       "    </tr>\n",
       "    <tr>\n",
       "      <th>4</th>\n",
       "      <td>2019-08-05</td>\n",
       "      <td>A</td>\n",
       "      <td>756</td>\n",
       "    </tr>\n",
       "  </tbody>\n",
       "</table>\n",
       "</div>"
      ],
      "text/plain": [
       "         date group  visitors\n",
       "0  2019-08-01     A       719\n",
       "1  2019-08-02     A       619\n",
       "2  2019-08-03     A       507\n",
       "3  2019-08-04     A       717\n",
       "4  2019-08-05     A       756"
      ]
     },
     "execution_count": 6,
     "metadata": {},
     "output_type": "execute_result"
    }
   ],
   "source": [
    "# чтение файла с данными и вывод первых строк таблицы\n",
    "visitors = pd.read_csv('/datasets/visitors.csv')\n",
    "visitors.head()"
   ]
  },
  {
   "cell_type": "code",
   "execution_count": 7,
   "metadata": {
    "scrolled": false
   },
   "outputs": [
    {
     "name": "stdout",
     "output_type": "stream",
     "text": [
      "<class 'pandas.core.frame.DataFrame'>\n",
      "RangeIndex: 62 entries, 0 to 61\n",
      "Data columns (total 3 columns):\n",
      " #   Column    Non-Null Count  Dtype \n",
      "---  ------    --------------  ----- \n",
      " 0   date      62 non-null     object\n",
      " 1   group     62 non-null     object\n",
      " 2   visitors  62 non-null     int64 \n",
      "dtypes: int64(1), object(2)\n",
      "memory usage: 1.6+ KB\n"
     ]
    }
   ],
   "source": [
    "# получение общей информации о данных\n",
    "visitors.info()"
   ]
  },
  {
   "cell_type": "markdown",
   "metadata": {},
   "source": [
    "**Структура visitors:**\n",
    "* date — дата;\n",
    "* group — группа A/B-теста;\n",
    "* visitors — количество пользователей в указанную дату в указанной группе A/B-теста"
   ]
  },
  {
   "cell_type": "markdown",
   "metadata": {},
   "source": [
    "**Вывод**\n",
    "\n",
    "Мы загрузили данные из трех датафреймов, которые содержат информацию о гипотезах по увеличению выручки интернет-магазина и результаты проведения А/В-теста. Рассмотрим данные более подробно и проведем их обработку для дальнейшего анализа."
   ]
  },
  {
   "cell_type": "markdown",
   "metadata": {},
   "source": [
    "## Предобработка данных"
   ]
  },
  {
   "cell_type": "markdown",
   "metadata": {},
   "source": [
    "### Обработка данных в таблице hypothesis"
   ]
  },
  {
   "cell_type": "code",
   "execution_count": 8,
   "metadata": {},
   "outputs": [
    {
     "data": {
      "text/plain": [
       "Index(['hypothesis', 'reach', 'impact', 'confidence', 'efforts'], dtype='object')"
      ]
     },
     "execution_count": 8,
     "metadata": {},
     "output_type": "execute_result"
    }
   ],
   "source": [
    "# приведем названия столбцом в таблице hypothesis к нижнему регистру\n",
    "hypothesis.columns = hypothesis.columns.str.lower()\n",
    "hypothesis.columns"
   ]
  },
  {
   "cell_type": "code",
   "execution_count": 9,
   "metadata": {},
   "outputs": [
    {
     "data": {
      "text/plain": [
       "hypothesis    0\n",
       "reach         0\n",
       "impact        0\n",
       "confidence    0\n",
       "efforts       0\n",
       "dtype: int64"
      ]
     },
     "execution_count": 9,
     "metadata": {},
     "output_type": "execute_result"
    }
   ],
   "source": [
    "# подсчет числа пропусков\n",
    "hypothesis.isna().sum()"
   ]
  },
  {
   "cell_type": "code",
   "execution_count": 10,
   "metadata": {},
   "outputs": [
    {
     "data": {
      "text/plain": [
       "0"
      ]
     },
     "execution_count": 10,
     "metadata": {},
     "output_type": "execute_result"
    }
   ],
   "source": [
    "# подсчет числа дубликатов\n",
    "hypothesis.duplicated().sum()"
   ]
  },
  {
   "cell_type": "code",
   "execution_count": 11,
   "metadata": {},
   "outputs": [
    {
     "data": {
      "text/plain": [
       "array(['Добавить два новых канала привлечения трафика, что позволит привлекать на 30% больше пользователей',\n",
       "       'Запустить собственную службу доставки, что сократит срок доставки заказов',\n",
       "       'Добавить блоки рекомендаций товаров на сайт интернет магазина, чтобы повысить конверсию и средний чек заказа',\n",
       "       'Изменить структура категорий, что увеличит конверсию, т.к. пользователи быстрее найдут нужный товар',\n",
       "       'Изменить цвет фона главной страницы, чтобы увеличить вовлеченность пользователей',\n",
       "       'Добавить страницу отзывов клиентов о магазине, что позволит увеличить количество заказов',\n",
       "       'Показать на главной странице баннеры с актуальными акциями и распродажами, чтобы увеличить конверсию',\n",
       "       'Добавить форму подписки на все основные страницы, чтобы собрать базу клиентов для email-рассылок',\n",
       "       'Запустить акцию, дающую скидку на товар в день рождения'],\n",
       "      dtype=object)"
      ]
     },
     "execution_count": 11,
     "metadata": {},
     "output_type": "execute_result"
    }
   ],
   "source": [
    "# проверка уникальных значений в столбце 'hypothesis'\n",
    "hypothesis['hypothesis'].unique()"
   ]
  },
  {
   "cell_type": "code",
   "execution_count": 12,
   "metadata": {},
   "outputs": [
    {
     "data": {
      "text/plain": [
       "hypothesis    object\n",
       "reach          int64\n",
       "impact         int64\n",
       "confidence     int64\n",
       "efforts        int64\n",
       "dtype: object"
      ]
     },
     "execution_count": 12,
     "metadata": {},
     "output_type": "execute_result"
    }
   ],
   "source": [
    "# проверка типов данных\n",
    "hypothesis.dtypes"
   ]
  },
  {
   "cell_type": "markdown",
   "metadata": {},
   "source": [
    "### Обработка данных в таблице orders"
   ]
  },
  {
   "cell_type": "code",
   "execution_count": 13,
   "metadata": {},
   "outputs": [
    {
     "data": {
      "text/plain": [
       "transactionId    0\n",
       "visitorId        0\n",
       "date             0\n",
       "revenue          0\n",
       "group            0\n",
       "dtype: int64"
      ]
     },
     "execution_count": 13,
     "metadata": {},
     "output_type": "execute_result"
    }
   ],
   "source": [
    "# подсчет числа пропусков\n",
    "orders.isna().sum()"
   ]
  },
  {
   "cell_type": "code",
   "execution_count": 14,
   "metadata": {
    "scrolled": true
   },
   "outputs": [
    {
     "data": {
      "text/plain": [
       "0"
      ]
     },
     "execution_count": 14,
     "metadata": {},
     "output_type": "execute_result"
    }
   ],
   "source": [
    "# подсчет числа дубликатов\n",
    "orders.duplicated().sum()"
   ]
  },
  {
   "cell_type": "code",
   "execution_count": 15,
   "metadata": {},
   "outputs": [
    {
     "data": {
      "text/plain": [
       "array(['B', 'A'], dtype=object)"
      ]
     },
     "execution_count": 15,
     "metadata": {},
     "output_type": "execute_result"
    }
   ],
   "source": [
    "# проверка уникальных значений в столбце 'group'\n",
    "orders['group'].unique()"
   ]
  },
  {
   "cell_type": "code",
   "execution_count": 16,
   "metadata": {},
   "outputs": [],
   "source": [
    "# приведем данные в столбце 'date' к типу datetime \n",
    "orders['date'] = orders['date'].map(lambda x :dt.datetime.strptime(x, '%Y-%m-%d'))"
   ]
  },
  {
   "cell_type": "code",
   "execution_count": 17,
   "metadata": {},
   "outputs": [
    {
     "name": "stdout",
     "output_type": "stream",
     "text": [
      "Дата начала совершения заказа - 2019-08-01 00:00:00\n",
      "Дата окончания совершения заказа - 2019-08-31 00:00:00\n"
     ]
    }
   ],
   "source": [
    "# проверим даты совершения заказов\n",
    "dt_min = orders['date'].min()\n",
    "dt_max = orders['date'].max()\n",
    "\n",
    "print('Дата начала совершения заказа -', dt_min)\n",
    "print('Дата окончания совершения заказа -', dt_max)"
   ]
  },
  {
   "cell_type": "code",
   "execution_count": 18,
   "metadata": {
    "scrolled": false
   },
   "outputs": [
    {
     "data": {
      "text/plain": [
       "transactionId             int64\n",
       "visitorId                 int64\n",
       "date             datetime64[ns]\n",
       "revenue                   int64\n",
       "group                    object\n",
       "dtype: object"
      ]
     },
     "execution_count": 18,
     "metadata": {},
     "output_type": "execute_result"
    }
   ],
   "source": [
    "# проверим типы данных\n",
    "orders.dtypes"
   ]
  },
  {
   "cell_type": "markdown",
   "metadata": {},
   "source": [
    "### Обработка данных в таблице visitors"
   ]
  },
  {
   "cell_type": "code",
   "execution_count": 19,
   "metadata": {},
   "outputs": [
    {
     "data": {
      "text/plain": [
       "date        0\n",
       "group       0\n",
       "visitors    0\n",
       "dtype: int64"
      ]
     },
     "execution_count": 19,
     "metadata": {},
     "output_type": "execute_result"
    }
   ],
   "source": [
    "# подсчет числа пропусков\n",
    "visitors.isna().sum()"
   ]
  },
  {
   "cell_type": "code",
   "execution_count": 20,
   "metadata": {},
   "outputs": [
    {
     "data": {
      "text/plain": [
       "0"
      ]
     },
     "execution_count": 20,
     "metadata": {},
     "output_type": "execute_result"
    }
   ],
   "source": [
    "# подсчет число дубликатов\n",
    "visitors.duplicated().sum()"
   ]
  },
  {
   "cell_type": "code",
   "execution_count": 21,
   "metadata": {},
   "outputs": [
    {
     "data": {
      "text/plain": [
       "array(['A', 'B'], dtype=object)"
      ]
     },
     "execution_count": 21,
     "metadata": {},
     "output_type": "execute_result"
    }
   ],
   "source": [
    "# проверка уникальных значений в столбце 'group'\n",
    "visitors['group'].unique()"
   ]
  },
  {
   "cell_type": "code",
   "execution_count": 22,
   "metadata": {},
   "outputs": [],
   "source": [
    "# приведем данные в столбце 'date' к типу datetime \n",
    "visitors['date'] = visitors['date'].map(lambda x :dt.datetime.strptime(x, '%Y-%m-%d'))"
   ]
  },
  {
   "cell_type": "code",
   "execution_count": 23,
   "metadata": {},
   "outputs": [
    {
     "name": "stdout",
     "output_type": "stream",
     "text": [
      "Дата начала теста - 2019-08-01 00:00:00\n",
      "Дата окончания теста - 2019-08-31 00:00:00\n"
     ]
    }
   ],
   "source": [
    "# проверим дату начала и окончания теста\n",
    "date_min = visitors['date'].min()\n",
    "date_max = visitors['date'].max()\n",
    "\n",
    "print('Дата начала теста -', date_min)\n",
    "print('Дата окончания теста -', date_max)"
   ]
  },
  {
   "cell_type": "code",
   "execution_count": 24,
   "metadata": {
    "scrolled": true
   },
   "outputs": [
    {
     "data": {
      "text/plain": [
       "date        datetime64[ns]\n",
       "group               object\n",
       "visitors             int64\n",
       "dtype: object"
      ]
     },
     "execution_count": 24,
     "metadata": {},
     "output_type": "execute_result"
    }
   ],
   "source": [
    "# проверим типы данных\n",
    "visitors.dtypes"
   ]
  },
  {
   "cell_type": "markdown",
   "metadata": {},
   "source": [
    "**Вывод**\n",
    "\n",
    "Итак, мы подготовили данные для дальнейшего анализа: привели названия столбцов к нижнему регистру, проверили данные на наличие пропусков и дубликатов, привели к нужному типу."
   ]
  },
  {
   "cell_type": "markdown",
   "metadata": {},
   "source": [
    "## Приоритизация гипотез"
   ]
  },
  {
   "cell_type": "markdown",
   "metadata": {},
   "source": [
    "### Применение фреймворка ICE для приоритизации гипотез"
   ]
  },
  {
   "cell_type": "code",
   "execution_count": 25,
   "metadata": {
    "scrolled": false
   },
   "outputs": [
    {
     "data": {
      "text/html": [
       "<div>\n",
       "<style scoped>\n",
       "    .dataframe tbody tr th:only-of-type {\n",
       "        vertical-align: middle;\n",
       "    }\n",
       "\n",
       "    .dataframe tbody tr th {\n",
       "        vertical-align: top;\n",
       "    }\n",
       "\n",
       "    .dataframe thead th {\n",
       "        text-align: right;\n",
       "    }\n",
       "</style>\n",
       "<table border=\"1\" class=\"dataframe\">\n",
       "  <thead>\n",
       "    <tr style=\"text-align: right;\">\n",
       "      <th></th>\n",
       "      <th>hypothesis</th>\n",
       "      <th>ice</th>\n",
       "    </tr>\n",
       "  </thead>\n",
       "  <tbody>\n",
       "    <tr>\n",
       "      <th>8</th>\n",
       "      <td>Запустить акцию, дающую скидку на товар в день рождения</td>\n",
       "      <td>16.2</td>\n",
       "    </tr>\n",
       "    <tr>\n",
       "      <th>0</th>\n",
       "      <td>Добавить два новых канала привлечения трафика, что позволит привлекать на 30% больше пользователей</td>\n",
       "      <td>13.3</td>\n",
       "    </tr>\n",
       "    <tr>\n",
       "      <th>7</th>\n",
       "      <td>Добавить форму подписки на все основные страницы, чтобы собрать базу клиентов для email-рассылок</td>\n",
       "      <td>11.2</td>\n",
       "    </tr>\n",
       "    <tr>\n",
       "      <th>6</th>\n",
       "      <td>Показать на главной странице баннеры с актуальными акциями и распродажами, чтобы увеличить конве...</td>\n",
       "      <td>8.0</td>\n",
       "    </tr>\n",
       "    <tr>\n",
       "      <th>2</th>\n",
       "      <td>Добавить блоки рекомендаций товаров на сайт интернет магазина, чтобы повысить конверсию и средни...</td>\n",
       "      <td>7.0</td>\n",
       "    </tr>\n",
       "    <tr>\n",
       "      <th>1</th>\n",
       "      <td>Запустить собственную службу доставки, что сократит срок доставки заказов</td>\n",
       "      <td>2.0</td>\n",
       "    </tr>\n",
       "    <tr>\n",
       "      <th>5</th>\n",
       "      <td>Добавить страницу отзывов клиентов о магазине, что позволит увеличить количество заказов</td>\n",
       "      <td>1.3</td>\n",
       "    </tr>\n",
       "    <tr>\n",
       "      <th>3</th>\n",
       "      <td>Изменить структура категорий, что увеличит конверсию, т.к. пользователи быстрее найдут нужный товар</td>\n",
       "      <td>1.1</td>\n",
       "    </tr>\n",
       "    <tr>\n",
       "      <th>4</th>\n",
       "      <td>Изменить цвет фона главной страницы, чтобы увеличить вовлеченность пользователей</td>\n",
       "      <td>1.0</td>\n",
       "    </tr>\n",
       "  </tbody>\n",
       "</table>\n",
       "</div>"
      ],
      "text/plain": [
       "                                                                                            hypothesis  \\\n",
       "8                                              Запустить акцию, дающую скидку на товар в день рождения   \n",
       "0   Добавить два новых канала привлечения трафика, что позволит привлекать на 30% больше пользователей   \n",
       "7     Добавить форму подписки на все основные страницы, чтобы собрать базу клиентов для email-рассылок   \n",
       "6  Показать на главной странице баннеры с актуальными акциями и распродажами, чтобы увеличить конве...   \n",
       "2  Добавить блоки рекомендаций товаров на сайт интернет магазина, чтобы повысить конверсию и средни...   \n",
       "1                            Запустить собственную службу доставки, что сократит срок доставки заказов   \n",
       "5             Добавить страницу отзывов клиентов о магазине, что позволит увеличить количество заказов   \n",
       "3  Изменить структура категорий, что увеличит конверсию, т.к. пользователи быстрее найдут нужный товар   \n",
       "4                     Изменить цвет фона главной страницы, чтобы увеличить вовлеченность пользователей   \n",
       "\n",
       "    ice  \n",
       "8  16.2  \n",
       "0  13.3  \n",
       "7  11.2  \n",
       "6   8.0  \n",
       "2   7.0  \n",
       "1   2.0  \n",
       "5   1.3  \n",
       "3   1.1  \n",
       "4   1.0  "
      ]
     },
     "execution_count": 25,
     "metadata": {},
     "output_type": "execute_result"
    }
   ],
   "source": [
    "# добавление столбца 'ice'\n",
    "hypothesis['ice'] = (hypothesis['impact']*hypothesis['confidence']/hypothesis['efforts']).round(1)\n",
    "hypothesis[['hypothesis', 'ice']].sort_values(by='ice', ascending=False)"
   ]
  },
  {
   "cell_type": "markdown",
   "metadata": {},
   "source": [
    "Наиболее перспективными являются гипотезы:\n",
    "* 8 - Запустить акцию, дающую скидку на товар в день рождения, \n",
    "* 0 - Добавить два новых канала привлечения трафика, что позволит привлекать на 30% больше пользователей,\n",
    "* 7 - Добавить форму подписки на все основные страницы, чтобы собрать базу клиентов для email-рассылок."
   ]
  },
  {
   "cell_type": "markdown",
   "metadata": {},
   "source": [
    "### Применение фреймворка RICE для приоритизации гипотез"
   ]
  },
  {
   "cell_type": "code",
   "execution_count": 26,
   "metadata": {
    "scrolled": false
   },
   "outputs": [
    {
     "data": {
      "text/html": [
       "<div>\n",
       "<style scoped>\n",
       "    .dataframe tbody tr th:only-of-type {\n",
       "        vertical-align: middle;\n",
       "    }\n",
       "\n",
       "    .dataframe tbody tr th {\n",
       "        vertical-align: top;\n",
       "    }\n",
       "\n",
       "    .dataframe thead th {\n",
       "        text-align: right;\n",
       "    }\n",
       "</style>\n",
       "<table border=\"1\" class=\"dataframe\">\n",
       "  <thead>\n",
       "    <tr style=\"text-align: right;\">\n",
       "      <th></th>\n",
       "      <th>hypothesis</th>\n",
       "      <th>rice</th>\n",
       "    </tr>\n",
       "  </thead>\n",
       "  <tbody>\n",
       "    <tr>\n",
       "      <th>7</th>\n",
       "      <td>Добавить форму подписки на все основные страницы, чтобы собрать базу клиентов для email-рассылок</td>\n",
       "      <td>112.0</td>\n",
       "    </tr>\n",
       "    <tr>\n",
       "      <th>2</th>\n",
       "      <td>Добавить блоки рекомендаций товаров на сайт интернет магазина, чтобы повысить конверсию и средни...</td>\n",
       "      <td>56.0</td>\n",
       "    </tr>\n",
       "    <tr>\n",
       "      <th>0</th>\n",
       "      <td>Добавить два новых канала привлечения трафика, что позволит привлекать на 30% больше пользователей</td>\n",
       "      <td>40.0</td>\n",
       "    </tr>\n",
       "    <tr>\n",
       "      <th>6</th>\n",
       "      <td>Показать на главной странице баннеры с актуальными акциями и распродажами, чтобы увеличить конве...</td>\n",
       "      <td>40.0</td>\n",
       "    </tr>\n",
       "    <tr>\n",
       "      <th>8</th>\n",
       "      <td>Запустить акцию, дающую скидку на товар в день рождения</td>\n",
       "      <td>16.2</td>\n",
       "    </tr>\n",
       "    <tr>\n",
       "      <th>3</th>\n",
       "      <td>Изменить структура категорий, что увеличит конверсию, т.к. пользователи быстрее найдут нужный товар</td>\n",
       "      <td>9.0</td>\n",
       "    </tr>\n",
       "    <tr>\n",
       "      <th>1</th>\n",
       "      <td>Запустить собственную службу доставки, что сократит срок доставки заказов</td>\n",
       "      <td>4.0</td>\n",
       "    </tr>\n",
       "    <tr>\n",
       "      <th>5</th>\n",
       "      <td>Добавить страницу отзывов клиентов о магазине, что позволит увеличить количество заказов</td>\n",
       "      <td>4.0</td>\n",
       "    </tr>\n",
       "    <tr>\n",
       "      <th>4</th>\n",
       "      <td>Изменить цвет фона главной страницы, чтобы увеличить вовлеченность пользователей</td>\n",
       "      <td>3.0</td>\n",
       "    </tr>\n",
       "  </tbody>\n",
       "</table>\n",
       "</div>"
      ],
      "text/plain": [
       "                                                                                            hypothesis  \\\n",
       "7     Добавить форму подписки на все основные страницы, чтобы собрать базу клиентов для email-рассылок   \n",
       "2  Добавить блоки рекомендаций товаров на сайт интернет магазина, чтобы повысить конверсию и средни...   \n",
       "0   Добавить два новых канала привлечения трафика, что позволит привлекать на 30% больше пользователей   \n",
       "6  Показать на главной странице баннеры с актуальными акциями и распродажами, чтобы увеличить конве...   \n",
       "8                                              Запустить акцию, дающую скидку на товар в день рождения   \n",
       "3  Изменить структура категорий, что увеличит конверсию, т.к. пользователи быстрее найдут нужный товар   \n",
       "1                            Запустить собственную службу доставки, что сократит срок доставки заказов   \n",
       "5             Добавить страницу отзывов клиентов о магазине, что позволит увеличить количество заказов   \n",
       "4                     Изменить цвет фона главной страницы, чтобы увеличить вовлеченность пользователей   \n",
       "\n",
       "    rice  \n",
       "7  112.0  \n",
       "2   56.0  \n",
       "0   40.0  \n",
       "6   40.0  \n",
       "8   16.2  \n",
       "3    9.0  \n",
       "1    4.0  \n",
       "5    4.0  \n",
       "4    3.0  "
      ]
     },
     "execution_count": 26,
     "metadata": {},
     "output_type": "execute_result"
    }
   ],
   "source": [
    "# добавление столбца rice\n",
    "hypothesis['rice'] = ((hypothesis['reach']*hypothesis['impact']*hypothesis['confidence'])/hypothesis['efforts']).round(1)\n",
    "hypothesis[['hypothesis', 'rice']].sort_values(by='rice', ascending=False)"
   ]
  },
  {
   "cell_type": "markdown",
   "metadata": {},
   "source": [
    "При применении фреймворка RICE наиболее перспективными стали гипотезы:\n",
    "* 7 - Добавить форму подписки на все основные страницы, чтобы собрать базу клиентов для email-рассылок,\n",
    "* 2 - Добавить блоки рекомендаций товаров на сайт интернет магазина, чтобы повысить конверсию и средний чек заказа,\n",
    "* 0 - Добавить два новых канала привлечения трафика, что позволит привлекать на 30% больше пользователей."
   ]
  },
  {
   "cell_type": "markdown",
   "metadata": {},
   "source": [
    "### Изменения в приоритизации гипотез при применении RICE вместо ICE"
   ]
  },
  {
   "cell_type": "markdown",
   "metadata": {},
   "source": [
    "При применении метода ICE приоритетными гипотезами были 8, 0, 7. С использованиям метода RICE ситуация изменилась и лидируют гипотезы 7, 2, 0. Изменение в приоритизации гипотез связано с тем, что при подсчете метода RICE используется параметр reach — охват пользователей, которых затронет изменение, по 10-балльной шкале. Этот параметр для 7 гипотезы имеет самое высокое значение - 10, для гиптезы 2 - 8, а для гипотезы 0 - 3. "
   ]
  },
  {
   "cell_type": "code",
   "execution_count": 27,
   "metadata": {},
   "outputs": [
    {
     "data": {
      "image/png": "[encoded data removed]",
      "text/plain": [
       "<Figure size 720x720 with 1 Axes>"
      ]
     },
     "metadata": {
      "needs_background": "light"
     },
     "output_type": "display_data"
    }
   ],
   "source": [
    "# построим график приоритезации гипотез\n",
    "y = hypothesis['ice'] \n",
    "z = hypothesis['rice'] \n",
    "n = hypothesis.index \n",
    "\n",
    "fig, ax = plt.subplots()\n",
    "ax.scatter(z, y)\n",
    "\n",
    "for i, txt in enumerate(n):\n",
    "    ax.annotate(txt, (z[i], y[i]), size=30)\n",
    "\n",
    "plt.title(\"ICE and RICE гипотезы\") \n",
    "plt.xlabel(\"RICE\") \n",
    "plt.ylabel(\"ICE\")\n",
    "\n",
    "fig.set_figheight(10)\n",
    "fig.set_figwidth(10) \n",
    "plt.show()"
   ]
  },
  {
   "cell_type": "markdown",
   "metadata": {},
   "source": [
    "**Вывод**\n",
    "\n",
    "Итак, мы провели приоритизацию гипотез с ипользованием методов ICE и RICE. Наиболее приоритетными для дальнейшего тестирования являются гипотезы: 7 - добавить форму подписки на все основные страницы, чтобы собрать базу клиентов для email-рассылок, и 2 - добавить блоки рекомендаций товаров на сайт интернет магазина, чтобы повысить конверсию и средний чек заказа."
   ]
  },
  {
   "cell_type": "markdown",
   "metadata": {},
   "source": [
    "## Анализ A/B-теста"
   ]
  },
  {
   "cell_type": "code",
   "execution_count": 28,
   "metadata": {
    "scrolled": false
   },
   "outputs": [
    {
     "data": {
      "text/html": [
       "<div>\n",
       "<style scoped>\n",
       "    .dataframe tbody tr th:only-of-type {\n",
       "        vertical-align: middle;\n",
       "    }\n",
       "\n",
       "    .dataframe tbody tr th {\n",
       "        vertical-align: top;\n",
       "    }\n",
       "\n",
       "    .dataframe thead th {\n",
       "        text-align: right;\n",
       "    }\n",
       "</style>\n",
       "<table border=\"1\" class=\"dataframe\">\n",
       "  <thead>\n",
       "    <tr style=\"text-align: right;\">\n",
       "      <th></th>\n",
       "      <th>date</th>\n",
       "      <th>group</th>\n",
       "      <th>orders</th>\n",
       "      <th>buyers</th>\n",
       "      <th>revenue</th>\n",
       "      <th>visitors</th>\n",
       "    </tr>\n",
       "  </thead>\n",
       "  <tbody>\n",
       "    <tr>\n",
       "      <th>0</th>\n",
       "      <td>2019-08-01</td>\n",
       "      <td>A</td>\n",
       "      <td>24</td>\n",
       "      <td>20</td>\n",
       "      <td>148579</td>\n",
       "      <td>719</td>\n",
       "    </tr>\n",
       "    <tr>\n",
       "      <th>1</th>\n",
       "      <td>2019-08-01</td>\n",
       "      <td>B</td>\n",
       "      <td>21</td>\n",
       "      <td>20</td>\n",
       "      <td>101217</td>\n",
       "      <td>713</td>\n",
       "    </tr>\n",
       "    <tr>\n",
       "      <th>2</th>\n",
       "      <td>2019-08-02</td>\n",
       "      <td>A</td>\n",
       "      <td>44</td>\n",
       "      <td>38</td>\n",
       "      <td>242401</td>\n",
       "      <td>1338</td>\n",
       "    </tr>\n",
       "    <tr>\n",
       "      <th>3</th>\n",
       "      <td>2019-08-02</td>\n",
       "      <td>B</td>\n",
       "      <td>45</td>\n",
       "      <td>43</td>\n",
       "      <td>266748</td>\n",
       "      <td>1294</td>\n",
       "    </tr>\n",
       "    <tr>\n",
       "      <th>4</th>\n",
       "      <td>2019-08-03</td>\n",
       "      <td>A</td>\n",
       "      <td>68</td>\n",
       "      <td>62</td>\n",
       "      <td>354874</td>\n",
       "      <td>1845</td>\n",
       "    </tr>\n",
       "  </tbody>\n",
       "</table>\n",
       "</div>"
      ],
      "text/plain": [
       "        date group  orders  buyers  revenue  visitors\n",
       "0 2019-08-01     A      24      20   148579       719\n",
       "1 2019-08-01     B      21      20   101217       713\n",
       "2 2019-08-02     A      44      38   242401      1338\n",
       "3 2019-08-02     B      45      43   266748      1294\n",
       "4 2019-08-03     A      68      62   354874      1845"
      ]
     },
     "execution_count": 28,
     "metadata": {},
     "output_type": "execute_result"
    }
   ],
   "source": [
    "# создадим таблицу cumulativeData с необходимыми кумулятивными данными\n",
    "datesGroups = orders[['date', 'group']].drop_duplicates()\n",
    "ordersAggregated = datesGroups.apply(lambda x: orders[np.logical_and(orders['date'] <= x['date'], orders['group'] == x['group'])].agg({'date' : 'max', 'group' : 'max', 'transactionId' : 'nunique', 'visitorId' : 'nunique', 'revenue' : 'sum'}), axis=1).sort_values(by=['date', 'group'])\n",
    "visitorsAggregated = datesGroups.apply(lambda x: visitors[np.logical_and(visitors['date'] <= x['date'], visitors['group'] == x['group'])].agg({'date' : 'max', 'group' : 'max', 'visitors' : 'sum'}), axis=1).sort_values(by=['date', 'group'])\n",
    "cumulativeData = ordersAggregated.merge(visitorsAggregated, left_on=['date', 'group'], right_on=['date', 'group'])\n",
    "cumulativeData.columns = ['date', 'group', 'orders', 'buyers', 'revenue', 'visitors']\n",
    "cumulativeData.head()"
   ]
  },
  {
   "cell_type": "code",
   "execution_count": 29,
   "metadata": {},
   "outputs": [
    {
     "name": "stdout",
     "output_type": "stream",
     "text": [
      "Дата начала теста - 2019-08-01 00:00:00\n",
      "Дата окончания теста - 2019-08-31 00:00:00\n"
     ]
    }
   ],
   "source": [
    "# проверим дату начала и окончания теста, совпадает ли она с исходными данными\n",
    "date_min_cml = cumulativeData['date'].min()\n",
    "date_max_cml = cumulativeData['date'].max()\n",
    "\n",
    "print('Дата начала теста -', date_min_cml)\n",
    "print('Дата окончания теста -', date_max_cml)"
   ]
  },
  {
   "cell_type": "markdown",
   "metadata": {},
   "source": [
    "### График кумулятивной выручки по группам"
   ]
  },
  {
   "cell_type": "code",
   "execution_count": 30,
   "metadata": {
    "scrolled": true
   },
   "outputs": [
    {
     "data": {
      "image/png": "[encoded data removed]",
      "text/plain": [
       "<Figure size 864x432 with 1 Axes>"
      ]
     },
     "metadata": {
      "needs_background": "light"
     },
     "output_type": "display_data"
    }
   ],
   "source": [
    "# создадим переменные, в которых сохраним данные о датах, выручке и числе заказов в группах A и B\n",
    "# датафрейм с кумулятивным количеством заказов и кумулятивной выручкой по дням в группе А\n",
    "cumulativeRevenueA = cumulativeData[cumulativeData['group'] == 'A'][['date', 'revenue', 'orders']]\n",
    "# датафрейм с кумулятивным количеством заказов и кумулятивной выручкой по дням в группе B\n",
    "cumulativeRevenueB = cumulativeData[cumulativeData['group'] == 'B'][['date', 'revenue', 'orders']]\n",
    "\n",
    "# построим график кумулятивной выручки по группам А и В\n",
    "plt.figure(figsize=(12, 6))\n",
    "plt.plot(cumulativeRevenueA['date'], cumulativeRevenueA['revenue'], label='группа A')\n",
    "plt.plot(cumulativeRevenueB['date'], cumulativeRevenueB['revenue'], label='группа B')\n",
    "plt.legend()\n",
    "plt.title('График кумулятивной выручки по дням по группам')\n",
    "plt.xticks(rotation=90)\n",
    "plt.show()"
   ]
  },
  {
   "cell_type": "markdown",
   "metadata": {},
   "source": [
    "Кумулятивная выручка по группе В в начале теста начала опережать группу А, а в середине теста наблюдается резкий скачок показателей данной метрики, что может свидетельствовать о всплесках числа заказов, либо о появлении очень дорогих заказов в выборке. Кумулятивная выручка по группе А на протяжении всего теста равномерно увеличивается без резких скачков."
   ]
  },
  {
   "cell_type": "markdown",
   "metadata": {},
   "source": [
    "### График кумулятивного среднего чека по группам"
   ]
  },
  {
   "cell_type": "code",
   "execution_count": 31,
   "metadata": {},
   "outputs": [
    {
     "data": {
      "image/png": "[encoded data removed]",
      "text/plain": [
       "<Figure size 864x432 with 1 Axes>"
      ]
     },
     "metadata": {
      "needs_background": "light"
     },
     "output_type": "display_data"
    }
   ],
   "source": [
    "# построим график кумулятивного среднего чека по группам А и В\n",
    "plt.figure(figsize=(12, 6))\n",
    "plt.plot(cumulativeRevenueA['date'], cumulativeRevenueA['revenue']/cumulativeRevenueA['orders'], label ='группа A')\n",
    "plt.plot(cumulativeRevenueB['date'], cumulativeRevenueB['revenue']/cumulativeRevenueB['orders'], label='группа B')\n",
    "plt.legend()\n",
    "plt.title('График кумулятивного среднего чека по дням по группам')\n",
    "plt.xticks(rotation=90) \n",
    "plt.show()"
   ]
  },
  {
   "cell_type": "markdown",
   "metadata": {},
   "source": [
    "Кумулятивное значение среднего чека по сегментам до середины теста колебалось, но затем произошел резких скачок показателей группы В, возможно это связано с большими заказами, но к концу теста кумулятивный средний чек по группе В начинает падать. По группе А кумулятивный средний чек после середины теста более-менее установился."
   ]
  },
  {
   "cell_type": "markdown",
   "metadata": {},
   "source": [
    "### График относительного изменения кумулятивного среднего чека группы B к группе A"
   ]
  },
  {
   "cell_type": "code",
   "execution_count": 32,
   "metadata": {
    "scrolled": false
   },
   "outputs": [
    {
     "data": {
      "image/png": "[encoded data removed]",
      "text/plain": [
       "<Figure size 864x432 with 1 Axes>"
      ]
     },
     "metadata": {
      "needs_background": "light"
     },
     "output_type": "display_data"
    }
   ],
   "source": [
    "# объедините таблицы cumulativeRevenueA и cumulativeRevenueB\n",
    "mergedCumulativeRevenue = cumulativeRevenueA.merge(cumulativeRevenueB, left_on = 'date', right_on = 'date', how = 'left', suffixes=['A', 'B'])\n",
    "# построим график относительного различия для среднего чека\n",
    "plt.figure(figsize=(12, 6))\n",
    "plt.plot(mergedCumulativeRevenue['date'], (mergedCumulativeRevenue['revenueB']/mergedCumulativeRevenue['ordersB'])/(mergedCumulativeRevenue['revenueA']/mergedCumulativeRevenue['ordersA'])-1)\n",
    "plt.axhline(y=0, color='black', linestyle='--')\n",
    "plt.title('График относительного изменения кумулятивного среднего чека группы B к группе A')\n",
    "plt.xticks(rotation=90) \n",
    "plt.show()"
   ]
  },
  {
   "cell_type": "markdown",
   "metadata": {},
   "source": [
    "Результаты теста резко менялись в несколько дат. Видимо в это время были совершены аномально большие заказы. К концу теста показатели относительного изменения среднего чека группы В к группе А стабилизировались."
   ]
  },
  {
   "cell_type": "markdown",
   "metadata": {},
   "source": [
    "### График кумулятивной конверсии по группам"
   ]
  },
  {
   "cell_type": "code",
   "execution_count": 33,
   "metadata": {},
   "outputs": [
    {
     "data": {
      "image/png": "[encoded data removed]",
      "text/plain": [
       "<Figure size 864x432 with 1 Axes>"
      ]
     },
     "metadata": {
      "needs_background": "light"
     },
     "output_type": "display_data"
    }
   ],
   "source": [
    "# посчитаем кумулятивную конверсию\n",
    "cumulativeData['conversion'] = cumulativeData['orders']/cumulativeData['visitors']\n",
    "# отберем данные по группе А\n",
    "cumulativeDataA = cumulativeData[cumulativeData['group'] == 'A']\n",
    "# отребем данные по группе В\n",
    "cumulativeDataB = cumulativeData[cumulativeData['group'] == 'B']\n",
    "# построим график кумулятивной конверсии по группам\n",
    "plt.figure(figsize=(12, 6))\n",
    "plt.plot(cumulativeDataA['date'], cumulativeDataA['conversion'], label='A')\n",
    "plt.plot(cumulativeDataB['date'], cumulativeDataB['conversion'], label='B')\n",
    "plt.legend()\n",
    "\n",
    "plt.title('График кумулятивной конверсии по группам')\n",
    "plt.xticks(rotation=90) \n",
    "plt.show()"
   ]
  },
  {
   "cell_type": "markdown",
   "metadata": {},
   "source": [
    "В начале теста сегмент А имел большую конверсию, но затем мы наблюдаем резкий спад ее показателей и одновременный рост  конверсии по группе В. Так до конца теста лидиром по кумулятивной конверсии является группа В."
   ]
  },
  {
   "cell_type": "markdown",
   "metadata": {},
   "source": [
    "### График относительного изменения кумулятивной конверсии группы B к группе A"
   ]
  },
  {
   "cell_type": "code",
   "execution_count": 34,
   "metadata": {},
   "outputs": [
    {
     "data": {
      "image/png": "[encoded data removed]",
      "text/plain": [
       "<Figure size 864x432 with 1 Axes>"
      ]
     },
     "metadata": {
      "needs_background": "light"
     },
     "output_type": "display_data"
    }
   ],
   "source": [
    "# объединим данные двух таблиц cumulativeDataA и cumulativeDataB\n",
    "mergedCumulativeConversions = cumulativeDataA[['date','conversion']].merge(cumulativeDataB[['date','conversion']], left_on='date', right_on='date', how='left', suffixes=['A', 'B'])\n",
    "# построим график относительного изменения кумулятивной конверсии\n",
    "plt.figure(figsize=(12, 6))\n",
    "plt.plot(mergedCumulativeConversions['date'], mergedCumulativeConversions['conversionB']/mergedCumulativeConversions['conversionA']-1)\n",
    "plt.title('График относительного изменения кумулятивной конверсии группы B к группе A\"')\n",
    "plt.axhline(y=0, color='black', linestyle='--')\n",
    "plt.axhline(y=0.10, color='grey', linestyle='--')\n",
    "plt.xticks(rotation=90) \n",
    "plt.show()"
   ]
  },
  {
   "cell_type": "markdown",
   "metadata": {},
   "source": [
    "График относительного различия конверсии между группами говорит нам о том, что группа В в начале теста проигрывала группе А, но затем она становится лидером по конверсии. прирост конверсии группы B стабильно выше 10%. "
   ]
  },
  {
   "cell_type": "markdown",
   "metadata": {},
   "source": [
    "### График количества заказов по пользователям"
   ]
  },
  {
   "cell_type": "code",
   "execution_count": 35,
   "metadata": {
    "scrolled": false
   },
   "outputs": [
    {
     "data": {
      "image/png": "[encoded data removed]",
      "text/plain": [
       "<Figure size 864x432 with 1 Axes>"
      ]
     },
     "metadata": {
      "needs_background": "light"
     },
     "output_type": "display_data"
    }
   ],
   "source": [
    "# сформируем таблицу с количеством заказов по пользователям\n",
    "ordersByUsers = orders.groupby('visitorId', as_index=False).agg({'transactionId': 'nunique'})\n",
    "ordersByUsers.columns = ['visitorId', 'transactionId']\n",
    "# серия из чисел от 0 до количества наблюдений в ordersByUsers\n",
    "x_values = pd.Series(range(0, len(ordersByUsers)))\n",
    "# построим диаграмму рассеяния \n",
    "plt.figure(figsize=(12,6))\n",
    "plt.scatter(x_values, ordersByUsers['transactionId'])\n",
    "plt.xlabel(\"количество пользователей\")\n",
    "plt.ylabel(\"количество заказов\")\n",
    "plt.title(\"График количества заказов по пользователям\")\n",
    "plt.show()"
   ]
  },
  {
   "cell_type": "markdown",
   "metadata": {},
   "source": [
    "По диаграмме рассеяния мы видим, что больше всего пользователей сделали по 1 заказу, заказавших 2 и более заказа намного меньше. Можно предлоположить, что количество заказов больше 2х являются аномальными, чтобы это проверить посчитаем выборочные перцентили."
   ]
  },
  {
   "cell_type": "markdown",
   "metadata": {},
   "source": [
    "### Подсчет 95-го и 99-го перцентилей количества заказов на пользователя"
   ]
  },
  {
   "cell_type": "code",
   "execution_count": 36,
   "metadata": {},
   "outputs": [
    {
     "data": {
      "text/plain": [
       "array([2., 4.])"
      ]
     },
     "execution_count": 36,
     "metadata": {},
     "output_type": "execute_result"
    }
   ],
   "source": [
    "# посчитаем выборочные перцентили количества заказов на одного пользователя\n",
    "np.percentile(ordersByUsers['transactionId'], [95, 99])"
   ]
  },
  {
   "cell_type": "markdown",
   "metadata": {},
   "source": [
    "Не более 5% пользователей совершали больше 2 заказов и не более 1% пользователей - больше 4 заказов. Примем за аномалии количество совершенных заказов больше 2."
   ]
  },
  {
   "cell_type": "code",
   "execution_count": 37,
   "metadata": {},
   "outputs": [
    {
     "data": {
      "text/plain": [
       "2"
      ]
     },
     "execution_count": 37,
     "metadata": {},
     "output_type": "execute_result"
    }
   ],
   "source": [
    "# аномальное количество заказов сохраним в переменной orders_max\n",
    "orders_max = int(np.percentile(ordersByUsers['transactionId'], [95, 99])[0])\n",
    "orders_max"
   ]
  },
  {
   "cell_type": "markdown",
   "metadata": {},
   "source": [
    "### График стоимостей заказов"
   ]
  },
  {
   "cell_type": "code",
   "execution_count": 38,
   "metadata": {},
   "outputs": [
    {
     "data": {
      "image/png": "[encoded data removed]",
      "text/plain": [
       "<Figure size 864x432 with 1 Axes>"
      ]
     },
     "metadata": {
      "needs_background": "light"
     },
     "output_type": "display_data"
    }
   ],
   "source": [
    "# построение графика стоимости заказов\n",
    "x_values = pd.Series(range(0, len(orders['revenue'])))\n",
    "plt.figure(figsize=(12,6))\n",
    "plt.scatter(x_values, orders['revenue'])\n",
    "plt.title(\"График стоимости заказов\")\n",
    "plt.show()"
   ]
  },
  {
   "cell_type": "markdown",
   "metadata": {},
   "source": [
    "На графике мы видим очень мало заказов, стоимость которых превышает 100000 рублей. "
   ]
  },
  {
   "cell_type": "code",
   "execution_count": 39,
   "metadata": {
    "scrolled": true
   },
   "outputs": [
    {
     "data": {
      "image/png": "[encoded data removed]",
      "text/plain": [
       "<Figure size 864x432 with 1 Axes>"
      ]
     },
     "metadata": {
      "needs_background": "light"
     },
     "output_type": "display_data"
    }
   ],
   "source": [
    "plt.figure(figsize=(12,6))\n",
    "plt.scatter(x_values, orders['revenue'])\n",
    "plt.title(\"График стоимости заказов\")\n",
    "plt.ylim(0,100000)\n",
    "plt.show()"
   ]
  },
  {
   "cell_type": "markdown",
   "metadata": {},
   "source": [
    "Большая концентрация покупателей расположена в диапазоне до 20 тыс рублей. Чтобы определиться, какие же значения являются аномальными, посчитаем выборочные перцентили."
   ]
  },
  {
   "cell_type": "markdown",
   "metadata": {},
   "source": [
    "### Подсчет 95-го и 99-го перцентилей стоимости заказов"
   ]
  },
  {
   "cell_type": "code",
   "execution_count": 40,
   "metadata": {},
   "outputs": [
    {
     "data": {
      "text/plain": [
       "array([28000. , 58233.2])"
      ]
     },
     "execution_count": 40,
     "metadata": {},
     "output_type": "execute_result"
    }
   ],
   "source": [
    "# подсчет перцентилей стоимости заказов\n",
    "np.percentile(orders['revenue'], [95, 99])"
   ]
  },
  {
   "cell_type": "markdown",
   "metadata": {},
   "source": [
    "Не более чем у 5% заказов чек дороже 28000 рублей, и не больше, чем у 1% заказов - дороже 58233,2 рублей. Исходя из этого, возьмем за аномальную стоимость заказов - стоимость свыше 28000 рублей."
   ]
  },
  {
   "cell_type": "code",
   "execution_count": 41,
   "metadata": {},
   "outputs": [
    {
     "data": {
      "text/plain": [
       "28000"
      ]
     },
     "execution_count": 41,
     "metadata": {},
     "output_type": "execute_result"
    }
   ],
   "source": [
    "# аномальную стоимость заказов сохраним в переменной revenue_max\n",
    "revenue_max = int(np.percentile(orders['revenue'], [95, 99])[0])\n",
    "revenue_max"
   ]
  },
  {
   "cell_type": "markdown",
   "metadata": {},
   "source": [
    "### Подсчет статистической значимости различий в конверсии между группами по «сырым» данным"
   ]
  },
  {
   "cell_type": "markdown",
   "metadata": {},
   "source": [
    "Прежде чем приступить к подсчету статистической значимости различий в конверсии между группами, сформулируем нулевую и альтернативную гипотезы:\n",
    "* Но - различий в конверсии между группами по «сырым» данным нет,\n",
    "* Н1 - есть различия в конверсии между группами. "
   ]
  },
  {
   "cell_type": "code",
   "execution_count": 42,
   "metadata": {
    "scrolled": false
   },
   "outputs": [],
   "source": [
    "# соберем все данные по визитам\n",
    "visitorsADaily = visitors[visitors['group'] == 'A'][['date', 'visitors']]\n",
    "visitorsADaily.columns = ['date', 'visitorsPerDateA']\n",
    "\n",
    "visitorsBDaily = visitors[visitors['group'] == 'B'][['date', 'visitors']]\n",
    "visitorsBDaily.columns = ['date', 'visitorsPerDateB']"
   ]
  },
  {
   "cell_type": "code",
   "execution_count": 43,
   "metadata": {
    "scrolled": true
   },
   "outputs": [],
   "source": [
    "# создадим переменные ordersByUsersA и ordersByUsersB, где для пользователей, \n",
    "# совершивших хотя бы 1 заказ, будет указано число заказов\n",
    "\n",
    "ordersByUsersA = orders[orders['group'] == 'A']\\\n",
    "                    .groupby('visitorId', as_index = False)\\\n",
    "                    .agg({'transactionId': pd.Series.nunique})\n",
    "ordersByUsersA.columns = ['userId', 'orders']\n",
    "\n",
    "\n",
    "ordersByUsersB = orders[orders['group'] == 'B']\\\n",
    "                    .groupby('visitorId', as_index = False)\\\n",
    "                    .agg({'transactionId': pd.Series.nunique})\n",
    "ordersByUsersB.columns = ['userId', 'orders']"
   ]
  },
  {
   "cell_type": "code",
   "execution_count": 44,
   "metadata": {},
   "outputs": [
    {
     "name": "stdout",
     "output_type": "stream",
     "text": [
      "alpha = 0.05\n",
      "p-value: 0.017\n",
      "Различие в конверсии: 0.138\n"
     ]
    }
   ],
   "source": [
    "# объявим переменные sampleA и sampleB, в которых пользователям с заказами будет соответствовать число заказов пользователя\n",
    "sampleA = pd.concat([ordersByUsersA['orders'], pd.Series(0, index=np.arange(visitorsADaily['visitorsPerDateA']\\\n",
    "                                                .sum() - len(ordersByUsersA['orders'])), name='orders')],axis=0)\n",
    "\n",
    "\n",
    "sampleB = pd.concat([ordersByUsersB['orders'], pd.Series(0, index=np.arange(visitorsBDaily['visitorsPerDateB']\\\n",
    "                                                .sum() - len(ordersByUsersB['orders'])), name='orders')],axis=0)\n",
    "\n",
    "print('alpha =', 0.05)\n",
    "print(\"p-value: {0:.3f}\".format(stats.mannwhitneyu(sampleA, sampleB)[1]))\n",
    "print(\"Различие в конверсии: {0:.3f}\".format(sampleB.mean() / sampleA.mean() - 1))"
   ]
  },
  {
   "cell_type": "markdown",
   "metadata": {},
   "source": [
    "P-value меньше уровня статистической значимости, следовательно, отвергаем нулевую гипотезу о том, что различий в конверсиях по \"сырым\" данным нет. Относительный выигрыш группы B над группой А составил 13.8%."
   ]
  },
  {
   "cell_type": "markdown",
   "metadata": {},
   "source": [
    "### Подсчет статистической значимости различий в среднем чеке заказа между группами по «сырым» данным"
   ]
  },
  {
   "cell_type": "markdown",
   "metadata": {},
   "source": [
    "Сформулируем нулевую и альтернативную гипотезы:\n",
    "\n",
    "* Н0 - различий в среднем чеке между группами нет,\n",
    "* Н1 - различия в среднем чеке между группами есть."
   ]
  },
  {
   "cell_type": "markdown",
   "metadata": {},
   "source": [
    "Чтобы рассчитать статистическую значимость различий в среднем чеке, передадим критерию mannwhitneyu() данные о выручке с заказов."
   ]
  },
  {
   "cell_type": "code",
   "execution_count": 45,
   "metadata": {},
   "outputs": [
    {
     "name": "stdout",
     "output_type": "stream",
     "text": [
      "alpha = 0.05\n",
      "0.729\n",
      "0.259\n"
     ]
    }
   ],
   "source": [
    "print(\"alpha =\",0.05)\n",
    "print('{0:.3f}'.format(stats.mannwhitneyu(orders[orders['group']=='A']['revenue'], orders[orders['group']=='B']['revenue'])[1]))\n",
    "print('{0:.3f}'.format(orders[orders['group']=='B']['revenue'].mean()/orders[orders['group']=='A']['revenue'].mean()-1)) "
   ]
  },
  {
   "cell_type": "markdown",
   "metadata": {},
   "source": [
    "Р-value значительно больше 0.05, следовательно, у нас нет оснований отвергать нулевую гипотезу и считать, что различия между группами есть. Но при этом средний чек по группе В превосходит группу А на 25,9%."
   ]
  },
  {
   "cell_type": "markdown",
   "metadata": {},
   "source": [
    "### Подсчет статистической значимости различий в конверсии между группами по «очищенным» данным"
   ]
  },
  {
   "cell_type": "markdown",
   "metadata": {},
   "source": [
    "Сформулируем нулевую и альтернативную гипотезы: \n",
    "\n",
    "* Но - различий в конверсии между группами по «ощищенным» данным нет,\n",
    "* Н1 - есть различия в конверсии между группами по \"очищенным\" данным. "
   ]
  },
  {
   "cell_type": "markdown",
   "metadata": {},
   "source": [
    "Примем за аномальных пользователей тех, кто совершили 3 заказа и более, или совершили заказы на сумму свыше 28 000 рублей."
   ]
  },
  {
   "cell_type": "code",
   "execution_count": 46,
   "metadata": {},
   "outputs": [
    {
     "data": {
      "text/plain": [
       "74"
      ]
     },
     "execution_count": 46,
     "metadata": {},
     "output_type": "execute_result"
    }
   ],
   "source": [
    "# исключим выбросы из данных\n",
    "usersWithManyOrders = pd.concat(\n",
    "    [\n",
    "        ordersByUsersA[ordersByUsersA['orders'] > orders_max]['userId'],\n",
    "        ordersByUsersB[ordersByUsersB['orders'] > orders_max]['userId'],\n",
    "    ],\n",
    "    axis=0,\n",
    ")\n",
    "usersWithExpensiveOrders = orders[orders['revenue'] > revenue_max]['visitorId']\n",
    "abnormalUsers = pd.concat([usersWithManyOrders, usersWithExpensiveOrders], axis=0).drop_duplicates().sort_values()\n",
    "abnormalUsers.head()\n",
    "\n",
    "# найдем количество аномальных пользователей\n",
    "abnormalUsers.shape[0]"
   ]
  },
  {
   "cell_type": "code",
   "execution_count": 47,
   "metadata": {},
   "outputs": [
    {
     "name": "stdout",
     "output_type": "stream",
     "text": [
      "alpha = 0.05\n",
      "p-value: 0.013\n",
      "Различие в конверсии: 0.173\n"
     ]
    }
   ],
   "source": [
    "# подготовим выборки количества заказов по пользователям по группам теста\n",
    "sampleAFiltered = pd.concat(\n",
    "    [\n",
    "        ordersByUsersA[\n",
    "            np.logical_not(ordersByUsersA['userId'].isin(abnormalUsers))\n",
    "        ]['orders'],\n",
    "        pd.Series(\n",
    "            0,\n",
    "            index=np.arange(\n",
    "                visitorsADaily['visitorsPerDateA'].sum() - len(ordersByUsersA['orders'])\n",
    "            ),\n",
    "            name='orders',\n",
    "        ),\n",
    "    ],\n",
    "    axis=0,\n",
    ")\n",
    "\n",
    "sampleBFiltered = pd.concat(\n",
    "    [\n",
    "        ordersByUsersB[\n",
    "            np.logical_not(ordersByUsersB['userId'].isin(abnormalUsers))\n",
    "        ]['orders'],\n",
    "        pd.Series(\n",
    "            0,\n",
    "            index=np.arange(\n",
    "                visitorsBDaily['visitorsPerDateB'].sum() - len(ordersByUsersB['orders'])\n",
    "            ),\n",
    "            name='orders',\n",
    "        ),\n",
    "    ],\n",
    "    axis=0,\n",
    ")\n",
    "print(\"alpha =\",0.05)\n",
    "\n",
    "# применим статистический критерий Манна-Уитни к полученным выборкам\n",
    "print('p-value: {0:.3f}'.format(stats.mannwhitneyu(sampleAFiltered, sampleBFiltered)[1]))\n",
    "print('Различие в конверсии: {0:.3f}'.format(sampleBFiltered.mean()/sampleAFiltered.mean()-1))"
   ]
  },
  {
   "cell_type": "markdown",
   "metadata": {},
   "source": [
    "P-value меньше критического уровня значимости, следовательно, мы отвергаем нулевую гипотезу о том, что статистически значимых различий в конверсии между группами по «очищенным» данным нет. Относительный прирост конверсии группы В над группой А  составил 17%."
   ]
  },
  {
   "cell_type": "markdown",
   "metadata": {},
   "source": [
    "### Подсчет статистической значимости различий в среднем чеке заказа между группами по «очищенным» данным"
   ]
  },
  {
   "cell_type": "markdown",
   "metadata": {},
   "source": [
    "Сформулируем нулевую и альтернативную гипотезы: \n",
    "* Н0 - различий в среднем чеке между группами по \"очищенным\" данным нет,\n",
    "* Н1 - различия в среднем чеке между группами есть."
   ]
  },
  {
   "cell_type": "code",
   "execution_count": 48,
   "metadata": {},
   "outputs": [
    {
     "name": "stdout",
     "output_type": "stream",
     "text": [
      "alpha = 0.05\n",
      "p-value: 0.729\n",
      "Различие в конверсии: -0.020\n"
     ]
    }
   ],
   "source": [
    "print(\"alpha =\",0.05)\n",
    "print('p-value: {0:.3f}'.format(stats.mannwhitneyu(\n",
    "    orders[np.logical_and(orders['group'] == 'A', np.logical_not(orders['transactionId'].isin(abnormalUsers)),)]['revenue'],\n",
    "    orders[np.logical_and(orders['group'] == 'B', np.logical_not(orders['transactionId'].isin(abnormalUsers)),)]['revenue'],)[1]))\n",
    "print(\"Различие в конверсии: {0:.3f}\".format(\n",
    "    orders[np.logical_and(orders['group'] == 'B',np.logical_not(orders['visitorId'].isin(abnormalUsers)),)]['revenue'].mean()/ \n",
    "    orders[np.logical_and(orders['group'] == 'A',np.logical_not(orders['visitorId'].isin(abnormalUsers)),)]['revenue'].mean()- 1))"
   ]
  },
  {
   "cell_type": "markdown",
   "metadata": {},
   "source": [
    "P-value больше 0.05 - статистически значимых отличий между средними чеками по \"очищенным\" данным нет. Относительный проигрыш группы В над группой А составил 2%."
   ]
  },
  {
   "cell_type": "markdown",
   "metadata": {},
   "source": [
    "**Вывод**\n",
    "\n",
    "Анализ А/В теста показал, что есть статистически значимые отличия в конверсии между граппами А и В  и по \"сырым\", и \"очищенным\" данным. Абсолютно противоположную картину нам показал тест при проверке гипотезы об отсутствии различий в среднем чеке между группами, где статистически значимых различий не было обнаружено. По результатам теста наилучшие показатели продемонстрировала группа В. Исходя из вышеизложенного, тест следует остановить и признать его успешным."
   ]
  },
  {
   "cell_type": "markdown",
   "metadata": {},
   "source": [
    "## Общий вывод"
   ]
  },
  {
   "cell_type": "markdown",
   "metadata": {},
   "source": [
    "В ходе проведения данного исследования, целью которого являлось выявление приоритетных гипотез для увеличения выручки, а также проведение анализа А/В-тестирования, мы выявили:\n",
    "* наиболее приоритетными для тестирования являются гипотезы: 7 - добавить форму подписки на все основные страницы, чтобы собрать базу клиентов для email-рассылок, и 2 - добавить блоки рекомендаций товаров на сайт интернет магазина, чтобы повысить конверсию и средний чек заказа,\n",
    "* есть статистически значимые различия по средней конверсии между группами по \"сырым\" данным и по данным после фильтрации аномалий,\n",
    "* нет статистически значимого различия по среднему чеку между группами ни по «сырым», ни по \"очищенным\" данным,\n",
    "* график относительного изменения конверсии группы B к группе A сообщает, что показатели группы А намного хуже группы В,\n",
    "* график относительного изменения среднего чека также показывает превосходство группы В.\n",
    "\n",
    "На основании чего было принято решение остановить тест и признать победу группы В."
   ]
  }
 ],
 "metadata": {
  "ExecuteTimeLog": [
   {
    "duration": 3,
    "start_time": "2022-07-20T07:43:38.565Z"
   },
   {
    "duration": 2,
    "start_time": "2022-07-20T07:55:21.375Z"
   },
   {
    "duration": 934,
    "start_time": "2022-07-20T07:58:30.331Z"
   },
   {
    "duration": 89,
    "start_time": "2022-07-20T08:02:16.269Z"
   },
   {
    "duration": 32,
    "start_time": "2022-07-20T08:02:36.168Z"
   },
   {
    "duration": 35,
    "start_time": "2022-07-20T08:02:44.312Z"
   },
   {
    "duration": 13,
    "start_time": "2022-07-20T08:03:03.766Z"
   },
   {
    "duration": 113,
    "start_time": "2022-07-20T08:04:45.274Z"
   },
   {
    "duration": 15,
    "start_time": "2022-07-20T08:04:53.642Z"
   },
   {
    "duration": 84,
    "start_time": "2022-07-20T08:05:48.020Z"
   },
   {
    "duration": 38,
    "start_time": "2022-07-20T08:05:53.835Z"
   },
   {
    "duration": 67,
    "start_time": "2022-07-20T08:05:59.507Z"
   },
   {
    "duration": 40,
    "start_time": "2022-07-20T08:07:39.696Z"
   },
   {
    "duration": 10,
    "start_time": "2022-07-20T08:09:22.185Z"
   },
   {
    "duration": 12,
    "start_time": "2022-07-20T08:09:45.765Z"
   },
   {
    "duration": 3,
    "start_time": "2022-07-20T08:11:03.779Z"
   },
   {
    "duration": 34,
    "start_time": "2022-07-20T08:11:04.151Z"
   },
   {
    "duration": 10,
    "start_time": "2022-07-20T08:11:04.478Z"
   },
   {
    "duration": 44,
    "start_time": "2022-07-20T08:11:04.799Z"
   },
   {
    "duration": 13,
    "start_time": "2022-07-20T08:11:05.159Z"
   },
   {
    "duration": 38,
    "start_time": "2022-07-20T08:11:05.533Z"
   },
   {
    "duration": 11,
    "start_time": "2022-07-20T08:11:05.873Z"
   },
   {
    "duration": 3,
    "start_time": "2022-07-20T08:15:25.653Z"
   },
   {
    "duration": 11,
    "start_time": "2022-07-20T08:16:26.187Z"
   },
   {
    "duration": 12,
    "start_time": "2022-07-20T08:16:36.329Z"
   },
   {
    "duration": 32,
    "start_time": "2022-07-20T08:16:44.655Z"
   },
   {
    "duration": 17,
    "start_time": "2022-07-20T08:16:45.018Z"
   },
   {
    "duration": 96,
    "start_time": "2022-07-20T08:23:17.336Z"
   },
   {
    "duration": 7,
    "start_time": "2022-07-20T08:29:07.479Z"
   },
   {
    "duration": 28,
    "start_time": "2022-07-20T08:29:25.538Z"
   },
   {
    "duration": 4,
    "start_time": "2022-07-20T08:30:46.986Z"
   },
   {
    "duration": 4,
    "start_time": "2022-07-20T08:30:58.117Z"
   },
   {
    "duration": 6,
    "start_time": "2022-07-20T08:33:29.827Z"
   },
   {
    "duration": 7,
    "start_time": "2022-07-20T08:33:52.221Z"
   },
   {
    "duration": 8,
    "start_time": "2022-07-20T08:34:30.150Z"
   },
   {
    "duration": 11,
    "start_time": "2022-07-20T08:34:53.508Z"
   },
   {
    "duration": 3,
    "start_time": "2022-07-20T08:35:03.308Z"
   },
   {
    "duration": 33,
    "start_time": "2022-07-20T08:35:03.653Z"
   },
   {
    "duration": 11,
    "start_time": "2022-07-20T08:35:04.000Z"
   },
   {
    "duration": 46,
    "start_time": "2022-07-20T08:35:04.357Z"
   },
   {
    "duration": 11,
    "start_time": "2022-07-20T08:35:04.695Z"
   },
   {
    "duration": 44,
    "start_time": "2022-07-20T08:35:05.044Z"
   },
   {
    "duration": 10,
    "start_time": "2022-07-20T08:35:05.373Z"
   },
   {
    "duration": 9,
    "start_time": "2022-07-20T08:35:06.722Z"
   },
   {
    "duration": 5,
    "start_time": "2022-07-20T08:35:07.100Z"
   },
   {
    "duration": 35,
    "start_time": "2022-07-20T08:35:20.409Z"
   },
   {
    "duration": 5,
    "start_time": "2022-07-20T08:38:30.290Z"
   },
   {
    "duration": 11,
    "start_time": "2022-07-20T08:38:51.538Z"
   },
   {
    "duration": 7,
    "start_time": "2022-07-20T08:39:03.703Z"
   },
   {
    "duration": 6,
    "start_time": "2022-07-20T08:42:09.916Z"
   },
   {
    "duration": 10,
    "start_time": "2022-07-20T08:42:25.815Z"
   },
   {
    "duration": 5,
    "start_time": "2022-07-20T08:42:36.256Z"
   },
   {
    "duration": 6,
    "start_time": "2022-07-20T08:42:43.096Z"
   },
   {
    "duration": 6,
    "start_time": "2022-07-20T08:43:11.957Z"
   },
   {
    "duration": 5,
    "start_time": "2022-07-20T08:43:21.515Z"
   },
   {
    "duration": 6,
    "start_time": "2022-07-20T08:43:39.778Z"
   },
   {
    "duration": 5,
    "start_time": "2022-07-20T08:43:54.522Z"
   },
   {
    "duration": 3,
    "start_time": "2022-07-20T08:44:30.655Z"
   },
   {
    "duration": 2,
    "start_time": "2022-07-20T08:44:56.320Z"
   },
   {
    "duration": 3,
    "start_time": "2022-07-20T08:45:34.116Z"
   },
   {
    "duration": 3,
    "start_time": "2022-07-20T08:55:30.033Z"
   },
   {
    "duration": 13,
    "start_time": "2022-07-20T08:58:52.448Z"
   },
   {
    "duration": 2,
    "start_time": "2022-07-20T08:59:45.359Z"
   },
   {
    "duration": 32,
    "start_time": "2022-07-20T08:59:45.663Z"
   },
   {
    "duration": 12,
    "start_time": "2022-07-20T08:59:45.978Z"
   },
   {
    "duration": 44,
    "start_time": "2022-07-20T08:59:46.272Z"
   },
   {
    "duration": 11,
    "start_time": "2022-07-20T08:59:46.602Z"
   },
   {
    "duration": 43,
    "start_time": "2022-07-20T08:59:46.922Z"
   },
   {
    "duration": 11,
    "start_time": "2022-07-20T08:59:47.249Z"
   },
   {
    "duration": 5,
    "start_time": "2022-07-20T08:59:48.894Z"
   },
   {
    "duration": 6,
    "start_time": "2022-07-20T08:59:49.185Z"
   },
   {
    "duration": 5,
    "start_time": "2022-07-20T08:59:49.511Z"
   },
   {
    "duration": 7,
    "start_time": "2022-07-20T08:59:49.855Z"
   },
   {
    "duration": 6,
    "start_time": "2022-07-20T08:59:50.502Z"
   },
   {
    "duration": 7,
    "start_time": "2022-07-20T08:59:50.795Z"
   },
   {
    "duration": 5,
    "start_time": "2022-07-20T08:59:51.107Z"
   },
   {
    "duration": 8,
    "start_time": "2022-07-20T08:59:51.733Z"
   },
   {
    "duration": 6,
    "start_time": "2022-07-20T08:59:52.054Z"
   },
   {
    "duration": 7,
    "start_time": "2022-07-20T08:59:52.357Z"
   },
   {
    "duration": 8,
    "start_time": "2022-07-20T08:59:53.605Z"
   },
   {
    "duration": 1437,
    "start_time": "2022-07-20T08:59:53.955Z"
   },
   {
    "duration": 10,
    "start_time": "2022-07-20T09:00:27.408Z"
   },
   {
    "duration": 3,
    "start_time": "2022-07-20T09:01:29.822Z"
   },
   {
    "duration": 43,
    "start_time": "2022-07-20T09:01:30.213Z"
   },
   {
    "duration": 13,
    "start_time": "2022-07-20T09:01:30.651Z"
   },
   {
    "duration": 63,
    "start_time": "2022-07-20T09:01:31.300Z"
   },
   {
    "duration": 16,
    "start_time": "2022-07-20T09:01:31.611Z"
   },
   {
    "duration": 21,
    "start_time": "2022-07-20T09:01:31.955Z"
   },
   {
    "duration": 11,
    "start_time": "2022-07-20T09:01:32.354Z"
   },
   {
    "duration": 5,
    "start_time": "2022-07-20T09:01:34.131Z"
   },
   {
    "duration": 6,
    "start_time": "2022-07-20T09:01:34.507Z"
   },
   {
    "duration": 6,
    "start_time": "2022-07-20T09:01:34.896Z"
   },
   {
    "duration": 6,
    "start_time": "2022-07-20T09:01:35.255Z"
   },
   {
    "duration": 6,
    "start_time": "2022-07-20T09:01:35.989Z"
   },
   {
    "duration": 9,
    "start_time": "2022-07-20T09:01:36.423Z"
   },
   {
    "duration": 6,
    "start_time": "2022-07-20T09:01:36.751Z"
   },
   {
    "duration": 6,
    "start_time": "2022-07-20T09:01:37.517Z"
   },
   {
    "duration": 9,
    "start_time": "2022-07-20T09:01:37.901Z"
   },
   {
    "duration": 5,
    "start_time": "2022-07-20T09:01:38.222Z"
   },
   {
    "duration": 7,
    "start_time": "2022-07-20T09:01:39.716Z"
   },
   {
    "duration": 8,
    "start_time": "2022-07-20T09:01:40.155Z"
   },
   {
    "duration": 9,
    "start_time": "2022-07-20T09:01:52.355Z"
   },
   {
    "duration": 4,
    "start_time": "2022-07-20T09:02:04.979Z"
   },
   {
    "duration": 17,
    "start_time": "2022-07-20T09:02:46.867Z"
   },
   {
    "duration": 16,
    "start_time": "2022-07-20T09:03:28.013Z"
   },
   {
    "duration": 12,
    "start_time": "2022-07-20T09:04:20.491Z"
   },
   {
    "duration": 12,
    "start_time": "2022-07-20T09:04:38.869Z"
   },
   {
    "duration": 2,
    "start_time": "2022-07-20T09:05:18.502Z"
   },
   {
    "duration": 14,
    "start_time": "2022-07-20T09:07:54.680Z"
   },
   {
    "duration": 15,
    "start_time": "2022-07-20T09:08:51.114Z"
   },
   {
    "duration": 15,
    "start_time": "2022-07-20T09:09:20.393Z"
   },
   {
    "duration": 15,
    "start_time": "2022-07-20T09:09:28.207Z"
   },
   {
    "duration": 16,
    "start_time": "2022-07-20T09:09:35.078Z"
   },
   {
    "duration": 28,
    "start_time": "2022-07-20T09:15:50.451Z"
   },
   {
    "duration": 17,
    "start_time": "2022-07-20T09:16:23.689Z"
   },
   {
    "duration": 17,
    "start_time": "2022-07-20T09:18:21.231Z"
   },
   {
    "duration": 3,
    "start_time": "2022-07-20T09:55:07.255Z"
   },
   {
    "duration": 15,
    "start_time": "2022-07-20T10:28:05.437Z"
   },
   {
    "duration": 93,
    "start_time": "2022-07-20T10:43:42.724Z"
   },
   {
    "duration": 306,
    "start_time": "2022-07-20T10:43:47.939Z"
   },
   {
    "duration": 3,
    "start_time": "2022-07-20T10:44:13.253Z"
   },
   {
    "duration": 32,
    "start_time": "2022-07-20T10:44:13.617Z"
   },
   {
    "duration": 10,
    "start_time": "2022-07-20T10:44:13.975Z"
   },
   {
    "duration": 53,
    "start_time": "2022-07-20T10:44:14.233Z"
   },
   {
    "duration": 11,
    "start_time": "2022-07-20T10:44:14.546Z"
   },
   {
    "duration": 33,
    "start_time": "2022-07-20T10:44:14.864Z"
   },
   {
    "duration": 11,
    "start_time": "2022-07-20T10:44:15.191Z"
   },
   {
    "duration": 5,
    "start_time": "2022-07-20T10:44:17.414Z"
   },
   {
    "duration": 5,
    "start_time": "2022-07-20T10:44:17.728Z"
   },
   {
    "duration": 6,
    "start_time": "2022-07-20T10:44:18.063Z"
   },
   {
    "duration": 4,
    "start_time": "2022-07-20T10:44:18.356Z"
   },
   {
    "duration": 6,
    "start_time": "2022-07-20T10:44:18.993Z"
   },
   {
    "duration": 6,
    "start_time": "2022-07-20T10:44:19.271Z"
   },
   {
    "duration": 338,
    "start_time": "2022-07-20T10:44:19.581Z"
   },
   {
    "duration": 0,
    "start_time": "2022-07-20T10:44:19.921Z"
   },
   {
    "duration": 3,
    "start_time": "2022-07-20T10:44:37.584Z"
   },
   {
    "duration": 6,
    "start_time": "2022-07-20T10:46:21.454Z"
   },
   {
    "duration": 33,
    "start_time": "2022-07-20T10:53:34.642Z"
   },
   {
    "duration": 13,
    "start_time": "2022-07-20T10:55:43.119Z"
   },
   {
    "duration": 284,
    "start_time": "2022-07-20T10:56:02.924Z"
   },
   {
    "duration": 278,
    "start_time": "2022-07-20T10:56:22.762Z"
   },
   {
    "duration": 328,
    "start_time": "2022-07-20T11:02:26.953Z"
   },
   {
    "duration": 326,
    "start_time": "2022-07-20T11:16:33.127Z"
   },
   {
    "duration": 328,
    "start_time": "2022-07-20T11:17:25.112Z"
   },
   {
    "duration": 309,
    "start_time": "2022-07-20T11:17:30.246Z"
   },
   {
    "duration": 358,
    "start_time": "2022-07-20T11:17:50.560Z"
   },
   {
    "duration": 293,
    "start_time": "2022-07-20T11:17:58.649Z"
   },
   {
    "duration": 402,
    "start_time": "2022-07-20T11:28:52.751Z"
   },
   {
    "duration": 313,
    "start_time": "2022-07-20T11:29:09.754Z"
   },
   {
    "duration": 321,
    "start_time": "2022-07-20T11:30:28.982Z"
   },
   {
    "duration": 286,
    "start_time": "2022-07-20T11:34:14.210Z"
   },
   {
    "duration": 323,
    "start_time": "2022-07-20T11:34:46.626Z"
   },
   {
    "duration": 354,
    "start_time": "2022-07-20T11:34:57.069Z"
   },
   {
    "duration": 26,
    "start_time": "2022-07-20T11:36:05.370Z"
   },
   {
    "duration": 367,
    "start_time": "2022-07-20T11:38:05.039Z"
   },
   {
    "duration": 331,
    "start_time": "2022-07-20T11:38:09.885Z"
   },
   {
    "duration": 344,
    "start_time": "2022-07-20T11:38:16.576Z"
   },
   {
    "duration": 3,
    "start_time": "2022-07-20T11:38:52.451Z"
   },
   {
    "duration": 416,
    "start_time": "2022-07-20T11:46:46.719Z"
   },
   {
    "duration": 347,
    "start_time": "2022-07-20T11:47:11.548Z"
   },
   {
    "duration": 3,
    "start_time": "2022-07-20T11:47:54.451Z"
   },
   {
    "duration": 602,
    "start_time": "2022-07-20T12:02:43.488Z"
   },
   {
    "duration": 469,
    "start_time": "2022-07-20T12:02:59.928Z"
   },
   {
    "duration": 393,
    "start_time": "2022-07-20T12:09:54.966Z"
   },
   {
    "duration": 307,
    "start_time": "2022-07-20T12:10:09.536Z"
   },
   {
    "duration": 3,
    "start_time": "2022-07-20T12:10:59.984Z"
   },
   {
    "duration": 305,
    "start_time": "2022-07-20T12:19:04.144Z"
   },
   {
    "duration": 303,
    "start_time": "2022-07-20T12:19:34.326Z"
   },
   {
    "duration": 331,
    "start_time": "2022-07-20T12:19:53.193Z"
   },
   {
    "duration": 477,
    "start_time": "2022-07-20T12:20:17.612Z"
   },
   {
    "duration": 483,
    "start_time": "2022-07-20T12:20:24.974Z"
   },
   {
    "duration": 2,
    "start_time": "2022-07-20T12:24:25.318Z"
   },
   {
    "duration": 10,
    "start_time": "2022-07-20T12:37:25.501Z"
   },
   {
    "duration": 531,
    "start_time": "2022-07-20T12:46:36.154Z"
   },
   {
    "duration": 472,
    "start_time": "2022-07-20T12:47:08.712Z"
   },
   {
    "duration": 392,
    "start_time": "2022-07-20T12:47:53.784Z"
   },
   {
    "duration": 487,
    "start_time": "2022-07-20T12:48:09.490Z"
   },
   {
    "duration": 431,
    "start_time": "2022-07-20T12:48:23.370Z"
   },
   {
    "duration": 464,
    "start_time": "2022-07-20T12:49:06.439Z"
   },
   {
    "duration": 448,
    "start_time": "2022-07-20T12:49:20.734Z"
   },
   {
    "duration": 421,
    "start_time": "2022-07-20T12:49:29.007Z"
   },
   {
    "duration": 465,
    "start_time": "2022-07-20T12:49:33.828Z"
   },
   {
    "duration": 434,
    "start_time": "2022-07-20T12:49:43.265Z"
   },
   {
    "duration": 3,
    "start_time": "2022-07-20T12:53:23.279Z"
   },
   {
    "duration": 12,
    "start_time": "2022-07-20T13:09:57.449Z"
   },
   {
    "duration": 9,
    "start_time": "2022-07-20T13:18:22.196Z"
   },
   {
    "duration": 9,
    "start_time": "2022-07-20T13:18:31.156Z"
   },
   {
    "duration": 8,
    "start_time": "2022-07-20T13:18:34.422Z"
   },
   {
    "duration": 13,
    "start_time": "2022-07-20T13:18:51.556Z"
   },
   {
    "duration": 2,
    "start_time": "2022-07-20T13:19:11.057Z"
   },
   {
    "duration": 32,
    "start_time": "2022-07-20T13:19:11.353Z"
   },
   {
    "duration": 12,
    "start_time": "2022-07-20T13:19:11.656Z"
   },
   {
    "duration": 44,
    "start_time": "2022-07-20T13:19:11.970Z"
   },
   {
    "duration": 11,
    "start_time": "2022-07-20T13:19:12.313Z"
   },
   {
    "duration": 37,
    "start_time": "2022-07-20T13:19:12.622Z"
   },
   {
    "duration": 12,
    "start_time": "2022-07-20T13:19:12.933Z"
   },
   {
    "duration": 6,
    "start_time": "2022-07-20T13:19:15.339Z"
   },
   {
    "duration": 6,
    "start_time": "2022-07-20T13:19:15.557Z"
   },
   {
    "duration": 6,
    "start_time": "2022-07-20T13:19:16.288Z"
   },
   {
    "duration": 5,
    "start_time": "2022-07-20T13:19:16.517Z"
   },
   {
    "duration": 6,
    "start_time": "2022-07-20T13:19:17.159Z"
   },
   {
    "duration": 6,
    "start_time": "2022-07-20T13:19:17.482Z"
   },
   {
    "duration": 5,
    "start_time": "2022-07-20T13:19:17.813Z"
   },
   {
    "duration": 7,
    "start_time": "2022-07-20T13:19:18.465Z"
   },
   {
    "duration": 5,
    "start_time": "2022-07-20T13:19:18.797Z"
   },
   {
    "duration": 6,
    "start_time": "2022-07-20T13:19:19.105Z"
   },
   {
    "duration": 12,
    "start_time": "2022-07-20T13:19:20.455Z"
   },
   {
    "duration": 12,
    "start_time": "2022-07-20T13:19:21.456Z"
   },
   {
    "duration": 291,
    "start_time": "2022-07-20T13:19:23.295Z"
   },
   {
    "duration": 427,
    "start_time": "2022-07-20T13:19:24.682Z"
   },
   {
    "duration": 308,
    "start_time": "2022-07-20T13:19:25.452Z"
   },
   {
    "duration": 416,
    "start_time": "2022-07-20T13:19:26.198Z"
   },
   {
    "duration": 338,
    "start_time": "2022-07-20T13:19:26.953Z"
   },
   {
    "duration": 424,
    "start_time": "2022-07-20T13:19:27.678Z"
   },
   {
    "duration": 10,
    "start_time": "2022-07-20T13:19:28.452Z"
   },
   {
    "duration": 126,
    "start_time": "2022-07-20T13:19:49.556Z"
   },
   {
    "duration": 122,
    "start_time": "2022-07-20T13:20:05.771Z"
   },
   {
    "duration": 7,
    "start_time": "2022-07-20T13:22:20.746Z"
   },
   {
    "duration": 181,
    "start_time": "2022-07-20T13:27:18.947Z"
   },
   {
    "duration": 160,
    "start_time": "2022-07-20T13:27:48.118Z"
   },
   {
    "duration": 152,
    "start_time": "2022-07-20T13:29:04.263Z"
   },
   {
    "duration": 149,
    "start_time": "2022-07-20T13:29:10.166Z"
   },
   {
    "duration": 2,
    "start_time": "2022-07-20T13:29:41.962Z"
   },
   {
    "duration": 1358,
    "start_time": "2022-07-20T13:32:38.361Z"
   },
   {
    "duration": 5,
    "start_time": "2022-07-20T13:33:06.691Z"
   },
   {
    "duration": 2,
    "start_time": "2022-07-20T13:37:03.666Z"
   },
   {
    "duration": 139,
    "start_time": "2022-07-20T13:50:56.203Z"
   },
   {
    "duration": 257,
    "start_time": "2022-07-20T13:53:48.755Z"
   },
   {
    "duration": 176,
    "start_time": "2022-07-20T13:54:32.012Z"
   },
   {
    "duration": 196,
    "start_time": "2022-07-20T13:55:24.989Z"
   },
   {
    "duration": 184,
    "start_time": "2022-07-20T13:55:34.227Z"
   },
   {
    "duration": 3,
    "start_time": "2022-07-20T13:56:30.312Z"
   },
   {
    "duration": 4,
    "start_time": "2022-07-20T13:57:44.760Z"
   },
   {
    "duration": 2,
    "start_time": "2022-07-20T14:05:46.790Z"
   },
   {
    "duration": 13,
    "start_time": "2022-07-20T14:33:20.102Z"
   },
   {
    "duration": 63,
    "start_time": "2022-07-20T14:33:37.079Z"
   },
   {
    "duration": 145,
    "start_time": "2022-07-20T14:35:22.772Z"
   },
   {
    "duration": 2685,
    "start_time": "2022-07-20T14:36:41.106Z"
   },
   {
    "duration": 2,
    "start_time": "2022-07-20T14:50:14.314Z"
   },
   {
    "duration": 13,
    "start_time": "2022-07-20T14:50:56.798Z"
   },
   {
    "duration": 464,
    "start_time": "2022-07-20T14:51:18.909Z"
   },
   {
    "duration": 35,
    "start_time": "2022-07-20T14:51:20.791Z"
   },
   {
    "duration": 15,
    "start_time": "2022-07-20T14:51:21.117Z"
   },
   {
    "duration": 44,
    "start_time": "2022-07-20T14:51:21.462Z"
   },
   {
    "duration": 12,
    "start_time": "2022-07-20T14:51:21.753Z"
   },
   {
    "duration": 32,
    "start_time": "2022-07-20T14:51:22.055Z"
   },
   {
    "duration": 10,
    "start_time": "2022-07-20T14:51:22.369Z"
   },
   {
    "duration": 5,
    "start_time": "2022-07-20T14:51:24.614Z"
   },
   {
    "duration": 6,
    "start_time": "2022-07-20T14:51:24.906Z"
   },
   {
    "duration": 6,
    "start_time": "2022-07-20T14:51:25.266Z"
   },
   {
    "duration": 6,
    "start_time": "2022-07-20T14:51:25.558Z"
   },
   {
    "duration": 7,
    "start_time": "2022-07-20T14:51:26.159Z"
   },
   {
    "duration": 6,
    "start_time": "2022-07-20T14:51:26.503Z"
   },
   {
    "duration": 6,
    "start_time": "2022-07-20T14:51:26.857Z"
   },
   {
    "duration": 6,
    "start_time": "2022-07-20T14:51:27.470Z"
   },
   {
    "duration": 7,
    "start_time": "2022-07-20T14:51:27.815Z"
   },
   {
    "duration": 5,
    "start_time": "2022-07-20T14:51:28.091Z"
   },
   {
    "duration": 11,
    "start_time": "2022-07-20T14:51:29.389Z"
   },
   {
    "duration": 13,
    "start_time": "2022-07-20T14:51:30.358Z"
   },
   {
    "duration": 289,
    "start_time": "2022-07-20T14:51:32.066Z"
   },
   {
    "duration": 336,
    "start_time": "2022-07-20T14:51:33.099Z"
   },
   {
    "duration": 411,
    "start_time": "2022-07-20T14:51:33.873Z"
   },
   {
    "duration": 407,
    "start_time": "2022-07-20T14:51:34.559Z"
   },
   {
    "duration": 352,
    "start_time": "2022-07-20T14:51:35.168Z"
   },
   {
    "duration": 401,
    "start_time": "2022-07-20T14:51:35.866Z"
   },
   {
    "duration": 170,
    "start_time": "2022-07-20T14:51:36.607Z"
   },
   {
    "duration": 5,
    "start_time": "2022-07-20T14:51:37.472Z"
   },
   {
    "duration": 179,
    "start_time": "2022-07-20T14:51:38.622Z"
   },
   {
    "duration": 5,
    "start_time": "2022-07-20T14:51:39.404Z"
   },
   {
    "duration": 14,
    "start_time": "2022-07-20T14:51:40.669Z"
   },
   {
    "duration": 9,
    "start_time": "2022-07-20T14:51:41.591Z"
   },
   {
    "duration": 3,
    "start_time": "2022-07-20T14:57:08.556Z"
   },
   {
    "duration": 51,
    "start_time": "2022-07-20T15:17:35.902Z"
   },
   {
    "duration": 53,
    "start_time": "2022-07-20T15:17:59.302Z"
   },
   {
    "duration": 13,
    "start_time": "2022-07-20T15:22:03.456Z"
   },
   {
    "duration": 5,
    "start_time": "2022-07-20T15:22:08.417Z"
   },
   {
    "duration": 4,
    "start_time": "2022-07-20T15:22:33.886Z"
   },
   {
    "duration": 5,
    "start_time": "2022-07-20T15:22:37.315Z"
   },
   {
    "duration": 3,
    "start_time": "2022-07-20T15:22:43.693Z"
   },
   {
    "duration": 32,
    "start_time": "2022-07-20T15:22:44.015Z"
   },
   {
    "duration": 10,
    "start_time": "2022-07-20T15:22:44.342Z"
   },
   {
    "duration": 42,
    "start_time": "2022-07-20T15:22:44.656Z"
   },
   {
    "duration": 14,
    "start_time": "2022-07-20T15:22:45.018Z"
   },
   {
    "duration": 33,
    "start_time": "2022-07-20T15:22:45.328Z"
   },
   {
    "duration": 11,
    "start_time": "2022-07-20T15:22:45.627Z"
   },
   {
    "duration": 7,
    "start_time": "2022-07-20T15:22:47.927Z"
   },
   {
    "duration": 5,
    "start_time": "2022-07-20T15:22:48.302Z"
   },
   {
    "duration": 5,
    "start_time": "2022-07-20T15:22:48.618Z"
   },
   {
    "duration": 4,
    "start_time": "2022-07-20T15:22:48.953Z"
   },
   {
    "duration": 6,
    "start_time": "2022-07-20T15:22:49.618Z"
   },
   {
    "duration": 7,
    "start_time": "2022-07-20T15:22:49.952Z"
   },
   {
    "duration": 12,
    "start_time": "2022-07-20T15:22:50.289Z"
   },
   {
    "duration": 5,
    "start_time": "2022-07-20T15:22:51.054Z"
   },
   {
    "duration": 6,
    "start_time": "2022-07-20T15:22:52.213Z"
   },
   {
    "duration": 5,
    "start_time": "2022-07-20T15:22:52.582Z"
   },
   {
    "duration": 4,
    "start_time": "2022-07-20T15:22:52.972Z"
   },
   {
    "duration": 4,
    "start_time": "2022-07-20T15:22:53.353Z"
   },
   {
    "duration": 12,
    "start_time": "2022-07-20T15:22:54.812Z"
   },
   {
    "duration": 12,
    "start_time": "2022-07-20T15:22:55.913Z"
   },
   {
    "duration": 334,
    "start_time": "2022-07-20T15:22:57.661Z"
   },
   {
    "duration": 295,
    "start_time": "2022-07-20T15:22:58.421Z"
   },
   {
    "duration": 216,
    "start_time": "2022-07-20T15:22:59.386Z"
   },
   {
    "duration": 340,
    "start_time": "2022-07-20T15:23:00.422Z"
   },
   {
    "duration": 254,
    "start_time": "2022-07-20T15:23:01.128Z"
   },
   {
    "duration": 309,
    "start_time": "2022-07-20T15:23:01.853Z"
   },
   {
    "duration": 276,
    "start_time": "2022-07-20T15:23:02.637Z"
   },
   {
    "duration": 6,
    "start_time": "2022-07-20T15:23:03.453Z"
   },
   {
    "duration": 174,
    "start_time": "2022-07-20T15:23:04.518Z"
   },
   {
    "duration": 5,
    "start_time": "2022-07-20T15:23:05.252Z"
   },
   {
    "duration": 9,
    "start_time": "2022-07-20T15:23:07.655Z"
   },
   {
    "duration": 1292,
    "start_time": "2022-07-21T06:08:54.826Z"
   },
   {
    "duration": 71,
    "start_time": "2022-07-21T06:08:56.120Z"
   },
   {
    "duration": 10,
    "start_time": "2022-07-21T06:08:56.193Z"
   },
   {
    "duration": 88,
    "start_time": "2022-07-21T06:08:56.205Z"
   },
   {
    "duration": 10,
    "start_time": "2022-07-21T06:08:57.178Z"
   },
   {
    "duration": 69,
    "start_time": "2022-07-21T06:08:57.593Z"
   },
   {
    "duration": 9,
    "start_time": "2022-07-21T06:08:57.949Z"
   },
   {
    "duration": 7,
    "start_time": "2022-07-21T06:09:00.385Z"
   },
   {
    "duration": 7,
    "start_time": "2022-07-21T06:09:01.154Z"
   },
   {
    "duration": 6,
    "start_time": "2022-07-21T06:09:01.551Z"
   },
   {
    "duration": 5,
    "start_time": "2022-07-21T06:09:01.915Z"
   },
   {
    "duration": 8,
    "start_time": "2022-07-21T06:09:02.619Z"
   },
   {
    "duration": 6,
    "start_time": "2022-07-21T06:09:02.999Z"
   },
   {
    "duration": 356,
    "start_time": "2022-07-21T06:09:03.380Z"
   },
   {
    "duration": 0,
    "start_time": "2022-07-21T06:09:03.738Z"
   },
   {
    "duration": 7,
    "start_time": "2022-07-21T06:09:04.548Z"
   },
   {
    "duration": 5,
    "start_time": "2022-07-21T06:09:41.076Z"
   },
   {
    "duration": 32,
    "start_time": "2022-07-21T06:09:42.453Z"
   },
   {
    "duration": 17,
    "start_time": "2022-07-21T06:09:42.965Z"
   },
   {
    "duration": 44,
    "start_time": "2022-07-21T06:09:43.343Z"
   },
   {
    "duration": 10,
    "start_time": "2022-07-21T06:09:43.693Z"
   },
   {
    "duration": 32,
    "start_time": "2022-07-21T06:09:44.063Z"
   },
   {
    "duration": 10,
    "start_time": "2022-07-21T06:09:44.399Z"
   },
   {
    "duration": 6,
    "start_time": "2022-07-21T06:09:46.890Z"
   },
   {
    "duration": 6,
    "start_time": "2022-07-21T06:09:47.205Z"
   },
   {
    "duration": 5,
    "start_time": "2022-07-21T06:09:47.584Z"
   },
   {
    "duration": 5,
    "start_time": "2022-07-21T06:09:47.952Z"
   },
   {
    "duration": 6,
    "start_time": "2022-07-21T06:09:48.700Z"
   },
   {
    "duration": 6,
    "start_time": "2022-07-21T06:09:49.045Z"
   },
   {
    "duration": 14,
    "start_time": "2022-07-21T06:09:49.409Z"
   },
   {
    "duration": 6,
    "start_time": "2022-07-21T06:09:49.780Z"
   },
   {
    "duration": 7,
    "start_time": "2022-07-21T06:09:50.526Z"
   },
   {
    "duration": 5,
    "start_time": "2022-07-21T06:09:50.880Z"
   },
   {
    "duration": 5,
    "start_time": "2022-07-21T06:09:51.249Z"
   },
   {
    "duration": 5,
    "start_time": "2022-07-21T06:09:51.610Z"
   },
   {
    "duration": 13,
    "start_time": "2022-07-21T06:09:53.033Z"
   },
   {
    "duration": 28,
    "start_time": "2022-07-21T06:09:54.092Z"
   },
   {
    "duration": 346,
    "start_time": "2022-07-21T06:09:56.082Z"
   },
   {
    "duration": 301,
    "start_time": "2022-07-21T06:09:58.331Z"
   },
   {
    "duration": 221,
    "start_time": "2022-07-21T06:09:59.095Z"
   },
   {
    "duration": 374,
    "start_time": "2022-07-21T06:09:59.836Z"
   },
   {
    "duration": 237,
    "start_time": "2022-07-21T06:10:04.980Z"
   },
   {
    "duration": 225,
    "start_time": "2022-07-21T06:10:13.294Z"
   },
   {
    "duration": 224,
    "start_time": "2022-07-21T06:10:18.096Z"
   },
   {
    "duration": 85,
    "start_time": "2022-07-21T06:25:12.021Z"
   },
   {
    "duration": 98,
    "start_time": "2022-07-21T06:32:15.427Z"
   },
   {
    "duration": 60,
    "start_time": "2022-07-21T06:33:20.438Z"
   },
   {
    "duration": 60,
    "start_time": "2022-07-21T06:33:28.475Z"
   },
   {
    "duration": 95,
    "start_time": "2022-07-21T06:35:47.048Z"
   },
   {
    "duration": 104,
    "start_time": "2022-07-21T06:36:48.927Z"
   },
   {
    "duration": 199,
    "start_time": "2022-07-21T06:37:22.102Z"
   },
   {
    "duration": 3,
    "start_time": "2022-07-21T06:38:04.519Z"
   },
   {
    "duration": 31,
    "start_time": "2022-07-21T06:38:04.874Z"
   },
   {
    "duration": 10,
    "start_time": "2022-07-21T06:38:05.206Z"
   },
   {
    "duration": 42,
    "start_time": "2022-07-21T06:38:05.548Z"
   },
   {
    "duration": 10,
    "start_time": "2022-07-21T06:38:05.847Z"
   },
   {
    "duration": 31,
    "start_time": "2022-07-21T06:38:06.164Z"
   },
   {
    "duration": 12,
    "start_time": "2022-07-21T06:38:06.491Z"
   },
   {
    "duration": 7,
    "start_time": "2022-07-21T06:38:08.879Z"
   },
   {
    "duration": 7,
    "start_time": "2022-07-21T06:38:09.219Z"
   },
   {
    "duration": 5,
    "start_time": "2022-07-21T06:38:09.555Z"
   },
   {
    "duration": 6,
    "start_time": "2022-07-21T06:38:09.891Z"
   },
   {
    "duration": 6,
    "start_time": "2022-07-21T06:38:10.581Z"
   },
   {
    "duration": 6,
    "start_time": "2022-07-21T06:38:10.894Z"
   },
   {
    "duration": 12,
    "start_time": "2022-07-21T06:38:11.234Z"
   },
   {
    "duration": 6,
    "start_time": "2022-07-21T06:38:11.543Z"
   },
   {
    "duration": 7,
    "start_time": "2022-07-21T06:38:12.191Z"
   },
   {
    "duration": 6,
    "start_time": "2022-07-21T06:38:12.498Z"
   },
   {
    "duration": 5,
    "start_time": "2022-07-21T06:38:12.860Z"
   },
   {
    "duration": 5,
    "start_time": "2022-07-21T06:38:13.188Z"
   },
   {
    "duration": 12,
    "start_time": "2022-07-21T06:38:14.515Z"
   },
   {
    "duration": 12,
    "start_time": "2022-07-21T06:38:15.499Z"
   },
   {
    "duration": 277,
    "start_time": "2022-07-21T06:38:17.496Z"
   },
   {
    "duration": 225,
    "start_time": "2022-07-21T06:38:18.252Z"
   },
   {
    "duration": 190,
    "start_time": "2022-07-21T06:38:19.904Z"
   },
   {
    "duration": 399,
    "start_time": "2022-07-21T06:38:20.988Z"
   },
   {
    "duration": 203,
    "start_time": "2022-07-21T06:38:21.708Z"
   },
   {
    "duration": 372,
    "start_time": "2022-07-21T06:38:22.451Z"
   },
   {
    "duration": 130,
    "start_time": "2022-07-21T06:38:23.175Z"
   },
   {
    "duration": 6,
    "start_time": "2022-07-21T06:38:23.902Z"
   },
   {
    "duration": 142,
    "start_time": "2022-07-21T06:38:25.394Z"
   },
   {
    "duration": 5,
    "start_time": "2022-07-21T06:38:26.189Z"
   },
   {
    "duration": 132,
    "start_time": "2022-07-21T06:38:32.272Z"
   },
   {
    "duration": 5,
    "start_time": "2022-07-21T06:38:36.247Z"
   },
   {
    "duration": 219,
    "start_time": "2022-07-21T06:38:37.697Z"
   },
   {
    "duration": 11,
    "start_time": "2022-07-21T06:38:38.776Z"
   },
   {
    "duration": 234,
    "start_time": "2022-07-21T06:39:32.400Z"
   },
   {
    "duration": 217,
    "start_time": "2022-07-21T06:39:35.495Z"
   },
   {
    "duration": 11,
    "start_time": "2022-07-21T06:55:45.064Z"
   },
   {
    "duration": 150,
    "start_time": "2022-07-21T06:55:54.584Z"
   },
   {
    "duration": 333,
    "start_time": "2022-07-21T06:57:31.494Z"
   },
   {
    "duration": 273,
    "start_time": "2022-07-21T07:00:00.506Z"
   },
   {
    "duration": 226,
    "start_time": "2022-07-21T07:00:31.485Z"
   },
   {
    "duration": 347,
    "start_time": "2022-07-21T07:00:59.990Z"
   },
   {
    "duration": 305,
    "start_time": "2022-07-21T07:01:18.145Z"
   },
   {
    "duration": 13,
    "start_time": "2022-07-21T07:01:34.341Z"
   },
   {
    "duration": 147,
    "start_time": "2022-07-21T07:10:58.328Z"
   },
   {
    "duration": 155,
    "start_time": "2022-07-21T07:11:13.651Z"
   },
   {
    "duration": 154,
    "start_time": "2022-07-21T07:11:21.139Z"
   },
   {
    "duration": 194,
    "start_time": "2022-07-21T07:11:26.422Z"
   },
   {
    "duration": 164,
    "start_time": "2022-07-21T07:11:35.899Z"
   },
   {
    "duration": 11,
    "start_time": "2022-07-21T07:11:47.571Z"
   },
   {
    "duration": 49,
    "start_time": "2022-07-21T07:19:42.771Z"
   },
   {
    "duration": 212,
    "start_time": "2022-07-21T07:19:59.757Z"
   },
   {
    "duration": 938,
    "start_time": "2022-07-21T07:35:27.493Z"
   },
   {
    "duration": 10,
    "start_time": "2022-07-21T07:35:40.386Z"
   },
   {
    "duration": 9,
    "start_time": "2022-07-21T07:36:35.289Z"
   },
   {
    "duration": 11,
    "start_time": "2022-07-21T07:36:42.722Z"
   },
   {
    "duration": 13,
    "start_time": "2022-07-21T07:37:06.712Z"
   },
   {
    "duration": 14,
    "start_time": "2022-07-21T07:37:12.234Z"
   },
   {
    "duration": 11,
    "start_time": "2022-07-21T07:37:19.430Z"
   },
   {
    "duration": 48,
    "start_time": "2022-07-21T08:01:16.079Z"
   },
   {
    "duration": 28,
    "start_time": "2022-07-21T08:02:02.927Z"
   },
   {
    "duration": 28,
    "start_time": "2022-07-21T08:04:09.109Z"
   },
   {
    "duration": 974,
    "start_time": "2022-07-21T08:17:08.712Z"
   },
   {
    "duration": 11,
    "start_time": "2022-07-21T08:17:34.045Z"
   },
   {
    "duration": 33,
    "start_time": "2022-07-21T08:26:59.467Z"
   },
   {
    "duration": 8,
    "start_time": "2022-07-21T08:34:36.777Z"
   },
   {
    "duration": 10,
    "start_time": "2022-07-21T08:34:51.926Z"
   },
   {
    "duration": 480,
    "start_time": "2022-07-21T08:35:39.074Z"
   },
   {
    "duration": 1155,
    "start_time": "2022-07-21T08:35:57.761Z"
   },
   {
    "duration": 37,
    "start_time": "2022-07-21T08:35:58.918Z"
   },
   {
    "duration": 15,
    "start_time": "2022-07-21T08:35:58.958Z"
   },
   {
    "duration": 48,
    "start_time": "2022-07-21T08:35:58.975Z"
   },
   {
    "duration": 11,
    "start_time": "2022-07-21T08:35:59.092Z"
   },
   {
    "duration": 25,
    "start_time": "2022-07-21T08:35:59.586Z"
   },
   {
    "duration": 16,
    "start_time": "2022-07-21T08:35:59.912Z"
   },
   {
    "duration": 8,
    "start_time": "2022-07-21T08:36:02.521Z"
   },
   {
    "duration": 12,
    "start_time": "2022-07-21T08:36:02.848Z"
   },
   {
    "duration": 9,
    "start_time": "2022-07-21T08:36:03.179Z"
   },
   {
    "duration": 5,
    "start_time": "2022-07-21T08:36:03.489Z"
   },
   {
    "duration": 8,
    "start_time": "2022-07-21T08:36:04.135Z"
   },
   {
    "duration": 8,
    "start_time": "2022-07-21T08:36:04.459Z"
   },
   {
    "duration": 19,
    "start_time": "2022-07-21T08:36:04.765Z"
   },
   {
    "duration": 8,
    "start_time": "2022-07-21T08:36:05.349Z"
   },
   {
    "duration": 5,
    "start_time": "2022-07-21T08:36:26.900Z"
   },
   {
    "duration": 8,
    "start_time": "2022-07-21T08:36:35.324Z"
   },
   {
    "duration": 5,
    "start_time": "2022-07-21T08:36:43.647Z"
   },
   {
    "duration": 9,
    "start_time": "2022-07-21T08:36:51.645Z"
   },
   {
    "duration": 7,
    "start_time": "2022-07-21T08:36:58.303Z"
   },
   {
    "duration": 9,
    "start_time": "2022-07-21T08:43:32.207Z"
   },
   {
    "duration": 20,
    "start_time": "2022-07-21T08:43:46.527Z"
   },
   {
    "duration": 6,
    "start_time": "2022-07-21T08:44:15.247Z"
   },
   {
    "duration": 4,
    "start_time": "2022-07-21T09:36:14.477Z"
   },
   {
    "duration": 19,
    "start_time": "2022-07-21T09:36:30.933Z"
   },
   {
    "duration": 6,
    "start_time": "2022-07-21T09:36:49.591Z"
   },
   {
    "duration": 18,
    "start_time": "2022-07-21T09:36:59.168Z"
   },
   {
    "duration": 97,
    "start_time": "2022-07-21T09:38:27.585Z"
   },
   {
    "duration": 13,
    "start_time": "2022-07-21T09:38:30.791Z"
   },
   {
    "duration": 5,
    "start_time": "2022-07-21T09:39:00.121Z"
   },
   {
    "duration": 6,
    "start_time": "2022-07-21T09:39:14.048Z"
   },
   {
    "duration": 5,
    "start_time": "2022-07-21T09:44:44.464Z"
   },
   {
    "duration": 5,
    "start_time": "2022-07-21T09:44:46.624Z"
   },
   {
    "duration": 5,
    "start_time": "2022-07-21T10:02:58.708Z"
   },
   {
    "duration": 9,
    "start_time": "2022-07-21T10:03:13.951Z"
   },
   {
    "duration": 2,
    "start_time": "2022-07-21T10:08:19.417Z"
   },
   {
    "duration": 283,
    "start_time": "2022-07-21T10:19:08.408Z"
   },
   {
    "duration": 308,
    "start_time": "2022-07-21T10:19:11.834Z"
   },
   {
    "duration": 283,
    "start_time": "2022-07-21T10:28:46.671Z"
   },
   {
    "duration": 255,
    "start_time": "2022-07-21T10:29:18.186Z"
   },
   {
    "duration": 258,
    "start_time": "2022-07-21T10:29:23.784Z"
   },
   {
    "duration": 207,
    "start_time": "2022-07-21T10:29:32.197Z"
   },
   {
    "duration": 241,
    "start_time": "2022-07-21T10:29:48.885Z"
   },
   {
    "duration": 198,
    "start_time": "2022-07-21T10:30:16.092Z"
   },
   {
    "duration": 223,
    "start_time": "2022-07-21T10:30:28.770Z"
   },
   {
    "duration": 273,
    "start_time": "2022-07-21T10:30:51.955Z"
   },
   {
    "duration": 325,
    "start_time": "2022-07-21T10:36:00.308Z"
   },
   {
    "duration": 229,
    "start_time": "2022-07-21T11:09:47.661Z"
   },
   {
    "duration": 280,
    "start_time": "2022-07-21T11:20:03.516Z"
   },
   {
    "duration": 292,
    "start_time": "2022-07-21T11:20:21.724Z"
   },
   {
    "duration": 220,
    "start_time": "2022-07-21T11:42:40.195Z"
   },
   {
    "duration": 323,
    "start_time": "2022-07-21T11:44:05.580Z"
   },
   {
    "duration": 294,
    "start_time": "2022-07-21T11:44:08.515Z"
   },
   {
    "duration": 12,
    "start_time": "2022-07-21T11:44:32.092Z"
   },
   {
    "duration": 364,
    "start_time": "2022-07-21T11:49:14.540Z"
   },
   {
    "duration": 312,
    "start_time": "2022-07-21T11:49:26.342Z"
   },
   {
    "duration": 281,
    "start_time": "2022-07-21T11:51:38.100Z"
   },
   {
    "duration": 316,
    "start_time": "2022-07-21T11:51:44.331Z"
   },
   {
    "duration": 226,
    "start_time": "2022-07-21T12:00:32.992Z"
   },
   {
    "duration": 136,
    "start_time": "2022-07-21T12:04:58.981Z"
   },
   {
    "duration": 5,
    "start_time": "2022-07-21T12:11:48.790Z"
   },
   {
    "duration": 166,
    "start_time": "2022-07-21T12:29:30.640Z"
   },
   {
    "duration": 131,
    "start_time": "2022-07-21T12:31:56.822Z"
   },
   {
    "duration": 144,
    "start_time": "2022-07-21T12:32:03.542Z"
   },
   {
    "duration": 138,
    "start_time": "2022-07-21T12:32:12.269Z"
   },
   {
    "duration": 157,
    "start_time": "2022-07-21T12:34:08.520Z"
   },
   {
    "duration": 201,
    "start_time": "2022-07-21T12:34:19.449Z"
   },
   {
    "duration": 232,
    "start_time": "2022-07-21T12:34:31.862Z"
   },
   {
    "duration": 322,
    "start_time": "2022-07-21T12:34:38.377Z"
   },
   {
    "duration": 210,
    "start_time": "2022-07-21T12:34:45.203Z"
   },
   {
    "duration": 457,
    "start_time": "2022-07-21T12:34:52.354Z"
   },
   {
    "duration": 143,
    "start_time": "2022-07-21T12:35:03.577Z"
   },
   {
    "duration": 142,
    "start_time": "2022-07-21T12:35:11.593Z"
   },
   {
    "duration": 6,
    "start_time": "2022-07-21T12:38:55.671Z"
   },
   {
    "duration": 151,
    "start_time": "2022-07-21T12:59:59.028Z"
   },
   {
    "duration": 166,
    "start_time": "2022-07-21T13:14:35.278Z"
   },
   {
    "duration": 3,
    "start_time": "2022-07-21T13:17:45.737Z"
   },
   {
    "duration": 33,
    "start_time": "2022-07-21T13:17:46.079Z"
   },
   {
    "duration": 10,
    "start_time": "2022-07-21T13:17:46.391Z"
   },
   {
    "duration": 47,
    "start_time": "2022-07-21T13:17:46.740Z"
   },
   {
    "duration": 16,
    "start_time": "2022-07-21T13:17:47.092Z"
   },
   {
    "duration": 33,
    "start_time": "2022-07-21T13:17:47.476Z"
   },
   {
    "duration": 11,
    "start_time": "2022-07-21T13:17:47.796Z"
   },
   {
    "duration": 15,
    "start_time": "2022-07-21T13:17:50.561Z"
   },
   {
    "duration": 6,
    "start_time": "2022-07-21T13:17:50.912Z"
   },
   {
    "duration": 5,
    "start_time": "2022-07-21T13:17:51.246Z"
   },
   {
    "duration": 6,
    "start_time": "2022-07-21T13:17:51.577Z"
   },
   {
    "duration": 7,
    "start_time": "2022-07-21T13:17:51.933Z"
   },
   {
    "duration": 8,
    "start_time": "2022-07-21T13:17:52.588Z"
   },
   {
    "duration": 7,
    "start_time": "2022-07-21T13:17:52.928Z"
   },
   {
    "duration": 5,
    "start_time": "2022-07-21T13:17:53.290Z"
   },
   {
    "duration": 11,
    "start_time": "2022-07-21T13:17:53.620Z"
   },
   {
    "duration": 5,
    "start_time": "2022-07-21T13:17:53.974Z"
   },
   {
    "duration": 10,
    "start_time": "2022-07-21T13:17:54.669Z"
   },
   {
    "duration": 5,
    "start_time": "2022-07-21T13:17:55.047Z"
   },
   {
    "duration": 9,
    "start_time": "2022-07-21T13:17:55.373Z"
   },
   {
    "duration": 5,
    "start_time": "2022-07-21T13:17:55.710Z"
   },
   {
    "duration": 6,
    "start_time": "2022-07-21T13:17:56.035Z"
   },
   {
    "duration": 11,
    "start_time": "2022-07-21T13:17:57.698Z"
   },
   {
    "duration": 12,
    "start_time": "2022-07-21T13:17:58.695Z"
   },
   {
    "duration": 307,
    "start_time": "2022-07-21T13:18:01.145Z"
   },
   {
    "duration": 220,
    "start_time": "2022-07-21T13:18:01.851Z"
   },
   {
    "duration": 207,
    "start_time": "2022-07-21T13:18:02.943Z"
   },
   {
    "duration": 392,
    "start_time": "2022-07-21T13:18:04.049Z"
   },
   {
    "duration": 255,
    "start_time": "2022-07-21T13:18:05.181Z"
   },
   {
    "duration": 334,
    "start_time": "2022-07-21T13:18:06.323Z"
   },
   {
    "duration": 142,
    "start_time": "2022-07-21T13:18:07.501Z"
   },
   {
    "duration": 6,
    "start_time": "2022-07-21T13:18:10.238Z"
   },
   {
    "duration": 154,
    "start_time": "2022-07-21T13:18:11.379Z"
   },
   {
    "duration": 5,
    "start_time": "2022-07-21T13:18:13.323Z"
   },
   {
    "duration": 319,
    "start_time": "2022-07-21T13:18:14.981Z"
   },
   {
    "duration": 215,
    "start_time": "2022-07-21T13:18:16.045Z"
   },
   {
    "duration": 6,
    "start_time": "2022-07-21T16:27:37.099Z"
   },
   {
    "duration": 6,
    "start_time": "2022-07-21T16:27:48.526Z"
   },
   {
    "duration": 153,
    "start_time": "2022-07-21T16:27:57.001Z"
   },
   {
    "duration": 56,
    "start_time": "2022-07-21T16:57:28.105Z"
   },
   {
    "duration": 57,
    "start_time": "2022-07-21T16:57:33.766Z"
   },
   {
    "duration": 76,
    "start_time": "2022-07-21T16:57:59.031Z"
   },
   {
    "duration": 168,
    "start_time": "2022-07-21T16:58:16.582Z"
   },
   {
    "duration": 8,
    "start_time": "2022-07-21T16:58:26.315Z"
   },
   {
    "duration": 171,
    "start_time": "2022-07-21T16:59:08.109Z"
   },
   {
    "duration": 1364,
    "start_time": "2022-07-22T07:21:33.658Z"
   },
   {
    "duration": 90,
    "start_time": "2022-07-22T07:21:35.025Z"
   },
   {
    "duration": 14,
    "start_time": "2022-07-22T07:21:35.117Z"
   },
   {
    "duration": 103,
    "start_time": "2022-07-22T07:21:35.133Z"
   },
   {
    "duration": 14,
    "start_time": "2022-07-22T07:21:35.239Z"
   },
   {
    "duration": 80,
    "start_time": "2022-07-22T07:21:35.255Z"
   },
   {
    "duration": 11,
    "start_time": "2022-07-22T07:21:35.452Z"
   },
   {
    "duration": 5,
    "start_time": "2022-07-22T07:21:37.939Z"
   },
   {
    "duration": 6,
    "start_time": "2022-07-22T07:21:38.254Z"
   },
   {
    "duration": 6,
    "start_time": "2022-07-22T07:21:38.553Z"
   },
   {
    "duration": 4,
    "start_time": "2022-07-22T07:21:38.872Z"
   },
   {
    "duration": 5,
    "start_time": "2022-07-22T07:21:39.209Z"
   },
   {
    "duration": 6,
    "start_time": "2022-07-22T07:21:39.844Z"
   },
   {
    "duration": 6,
    "start_time": "2022-07-22T07:21:40.154Z"
   },
   {
    "duration": 5,
    "start_time": "2022-07-22T07:21:40.453Z"
   },
   {
    "duration": 20,
    "start_time": "2022-07-22T07:21:40.781Z"
   },
   {
    "duration": 7,
    "start_time": "2022-07-22T07:21:41.190Z"
   },
   {
    "duration": 8,
    "start_time": "2022-07-22T07:21:41.803Z"
   },
   {
    "duration": 6,
    "start_time": "2022-07-22T07:21:42.046Z"
   },
   {
    "duration": 4,
    "start_time": "2022-07-22T07:21:42.406Z"
   },
   {
    "duration": 5,
    "start_time": "2022-07-22T07:21:42.675Z"
   },
   {
    "duration": 5,
    "start_time": "2022-07-22T07:21:42.992Z"
   },
   {
    "duration": 14,
    "start_time": "2022-07-22T07:21:44.568Z"
   },
   {
    "duration": 13,
    "start_time": "2022-07-22T07:21:45.559Z"
   },
   {
    "duration": 294,
    "start_time": "2022-07-22T07:21:47.934Z"
   },
   {
    "duration": 317,
    "start_time": "2022-07-22T07:21:48.527Z"
   },
   {
    "duration": 219,
    "start_time": "2022-07-22T07:21:49.557Z"
   },
   {
    "duration": 398,
    "start_time": "2022-07-22T07:21:50.591Z"
   },
   {
    "duration": 248,
    "start_time": "2022-07-22T07:21:51.585Z"
   },
   {
    "duration": 337,
    "start_time": "2022-07-22T07:21:52.595Z"
   },
   {
    "duration": 157,
    "start_time": "2022-07-22T07:21:53.701Z"
   },
   {
    "duration": 5,
    "start_time": "2022-07-22T07:21:54.765Z"
   },
   {
    "duration": 159,
    "start_time": "2022-07-22T07:21:55.839Z"
   },
   {
    "duration": 5,
    "start_time": "2022-07-22T07:21:56.927Z"
   },
   {
    "duration": 246,
    "start_time": "2022-07-22T07:21:59.157Z"
   },
   {
    "duration": 220,
    "start_time": "2022-07-22T07:21:59.518Z"
   },
   {
    "duration": 133,
    "start_time": "2022-07-22T07:24:16.275Z"
   },
   {
    "duration": 99,
    "start_time": "2022-07-22T07:24:26.239Z"
   },
   {
    "duration": 94,
    "start_time": "2022-07-22T07:26:28.452Z"
   },
   {
    "duration": 172,
    "start_time": "2022-07-22T07:26:39.798Z"
   },
   {
    "duration": 173,
    "start_time": "2022-07-22T07:27:19.701Z"
   },
   {
    "duration": 237,
    "start_time": "2022-07-22T07:27:30.699Z"
   },
   {
    "duration": 216,
    "start_time": "2022-07-22T07:36:59.424Z"
   },
   {
    "duration": 177,
    "start_time": "2022-07-22T07:38:52.745Z"
   },
   {
    "duration": 143,
    "start_time": "2022-07-22T07:49:00.157Z"
   },
   {
    "duration": 11,
    "start_time": "2022-07-22T07:49:58.840Z"
   },
   {
    "duration": 30,
    "start_time": "2022-07-22T07:49:59.536Z"
   },
   {
    "duration": 31,
    "start_time": "2022-07-22T07:55:56.462Z"
   },
   {
    "duration": 15,
    "start_time": "2022-07-22T07:56:32.399Z"
   },
   {
    "duration": 1247,
    "start_time": "2022-07-22T08:03:43.170Z"
   },
   {
    "duration": 1180,
    "start_time": "2022-07-22T08:04:54.249Z"
   },
   {
    "duration": 16,
    "start_time": "2022-07-22T08:05:02.702Z"
   },
   {
    "duration": 20,
    "start_time": "2022-07-22T08:05:32.100Z"
   },
   {
    "duration": 189,
    "start_time": "2022-07-22T08:11:24.457Z"
   },
   {
    "duration": 11,
    "start_time": "2022-07-22T08:14:17.028Z"
   },
   {
    "duration": 11,
    "start_time": "2022-07-22T08:17:19.846Z"
   },
   {
    "duration": 10,
    "start_time": "2022-07-22T08:17:22.458Z"
   },
   {
    "duration": 10,
    "start_time": "2022-07-22T08:18:41.764Z"
   },
   {
    "duration": 4,
    "start_time": "2022-07-22T08:30:25.388Z"
   },
   {
    "duration": 3,
    "start_time": "2022-07-22T08:44:46.396Z"
   },
   {
    "duration": 3,
    "start_time": "2022-07-22T08:45:06.303Z"
   },
   {
    "duration": 29,
    "start_time": "2022-07-22T08:45:06.606Z"
   },
   {
    "duration": 11,
    "start_time": "2022-07-22T08:45:06.887Z"
   },
   {
    "duration": 39,
    "start_time": "2022-07-22T08:45:07.205Z"
   },
   {
    "duration": 11,
    "start_time": "2022-07-22T08:45:07.550Z"
   },
   {
    "duration": 28,
    "start_time": "2022-07-22T08:45:07.838Z"
   },
   {
    "duration": 11,
    "start_time": "2022-07-22T08:45:08.162Z"
   },
   {
    "duration": 5,
    "start_time": "2022-07-22T08:45:23.386Z"
   },
   {
    "duration": 6,
    "start_time": "2022-07-22T08:45:23.705Z"
   },
   {
    "duration": 6,
    "start_time": "2022-07-22T08:45:24.054Z"
   },
   {
    "duration": 5,
    "start_time": "2022-07-22T08:45:24.390Z"
   },
   {
    "duration": 5,
    "start_time": "2022-07-22T08:45:24.699Z"
   },
   {
    "duration": 7,
    "start_time": "2022-07-22T08:45:25.336Z"
   },
   {
    "duration": 7,
    "start_time": "2022-07-22T08:45:25.654Z"
   },
   {
    "duration": 5,
    "start_time": "2022-07-22T08:45:25.970Z"
   },
   {
    "duration": 12,
    "start_time": "2022-07-22T08:45:26.265Z"
   },
   {
    "duration": 6,
    "start_time": "2022-07-22T08:45:26.646Z"
   },
   {
    "duration": 7,
    "start_time": "2022-07-22T08:45:27.185Z"
   },
   {
    "duration": 6,
    "start_time": "2022-07-22T08:45:27.500Z"
   },
   {
    "duration": 5,
    "start_time": "2022-07-22T08:45:27.850Z"
   },
   {
    "duration": 5,
    "start_time": "2022-07-22T08:45:28.146Z"
   },
   {
    "duration": 5,
    "start_time": "2022-07-22T08:45:28.460Z"
   },
   {
    "duration": 12,
    "start_time": "2022-07-22T08:45:29.979Z"
   },
   {
    "duration": 15,
    "start_time": "2022-07-22T08:45:30.946Z"
   },
   {
    "duration": 316,
    "start_time": "2022-07-22T08:45:33.190Z"
   },
   {
    "duration": 229,
    "start_time": "2022-07-22T08:45:34.263Z"
   },
   {
    "duration": 305,
    "start_time": "2022-07-22T08:45:35.350Z"
   },
   {
    "duration": 350,
    "start_time": "2022-07-22T08:45:36.374Z"
   },
   {
    "duration": 231,
    "start_time": "2022-07-22T08:45:37.384Z"
   },
   {
    "duration": 350,
    "start_time": "2022-07-22T08:45:38.410Z"
   },
   {
    "duration": 154,
    "start_time": "2022-07-22T08:45:39.408Z"
   },
   {
    "duration": 6,
    "start_time": "2022-07-22T08:45:40.798Z"
   },
   {
    "duration": 202,
    "start_time": "2022-07-22T08:45:41.847Z"
   },
   {
    "duration": 5,
    "start_time": "2022-07-22T08:45:42.881Z"
   },
   {
    "duration": 244,
    "start_time": "2022-07-22T08:45:44.249Z"
   },
   {
    "duration": 157,
    "start_time": "2022-07-22T08:45:44.576Z"
   },
   {
    "duration": 12,
    "start_time": "2022-07-22T08:45:46.296Z"
   },
   {
    "duration": 11,
    "start_time": "2022-07-22T08:45:48.006Z"
   },
   {
    "duration": 40,
    "start_time": "2022-07-22T08:45:48.383Z"
   },
   {
    "duration": 15,
    "start_time": "2022-07-22T08:45:50.156Z"
   },
   {
    "duration": 95,
    "start_time": "2022-07-22T08:47:19.545Z"
   },
   {
    "duration": 1220,
    "start_time": "2022-07-22T10:23:21.252Z"
   },
   {
    "duration": 49,
    "start_time": "2022-07-22T10:23:22.474Z"
   },
   {
    "duration": 17,
    "start_time": "2022-07-22T10:23:22.526Z"
   },
   {
    "duration": 57,
    "start_time": "2022-07-22T10:23:22.546Z"
   },
   {
    "duration": 12,
    "start_time": "2022-07-22T10:23:22.605Z"
   },
   {
    "duration": 20,
    "start_time": "2022-07-22T10:23:22.731Z"
   },
   {
    "duration": 12,
    "start_time": "2022-07-22T10:23:23.015Z"
   },
   {
    "duration": 5,
    "start_time": "2022-07-22T10:23:25.378Z"
   },
   {
    "duration": 7,
    "start_time": "2022-07-22T10:23:25.675Z"
   },
   {
    "duration": 6,
    "start_time": "2022-07-22T10:23:25.956Z"
   },
   {
    "duration": 5,
    "start_time": "2022-07-22T10:23:26.256Z"
   },
   {
    "duration": 6,
    "start_time": "2022-07-22T10:23:26.558Z"
   },
   {
    "duration": 7,
    "start_time": "2022-07-22T10:23:27.472Z"
   },
   {
    "duration": 7,
    "start_time": "2022-07-22T10:23:27.802Z"
   },
   {
    "duration": 5,
    "start_time": "2022-07-22T10:23:28.097Z"
   },
   {
    "duration": 13,
    "start_time": "2022-07-22T10:23:28.399Z"
   },
   {
    "duration": 6,
    "start_time": "2022-07-22T10:23:28.709Z"
   },
   {
    "duration": 7,
    "start_time": "2022-07-22T10:23:29.585Z"
   },
   {
    "duration": 6,
    "start_time": "2022-07-22T10:23:29.672Z"
   },
   {
    "duration": 5,
    "start_time": "2022-07-22T10:23:29.949Z"
   },
   {
    "duration": 5,
    "start_time": "2022-07-22T10:23:30.618Z"
   },
   {
    "duration": 5,
    "start_time": "2022-07-22T10:23:30.898Z"
   },
   {
    "duration": 13,
    "start_time": "2022-07-22T10:23:32.752Z"
   },
   {
    "duration": 13,
    "start_time": "2022-07-22T10:23:33.731Z"
   },
   {
    "duration": 314,
    "start_time": "2022-07-22T10:23:37.980Z"
   },
   {
    "duration": 362,
    "start_time": "2022-07-22T10:23:38.655Z"
   },
   {
    "duration": 251,
    "start_time": "2022-07-22T10:23:39.620Z"
   },
   {
    "duration": 379,
    "start_time": "2022-07-22T10:23:40.580Z"
   },
   {
    "duration": 257,
    "start_time": "2022-07-22T10:23:42.220Z"
   },
   {
    "duration": 343,
    "start_time": "2022-07-22T10:23:43.195Z"
   },
   {
    "duration": 160,
    "start_time": "2022-07-22T10:23:44.167Z"
   },
   {
    "duration": 5,
    "start_time": "2022-07-22T10:23:45.180Z"
   },
   {
    "duration": 180,
    "start_time": "2022-07-22T10:23:46.143Z"
   },
   {
    "duration": 6,
    "start_time": "2022-07-22T10:23:47.475Z"
   },
   {
    "duration": 239,
    "start_time": "2022-07-22T10:23:48.819Z"
   },
   {
    "duration": 178,
    "start_time": "2022-07-22T10:23:49.161Z"
   },
   {
    "duration": 11,
    "start_time": "2022-07-22T10:23:50.772Z"
   },
   {
    "duration": 11,
    "start_time": "2022-07-22T10:23:52.728Z"
   },
   {
    "duration": 34,
    "start_time": "2022-07-22T10:23:53.111Z"
   },
   {
    "duration": 16,
    "start_time": "2022-07-22T10:23:54.728Z"
   },
   {
    "duration": 47,
    "start_time": "2022-12-12T18:58:06.632Z"
   },
   {
    "duration": 1093,
    "start_time": "2022-12-12T18:58:12.298Z"
   },
   {
    "duration": 91,
    "start_time": "2022-12-12T18:58:13.393Z"
   },
   {
    "duration": 33,
    "start_time": "2022-12-12T18:58:49.589Z"
   },
   {
    "duration": 50,
    "start_time": "2022-12-13T08:27:34.510Z"
   },
   {
    "duration": 1278,
    "start_time": "2022-12-13T08:27:41.204Z"
   },
   {
    "duration": 90,
    "start_time": "2022-12-13T08:27:42.484Z"
   },
   {
    "duration": 11,
    "start_time": "2022-12-13T08:27:42.576Z"
   },
   {
    "duration": 87,
    "start_time": "2022-12-13T08:27:42.590Z"
   },
   {
    "duration": 11,
    "start_time": "2022-12-13T08:27:42.679Z"
   },
   {
    "duration": 103,
    "start_time": "2022-12-13T08:27:42.691Z"
   },
   {
    "duration": 11,
    "start_time": "2022-12-13T08:27:42.796Z"
   },
   {
    "duration": 11,
    "start_time": "2022-12-13T08:27:42.809Z"
   },
   {
    "duration": 9,
    "start_time": "2022-12-13T08:27:42.823Z"
   },
   {
    "duration": 12,
    "start_time": "2022-12-13T08:27:42.835Z"
   },
   {
    "duration": 7,
    "start_time": "2022-12-13T08:27:42.849Z"
   },
   {
    "duration": 8,
    "start_time": "2022-12-13T08:27:42.857Z"
   },
   {
    "duration": 14,
    "start_time": "2022-12-13T08:27:42.866Z"
   },
   {
    "duration": 10,
    "start_time": "2022-12-13T08:27:42.882Z"
   },
   {
    "duration": 4,
    "start_time": "2022-12-13T08:27:42.894Z"
   },
   {
    "duration": 18,
    "start_time": "2022-12-13T08:27:42.900Z"
   },
   {
    "duration": 12,
    "start_time": "2022-12-13T08:27:42.919Z"
   },
   {
    "duration": 20,
    "start_time": "2022-12-13T08:27:42.933Z"
   },
   {
    "duration": 9,
    "start_time": "2022-12-13T08:27:42.955Z"
   },
   {
    "duration": 14,
    "start_time": "2022-12-13T08:27:42.966Z"
   },
   {
    "duration": 6,
    "start_time": "2022-12-13T08:27:42.982Z"
   },
   {
    "duration": 8,
    "start_time": "2022-12-13T08:27:42.989Z"
   },
   {
    "duration": 16,
    "start_time": "2022-12-13T08:27:42.998Z"
   },
   {
    "duration": 11,
    "start_time": "2022-12-13T08:27:43.016Z"
   },
   {
    "duration": 306,
    "start_time": "2022-12-13T08:27:43.029Z"
   },
   {
    "duration": 301,
    "start_time": "2022-12-13T08:27:43.336Z"
   },
   {
    "duration": 241,
    "start_time": "2022-12-13T08:27:43.638Z"
   },
   {
    "duration": 372,
    "start_time": "2022-12-13T08:27:43.884Z"
   },
   {
    "duration": 233,
    "start_time": "2022-12-13T08:27:44.257Z"
   },
   {
    "duration": 305,
    "start_time": "2022-12-13T08:27:44.492Z"
   },
   {
    "duration": 165,
    "start_time": "2022-12-13T08:27:44.800Z"
   },
   {
    "duration": 5,
    "start_time": "2022-12-13T08:27:44.967Z"
   },
   {
    "duration": 161,
    "start_time": "2022-12-13T08:27:44.974Z"
   },
   {
    "duration": 5,
    "start_time": "2022-12-13T08:27:45.136Z"
   },
   {
    "duration": 268,
    "start_time": "2022-12-13T08:27:45.150Z"
   },
   {
    "duration": 209,
    "start_time": "2022-12-13T08:27:45.420Z"
   },
   {
    "duration": 22,
    "start_time": "2022-12-13T08:27:45.631Z"
   },
   {
    "duration": 11,
    "start_time": "2022-12-13T08:27:45.656Z"
   },
   {
    "duration": 37,
    "start_time": "2022-12-13T08:27:45.669Z"
   },
   {
    "duration": 15,
    "start_time": "2022-12-13T08:27:45.707Z"
   },
   {
    "duration": 6,
    "start_time": "2022-12-13T09:16:37.665Z"
   },
   {
    "duration": 8,
    "start_time": "2022-12-13T09:16:58.185Z"
   },
   {
    "duration": 112,
    "start_time": "2022-12-13T09:18:25.601Z"
   },
   {
    "duration": 5,
    "start_time": "2022-12-13T09:18:31.117Z"
   },
   {
    "duration": 4,
    "start_time": "2022-12-13T09:18:39.965Z"
   },
   {
    "duration": 6,
    "start_time": "2022-12-13T09:44:02.735Z"
   },
   {
    "duration": 5,
    "start_time": "2022-12-13T09:44:38.830Z"
   },
   {
    "duration": 6,
    "start_time": "2022-12-13T09:44:39.106Z"
   },
   {
    "duration": 5,
    "start_time": "2022-12-13T09:45:28.973Z"
   },
   {
    "duration": 5,
    "start_time": "2022-12-13T09:46:26.476Z"
   },
   {
    "duration": 5,
    "start_time": "2022-12-13T09:48:03.867Z"
   },
   {
    "duration": 1147,
    "start_time": "2022-12-13T09:49:05.437Z"
   },
   {
    "duration": 262,
    "start_time": "2022-12-13T09:49:22.902Z"
   },
   {
    "duration": 204,
    "start_time": "2022-12-13T09:54:47.691Z"
   },
   {
    "duration": 6,
    "start_time": "2022-12-13T09:55:35.943Z"
   },
   {
    "duration": 5,
    "start_time": "2022-12-13T09:55:46.612Z"
   },
   {
    "duration": 6,
    "start_time": "2022-12-13T09:58:18.160Z"
   },
   {
    "duration": 6,
    "start_time": "2022-12-13T09:58:39.017Z"
   },
   {
    "duration": 332,
    "start_time": "2022-12-13T09:59:43.032Z"
   },
   {
    "duration": 329,
    "start_time": "2022-12-13T10:00:21.930Z"
   },
   {
    "duration": 311,
    "start_time": "2022-12-13T10:00:44.674Z"
   },
   {
    "duration": 176,
    "start_time": "2022-12-13T11:14:20.505Z"
   },
   {
    "duration": 168,
    "start_time": "2022-12-13T11:14:25.920Z"
   },
   {
    "duration": 163,
    "start_time": "2022-12-13T11:14:37.108Z"
   },
   {
    "duration": 189,
    "start_time": "2022-12-13T11:17:45.465Z"
   },
   {
    "duration": 204,
    "start_time": "2022-12-13T11:17:50.941Z"
   },
   {
    "duration": 209,
    "start_time": "2022-12-13T11:18:29.576Z"
   },
   {
    "duration": 169,
    "start_time": "2022-12-13T11:19:11.620Z"
   },
   {
    "duration": 264,
    "start_time": "2022-12-13T11:19:19.156Z"
   },
   {
    "duration": 149,
    "start_time": "2022-12-13T11:19:31.212Z"
   },
   {
    "duration": 10,
    "start_time": "2022-12-13T11:50:51.035Z"
   },
   {
    "duration": 9,
    "start_time": "2022-12-13T11:51:00.373Z"
   },
   {
    "duration": 10,
    "start_time": "2022-12-13T11:51:05.095Z"
   },
   {
    "duration": 12,
    "start_time": "2022-12-13T11:51:09.052Z"
   },
   {
    "duration": 197,
    "start_time": "2022-12-13T11:58:18.833Z"
   },
   {
    "duration": 5,
    "start_time": "2022-12-13T12:00:08.346Z"
   },
   {
    "duration": 6,
    "start_time": "2022-12-13T12:00:14.756Z"
   },
   {
    "duration": 160,
    "start_time": "2022-12-13T12:02:28.276Z"
   },
   {
    "duration": 185,
    "start_time": "2022-12-13T12:02:59.230Z"
   },
   {
    "duration": 172,
    "start_time": "2022-12-13T12:03:31.691Z"
   },
   {
    "duration": 39,
    "start_time": "2022-12-13T12:04:36.419Z"
   },
   {
    "duration": 43,
    "start_time": "2022-12-13T12:04:53.032Z"
   },
   {
    "duration": 12,
    "start_time": "2022-12-13T12:05:10.852Z"
   },
   {
    "duration": 49,
    "start_time": "2022-12-13T12:05:18.134Z"
   },
   {
    "duration": 24,
    "start_time": "2022-12-13T12:05:47.617Z"
   },
   {
    "duration": 20,
    "start_time": "2022-12-13T12:06:10.325Z"
   },
   {
    "duration": 204,
    "start_time": "2022-12-13T12:16:54.229Z"
   },
   {
    "duration": 183,
    "start_time": "2022-12-13T12:17:14.211Z"
   },
   {
    "duration": 30,
    "start_time": "2022-12-13T12:22:14.042Z"
   },
   {
    "duration": 103,
    "start_time": "2022-12-13T12:24:15.528Z"
   },
   {
    "duration": 10,
    "start_time": "2022-12-13T12:24:41.938Z"
   },
   {
    "duration": 90,
    "start_time": "2022-12-13T12:24:52.353Z"
   },
   {
    "duration": 85,
    "start_time": "2022-12-13T12:25:04.936Z"
   },
   {
    "duration": 166,
    "start_time": "2022-12-13T12:25:39.871Z"
   },
   {
    "duration": 186,
    "start_time": "2022-12-13T12:26:36.126Z"
   },
   {
    "duration": 30,
    "start_time": "2022-12-13T12:26:40.397Z"
   },
   {
    "duration": 1165,
    "start_time": "2022-12-13T12:28:57.832Z"
   },
   {
    "duration": 37,
    "start_time": "2022-12-13T12:28:58.999Z"
   },
   {
    "duration": 11,
    "start_time": "2022-12-13T12:28:59.037Z"
   },
   {
    "duration": 44,
    "start_time": "2022-12-13T12:28:59.051Z"
   },
   {
    "duration": 11,
    "start_time": "2022-12-13T12:28:59.096Z"
   },
   {
    "duration": 28,
    "start_time": "2022-12-13T12:28:59.108Z"
   },
   {
    "duration": 12,
    "start_time": "2022-12-13T12:28:59.138Z"
   },
   {
    "duration": 23,
    "start_time": "2022-12-13T12:28:59.152Z"
   },
   {
    "duration": 8,
    "start_time": "2022-12-13T12:28:59.177Z"
   },
   {
    "duration": 12,
    "start_time": "2022-12-13T12:28:59.189Z"
   },
   {
    "duration": 8,
    "start_time": "2022-12-13T12:28:59.203Z"
   },
   {
    "duration": 11,
    "start_time": "2022-12-13T12:28:59.213Z"
   },
   {
    "duration": 10,
    "start_time": "2022-12-13T12:28:59.226Z"
   },
   {
    "duration": 18,
    "start_time": "2022-12-13T12:28:59.237Z"
   },
   {
    "duration": 9,
    "start_time": "2022-12-13T12:28:59.257Z"
   },
   {
    "duration": 19,
    "start_time": "2022-12-13T12:28:59.268Z"
   },
   {
    "duration": 8,
    "start_time": "2022-12-13T12:28:59.289Z"
   },
   {
    "duration": 7,
    "start_time": "2022-12-13T12:28:59.299Z"
   },
   {
    "duration": 9,
    "start_time": "2022-12-13T12:28:59.308Z"
   },
   {
    "duration": 8,
    "start_time": "2022-12-13T12:28:59.318Z"
   },
   {
    "duration": 25,
    "start_time": "2022-12-13T12:28:59.327Z"
   },
   {
    "duration": 4,
    "start_time": "2022-12-13T12:28:59.354Z"
   },
   {
    "duration": 8,
    "start_time": "2022-12-13T12:28:59.360Z"
   },
   {
    "duration": 11,
    "start_time": "2022-12-13T12:28:59.369Z"
   },
   {
    "duration": 15,
    "start_time": "2022-12-13T12:28:59.382Z"
   },
   {
    "duration": 13,
    "start_time": "2022-12-13T12:28:59.399Z"
   },
   {
    "duration": 258,
    "start_time": "2022-12-13T12:28:59.416Z"
   },
   {
    "duration": 361,
    "start_time": "2022-12-13T12:28:59.678Z"
   },
   {
    "duration": 10,
    "start_time": "2022-12-13T12:29:00.041Z"
   },
   {
    "duration": 326,
    "start_time": "2022-12-13T12:29:00.053Z"
   },
   {
    "duration": 224,
    "start_time": "2022-12-13T12:29:00.381Z"
   },
   {
    "duration": 359,
    "start_time": "2022-12-13T12:29:00.607Z"
   },
   {
    "duration": 253,
    "start_time": "2022-12-13T12:29:00.968Z"
   },
   {
    "duration": 348,
    "start_time": "2022-12-13T12:29:01.223Z"
   },
   {
    "duration": 178,
    "start_time": "2022-12-13T12:29:01.573Z"
   },
   {
    "duration": 6,
    "start_time": "2022-12-13T12:29:01.752Z"
   },
   {
    "duration": 173,
    "start_time": "2022-12-13T12:29:01.761Z"
   },
   {
    "duration": 244,
    "start_time": "2022-12-13T12:29:01.936Z"
   },
   {
    "duration": 6,
    "start_time": "2022-12-13T12:29:02.182Z"
   },
   {
    "duration": 32,
    "start_time": "2022-12-13T12:29:02.190Z"
   },
   {
    "duration": 162,
    "start_time": "2022-12-13T12:29:02.224Z"
   },
   {
    "duration": 104,
    "start_time": "2022-12-13T12:29:02.387Z"
   },
   {
    "duration": 0,
    "start_time": "2022-12-13T12:29:02.493Z"
   },
   {
    "duration": 0,
    "start_time": "2022-12-13T12:29:02.494Z"
   },
   {
    "duration": 0,
    "start_time": "2022-12-13T12:29:02.495Z"
   },
   {
    "duration": 0,
    "start_time": "2022-12-13T12:29:02.497Z"
   },
   {
    "duration": 1349,
    "start_time": "2022-12-13T12:38:00.683Z"
   },
   {
    "duration": 29,
    "start_time": "2022-12-13T12:38:24.812Z"
   },
   {
    "duration": 1218,
    "start_time": "2022-12-13T12:38:50.355Z"
   },
   {
    "duration": 38,
    "start_time": "2022-12-13T12:38:51.575Z"
   },
   {
    "duration": 13,
    "start_time": "2022-12-13T12:38:51.615Z"
   },
   {
    "duration": 45,
    "start_time": "2022-12-13T12:38:51.630Z"
   },
   {
    "duration": 12,
    "start_time": "2022-12-13T12:38:51.677Z"
   },
   {
    "duration": 28,
    "start_time": "2022-12-13T12:38:51.691Z"
   },
   {
    "duration": 12,
    "start_time": "2022-12-13T12:38:51.721Z"
   },
   {
    "duration": 15,
    "start_time": "2022-12-13T12:38:51.735Z"
   },
   {
    "duration": 10,
    "start_time": "2022-12-13T12:38:51.751Z"
   },
   {
    "duration": 13,
    "start_time": "2022-12-13T12:38:51.763Z"
   },
   {
    "duration": 10,
    "start_time": "2022-12-13T12:38:51.778Z"
   },
   {
    "duration": 10,
    "start_time": "2022-12-13T12:38:51.789Z"
   },
   {
    "duration": 13,
    "start_time": "2022-12-13T12:38:51.801Z"
   },
   {
    "duration": 7,
    "start_time": "2022-12-13T12:38:51.816Z"
   },
   {
    "duration": 28,
    "start_time": "2022-12-13T12:38:51.824Z"
   },
   {
    "duration": 13,
    "start_time": "2022-12-13T12:38:51.854Z"
   },
   {
    "duration": 8,
    "start_time": "2022-12-13T12:38:51.869Z"
   },
   {
    "duration": 8,
    "start_time": "2022-12-13T12:38:51.879Z"
   },
   {
    "duration": 11,
    "start_time": "2022-12-13T12:38:51.888Z"
   },
   {
    "duration": 7,
    "start_time": "2022-12-13T12:38:51.900Z"
   },
   {
    "duration": 6,
    "start_time": "2022-12-13T12:38:51.909Z"
   },
   {
    "duration": 34,
    "start_time": "2022-12-13T12:38:51.917Z"
   },
   {
    "duration": 9,
    "start_time": "2022-12-13T12:38:51.953Z"
   },
   {
    "duration": 16,
    "start_time": "2022-12-13T12:38:51.963Z"
   },
   {
    "duration": 16,
    "start_time": "2022-12-13T12:38:51.981Z"
   },
   {
    "duration": 14,
    "start_time": "2022-12-13T12:38:51.999Z"
   },
   {
    "duration": 247,
    "start_time": "2022-12-13T12:38:52.015Z"
   },
   {
    "duration": 333,
    "start_time": "2022-12-13T12:38:52.266Z"
   },
   {
    "duration": 5,
    "start_time": "2022-12-13T12:38:52.601Z"
   },
   {
    "duration": 334,
    "start_time": "2022-12-13T12:38:52.609Z"
   },
   {
    "duration": 247,
    "start_time": "2022-12-13T12:38:52.944Z"
   },
   {
    "duration": 300,
    "start_time": "2022-12-13T12:38:53.193Z"
   },
   {
    "duration": 240,
    "start_time": "2022-12-13T12:38:53.495Z"
   },
   {
    "duration": 339,
    "start_time": "2022-12-13T12:38:53.737Z"
   },
   {
    "duration": 195,
    "start_time": "2022-12-13T12:38:54.078Z"
   },
   {
    "duration": 5,
    "start_time": "2022-12-13T12:38:54.275Z"
   },
   {
    "duration": 176,
    "start_time": "2022-12-13T12:38:54.281Z"
   },
   {
    "duration": 253,
    "start_time": "2022-12-13T12:38:54.459Z"
   },
   {
    "duration": 7,
    "start_time": "2022-12-13T12:38:54.714Z"
   },
   {
    "duration": 17,
    "start_time": "2022-12-13T12:38:54.723Z"
   },
   {
    "duration": 188,
    "start_time": "2022-12-13T12:38:54.750Z"
   },
   {
    "duration": 35,
    "start_time": "2022-12-13T12:38:54.940Z"
   },
   {
    "duration": 16,
    "start_time": "2022-12-13T12:38:54.977Z"
   },
   {
    "duration": 18,
    "start_time": "2022-12-13T12:38:54.995Z"
   },
   {
    "duration": 140,
    "start_time": "2022-12-13T12:38:55.015Z"
   },
   {
    "duration": 1,
    "start_time": "2022-12-13T12:38:55.156Z"
   },
   {
    "duration": 40,
    "start_time": "2022-12-13T12:41:18.722Z"
   },
   {
    "duration": 20,
    "start_time": "2022-12-13T12:41:24.520Z"
   },
   {
    "duration": 13,
    "start_time": "2022-12-13T12:42:13.194Z"
   },
   {
    "duration": 13,
    "start_time": "2022-12-13T12:42:19.315Z"
   },
   {
    "duration": 11,
    "start_time": "2022-12-13T12:42:36.321Z"
   },
   {
    "duration": 1279,
    "start_time": "2022-12-19T08:21:18.873Z"
   },
   {
    "duration": 79,
    "start_time": "2022-12-19T08:21:20.155Z"
   },
   {
    "duration": 10,
    "start_time": "2022-12-19T08:21:20.236Z"
   },
   {
    "duration": 118,
    "start_time": "2022-12-19T08:21:20.249Z"
   },
   {
    "duration": 10,
    "start_time": "2022-12-19T08:21:20.368Z"
   },
   {
    "duration": 82,
    "start_time": "2022-12-19T08:21:20.379Z"
   },
   {
    "duration": 10,
    "start_time": "2022-12-19T08:21:20.463Z"
   },
   {
    "duration": 19,
    "start_time": "2022-12-19T08:21:20.475Z"
   },
   {
    "duration": 29,
    "start_time": "2022-12-19T08:21:20.495Z"
   },
   {
    "duration": 23,
    "start_time": "2022-12-19T08:21:20.527Z"
   },
   {
    "duration": 28,
    "start_time": "2022-12-19T08:21:20.551Z"
   },
   {
    "duration": 17,
    "start_time": "2022-12-19T08:21:20.581Z"
   },
   {
    "duration": 17,
    "start_time": "2022-12-19T08:21:20.600Z"
   },
   {
    "duration": 28,
    "start_time": "2022-12-19T08:21:20.619Z"
   },
   {
    "duration": 13,
    "start_time": "2022-12-19T08:21:20.648Z"
   },
   {
    "duration": 34,
    "start_time": "2022-12-19T08:21:20.663Z"
   },
   {
    "duration": 30,
    "start_time": "2022-12-19T08:21:20.699Z"
   },
   {
    "duration": 48,
    "start_time": "2022-12-19T08:21:20.730Z"
   },
   {
    "duration": 44,
    "start_time": "2022-12-19T08:21:20.779Z"
   },
   {
    "duration": 17,
    "start_time": "2022-12-19T08:21:20.825Z"
   },
   {
    "duration": 33,
    "start_time": "2022-12-19T08:21:20.843Z"
   },
   {
    "duration": 35,
    "start_time": "2022-12-19T08:21:20.877Z"
   },
   {
    "duration": 25,
    "start_time": "2022-12-19T08:21:20.914Z"
   },
   {
    "duration": 24,
    "start_time": "2022-12-19T08:21:20.941Z"
   },
   {
    "duration": 34,
    "start_time": "2022-12-19T08:21:20.966Z"
   },
   {
    "duration": 27,
    "start_time": "2022-12-19T08:21:21.002Z"
   },
   {
    "duration": 200,
    "start_time": "2022-12-19T08:21:21.031Z"
   },
   {
    "duration": 292,
    "start_time": "2022-12-19T08:21:21.234Z"
   },
   {
    "duration": 10,
    "start_time": "2022-12-19T08:21:21.528Z"
   },
   {
    "duration": 314,
    "start_time": "2022-12-19T08:21:21.540Z"
   },
   {
    "duration": 230,
    "start_time": "2022-12-19T08:21:21.856Z"
   },
   {
    "duration": 408,
    "start_time": "2022-12-19T08:21:22.087Z"
   },
   {
    "duration": 261,
    "start_time": "2022-12-19T08:21:22.496Z"
   },
   {
    "duration": 286,
    "start_time": "2022-12-19T08:21:22.758Z"
   },
   {
    "duration": 145,
    "start_time": "2022-12-19T08:21:23.046Z"
   },
   {
    "duration": 4,
    "start_time": "2022-12-19T08:21:23.193Z"
   },
   {
    "duration": 148,
    "start_time": "2022-12-19T08:21:23.198Z"
   },
   {
    "duration": 210,
    "start_time": "2022-12-19T08:21:23.348Z"
   },
   {
    "duration": 4,
    "start_time": "2022-12-19T08:21:23.560Z"
   },
   {
    "duration": 10,
    "start_time": "2022-12-19T08:21:23.566Z"
   },
   {
    "duration": 136,
    "start_time": "2022-12-19T08:21:23.578Z"
   },
   {
    "duration": 33,
    "start_time": "2022-12-19T08:21:23.716Z"
   },
   {
    "duration": 11,
    "start_time": "2022-12-19T08:21:23.751Z"
   },
   {
    "duration": 11,
    "start_time": "2022-12-19T08:21:23.763Z"
   },
   {
    "duration": 46,
    "start_time": "2022-12-19T08:21:23.776Z"
   },
   {
    "duration": 18,
    "start_time": "2022-12-19T08:21:23.824Z"
   },
   {
    "duration": 4,
    "start_time": "2022-12-19T08:46:05.695Z"
   },
   {
    "duration": 5,
    "start_time": "2022-12-19T08:50:39.629Z"
   },
   {
    "duration": 5,
    "start_time": "2022-12-19T08:59:11.446Z"
   },
   {
    "duration": 4,
    "start_time": "2022-12-19T08:59:44.264Z"
   },
   {
    "duration": 7,
    "start_time": "2022-12-19T08:59:56.763Z"
   },
   {
    "duration": 5,
    "start_time": "2022-12-19T09:00:14.699Z"
   },
   {
    "duration": 6,
    "start_time": "2022-12-19T09:00:35.290Z"
   },
   {
    "duration": 6,
    "start_time": "2022-12-19T09:00:42.263Z"
   },
   {
    "duration": 5,
    "start_time": "2022-12-19T09:00:49.061Z"
   },
   {
    "duration": 9,
    "start_time": "2022-12-19T09:01:47.654Z"
   },
   {
    "duration": 6,
    "start_time": "2022-12-19T09:02:35.455Z"
   },
   {
    "duration": 11,
    "start_time": "2022-12-19T09:03:18.778Z"
   },
   {
    "duration": 6,
    "start_time": "2022-12-19T09:04:49.250Z"
   },
   {
    "duration": 1196,
    "start_time": "2022-12-19T09:04:58.531Z"
   },
   {
    "duration": 37,
    "start_time": "2022-12-19T09:04:59.729Z"
   },
   {
    "duration": 12,
    "start_time": "2022-12-19T09:04:59.768Z"
   },
   {
    "duration": 58,
    "start_time": "2022-12-19T09:04:59.782Z"
   },
   {
    "duration": 12,
    "start_time": "2022-12-19T09:04:59.842Z"
   },
   {
    "duration": 33,
    "start_time": "2022-12-19T09:04:59.856Z"
   },
   {
    "duration": 11,
    "start_time": "2022-12-19T09:04:59.891Z"
   },
   {
    "duration": 12,
    "start_time": "2022-12-19T09:04:59.904Z"
   },
   {
    "duration": 22,
    "start_time": "2022-12-19T09:04:59.918Z"
   },
   {
    "duration": 15,
    "start_time": "2022-12-19T09:04:59.943Z"
   },
   {
    "duration": 20,
    "start_time": "2022-12-19T09:04:59.960Z"
   },
   {
    "duration": 17,
    "start_time": "2022-12-19T09:04:59.981Z"
   },
   {
    "duration": 39,
    "start_time": "2022-12-19T09:05:00.000Z"
   },
   {
    "duration": 44,
    "start_time": "2022-12-19T09:05:00.041Z"
   },
   {
    "duration": 24,
    "start_time": "2022-12-19T09:05:00.087Z"
   },
   {
    "duration": 53,
    "start_time": "2022-12-19T09:05:00.113Z"
   },
   {
    "duration": 43,
    "start_time": "2022-12-19T09:05:00.168Z"
   },
   {
    "duration": 45,
    "start_time": "2022-12-19T09:05:00.214Z"
   },
   {
    "duration": 34,
    "start_time": "2022-12-19T09:05:00.261Z"
   },
   {
    "duration": 44,
    "start_time": "2022-12-19T09:05:00.297Z"
   },
   {
    "duration": 42,
    "start_time": "2022-12-19T09:05:00.343Z"
   },
   {
    "duration": 31,
    "start_time": "2022-12-19T09:05:00.387Z"
   },
   {
    "duration": 18,
    "start_time": "2022-12-19T09:05:00.420Z"
   },
   {
    "duration": 26,
    "start_time": "2022-12-19T09:05:00.440Z"
   },
   {
    "duration": 48,
    "start_time": "2022-12-19T09:05:00.467Z"
   },
   {
    "duration": 34,
    "start_time": "2022-12-19T09:05:00.518Z"
   },
   {
    "duration": 285,
    "start_time": "2022-12-19T09:05:00.554Z"
   },
   {
    "duration": 316,
    "start_time": "2022-12-19T09:05:00.843Z"
   },
   {
    "duration": 6,
    "start_time": "2022-12-19T09:05:01.160Z"
   },
   {
    "duration": 346,
    "start_time": "2022-12-19T09:05:01.167Z"
   },
   {
    "duration": 258,
    "start_time": "2022-12-19T09:05:01.516Z"
   },
   {
    "duration": 316,
    "start_time": "2022-12-19T09:05:01.776Z"
   },
   {
    "duration": 266,
    "start_time": "2022-12-19T09:05:02.095Z"
   },
   {
    "duration": 366,
    "start_time": "2022-12-19T09:05:02.363Z"
   },
   {
    "duration": 173,
    "start_time": "2022-12-19T09:05:02.735Z"
   },
   {
    "duration": 5,
    "start_time": "2022-12-19T09:05:02.910Z"
   },
   {
    "duration": 23,
    "start_time": "2022-12-19T09:05:02.916Z"
   },
   {
    "duration": 168,
    "start_time": "2022-12-19T09:05:02.941Z"
   },
   {
    "duration": 246,
    "start_time": "2022-12-19T09:05:03.111Z"
   },
   {
    "duration": 6,
    "start_time": "2022-12-19T09:05:03.359Z"
   },
   {
    "duration": 9,
    "start_time": "2022-12-19T09:05:03.366Z"
   },
   {
    "duration": 12,
    "start_time": "2022-12-19T09:05:03.377Z"
   },
   {
    "duration": 180,
    "start_time": "2022-12-19T09:05:03.396Z"
   },
   {
    "duration": 28,
    "start_time": "2022-12-19T09:05:03.578Z"
   },
   {
    "duration": 31,
    "start_time": "2022-12-19T09:05:03.608Z"
   },
   {
    "duration": 11,
    "start_time": "2022-12-19T09:05:03.641Z"
   },
   {
    "duration": 33,
    "start_time": "2022-12-19T09:05:03.653Z"
   },
   {
    "duration": 48,
    "start_time": "2022-12-19T09:05:03.688Z"
   },
   {
    "duration": 11,
    "start_time": "2022-12-19T09:05:52.266Z"
   },
   {
    "duration": 1279,
    "start_time": "2022-12-19T09:06:07.874Z"
   },
   {
    "duration": 37,
    "start_time": "2022-12-19T09:06:09.156Z"
   },
   {
    "duration": 13,
    "start_time": "2022-12-19T09:06:09.195Z"
   },
   {
    "duration": 55,
    "start_time": "2022-12-19T09:06:09.211Z"
   },
   {
    "duration": 12,
    "start_time": "2022-12-19T09:06:09.268Z"
   },
   {
    "duration": 50,
    "start_time": "2022-12-19T09:06:09.282Z"
   },
   {
    "duration": 14,
    "start_time": "2022-12-19T09:06:09.334Z"
   },
   {
    "duration": 11,
    "start_time": "2022-12-19T09:06:09.350Z"
   },
   {
    "duration": 28,
    "start_time": "2022-12-19T09:06:09.363Z"
   },
   {
    "duration": 24,
    "start_time": "2022-12-19T09:06:09.394Z"
   },
   {
    "duration": 26,
    "start_time": "2022-12-19T09:06:09.420Z"
   },
   {
    "duration": 56,
    "start_time": "2022-12-19T09:06:09.447Z"
   },
   {
    "duration": 31,
    "start_time": "2022-12-19T09:06:09.505Z"
   },
   {
    "duration": 21,
    "start_time": "2022-12-19T09:06:09.539Z"
   },
   {
    "duration": 21,
    "start_time": "2022-12-19T09:06:09.563Z"
   },
   {
    "duration": 36,
    "start_time": "2022-12-19T09:06:09.586Z"
   },
   {
    "duration": 23,
    "start_time": "2022-12-19T09:06:09.625Z"
   },
   {
    "duration": 26,
    "start_time": "2022-12-19T09:06:09.650Z"
   },
   {
    "duration": 24,
    "start_time": "2022-12-19T09:06:09.678Z"
   },
   {
    "duration": 32,
    "start_time": "2022-12-19T09:06:09.705Z"
   },
   {
    "duration": 36,
    "start_time": "2022-12-19T09:06:09.739Z"
   },
   {
    "duration": 15,
    "start_time": "2022-12-19T09:06:09.778Z"
   },
   {
    "duration": 23,
    "start_time": "2022-12-19T09:06:09.795Z"
   },
   {
    "duration": 36,
    "start_time": "2022-12-19T09:06:09.821Z"
   },
   {
    "duration": 36,
    "start_time": "2022-12-19T09:06:09.859Z"
   },
   {
    "duration": 33,
    "start_time": "2022-12-19T09:06:09.897Z"
   },
   {
    "duration": 248,
    "start_time": "2022-12-19T09:06:09.932Z"
   },
   {
    "duration": 333,
    "start_time": "2022-12-19T09:06:10.184Z"
   },
   {
    "duration": 5,
    "start_time": "2022-12-19T09:06:10.519Z"
   },
   {
    "duration": 299,
    "start_time": "2022-12-19T09:06:10.536Z"
   },
   {
    "duration": 219,
    "start_time": "2022-12-19T09:06:10.837Z"
   },
   {
    "duration": 318,
    "start_time": "2022-12-19T09:06:11.058Z"
   },
   {
    "duration": 257,
    "start_time": "2022-12-19T09:06:11.378Z"
   },
   {
    "duration": 324,
    "start_time": "2022-12-19T09:06:11.637Z"
   },
   {
    "duration": 184,
    "start_time": "2022-12-19T09:06:11.964Z"
   },
   {
    "duration": 6,
    "start_time": "2022-12-19T09:06:12.150Z"
   },
   {
    "duration": 12,
    "start_time": "2022-12-19T09:06:12.157Z"
   },
   {
    "duration": 186,
    "start_time": "2022-12-19T09:06:12.171Z"
   },
   {
    "duration": 304,
    "start_time": "2022-12-19T09:06:12.359Z"
   },
   {
    "duration": 6,
    "start_time": "2022-12-19T09:06:12.664Z"
   },
   {
    "duration": 11,
    "start_time": "2022-12-19T09:06:12.672Z"
   },
   {
    "duration": 38,
    "start_time": "2022-12-19T09:06:12.685Z"
   },
   {
    "duration": 217,
    "start_time": "2022-12-19T09:06:12.726Z"
   },
   {
    "duration": 30,
    "start_time": "2022-12-19T09:06:12.946Z"
   },
   {
    "duration": 12,
    "start_time": "2022-12-19T09:06:12.978Z"
   },
   {
    "duration": 10,
    "start_time": "2022-12-19T09:06:12.992Z"
   },
   {
    "duration": 42,
    "start_time": "2022-12-19T09:06:13.034Z"
   },
   {
    "duration": 16,
    "start_time": "2022-12-19T09:06:13.078Z"
   },
   {
    "duration": 1209,
    "start_time": "2022-12-19T09:10:37.605Z"
   },
   {
    "duration": 48,
    "start_time": "2022-12-19T09:10:38.817Z"
   },
   {
    "duration": 16,
    "start_time": "2022-12-19T09:10:38.867Z"
   },
   {
    "duration": 61,
    "start_time": "2022-12-19T09:10:38.886Z"
   },
   {
    "duration": 17,
    "start_time": "2022-12-19T09:10:38.949Z"
   },
   {
    "duration": 38,
    "start_time": "2022-12-19T09:10:38.968Z"
   },
   {
    "duration": 13,
    "start_time": "2022-12-19T09:10:39.009Z"
   },
   {
    "duration": 17,
    "start_time": "2022-12-19T09:10:39.024Z"
   },
   {
    "duration": 19,
    "start_time": "2022-12-19T09:10:39.043Z"
   },
   {
    "duration": 26,
    "start_time": "2022-12-19T09:10:39.067Z"
   },
   {
    "duration": 17,
    "start_time": "2022-12-19T09:10:39.096Z"
   },
   {
    "duration": 32,
    "start_time": "2022-12-19T09:10:39.115Z"
   },
   {
    "duration": 29,
    "start_time": "2022-12-19T09:10:39.150Z"
   },
   {
    "duration": 24,
    "start_time": "2022-12-19T09:10:39.180Z"
   },
   {
    "duration": 32,
    "start_time": "2022-12-19T09:10:39.206Z"
   },
   {
    "duration": 33,
    "start_time": "2022-12-19T09:10:39.241Z"
   },
   {
    "duration": 22,
    "start_time": "2022-12-19T09:10:39.277Z"
   },
   {
    "duration": 45,
    "start_time": "2022-12-19T09:10:39.301Z"
   },
   {
    "duration": 23,
    "start_time": "2022-12-19T09:10:39.348Z"
   },
   {
    "duration": 29,
    "start_time": "2022-12-19T09:10:39.374Z"
   },
   {
    "duration": 36,
    "start_time": "2022-12-19T09:10:39.405Z"
   },
   {
    "duration": 12,
    "start_time": "2022-12-19T09:10:39.443Z"
   },
   {
    "duration": 27,
    "start_time": "2022-12-19T09:10:39.457Z"
   },
   {
    "duration": 19,
    "start_time": "2022-12-19T09:10:39.486Z"
   },
   {
    "duration": 37,
    "start_time": "2022-12-19T09:10:39.507Z"
   },
   {
    "duration": 32,
    "start_time": "2022-12-19T09:10:39.546Z"
   },
   {
    "duration": 308,
    "start_time": "2022-12-19T09:10:39.580Z"
   },
   {
    "duration": 338,
    "start_time": "2022-12-19T09:10:39.893Z"
   },
   {
    "duration": 6,
    "start_time": "2022-12-19T09:10:40.234Z"
   },
   {
    "duration": 310,
    "start_time": "2022-12-19T09:10:40.241Z"
   },
   {
    "duration": 223,
    "start_time": "2022-12-19T09:10:40.554Z"
   },
   {
    "duration": 353,
    "start_time": "2022-12-19T09:10:40.780Z"
   },
   {
    "duration": 255,
    "start_time": "2022-12-19T09:10:41.135Z"
   },
   {
    "duration": 394,
    "start_time": "2022-12-19T09:10:41.392Z"
   },
   {
    "duration": 232,
    "start_time": "2022-12-19T09:10:41.789Z"
   },
   {
    "duration": 16,
    "start_time": "2022-12-19T09:10:42.023Z"
   },
   {
    "duration": 19,
    "start_time": "2022-12-19T09:10:42.041Z"
   },
   {
    "duration": 192,
    "start_time": "2022-12-19T09:10:42.062Z"
   },
   {
    "duration": 304,
    "start_time": "2022-12-19T09:10:42.257Z"
   },
   {
    "duration": 11,
    "start_time": "2022-12-19T09:10:42.564Z"
   },
   {
    "duration": 43,
    "start_time": "2022-12-19T09:10:42.577Z"
   },
   {
    "duration": 38,
    "start_time": "2022-12-19T09:10:42.622Z"
   },
   {
    "duration": 181,
    "start_time": "2022-12-19T09:10:42.663Z"
   },
   {
    "duration": 29,
    "start_time": "2022-12-19T09:10:42.846Z"
   },
   {
    "duration": 12,
    "start_time": "2022-12-19T09:10:42.877Z"
   },
   {
    "duration": 14,
    "start_time": "2022-12-19T09:10:42.891Z"
   },
   {
    "duration": 47,
    "start_time": "2022-12-19T09:10:42.937Z"
   },
   {
    "duration": 18,
    "start_time": "2022-12-19T09:10:42.987Z"
   }
  ],
  "kernelspec": {
   "display_name": "Python 3 (ipykernel)",
   "language": "python",
   "name": "python3"
  },
  "language_info": {
   "codemirror_mode": {
    "name": "ipython",
    "version": 3
   },
   "file_extension": ".py",
   "mimetype": "text/x-python",
   "name": "python",
   "nbconvert_exporter": "python",
   "pygments_lexer": "ipython3",
   "version": "3.9.5"
  },
  "toc": {
   "base_numbering": 1,
   "nav_menu": {},
   "number_sections": true,
   "sideBar": true,
   "skip_h1_title": true,
   "title_cell": "Содержание",
   "title_sidebar": "Contents",
   "toc_cell": true,
   "toc_position": {
    "height": "calc(100% - 180px)",
    "left": "10px",
    "top": "150px",
    "width": "165px"
   },
   "toc_section_display": true,
   "toc_window_display": true
  }
 },
 "nbformat": 4,
 "nbformat_minor": 2
}
