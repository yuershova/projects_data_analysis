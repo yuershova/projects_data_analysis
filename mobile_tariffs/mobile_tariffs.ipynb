{
 "cells": [
  {
   "cell_type": "markdown",
   "metadata": {
    "toc": true
   },
   "source": [
    "<h1>Содержание<span class=\"tocSkip\"></span></h1>\n",
    "<div class=\"toc\"><ul class=\"toc-item\"><li><span><a href=\"#Обзор-данных\" data-toc-modified-id=\"Обзор-данных-1\"><span class=\"toc-item-num\">1&nbsp;&nbsp;</span>Обзор данных</a></span></li><li><span><a href=\"#Предобработка-данных\" data-toc-modified-id=\"Предобработка-данных-2\"><span class=\"toc-item-num\">2&nbsp;&nbsp;</span>Предобработка данных</a></span><ul class=\"toc-item\"><li><span><a href=\"#Предобработка-данных-в-таблице-users\" data-toc-modified-id=\"Предобработка-данных-в-таблице-users-2.1\"><span class=\"toc-item-num\">2.1&nbsp;&nbsp;</span>Предобработка данных в таблице users</a></span></li><li><span><a href=\"#Предобработка-данных-в-таблице-calls\" data-toc-modified-id=\"Предобработка-данных-в-таблице-calls-2.2\"><span class=\"toc-item-num\">2.2&nbsp;&nbsp;</span>Предобработка данных в таблице calls</a></span></li><li><span><a href=\"#Предобработка-данных-в-таблице-internet\" data-toc-modified-id=\"Предобработка-данных-в-таблице-internet-2.3\"><span class=\"toc-item-num\">2.3&nbsp;&nbsp;</span>Предобработка данных в таблице internet</a></span></li><li><span><a href=\"#Предобработка-данных-в-таблице-messages\" data-toc-modified-id=\"Предобработка-данных-в-таблице-messages-2.4\"><span class=\"toc-item-num\">2.4&nbsp;&nbsp;</span>Предобработка данных в таблице messages</a></span></li><li><span><a href=\"#Предобработка-данных-в-таблице-tariffs\" data-toc-modified-id=\"Предобработка-данных-в-таблице-tariffs-2.5\"><span class=\"toc-item-num\">2.5&nbsp;&nbsp;</span>Предобработка данных в таблице tariffs</a></span></li></ul></li><li><span><a href=\"#Исследовательский-анализ-данных\" data-toc-modified-id=\"Исследовательский-анализ-данных-3\"><span class=\"toc-item-num\">3&nbsp;&nbsp;</span>Исследовательский анализ данных</a></span><ul class=\"toc-item\"><li><span><a href=\"#Подсчет-количества-сделанных-звонков-и-израсходованных-минут-разговора\" data-toc-modified-id=\"Подсчет-количества-сделанных-звонков-и-израсходованных-минут-разговора-3.1\"><span class=\"toc-item-num\">3.1&nbsp;&nbsp;</span>Подсчет количества сделанных звонков и израсходованных минут разговора</a></span></li><li><span><a href=\"#Подсчет-количества-отправленных-сообщений\" data-toc-modified-id=\"Подсчет-количества-отправленных-сообщений-3.2\"><span class=\"toc-item-num\">3.2&nbsp;&nbsp;</span>Подсчет количества отправленных сообщений</a></span></li><li><span><a href=\"#Подсчет-объема-израсходованного-интернет-трафика\" data-toc-modified-id=\"Подсчет-объема-израсходованного-интернет-трафика-3.3\"><span class=\"toc-item-num\">3.3&nbsp;&nbsp;</span>Подсчет объема израсходованного интернет-трафика</a></span></li><li><span><a href=\"#Подсчет-помесячной-выручки-с-каждого-пользователя\" data-toc-modified-id=\"Подсчет-помесячной-выручки-с-каждого-пользователя-3.4\"><span class=\"toc-item-num\">3.4&nbsp;&nbsp;</span>Подсчет помесячной выручки с каждого пользователя</a></span></li><li><span><a href=\"#Сравнительный-анализ-тарифов-&quot;Смарт&quot;-и-&quot;Ультра&quot;\" data-toc-modified-id=\"Сравнительный-анализ-тарифов-&quot;Смарт&quot;-и-&quot;Ультра&quot;-3.5\"><span class=\"toc-item-num\">3.5&nbsp;&nbsp;</span>Сравнительный анализ тарифов \"Смарт\" и \"Ультра\"</a></span></li></ul></li><li><span><a href=\"#Проверка-гипотез\" data-toc-modified-id=\"Проверка-гипотез-4\"><span class=\"toc-item-num\">4&nbsp;&nbsp;</span>Проверка гипотез</a></span><ul class=\"toc-item\"><li><span><a href=\"#Средняя-выручка-пользователей-тарифов-«Ультра»-и-«Смарт»-различаются\" data-toc-modified-id=\"Средняя-выручка-пользователей-тарифов-«Ультра»-и-«Смарт»-различаются-4.1\"><span class=\"toc-item-num\">4.1&nbsp;&nbsp;</span>Средняя выручка пользователей тарифов «Ультра» и «Смарт» различаются</a></span></li><li><span><a href=\"#Средняя-выручка-пользователей-из-Москвы-отличается-от-выручки-пользователей-из-других-регионов\" data-toc-modified-id=\"Средняя-выручка-пользователей-из-Москвы-отличается-от-выручки-пользователей-из-других-регионов-4.2\"><span class=\"toc-item-num\">4.2&nbsp;&nbsp;</span>Средняя выручка пользователей из Москвы отличается от выручки пользователей из других регионов</a></span></li></ul></li><li><span><a href=\"#Вывод\" data-toc-modified-id=\"Вывод-5\"><span class=\"toc-item-num\">5&nbsp;&nbsp;</span>Вывод</a></span></li></ul></div>"
   ]
  },
  {
   "cell_type": "markdown",
   "metadata": {},
   "source": [
    "   # Определение выгодного тарифа для телеком компании #"
   ]
  },
  {
   "cell_type": "markdown",
   "metadata": {},
   "source": [
    "Федеральный оператор сотовой связи компания \"Мегалайн\" предлагает своим клиентам два тарифных плана - \"Смарт\" и \"Ультра\". \n",
    "\n",
    "Чтобы скорректировать свой рекламный бюджет, коммерческий департамент хочет понять какой тариф приносит больше денег. \n",
    "\n",
    "Необходимо провести предварительный анализ тарифов на небольшой выборке клиентов из 500 человек с целью выяснения какой тариф лучше."
   ]
  },
  {
   "cell_type": "markdown",
   "metadata": {},
   "source": [
    "## Обзор данных"
   ]
  },
  {
   "cell_type": "code",
   "execution_count": 1,
   "metadata": {},
   "outputs": [],
   "source": [
    "# импорт библиотек\n",
    "import pandas as pd\n",
    "import numpy as np\n",
    "import seaborn as sns\n",
    "import matplotlib.pyplot as plt\n",
    "from scipy import stats as st"
   ]
  },
  {
   "cell_type": "code",
   "execution_count": 2,
   "metadata": {},
   "outputs": [
    {
     "data": {
      "text/html": [
       "<div>\n",
       "<style scoped>\n",
       "    .dataframe tbody tr th:only-of-type {\n",
       "        vertical-align: middle;\n",
       "    }\n",
       "\n",
       "    .dataframe tbody tr th {\n",
       "        vertical-align: top;\n",
       "    }\n",
       "\n",
       "    .dataframe thead th {\n",
       "        text-align: right;\n",
       "    }\n",
       "</style>\n",
       "<table border=\"1\" class=\"dataframe\">\n",
       "  <thead>\n",
       "    <tr style=\"text-align: right;\">\n",
       "      <th></th>\n",
       "      <th>user_id</th>\n",
       "      <th>age</th>\n",
       "      <th>churn_date</th>\n",
       "      <th>city</th>\n",
       "      <th>first_name</th>\n",
       "      <th>last_name</th>\n",
       "      <th>reg_date</th>\n",
       "      <th>tariff</th>\n",
       "    </tr>\n",
       "  </thead>\n",
       "  <tbody>\n",
       "    <tr>\n",
       "      <th>0</th>\n",
       "      <td>1000</td>\n",
       "      <td>52</td>\n",
       "      <td>NaN</td>\n",
       "      <td>Краснодар</td>\n",
       "      <td>Рафаил</td>\n",
       "      <td>Верещагин</td>\n",
       "      <td>2018-05-25</td>\n",
       "      <td>ultra</td>\n",
       "    </tr>\n",
       "    <tr>\n",
       "      <th>1</th>\n",
       "      <td>1001</td>\n",
       "      <td>41</td>\n",
       "      <td>NaN</td>\n",
       "      <td>Москва</td>\n",
       "      <td>Иван</td>\n",
       "      <td>Ежов</td>\n",
       "      <td>2018-11-01</td>\n",
       "      <td>smart</td>\n",
       "    </tr>\n",
       "    <tr>\n",
       "      <th>2</th>\n",
       "      <td>1002</td>\n",
       "      <td>59</td>\n",
       "      <td>NaN</td>\n",
       "      <td>Стерлитамак</td>\n",
       "      <td>Евгений</td>\n",
       "      <td>Абрамович</td>\n",
       "      <td>2018-06-17</td>\n",
       "      <td>smart</td>\n",
       "    </tr>\n",
       "    <tr>\n",
       "      <th>3</th>\n",
       "      <td>1003</td>\n",
       "      <td>23</td>\n",
       "      <td>NaN</td>\n",
       "      <td>Москва</td>\n",
       "      <td>Белла</td>\n",
       "      <td>Белякова</td>\n",
       "      <td>2018-08-17</td>\n",
       "      <td>ultra</td>\n",
       "    </tr>\n",
       "    <tr>\n",
       "      <th>4</th>\n",
       "      <td>1004</td>\n",
       "      <td>68</td>\n",
       "      <td>NaN</td>\n",
       "      <td>Новокузнецк</td>\n",
       "      <td>Татьяна</td>\n",
       "      <td>Авдеенко</td>\n",
       "      <td>2018-05-14</td>\n",
       "      <td>ultra</td>\n",
       "    </tr>\n",
       "  </tbody>\n",
       "</table>\n",
       "</div>"
      ],
      "text/plain": [
       "   user_id  age churn_date         city first_name  last_name    reg_date  \\\n",
       "0     1000   52        NaN    Краснодар     Рафаил  Верещагин  2018-05-25   \n",
       "1     1001   41        NaN       Москва       Иван       Ежов  2018-11-01   \n",
       "2     1002   59        NaN  Стерлитамак    Евгений  Абрамович  2018-06-17   \n",
       "3     1003   23        NaN       Москва      Белла   Белякова  2018-08-17   \n",
       "4     1004   68        NaN  Новокузнецк    Татьяна   Авдеенко  2018-05-14   \n",
       "\n",
       "  tariff  \n",
       "0  ultra  \n",
       "1  smart  \n",
       "2  smart  \n",
       "3  ultra  \n",
       "4  ultra  "
      ]
     },
     "execution_count": 2,
     "metadata": {},
     "output_type": "execute_result"
    }
   ],
   "source": [
    "# чтение файлов с данными \n",
    "users = pd.read_csv('/datasets/users.csv')\n",
    "# вывод первых строк таблицы\n",
    "users.head()"
   ]
  },
  {
   "cell_type": "code",
   "execution_count": 3,
   "metadata": {
    "scrolled": true
   },
   "outputs": [
    {
     "name": "stdout",
     "output_type": "stream",
     "text": [
      "<class 'pandas.core.frame.DataFrame'>\n",
      "RangeIndex: 500 entries, 0 to 499\n",
      "Data columns (total 8 columns):\n",
      " #   Column      Non-Null Count  Dtype \n",
      "---  ------      --------------  ----- \n",
      " 0   user_id     500 non-null    int64 \n",
      " 1   age         500 non-null    int64 \n",
      " 2   churn_date  38 non-null     object\n",
      " 3   city        500 non-null    object\n",
      " 4   first_name  500 non-null    object\n",
      " 5   last_name   500 non-null    object\n",
      " 6   reg_date    500 non-null    object\n",
      " 7   tariff      500 non-null    object\n",
      "dtypes: int64(2), object(6)\n",
      "memory usage: 31.4+ KB\n"
     ]
    }
   ],
   "source": [
    "# получение общей информации о данных\n",
    "users.info()"
   ]
  },
  {
   "cell_type": "markdown",
   "metadata": {},
   "source": [
    "Таблица **users** включает в себя:\n",
    "- user_id — уникальный идентификатор пользователя;\n",
    "- first_name — имя пользователя;\n",
    "- last_name — фамилия пользователя;\n",
    "- age — возраст пользователя (годы);\n",
    "- reg_date — дата подключения тарифа (день, месяц, год);\n",
    "- churn_date — дата прекращения пользования тарифом (если значение пропущено, то тариф ещё действовал на момент выгрузки данных);\n",
    "- city — город проживания пользователя;\n",
    "- tariff — название тарифного плана."
   ]
  },
  {
   "cell_type": "code",
   "execution_count": 4,
   "metadata": {
    "scrolled": true
   },
   "outputs": [
    {
     "data": {
      "text/html": [
       "<div>\n",
       "<style scoped>\n",
       "    .dataframe tbody tr th:only-of-type {\n",
       "        vertical-align: middle;\n",
       "    }\n",
       "\n",
       "    .dataframe tbody tr th {\n",
       "        vertical-align: top;\n",
       "    }\n",
       "\n",
       "    .dataframe thead th {\n",
       "        text-align: right;\n",
       "    }\n",
       "</style>\n",
       "<table border=\"1\" class=\"dataframe\">\n",
       "  <thead>\n",
       "    <tr style=\"text-align: right;\">\n",
       "      <th></th>\n",
       "      <th>id</th>\n",
       "      <th>call_date</th>\n",
       "      <th>duration</th>\n",
       "      <th>user_id</th>\n",
       "    </tr>\n",
       "  </thead>\n",
       "  <tbody>\n",
       "    <tr>\n",
       "      <th>0</th>\n",
       "      <td>1000_0</td>\n",
       "      <td>2018-07-25</td>\n",
       "      <td>0.00</td>\n",
       "      <td>1000</td>\n",
       "    </tr>\n",
       "    <tr>\n",
       "      <th>1</th>\n",
       "      <td>1000_1</td>\n",
       "      <td>2018-08-17</td>\n",
       "      <td>0.00</td>\n",
       "      <td>1000</td>\n",
       "    </tr>\n",
       "    <tr>\n",
       "      <th>2</th>\n",
       "      <td>1000_2</td>\n",
       "      <td>2018-06-11</td>\n",
       "      <td>2.85</td>\n",
       "      <td>1000</td>\n",
       "    </tr>\n",
       "    <tr>\n",
       "      <th>3</th>\n",
       "      <td>1000_3</td>\n",
       "      <td>2018-09-21</td>\n",
       "      <td>13.80</td>\n",
       "      <td>1000</td>\n",
       "    </tr>\n",
       "    <tr>\n",
       "      <th>4</th>\n",
       "      <td>1000_4</td>\n",
       "      <td>2018-12-15</td>\n",
       "      <td>5.18</td>\n",
       "      <td>1000</td>\n",
       "    </tr>\n",
       "  </tbody>\n",
       "</table>\n",
       "</div>"
      ],
      "text/plain": [
       "       id   call_date  duration  user_id\n",
       "0  1000_0  2018-07-25      0.00     1000\n",
       "1  1000_1  2018-08-17      0.00     1000\n",
       "2  1000_2  2018-06-11      2.85     1000\n",
       "3  1000_3  2018-09-21     13.80     1000\n",
       "4  1000_4  2018-12-15      5.18     1000"
      ]
     },
     "execution_count": 4,
     "metadata": {},
     "output_type": "execute_result"
    }
   ],
   "source": [
    "# чтение файлов с данными \n",
    "calls = pd.read_csv('/datasets/calls.csv')\n",
    "# вывод первых строк таблицы\n",
    "calls.head()"
   ]
  },
  {
   "cell_type": "code",
   "execution_count": 5,
   "metadata": {},
   "outputs": [
    {
     "name": "stdout",
     "output_type": "stream",
     "text": [
      "<class 'pandas.core.frame.DataFrame'>\n",
      "RangeIndex: 202607 entries, 0 to 202606\n",
      "Data columns (total 4 columns):\n",
      " #   Column     Non-Null Count   Dtype  \n",
      "---  ------     --------------   -----  \n",
      " 0   id         202607 non-null  object \n",
      " 1   call_date  202607 non-null  object \n",
      " 2   duration   202607 non-null  float64\n",
      " 3   user_id    202607 non-null  int64  \n",
      "dtypes: float64(1), int64(1), object(2)\n",
      "memory usage: 6.2+ MB\n"
     ]
    }
   ],
   "source": [
    "# получение общей информации о данных\n",
    "calls.info()"
   ]
  },
  {
   "cell_type": "markdown",
   "metadata": {},
   "source": [
    "Таблица **calls** включает в себя:\n",
    "- id — уникальный номер звонка;\n",
    "- call_date — дата звонка;\n",
    "- duration — длительность звонка в минутах;\n",
    "- user_id — идентификатор пользователя, сделавшего звонок."
   ]
  },
  {
   "cell_type": "code",
   "execution_count": 6,
   "metadata": {
    "scrolled": true
   },
   "outputs": [
    {
     "data": {
      "text/html": [
       "<div>\n",
       "<style scoped>\n",
       "    .dataframe tbody tr th:only-of-type {\n",
       "        vertical-align: middle;\n",
       "    }\n",
       "\n",
       "    .dataframe tbody tr th {\n",
       "        vertical-align: top;\n",
       "    }\n",
       "\n",
       "    .dataframe thead th {\n",
       "        text-align: right;\n",
       "    }\n",
       "</style>\n",
       "<table border=\"1\" class=\"dataframe\">\n",
       "  <thead>\n",
       "    <tr style=\"text-align: right;\">\n",
       "      <th></th>\n",
       "      <th>Unnamed: 0</th>\n",
       "      <th>id</th>\n",
       "      <th>mb_used</th>\n",
       "      <th>session_date</th>\n",
       "      <th>user_id</th>\n",
       "    </tr>\n",
       "  </thead>\n",
       "  <tbody>\n",
       "    <tr>\n",
       "      <th>0</th>\n",
       "      <td>0</td>\n",
       "      <td>1000_0</td>\n",
       "      <td>112.95</td>\n",
       "      <td>2018-11-25</td>\n",
       "      <td>1000</td>\n",
       "    </tr>\n",
       "    <tr>\n",
       "      <th>1</th>\n",
       "      <td>1</td>\n",
       "      <td>1000_1</td>\n",
       "      <td>1052.81</td>\n",
       "      <td>2018-09-07</td>\n",
       "      <td>1000</td>\n",
       "    </tr>\n",
       "    <tr>\n",
       "      <th>2</th>\n",
       "      <td>2</td>\n",
       "      <td>1000_2</td>\n",
       "      <td>1197.26</td>\n",
       "      <td>2018-06-25</td>\n",
       "      <td>1000</td>\n",
       "    </tr>\n",
       "    <tr>\n",
       "      <th>3</th>\n",
       "      <td>3</td>\n",
       "      <td>1000_3</td>\n",
       "      <td>550.27</td>\n",
       "      <td>2018-08-22</td>\n",
       "      <td>1000</td>\n",
       "    </tr>\n",
       "    <tr>\n",
       "      <th>4</th>\n",
       "      <td>4</td>\n",
       "      <td>1000_4</td>\n",
       "      <td>302.56</td>\n",
       "      <td>2018-09-24</td>\n",
       "      <td>1000</td>\n",
       "    </tr>\n",
       "  </tbody>\n",
       "</table>\n",
       "</div>"
      ],
      "text/plain": [
       "   Unnamed: 0      id  mb_used session_date  user_id\n",
       "0           0  1000_0   112.95   2018-11-25     1000\n",
       "1           1  1000_1  1052.81   2018-09-07     1000\n",
       "2           2  1000_2  1197.26   2018-06-25     1000\n",
       "3           3  1000_3   550.27   2018-08-22     1000\n",
       "4           4  1000_4   302.56   2018-09-24     1000"
      ]
     },
     "execution_count": 6,
     "metadata": {},
     "output_type": "execute_result"
    }
   ],
   "source": [
    "# чтение файлов с данными \n",
    "internet = pd.read_csv('/datasets/internet.csv')\n",
    "# вывод первых строк таблицы\n",
    "internet.head()"
   ]
  },
  {
   "cell_type": "code",
   "execution_count": 7,
   "metadata": {
    "scrolled": true
   },
   "outputs": [
    {
     "name": "stdout",
     "output_type": "stream",
     "text": [
      "<class 'pandas.core.frame.DataFrame'>\n",
      "RangeIndex: 149396 entries, 0 to 149395\n",
      "Data columns (total 5 columns):\n",
      " #   Column        Non-Null Count   Dtype  \n",
      "---  ------        --------------   -----  \n",
      " 0   Unnamed: 0    149396 non-null  int64  \n",
      " 1   id            149396 non-null  object \n",
      " 2   mb_used       149396 non-null  float64\n",
      " 3   session_date  149396 non-null  object \n",
      " 4   user_id       149396 non-null  int64  \n",
      "dtypes: float64(1), int64(2), object(2)\n",
      "memory usage: 5.7+ MB\n"
     ]
    }
   ],
   "source": [
    "# получение общей информации о данных \n",
    "internet.info()"
   ]
  },
  {
   "cell_type": "markdown",
   "metadata": {},
   "source": [
    "Таблица **internet** включает в себя:\n",
    "- id — уникальный номер сессии;\n",
    "- mb_used — объём потраченного за сессию интернет-трафика (в мегабайтах);\n",
    "- session_date — дата интернет-сессии;\n",
    "- user_id — идентификатор пользователя."
   ]
  },
  {
   "cell_type": "code",
   "execution_count": 8,
   "metadata": {
    "scrolled": false
   },
   "outputs": [
    {
     "data": {
      "text/html": [
       "<div>\n",
       "<style scoped>\n",
       "    .dataframe tbody tr th:only-of-type {\n",
       "        vertical-align: middle;\n",
       "    }\n",
       "\n",
       "    .dataframe tbody tr th {\n",
       "        vertical-align: top;\n",
       "    }\n",
       "\n",
       "    .dataframe thead th {\n",
       "        text-align: right;\n",
       "    }\n",
       "</style>\n",
       "<table border=\"1\" class=\"dataframe\">\n",
       "  <thead>\n",
       "    <tr style=\"text-align: right;\">\n",
       "      <th></th>\n",
       "      <th>id</th>\n",
       "      <th>message_date</th>\n",
       "      <th>user_id</th>\n",
       "    </tr>\n",
       "  </thead>\n",
       "  <tbody>\n",
       "    <tr>\n",
       "      <th>0</th>\n",
       "      <td>1000_0</td>\n",
       "      <td>2018-06-27</td>\n",
       "      <td>1000</td>\n",
       "    </tr>\n",
       "    <tr>\n",
       "      <th>1</th>\n",
       "      <td>1000_1</td>\n",
       "      <td>2018-10-08</td>\n",
       "      <td>1000</td>\n",
       "    </tr>\n",
       "    <tr>\n",
       "      <th>2</th>\n",
       "      <td>1000_2</td>\n",
       "      <td>2018-08-04</td>\n",
       "      <td>1000</td>\n",
       "    </tr>\n",
       "    <tr>\n",
       "      <th>3</th>\n",
       "      <td>1000_3</td>\n",
       "      <td>2018-06-16</td>\n",
       "      <td>1000</td>\n",
       "    </tr>\n",
       "    <tr>\n",
       "      <th>4</th>\n",
       "      <td>1000_4</td>\n",
       "      <td>2018-12-05</td>\n",
       "      <td>1000</td>\n",
       "    </tr>\n",
       "  </tbody>\n",
       "</table>\n",
       "</div>"
      ],
      "text/plain": [
       "       id message_date  user_id\n",
       "0  1000_0   2018-06-27     1000\n",
       "1  1000_1   2018-10-08     1000\n",
       "2  1000_2   2018-08-04     1000\n",
       "3  1000_3   2018-06-16     1000\n",
       "4  1000_4   2018-12-05     1000"
      ]
     },
     "execution_count": 8,
     "metadata": {},
     "output_type": "execute_result"
    }
   ],
   "source": [
    "# чтение файлов с данными \n",
    "messages = pd.read_csv('/datasets/messages.csv')\n",
    "# вывод первых строк таблицы\n",
    "messages.head()"
   ]
  },
  {
   "cell_type": "code",
   "execution_count": 9,
   "metadata": {},
   "outputs": [
    {
     "name": "stdout",
     "output_type": "stream",
     "text": [
      "<class 'pandas.core.frame.DataFrame'>\n",
      "RangeIndex: 123036 entries, 0 to 123035\n",
      "Data columns (total 3 columns):\n",
      " #   Column        Non-Null Count   Dtype \n",
      "---  ------        --------------   ----- \n",
      " 0   id            123036 non-null  object\n",
      " 1   message_date  123036 non-null  object\n",
      " 2   user_id       123036 non-null  int64 \n",
      "dtypes: int64(1), object(2)\n",
      "memory usage: 2.8+ MB\n"
     ]
    }
   ],
   "source": [
    "# получение общей информации о данных\n",
    "messages.info()"
   ]
  },
  {
   "cell_type": "markdown",
   "metadata": {},
   "source": [
    "Таблица **messages** включает в себя:\n",
    "- id — уникальный номер сообщения;\n",
    "- message_date — дата сообщения;\n",
    "- user_id — идентификатор пользователя, отправившего сообщение."
   ]
  },
  {
   "cell_type": "code",
   "execution_count": 10,
   "metadata": {
    "scrolled": true
   },
   "outputs": [
    {
     "data": {
      "text/html": [
       "<div>\n",
       "<style scoped>\n",
       "    .dataframe tbody tr th:only-of-type {\n",
       "        vertical-align: middle;\n",
       "    }\n",
       "\n",
       "    .dataframe tbody tr th {\n",
       "        vertical-align: top;\n",
       "    }\n",
       "\n",
       "    .dataframe thead th {\n",
       "        text-align: right;\n",
       "    }\n",
       "</style>\n",
       "<table border=\"1\" class=\"dataframe\">\n",
       "  <thead>\n",
       "    <tr style=\"text-align: right;\">\n",
       "      <th></th>\n",
       "      <th>messages_included</th>\n",
       "      <th>mb_per_month_included</th>\n",
       "      <th>minutes_included</th>\n",
       "      <th>rub_monthly_fee</th>\n",
       "      <th>rub_per_gb</th>\n",
       "      <th>rub_per_message</th>\n",
       "      <th>rub_per_minute</th>\n",
       "      <th>tariff_name</th>\n",
       "    </tr>\n",
       "  </thead>\n",
       "  <tbody>\n",
       "    <tr>\n",
       "      <th>0</th>\n",
       "      <td>50</td>\n",
       "      <td>15360</td>\n",
       "      <td>500</td>\n",
       "      <td>550</td>\n",
       "      <td>200</td>\n",
       "      <td>3</td>\n",
       "      <td>3</td>\n",
       "      <td>smart</td>\n",
       "    </tr>\n",
       "    <tr>\n",
       "      <th>1</th>\n",
       "      <td>1000</td>\n",
       "      <td>30720</td>\n",
       "      <td>3000</td>\n",
       "      <td>1950</td>\n",
       "      <td>150</td>\n",
       "      <td>1</td>\n",
       "      <td>1</td>\n",
       "      <td>ultra</td>\n",
       "    </tr>\n",
       "  </tbody>\n",
       "</table>\n",
       "</div>"
      ],
      "text/plain": [
       "   messages_included  mb_per_month_included  minutes_included  \\\n",
       "0                 50                  15360               500   \n",
       "1               1000                  30720              3000   \n",
       "\n",
       "   rub_monthly_fee  rub_per_gb  rub_per_message  rub_per_minute tariff_name  \n",
       "0              550         200                3               3       smart  \n",
       "1             1950         150                1               1       ultra  "
      ]
     },
     "execution_count": 10,
     "metadata": {},
     "output_type": "execute_result"
    }
   ],
   "source": [
    "# чтение файлов с данными \n",
    "tariffs = pd.read_csv('/datasets/tariffs.csv')\n",
    "# вывод первых строк таблицы\n",
    "tariffs.head()"
   ]
  },
  {
   "cell_type": "code",
   "execution_count": 11,
   "metadata": {
    "scrolled": true
   },
   "outputs": [
    {
     "name": "stdout",
     "output_type": "stream",
     "text": [
      "<class 'pandas.core.frame.DataFrame'>\n",
      "RangeIndex: 2 entries, 0 to 1\n",
      "Data columns (total 8 columns):\n",
      " #   Column                 Non-Null Count  Dtype \n",
      "---  ------                 --------------  ----- \n",
      " 0   messages_included      2 non-null      int64 \n",
      " 1   mb_per_month_included  2 non-null      int64 \n",
      " 2   minutes_included       2 non-null      int64 \n",
      " 3   rub_monthly_fee        2 non-null      int64 \n",
      " 4   rub_per_gb             2 non-null      int64 \n",
      " 5   rub_per_message        2 non-null      int64 \n",
      " 6   rub_per_minute         2 non-null      int64 \n",
      " 7   tariff_name            2 non-null      object\n",
      "dtypes: int64(7), object(1)\n",
      "memory usage: 256.0+ bytes\n"
     ]
    }
   ],
   "source": [
    "# получение общей информации о данных \n",
    "tariffs.info()"
   ]
  },
  {
   "cell_type": "markdown",
   "metadata": {},
   "source": [
    "Таблица **tariffs** включает в себя:\n",
    "- tariff_name — название тарифа;\n",
    "- rub_monthly_fee — ежемесячная абонентская плата в рублях;\n",
    "- minutes_included — количество минут разговора в месяц, включённых в абонентскую плату;\n",
    "- messages_included — количество сообщений в месяц, включённых в абонентскую плату;\n",
    "- mb_per_month_included — объём интернет-трафика, включённого в абонентскую плату (в мегабайтах);\n",
    "- rub_per_minute — стоимость минуты разговора сверх тарифного пакета (например, если в тарифе 100 минут разговора в месяц, то со 101 минуты будет взиматься плата);\n",
    "- rub_per_message — стоимость отправки сообщения сверх тарифного пакета;\n",
    "- rub_per_gb — стоимость дополнительного гигабайта интернет-трафика сверх тарифного пакета (1 гигабайт = 1024 мегабайта)."
   ]
  },
  {
   "cell_type": "markdown",
   "metadata": {},
   "source": [
    "**Вывод**\n",
    "\n",
    "Данные представляют собой выборку из 500 пользователей оператора сотовой связи, в которых содержится информация о количестве и длительности их звонков, количестве отправленных сообщений, объеме использованного интернет-трафика, а также общие сведения о тарифах, которые предлагает оператор. Для начала работы с данными необходимо заполнить пропущенные значения, где это необходимо, проверить данные на наличие возможным дубликатов и привести их к нужным типам. \n",
    "\n",
    "Поскольку оператор сотовой связи округляет секунды до минут, а мегабайты - до гигабайт, необходимо эти значения округлить в большую сторону и объем израсходованного интернет-трафика перевести в Гб."
   ]
  },
  {
   "cell_type": "markdown",
   "metadata": {},
   "source": [
    "## Предобработка данных"
   ]
  },
  {
   "cell_type": "markdown",
   "metadata": {},
   "source": [
    "### Предобработка данных в таблице users"
   ]
  },
  {
   "cell_type": "code",
   "execution_count": 12,
   "metadata": {
    "scrolled": true
   },
   "outputs": [
    {
     "data": {
      "text/plain": [
       "user_id         0\n",
       "age             0\n",
       "churn_date    462\n",
       "city            0\n",
       "first_name      0\n",
       "last_name       0\n",
       "reg_date        0\n",
       "tariff          0\n",
       "dtype: int64"
      ]
     },
     "execution_count": 12,
     "metadata": {},
     "output_type": "execute_result"
    }
   ],
   "source": [
    "# подсчет числа пропусков\n",
    "users.isna().sum()"
   ]
  },
  {
   "cell_type": "markdown",
   "metadata": {},
   "source": [
    "Пропущенные значения в столбце 'churn_date' означают, что на момент выгрузки данных тариф еще действовал."
   ]
  },
  {
   "cell_type": "code",
   "execution_count": 13,
   "metadata": {
    "scrolled": true
   },
   "outputs": [
    {
     "data": {
      "text/plain": [
       "0"
      ]
     },
     "execution_count": 13,
     "metadata": {},
     "output_type": "execute_result"
    }
   ],
   "source": [
    "# подсчет числа дубликатов\n",
    "users.duplicated().sum()"
   ]
  },
  {
   "cell_type": "code",
   "execution_count": 14,
   "metadata": {
    "scrolled": true
   },
   "outputs": [],
   "source": [
    "# приведение столбца 'churn_date' к формату даты \n",
    "users['churn_date'] = pd.to_datetime(users['churn_date'], format='%Y-%m-%d')\n",
    "# приведение столбца 'reg_date' к формату даты \n",
    "users['reg_date'] = pd.to_datetime(users['reg_date'], format='%Y-%m-%d')"
   ]
  },
  {
   "cell_type": "code",
   "execution_count": 15,
   "metadata": {
    "scrolled": true
   },
   "outputs": [
    {
     "data": {
      "text/plain": [
       "user_id                int64\n",
       "age                    int64\n",
       "churn_date    datetime64[ns]\n",
       "city                  object\n",
       "first_name            object\n",
       "last_name             object\n",
       "reg_date      datetime64[ns]\n",
       "tariff                object\n",
       "dtype: object"
      ]
     },
     "execution_count": 15,
     "metadata": {},
     "output_type": "execute_result"
    }
   ],
   "source": [
    "# проверка типов данных\n",
    "users.dtypes"
   ]
  },
  {
   "cell_type": "code",
   "execution_count": 16,
   "metadata": {},
   "outputs": [
    {
     "data": {
      "text/html": [
       "<div>\n",
       "<style scoped>\n",
       "    .dataframe tbody tr th:only-of-type {\n",
       "        vertical-align: middle;\n",
       "    }\n",
       "\n",
       "    .dataframe tbody tr th {\n",
       "        vertical-align: top;\n",
       "    }\n",
       "\n",
       "    .dataframe thead th {\n",
       "        text-align: right;\n",
       "    }\n",
       "</style>\n",
       "<table border=\"1\" class=\"dataframe\">\n",
       "  <thead>\n",
       "    <tr style=\"text-align: right;\">\n",
       "      <th></th>\n",
       "      <th>user_id</th>\n",
       "      <th>age</th>\n",
       "      <th>churn_date</th>\n",
       "      <th>city</th>\n",
       "      <th>first_name</th>\n",
       "      <th>last_name</th>\n",
       "      <th>reg_date</th>\n",
       "      <th>tariff</th>\n",
       "    </tr>\n",
       "  </thead>\n",
       "  <tbody>\n",
       "    <tr>\n",
       "      <th>0</th>\n",
       "      <td>1000</td>\n",
       "      <td>52</td>\n",
       "      <td>NaT</td>\n",
       "      <td>Краснодар</td>\n",
       "      <td>Рафаил</td>\n",
       "      <td>Верещагин</td>\n",
       "      <td>2018-05-25</td>\n",
       "      <td>ultra</td>\n",
       "    </tr>\n",
       "    <tr>\n",
       "      <th>1</th>\n",
       "      <td>1001</td>\n",
       "      <td>41</td>\n",
       "      <td>NaT</td>\n",
       "      <td>Москва</td>\n",
       "      <td>Иван</td>\n",
       "      <td>Ежов</td>\n",
       "      <td>2018-11-01</td>\n",
       "      <td>smart</td>\n",
       "    </tr>\n",
       "    <tr>\n",
       "      <th>2</th>\n",
       "      <td>1002</td>\n",
       "      <td>59</td>\n",
       "      <td>NaT</td>\n",
       "      <td>Стерлитамак</td>\n",
       "      <td>Евгений</td>\n",
       "      <td>Абрамович</td>\n",
       "      <td>2018-06-17</td>\n",
       "      <td>smart</td>\n",
       "    </tr>\n",
       "    <tr>\n",
       "      <th>3</th>\n",
       "      <td>1003</td>\n",
       "      <td>23</td>\n",
       "      <td>NaT</td>\n",
       "      <td>Москва</td>\n",
       "      <td>Белла</td>\n",
       "      <td>Белякова</td>\n",
       "      <td>2018-08-17</td>\n",
       "      <td>ultra</td>\n",
       "    </tr>\n",
       "    <tr>\n",
       "      <th>4</th>\n",
       "      <td>1004</td>\n",
       "      <td>68</td>\n",
       "      <td>NaT</td>\n",
       "      <td>Новокузнецк</td>\n",
       "      <td>Татьяна</td>\n",
       "      <td>Авдеенко</td>\n",
       "      <td>2018-05-14</td>\n",
       "      <td>ultra</td>\n",
       "    </tr>\n",
       "  </tbody>\n",
       "</table>\n",
       "</div>"
      ],
      "text/plain": [
       "   user_id  age churn_date         city first_name  last_name   reg_date  \\\n",
       "0     1000   52        NaT    Краснодар     Рафаил  Верещагин 2018-05-25   \n",
       "1     1001   41        NaT       Москва       Иван       Ежов 2018-11-01   \n",
       "2     1002   59        NaT  Стерлитамак    Евгений  Абрамович 2018-06-17   \n",
       "3     1003   23        NaT       Москва      Белла   Белякова 2018-08-17   \n",
       "4     1004   68        NaT  Новокузнецк    Татьяна   Авдеенко 2018-05-14   \n",
       "\n",
       "  tariff  \n",
       "0  ultra  \n",
       "1  smart  \n",
       "2  smart  \n",
       "3  ultra  \n",
       "4  ultra  "
      ]
     },
     "execution_count": 16,
     "metadata": {},
     "output_type": "execute_result"
    }
   ],
   "source": [
    "# вывод первых строк таблицы \n",
    "users.head()"
   ]
  },
  {
   "cell_type": "markdown",
   "metadata": {},
   "source": [
    "### Предобработка данных в таблице calls"
   ]
  },
  {
   "cell_type": "code",
   "execution_count": 17,
   "metadata": {
    "scrolled": true
   },
   "outputs": [
    {
     "data": {
      "text/plain": [
       "id           0\n",
       "call_date    0\n",
       "duration     0\n",
       "user_id      0\n",
       "dtype: int64"
      ]
     },
     "execution_count": 17,
     "metadata": {},
     "output_type": "execute_result"
    }
   ],
   "source": [
    "# подсчет числа пропусков\n",
    "calls.isna().sum()"
   ]
  },
  {
   "cell_type": "code",
   "execution_count": 18,
   "metadata": {},
   "outputs": [
    {
     "data": {
      "text/plain": [
       "0"
      ]
     },
     "execution_count": 18,
     "metadata": {},
     "output_type": "execute_result"
    }
   ],
   "source": [
    "# подсчет числа дубликатов\n",
    "calls.duplicated().sum()"
   ]
  },
  {
   "cell_type": "code",
   "execution_count": 19,
   "metadata": {
    "scrolled": false
   },
   "outputs": [],
   "source": [
    "# приведем значения столбца 'call_date' к формату даты \n",
    "calls['call_date'] = pd.to_datetime(calls['call_date'], format='%Y-%m-%d')\n",
    "# округлим значения в столбце 'duration' и приведем к целочисленному типу данных\n",
    "calls['duration'] = np.ceil(calls['duration']).astype('int')\n",
    "# создадим столбец с номером месяца\n",
    "calls['month'] = calls['call_date'].dt.month"
   ]
  },
  {
   "cell_type": "code",
   "execution_count": 20,
   "metadata": {
    "scrolled": true
   },
   "outputs": [
    {
     "data": {
      "image/png": "[encoded data removed]",
      "text/plain": [
       "<Figure size 432x288 with 1 Axes>"
      ]
     },
     "metadata": {
      "needs_background": "light"
     },
     "output_type": "display_data"
    }
   ],
   "source": [
    "# гистограмма длительности звонков\n",
    "calls_null = calls.loc[calls['duration'] == 0]['month']\n",
    "calls_all = calls.loc[calls['duration'] != 0]['month']\n",
    "ax=calls_null.plot(kind='hist', y='duration', label='calls_null', bins=20, alpha=0.5)\n",
    "calls_all.plot(kind='hist', y='duration', label='calls_all', bins=20, alpha=0.5, ax=ax, grid=True, legend=True)\n",
    "plt.show()"
   ]
  },
  {
   "cell_type": "markdown",
   "metadata": {},
   "source": [
    "Пропущенные звонки появляются систематически каждый месяц и их количество растет с увеличением числа звонков."
   ]
  },
  {
   "cell_type": "code",
   "execution_count": 21,
   "metadata": {
    "scrolled": true
   },
   "outputs": [
    {
     "data": {
      "text/plain": [
       "id                   object\n",
       "call_date    datetime64[ns]\n",
       "duration              int64\n",
       "user_id               int64\n",
       "month                 int64\n",
       "dtype: object"
      ]
     },
     "execution_count": 21,
     "metadata": {},
     "output_type": "execute_result"
    }
   ],
   "source": [
    "# проверка типов данных\n",
    "calls.dtypes"
   ]
  },
  {
   "cell_type": "code",
   "execution_count": 22,
   "metadata": {},
   "outputs": [
    {
     "data": {
      "text/html": [
       "<div>\n",
       "<style scoped>\n",
       "    .dataframe tbody tr th:only-of-type {\n",
       "        vertical-align: middle;\n",
       "    }\n",
       "\n",
       "    .dataframe tbody tr th {\n",
       "        vertical-align: top;\n",
       "    }\n",
       "\n",
       "    .dataframe thead th {\n",
       "        text-align: right;\n",
       "    }\n",
       "</style>\n",
       "<table border=\"1\" class=\"dataframe\">\n",
       "  <thead>\n",
       "    <tr style=\"text-align: right;\">\n",
       "      <th></th>\n",
       "      <th>id</th>\n",
       "      <th>call_date</th>\n",
       "      <th>duration</th>\n",
       "      <th>user_id</th>\n",
       "      <th>month</th>\n",
       "    </tr>\n",
       "  </thead>\n",
       "  <tbody>\n",
       "    <tr>\n",
       "      <th>0</th>\n",
       "      <td>1000_0</td>\n",
       "      <td>2018-07-25</td>\n",
       "      <td>0</td>\n",
       "      <td>1000</td>\n",
       "      <td>7</td>\n",
       "    </tr>\n",
       "    <tr>\n",
       "      <th>1</th>\n",
       "      <td>1000_1</td>\n",
       "      <td>2018-08-17</td>\n",
       "      <td>0</td>\n",
       "      <td>1000</td>\n",
       "      <td>8</td>\n",
       "    </tr>\n",
       "    <tr>\n",
       "      <th>2</th>\n",
       "      <td>1000_2</td>\n",
       "      <td>2018-06-11</td>\n",
       "      <td>3</td>\n",
       "      <td>1000</td>\n",
       "      <td>6</td>\n",
       "    </tr>\n",
       "    <tr>\n",
       "      <th>3</th>\n",
       "      <td>1000_3</td>\n",
       "      <td>2018-09-21</td>\n",
       "      <td>14</td>\n",
       "      <td>1000</td>\n",
       "      <td>9</td>\n",
       "    </tr>\n",
       "    <tr>\n",
       "      <th>4</th>\n",
       "      <td>1000_4</td>\n",
       "      <td>2018-12-15</td>\n",
       "      <td>6</td>\n",
       "      <td>1000</td>\n",
       "      <td>12</td>\n",
       "    </tr>\n",
       "  </tbody>\n",
       "</table>\n",
       "</div>"
      ],
      "text/plain": [
       "       id  call_date  duration  user_id  month\n",
       "0  1000_0 2018-07-25         0     1000      7\n",
       "1  1000_1 2018-08-17         0     1000      8\n",
       "2  1000_2 2018-06-11         3     1000      6\n",
       "3  1000_3 2018-09-21        14     1000      9\n",
       "4  1000_4 2018-12-15         6     1000     12"
      ]
     },
     "execution_count": 22,
     "metadata": {},
     "output_type": "execute_result"
    }
   ],
   "source": [
    "# вывол первых строк таблицы \n",
    "calls.head()"
   ]
  },
  {
   "cell_type": "markdown",
   "metadata": {},
   "source": [
    "### Предобработка данных в таблице internet"
   ]
  },
  {
   "cell_type": "code",
   "execution_count": 23,
   "metadata": {},
   "outputs": [
    {
     "data": {
      "text/plain": [
       "Unnamed: 0      0\n",
       "id              0\n",
       "mb_used         0\n",
       "session_date    0\n",
       "user_id         0\n",
       "dtype: int64"
      ]
     },
     "execution_count": 23,
     "metadata": {},
     "output_type": "execute_result"
    }
   ],
   "source": [
    "# подсчет числа пропусков\n",
    "internet.isna().sum()"
   ]
  },
  {
   "cell_type": "code",
   "execution_count": 24,
   "metadata": {
    "scrolled": true
   },
   "outputs": [
    {
     "data": {
      "text/plain": [
       "0"
      ]
     },
     "execution_count": 24,
     "metadata": {},
     "output_type": "execute_result"
    }
   ],
   "source": [
    "# подсчет числа дубликатов\n",
    "internet.duplicated().sum()"
   ]
  },
  {
   "cell_type": "code",
   "execution_count": 25,
   "metadata": {},
   "outputs": [],
   "source": [
    "# приведем значения столбца 'session_date' к формату даты\n",
    "internet['session_date'] = pd.to_datetime(internet['session_date'], format='%Y-%m-%d')\n",
    "# создадим столбец с номером месяца\n",
    "internet['month'] = internet['session_date'].dt.month"
   ]
  },
  {
   "cell_type": "code",
   "execution_count": 26,
   "metadata": {
    "scrolled": false
   },
   "outputs": [
    {
     "data": {
      "text/plain": [
       "Unnamed: 0               int64\n",
       "id                      object\n",
       "mb_used                float64\n",
       "session_date    datetime64[ns]\n",
       "user_id                  int64\n",
       "month                    int64\n",
       "dtype: object"
      ]
     },
     "execution_count": 26,
     "metadata": {},
     "output_type": "execute_result"
    }
   ],
   "source": [
    "# проверка типов данных\n",
    "internet.dtypes"
   ]
  },
  {
   "cell_type": "code",
   "execution_count": 27,
   "metadata": {},
   "outputs": [
    {
     "data": {
      "text/html": [
       "<div>\n",
       "<style scoped>\n",
       "    .dataframe tbody tr th:only-of-type {\n",
       "        vertical-align: middle;\n",
       "    }\n",
       "\n",
       "    .dataframe tbody tr th {\n",
       "        vertical-align: top;\n",
       "    }\n",
       "\n",
       "    .dataframe thead th {\n",
       "        text-align: right;\n",
       "    }\n",
       "</style>\n",
       "<table border=\"1\" class=\"dataframe\">\n",
       "  <thead>\n",
       "    <tr style=\"text-align: right;\">\n",
       "      <th></th>\n",
       "      <th>Unnamed: 0</th>\n",
       "      <th>id</th>\n",
       "      <th>mb_used</th>\n",
       "      <th>session_date</th>\n",
       "      <th>user_id</th>\n",
       "      <th>month</th>\n",
       "    </tr>\n",
       "  </thead>\n",
       "  <tbody>\n",
       "    <tr>\n",
       "      <th>0</th>\n",
       "      <td>0</td>\n",
       "      <td>1000_0</td>\n",
       "      <td>112.95</td>\n",
       "      <td>2018-11-25</td>\n",
       "      <td>1000</td>\n",
       "      <td>11</td>\n",
       "    </tr>\n",
       "    <tr>\n",
       "      <th>1</th>\n",
       "      <td>1</td>\n",
       "      <td>1000_1</td>\n",
       "      <td>1052.81</td>\n",
       "      <td>2018-09-07</td>\n",
       "      <td>1000</td>\n",
       "      <td>9</td>\n",
       "    </tr>\n",
       "    <tr>\n",
       "      <th>2</th>\n",
       "      <td>2</td>\n",
       "      <td>1000_2</td>\n",
       "      <td>1197.26</td>\n",
       "      <td>2018-06-25</td>\n",
       "      <td>1000</td>\n",
       "      <td>6</td>\n",
       "    </tr>\n",
       "    <tr>\n",
       "      <th>3</th>\n",
       "      <td>3</td>\n",
       "      <td>1000_3</td>\n",
       "      <td>550.27</td>\n",
       "      <td>2018-08-22</td>\n",
       "      <td>1000</td>\n",
       "      <td>8</td>\n",
       "    </tr>\n",
       "    <tr>\n",
       "      <th>4</th>\n",
       "      <td>4</td>\n",
       "      <td>1000_4</td>\n",
       "      <td>302.56</td>\n",
       "      <td>2018-09-24</td>\n",
       "      <td>1000</td>\n",
       "      <td>9</td>\n",
       "    </tr>\n",
       "  </tbody>\n",
       "</table>\n",
       "</div>"
      ],
      "text/plain": [
       "   Unnamed: 0      id  mb_used session_date  user_id  month\n",
       "0           0  1000_0   112.95   2018-11-25     1000     11\n",
       "1           1  1000_1  1052.81   2018-09-07     1000      9\n",
       "2           2  1000_2  1197.26   2018-06-25     1000      6\n",
       "3           3  1000_3   550.27   2018-08-22     1000      8\n",
       "4           4  1000_4   302.56   2018-09-24     1000      9"
      ]
     },
     "execution_count": 27,
     "metadata": {},
     "output_type": "execute_result"
    }
   ],
   "source": [
    "# вывод первых строк таблицы\n",
    "internet.head()"
   ]
  },
  {
   "cell_type": "markdown",
   "metadata": {},
   "source": [
    "### Предобработка данных в таблице messages"
   ]
  },
  {
   "cell_type": "code",
   "execution_count": 28,
   "metadata": {
    "scrolled": true
   },
   "outputs": [
    {
     "data": {
      "text/plain": [
       "id              0\n",
       "message_date    0\n",
       "user_id         0\n",
       "dtype: int64"
      ]
     },
     "execution_count": 28,
     "metadata": {},
     "output_type": "execute_result"
    }
   ],
   "source": [
    "# подсчет числа пропусков\n",
    "messages.isna().sum()"
   ]
  },
  {
   "cell_type": "code",
   "execution_count": 29,
   "metadata": {},
   "outputs": [
    {
     "data": {
      "text/plain": [
       "0"
      ]
     },
     "execution_count": 29,
     "metadata": {},
     "output_type": "execute_result"
    }
   ],
   "source": [
    "# подсчет числа дубликатов\n",
    "messages.duplicated().sum()"
   ]
  },
  {
   "cell_type": "code",
   "execution_count": 30,
   "metadata": {
    "scrolled": false
   },
   "outputs": [],
   "source": [
    "# приведем значения столбца 'session_date' к формату даты\n",
    "messages['message_date'] = pd.to_datetime(messages['message_date'], format='%Y-%m-%d')\n",
    "# создадим столбец с номером месяца\n",
    "messages['month'] = messages['message_date'].dt.month"
   ]
  },
  {
   "cell_type": "code",
   "execution_count": 31,
   "metadata": {
    "scrolled": true
   },
   "outputs": [
    {
     "data": {
      "text/plain": [
       "id                      object\n",
       "message_date    datetime64[ns]\n",
       "user_id                  int64\n",
       "month                    int64\n",
       "dtype: object"
      ]
     },
     "execution_count": 31,
     "metadata": {},
     "output_type": "execute_result"
    }
   ],
   "source": [
    "# проверка типов данных\n",
    "messages.dtypes"
   ]
  },
  {
   "cell_type": "code",
   "execution_count": 32,
   "metadata": {},
   "outputs": [
    {
     "data": {
      "text/html": [
       "<div>\n",
       "<style scoped>\n",
       "    .dataframe tbody tr th:only-of-type {\n",
       "        vertical-align: middle;\n",
       "    }\n",
       "\n",
       "    .dataframe tbody tr th {\n",
       "        vertical-align: top;\n",
       "    }\n",
       "\n",
       "    .dataframe thead th {\n",
       "        text-align: right;\n",
       "    }\n",
       "</style>\n",
       "<table border=\"1\" class=\"dataframe\">\n",
       "  <thead>\n",
       "    <tr style=\"text-align: right;\">\n",
       "      <th></th>\n",
       "      <th>id</th>\n",
       "      <th>message_date</th>\n",
       "      <th>user_id</th>\n",
       "      <th>month</th>\n",
       "    </tr>\n",
       "  </thead>\n",
       "  <tbody>\n",
       "    <tr>\n",
       "      <th>0</th>\n",
       "      <td>1000_0</td>\n",
       "      <td>2018-06-27</td>\n",
       "      <td>1000</td>\n",
       "      <td>6</td>\n",
       "    </tr>\n",
       "    <tr>\n",
       "      <th>1</th>\n",
       "      <td>1000_1</td>\n",
       "      <td>2018-10-08</td>\n",
       "      <td>1000</td>\n",
       "      <td>10</td>\n",
       "    </tr>\n",
       "    <tr>\n",
       "      <th>2</th>\n",
       "      <td>1000_2</td>\n",
       "      <td>2018-08-04</td>\n",
       "      <td>1000</td>\n",
       "      <td>8</td>\n",
       "    </tr>\n",
       "    <tr>\n",
       "      <th>3</th>\n",
       "      <td>1000_3</td>\n",
       "      <td>2018-06-16</td>\n",
       "      <td>1000</td>\n",
       "      <td>6</td>\n",
       "    </tr>\n",
       "    <tr>\n",
       "      <th>4</th>\n",
       "      <td>1000_4</td>\n",
       "      <td>2018-12-05</td>\n",
       "      <td>1000</td>\n",
       "      <td>12</td>\n",
       "    </tr>\n",
       "  </tbody>\n",
       "</table>\n",
       "</div>"
      ],
      "text/plain": [
       "       id message_date  user_id  month\n",
       "0  1000_0   2018-06-27     1000      6\n",
       "1  1000_1   2018-10-08     1000     10\n",
       "2  1000_2   2018-08-04     1000      8\n",
       "3  1000_3   2018-06-16     1000      6\n",
       "4  1000_4   2018-12-05     1000     12"
      ]
     },
     "execution_count": 32,
     "metadata": {},
     "output_type": "execute_result"
    }
   ],
   "source": [
    "# вывод первых строк таблицы\n",
    "messages.head()"
   ]
  },
  {
   "cell_type": "markdown",
   "metadata": {},
   "source": [
    "### Предобработка данных в таблице tariffs"
   ]
  },
  {
   "cell_type": "code",
   "execution_count": 33,
   "metadata": {
    "scrolled": true
   },
   "outputs": [
    {
     "data": {
      "text/html": [
       "<div>\n",
       "<style scoped>\n",
       "    .dataframe tbody tr th:only-of-type {\n",
       "        vertical-align: middle;\n",
       "    }\n",
       "\n",
       "    .dataframe tbody tr th {\n",
       "        vertical-align: top;\n",
       "    }\n",
       "\n",
       "    .dataframe thead th {\n",
       "        text-align: right;\n",
       "    }\n",
       "</style>\n",
       "<table border=\"1\" class=\"dataframe\">\n",
       "  <thead>\n",
       "    <tr style=\"text-align: right;\">\n",
       "      <th></th>\n",
       "      <th>messages_included</th>\n",
       "      <th>gb_per_month_included</th>\n",
       "      <th>minutes_included</th>\n",
       "      <th>rub_monthly_fee</th>\n",
       "      <th>rub_per_gb</th>\n",
       "      <th>rub_per_message</th>\n",
       "      <th>rub_per_minute</th>\n",
       "      <th>tariff_name</th>\n",
       "    </tr>\n",
       "  </thead>\n",
       "  <tbody>\n",
       "    <tr>\n",
       "      <th>0</th>\n",
       "      <td>50</td>\n",
       "      <td>15</td>\n",
       "      <td>500</td>\n",
       "      <td>550</td>\n",
       "      <td>200</td>\n",
       "      <td>3</td>\n",
       "      <td>3</td>\n",
       "      <td>smart</td>\n",
       "    </tr>\n",
       "    <tr>\n",
       "      <th>1</th>\n",
       "      <td>1000</td>\n",
       "      <td>30</td>\n",
       "      <td>3000</td>\n",
       "      <td>1950</td>\n",
       "      <td>150</td>\n",
       "      <td>1</td>\n",
       "      <td>1</td>\n",
       "      <td>ultra</td>\n",
       "    </tr>\n",
       "  </tbody>\n",
       "</table>\n",
       "</div>"
      ],
      "text/plain": [
       "   messages_included  gb_per_month_included  minutes_included  \\\n",
       "0                 50                     15               500   \n",
       "1               1000                     30              3000   \n",
       "\n",
       "   rub_monthly_fee  rub_per_gb  rub_per_message  rub_per_minute tariff_name  \n",
       "0              550         200                3               3       smart  \n",
       "1             1950         150                1               1       ultra  "
      ]
     },
     "execution_count": 33,
     "metadata": {},
     "output_type": "execute_result"
    }
   ],
   "source": [
    "# переведем значения столбца 'mb_per_month_included' в Гб и переименуем его\n",
    "tariffs['mb_per_month_included'] = np.ceil(tariffs['mb_per_month_included']/1024).astype('int')\n",
    "tariffs = tariffs.rename(columns={'mb_per_month_included':'gb_per_month_included'})\n",
    "tariffs"
   ]
  },
  {
   "cell_type": "markdown",
   "metadata": {},
   "source": [
    "**Вывод**\n",
    "\n",
    "Данные прошли необходимую предобработку, которая включала в себя: проверку на наличие пропусков и дубликатов, приведение данных к нужным типам, округление количества потраченных минут разговора в большую сторону, объем интернет-трафика был переведен в Гб. Также мы выясниои, что звонки с нулевой продолжительностью не являются ошибкой, они появляются систематически каждый месяц."
   ]
  },
  {
   "cell_type": "markdown",
   "metadata": {},
   "source": [
    "## Исследовательский анализ данных"
   ]
  },
  {
   "cell_type": "markdown",
   "metadata": {},
   "source": [
    "### Подсчет количества сделанных звонков и израсходованных минут разговора"
   ]
  },
  {
   "cell_type": "code",
   "execution_count": 34,
   "metadata": {
    "scrolled": false
   },
   "outputs": [
    {
     "data": {
      "text/html": [
       "<div>\n",
       "<style scoped>\n",
       "    .dataframe tbody tr th:only-of-type {\n",
       "        vertical-align: middle;\n",
       "    }\n",
       "\n",
       "    .dataframe tbody tr th {\n",
       "        vertical-align: top;\n",
       "    }\n",
       "\n",
       "    .dataframe thead th {\n",
       "        text-align: right;\n",
       "    }\n",
       "</style>\n",
       "<table border=\"1\" class=\"dataframe\">\n",
       "  <thead>\n",
       "    <tr style=\"text-align: right;\">\n",
       "      <th></th>\n",
       "      <th>user_id</th>\n",
       "      <th>month</th>\n",
       "      <th>calls_sum</th>\n",
       "      <th>call_count</th>\n",
       "    </tr>\n",
       "  </thead>\n",
       "  <tbody>\n",
       "    <tr>\n",
       "      <th>0</th>\n",
       "      <td>1000</td>\n",
       "      <td>5</td>\n",
       "      <td>159</td>\n",
       "      <td>22</td>\n",
       "    </tr>\n",
       "    <tr>\n",
       "      <th>1</th>\n",
       "      <td>1000</td>\n",
       "      <td>6</td>\n",
       "      <td>172</td>\n",
       "      <td>43</td>\n",
       "    </tr>\n",
       "    <tr>\n",
       "      <th>2</th>\n",
       "      <td>1000</td>\n",
       "      <td>7</td>\n",
       "      <td>340</td>\n",
       "      <td>47</td>\n",
       "    </tr>\n",
       "    <tr>\n",
       "      <th>3</th>\n",
       "      <td>1000</td>\n",
       "      <td>8</td>\n",
       "      <td>408</td>\n",
       "      <td>52</td>\n",
       "    </tr>\n",
       "    <tr>\n",
       "      <th>4</th>\n",
       "      <td>1000</td>\n",
       "      <td>9</td>\n",
       "      <td>466</td>\n",
       "      <td>58</td>\n",
       "    </tr>\n",
       "    <tr>\n",
       "      <th>5</th>\n",
       "      <td>1000</td>\n",
       "      <td>10</td>\n",
       "      <td>350</td>\n",
       "      <td>57</td>\n",
       "    </tr>\n",
       "    <tr>\n",
       "      <th>6</th>\n",
       "      <td>1000</td>\n",
       "      <td>11</td>\n",
       "      <td>338</td>\n",
       "      <td>43</td>\n",
       "    </tr>\n",
       "    <tr>\n",
       "      <th>7</th>\n",
       "      <td>1000</td>\n",
       "      <td>12</td>\n",
       "      <td>333</td>\n",
       "      <td>46</td>\n",
       "    </tr>\n",
       "    <tr>\n",
       "      <th>8</th>\n",
       "      <td>1001</td>\n",
       "      <td>11</td>\n",
       "      <td>430</td>\n",
       "      <td>59</td>\n",
       "    </tr>\n",
       "    <tr>\n",
       "      <th>9</th>\n",
       "      <td>1001</td>\n",
       "      <td>12</td>\n",
       "      <td>414</td>\n",
       "      <td>63</td>\n",
       "    </tr>\n",
       "  </tbody>\n",
       "</table>\n",
       "</div>"
      ],
      "text/plain": [
       "   user_id  month  calls_sum  call_count\n",
       "0     1000      5        159          22\n",
       "1     1000      6        172          43\n",
       "2     1000      7        340          47\n",
       "3     1000      8        408          52\n",
       "4     1000      9        466          58\n",
       "5     1000     10        350          57\n",
       "6     1000     11        338          43\n",
       "7     1000     12        333          46\n",
       "8     1001     11        430          59\n",
       "9     1001     12        414          63"
      ]
     },
     "execution_count": 34,
     "metadata": {},
     "output_type": "execute_result"
    }
   ],
   "source": [
    "# сводная таблица по количеству израсходованных минут разговора по месяцам\n",
    "calls_data = calls.groupby(['user_id', 'month']).agg({'duration':['sum', 'count']}).reset_index()\n",
    "calls_data.columns = ['user_id', 'month', 'calls_sum', 'call_count']\n",
    "calls_data.head(10)"
   ]
  },
  {
   "cell_type": "code",
   "execution_count": 35,
   "metadata": {
    "scrolled": true
   },
   "outputs": [
    {
     "data": {
      "image/png": "[encoded data removed]",
      "text/plain": [
       "<Figure size 504x360 with 1 Axes>"
      ]
     },
     "metadata": {
      "needs_background": "light"
     },
     "output_type": "display_data"
    }
   ],
   "source": [
    "# график распределения количества израсходованных минут разговора по месяцам\n",
    "plt.figure(figsize=(7,5))\n",
    "sns.barplot(data=calls_data, x=\"month\", y=\"calls_sum\")\n",
    "plt.xlabel(\"Месяц\")\n",
    "plt.ylabel(\"Количество минут\")\n",
    "plt.title(\"Количество израсходованных минут разговора по месяцам\")\n",
    "plt.show()"
   ]
  },
  {
   "cell_type": "code",
   "execution_count": 36,
   "metadata": {},
   "outputs": [
    {
     "data": {
      "image/png": "[encoded data removed]",
      "text/plain": [
       "<Figure size 504x360 with 1 Axes>"
      ]
     },
     "metadata": {
      "needs_background": "light"
     },
     "output_type": "display_data"
    }
   ],
   "source": [
    "# график распределения количества сделанных звонков по месяцам\n",
    "plt.figure(figsize=(7,5))\n",
    "sns.barplot(data=calls_data, x=\"month\", y=\"call_count\")\n",
    "plt.xlabel(\"Месяц\")\n",
    "plt.ylabel(\"Количество звонков\")\n",
    "plt.title(\"Количество сделанных звонков по месяцам\")\n",
    "plt.show()"
   ]
  },
  {
   "cell_type": "markdown",
   "metadata": {},
   "source": [
    "### Подсчет количества отправленных сообщений"
   ]
  },
  {
   "cell_type": "code",
   "execution_count": 37,
   "metadata": {
    "scrolled": true
   },
   "outputs": [
    {
     "data": {
      "text/html": [
       "<div>\n",
       "<style scoped>\n",
       "    .dataframe tbody tr th:only-of-type {\n",
       "        vertical-align: middle;\n",
       "    }\n",
       "\n",
       "    .dataframe tbody tr th {\n",
       "        vertical-align: top;\n",
       "    }\n",
       "\n",
       "    .dataframe thead th {\n",
       "        text-align: right;\n",
       "    }\n",
       "</style>\n",
       "<table border=\"1\" class=\"dataframe\">\n",
       "  <thead>\n",
       "    <tr style=\"text-align: right;\">\n",
       "      <th></th>\n",
       "      <th>user_id</th>\n",
       "      <th>month</th>\n",
       "      <th>message_count</th>\n",
       "    </tr>\n",
       "  </thead>\n",
       "  <tbody>\n",
       "    <tr>\n",
       "      <th>0</th>\n",
       "      <td>1000</td>\n",
       "      <td>5</td>\n",
       "      <td>22</td>\n",
       "    </tr>\n",
       "    <tr>\n",
       "      <th>1</th>\n",
       "      <td>1000</td>\n",
       "      <td>6</td>\n",
       "      <td>60</td>\n",
       "    </tr>\n",
       "    <tr>\n",
       "      <th>2</th>\n",
       "      <td>1000</td>\n",
       "      <td>7</td>\n",
       "      <td>75</td>\n",
       "    </tr>\n",
       "    <tr>\n",
       "      <th>3</th>\n",
       "      <td>1000</td>\n",
       "      <td>8</td>\n",
       "      <td>81</td>\n",
       "    </tr>\n",
       "    <tr>\n",
       "      <th>4</th>\n",
       "      <td>1000</td>\n",
       "      <td>9</td>\n",
       "      <td>57</td>\n",
       "    </tr>\n",
       "    <tr>\n",
       "      <th>5</th>\n",
       "      <td>1000</td>\n",
       "      <td>10</td>\n",
       "      <td>73</td>\n",
       "    </tr>\n",
       "    <tr>\n",
       "      <th>6</th>\n",
       "      <td>1000</td>\n",
       "      <td>11</td>\n",
       "      <td>58</td>\n",
       "    </tr>\n",
       "    <tr>\n",
       "      <th>7</th>\n",
       "      <td>1000</td>\n",
       "      <td>12</td>\n",
       "      <td>70</td>\n",
       "    </tr>\n",
       "    <tr>\n",
       "      <th>8</th>\n",
       "      <td>1002</td>\n",
       "      <td>6</td>\n",
       "      <td>4</td>\n",
       "    </tr>\n",
       "    <tr>\n",
       "      <th>9</th>\n",
       "      <td>1002</td>\n",
       "      <td>7</td>\n",
       "      <td>11</td>\n",
       "    </tr>\n",
       "  </tbody>\n",
       "</table>\n",
       "</div>"
      ],
      "text/plain": [
       "   user_id  month  message_count\n",
       "0     1000      5             22\n",
       "1     1000      6             60\n",
       "2     1000      7             75\n",
       "3     1000      8             81\n",
       "4     1000      9             57\n",
       "5     1000     10             73\n",
       "6     1000     11             58\n",
       "7     1000     12             70\n",
       "8     1002      6              4\n",
       "9     1002      7             11"
      ]
     },
     "execution_count": 37,
     "metadata": {},
     "output_type": "execute_result"
    }
   ],
   "source": [
    "# сводная таблица по количеству отправленных сообщений по месяцам\n",
    "messages_data = messages.pivot_table(index=['user_id', 'month'], values='message_date', aggfunc='count').reset_index()\n",
    "messages_data = messages_data.rename(columns={'message_date':'message_count'})\n",
    "messages_data.head(10)"
   ]
  },
  {
   "cell_type": "code",
   "execution_count": 38,
   "metadata": {},
   "outputs": [
    {
     "data": {
      "image/png": "[encoded data removed]",
      "text/plain": [
       "<Figure size 504x360 with 1 Axes>"
      ]
     },
     "metadata": {
      "needs_background": "light"
     },
     "output_type": "display_data"
    }
   ],
   "source": [
    "# график распределения количества отправленных сообщений по месяцам\n",
    "plt.figure(figsize=(7,5))\n",
    "sns.barplot(data=messages_data, x=\"month\", y=\"message_count\")\n",
    "plt.xlabel(\"Месяц\")\n",
    "plt.ylabel(\"Количество сообщений\")\n",
    "plt.title(\"Количество отправленных сообщений по месяцам\")\n",
    "plt.show()"
   ]
  },
  {
   "cell_type": "markdown",
   "metadata": {},
   "source": [
    "### Подсчет объема израсходованного интернет-трафика"
   ]
  },
  {
   "cell_type": "code",
   "execution_count": 39,
   "metadata": {
    "scrolled": true
   },
   "outputs": [
    {
     "data": {
      "text/html": [
       "<div>\n",
       "<style scoped>\n",
       "    .dataframe tbody tr th:only-of-type {\n",
       "        vertical-align: middle;\n",
       "    }\n",
       "\n",
       "    .dataframe tbody tr th {\n",
       "        vertical-align: top;\n",
       "    }\n",
       "\n",
       "    .dataframe thead th {\n",
       "        text-align: right;\n",
       "    }\n",
       "</style>\n",
       "<table border=\"1\" class=\"dataframe\">\n",
       "  <thead>\n",
       "    <tr style=\"text-align: right;\">\n",
       "      <th></th>\n",
       "      <th>user_id</th>\n",
       "      <th>month</th>\n",
       "      <th>mb_used</th>\n",
       "    </tr>\n",
       "  </thead>\n",
       "  <tbody>\n",
       "    <tr>\n",
       "      <th>0</th>\n",
       "      <td>1000</td>\n",
       "      <td>5</td>\n",
       "      <td>2253.49</td>\n",
       "    </tr>\n",
       "    <tr>\n",
       "      <th>1</th>\n",
       "      <td>1000</td>\n",
       "      <td>6</td>\n",
       "      <td>23233.77</td>\n",
       "    </tr>\n",
       "    <tr>\n",
       "      <th>2</th>\n",
       "      <td>1000</td>\n",
       "      <td>7</td>\n",
       "      <td>14003.64</td>\n",
       "    </tr>\n",
       "    <tr>\n",
       "      <th>3</th>\n",
       "      <td>1000</td>\n",
       "      <td>8</td>\n",
       "      <td>14055.93</td>\n",
       "    </tr>\n",
       "    <tr>\n",
       "      <th>4</th>\n",
       "      <td>1000</td>\n",
       "      <td>9</td>\n",
       "      <td>14568.91</td>\n",
       "    </tr>\n",
       "    <tr>\n",
       "      <th>5</th>\n",
       "      <td>1000</td>\n",
       "      <td>10</td>\n",
       "      <td>14702.49</td>\n",
       "    </tr>\n",
       "    <tr>\n",
       "      <th>6</th>\n",
       "      <td>1000</td>\n",
       "      <td>11</td>\n",
       "      <td>14756.47</td>\n",
       "    </tr>\n",
       "    <tr>\n",
       "      <th>7</th>\n",
       "      <td>1000</td>\n",
       "      <td>12</td>\n",
       "      <td>9817.61</td>\n",
       "    </tr>\n",
       "    <tr>\n",
       "      <th>8</th>\n",
       "      <td>1001</td>\n",
       "      <td>11</td>\n",
       "      <td>18429.34</td>\n",
       "    </tr>\n",
       "    <tr>\n",
       "      <th>9</th>\n",
       "      <td>1001</td>\n",
       "      <td>12</td>\n",
       "      <td>14036.66</td>\n",
       "    </tr>\n",
       "  </tbody>\n",
       "</table>\n",
       "</div>"
      ],
      "text/plain": [
       "   user_id  month   mb_used\n",
       "0     1000      5   2253.49\n",
       "1     1000      6  23233.77\n",
       "2     1000      7  14003.64\n",
       "3     1000      8  14055.93\n",
       "4     1000      9  14568.91\n",
       "5     1000     10  14702.49\n",
       "6     1000     11  14756.47\n",
       "7     1000     12   9817.61\n",
       "8     1001     11  18429.34\n",
       "9     1001     12  14036.66"
      ]
     },
     "execution_count": 39,
     "metadata": {},
     "output_type": "execute_result"
    }
   ],
   "source": [
    "# сводная таблица по объему израсходованного интернет-трафика по месяцам\n",
    "internet_data = internet.pivot_table(index=['user_id', 'month'], values='mb_used', aggfunc='sum').reset_index()\n",
    "internet_data.head(10)"
   ]
  },
  {
   "cell_type": "code",
   "execution_count": 40,
   "metadata": {
    "scrolled": true
   },
   "outputs": [
    {
     "data": {
      "image/png": "[encoded data removed]",
      "text/plain": [
       "<Figure size 504x360 with 1 Axes>"
      ]
     },
     "metadata": {
      "needs_background": "light"
     },
     "output_type": "display_data"
    }
   ],
   "source": [
    "# график распределения объема израсходованного интернет-трафика по месяцам\n",
    "plt.figure(figsize=(7,5))\n",
    "sns.barplot(data=internet_data, x=\"month\", y=\"mb_used\")\n",
    "plt.xlabel(\"Месяц\")\n",
    "plt.ylabel(\"Объем интернет-трафика\")\n",
    "plt.title(\"Объема израсходованного интернет-трафика по месяцам\")\n",
    "plt.show()"
   ]
  },
  {
   "cell_type": "markdown",
   "metadata": {},
   "source": [
    "**Составление итоговой сводной таблицы**"
   ]
  },
  {
   "cell_type": "code",
   "execution_count": 41,
   "metadata": {
    "scrolled": false
   },
   "outputs": [],
   "source": [
    "# итоговая сводная таблица по количеству израсходованным минут, отправленных сообщений и объему интернет-трафика\n",
    "data = calls_data.merge(messages_data, on=['user_id', 'month'], how='outer')\n",
    "data = data.merge(internet_data, on=['user_id', 'month'], how='outer')\n",
    "data = data.merge(users[['user_id', 'tariff', 'city']], on='user_id', how='left')\n",
    "# переведем данные столбца 'mb_used' в Гб и переименуем его\n",
    "data['mb_used'] = np.ceil(data['mb_used']/1024)\n",
    "data = data.rename(columns={'mb_used':'gb_used'})"
   ]
  },
  {
   "cell_type": "code",
   "execution_count": 42,
   "metadata": {},
   "outputs": [
    {
     "data": {
      "text/plain": [
       "0"
      ]
     },
     "execution_count": 42,
     "metadata": {},
     "output_type": "execute_result"
    }
   ],
   "source": [
    "# подсчет количества дубликатов\n",
    "data.duplicated().sum()"
   ]
  },
  {
   "cell_type": "code",
   "execution_count": 43,
   "metadata": {
    "scrolled": false
   },
   "outputs": [
    {
     "data": {
      "text/plain": [
       "user_id            0\n",
       "month              0\n",
       "calls_sum         40\n",
       "call_count        40\n",
       "message_count    497\n",
       "gb_used           11\n",
       "tariff             0\n",
       "city               0\n",
       "dtype: int64"
      ]
     },
     "execution_count": 43,
     "metadata": {},
     "output_type": "execute_result"
    }
   ],
   "source": [
    "# подсчет количества пропусков\n",
    "data.isna().sum()"
   ]
  },
  {
   "cell_type": "code",
   "execution_count": 44,
   "metadata": {
    "scrolled": true
   },
   "outputs": [
    {
     "data": {
      "text/plain": [
       "user_id          0.000000\n",
       "month            0.000000\n",
       "calls_sum        0.012446\n",
       "call_count       0.012446\n",
       "message_count    0.154636\n",
       "gb_used          0.003423\n",
       "tariff           0.000000\n",
       "city             0.000000\n",
       "dtype: float64"
      ]
     },
     "execution_count": 44,
     "metadata": {},
     "output_type": "execute_result"
    }
   ],
   "source": [
    "# подсчет доли пропущенных значений\n",
    "data.isna().mean()"
   ]
  },
  {
   "cell_type": "markdown",
   "metadata": {},
   "source": [
    "В итоговой сводной таблице найдены пропущенные значения в столбцах с количеством израсходованных минут разговора, количеством отправленных сообщений и объемом использованного интернет-трафика. Можно  предположить, что пропущенные значения в столбцах 'message_count' и 'gb_used' говорят о том, что абоненты не пользовались смс (использовали мессенджеры, например) и интернетом, поэтому заменим их на 0. Пропуски в столбцах 'calls_sum' и 'call_count' могут означать пропущенные звонки, заменим их длительность на 0. Все значения приведем к целочисленному типу данных."
   ]
  },
  {
   "cell_type": "code",
   "execution_count": 45,
   "metadata": {},
   "outputs": [
    {
     "data": {
      "text/plain": [
       "user_id          0\n",
       "month            0\n",
       "calls_sum        0\n",
       "call_count       0\n",
       "message_count    0\n",
       "gb_used          0\n",
       "tariff           0\n",
       "city             0\n",
       "dtype: int64"
      ]
     },
     "execution_count": 45,
     "metadata": {},
     "output_type": "execute_result"
    }
   ],
   "source": [
    "# заменим пропущенные значения на 0\n",
    "data['calls_sum'] = data['calls_sum'].fillna(0).astype('Int64')\n",
    "data['call_count'] = data['call_count'].fillna(0).astype('Int64')\n",
    "data['gb_used'] = data['gb_used'].fillna(0).astype('Int64')\n",
    "data['message_count'] = data['message_count'].fillna(0).apply(np.ceil).astype('Int64')\n",
    "# поверим пропуски\n",
    "data.isna().sum()"
   ]
  },
  {
   "cell_type": "code",
   "execution_count": 46,
   "metadata": {},
   "outputs": [
    {
     "data": {
      "text/plain": [
       "user_id           int64\n",
       "month             int64\n",
       "calls_sum         Int64\n",
       "call_count        Int64\n",
       "message_count     Int64\n",
       "gb_used           Int64\n",
       "tariff           object\n",
       "city             object\n",
       "dtype: object"
      ]
     },
     "execution_count": 46,
     "metadata": {},
     "output_type": "execute_result"
    }
   ],
   "source": [
    "# проверка типов данных\n",
    "data.dtypes"
   ]
  },
  {
   "cell_type": "code",
   "execution_count": 47,
   "metadata": {
    "scrolled": false
   },
   "outputs": [
    {
     "data": {
      "text/html": [
       "<div>\n",
       "<style scoped>\n",
       "    .dataframe tbody tr th:only-of-type {\n",
       "        vertical-align: middle;\n",
       "    }\n",
       "\n",
       "    .dataframe tbody tr th {\n",
       "        vertical-align: top;\n",
       "    }\n",
       "\n",
       "    .dataframe thead th {\n",
       "        text-align: right;\n",
       "    }\n",
       "</style>\n",
       "<table border=\"1\" class=\"dataframe\">\n",
       "  <thead>\n",
       "    <tr style=\"text-align: right;\">\n",
       "      <th></th>\n",
       "      <th>user_id</th>\n",
       "      <th>month</th>\n",
       "      <th>calls_sum</th>\n",
       "      <th>call_count</th>\n",
       "      <th>message_count</th>\n",
       "      <th>gb_used</th>\n",
       "      <th>tariff</th>\n",
       "      <th>city</th>\n",
       "    </tr>\n",
       "  </thead>\n",
       "  <tbody>\n",
       "    <tr>\n",
       "      <th>0</th>\n",
       "      <td>1000</td>\n",
       "      <td>5</td>\n",
       "      <td>159</td>\n",
       "      <td>22</td>\n",
       "      <td>22</td>\n",
       "      <td>3</td>\n",
       "      <td>ultra</td>\n",
       "      <td>Краснодар</td>\n",
       "    </tr>\n",
       "    <tr>\n",
       "      <th>1</th>\n",
       "      <td>1000</td>\n",
       "      <td>6</td>\n",
       "      <td>172</td>\n",
       "      <td>43</td>\n",
       "      <td>60</td>\n",
       "      <td>23</td>\n",
       "      <td>ultra</td>\n",
       "      <td>Краснодар</td>\n",
       "    </tr>\n",
       "    <tr>\n",
       "      <th>2</th>\n",
       "      <td>1000</td>\n",
       "      <td>7</td>\n",
       "      <td>340</td>\n",
       "      <td>47</td>\n",
       "      <td>75</td>\n",
       "      <td>14</td>\n",
       "      <td>ultra</td>\n",
       "      <td>Краснодар</td>\n",
       "    </tr>\n",
       "    <tr>\n",
       "      <th>3</th>\n",
       "      <td>1000</td>\n",
       "      <td>8</td>\n",
       "      <td>408</td>\n",
       "      <td>52</td>\n",
       "      <td>81</td>\n",
       "      <td>14</td>\n",
       "      <td>ultra</td>\n",
       "      <td>Краснодар</td>\n",
       "    </tr>\n",
       "    <tr>\n",
       "      <th>4</th>\n",
       "      <td>1000</td>\n",
       "      <td>9</td>\n",
       "      <td>466</td>\n",
       "      <td>58</td>\n",
       "      <td>57</td>\n",
       "      <td>15</td>\n",
       "      <td>ultra</td>\n",
       "      <td>Краснодар</td>\n",
       "    </tr>\n",
       "  </tbody>\n",
       "</table>\n",
       "</div>"
      ],
      "text/plain": [
       "   user_id  month  calls_sum  call_count  message_count  gb_used tariff  \\\n",
       "0     1000      5        159          22             22        3  ultra   \n",
       "1     1000      6        172          43             60       23  ultra   \n",
       "2     1000      7        340          47             75       14  ultra   \n",
       "3     1000      8        408          52             81       14  ultra   \n",
       "4     1000      9        466          58             57       15  ultra   \n",
       "\n",
       "        city  \n",
       "0  Краснодар  \n",
       "1  Краснодар  \n",
       "2  Краснодар  \n",
       "3  Краснодар  \n",
       "4  Краснодар  "
      ]
     },
     "execution_count": 47,
     "metadata": {},
     "output_type": "execute_result"
    }
   ],
   "source": [
    "# вывод первых строк итоговой таблицы\n",
    "data.head()"
   ]
  },
  {
   "cell_type": "markdown",
   "metadata": {},
   "source": [
    "### Подсчет помесячной выручки с каждого пользователя"
   ]
  },
  {
   "cell_type": "code",
   "execution_count": 48,
   "metadata": {
    "scrolled": true
   },
   "outputs": [
    {
     "data": {
      "text/html": [
       "<div>\n",
       "<style scoped>\n",
       "    .dataframe tbody tr th:only-of-type {\n",
       "        vertical-align: middle;\n",
       "    }\n",
       "\n",
       "    .dataframe tbody tr th {\n",
       "        vertical-align: top;\n",
       "    }\n",
       "\n",
       "    .dataframe thead th {\n",
       "        text-align: right;\n",
       "    }\n",
       "</style>\n",
       "<table border=\"1\" class=\"dataframe\">\n",
       "  <thead>\n",
       "    <tr style=\"text-align: right;\">\n",
       "      <th></th>\n",
       "      <th>user_id</th>\n",
       "      <th>month</th>\n",
       "      <th>calls_sum</th>\n",
       "      <th>call_count</th>\n",
       "      <th>message_count</th>\n",
       "      <th>gb_used</th>\n",
       "      <th>tariff</th>\n",
       "      <th>city</th>\n",
       "      <th>revenue_month</th>\n",
       "    </tr>\n",
       "  </thead>\n",
       "  <tbody>\n",
       "    <tr>\n",
       "      <th>0</th>\n",
       "      <td>1000</td>\n",
       "      <td>5</td>\n",
       "      <td>159</td>\n",
       "      <td>22</td>\n",
       "      <td>22</td>\n",
       "      <td>3</td>\n",
       "      <td>ultra</td>\n",
       "      <td>Краснодар</td>\n",
       "      <td>1950</td>\n",
       "    </tr>\n",
       "    <tr>\n",
       "      <th>1</th>\n",
       "      <td>1000</td>\n",
       "      <td>6</td>\n",
       "      <td>172</td>\n",
       "      <td>43</td>\n",
       "      <td>60</td>\n",
       "      <td>23</td>\n",
       "      <td>ultra</td>\n",
       "      <td>Краснодар</td>\n",
       "      <td>1950</td>\n",
       "    </tr>\n",
       "    <tr>\n",
       "      <th>2</th>\n",
       "      <td>1000</td>\n",
       "      <td>7</td>\n",
       "      <td>340</td>\n",
       "      <td>47</td>\n",
       "      <td>75</td>\n",
       "      <td>14</td>\n",
       "      <td>ultra</td>\n",
       "      <td>Краснодар</td>\n",
       "      <td>1950</td>\n",
       "    </tr>\n",
       "    <tr>\n",
       "      <th>3</th>\n",
       "      <td>1000</td>\n",
       "      <td>8</td>\n",
       "      <td>408</td>\n",
       "      <td>52</td>\n",
       "      <td>81</td>\n",
       "      <td>14</td>\n",
       "      <td>ultra</td>\n",
       "      <td>Краснодар</td>\n",
       "      <td>1950</td>\n",
       "    </tr>\n",
       "    <tr>\n",
       "      <th>4</th>\n",
       "      <td>1000</td>\n",
       "      <td>9</td>\n",
       "      <td>466</td>\n",
       "      <td>58</td>\n",
       "      <td>57</td>\n",
       "      <td>15</td>\n",
       "      <td>ultra</td>\n",
       "      <td>Краснодар</td>\n",
       "      <td>1950</td>\n",
       "    </tr>\n",
       "  </tbody>\n",
       "</table>\n",
       "</div>"
      ],
      "text/plain": [
       "   user_id  month  calls_sum  call_count  message_count  gb_used tariff  \\\n",
       "0     1000      5        159          22             22        3  ultra   \n",
       "1     1000      6        172          43             60       23  ultra   \n",
       "2     1000      7        340          47             75       14  ultra   \n",
       "3     1000      8        408          52             81       14  ultra   \n",
       "4     1000      9        466          58             57       15  ultra   \n",
       "\n",
       "        city  revenue_month  \n",
       "0  Краснодар           1950  \n",
       "1  Краснодар           1950  \n",
       "2  Краснодар           1950  \n",
       "3  Краснодар           1950  \n",
       "4  Краснодар           1950  "
      ]
     },
     "execution_count": 48,
     "metadata": {},
     "output_type": "execute_result"
    }
   ],
   "source": [
    "# создадим функцию для подсчета месячной выручки и добавим столбец в сводную таблицу\n",
    "def revenue(data):\n",
    "    \n",
    "    calls_sum = data['calls_sum']\n",
    "    message_count = data['message_count']\n",
    "    gb_sum = data['gb_used']\n",
    "    tariff = data['tariff']\n",
    "    \n",
    "    smart_monthly_payment = 550\n",
    "    smart_minutes = 500\n",
    "    smart_messages = 50\n",
    "    smart_gb = 15\n",
    "    smart_minutes_fee = 3\n",
    "    smart_messages_fee = 3\n",
    "    smart_gb_fee = 200\n",
    " \n",
    "    ultra_monthly_payment = 1950\n",
    "    ultra_minutes = 3000\n",
    "    ultra_messages = 1000\n",
    "    ultra_gb = 30\n",
    "    ultra_minutes_fee = 1\n",
    "    ultra_messages_fee = 1\n",
    "    ultra_gb_fee = 150\n",
    "    \n",
    "    if tariff == 'smart':\n",
    "        if calls_sum > smart_minutes:\n",
    "            revenue_calls = (calls_sum - smart_minutes)*smart_minutes_fee\n",
    "        else:\n",
    "            revenue_calls = 0\n",
    "        if message_count > smart_messages:\n",
    "            revenue_message = (message_count - smart_messages)*smart_messages_fee\n",
    "        else:\n",
    "            revenue_message = 0\n",
    "        if gb_sum > smart_gb:\n",
    "            revenue_gb = (gb_sum - smart_gb)*smart_gb_fee\n",
    "        else:\n",
    "            revenue_gb = 0\n",
    "        return revenue_calls + revenue_message + revenue_gb + smart_monthly_payment\n",
    "    \n",
    "    elif tariff == 'ultra':\n",
    "        if calls_sum > ultra_minutes:\n",
    "            revenue_calls = (calls_sum - ultra_minutes)*ultra_minutes_fee\n",
    "        else:\n",
    "            revenue_calls = 0\n",
    "        if message_count > ultra_messages:\n",
    "            revenue_message = (message_count - ultra_messages)*ultra_messages_fee\n",
    "        else:\n",
    "            revenue_message = 0\n",
    "        if gb_sum > ultra_gb:\n",
    "            revenue_gb = (gb_sum - ultra_gb)*ultra_gb_fee\n",
    "        else:\n",
    "            revenue_gb = 0\n",
    "        return revenue_calls + revenue_message + revenue_gb + ultra_monthly_payment\n",
    "data['revenue_month'] = data.apply(revenue, axis = 1)  \n",
    "data.head()"
   ]
  },
  {
   "cell_type": "markdown",
   "metadata": {},
   "source": [
    "Для всех пользователей тарифов сотовой связи было посчитано количество сделанных звонков и израсходованных минут разговора, количество отправленных сообщений и объем интернет-трафика за каждый месяц, а также рассчитала помесячная выручка с каждого пользователя. В итоговой сводной таблице были найдены и заполнены пропущенные значения, данные приведены к целочисленному типу ."
   ]
  },
  {
   "cell_type": "markdown",
   "metadata": {},
   "source": [
    "### Сравнительный анализ тарифов \"Смарт\" и \"Ультра\""
   ]
  },
  {
   "cell_type": "code",
   "execution_count": 49,
   "metadata": {
    "scrolled": true
   },
   "outputs": [
    {
     "data": {
      "text/html": [
       "<div>\n",
       "<style scoped>\n",
       "    .dataframe tbody tr th:only-of-type {\n",
       "        vertical-align: middle;\n",
       "    }\n",
       "\n",
       "    .dataframe tbody tr th {\n",
       "        vertical-align: top;\n",
       "    }\n",
       "\n",
       "    .dataframe thead th {\n",
       "        text-align: right;\n",
       "    }\n",
       "</style>\n",
       "<table border=\"1\" class=\"dataframe\">\n",
       "  <thead>\n",
       "    <tr style=\"text-align: right;\">\n",
       "      <th></th>\n",
       "      <th>month</th>\n",
       "      <th>calls_sum</th>\n",
       "      <th>message_count</th>\n",
       "      <th>gb_used</th>\n",
       "      <th>revenue_month</th>\n",
       "    </tr>\n",
       "  </thead>\n",
       "  <tbody>\n",
       "    <tr>\n",
       "      <th>0</th>\n",
       "      <td>1</td>\n",
       "      <td>6931</td>\n",
       "      <td>620</td>\n",
       "      <td>297</td>\n",
       "      <td>24525</td>\n",
       "    </tr>\n",
       "    <tr>\n",
       "      <th>1</th>\n",
       "      <td>2</td>\n",
       "      <td>17324</td>\n",
       "      <td>1397</td>\n",
       "      <td>687</td>\n",
       "      <td>48001</td>\n",
       "    </tr>\n",
       "    <tr>\n",
       "      <th>2</th>\n",
       "      <td>3</td>\n",
       "      <td>30034</td>\n",
       "      <td>2453</td>\n",
       "      <td>1173</td>\n",
       "      <td>89676</td>\n",
       "    </tr>\n",
       "    <tr>\n",
       "      <th>3</th>\n",
       "      <td>4</td>\n",
       "      <td>41119</td>\n",
       "      <td>3443</td>\n",
       "      <td>1526</td>\n",
       "      <td>107866</td>\n",
       "    </tr>\n",
       "    <tr>\n",
       "      <th>4</th>\n",
       "      <td>5</td>\n",
       "      <td>54618</td>\n",
       "      <td>4762</td>\n",
       "      <td>2243</td>\n",
       "      <td>168849</td>\n",
       "    </tr>\n",
       "    <tr>\n",
       "      <th>5</th>\n",
       "      <td>6</td>\n",
       "      <td>64885</td>\n",
       "      <td>5478</td>\n",
       "      <td>2616</td>\n",
       "      <td>197459</td>\n",
       "    </tr>\n",
       "    <tr>\n",
       "      <th>6</th>\n",
       "      <td>7</td>\n",
       "      <td>82079</td>\n",
       "      <td>6784</td>\n",
       "      <td>3191</td>\n",
       "      <td>246014</td>\n",
       "    </tr>\n",
       "    <tr>\n",
       "      <th>7</th>\n",
       "      <td>8</td>\n",
       "      <td>99045</td>\n",
       "      <td>7905</td>\n",
       "      <td>3933</td>\n",
       "      <td>310340</td>\n",
       "    </tr>\n",
       "    <tr>\n",
       "      <th>8</th>\n",
       "      <td>9</td>\n",
       "      <td>111439</td>\n",
       "      <td>8746</td>\n",
       "      <td>4262</td>\n",
       "      <td>324986</td>\n",
       "    </tr>\n",
       "    <tr>\n",
       "      <th>9</th>\n",
       "      <td>10</td>\n",
       "      <td>125284</td>\n",
       "      <td>9927</td>\n",
       "      <td>4963</td>\n",
       "      <td>401267</td>\n",
       "    </tr>\n",
       "    <tr>\n",
       "      <th>10</th>\n",
       "      <td>11</td>\n",
       "      <td>137544</td>\n",
       "      <td>10768</td>\n",
       "      <td>5372</td>\n",
       "      <td>424403</td>\n",
       "    </tr>\n",
       "    <tr>\n",
       "      <th>11</th>\n",
       "      <td>12</td>\n",
       "      <td>161275</td>\n",
       "      <td>12130</td>\n",
       "      <td>6134</td>\n",
       "      <td>531965</td>\n",
       "    </tr>\n",
       "  </tbody>\n",
       "</table>\n",
       "</div>"
      ],
      "text/plain": [
       "    month  calls_sum  message_count  gb_used  revenue_month\n",
       "0       1       6931            620      297          24525\n",
       "1       2      17324           1397      687          48001\n",
       "2       3      30034           2453     1173          89676\n",
       "3       4      41119           3443     1526         107866\n",
       "4       5      54618           4762     2243         168849\n",
       "5       6      64885           5478     2616         197459\n",
       "6       7      82079           6784     3191         246014\n",
       "7       8      99045           7905     3933         310340\n",
       "8       9     111439           8746     4262         324986\n",
       "9      10     125284           9927     4963         401267\n",
       "10     11     137544          10768     5372         424403\n",
       "11     12     161275          12130     6134         531965"
      ]
     },
     "execution_count": 49,
     "metadata": {},
     "output_type": "execute_result"
    }
   ],
   "source": [
    "# отберем данные по тарифу \"Смарт\" и сгруппируем их по месяцам\n",
    "data_smart = data.query('tariff == \"smart\"')\n",
    "data_smart.groupby('month')[['calls_sum', 'message_count', 'gb_used', 'revenue_month']].sum().reset_index()"
   ]
  },
  {
   "cell_type": "code",
   "execution_count": 50,
   "metadata": {
    "scrolled": false
   },
   "outputs": [
    {
     "data": {
      "text/html": [
       "<div>\n",
       "<style scoped>\n",
       "    .dataframe tbody tr th:only-of-type {\n",
       "        vertical-align: middle;\n",
       "    }\n",
       "\n",
       "    .dataframe tbody tr th {\n",
       "        vertical-align: top;\n",
       "    }\n",
       "\n",
       "    .dataframe thead th {\n",
       "        text-align: right;\n",
       "    }\n",
       "</style>\n",
       "<table border=\"1\" class=\"dataframe\">\n",
       "  <thead>\n",
       "    <tr style=\"text-align: right;\">\n",
       "      <th></th>\n",
       "      <th>month</th>\n",
       "      <th>calls_sum</th>\n",
       "      <th>message_count</th>\n",
       "      <th>gb_used</th>\n",
       "      <th>revenue_month</th>\n",
       "    </tr>\n",
       "  </thead>\n",
       "  <tbody>\n",
       "    <tr>\n",
       "      <th>0</th>\n",
       "      <td>1</td>\n",
       "      <td>3853</td>\n",
       "      <td>304</td>\n",
       "      <td>119</td>\n",
       "      <td>17550</td>\n",
       "    </tr>\n",
       "    <tr>\n",
       "      <th>1</th>\n",
       "      <td>2</td>\n",
       "      <td>7131</td>\n",
       "      <td>527</td>\n",
       "      <td>288</td>\n",
       "      <td>47400</td>\n",
       "    </tr>\n",
       "    <tr>\n",
       "      <th>2</th>\n",
       "      <td>3</td>\n",
       "      <td>18117</td>\n",
       "      <td>1195</td>\n",
       "      <td>653</td>\n",
       "      <td>74550</td>\n",
       "    </tr>\n",
       "    <tr>\n",
       "      <th>3</th>\n",
       "      <td>4</td>\n",
       "      <td>25191</td>\n",
       "      <td>1736</td>\n",
       "      <td>933</td>\n",
       "      <td>110100</td>\n",
       "    </tr>\n",
       "    <tr>\n",
       "      <th>4</th>\n",
       "      <td>5</td>\n",
       "      <td>34192</td>\n",
       "      <td>2536</td>\n",
       "      <td>1298</td>\n",
       "      <td>138000</td>\n",
       "    </tr>\n",
       "    <tr>\n",
       "      <th>5</th>\n",
       "      <td>6</td>\n",
       "      <td>40295</td>\n",
       "      <td>3505</td>\n",
       "      <td>1591</td>\n",
       "      <td>171300</td>\n",
       "    </tr>\n",
       "    <tr>\n",
       "      <th>6</th>\n",
       "      <td>7</td>\n",
       "      <td>49667</td>\n",
       "      <td>4536</td>\n",
       "      <td>1866</td>\n",
       "      <td>192750</td>\n",
       "    </tr>\n",
       "    <tr>\n",
       "      <th>7</th>\n",
       "      <td>8</td>\n",
       "      <td>54653</td>\n",
       "      <td>5183</td>\n",
       "      <td>2097</td>\n",
       "      <td>222900</td>\n",
       "    </tr>\n",
       "    <tr>\n",
       "      <th>8</th>\n",
       "      <td>9</td>\n",
       "      <td>62036</td>\n",
       "      <td>6013</td>\n",
       "      <td>2213</td>\n",
       "      <td>232800</td>\n",
       "    </tr>\n",
       "    <tr>\n",
       "      <th>9</th>\n",
       "      <td>10</td>\n",
       "      <td>68644</td>\n",
       "      <td>7187</td>\n",
       "      <td>2468</td>\n",
       "      <td>254100</td>\n",
       "    </tr>\n",
       "    <tr>\n",
       "      <th>10</th>\n",
       "      <td>11</td>\n",
       "      <td>72545</td>\n",
       "      <td>7476</td>\n",
       "      <td>2654</td>\n",
       "      <td>280350</td>\n",
       "    </tr>\n",
       "    <tr>\n",
       "      <th>11</th>\n",
       "      <td>12</td>\n",
       "      <td>82400</td>\n",
       "      <td>8425</td>\n",
       "      <td>3022</td>\n",
       "      <td>297300</td>\n",
       "    </tr>\n",
       "  </tbody>\n",
       "</table>\n",
       "</div>"
      ],
      "text/plain": [
       "    month  calls_sum  message_count  gb_used  revenue_month\n",
       "0       1       3853            304      119          17550\n",
       "1       2       7131            527      288          47400\n",
       "2       3      18117           1195      653          74550\n",
       "3       4      25191           1736      933         110100\n",
       "4       5      34192           2536     1298         138000\n",
       "5       6      40295           3505     1591         171300\n",
       "6       7      49667           4536     1866         192750\n",
       "7       8      54653           5183     2097         222900\n",
       "8       9      62036           6013     2213         232800\n",
       "9      10      68644           7187     2468         254100\n",
       "10     11      72545           7476     2654         280350\n",
       "11     12      82400           8425     3022         297300"
      ]
     },
     "execution_count": 50,
     "metadata": {},
     "output_type": "execute_result"
    }
   ],
   "source": [
    "# сводная таблица по тарифу \"Ультра\" \n",
    "data_ultra = data.query('tariff == \"ultra\"')\n",
    "data_ultra.groupby('month')[['calls_sum', 'message_count', 'gb_used', 'revenue_month']].sum().reset_index()"
   ]
  },
  {
   "cell_type": "markdown",
   "metadata": {},
   "source": [
    "**Количество израсходованных минут разговора по тарифам**"
   ]
  },
  {
   "cell_type": "code",
   "execution_count": 51,
   "metadata": {},
   "outputs": [
    {
     "data": {
      "image/png": "[encoded data removed]",
      "text/plain": [
       "<Figure size 432x288 with 1 Axes>"
      ]
     },
     "metadata": {
      "needs_background": "light"
     },
     "output_type": "display_data"
    }
   ],
   "source": [
    "# гистограммы распределения количества израсходованных минут разговора по тарифам\n",
    "ax=data_smart.plot(kind='hist', y='calls_sum', bins=100, alpha=0.7, label='smart')\n",
    "data_ultra.plot(kind='hist', y='calls_sum', bins=100, alpha=0.7, label='ultra', ax=ax, grid=True, legend=True)\n",
    "plt.show()"
   ]
  },
  {
   "cell_type": "code",
   "execution_count": 52,
   "metadata": {
    "scrolled": true
   },
   "outputs": [
    {
     "name": "stdout",
     "output_type": "stream",
     "text": [
      "Среднее количество - 418.0\n",
      "Дисперсия - 36219.0\n",
      "Стандартное отклонение - 190.0\n"
     ]
    }
   ],
   "source": [
    "# найдем среднее количество, дисперсию и стандартное отклонение по тарифу \"Смарт\"\n",
    "smart_calls_mean = data_smart['calls_sum'].mean().round()\n",
    "smart_calls_var = np.var(data_smart['calls_sum'], ddof=1).round()\n",
    "smart_calls_std = np.std(data_smart['calls_sum'], ddof=1).round()\n",
    "\n",
    "print('Среднее количество -', smart_calls_mean)\n",
    "print('Дисперсия -', smart_calls_var)\n",
    "print('Стандартное отклонение -', smart_calls_std)"
   ]
  },
  {
   "cell_type": "code",
   "execution_count": 53,
   "metadata": {
    "scrolled": false
   },
   "outputs": [
    {
     "name": "stdout",
     "output_type": "stream",
     "text": [
      "Среднее количество - 527.0\n",
      "Дисперсия - 100874.0\n",
      "Стандартное отклонение - 318.0\n"
     ]
    }
   ],
   "source": [
    "# найдем среднее количество, дисперсию и стандартное отклонение по тарифу \"Ультра\"\n",
    "ultra_calls_mean = data_ultra['calls_sum'].mean().round()\n",
    "ultra_calls_var = np.var(data_ultra['calls_sum'], ddof=1).round()\n",
    "ultra_calls_std = np.std(data_ultra['calls_sum'], ddof=1).round()\n",
    "\n",
    "print('Среднее количество -', ultra_calls_mean)\n",
    "print('Дисперсия -', ultra_calls_var)\n",
    "print('Стандартное отклонение -', ultra_calls_std)"
   ]
  },
  {
   "cell_type": "markdown",
   "metadata": {},
   "source": [
    "**Количество отправленных сообщений по тарифам**"
   ]
  },
  {
   "cell_type": "code",
   "execution_count": 54,
   "metadata": {
    "scrolled": false
   },
   "outputs": [
    {
     "data": {
      "image/png": "[encoded data removed]",
      "text/plain": [
       "<Figure size 432x288 with 1 Axes>"
      ]
     },
     "metadata": {
      "needs_background": "light"
     },
     "output_type": "display_data"
    }
   ],
   "source": [
    "# построим гистограммы распределения количества отправленных сообщений по тарифам\n",
    "ax=data_smart.plot(kind='hist', y='message_count', bins=50, alpha=0.7, label='smart')\n",
    "data_ultra.plot(kind='hist', y='message_count', bins=50, alpha=0.7, label='ultra', ax=ax, grid=True, legend=True)\n",
    "plt.show()"
   ]
  },
  {
   "cell_type": "code",
   "execution_count": 55,
   "metadata": {},
   "outputs": [
    {
     "name": "stdout",
     "output_type": "stream",
     "text": [
      "Среднее количество - 33.0\n",
      "Дисперсия - 797.0\n",
      "Стандартное отклонение - 28.0\n"
     ]
    }
   ],
   "source": [
    "# найдем среднее количество, дисперсию и стандартное отклонение по тарифу \"Смарт\"\n",
    "smart_message_mean = data_smart['message_count'].mean().round()\n",
    "smart_message_var = np.var(data_smart['message_count'], ddof=1).round()\n",
    "smart_message_std = np.std(data_smart['message_count'], ddof=1).round()\n",
    "\n",
    "print('Среднее количество -', smart_message_mean)\n",
    "print('Дисперсия -', smart_message_var)\n",
    "print('Стандартное отклонение -', smart_message_std)"
   ]
  },
  {
   "cell_type": "code",
   "execution_count": 56,
   "metadata": {
    "scrolled": false
   },
   "outputs": [
    {
     "name": "stdout",
     "output_type": "stream",
     "text": [
      "Среднее количество - 49.0\n",
      "Дисперсия - 2285.0\n",
      "Стандартное отклонение - 48.0\n"
     ]
    }
   ],
   "source": [
    "# найдем среднее количество, дисперсию и стандартное отклонение по тарифу \"Ультра\"\n",
    "ultra_message_mean = data_ultra['message_count'].mean().round()\n",
    "ultra_message_var = np.var(data_ultra['message_count'], ddof=1).round()\n",
    "ultra_message_std = np.std(data_ultra['message_count'], ddof=1).round()\n",
    "\n",
    "print('Среднее количество -', ultra_message_mean)\n",
    "print('Дисперсия -', ultra_message_var)\n",
    "print('Стандартное отклонение -', ultra_message_std)"
   ]
  },
  {
   "cell_type": "markdown",
   "metadata": {},
   "source": [
    "**Объем израсходованного интернет-трафика по тарифам**"
   ]
  },
  {
   "cell_type": "code",
   "execution_count": 57,
   "metadata": {
    "scrolled": true
   },
   "outputs": [
    {
     "data": {
      "image/png": "[encoded data removed]",
      "text/plain": [
       "<Figure size 432x288 with 1 Axes>"
      ]
     },
     "metadata": {
      "needs_background": "light"
     },
     "output_type": "display_data"
    }
   ],
   "source": [
    "# построим гистограммы распределения объема израсходованного интернет-трафика по тарифам\n",
    "ax=data_smart.plot(kind='hist', y='gb_used', bins=50, alpha=0.7, label='smart')\n",
    "data_ultra.plot(kind='hist', y='gb_used', bins=50, alpha=0.7, label='ultra', ax=ax, grid=True, legend=True)\n",
    "plt.show()"
   ]
  },
  {
   "cell_type": "code",
   "execution_count": 58,
   "metadata": {
    "scrolled": true
   },
   "outputs": [
    {
     "name": "stdout",
     "output_type": "stream",
     "text": [
      "Среднее количество - 16.0\n",
      "Дисперсия - 33.0\n",
      "Стандартное отклонение - 6.0\n"
     ]
    }
   ],
   "source": [
    "# найдем среднее количество, дисперсию и стандартное отклонение по тарифу \"Смарт\"\n",
    "smart_gb_mean = data_smart['gb_used'].mean().round()\n",
    "smart_gb_var = np.var(data_smart['gb_used'], ddof=1).round()\n",
    "smart_gb_std = np.std(data_smart['gb_used'], ddof=1).round()\n",
    "\n",
    "print('Среднее количество -', smart_gb_mean)\n",
    "print('Дисперсия -', smart_gb_var)\n",
    "print('Стандартное отклонение -', smart_gb_std)"
   ]
  },
  {
   "cell_type": "code",
   "execution_count": 59,
   "metadata": {
    "scrolled": false
   },
   "outputs": [
    {
     "name": "stdout",
     "output_type": "stream",
     "text": [
      "Среднее количество - 19.0\n",
      "Дисперсия - 97.0\n",
      "Стандартное отклонение - 10.0\n"
     ]
    }
   ],
   "source": [
    "# найдем среднее количество, дисперсию и стандартное отклонение по тарифу \"Ультра\"\n",
    "ultra_gb_mean = data_ultra['gb_used'].mean().round()\n",
    "ultra_gb_var = np.var(data_ultra['gb_used'], ddof=1).round()\n",
    "ultra_gb_std = np.std(data_ultra['gb_used'], ddof=1).round()\n",
    "\n",
    "print('Среднее количество -', ultra_gb_mean)\n",
    "print('Дисперсия -', ultra_gb_var)\n",
    "print('Стандартное отклонение -', ultra_gb_std)"
   ]
  },
  {
   "cell_type": "markdown",
   "metadata": {},
   "source": [
    "**Распределение выручки по тарифам**"
   ]
  },
  {
   "cell_type": "code",
   "execution_count": 60,
   "metadata": {
    "scrolled": false
   },
   "outputs": [
    {
     "data": {
      "image/png": "[encoded data removed]",
      "text/plain": [
       "<Figure size 432x288 with 1 Axes>"
      ]
     },
     "metadata": {
      "needs_background": "light"
     },
     "output_type": "display_data"
    }
   ],
   "source": [
    "# построим гистограммы распределения выручки по тарифам\n",
    "ax=data_smart.plot(kind='hist', y='revenue_month', bins=50, alpha=0.7, label='smart')\n",
    "data_ultra.plot(kind='hist', y='revenue_month', bins=50, alpha=0.7, label='ultra', ax=ax, grid=True, legend=True)\n",
    "plt.show()"
   ]
  },
  {
   "cell_type": "code",
   "execution_count": 61,
   "metadata": {
    "scrolled": false
   },
   "outputs": [
    {
     "name": "stdout",
     "output_type": "stream",
     "text": [
      "Средняя выручка по тарифу \"Смарт\" - 1290.0\n",
      "Средняя выручка по тарифу \"Ультра\" - 2070.0\n"
     ]
    }
   ],
   "source": [
    "# найдем среднюю выручку пользователей тарифов \"Смарт\" и \"Ультра\"\n",
    "revenue_smart = data_smart['revenue_month'].mean().round()\n",
    "revenue_ultra = data_ultra['revenue_month'].mean().round()\n",
    "\n",
    "print('Средняя выручка по тарифу \"Смарт\" -', revenue_smart)\n",
    "print('Средняя выручка по тарифу \"Ультра\" -', revenue_ultra)"
   ]
  },
  {
   "cell_type": "code",
   "execution_count": 62,
   "metadata": {
    "scrolled": true
   },
   "outputs": [
    {
     "data": {
      "image/png": "[encoded data removed]",
      "text/plain": [
       "<Figure size 432x288 with 1 Axes>"
      ]
     },
     "metadata": {
      "needs_background": "light"
     },
     "output_type": "display_data"
    }
   ],
   "source": [
    "# построим гистограммы распределения выручки по Москве и другим регионам\n",
    "data_moscow = data.loc[data['city'] == 'Москва']\n",
    "data_other = data.loc[data['city'] != 'Москва']\n",
    "ax=data_moscow.plot(kind='hist', y='revenue_month', bins=30, alpha=0.5, label='moscow')\n",
    "data_other.plot(kind='hist', y='revenue_month', bins=30, alpha=0.5, label='other', ax=ax, grid=True, legend=True)\n",
    "plt.show()"
   ]
  },
  {
   "cell_type": "code",
   "execution_count": 63,
   "metadata": {
    "scrolled": false
   },
   "outputs": [
    {
     "name": "stdout",
     "output_type": "stream",
     "text": [
      "Средняя выручка по Москве - 1547.0\n",
      "Средняя выручка по другим регионам - 1525.0\n"
     ]
    }
   ],
   "source": [
    "# найдем среднюю выручку пользователей из Москвы и других регионов\n",
    "revenue_moscow = data[data['city'] == 'Москва']['revenue_month'].mean().round()\n",
    "revenue_other = data[data['city'] != 'Москва']['revenue_month'].mean().round()\n",
    "\n",
    "print('Средняя выручка по Москве -', revenue_moscow)\n",
    "print('Средняя выручка по другим регионам -', revenue_other)"
   ]
  },
  {
   "cell_type": "markdown",
   "metadata": {},
   "source": [
    "**Вывод**\n",
    "\n",
    "Сравнивая поведение пользователей двух тарифных планов можно судить о том, что абоненты более бюджетного тарифа чаще не укладываются в лимит своего тарифа, им приходится пользоваться дополнительными минутами разговора, дополнительными сообщениями и интернет-трафиком. Следовательно, пользователям тарифа \"Смарт\" не хватает объема услуг, который предоставляет оператор. Средняя выручка по тарифу \"Смарт\" меньше, чем по пакету \"Ультра\", а выручка по Москве и другим регионам примерно одинаковая."
   ]
  },
  {
   "cell_type": "markdown",
   "metadata": {},
   "source": [
    "## Проверка гипотез"
   ]
  },
  {
   "cell_type": "markdown",
   "metadata": {},
   "source": [
    "Чтобы проверить гипотезы о равенстве средних двух независимых выборок необходимо применить метод scipy.stats.ttest_ind  и передать ему интересующие нас выборки. Но для начала сформулируем нулевую и альтернативную гипотезы."
   ]
  },
  {
   "cell_type": "markdown",
   "metadata": {},
   "source": [
    "### Средняя выручка пользователей тарифов «Ультра» и «Смарт» различаются"
   ]
  },
  {
   "cell_type": "markdown",
   "metadata": {},
   "source": [
    "Но - средняя выручка пользователей тарифов «Ультра» и «Смарт» равны\n",
    "\n",
    "Н1 - средняя выручка пользователей тарифов «Смарт» и «Ультра» не равны"
   ]
  },
  {
   "cell_type": "code",
   "execution_count": 64,
   "metadata": {
    "scrolled": true
   },
   "outputs": [
    {
     "name": "stdout",
     "output_type": "stream",
     "text": [
      "р-значение: 4.2606313931076085e-250\n",
      "Отвергаем нулевую гипотезу\n"
     ]
    }
   ],
   "source": [
    "# проверим гипотезу\n",
    "data_smart_renevue = data_smart['revenue_month']\n",
    "data_ultra_renevue = data_ultra['revenue_month']\n",
    "\n",
    "alpha = 0.05\n",
    "result = st.ttest_ind(data_smart_renevue, data_ultra_renevue, equal_var=False)\n",
    "print('р-значение:', result.pvalue)\n",
    "\n",
    "if result.pvalue < alpha:\n",
    "    print('Отвергаем нулевую гипотезу')\n",
    "else:\n",
    "    print('Не получилось отвергнуть нулевую гипотезу')"
   ]
  },
  {
   "cell_type": "markdown",
   "metadata": {},
   "source": [
    "p-уровень значимости имееет значение меньше порогового, следовательно, мы отклоняем нулевую гипотезу."
   ]
  },
  {
   "cell_type": "markdown",
   "metadata": {},
   "source": [
    "### Средняя выручка пользователей из Москвы отличается от выручки пользователей из других регионов"
   ]
  },
  {
   "cell_type": "markdown",
   "metadata": {},
   "source": [
    "Но - средняя выручка пользователей из Москвы и из других регионов равны\n",
    "\n",
    "Н1 -  средняя выручка пользователей из Москвы и из других регионов не равны"
   ]
  },
  {
   "cell_type": "code",
   "execution_count": 65,
   "metadata": {
    "scrolled": true
   },
   "outputs": [
    {
     "name": "stdout",
     "output_type": "stream",
     "text": [
      "р-значение: 0.5257376663729298\n",
      "Не получилось отвергнуть нулевую гипотезу\n"
     ]
    }
   ],
   "source": [
    "# проверим гипотезу\n",
    "data_revenue_moscow = data[data['city'] == 'Москва']['revenue_month']\n",
    "data_revenue_other = data[data['city'] != 'Москва']['revenue_month']\n",
    "\n",
    "alpha = 0.05\n",
    "result = st.ttest_ind(data_revenue_moscow, data_revenue_other, equal_var=False)\n",
    "print('р-значение:', result.pvalue)\n",
    "\n",
    "if result.pvalue < alpha:\n",
    "    print('Отвергаем нулевую гипотезу')\n",
    "else:\n",
    "    print('Не получилось отвергнуть нулевую гипотезу')"
   ]
  },
  {
   "cell_type": "markdown",
   "metadata": {},
   "source": [
    "р-уровень значимости больше порогового значения, значит, у нас нет оснований отклонять нулевую гипотезу."
   ]
  },
  {
   "cell_type": "markdown",
   "metadata": {},
   "source": [
    "## Вывод"
   ]
  },
  {
   "cell_type": "markdown",
   "metadata": {},
   "source": [
    "Заказчиком проводимого исследования является федеральный оператор сотовой связи компания \"Мегалайн\". \n",
    "\n",
    "**Основная цель исследования** - выяснить какой тариф приносит больше денег \"Смарт\" или \"Ультра\". Для исследования была предоставлена выборка по данным 500 пользователей оператора.\n",
    "\n",
    "Данные прошли необходимую предобработку, включающую в себя исправление ошибок, проверку на наличие дубликатов и обработку пропусков, приведение данных к нужным типам, составлены итоговые сводные таблицы. \n",
    "\n",
    "В ходе работы было проанализировано поведение клиентов. Мы определили количество израсходованных минут разговора, количество сообщений и объема интернет-трафика, которое требуется пользователям каждого тарифа в месяц, а также нашли помесячная выручка с каждого абонента. \n",
    "\n",
    "По результатам исследования можно сделать вывод о том, что пользователям тарифа \"Смарт\" не хватает того пакета услуг, который предоставляет оператор сотовой связи, и им приходится чаще оплачивать дополнительные минуты разговора, дополнительные сообщения и интернет-трафик. Абоненты тарифа \"Ультра\" имеют чуть более высокие средние показатели по использованию звонков, сообщений и  интернета, но в целом они укладыавются в лимит своего тарифного плана. \n",
    "\n",
    "Также мы проверили две гипотезы:\n",
    "- о равенстве средней выручки пользователей тарифов \"Смарт\" и \"Ультра\";\n",
    "- о равенстве средней выручки пользователей из Москвы и других регионов. \n",
    "\n",
    "Первая гипотеза была отклонена на основании того, что р-уровень значимости имел значение ниже порогового, а вот оснований для отклонения второй гипотезы не было.\n",
    "\n",
    "По итогам проведенного исследования мы выяснили, что средняя выручка по тарифу \"Смарт\" меньше, чем по тарифу \"Ультра\", поэтому можно смело судить о том, что тариф \"Ультра\" является более привлекательным с точки зрения приносимой прибыли и абоненты имеют большую свободу в использовании услуг оператора. Прибыль между пользователями Москвы и другими регионами практически не отличается. "
   ]
  }
 ],
 "metadata": {
  "ExecuteTimeLog": [
   {
    "duration": 686,
    "start_time": "2022-05-23T11:42:10.565Z"
   },
   {
    "duration": 25,
    "start_time": "2022-05-23T11:43:24.255Z"
   },
   {
    "duration": 242,
    "start_time": "2022-05-23T11:43:30.661Z"
   },
   {
    "duration": 160,
    "start_time": "2022-05-23T11:43:45.686Z"
   },
   {
    "duration": 179,
    "start_time": "2022-05-23T11:44:20.748Z"
   },
   {
    "duration": 698,
    "start_time": "2022-05-23T11:49:37.982Z"
   },
   {
    "duration": 176,
    "start_time": "2022-05-23T11:50:57.224Z"
   },
   {
    "duration": 163,
    "start_time": "2022-05-23T11:51:00.972Z"
   },
   {
    "duration": 3,
    "start_time": "2022-05-23T11:51:09.592Z"
   },
   {
    "duration": 157,
    "start_time": "2022-05-23T11:51:19.451Z"
   },
   {
    "duration": 29,
    "start_time": "2022-05-23T11:51:47.910Z"
   },
   {
    "duration": 142,
    "start_time": "2022-05-23T11:51:55.389Z"
   },
   {
    "duration": 119,
    "start_time": "2022-05-23T11:52:30.351Z"
   },
   {
    "duration": 22,
    "start_time": "2022-05-23T11:52:49.765Z"
   },
   {
    "duration": 22,
    "start_time": "2022-05-23T11:52:54.308Z"
   },
   {
    "duration": 105,
    "start_time": "2022-05-23T11:52:57.611Z"
   },
   {
    "duration": 135,
    "start_time": "2022-05-23T11:53:01.832Z"
   },
   {
    "duration": 150,
    "start_time": "2022-05-23T11:53:05.038Z"
   },
   {
    "duration": 34,
    "start_time": "2022-05-23T11:53:31.810Z"
   },
   {
    "duration": 36,
    "start_time": "2022-05-23T11:53:40.861Z"
   },
   {
    "duration": 163,
    "start_time": "2022-05-23T11:54:39.645Z"
   },
   {
    "duration": 198,
    "start_time": "2022-05-23T11:55:00.677Z"
   },
   {
    "duration": 163,
    "start_time": "2022-05-23T11:55:36.364Z"
   },
   {
    "duration": 132,
    "start_time": "2022-05-23T11:56:07.492Z"
   },
   {
    "duration": 27,
    "start_time": "2022-05-23T11:56:27.458Z"
   },
   {
    "duration": 29,
    "start_time": "2022-05-23T11:56:39.593Z"
   },
   {
    "duration": 30,
    "start_time": "2022-05-23T11:57:06.202Z"
   },
   {
    "duration": 32,
    "start_time": "2022-05-23T11:57:20.696Z"
   },
   {
    "duration": 3,
    "start_time": "2022-05-23T11:58:06.987Z"
   },
   {
    "duration": 183,
    "start_time": "2022-05-23T11:58:08.675Z"
   },
   {
    "duration": 117,
    "start_time": "2022-05-23T11:58:10.590Z"
   },
   {
    "duration": 27,
    "start_time": "2022-05-23T11:58:13.342Z"
   },
   {
    "duration": 31,
    "start_time": "2022-05-23T11:58:15.363Z"
   },
   {
    "duration": 30,
    "start_time": "2022-05-23T11:58:18.264Z"
   },
   {
    "duration": 29,
    "start_time": "2022-05-23T11:58:39.878Z"
   },
   {
    "duration": 43,
    "start_time": "2022-05-23T11:58:48.492Z"
   },
   {
    "duration": 40,
    "start_time": "2022-05-23T12:12:05.345Z"
   },
   {
    "duration": 10,
    "start_time": "2022-05-23T12:12:26.666Z"
   },
   {
    "duration": 11,
    "start_time": "2022-05-23T12:12:34.955Z"
   },
   {
    "duration": 10,
    "start_time": "2022-05-23T12:12:39.944Z"
   },
   {
    "duration": 6,
    "start_time": "2022-05-23T12:13:25.290Z"
   },
   {
    "duration": 6,
    "start_time": "2022-05-23T12:15:11.210Z"
   },
   {
    "duration": 6,
    "start_time": "2022-05-23T12:16:28.253Z"
   },
   {
    "duration": 6,
    "start_time": "2022-05-23T12:16:45.816Z"
   },
   {
    "duration": 10,
    "start_time": "2022-05-23T12:16:58.624Z"
   },
   {
    "duration": 5,
    "start_time": "2022-05-23T12:17:09.507Z"
   },
   {
    "duration": 5,
    "start_time": "2022-05-23T12:20:28.779Z"
   },
   {
    "duration": 6,
    "start_time": "2022-05-23T12:20:47.678Z"
   },
   {
    "duration": 5,
    "start_time": "2022-05-23T12:22:08.732Z"
   },
   {
    "duration": 6,
    "start_time": "2022-05-23T12:22:45.407Z"
   },
   {
    "duration": 7,
    "start_time": "2022-05-23T12:23:03.246Z"
   },
   {
    "duration": 7,
    "start_time": "2022-05-23T12:23:20.618Z"
   },
   {
    "duration": 6,
    "start_time": "2022-05-23T12:23:41.723Z"
   },
   {
    "duration": 5,
    "start_time": "2022-05-23T12:26:49.705Z"
   },
   {
    "duration": 4,
    "start_time": "2022-05-23T12:27:21.772Z"
   },
   {
    "duration": 5,
    "start_time": "2022-05-23T12:28:13.441Z"
   },
   {
    "duration": 5,
    "start_time": "2022-05-23T12:28:19.041Z"
   },
   {
    "duration": 9,
    "start_time": "2022-05-23T12:29:00.435Z"
   },
   {
    "duration": 8,
    "start_time": "2022-05-23T12:30:39.425Z"
   },
   {
    "duration": 13,
    "start_time": "2022-05-23T12:31:01.949Z"
   },
   {
    "duration": 13,
    "start_time": "2022-05-23T12:32:01.117Z"
   },
   {
    "duration": 5,
    "start_time": "2022-05-23T12:32:53.041Z"
   },
   {
    "duration": 4,
    "start_time": "2022-05-23T12:33:10.185Z"
   },
   {
    "duration": 8,
    "start_time": "2022-05-23T12:33:44.019Z"
   },
   {
    "duration": 11,
    "start_time": "2022-05-23T12:35:25.319Z"
   },
   {
    "duration": 2,
    "start_time": "2022-05-23T12:40:43.678Z"
   },
   {
    "duration": 57,
    "start_time": "2022-05-23T12:41:18.544Z"
   },
   {
    "duration": 22,
    "start_time": "2022-05-23T12:42:38.310Z"
   },
   {
    "duration": 107,
    "start_time": "2022-05-23T12:43:27.594Z"
   },
   {
    "duration": 33,
    "start_time": "2022-05-23T12:44:10.817Z"
   },
   {
    "duration": 5,
    "start_time": "2022-05-23T12:44:53.875Z"
   },
   {
    "duration": 8,
    "start_time": "2022-05-23T12:45:34.589Z"
   },
   {
    "duration": 9,
    "start_time": "2022-05-23T12:46:01.065Z"
   },
   {
    "duration": 5,
    "start_time": "2022-05-23T12:50:56.815Z"
   },
   {
    "duration": 4,
    "start_time": "2022-05-23T12:51:36.364Z"
   },
   {
    "duration": 5,
    "start_time": "2022-05-23T12:52:00.976Z"
   },
   {
    "duration": 4,
    "start_time": "2022-05-23T12:52:05.954Z"
   },
   {
    "duration": 10,
    "start_time": "2022-05-23T12:53:08.194Z"
   },
   {
    "duration": 9,
    "start_time": "2022-05-23T12:53:18.551Z"
   },
   {
    "duration": 10,
    "start_time": "2022-05-23T13:04:42.059Z"
   },
   {
    "duration": 9,
    "start_time": "2022-05-23T13:05:32.604Z"
   },
   {
    "duration": 9,
    "start_time": "2022-05-23T13:06:23.293Z"
   },
   {
    "duration": 3,
    "start_time": "2022-05-23T13:09:42.133Z"
   },
   {
    "duration": 11,
    "start_time": "2022-05-23T13:10:48.104Z"
   },
   {
    "duration": 3,
    "start_time": "2022-05-23T13:11:03.905Z"
   },
   {
    "duration": 191,
    "start_time": "2022-05-23T13:11:07.580Z"
   },
   {
    "duration": 11,
    "start_time": "2022-05-23T13:11:13.532Z"
   },
   {
    "duration": 26,
    "start_time": "2022-05-23T13:11:23.968Z"
   },
   {
    "duration": 26,
    "start_time": "2022-05-23T13:11:34.569Z"
   },
   {
    "duration": 5,
    "start_time": "2022-05-23T13:12:23.762Z"
   },
   {
    "duration": 10,
    "start_time": "2022-05-23T13:12:47.926Z"
   },
   {
    "duration": 33,
    "start_time": "2022-05-23T13:13:03.519Z"
   },
   {
    "duration": 29,
    "start_time": "2022-05-23T13:13:28.683Z"
   },
   {
    "duration": 11,
    "start_time": "2022-05-23T13:15:04.775Z"
   },
   {
    "duration": 10,
    "start_time": "2022-05-23T13:15:22.029Z"
   },
   {
    "duration": 8,
    "start_time": "2022-05-23T13:15:44.246Z"
   },
   {
    "duration": 9,
    "start_time": "2022-05-23T13:15:50.860Z"
   },
   {
    "duration": 11,
    "start_time": "2022-05-23T13:15:54.164Z"
   },
   {
    "duration": 8,
    "start_time": "2022-05-23T13:16:23.452Z"
   },
   {
    "duration": 7,
    "start_time": "2022-05-23T13:16:26.438Z"
   },
   {
    "duration": 7,
    "start_time": "2022-05-23T13:19:04.676Z"
   },
   {
    "duration": 17,
    "start_time": "2022-05-23T13:20:16.095Z"
   },
   {
    "duration": 7,
    "start_time": "2022-05-23T13:20:23.195Z"
   },
   {
    "duration": 7,
    "start_time": "2022-05-23T13:20:42.291Z"
   },
   {
    "duration": 10,
    "start_time": "2022-05-23T13:21:58.007Z"
   },
   {
    "duration": 2,
    "start_time": "2022-05-23T13:22:44.218Z"
   },
   {
    "duration": 16,
    "start_time": "2022-05-23T13:23:16.411Z"
   },
   {
    "duration": 78,
    "start_time": "2022-05-23T13:23:56.307Z"
   },
   {
    "duration": 29,
    "start_time": "2022-05-23T13:25:43.996Z"
   },
   {
    "duration": 33,
    "start_time": "2022-05-23T13:25:49.374Z"
   },
   {
    "duration": 119,
    "start_time": "2022-05-23T13:28:20.458Z"
   },
   {
    "duration": 11,
    "start_time": "2022-05-23T13:33:34.295Z"
   },
   {
    "duration": 10,
    "start_time": "2022-05-23T13:33:46.297Z"
   },
   {
    "duration": 8,
    "start_time": "2022-05-23T13:40:48.850Z"
   },
   {
    "duration": 8,
    "start_time": "2022-05-23T13:41:00.311Z"
   },
   {
    "duration": 8,
    "start_time": "2022-05-23T13:42:42.762Z"
   },
   {
    "duration": 8,
    "start_time": "2022-05-23T13:42:54.710Z"
   },
   {
    "duration": 84,
    "start_time": "2022-05-23T13:43:05.309Z"
   },
   {
    "duration": 79,
    "start_time": "2022-05-23T13:43:32.581Z"
   },
   {
    "duration": 41,
    "start_time": "2022-05-23T13:44:21.323Z"
   },
   {
    "duration": 42,
    "start_time": "2022-05-23T13:44:32.935Z"
   },
   {
    "duration": 8,
    "start_time": "2022-05-23T13:50:48.430Z"
   },
   {
    "duration": 10,
    "start_time": "2022-05-23T13:51:50.592Z"
   },
   {
    "duration": 17,
    "start_time": "2022-05-23T13:51:53.997Z"
   },
   {
    "duration": 63,
    "start_time": "2022-05-23T13:51:55.600Z"
   },
   {
    "duration": 8,
    "start_time": "2022-05-23T13:53:07.217Z"
   },
   {
    "duration": 5,
    "start_time": "2022-05-23T13:53:14.631Z"
   },
   {
    "duration": 22,
    "start_time": "2022-05-23T13:54:00.887Z"
   },
   {
    "duration": 5,
    "start_time": "2022-05-23T13:55:59.803Z"
   },
   {
    "duration": 14,
    "start_time": "2022-05-23T13:56:04.034Z"
   },
   {
    "duration": 8,
    "start_time": "2022-05-23T13:56:22.023Z"
   },
   {
    "duration": 9,
    "start_time": "2022-05-23T13:56:32.423Z"
   },
   {
    "duration": 11,
    "start_time": "2022-05-23T13:56:59.867Z"
   },
   {
    "duration": 19,
    "start_time": "2022-05-23T13:57:26.334Z"
   },
   {
    "duration": 8,
    "start_time": "2022-05-23T13:58:10.920Z"
   },
   {
    "duration": 13,
    "start_time": "2022-05-23T13:58:14.920Z"
   },
   {
    "duration": 8,
    "start_time": "2022-05-23T13:58:21.064Z"
   },
   {
    "duration": 16,
    "start_time": "2022-05-23T13:58:29.190Z"
   },
   {
    "duration": 25,
    "start_time": "2022-05-23T13:58:42.851Z"
   },
   {
    "duration": 26,
    "start_time": "2022-05-23T14:00:58.306Z"
   },
   {
    "duration": 21,
    "start_time": "2022-05-23T14:03:56.155Z"
   },
   {
    "duration": 11,
    "start_time": "2022-05-23T14:04:12.806Z"
   },
   {
    "duration": 8,
    "start_time": "2022-05-23T14:04:19.366Z"
   },
   {
    "duration": 187,
    "start_time": "2022-05-23T14:05:52.683Z"
   },
   {
    "duration": 4,
    "start_time": "2022-05-23T14:06:15.973Z"
   },
   {
    "duration": 5,
    "start_time": "2022-05-23T14:10:33.367Z"
   },
   {
    "duration": 4,
    "start_time": "2022-05-23T14:10:48.349Z"
   },
   {
    "duration": 11,
    "start_time": "2022-05-23T14:11:02.642Z"
   },
   {
    "duration": 9,
    "start_time": "2022-05-23T14:11:15.871Z"
   },
   {
    "duration": 10,
    "start_time": "2022-05-23T14:11:30.845Z"
   },
   {
    "duration": 9,
    "start_time": "2022-05-23T14:11:56.123Z"
   },
   {
    "duration": 498,
    "start_time": "2022-05-23T14:34:10.245Z"
   },
   {
    "duration": 21,
    "start_time": "2022-05-23T14:34:28.148Z"
   },
   {
    "duration": 30,
    "start_time": "2022-05-23T14:35:05.842Z"
   },
   {
    "duration": 35,
    "start_time": "2022-05-23T14:35:50.220Z"
   },
   {
    "duration": 33,
    "start_time": "2022-05-23T14:35:54.439Z"
   },
   {
    "duration": 28,
    "start_time": "2022-05-23T14:36:12.841Z"
   },
   {
    "duration": 31,
    "start_time": "2022-05-23T14:38:36.202Z"
   },
   {
    "duration": 38,
    "start_time": "2022-05-23T14:38:42.587Z"
   },
   {
    "duration": 29,
    "start_time": "2022-05-23T14:38:56.649Z"
   },
   {
    "duration": 38,
    "start_time": "2022-05-23T14:45:07.139Z"
   },
   {
    "duration": 11,
    "start_time": "2022-05-23T14:49:53.083Z"
   },
   {
    "duration": 9,
    "start_time": "2022-05-23T14:49:59.434Z"
   },
   {
    "duration": 11,
    "start_time": "2022-05-23T14:50:05.683Z"
   },
   {
    "duration": 12,
    "start_time": "2022-05-23T14:56:57.011Z"
   },
   {
    "duration": 15,
    "start_time": "2022-05-23T14:56:59.790Z"
   },
   {
    "duration": 11,
    "start_time": "2022-05-23T14:57:12.472Z"
   },
   {
    "duration": 33,
    "start_time": "2022-05-23T14:58:44.108Z"
   },
   {
    "duration": 6,
    "start_time": "2022-05-23T15:02:55.350Z"
   },
   {
    "duration": 14,
    "start_time": "2022-05-23T15:02:57.963Z"
   },
   {
    "duration": 4,
    "start_time": "2022-05-23T15:03:22.541Z"
   },
   {
    "duration": 9,
    "start_time": "2022-05-23T15:03:25.096Z"
   },
   {
    "duration": 5,
    "start_time": "2022-05-23T15:03:54.983Z"
   },
   {
    "duration": 15,
    "start_time": "2022-05-23T15:04:55.670Z"
   },
   {
    "duration": 14,
    "start_time": "2022-05-23T15:04:59.737Z"
   },
   {
    "duration": 6,
    "start_time": "2022-05-23T15:05:18.494Z"
   },
   {
    "duration": 63,
    "start_time": "2022-05-23T15:05:28.419Z"
   },
   {
    "duration": 5,
    "start_time": "2022-05-23T15:05:34.944Z"
   },
   {
    "duration": 9,
    "start_time": "2022-05-23T15:05:40.210Z"
   },
   {
    "duration": 26,
    "start_time": "2022-05-23T15:05:59.667Z"
   },
   {
    "duration": 28,
    "start_time": "2022-05-23T15:06:36.180Z"
   },
   {
    "duration": 10,
    "start_time": "2022-05-23T15:09:12.775Z"
   },
   {
    "duration": 41,
    "start_time": "2022-05-23T15:09:16.770Z"
   },
   {
    "duration": 3,
    "start_time": "2022-05-23T15:09:19.564Z"
   },
   {
    "duration": 180,
    "start_time": "2022-05-23T15:09:23.966Z"
   },
   {
    "duration": 21,
    "start_time": "2022-05-23T15:09:31.957Z"
   },
   {
    "duration": 5,
    "start_time": "2022-05-23T15:09:34.081Z"
   },
   {
    "duration": 24,
    "start_time": "2022-05-23T15:09:35.644Z"
   },
   {
    "duration": 10,
    "start_time": "2022-05-23T15:09:36.951Z"
   },
   {
    "duration": 5,
    "start_time": "2022-05-23T15:10:12.661Z"
   },
   {
    "duration": 13,
    "start_time": "2022-05-23T15:10:14.377Z"
   },
   {
    "duration": 16,
    "start_time": "2022-05-23T15:11:00.153Z"
   },
   {
    "duration": 9,
    "start_time": "2022-05-23T15:11:17.799Z"
   },
   {
    "duration": 11,
    "start_time": "2022-05-23T15:33:25.413Z"
   },
   {
    "duration": 13,
    "start_time": "2022-05-23T15:34:37.612Z"
   },
   {
    "duration": 14,
    "start_time": "2022-05-23T15:34:56.194Z"
   },
   {
    "duration": 3,
    "start_time": "2022-05-23T15:35:01.709Z"
   },
   {
    "duration": 59,
    "start_time": "2022-05-23T15:40:05.279Z"
   },
   {
    "duration": 8,
    "start_time": "2022-05-23T15:40:24.472Z"
   },
   {
    "duration": 445,
    "start_time": "2022-05-23T15:40:46.487Z"
   },
   {
    "duration": 36,
    "start_time": "2022-05-23T15:40:48.317Z"
   },
   {
    "duration": 14,
    "start_time": "2022-05-23T15:40:50.937Z"
   },
   {
    "duration": 13,
    "start_time": "2022-05-23T15:40:52.617Z"
   },
   {
    "duration": 3,
    "start_time": "2022-05-23T15:41:02.450Z"
   },
   {
    "duration": 20,
    "start_time": "2022-05-23T15:41:04.451Z"
   },
   {
    "duration": 16,
    "start_time": "2022-05-23T15:41:06.762Z"
   },
   {
    "duration": 19,
    "start_time": "2022-05-23T15:41:08.903Z"
   },
   {
    "duration": 18,
    "start_time": "2022-05-23T15:41:10.680Z"
   },
   {
    "duration": 4,
    "start_time": "2022-05-23T15:41:26.542Z"
   },
   {
    "duration": 17,
    "start_time": "2022-05-23T15:41:27.944Z"
   },
   {
    "duration": 18,
    "start_time": "2022-05-23T15:41:31.034Z"
   },
   {
    "duration": 19,
    "start_time": "2022-05-23T15:41:33.380Z"
   },
   {
    "duration": 19,
    "start_time": "2022-05-23T15:41:56.854Z"
   },
   {
    "duration": 8,
    "start_time": "2022-05-23T15:42:07.240Z"
   },
   {
    "duration": 465,
    "start_time": "2022-05-23T16:03:29.731Z"
   },
   {
    "duration": 138,
    "start_time": "2022-05-23T16:03:31.708Z"
   },
   {
    "duration": 463,
    "start_time": "2022-05-23T16:03:33.833Z"
   },
   {
    "duration": 77,
    "start_time": "2022-05-23T16:03:37.606Z"
   },
   {
    "duration": 6,
    "start_time": "2022-05-23T16:03:40.256Z"
   },
   {
    "duration": 6,
    "start_time": "2022-05-23T16:03:42.352Z"
   },
   {
    "duration": 7,
    "start_time": "2022-05-23T16:03:43.672Z"
   },
   {
    "duration": 12,
    "start_time": "2022-05-23T16:03:45.485Z"
   },
   {
    "duration": 20,
    "start_time": "2022-05-23T16:03:50.676Z"
   },
   {
    "duration": 7,
    "start_time": "2022-05-23T16:03:53.749Z"
   },
   {
    "duration": 27,
    "start_time": "2022-05-23T16:03:55.261Z"
   },
   {
    "duration": 9,
    "start_time": "2022-05-23T16:03:56.850Z"
   },
   {
    "duration": 76,
    "start_time": "2022-05-23T16:04:05.967Z"
   },
   {
    "duration": 8,
    "start_time": "2022-05-23T16:04:19.098Z"
   },
   {
    "duration": 10,
    "start_time": "2022-05-23T16:04:21.299Z"
   },
   {
    "duration": 228,
    "start_time": "2022-05-23T16:04:36.362Z"
   },
   {
    "duration": 32,
    "start_time": "2022-05-23T16:04:40.885Z"
   },
   {
    "duration": 487,
    "start_time": "2022-05-23T17:08:24.691Z"
   },
   {
    "duration": 50,
    "start_time": "2022-05-23T17:08:29.891Z"
   },
   {
    "duration": 160,
    "start_time": "2022-05-23T17:08:31.986Z"
   },
   {
    "duration": 114,
    "start_time": "2022-05-23T17:08:33.949Z"
   },
   {
    "duration": 40,
    "start_time": "2022-05-23T17:08:35.758Z"
   },
   {
    "duration": 5,
    "start_time": "2022-05-23T17:08:38.058Z"
   },
   {
    "duration": 6,
    "start_time": "2022-05-23T17:08:39.999Z"
   },
   {
    "duration": 6,
    "start_time": "2022-05-23T17:08:41.824Z"
   },
   {
    "duration": 11,
    "start_time": "2022-05-23T17:08:43.969Z"
   },
   {
    "duration": 7,
    "start_time": "2022-05-23T17:08:45.827Z"
   },
   {
    "duration": 511,
    "start_time": "2022-05-23T17:08:54.756Z"
   },
   {
    "duration": 19,
    "start_time": "2022-05-23T17:09:01.450Z"
   },
   {
    "duration": 97,
    "start_time": "2022-05-23T17:09:03.232Z"
   },
   {
    "duration": 30,
    "start_time": "2022-05-23T17:09:04.655Z"
   },
   {
    "duration": 4,
    "start_time": "2022-05-23T17:09:06.131Z"
   },
   {
    "duration": 29,
    "start_time": "2022-05-23T17:09:08.391Z"
   },
   {
    "duration": 15,
    "start_time": "2022-05-23T17:09:17.921Z"
   },
   {
    "duration": 57,
    "start_time": "2022-05-23T17:09:20.908Z"
   },
   {
    "duration": 4,
    "start_time": "2022-05-23T17:09:22.314Z"
   },
   {
    "duration": 4,
    "start_time": "2022-05-23T17:09:24.246Z"
   },
   {
    "duration": 22,
    "start_time": "2022-05-23T17:09:25.674Z"
   },
   {
    "duration": 8,
    "start_time": "2022-05-23T17:09:27.120Z"
   },
   {
    "duration": 6,
    "start_time": "2022-05-23T17:09:56.075Z"
   },
   {
    "duration": 3,
    "start_time": "2022-05-23T17:10:24.766Z"
   },
   {
    "duration": 14,
    "start_time": "2022-05-23T17:10:26.998Z"
   },
   {
    "duration": 11,
    "start_time": "2022-05-23T17:10:28.500Z"
   },
   {
    "duration": 12,
    "start_time": "2022-05-23T17:12:47.932Z"
   },
   {
    "duration": 10,
    "start_time": "2022-05-23T17:15:52.930Z"
   },
   {
    "duration": 3,
    "start_time": "2022-05-23T17:16:01.897Z"
   },
   {
    "duration": 10,
    "start_time": "2022-05-23T17:16:07.048Z"
   },
   {
    "duration": 3,
    "start_time": "2022-05-23T17:16:18.299Z"
   },
   {
    "duration": 64,
    "start_time": "2022-05-23T17:16:19.990Z"
   },
   {
    "duration": 156,
    "start_time": "2022-05-23T17:16:27.656Z"
   },
   {
    "duration": 11,
    "start_time": "2022-05-23T17:16:34.050Z"
   },
   {
    "duration": 11,
    "start_time": "2022-05-23T17:17:42.975Z"
   },
   {
    "duration": 7,
    "start_time": "2022-05-23T17:18:00.721Z"
   },
   {
    "duration": 9,
    "start_time": "2022-05-23T17:18:06.183Z"
   },
   {
    "duration": 21,
    "start_time": "2022-05-23T17:20:33.593Z"
   },
   {
    "duration": 3258,
    "start_time": "2022-05-23T17:20:55.283Z"
   },
   {
    "duration": 0,
    "start_time": "2022-05-23T17:20:58.543Z"
   },
   {
    "duration": 9,
    "start_time": "2022-05-23T17:21:09.226Z"
   },
   {
    "duration": 11,
    "start_time": "2022-05-23T17:21:24.167Z"
   },
   {
    "duration": 9,
    "start_time": "2022-05-23T17:21:26.460Z"
   },
   {
    "duration": 3,
    "start_time": "2022-05-23T17:21:31.902Z"
   },
   {
    "duration": 53,
    "start_time": "2022-05-23T17:21:33.166Z"
   },
   {
    "duration": 178,
    "start_time": "2022-05-23T17:21:34.684Z"
   },
   {
    "duration": 150,
    "start_time": "2022-05-23T17:21:35.524Z"
   },
   {
    "duration": 122,
    "start_time": "2022-05-23T17:21:36.153Z"
   },
   {
    "duration": 37,
    "start_time": "2022-05-23T17:21:37.747Z"
   },
   {
    "duration": 5,
    "start_time": "2022-05-23T17:21:48.152Z"
   },
   {
    "duration": 27,
    "start_time": "2022-05-23T17:21:49.798Z"
   },
   {
    "duration": 17,
    "start_time": "2022-05-23T17:21:52.083Z"
   },
   {
    "duration": 9,
    "start_time": "2022-05-23T17:21:55.672Z"
   },
   {
    "duration": 566,
    "start_time": "2022-05-23T17:22:27.885Z"
   },
   {
    "duration": 526,
    "start_time": "2022-05-23T17:22:36.558Z"
   },
   {
    "duration": 3,
    "start_time": "2022-05-23T17:22:48.776Z"
   },
   {
    "duration": 54,
    "start_time": "2022-05-23T17:22:58.391Z"
   },
   {
    "duration": 6,
    "start_time": "2022-05-23T17:23:08.890Z"
   },
   {
    "duration": 11,
    "start_time": "2022-05-23T17:23:10.673Z"
   },
   {
    "duration": 21,
    "start_time": "2022-05-23T17:23:21.591Z"
   },
   {
    "duration": 9,
    "start_time": "2022-05-23T17:23:24.199Z"
   },
   {
    "duration": 31,
    "start_time": "2022-05-23T17:23:27.249Z"
   },
   {
    "duration": 14,
    "start_time": "2022-05-23T17:23:50.823Z"
   },
   {
    "duration": 21,
    "start_time": "2022-05-23T17:24:29.388Z"
   },
   {
    "duration": 18,
    "start_time": "2022-05-23T17:26:59.990Z"
   },
   {
    "duration": 15,
    "start_time": "2022-05-23T17:27:53.397Z"
   },
   {
    "duration": 3,
    "start_time": "2022-05-23T17:27:58.864Z"
   },
   {
    "duration": 49,
    "start_time": "2022-05-23T17:27:59.249Z"
   },
   {
    "duration": 177,
    "start_time": "2022-05-23T17:27:59.683Z"
   },
   {
    "duration": 142,
    "start_time": "2022-05-23T17:28:00.095Z"
   },
   {
    "duration": 112,
    "start_time": "2022-05-23T17:28:00.556Z"
   },
   {
    "duration": 28,
    "start_time": "2022-05-23T17:28:01.024Z"
   },
   {
    "duration": 6,
    "start_time": "2022-05-23T17:28:02.419Z"
   },
   {
    "duration": 6,
    "start_time": "2022-05-23T17:28:03.108Z"
   },
   {
    "duration": 6,
    "start_time": "2022-05-23T17:28:03.581Z"
   },
   {
    "duration": 11,
    "start_time": "2022-05-23T17:28:03.952Z"
   },
   {
    "duration": 18,
    "start_time": "2022-05-23T17:28:04.812Z"
   },
   {
    "duration": 88,
    "start_time": "2022-05-23T17:28:05.383Z"
   },
   {
    "duration": 31,
    "start_time": "2022-05-23T17:28:05.756Z"
   },
   {
    "duration": 5,
    "start_time": "2022-05-23T17:28:06.268Z"
   },
   {
    "duration": 22,
    "start_time": "2022-05-23T17:28:06.710Z"
   },
   {
    "duration": 8,
    "start_time": "2022-05-23T17:28:07.180Z"
   },
   {
    "duration": 15,
    "start_time": "2022-05-23T17:28:08.045Z"
   },
   {
    "duration": 57,
    "start_time": "2022-05-23T17:28:08.494Z"
   },
   {
    "duration": 6,
    "start_time": "2022-05-23T17:28:09.327Z"
   },
   {
    "duration": 22,
    "start_time": "2022-05-23T17:28:13.046Z"
   },
   {
    "duration": 17,
    "start_time": "2022-05-23T17:28:13.070Z"
   },
   {
    "duration": 8,
    "start_time": "2022-05-23T17:28:14.172Z"
   },
   {
    "duration": 30,
    "start_time": "2022-05-23T17:28:18.748Z"
   },
   {
    "duration": 20,
    "start_time": "2022-05-23T17:28:19.152Z"
   },
   {
    "duration": 8,
    "start_time": "2022-05-23T17:28:20.172Z"
   },
   {
    "duration": 32,
    "start_time": "2022-05-23T17:28:22.616Z"
   },
   {
    "duration": 33,
    "start_time": "2022-05-23T17:28:32.249Z"
   },
   {
    "duration": 310,
    "start_time": "2022-05-23T17:29:35.887Z"
   },
   {
    "duration": 54,
    "start_time": "2022-05-23T17:31:07.452Z"
   },
   {
    "duration": 16,
    "start_time": "2022-05-23T17:33:55.122Z"
   },
   {
    "duration": 21,
    "start_time": "2022-05-23T17:34:02.214Z"
   },
   {
    "duration": 9,
    "start_time": "2022-05-23T17:34:24.849Z"
   },
   {
    "duration": 29,
    "start_time": "2022-05-23T17:35:17.327Z"
   },
   {
    "duration": 586,
    "start_time": "2022-05-23T17:35:32.354Z"
   },
   {
    "duration": 369,
    "start_time": "2022-05-23T17:35:39.514Z"
   },
   {
    "duration": 22,
    "start_time": "2022-05-23T17:35:42.644Z"
   },
   {
    "duration": 28,
    "start_time": "2022-05-23T17:37:15.690Z"
   },
   {
    "duration": 9,
    "start_time": "2022-05-23T17:43:31.115Z"
   },
   {
    "duration": 60,
    "start_time": "2022-05-23T17:43:39.763Z"
   },
   {
    "duration": 23,
    "start_time": "2022-05-23T17:43:41.825Z"
   },
   {
    "duration": 29,
    "start_time": "2022-05-23T17:43:43.845Z"
   },
   {
    "duration": 13,
    "start_time": "2022-05-23T17:43:45.818Z"
   },
   {
    "duration": 2,
    "start_time": "2022-05-23T17:43:54.441Z"
   },
   {
    "duration": 53,
    "start_time": "2022-05-23T17:43:56.144Z"
   },
   {
    "duration": 57,
    "start_time": "2022-05-23T17:44:03.148Z"
   },
   {
    "duration": 23,
    "start_time": "2022-05-23T17:44:05.296Z"
   },
   {
    "duration": 33,
    "start_time": "2022-05-23T17:44:07.146Z"
   },
   {
    "duration": 10,
    "start_time": "2022-05-23T17:44:09.423Z"
   },
   {
    "duration": 17,
    "start_time": "2022-05-23T17:45:31.177Z"
   },
   {
    "duration": 9,
    "start_time": "2022-05-23T17:45:47.346Z"
   },
   {
    "duration": 23,
    "start_time": "2022-05-23T17:45:56.048Z"
   },
   {
    "duration": 21,
    "start_time": "2022-05-23T17:47:13.611Z"
   },
   {
    "duration": 21,
    "start_time": "2022-05-23T17:47:25.746Z"
   },
   {
    "duration": 63,
    "start_time": "2022-05-23T17:49:03.458Z"
   },
   {
    "duration": 23,
    "start_time": "2022-05-23T17:49:12.694Z"
   },
   {
    "duration": 42,
    "start_time": "2022-05-23T17:49:18.688Z"
   },
   {
    "duration": 41,
    "start_time": "2022-05-23T17:49:39.292Z"
   },
   {
    "duration": 27,
    "start_time": "2022-05-23T17:49:44.470Z"
   },
   {
    "duration": 39,
    "start_time": "2022-05-23T17:49:56.086Z"
   },
   {
    "duration": 45,
    "start_time": "2022-05-23T17:50:01.884Z"
   },
   {
    "duration": 14,
    "start_time": "2022-05-23T17:50:10.156Z"
   },
   {
    "duration": 34,
    "start_time": "2022-05-23T17:53:11.948Z"
   },
   {
    "duration": 70,
    "start_time": "2022-05-23T17:53:23.717Z"
   },
   {
    "duration": 64,
    "start_time": "2022-05-23T17:53:38.022Z"
   },
   {
    "duration": 65,
    "start_time": "2022-05-23T17:53:56.389Z"
   },
   {
    "duration": 20,
    "start_time": "2022-05-23T17:54:32.349Z"
   },
   {
    "duration": 28,
    "start_time": "2022-05-23T17:54:40.742Z"
   },
   {
    "duration": 22,
    "start_time": "2022-05-23T17:54:45.562Z"
   },
   {
    "duration": 13,
    "start_time": "2022-05-23T17:54:49.470Z"
   },
   {
    "duration": 12,
    "start_time": "2022-05-23T17:55:02.053Z"
   },
   {
    "duration": 15,
    "start_time": "2022-05-23T17:56:50.104Z"
   },
   {
    "duration": 3,
    "start_time": "2022-05-23T17:57:03.044Z"
   },
   {
    "duration": 52,
    "start_time": "2022-05-23T17:57:03.536Z"
   },
   {
    "duration": 180,
    "start_time": "2022-05-23T17:57:04.055Z"
   },
   {
    "duration": 166,
    "start_time": "2022-05-23T17:57:04.558Z"
   },
   {
    "duration": 117,
    "start_time": "2022-05-23T17:57:05.044Z"
   },
   {
    "duration": 39,
    "start_time": "2022-05-23T17:57:05.644Z"
   },
   {
    "duration": 7,
    "start_time": "2022-05-23T17:57:09.403Z"
   },
   {
    "duration": 7,
    "start_time": "2022-05-23T17:57:10.367Z"
   },
   {
    "duration": 6,
    "start_time": "2022-05-23T17:57:10.843Z"
   },
   {
    "duration": 12,
    "start_time": "2022-05-23T17:57:12.349Z"
   },
   {
    "duration": 20,
    "start_time": "2022-05-23T17:57:13.408Z"
   },
   {
    "duration": 103,
    "start_time": "2022-05-23T17:57:13.877Z"
   },
   {
    "duration": 33,
    "start_time": "2022-05-23T17:57:15.545Z"
   },
   {
    "duration": 5,
    "start_time": "2022-05-23T17:57:15.947Z"
   },
   {
    "duration": 24,
    "start_time": "2022-05-23T17:57:16.378Z"
   },
   {
    "duration": 10,
    "start_time": "2022-05-23T17:57:16.843Z"
   },
   {
    "duration": 15,
    "start_time": "2022-05-23T17:57:17.844Z"
   },
   {
    "duration": 64,
    "start_time": "2022-05-23T17:57:18.303Z"
   },
   {
    "duration": 6,
    "start_time": "2022-05-23T17:57:18.811Z"
   },
   {
    "duration": 22,
    "start_time": "2022-05-23T17:57:19.308Z"
   },
   {
    "duration": 19,
    "start_time": "2022-05-23T17:57:20.513Z"
   },
   {
    "duration": 9,
    "start_time": "2022-05-23T17:57:21.545Z"
   },
   {
    "duration": 32,
    "start_time": "2022-05-23T17:57:24.724Z"
   },
   {
    "duration": 20,
    "start_time": "2022-05-23T17:57:26.457Z"
   },
   {
    "duration": 8,
    "start_time": "2022-05-23T17:57:29.581Z"
   },
   {
    "duration": 49,
    "start_time": "2022-05-23T17:57:34.057Z"
   },
   {
    "duration": 22,
    "start_time": "2022-05-23T17:57:34.571Z"
   },
   {
    "duration": 28,
    "start_time": "2022-05-23T17:57:35.101Z"
   },
   {
    "duration": 24,
    "start_time": "2022-05-23T17:58:57.760Z"
   },
   {
    "duration": 28,
    "start_time": "2022-05-23T17:59:03.528Z"
   },
   {
    "duration": 13,
    "start_time": "2022-05-23T18:00:27.690Z"
   },
   {
    "duration": 12,
    "start_time": "2022-05-23T18:01:03.124Z"
   },
   {
    "duration": 12,
    "start_time": "2022-05-23T18:01:15.361Z"
   },
   {
    "duration": 12,
    "start_time": "2022-05-23T18:01:28.648Z"
   },
   {
    "duration": 11,
    "start_time": "2022-05-23T18:01:35.682Z"
   },
   {
    "duration": 23,
    "start_time": "2022-05-23T18:01:53.603Z"
   },
   {
    "duration": 23,
    "start_time": "2022-05-23T18:02:08.824Z"
   },
   {
    "duration": 13,
    "start_time": "2022-05-23T18:02:12.624Z"
   },
   {
    "duration": 56,
    "start_time": "2022-05-23T18:02:20.745Z"
   },
   {
    "duration": 28,
    "start_time": "2022-05-23T18:02:26.850Z"
   },
   {
    "duration": 21,
    "start_time": "2022-05-23T18:02:33.585Z"
   },
   {
    "duration": 18,
    "start_time": "2022-05-23T18:03:04.000Z"
   },
   {
    "duration": 20,
    "start_time": "2022-05-23T18:07:44.247Z"
   },
   {
    "duration": 10,
    "start_time": "2022-05-23T18:07:56.603Z"
   },
   {
    "duration": 22,
    "start_time": "2022-05-23T18:08:05.013Z"
   },
   {
    "duration": 16,
    "start_time": "2022-05-23T18:09:21.970Z"
   },
   {
    "duration": 42,
    "start_time": "2022-05-23T18:09:31.016Z"
   },
   {
    "duration": 26,
    "start_time": "2022-05-23T18:10:30.007Z"
   },
   {
    "duration": 37,
    "start_time": "2022-05-23T18:10:51.797Z"
   },
   {
    "duration": 37,
    "start_time": "2022-05-23T18:14:00.675Z"
   },
   {
    "duration": 9,
    "start_time": "2022-05-23T18:14:02.454Z"
   },
   {
    "duration": 45,
    "start_time": "2022-05-23T18:14:10.448Z"
   },
   {
    "duration": 16,
    "start_time": "2022-05-23T18:14:23.394Z"
   },
   {
    "duration": 40,
    "start_time": "2022-05-23T18:15:04.920Z"
   },
   {
    "duration": 36,
    "start_time": "2022-05-23T18:15:28.948Z"
   },
   {
    "duration": 3,
    "start_time": "2022-05-23T18:15:38.757Z"
   },
   {
    "duration": 53,
    "start_time": "2022-05-23T18:15:40.518Z"
   },
   {
    "duration": 169,
    "start_time": "2022-05-23T18:15:45.485Z"
   },
   {
    "duration": 49,
    "start_time": "2022-05-23T18:15:50.479Z"
   },
   {
    "duration": 41,
    "start_time": "2022-05-23T18:16:01.166Z"
   },
   {
    "duration": 16,
    "start_time": "2022-05-23T18:19:39.617Z"
   },
   {
    "duration": 89,
    "start_time": "2022-05-23T18:20:19.089Z"
   },
   {
    "duration": 2,
    "start_time": "2022-05-23T18:20:23.306Z"
   },
   {
    "duration": 64,
    "start_time": "2022-05-23T18:20:23.761Z"
   },
   {
    "duration": 165,
    "start_time": "2022-05-23T18:20:36.240Z"
   },
   {
    "duration": 50,
    "start_time": "2022-05-23T18:20:47.172Z"
   },
   {
    "duration": 34,
    "start_time": "2022-05-23T18:20:51.428Z"
   },
   {
    "duration": 70,
    "start_time": "2022-05-23T18:22:39.094Z"
   },
   {
    "duration": 58,
    "start_time": "2022-05-23T18:22:53.057Z"
   },
   {
    "duration": 10,
    "start_time": "2022-05-23T18:26:00.848Z"
   },
   {
    "duration": 7,
    "start_time": "2022-05-23T18:26:12.722Z"
   },
   {
    "duration": 19,
    "start_time": "2022-05-23T18:26:21.228Z"
   },
   {
    "duration": 33,
    "start_time": "2022-05-23T18:27:06.025Z"
   },
   {
    "duration": 46,
    "start_time": "2022-05-23T18:27:18.453Z"
   },
   {
    "duration": 67,
    "start_time": "2022-05-23T18:27:35.996Z"
   },
   {
    "duration": 24,
    "start_time": "2022-05-23T18:31:45.376Z"
   },
   {
    "duration": 25,
    "start_time": "2022-05-23T18:32:02.457Z"
   },
   {
    "duration": 26,
    "start_time": "2022-05-23T18:32:11.892Z"
   },
   {
    "duration": 3,
    "start_time": "2022-05-23T18:32:19.581Z"
   },
   {
    "duration": 62,
    "start_time": "2022-05-23T18:32:19.969Z"
   },
   {
    "duration": 161,
    "start_time": "2022-05-23T18:32:24.149Z"
   },
   {
    "duration": 114,
    "start_time": "2022-05-23T18:32:24.405Z"
   },
   {
    "duration": 28,
    "start_time": "2022-05-23T18:32:24.521Z"
   },
   {
    "duration": 48,
    "start_time": "2022-05-23T18:32:29.010Z"
   },
   {
    "duration": 37,
    "start_time": "2022-05-23T18:32:38.045Z"
   },
   {
    "duration": 25,
    "start_time": "2022-05-23T18:32:56.410Z"
   },
   {
    "duration": 26,
    "start_time": "2022-05-23T18:33:03.230Z"
   },
   {
    "duration": 24,
    "start_time": "2022-05-23T18:33:29.248Z"
   },
   {
    "duration": 74,
    "start_time": "2022-05-23T18:33:51.071Z"
   },
   {
    "duration": 15,
    "start_time": "2022-05-23T18:34:04.683Z"
   },
   {
    "duration": 183,
    "start_time": "2022-05-23T18:34:20.481Z"
   },
   {
    "duration": 15,
    "start_time": "2022-05-23T18:34:25.321Z"
   },
   {
    "duration": 30,
    "start_time": "2022-05-23T18:34:31.451Z"
   },
   {
    "duration": 419,
    "start_time": "2022-05-23T18:34:55.007Z"
   },
   {
    "duration": 63,
    "start_time": "2022-05-23T18:34:55.429Z"
   },
   {
    "duration": 192,
    "start_time": "2022-05-23T18:34:55.749Z"
   },
   {
    "duration": 149,
    "start_time": "2022-05-23T18:34:56.197Z"
   },
   {
    "duration": 119,
    "start_time": "2022-05-23T18:34:56.676Z"
   },
   {
    "duration": 29,
    "start_time": "2022-05-23T18:34:57.083Z"
   },
   {
    "duration": 19,
    "start_time": "2022-05-23T18:34:58.469Z"
   },
   {
    "duration": 84,
    "start_time": "2022-05-23T18:34:59.378Z"
   },
   {
    "duration": 51,
    "start_time": "2022-05-23T18:35:00.277Z"
   },
   {
    "duration": 44,
    "start_time": "2022-05-23T18:35:01.213Z"
   },
   {
    "duration": 10,
    "start_time": "2022-05-23T18:35:02.128Z"
   },
   {
    "duration": 61,
    "start_time": "2022-05-23T18:35:04.188Z"
   },
   {
    "duration": 33,
    "start_time": "2022-05-23T18:35:11.031Z"
   },
   {
    "duration": 29,
    "start_time": "2022-05-23T18:35:18.045Z"
   },
   {
    "duration": 28,
    "start_time": "2022-05-23T18:35:29.970Z"
   },
   {
    "duration": 2,
    "start_time": "2022-05-23T18:40:36.087Z"
   },
   {
    "duration": 3,
    "start_time": "2022-05-23T18:40:42.879Z"
   },
   {
    "duration": 11,
    "start_time": "2022-05-23T18:41:15.994Z"
   },
   {
    "duration": 11,
    "start_time": "2022-05-23T18:42:34.472Z"
   },
   {
    "duration": 50,
    "start_time": "2022-05-23T18:44:22.586Z"
   },
   {
    "duration": 31,
    "start_time": "2022-05-23T18:44:27.770Z"
   },
   {
    "duration": 41,
    "start_time": "2022-05-23T18:44:41.177Z"
   },
   {
    "duration": 11,
    "start_time": "2022-05-23T18:44:46.515Z"
   },
   {
    "duration": 15,
    "start_time": "2022-05-23T18:44:48.623Z"
   },
   {
    "duration": 10,
    "start_time": "2022-05-23T18:44:50.474Z"
   },
   {
    "duration": 22,
    "start_time": "2022-05-23T18:44:55.600Z"
   },
   {
    "duration": 9,
    "start_time": "2022-05-23T18:46:54.957Z"
   },
   {
    "duration": 43,
    "start_time": "2022-05-23T18:49:10.319Z"
   },
   {
    "duration": 35,
    "start_time": "2022-05-23T18:49:33.873Z"
   },
   {
    "duration": 43,
    "start_time": "2022-05-23T18:49:37.775Z"
   },
   {
    "duration": 60,
    "start_time": "2022-05-23T18:51:48.821Z"
   },
   {
    "duration": 6,
    "start_time": "2022-05-23T18:52:06.357Z"
   },
   {
    "duration": 486,
    "start_time": "2022-05-23T18:52:12.940Z"
   },
   {
    "duration": 60,
    "start_time": "2022-05-23T18:52:13.429Z"
   },
   {
    "duration": 189,
    "start_time": "2022-05-23T18:52:13.809Z"
   },
   {
    "duration": 157,
    "start_time": "2022-05-23T18:52:14.207Z"
   },
   {
    "duration": 121,
    "start_time": "2022-05-23T18:52:14.612Z"
   },
   {
    "duration": 28,
    "start_time": "2022-05-23T18:52:15.057Z"
   },
   {
    "duration": 16,
    "start_time": "2022-05-23T18:52:16.313Z"
   },
   {
    "duration": 64,
    "start_time": "2022-05-23T18:52:17.164Z"
   },
   {
    "duration": 49,
    "start_time": "2022-05-23T18:52:17.982Z"
   },
   {
    "duration": 39,
    "start_time": "2022-05-23T18:52:18.820Z"
   },
   {
    "duration": 10,
    "start_time": "2022-05-23T18:52:20.005Z"
   },
   {
    "duration": 61,
    "start_time": "2022-05-23T18:52:20.568Z"
   },
   {
    "duration": 24,
    "start_time": "2022-05-23T18:52:21.004Z"
   },
   {
    "duration": 29,
    "start_time": "2022-05-23T18:52:21.444Z"
   },
   {
    "duration": 12,
    "start_time": "2022-05-23T18:52:21.890Z"
   },
   {
    "duration": 10,
    "start_time": "2022-05-23T18:52:22.342Z"
   },
   {
    "duration": 8,
    "start_time": "2022-05-23T18:52:26.984Z"
   },
   {
    "duration": 51,
    "start_time": "2022-05-23T18:54:33.296Z"
   },
   {
    "duration": 63,
    "start_time": "2022-05-23T18:54:41.456Z"
   },
   {
    "duration": 55,
    "start_time": "2022-05-23T18:54:47.069Z"
   },
   {
    "duration": 2,
    "start_time": "2022-05-23T18:54:54.556Z"
   },
   {
    "duration": 61,
    "start_time": "2022-05-23T18:54:55.273Z"
   },
   {
    "duration": 180,
    "start_time": "2022-05-23T18:54:55.684Z"
   },
   {
    "duration": 163,
    "start_time": "2022-05-23T18:55:01.374Z"
   },
   {
    "duration": 113,
    "start_time": "2022-05-23T18:55:01.539Z"
   },
   {
    "duration": 30,
    "start_time": "2022-05-23T18:55:01.654Z"
   },
   {
    "duration": 22,
    "start_time": "2022-05-23T18:55:01.686Z"
   },
   {
    "duration": 66,
    "start_time": "2022-05-23T18:55:02.451Z"
   },
   {
    "duration": 49,
    "start_time": "2022-05-23T18:55:02.519Z"
   },
   {
    "duration": 48,
    "start_time": "2022-05-23T18:55:02.981Z"
   },
   {
    "duration": 8,
    "start_time": "2022-05-23T18:55:04.557Z"
   },
   {
    "duration": 53,
    "start_time": "2022-05-23T18:55:06.499Z"
   },
   {
    "duration": 63,
    "start_time": "2022-05-23T18:55:35.261Z"
   },
   {
    "duration": 39,
    "start_time": "2022-05-23T18:55:46.723Z"
   },
   {
    "duration": 36,
    "start_time": "2022-05-23T18:55:49.869Z"
   },
   {
    "duration": 26,
    "start_time": "2022-05-23T19:03:27.749Z"
   },
   {
    "duration": 37,
    "start_time": "2022-05-23T19:16:24.987Z"
   },
   {
    "duration": 22,
    "start_time": "2022-05-23T19:16:41.191Z"
   },
   {
    "duration": 18,
    "start_time": "2022-05-23T19:16:52.949Z"
   },
   {
    "duration": 57,
    "start_time": "2022-05-23T19:21:09.155Z"
   },
   {
    "duration": 50,
    "start_time": "2022-05-23T19:21:20.878Z"
   },
   {
    "duration": 52,
    "start_time": "2022-05-23T19:22:48.905Z"
   },
   {
    "duration": 2,
    "start_time": "2022-05-23T19:22:57.388Z"
   },
   {
    "duration": 95,
    "start_time": "2022-05-23T19:22:57.853Z"
   },
   {
    "duration": 197,
    "start_time": "2022-05-23T19:22:58.261Z"
   },
   {
    "duration": 332,
    "start_time": "2022-05-23T19:22:58.681Z"
   },
   {
    "duration": 130,
    "start_time": "2022-05-23T19:22:59.100Z"
   },
   {
    "duration": 27,
    "start_time": "2022-05-23T19:22:59.550Z"
   },
   {
    "duration": 26,
    "start_time": "2022-05-23T19:23:00.846Z"
   },
   {
    "duration": 93,
    "start_time": "2022-05-23T19:23:01.768Z"
   },
   {
    "duration": 63,
    "start_time": "2022-05-23T19:23:02.645Z"
   },
   {
    "duration": 37,
    "start_time": "2022-05-23T19:23:03.510Z"
   },
   {
    "duration": 8,
    "start_time": "2022-05-23T19:23:04.391Z"
   },
   {
    "duration": 49,
    "start_time": "2022-05-23T19:23:05.351Z"
   },
   {
    "duration": 22,
    "start_time": "2022-05-23T19:23:05.799Z"
   },
   {
    "duration": 27,
    "start_time": "2022-05-23T19:23:06.275Z"
   },
   {
    "duration": 12,
    "start_time": "2022-05-23T19:23:06.742Z"
   },
   {
    "duration": 16,
    "start_time": "2022-05-23T19:23:07.196Z"
   },
   {
    "duration": 62,
    "start_time": "2022-05-23T19:23:29.275Z"
   },
   {
    "duration": 90,
    "start_time": "2022-05-23T19:25:06.059Z"
   },
   {
    "duration": 3,
    "start_time": "2022-05-23T19:25:10.288Z"
   },
   {
    "duration": 51,
    "start_time": "2022-05-23T19:25:10.782Z"
   },
   {
    "duration": 53,
    "start_time": "2022-05-23T19:25:17.185Z"
   },
   {
    "duration": 56,
    "start_time": "2022-05-23T19:25:34.537Z"
   },
   {
    "duration": 77,
    "start_time": "2022-05-23T19:25:48.561Z"
   },
   {
    "duration": 59,
    "start_time": "2022-05-23T19:26:14.284Z"
   },
   {
    "duration": 18,
    "start_time": "2022-05-23T19:27:13.262Z"
   },
   {
    "duration": 802,
    "start_time": "2022-05-23T19:27:39.845Z"
   },
   {
    "duration": 100,
    "start_time": "2022-05-23T19:27:40.649Z"
   },
   {
    "duration": 534,
    "start_time": "2022-05-23T19:27:40.839Z"
   },
   {
    "duration": 415,
    "start_time": "2022-05-23T19:27:41.375Z"
   },
   {
    "duration": 164,
    "start_time": "2022-05-23T19:27:41.792Z"
   },
   {
    "duration": 59,
    "start_time": "2022-05-23T19:27:42.254Z"
   },
   {
    "duration": 17,
    "start_time": "2022-05-23T19:27:43.589Z"
   },
   {
    "duration": 76,
    "start_time": "2022-05-23T19:27:44.558Z"
   },
   {
    "duration": 49,
    "start_time": "2022-05-23T19:27:45.658Z"
   },
   {
    "duration": 38,
    "start_time": "2022-05-23T19:27:46.638Z"
   },
   {
    "duration": 8,
    "start_time": "2022-05-23T19:27:47.557Z"
   },
   {
    "duration": 68,
    "start_time": "2022-05-23T19:27:48.560Z"
   },
   {
    "duration": 26,
    "start_time": "2022-05-23T19:27:49.016Z"
   },
   {
    "duration": 28,
    "start_time": "2022-05-23T19:27:49.593Z"
   },
   {
    "duration": 11,
    "start_time": "2022-05-23T19:27:50.346Z"
   },
   {
    "duration": 81,
    "start_time": "2022-05-23T19:27:50.569Z"
   },
   {
    "duration": 49,
    "start_time": "2022-05-23T19:28:13.442Z"
   },
   {
    "duration": 12,
    "start_time": "2022-05-23T19:28:17.976Z"
   },
   {
    "duration": 16,
    "start_time": "2022-05-23T19:28:38.786Z"
   },
   {
    "duration": 12,
    "start_time": "2022-05-23T19:29:46.242Z"
   },
   {
    "duration": 57,
    "start_time": "2022-05-23T19:30:43.608Z"
   },
   {
    "duration": 39,
    "start_time": "2022-05-23T19:31:50.947Z"
   },
   {
    "duration": 52,
    "start_time": "2022-05-23T19:32:18.436Z"
   },
   {
    "duration": 48,
    "start_time": "2022-05-23T19:32:26.273Z"
   },
   {
    "duration": 52,
    "start_time": "2022-05-23T19:35:17.969Z"
   },
   {
    "duration": 29,
    "start_time": "2022-05-23T19:37:16.194Z"
   },
   {
    "duration": 36,
    "start_time": "2022-05-23T19:39:05.115Z"
   },
   {
    "duration": 726,
    "start_time": "2022-05-23T19:39:16.811Z"
   },
   {
    "duration": 43,
    "start_time": "2022-05-23T19:39:31.259Z"
   },
   {
    "duration": 45,
    "start_time": "2022-05-23T19:39:57.163Z"
   },
   {
    "duration": 34,
    "start_time": "2022-05-23T19:40:14.182Z"
   },
   {
    "duration": 44,
    "start_time": "2022-05-23T19:40:31.059Z"
   },
   {
    "duration": 43,
    "start_time": "2022-05-23T19:40:51.073Z"
   },
   {
    "duration": 48,
    "start_time": "2022-05-23T19:41:11.862Z"
   },
   {
    "duration": 35,
    "start_time": "2022-05-23T19:41:24.996Z"
   },
   {
    "duration": 71,
    "start_time": "2022-05-23T19:41:52.052Z"
   },
   {
    "duration": 27,
    "start_time": "2022-05-23T19:46:00.356Z"
   },
   {
    "duration": 29,
    "start_time": "2022-05-23T19:46:10.093Z"
   },
   {
    "duration": 31,
    "start_time": "2022-05-23T19:46:34.473Z"
   },
   {
    "duration": 34,
    "start_time": "2022-05-23T19:46:40.787Z"
   },
   {
    "duration": 8,
    "start_time": "2022-05-23T19:46:48.849Z"
   },
   {
    "duration": 4,
    "start_time": "2022-05-23T19:47:30.710Z"
   },
   {
    "duration": 8,
    "start_time": "2022-05-23T19:48:43.296Z"
   },
   {
    "duration": 8,
    "start_time": "2022-05-23T19:49:04.576Z"
   },
   {
    "duration": 11,
    "start_time": "2022-05-23T19:49:11.090Z"
   },
   {
    "duration": 3,
    "start_time": "2022-05-23T19:49:19.153Z"
   },
   {
    "duration": 5,
    "start_time": "2022-05-23T19:49:25.316Z"
   },
   {
    "duration": 12,
    "start_time": "2022-05-23T19:49:37.770Z"
   },
   {
    "duration": 7,
    "start_time": "2022-05-23T19:50:21.516Z"
   },
   {
    "duration": 444,
    "start_time": "2022-05-23T19:51:15.022Z"
   },
   {
    "duration": 59,
    "start_time": "2022-05-23T19:51:15.468Z"
   },
   {
    "duration": 180,
    "start_time": "2022-05-23T19:51:15.821Z"
   },
   {
    "duration": 165,
    "start_time": "2022-05-23T19:51:16.662Z"
   },
   {
    "duration": 138,
    "start_time": "2022-05-23T19:51:17.058Z"
   },
   {
    "duration": 32,
    "start_time": "2022-05-23T19:51:17.473Z"
   },
   {
    "duration": 21,
    "start_time": "2022-05-23T19:51:18.766Z"
   },
   {
    "duration": 62,
    "start_time": "2022-05-23T19:51:19.547Z"
   },
   {
    "duration": 50,
    "start_time": "2022-05-23T19:51:20.398Z"
   },
   {
    "duration": 54,
    "start_time": "2022-05-23T19:51:21.191Z"
   },
   {
    "duration": 11,
    "start_time": "2022-05-23T19:51:22.029Z"
   },
   {
    "duration": 72,
    "start_time": "2022-05-23T19:51:22.867Z"
   },
   {
    "duration": 143,
    "start_time": "2022-05-23T19:52:46.925Z"
   },
   {
    "duration": 25,
    "start_time": "2022-05-23T19:53:36.919Z"
   },
   {
    "duration": 38,
    "start_time": "2022-05-23T19:53:49.213Z"
   },
   {
    "duration": 9,
    "start_time": "2022-05-23T19:54:01.558Z"
   },
   {
    "duration": 34,
    "start_time": "2022-05-23T19:54:14.315Z"
   },
   {
    "duration": 10,
    "start_time": "2022-05-23T19:54:18.192Z"
   },
   {
    "duration": 45,
    "start_time": "2022-05-23T19:54:28.107Z"
   },
   {
    "duration": 3,
    "start_time": "2022-05-23T19:54:34.301Z"
   },
   {
    "duration": 51,
    "start_time": "2022-05-23T19:54:34.961Z"
   },
   {
    "duration": 190,
    "start_time": "2022-05-23T19:54:35.522Z"
   },
   {
    "duration": 172,
    "start_time": "2022-05-23T19:54:36.089Z"
   },
   {
    "duration": 112,
    "start_time": "2022-05-23T19:54:36.653Z"
   },
   {
    "duration": 37,
    "start_time": "2022-05-23T19:54:37.195Z"
   },
   {
    "duration": 13,
    "start_time": "2022-05-23T19:54:38.855Z"
   },
   {
    "duration": 59,
    "start_time": "2022-05-23T19:54:39.957Z"
   },
   {
    "duration": 54,
    "start_time": "2022-05-23T19:54:41.056Z"
   },
   {
    "duration": 40,
    "start_time": "2022-05-23T19:54:42.189Z"
   },
   {
    "duration": 8,
    "start_time": "2022-05-23T19:54:43.396Z"
   },
   {
    "duration": 38,
    "start_time": "2022-05-23T19:54:44.589Z"
   },
   {
    "duration": 31,
    "start_time": "2022-05-23T19:54:45.256Z"
   },
   {
    "duration": 43,
    "start_time": "2022-05-23T19:54:46.111Z"
   },
   {
    "duration": 17,
    "start_time": "2022-05-23T19:54:46.801Z"
   },
   {
    "duration": 11,
    "start_time": "2022-05-23T19:54:47.517Z"
   },
   {
    "duration": 20,
    "start_time": "2022-05-23T19:54:55.525Z"
   },
   {
    "duration": 25,
    "start_time": "2022-05-23T19:55:32.954Z"
   },
   {
    "duration": 33,
    "start_time": "2022-05-23T19:56:13.325Z"
   },
   {
    "duration": 27,
    "start_time": "2022-05-23T19:56:24.557Z"
   },
   {
    "duration": 22,
    "start_time": "2022-05-23T19:56:40.756Z"
   },
   {
    "duration": 18,
    "start_time": "2022-05-23T19:57:22.511Z"
   },
   {
    "duration": 13,
    "start_time": "2022-05-23T19:58:32.157Z"
   },
   {
    "duration": 26,
    "start_time": "2022-05-23T19:59:25.176Z"
   },
   {
    "duration": 16,
    "start_time": "2022-05-23T19:59:44.244Z"
   },
   {
    "duration": 19,
    "start_time": "2022-05-23T20:00:07.414Z"
   },
   {
    "duration": 41,
    "start_time": "2022-05-23T20:00:12.229Z"
   },
   {
    "duration": 41,
    "start_time": "2022-05-23T20:00:44.760Z"
   },
   {
    "duration": 29,
    "start_time": "2022-05-23T20:02:24.424Z"
   },
   {
    "duration": 481,
    "start_time": "2022-05-24T06:01:19.586Z"
   },
   {
    "duration": 138,
    "start_time": "2022-05-24T06:01:20.069Z"
   },
   {
    "duration": 282,
    "start_time": "2022-05-24T06:01:20.417Z"
   },
   {
    "duration": 328,
    "start_time": "2022-05-24T06:01:20.799Z"
   },
   {
    "duration": 591,
    "start_time": "2022-05-24T06:01:21.207Z"
   },
   {
    "duration": 64,
    "start_time": "2022-05-24T06:01:21.800Z"
   },
   {
    "duration": 21,
    "start_time": "2022-05-24T06:01:22.797Z"
   },
   {
    "duration": 69,
    "start_time": "2022-05-24T06:01:23.605Z"
   },
   {
    "duration": 60,
    "start_time": "2022-05-24T06:01:24.393Z"
   },
   {
    "duration": 39,
    "start_time": "2022-05-24T06:01:25.194Z"
   },
   {
    "duration": 10,
    "start_time": "2022-05-24T06:01:25.974Z"
   },
   {
    "duration": 33,
    "start_time": "2022-05-24T06:01:26.806Z"
   },
   {
    "duration": 28,
    "start_time": "2022-05-24T06:01:27.241Z"
   },
   {
    "duration": 34,
    "start_time": "2022-05-24T06:01:27.663Z"
   },
   {
    "duration": 34,
    "start_time": "2022-05-24T06:01:28.121Z"
   },
   {
    "duration": 27,
    "start_time": "2022-05-24T06:01:53.461Z"
   },
   {
    "duration": 29,
    "start_time": "2022-05-24T06:01:56.768Z"
   },
   {
    "duration": 40,
    "start_time": "2022-05-24T06:02:59.462Z"
   },
   {
    "duration": 31,
    "start_time": "2022-05-24T06:03:12.294Z"
   },
   {
    "duration": 46,
    "start_time": "2022-05-24T06:03:30.178Z"
   },
   {
    "duration": 41,
    "start_time": "2022-05-24T06:05:59.339Z"
   },
   {
    "duration": 45,
    "start_time": "2022-05-24T06:06:01.260Z"
   },
   {
    "duration": 27,
    "start_time": "2022-05-24T06:06:15.004Z"
   },
   {
    "duration": 25,
    "start_time": "2022-05-24T06:07:27.292Z"
   },
   {
    "duration": 31,
    "start_time": "2022-05-24T06:07:33.114Z"
   },
   {
    "duration": 7,
    "start_time": "2022-05-24T06:10:17.821Z"
   },
   {
    "duration": 27,
    "start_time": "2022-05-24T06:19:55.270Z"
   },
   {
    "duration": 28,
    "start_time": "2022-05-24T06:20:18.369Z"
   },
   {
    "duration": 30,
    "start_time": "2022-05-24T06:20:32.114Z"
   },
   {
    "duration": 26,
    "start_time": "2022-05-24T06:24:48.859Z"
   },
   {
    "duration": 12,
    "start_time": "2022-05-24T06:24:53.701Z"
   },
   {
    "duration": 29,
    "start_time": "2022-05-24T06:30:42.453Z"
   },
   {
    "duration": 1143,
    "start_time": "2022-05-24T06:51:26.078Z"
   },
   {
    "duration": 28,
    "start_time": "2022-05-24T06:51:33.215Z"
   },
   {
    "duration": 21,
    "start_time": "2022-05-24T06:51:41.536Z"
   },
   {
    "duration": 33,
    "start_time": "2022-05-24T06:51:44.153Z"
   },
   {
    "duration": 28,
    "start_time": "2022-05-24T06:52:05.667Z"
   },
   {
    "duration": 39,
    "start_time": "2022-05-24T06:52:08.700Z"
   },
   {
    "duration": 61,
    "start_time": "2022-05-24T07:04:55.598Z"
   },
   {
    "duration": 55,
    "start_time": "2022-05-24T07:05:04.748Z"
   },
   {
    "duration": 17,
    "start_time": "2022-05-24T07:05:12.249Z"
   },
   {
    "duration": 78,
    "start_time": "2022-05-24T07:05:35.395Z"
   },
   {
    "duration": 92,
    "start_time": "2022-05-24T07:07:05.642Z"
   },
   {
    "duration": 4,
    "start_time": "2022-05-24T07:07:28.172Z"
   },
   {
    "duration": 5,
    "start_time": "2022-05-24T07:07:46.999Z"
   },
   {
    "duration": 8,
    "start_time": "2022-05-24T07:08:17.336Z"
   },
   {
    "duration": 11,
    "start_time": "2022-05-24T07:08:30.443Z"
   },
   {
    "duration": 8,
    "start_time": "2022-05-24T07:08:37.736Z"
   },
   {
    "duration": 28,
    "start_time": "2022-05-24T07:08:40.556Z"
   },
   {
    "duration": 7,
    "start_time": "2022-05-24T07:08:40.947Z"
   },
   {
    "duration": 12,
    "start_time": "2022-05-24T07:08:48.898Z"
   },
   {
    "duration": 64,
    "start_time": "2022-05-24T07:08:53.376Z"
   },
   {
    "duration": 2,
    "start_time": "2022-05-24T07:09:34.982Z"
   },
   {
    "duration": 23,
    "start_time": "2022-05-24T07:12:32.991Z"
   },
   {
    "duration": 31,
    "start_time": "2022-05-24T07:12:54.994Z"
   },
   {
    "duration": 38,
    "start_time": "2022-05-24T07:15:32.740Z"
   },
   {
    "duration": 16,
    "start_time": "2022-05-24T07:21:48.212Z"
   },
   {
    "duration": 4,
    "start_time": "2022-05-24T07:22:06.538Z"
   },
   {
    "duration": 14,
    "start_time": "2022-05-24T07:22:13.875Z"
   },
   {
    "duration": 20,
    "start_time": "2022-05-24T07:24:09.034Z"
   },
   {
    "duration": 819,
    "start_time": "2022-05-24T07:26:58.777Z"
   },
   {
    "duration": 19,
    "start_time": "2022-05-24T07:28:38.397Z"
   },
   {
    "duration": 143,
    "start_time": "2022-05-24T07:28:57.448Z"
   },
   {
    "duration": 216,
    "start_time": "2022-05-24T07:29:10.151Z"
   },
   {
    "duration": 175,
    "start_time": "2022-05-24T07:30:50.966Z"
   },
   {
    "duration": 175,
    "start_time": "2022-05-24T07:31:43.920Z"
   },
   {
    "duration": 145,
    "start_time": "2022-05-24T07:32:23.652Z"
   },
   {
    "duration": 162,
    "start_time": "2022-05-24T07:32:43.048Z"
   },
   {
    "duration": 191,
    "start_time": "2022-05-24T07:32:52.636Z"
   },
   {
    "duration": 323,
    "start_time": "2022-05-24T07:33:04.535Z"
   },
   {
    "duration": 9,
    "start_time": "2022-05-24T07:33:51.005Z"
   },
   {
    "duration": 10,
    "start_time": "2022-05-24T07:33:54.404Z"
   },
   {
    "duration": 130,
    "start_time": "2022-05-24T07:34:16.835Z"
   },
   {
    "duration": 105,
    "start_time": "2022-05-24T07:34:24.784Z"
   },
   {
    "duration": 107,
    "start_time": "2022-05-24T07:39:07.395Z"
   },
   {
    "duration": 191,
    "start_time": "2022-05-24T07:39:15.782Z"
   },
   {
    "duration": 12,
    "start_time": "2022-05-24T08:06:39.922Z"
   },
   {
    "duration": 140,
    "start_time": "2022-05-24T08:06:45.531Z"
   },
   {
    "duration": 6,
    "start_time": "2022-05-24T08:08:47.591Z"
   },
   {
    "duration": 149,
    "start_time": "2022-05-24T08:09:23.548Z"
   },
   {
    "duration": 5,
    "start_time": "2022-05-24T08:09:38.448Z"
   },
   {
    "duration": 9,
    "start_time": "2022-05-24T08:09:52.239Z"
   },
   {
    "duration": 9,
    "start_time": "2022-05-24T08:11:34.850Z"
   },
   {
    "duration": 17,
    "start_time": "2022-05-24T08:12:12.541Z"
   },
   {
    "duration": 5,
    "start_time": "2022-05-24T08:12:19.762Z"
   },
   {
    "duration": 8,
    "start_time": "2022-05-24T08:12:49.351Z"
   },
   {
    "duration": 6,
    "start_time": "2022-05-24T08:13:24.629Z"
   },
   {
    "duration": 13,
    "start_time": "2022-05-24T08:18:24.677Z"
   },
   {
    "duration": 11,
    "start_time": "2022-05-24T08:18:33.548Z"
   },
   {
    "duration": 10,
    "start_time": "2022-05-24T08:19:13.632Z"
   },
   {
    "duration": 8,
    "start_time": "2022-05-24T08:22:18.185Z"
   },
   {
    "duration": 8,
    "start_time": "2022-05-24T08:22:50.241Z"
   },
   {
    "duration": 398,
    "start_time": "2022-05-24T08:23:58.055Z"
   },
   {
    "duration": 146,
    "start_time": "2022-05-24T08:24:02.199Z"
   },
   {
    "duration": 9,
    "start_time": "2022-05-24T08:25:33.630Z"
   },
   {
    "duration": 12,
    "start_time": "2022-05-24T08:28:33.625Z"
   },
   {
    "duration": 14,
    "start_time": "2022-05-24T08:28:45.636Z"
   },
   {
    "duration": 9,
    "start_time": "2022-05-24T08:29:02.721Z"
   },
   {
    "duration": 14,
    "start_time": "2022-05-24T08:29:27.439Z"
   },
   {
    "duration": 649,
    "start_time": "2022-05-24T08:32:59.690Z"
   },
   {
    "duration": 3,
    "start_time": "2022-05-24T08:33:21.346Z"
   },
   {
    "duration": 52,
    "start_time": "2022-05-24T08:33:21.772Z"
   },
   {
    "duration": 197,
    "start_time": "2022-05-24T08:33:22.142Z"
   },
   {
    "duration": 207,
    "start_time": "2022-05-24T08:33:22.507Z"
   },
   {
    "duration": 133,
    "start_time": "2022-05-24T08:33:22.858Z"
   },
   {
    "duration": 28,
    "start_time": "2022-05-24T08:33:23.226Z"
   },
   {
    "duration": 16,
    "start_time": "2022-05-24T08:33:24.352Z"
   },
   {
    "duration": 59,
    "start_time": "2022-05-24T08:33:25.297Z"
   },
   {
    "duration": 46,
    "start_time": "2022-05-24T08:33:25.826Z"
   },
   {
    "duration": 38,
    "start_time": "2022-05-24T08:33:26.581Z"
   },
   {
    "duration": 9,
    "start_time": "2022-05-24T08:33:27.313Z"
   },
   {
    "duration": 27,
    "start_time": "2022-05-24T08:33:28.057Z"
   },
   {
    "duration": 21,
    "start_time": "2022-05-24T08:33:28.444Z"
   },
   {
    "duration": 30,
    "start_time": "2022-05-24T08:33:28.825Z"
   },
   {
    "duration": 31,
    "start_time": "2022-05-24T08:33:29.194Z"
   },
   {
    "duration": 12,
    "start_time": "2022-05-24T08:33:29.561Z"
   },
   {
    "duration": 69,
    "start_time": "2022-05-24T08:33:29.955Z"
   },
   {
    "duration": 135,
    "start_time": "2022-05-24T08:33:30.784Z"
   },
   {
    "duration": 8,
    "start_time": "2022-05-24T08:33:31.214Z"
   },
   {
    "duration": 16,
    "start_time": "2022-05-24T08:33:32.786Z"
   },
   {
    "duration": 476,
    "start_time": "2022-05-24T08:33:56.330Z"
   },
   {
    "duration": 8,
    "start_time": "2022-05-24T08:34:09.375Z"
   },
   {
    "duration": 13,
    "start_time": "2022-05-24T08:36:17.515Z"
   },
   {
    "duration": 9,
    "start_time": "2022-05-24T08:36:46.047Z"
   },
   {
    "duration": 13,
    "start_time": "2022-05-24T08:36:54.928Z"
   },
   {
    "duration": 37,
    "start_time": "2022-05-24T08:37:34.572Z"
   },
   {
    "duration": 16,
    "start_time": "2022-05-24T08:37:43.966Z"
   },
   {
    "duration": 11,
    "start_time": "2022-05-24T08:39:42.163Z"
   },
   {
    "duration": 11,
    "start_time": "2022-05-24T08:39:49.390Z"
   },
   {
    "duration": 23,
    "start_time": "2022-05-24T08:42:17.225Z"
   },
   {
    "duration": 13,
    "start_time": "2022-05-24T08:42:55.149Z"
   },
   {
    "duration": 10,
    "start_time": "2022-05-24T08:42:58.030Z"
   },
   {
    "duration": 2,
    "start_time": "2022-05-24T08:45:21.112Z"
   },
   {
    "duration": 50,
    "start_time": "2022-05-24T08:45:21.469Z"
   },
   {
    "duration": 217,
    "start_time": "2022-05-24T08:45:21.847Z"
   },
   {
    "duration": 173,
    "start_time": "2022-05-24T08:45:22.215Z"
   },
   {
    "duration": 145,
    "start_time": "2022-05-24T08:45:22.605Z"
   },
   {
    "duration": 27,
    "start_time": "2022-05-24T08:45:23.005Z"
   },
   {
    "duration": 16,
    "start_time": "2022-05-24T08:45:24.254Z"
   },
   {
    "duration": 67,
    "start_time": "2022-05-24T08:45:25.167Z"
   },
   {
    "duration": 54,
    "start_time": "2022-05-24T08:45:26.091Z"
   },
   {
    "duration": 38,
    "start_time": "2022-05-24T08:45:26.979Z"
   },
   {
    "duration": 9,
    "start_time": "2022-05-24T08:45:28.168Z"
   },
   {
    "duration": 24,
    "start_time": "2022-05-24T08:45:29.304Z"
   },
   {
    "duration": 21,
    "start_time": "2022-05-24T08:45:29.736Z"
   },
   {
    "duration": 29,
    "start_time": "2022-05-24T08:45:30.185Z"
   },
   {
    "duration": 28,
    "start_time": "2022-05-24T08:45:30.670Z"
   },
   {
    "duration": 363,
    "start_time": "2022-05-24T08:45:31.337Z"
   },
   {
    "duration": 506,
    "start_time": "2022-05-24T08:45:32.047Z"
   },
   {
    "duration": 670,
    "start_time": "2022-05-24T08:46:16.409Z"
   },
   {
    "duration": 709,
    "start_time": "2022-05-24T08:46:35.672Z"
   },
   {
    "duration": 24,
    "start_time": "2022-05-24T08:46:57.280Z"
   },
   {
    "duration": 21,
    "start_time": "2022-05-24T08:46:59.105Z"
   },
   {
    "duration": 24,
    "start_time": "2022-05-24T08:46:59.588Z"
   },
   {
    "duration": 31,
    "start_time": "2022-05-24T08:46:59.978Z"
   },
   {
    "duration": 660,
    "start_time": "2022-05-24T08:47:00.395Z"
   },
   {
    "duration": 68,
    "start_time": "2022-05-24T08:47:01.058Z"
   },
   {
    "duration": 13,
    "start_time": "2022-05-24T08:47:03.031Z"
   },
   {
    "duration": 429,
    "start_time": "2022-05-24T08:47:03.575Z"
   },
   {
    "duration": 9,
    "start_time": "2022-05-24T08:47:04.148Z"
   },
   {
    "duration": 9,
    "start_time": "2022-05-24T08:47:18.986Z"
   },
   {
    "duration": 143,
    "start_time": "2022-05-24T08:50:31.604Z"
   },
   {
    "duration": 22,
    "start_time": "2022-05-24T08:51:55.453Z"
   },
   {
    "duration": 18,
    "start_time": "2022-05-24T08:52:10.716Z"
   },
   {
    "duration": 35,
    "start_time": "2022-05-24T08:52:28.988Z"
   },
   {
    "duration": 24,
    "start_time": "2022-05-24T08:54:49.060Z"
   },
   {
    "duration": 19,
    "start_time": "2022-05-24T08:56:04.335Z"
   },
   {
    "duration": 17,
    "start_time": "2022-05-24T08:58:27.224Z"
   },
   {
    "duration": 26,
    "start_time": "2022-05-24T08:58:35.778Z"
   },
   {
    "duration": 17,
    "start_time": "2022-05-24T08:59:12.891Z"
   },
   {
    "duration": 13,
    "start_time": "2022-05-24T09:00:57.780Z"
   },
   {
    "duration": 18,
    "start_time": "2022-05-24T09:01:28.494Z"
   },
   {
    "duration": 15,
    "start_time": "2022-05-24T09:01:39.250Z"
   },
   {
    "duration": 15,
    "start_time": "2022-05-24T09:02:11.488Z"
   },
   {
    "duration": 7,
    "start_time": "2022-05-24T09:03:30.750Z"
   },
   {
    "duration": 16,
    "start_time": "2022-05-24T09:03:41.376Z"
   },
   {
    "duration": 19,
    "start_time": "2022-05-24T09:03:59.261Z"
   },
   {
    "duration": 18,
    "start_time": "2022-05-24T09:04:04.608Z"
   },
   {
    "duration": 419,
    "start_time": "2022-05-24T09:05:13.407Z"
   },
   {
    "duration": 161,
    "start_time": "2022-05-24T09:05:28.833Z"
   },
   {
    "duration": 120,
    "start_time": "2022-05-24T09:10:08.954Z"
   },
   {
    "duration": 22,
    "start_time": "2022-05-24T09:10:25.259Z"
   },
   {
    "duration": 220,
    "start_time": "2022-05-24T09:12:02.890Z"
   },
   {
    "duration": 22,
    "start_time": "2022-05-24T09:27:12.961Z"
   },
   {
    "duration": 20,
    "start_time": "2022-05-24T09:28:23.560Z"
   },
   {
    "duration": 18,
    "start_time": "2022-05-24T09:32:23.853Z"
   },
   {
    "duration": 180,
    "start_time": "2022-05-24T09:37:50.160Z"
   },
   {
    "duration": 1026,
    "start_time": "2022-05-24T09:39:58.744Z"
   },
   {
    "duration": 15,
    "start_time": "2022-05-24T09:40:18.432Z"
   },
   {
    "duration": 402,
    "start_time": "2022-05-24T09:42:42.329Z"
   },
   {
    "duration": 4,
    "start_time": "2022-05-24T09:45:00.776Z"
   },
   {
    "duration": 205,
    "start_time": "2022-05-24T09:45:07.388Z"
   },
   {
    "duration": 404,
    "start_time": "2022-05-24T09:46:09.160Z"
   },
   {
    "duration": 536,
    "start_time": "2022-05-24T09:46:17.703Z"
   },
   {
    "duration": 433,
    "start_time": "2022-05-24T09:46:28.146Z"
   },
   {
    "duration": 506,
    "start_time": "2022-05-24T09:46:37.700Z"
   },
   {
    "duration": 135,
    "start_time": "2022-05-24T09:46:54.146Z"
   },
   {
    "duration": 372,
    "start_time": "2022-05-24T09:47:02.552Z"
   },
   {
    "duration": 151,
    "start_time": "2022-05-24T09:47:07.645Z"
   },
   {
    "duration": 147,
    "start_time": "2022-05-24T09:51:32.339Z"
   },
   {
    "duration": 146,
    "start_time": "2022-05-24T09:51:36.764Z"
   },
   {
    "duration": 170,
    "start_time": "2022-05-24T09:51:54.210Z"
   },
   {
    "duration": 5,
    "start_time": "2022-05-24T09:56:12.476Z"
   },
   {
    "duration": 7,
    "start_time": "2022-05-24T09:57:10.101Z"
   },
   {
    "duration": 55,
    "start_time": "2022-05-24T09:57:24.324Z"
   },
   {
    "duration": 13,
    "start_time": "2022-05-24T09:57:28.523Z"
   },
   {
    "duration": 8,
    "start_time": "2022-05-24T09:57:52.105Z"
   },
   {
    "duration": 10,
    "start_time": "2022-05-24T09:59:42.247Z"
   },
   {
    "duration": 19,
    "start_time": "2022-05-24T10:00:58.913Z"
   },
   {
    "duration": 23,
    "start_time": "2022-05-24T10:01:32.723Z"
   },
   {
    "duration": 10,
    "start_time": "2022-05-24T10:01:51.073Z"
   },
   {
    "duration": 184,
    "start_time": "2022-05-24T10:04:12.056Z"
   },
   {
    "duration": 10,
    "start_time": "2022-05-24T10:06:14.255Z"
   },
   {
    "duration": 10,
    "start_time": "2022-05-24T10:06:32.311Z"
   },
   {
    "duration": 14,
    "start_time": "2022-05-24T10:18:57.856Z"
   },
   {
    "duration": 11,
    "start_time": "2022-05-24T10:19:24.389Z"
   },
   {
    "duration": 173,
    "start_time": "2022-05-24T10:20:03.166Z"
   },
   {
    "duration": 11,
    "start_time": "2022-05-24T10:21:36.012Z"
   },
   {
    "duration": 10,
    "start_time": "2022-05-24T10:21:41.360Z"
   },
   {
    "duration": 110,
    "start_time": "2022-05-24T10:27:41.164Z"
   },
   {
    "duration": 109,
    "start_time": "2022-05-24T10:27:48.089Z"
   },
   {
    "duration": 193,
    "start_time": "2022-05-24T10:28:51.327Z"
   },
   {
    "duration": 326,
    "start_time": "2022-05-24T10:28:56.786Z"
   },
   {
    "duration": 9,
    "start_time": "2022-05-24T10:31:58.640Z"
   },
   {
    "duration": 124,
    "start_time": "2022-05-24T10:34:00.432Z"
   },
   {
    "duration": 136,
    "start_time": "2022-05-24T10:34:50.873Z"
   },
   {
    "duration": 7,
    "start_time": "2022-05-24T10:35:27.892Z"
   },
   {
    "duration": 7,
    "start_time": "2022-05-24T10:35:42.032Z"
   },
   {
    "duration": 6,
    "start_time": "2022-05-24T10:35:46.059Z"
   },
   {
    "duration": 6,
    "start_time": "2022-05-24T10:35:53.353Z"
   },
   {
    "duration": 11,
    "start_time": "2022-05-24T10:36:24.532Z"
   },
   {
    "duration": 8,
    "start_time": "2022-05-24T10:36:43.418Z"
   },
   {
    "duration": 5,
    "start_time": "2022-05-24T10:37:11.756Z"
   },
   {
    "duration": 12,
    "start_time": "2022-05-24T10:37:29.726Z"
   },
   {
    "duration": 5,
    "start_time": "2022-05-24T10:37:33.860Z"
   },
   {
    "duration": 10,
    "start_time": "2022-05-24T10:46:51.440Z"
   },
   {
    "duration": 4,
    "start_time": "2022-05-24T10:46:57.336Z"
   },
   {
    "duration": 53,
    "start_time": "2022-05-24T10:46:57.735Z"
   },
   {
    "duration": 201,
    "start_time": "2022-05-24T10:46:58.083Z"
   },
   {
    "duration": 174,
    "start_time": "2022-05-24T10:46:58.464Z"
   },
   {
    "duration": 134,
    "start_time": "2022-05-24T10:46:58.837Z"
   },
   {
    "duration": 47,
    "start_time": "2022-05-24T10:46:59.207Z"
   },
   {
    "duration": 30,
    "start_time": "2022-05-24T10:47:00.307Z"
   },
   {
    "duration": 73,
    "start_time": "2022-05-24T10:47:01.081Z"
   },
   {
    "duration": 72,
    "start_time": "2022-05-24T10:47:01.794Z"
   },
   {
    "duration": 54,
    "start_time": "2022-05-24T10:47:02.519Z"
   },
   {
    "duration": 8,
    "start_time": "2022-05-24T10:47:03.251Z"
   },
   {
    "duration": 29,
    "start_time": "2022-05-24T10:47:04.002Z"
   },
   {
    "duration": 24,
    "start_time": "2022-05-24T10:47:04.352Z"
   },
   {
    "duration": 31,
    "start_time": "2022-05-24T10:47:04.738Z"
   },
   {
    "duration": 28,
    "start_time": "2022-05-24T10:47:05.151Z"
   },
   {
    "duration": 13,
    "start_time": "2022-05-24T10:47:05.523Z"
   },
   {
    "duration": 14,
    "start_time": "2022-05-24T10:47:05.937Z"
   },
   {
    "duration": 68,
    "start_time": "2022-05-24T10:47:06.316Z"
   },
   {
    "duration": 14,
    "start_time": "2022-05-24T10:47:07.138Z"
   },
   {
    "duration": 452,
    "start_time": "2022-05-24T10:47:07.509Z"
   },
   {
    "duration": 10,
    "start_time": "2022-05-24T10:47:07.964Z"
   },
   {
    "duration": 5,
    "start_time": "2022-05-24T10:47:08.371Z"
   },
   {
    "duration": 160,
    "start_time": "2022-05-24T10:47:08.830Z"
   },
   {
    "duration": 10,
    "start_time": "2022-05-24T10:47:09.242Z"
   },
   {
    "duration": 6,
    "start_time": "2022-05-24T10:47:09.668Z"
   },
   {
    "duration": 144,
    "start_time": "2022-05-24T10:47:10.143Z"
   },
   {
    "duration": 9,
    "start_time": "2022-05-24T10:47:10.647Z"
   },
   {
    "duration": 9,
    "start_time": "2022-05-24T10:51:35.011Z"
   },
   {
    "duration": 9,
    "start_time": "2022-05-24T10:52:03.737Z"
   },
   {
    "duration": 11,
    "start_time": "2022-05-24T10:52:32.595Z"
   },
   {
    "duration": 201,
    "start_time": "2022-05-24T10:53:23.238Z"
   },
   {
    "duration": 308,
    "start_time": "2022-05-24T10:53:27.305Z"
   },
   {
    "duration": 194,
    "start_time": "2022-05-24T10:53:32.174Z"
   },
   {
    "duration": 60,
    "start_time": "2022-05-24T10:57:37.073Z"
   },
   {
    "duration": 142,
    "start_time": "2022-05-24T10:57:42.323Z"
   },
   {
    "duration": 252,
    "start_time": "2022-05-24T10:57:55.360Z"
   },
   {
    "duration": 435,
    "start_time": "2022-05-24T11:05:28.022Z"
   },
   {
    "duration": 1103,
    "start_time": "2022-05-24T11:05:38.950Z"
   },
   {
    "duration": 444,
    "start_time": "2022-05-24T11:05:58.853Z"
   },
   {
    "duration": 236,
    "start_time": "2022-05-24T11:06:52.478Z"
   },
   {
    "duration": 172,
    "start_time": "2022-05-24T11:06:56.681Z"
   },
   {
    "duration": 150,
    "start_time": "2022-05-24T11:07:00.954Z"
   },
   {
    "duration": 167,
    "start_time": "2022-05-24T11:07:04.977Z"
   },
   {
    "duration": 190,
    "start_time": "2022-05-24T11:07:18.390Z"
   },
   {
    "duration": 249,
    "start_time": "2022-05-24T11:07:22.222Z"
   },
   {
    "duration": 172,
    "start_time": "2022-05-24T11:07:49.747Z"
   },
   {
    "duration": 265,
    "start_time": "2022-05-24T11:07:53.229Z"
   },
   {
    "duration": 487,
    "start_time": "2022-05-24T11:24:58.955Z"
   },
   {
    "duration": 255,
    "start_time": "2022-05-24T11:26:12.936Z"
   },
   {
    "duration": 13,
    "start_time": "2022-05-24T11:26:36.956Z"
   },
   {
    "duration": 19,
    "start_time": "2022-05-24T11:27:10.732Z"
   },
   {
    "duration": 13,
    "start_time": "2022-05-24T11:27:24.836Z"
   },
   {
    "duration": 6,
    "start_time": "2022-05-24T11:30:39.191Z"
   },
   {
    "duration": 11,
    "start_time": "2022-05-24T11:36:58.479Z"
   },
   {
    "duration": 151,
    "start_time": "2022-05-24T11:50:38.500Z"
   },
   {
    "duration": 287,
    "start_time": "2022-05-24T11:51:05.181Z"
   },
   {
    "duration": 13,
    "start_time": "2022-05-24T11:52:55.762Z"
   },
   {
    "duration": 13,
    "start_time": "2022-05-24T11:53:41.267Z"
   },
   {
    "duration": 4,
    "start_time": "2022-05-24T11:55:59.359Z"
   },
   {
    "duration": 7,
    "start_time": "2022-05-24T12:08:40.127Z"
   },
   {
    "duration": 10,
    "start_time": "2022-05-24T12:09:02.093Z"
   },
   {
    "duration": 8,
    "start_time": "2022-05-24T12:09:09.788Z"
   },
   {
    "duration": 3,
    "start_time": "2022-05-24T12:23:07.594Z"
   },
   {
    "duration": 3,
    "start_time": "2022-05-24T12:23:53.295Z"
   },
   {
    "duration": 715,
    "start_time": "2022-05-24T12:28:45.146Z"
   },
   {
    "duration": 2,
    "start_time": "2022-05-24T12:33:50.935Z"
   },
   {
    "duration": 6,
    "start_time": "2022-05-24T12:34:21.657Z"
   },
   {
    "duration": 9,
    "start_time": "2022-05-24T12:41:45.840Z"
   },
   {
    "duration": 7,
    "start_time": "2022-05-24T12:43:49.594Z"
   },
   {
    "duration": 6,
    "start_time": "2022-05-24T12:44:16.636Z"
   },
   {
    "duration": 6,
    "start_time": "2022-05-24T12:44:52.494Z"
   },
   {
    "duration": 4,
    "start_time": "2022-05-24T12:45:17.978Z"
   },
   {
    "duration": 6,
    "start_time": "2022-05-24T12:46:05.873Z"
   },
   {
    "duration": 39,
    "start_time": "2022-05-24T12:50:40.969Z"
   },
   {
    "duration": 36,
    "start_time": "2022-05-24T12:53:05.154Z"
   },
   {
    "duration": 11,
    "start_time": "2022-05-24T12:53:26.399Z"
   },
   {
    "duration": 5,
    "start_time": "2022-05-24T12:53:47.455Z"
   },
   {
    "duration": 11,
    "start_time": "2022-05-24T13:08:54.128Z"
   },
   {
    "duration": 12,
    "start_time": "2022-05-24T13:09:42.433Z"
   },
   {
    "duration": 72,
    "start_time": "2022-05-24T13:10:27.366Z"
   },
   {
    "duration": 11,
    "start_time": "2022-05-24T13:11:13.345Z"
   },
   {
    "duration": 9,
    "start_time": "2022-05-24T13:13:05.975Z"
   },
   {
    "duration": 7,
    "start_time": "2022-05-24T13:13:16.809Z"
   },
   {
    "duration": 5,
    "start_time": "2022-05-24T13:13:25.888Z"
   },
   {
    "duration": 13,
    "start_time": "2022-05-24T13:13:43.816Z"
   },
   {
    "duration": 6,
    "start_time": "2022-05-24T13:13:49.841Z"
   },
   {
    "duration": 17,
    "start_time": "2022-05-24T13:17:18.998Z"
   },
   {
    "duration": 16,
    "start_time": "2022-05-24T13:18:38.062Z"
   },
   {
    "duration": 11,
    "start_time": "2022-05-24T13:18:45.859Z"
   },
   {
    "duration": 6,
    "start_time": "2022-05-24T13:20:20.294Z"
   },
   {
    "duration": 6,
    "start_time": "2022-05-24T13:20:25.340Z"
   },
   {
    "duration": 10,
    "start_time": "2022-05-24T13:20:55.857Z"
   },
   {
    "duration": 9,
    "start_time": "2022-05-24T13:21:16.998Z"
   },
   {
    "duration": 63,
    "start_time": "2022-05-24T13:23:34.033Z"
   },
   {
    "duration": 11,
    "start_time": "2022-05-24T13:23:40.848Z"
   },
   {
    "duration": 9,
    "start_time": "2022-05-24T13:23:54.044Z"
   },
   {
    "duration": 9,
    "start_time": "2022-05-24T13:24:03.832Z"
   },
   {
    "duration": 5,
    "start_time": "2022-05-24T13:26:49.512Z"
   },
   {
    "duration": 7,
    "start_time": "2022-05-24T13:29:55.302Z"
   },
   {
    "duration": 15,
    "start_time": "2022-05-24T13:33:31.031Z"
   },
   {
    "duration": 259,
    "start_time": "2022-05-24T13:33:34.544Z"
   },
   {
    "duration": 14,
    "start_time": "2022-05-24T13:33:47.106Z"
   },
   {
    "duration": 10,
    "start_time": "2022-05-24T13:35:25.067Z"
   },
   {
    "duration": 13,
    "start_time": "2022-05-24T13:36:37.185Z"
   },
   {
    "duration": 23,
    "start_time": "2022-05-24T13:38:08.037Z"
   },
   {
    "duration": 4,
    "start_time": "2022-05-24T13:38:13.609Z"
   },
   {
    "duration": 59,
    "start_time": "2022-05-24T13:38:14.047Z"
   },
   {
    "duration": 202,
    "start_time": "2022-05-24T13:38:14.406Z"
   },
   {
    "duration": 165,
    "start_time": "2022-05-24T13:38:15.029Z"
   },
   {
    "duration": 122,
    "start_time": "2022-05-24T13:38:15.196Z"
   },
   {
    "duration": 29,
    "start_time": "2022-05-24T13:38:15.502Z"
   },
   {
    "duration": 17,
    "start_time": "2022-05-24T13:38:16.684Z"
   },
   {
    "duration": 58,
    "start_time": "2022-05-24T13:38:17.443Z"
   },
   {
    "duration": 45,
    "start_time": "2022-05-24T13:38:18.232Z"
   },
   {
    "duration": 36,
    "start_time": "2022-05-24T13:38:19.060Z"
   },
   {
    "duration": 9,
    "start_time": "2022-05-24T13:38:20.015Z"
   },
   {
    "duration": 25,
    "start_time": "2022-05-24T13:38:20.919Z"
   },
   {
    "duration": 22,
    "start_time": "2022-05-24T13:38:21.325Z"
   },
   {
    "duration": 30,
    "start_time": "2022-05-24T13:38:21.736Z"
   },
   {
    "duration": 43,
    "start_time": "2022-05-24T13:38:22.124Z"
   },
   {
    "duration": 13,
    "start_time": "2022-05-24T13:38:22.598Z"
   },
   {
    "duration": 13,
    "start_time": "2022-05-24T13:38:22.985Z"
   },
   {
    "duration": 63,
    "start_time": "2022-05-24T13:38:23.394Z"
   },
   {
    "duration": 15,
    "start_time": "2022-05-24T13:38:24.572Z"
   },
   {
    "duration": 14,
    "start_time": "2022-05-24T13:38:41.583Z"
   },
   {
    "duration": 15,
    "start_time": "2022-05-24T13:46:28.948Z"
   },
   {
    "duration": 18,
    "start_time": "2022-05-24T13:46:36.458Z"
   },
   {
    "duration": 24,
    "start_time": "2022-05-24T13:47:32.799Z"
   },
   {
    "duration": 43,
    "start_time": "2022-05-24T13:48:36.458Z"
   },
   {
    "duration": 49,
    "start_time": "2022-05-24T13:49:02.686Z"
   },
   {
    "duration": 25,
    "start_time": "2022-05-24T13:56:02.703Z"
   },
   {
    "duration": 16,
    "start_time": "2022-05-24T13:56:51.451Z"
   },
   {
    "duration": 11,
    "start_time": "2022-05-24T13:57:01.558Z"
   },
   {
    "duration": 14,
    "start_time": "2022-05-24T13:57:08.359Z"
   },
   {
    "duration": 21,
    "start_time": "2022-05-24T13:58:18.497Z"
   },
   {
    "duration": 12,
    "start_time": "2022-05-24T14:04:38.159Z"
   },
   {
    "duration": 10,
    "start_time": "2022-05-24T14:04:50.996Z"
   },
   {
    "duration": 15,
    "start_time": "2022-05-24T14:05:11.357Z"
   },
   {
    "duration": 12,
    "start_time": "2022-05-24T14:09:08.108Z"
   },
   {
    "duration": 8,
    "start_time": "2022-05-24T14:10:13.805Z"
   },
   {
    "duration": 62,
    "start_time": "2022-05-24T14:14:12.002Z"
   },
   {
    "duration": 8,
    "start_time": "2022-05-24T14:14:16.062Z"
   },
   {
    "duration": 3,
    "start_time": "2022-05-24T14:14:21.315Z"
   },
   {
    "duration": 60,
    "start_time": "2022-05-24T14:14:21.721Z"
   },
   {
    "duration": 191,
    "start_time": "2022-05-24T14:14:22.140Z"
   },
   {
    "duration": 211,
    "start_time": "2022-05-24T14:14:22.549Z"
   },
   {
    "duration": 126,
    "start_time": "2022-05-24T14:14:22.945Z"
   },
   {
    "duration": 28,
    "start_time": "2022-05-24T14:14:23.336Z"
   },
   {
    "duration": 28,
    "start_time": "2022-05-24T14:14:24.509Z"
   },
   {
    "duration": 66,
    "start_time": "2022-05-24T14:14:25.300Z"
   },
   {
    "duration": 52,
    "start_time": "2022-05-24T14:14:26.091Z"
   },
   {
    "duration": 38,
    "start_time": "2022-05-24T14:14:26.866Z"
   },
   {
    "duration": 9,
    "start_time": "2022-05-24T14:14:27.657Z"
   },
   {
    "duration": 27,
    "start_time": "2022-05-24T14:14:28.490Z"
   },
   {
    "duration": 23,
    "start_time": "2022-05-24T14:14:28.877Z"
   },
   {
    "duration": 41,
    "start_time": "2022-05-24T14:14:29.291Z"
   },
   {
    "duration": 31,
    "start_time": "2022-05-24T14:14:29.691Z"
   },
   {
    "duration": 7,
    "start_time": "2022-05-24T14:14:30.091Z"
   },
   {
    "duration": 18,
    "start_time": "2022-05-24T14:14:30.506Z"
   },
   {
    "duration": 64,
    "start_time": "2022-05-24T14:14:30.938Z"
   },
   {
    "duration": 12,
    "start_time": "2022-05-24T14:15:16.703Z"
   },
   {
    "duration": 14,
    "start_time": "2022-05-24T14:15:32.408Z"
   },
   {
    "duration": 15,
    "start_time": "2022-05-24T14:16:34.291Z"
   },
   {
    "duration": 14,
    "start_time": "2022-05-24T14:16:55.392Z"
   },
   {
    "duration": 172,
    "start_time": "2022-05-24T14:17:15.976Z"
   },
   {
    "duration": 15,
    "start_time": "2022-05-24T14:17:16.778Z"
   },
   {
    "duration": 14,
    "start_time": "2022-05-24T14:17:40.198Z"
   },
   {
    "duration": 14,
    "start_time": "2022-05-24T14:17:50.177Z"
   },
   {
    "duration": 112,
    "start_time": "2022-05-24T14:17:51.276Z"
   },
   {
    "duration": 14,
    "start_time": "2022-05-24T14:18:34.096Z"
   },
   {
    "duration": 68,
    "start_time": "2022-05-24T14:18:34.891Z"
   },
   {
    "duration": 14,
    "start_time": "2022-05-24T14:18:48.549Z"
   },
   {
    "duration": 59,
    "start_time": "2022-05-24T14:18:49.044Z"
   },
   {
    "duration": 25,
    "start_time": "2022-05-24T14:18:56.868Z"
   },
   {
    "duration": 273,
    "start_time": "2022-05-24T14:18:57.257Z"
   },
   {
    "duration": 10,
    "start_time": "2022-05-24T14:18:57.614Z"
   },
   {
    "duration": 216,
    "start_time": "2022-05-24T14:18:57.990Z"
   },
   {
    "duration": 13,
    "start_time": "2022-05-24T14:18:58.331Z"
   },
   {
    "duration": 264,
    "start_time": "2022-05-24T14:18:58.691Z"
   },
   {
    "duration": 8,
    "start_time": "2022-05-24T14:18:59.060Z"
   },
   {
    "duration": 18,
    "start_time": "2022-05-24T14:18:59.761Z"
   },
   {
    "duration": 255,
    "start_time": "2022-05-24T14:19:00.166Z"
   },
   {
    "duration": 9,
    "start_time": "2022-05-24T14:19:00.478Z"
   },
   {
    "duration": 160,
    "start_time": "2022-05-24T14:19:00.836Z"
   },
   {
    "duration": 9,
    "start_time": "2022-05-24T14:19:01.237Z"
   },
   {
    "duration": 473,
    "start_time": "2022-05-24T14:19:01.621Z"
   },
   {
    "duration": 10,
    "start_time": "2022-05-24T14:19:02.096Z"
   },
   {
    "duration": 6,
    "start_time": "2022-05-24T14:19:03.874Z"
   },
   {
    "duration": 5,
    "start_time": "2022-05-24T14:19:04.291Z"
   },
   {
    "duration": 19,
    "start_time": "2022-05-24T14:19:05.438Z"
   },
   {
    "duration": 15,
    "start_time": "2022-05-24T14:19:05.825Z"
   },
   {
    "duration": 11,
    "start_time": "2022-05-24T14:19:06.353Z"
   },
   {
    "duration": 8,
    "start_time": "2022-05-24T14:19:06.744Z"
   },
   {
    "duration": 12,
    "start_time": "2022-05-24T14:26:48.042Z"
   },
   {
    "duration": 12,
    "start_time": "2022-05-24T14:41:14.302Z"
   },
   {
    "duration": 19,
    "start_time": "2022-05-24T14:41:44.211Z"
   },
   {
    "duration": 22,
    "start_time": "2022-05-24T14:41:54.848Z"
   },
   {
    "duration": 18,
    "start_time": "2022-05-24T14:42:04.200Z"
   },
   {
    "duration": 12,
    "start_time": "2022-05-24T14:43:25.380Z"
   },
   {
    "duration": 18,
    "start_time": "2022-05-24T14:44:06.638Z"
   },
   {
    "duration": 25,
    "start_time": "2022-05-24T14:44:11.546Z"
   },
   {
    "duration": 17,
    "start_time": "2022-05-24T14:48:34.461Z"
   },
   {
    "duration": 16,
    "start_time": "2022-05-24T14:48:45.896Z"
   },
   {
    "duration": 27,
    "start_time": "2022-05-24T14:48:52.663Z"
   },
   {
    "duration": 271,
    "start_time": "2022-05-24T14:49:09.312Z"
   },
   {
    "duration": 8,
    "start_time": "2022-05-24T14:49:12.152Z"
   },
   {
    "duration": 17,
    "start_time": "2022-05-24T14:49:27.602Z"
   },
   {
    "duration": 12,
    "start_time": "2022-05-24T14:54:16.760Z"
   },
   {
    "duration": 10,
    "start_time": "2022-05-24T14:54:27.587Z"
   },
   {
    "duration": 15,
    "start_time": "2022-05-24T14:54:33.779Z"
   },
   {
    "duration": 18,
    "start_time": "2022-05-24T14:55:03.114Z"
   },
   {
    "duration": 15,
    "start_time": "2022-05-24T14:55:17.896Z"
   },
   {
    "duration": 13,
    "start_time": "2022-05-24T14:55:29.568Z"
   },
   {
    "duration": 21,
    "start_time": "2022-05-24T14:56:30.701Z"
   },
   {
    "duration": 17,
    "start_time": "2022-05-24T14:56:34.836Z"
   },
   {
    "duration": 18,
    "start_time": "2022-05-24T14:56:40.631Z"
   },
   {
    "duration": 20,
    "start_time": "2022-05-24T14:57:19.801Z"
   },
   {
    "duration": 20,
    "start_time": "2022-05-24T14:58:33.002Z"
   },
   {
    "duration": 25,
    "start_time": "2022-05-24T14:58:50.158Z"
   },
   {
    "duration": 29,
    "start_time": "2022-05-24T15:02:16.227Z"
   },
   {
    "duration": 20,
    "start_time": "2022-05-24T15:02:22.541Z"
   },
   {
    "duration": 23,
    "start_time": "2022-05-24T15:02:35.987Z"
   },
   {
    "duration": 15,
    "start_time": "2022-05-24T15:05:22.388Z"
   },
   {
    "duration": 26,
    "start_time": "2022-05-24T15:09:45.583Z"
   },
   {
    "duration": 252,
    "start_time": "2022-05-24T15:11:14.799Z"
   },
   {
    "duration": 158,
    "start_time": "2022-05-24T15:11:20.794Z"
   },
   {
    "duration": 150,
    "start_time": "2022-05-24T15:11:34.072Z"
   },
   {
    "duration": 238,
    "start_time": "2022-05-24T15:11:55.195Z"
   },
   {
    "duration": 9,
    "start_time": "2022-05-24T15:12:36.235Z"
   },
   {
    "duration": 187,
    "start_time": "2022-05-24T15:12:52.990Z"
   },
   {
    "duration": 9,
    "start_time": "2022-05-24T15:12:55.209Z"
   },
   {
    "duration": 454,
    "start_time": "2022-05-24T15:12:58.910Z"
   },
   {
    "duration": 8,
    "start_time": "2022-05-24T15:13:05.021Z"
   },
   {
    "duration": 29,
    "start_time": "2022-05-24T15:15:29.390Z"
   },
   {
    "duration": 35,
    "start_time": "2022-05-24T15:16:07.695Z"
   },
   {
    "duration": 21,
    "start_time": "2022-05-24T15:20:28.371Z"
   },
   {
    "duration": 40,
    "start_time": "2022-05-24T15:20:44.289Z"
   },
   {
    "duration": 21,
    "start_time": "2022-05-24T15:21:42.458Z"
   },
   {
    "duration": 17,
    "start_time": "2022-05-24T15:22:53.666Z"
   },
   {
    "duration": 17,
    "start_time": "2022-05-24T15:23:07.793Z"
   },
   {
    "duration": 21,
    "start_time": "2022-05-24T15:23:26.261Z"
   },
   {
    "duration": 21,
    "start_time": "2022-05-24T15:23:39.122Z"
   },
   {
    "duration": 295,
    "start_time": "2022-05-24T15:23:49.012Z"
   },
   {
    "duration": 9,
    "start_time": "2022-05-24T15:23:49.937Z"
   },
   {
    "duration": 182,
    "start_time": "2022-05-24T15:23:50.359Z"
   },
   {
    "duration": 11,
    "start_time": "2022-05-24T15:23:51.034Z"
   },
   {
    "duration": 252,
    "start_time": "2022-05-24T15:23:51.449Z"
   },
   {
    "duration": 9,
    "start_time": "2022-05-24T15:23:52.277Z"
   },
   {
    "duration": 17,
    "start_time": "2022-05-24T15:23:53.238Z"
   },
   {
    "duration": 15,
    "start_time": "2022-05-24T15:24:24.324Z"
   },
   {
    "duration": 6,
    "start_time": "2022-05-24T15:24:29.541Z"
   },
   {
    "duration": 18,
    "start_time": "2022-05-24T15:24:29.896Z"
   },
   {
    "duration": 19,
    "start_time": "2022-05-24T15:33:47.905Z"
   },
   {
    "duration": 6,
    "start_time": "2022-05-24T15:34:11.157Z"
   },
   {
    "duration": 28,
    "start_time": "2022-05-24T15:34:11.497Z"
   },
   {
    "duration": 7,
    "start_time": "2022-05-24T15:34:22.521Z"
   },
   {
    "duration": 51,
    "start_time": "2022-05-24T15:34:22.870Z"
   },
   {
    "duration": 188,
    "start_time": "2022-05-24T15:34:23.192Z"
   },
   {
    "duration": 164,
    "start_time": "2022-05-24T15:34:23.558Z"
   },
   {
    "duration": 123,
    "start_time": "2022-05-24T15:34:23.871Z"
   },
   {
    "duration": 43,
    "start_time": "2022-05-24T15:34:24.214Z"
   },
   {
    "duration": 16,
    "start_time": "2022-05-24T15:34:25.269Z"
   },
   {
    "duration": 73,
    "start_time": "2022-05-24T15:34:25.969Z"
   },
   {
    "duration": 51,
    "start_time": "2022-05-24T15:34:26.670Z"
   },
   {
    "duration": 48,
    "start_time": "2022-05-24T15:34:27.320Z"
   },
   {
    "duration": 9,
    "start_time": "2022-05-24T15:34:28.042Z"
   },
   {
    "duration": 25,
    "start_time": "2022-05-24T15:34:28.791Z"
   },
   {
    "duration": 22,
    "start_time": "2022-05-24T15:34:29.165Z"
   },
   {
    "duration": 40,
    "start_time": "2022-05-24T15:34:29.537Z"
   },
   {
    "duration": 29,
    "start_time": "2022-05-24T15:34:29.879Z"
   },
   {
    "duration": 19,
    "start_time": "2022-05-24T15:34:30.265Z"
   },
   {
    "duration": 141,
    "start_time": "2022-05-24T15:34:30.616Z"
   },
   {
    "duration": 14,
    "start_time": "2022-05-24T15:34:54.070Z"
   },
   {
    "duration": 76,
    "start_time": "2022-05-24T15:34:54.696Z"
   },
   {
    "duration": 18,
    "start_time": "2022-05-24T15:34:56.231Z"
   },
   {
    "duration": 270,
    "start_time": "2022-05-24T15:34:56.994Z"
   },
   {
    "duration": 9,
    "start_time": "2022-05-24T15:34:57.389Z"
   },
   {
    "duration": 205,
    "start_time": "2022-05-24T15:34:57.840Z"
   },
   {
    "duration": 8,
    "start_time": "2022-05-24T15:34:58.240Z"
   },
   {
    "duration": 499,
    "start_time": "2022-05-24T15:34:58.679Z"
   },
   {
    "duration": 8,
    "start_time": "2022-05-24T15:34:59.180Z"
   },
   {
    "duration": 19,
    "start_time": "2022-05-24T15:34:59.967Z"
   },
   {
    "duration": 260,
    "start_time": "2022-05-24T15:35:00.370Z"
   },
   {
    "duration": 9,
    "start_time": "2022-05-24T15:35:00.771Z"
   },
   {
    "duration": 153,
    "start_time": "2022-05-24T15:35:01.189Z"
   },
   {
    "duration": 8,
    "start_time": "2022-05-24T15:35:01.667Z"
   },
   {
    "duration": 259,
    "start_time": "2022-05-24T15:35:02.093Z"
   },
   {
    "duration": 16,
    "start_time": "2022-05-24T15:35:02.567Z"
   },
   {
    "duration": 6,
    "start_time": "2022-05-24T15:35:05.066Z"
   },
   {
    "duration": 19,
    "start_time": "2022-05-24T15:35:05.540Z"
   },
   {
    "duration": 13,
    "start_time": "2022-05-24T15:35:07.769Z"
   },
   {
    "duration": 22,
    "start_time": "2022-05-24T15:35:08.231Z"
   },
   {
    "duration": 12,
    "start_time": "2022-05-24T15:36:04.918Z"
   },
   {
    "duration": 6,
    "start_time": "2022-05-24T15:39:13.002Z"
   },
   {
    "duration": 18,
    "start_time": "2022-05-24T15:40:00.453Z"
   },
   {
    "duration": 18,
    "start_time": "2022-05-24T15:40:13.159Z"
   },
   {
    "duration": 17,
    "start_time": "2022-05-24T15:41:09.564Z"
   },
   {
    "duration": 5,
    "start_time": "2022-05-24T15:41:50.895Z"
   },
   {
    "duration": 5,
    "start_time": "2022-05-24T15:42:00.202Z"
   },
   {
    "duration": 5,
    "start_time": "2022-05-24T15:42:12.793Z"
   },
   {
    "duration": 8,
    "start_time": "2022-05-24T15:42:24.624Z"
   },
   {
    "duration": 14,
    "start_time": "2022-05-24T15:42:26.739Z"
   },
   {
    "duration": 12,
    "start_time": "2022-05-24T15:42:33.028Z"
   },
   {
    "duration": 17,
    "start_time": "2022-05-24T15:43:00.469Z"
   },
   {
    "duration": 23,
    "start_time": "2022-05-24T15:43:54.720Z"
   },
   {
    "duration": 23,
    "start_time": "2022-05-24T15:44:02.621Z"
   },
   {
    "duration": 154,
    "start_time": "2022-05-24T15:44:20.896Z"
   },
   {
    "duration": 294,
    "start_time": "2022-05-24T15:44:30.058Z"
   },
   {
    "duration": 19,
    "start_time": "2022-05-24T15:45:46.797Z"
   },
   {
    "duration": 300,
    "start_time": "2022-05-24T15:45:49.620Z"
   },
   {
    "duration": 12,
    "start_time": "2022-05-24T15:45:52.858Z"
   },
   {
    "duration": 187,
    "start_time": "2022-05-24T15:45:55.755Z"
   },
   {
    "duration": 12,
    "start_time": "2022-05-24T15:45:57.901Z"
   },
   {
    "duration": 471,
    "start_time": "2022-05-24T15:45:59.409Z"
   },
   {
    "duration": 11,
    "start_time": "2022-05-24T15:46:02.566Z"
   },
   {
    "duration": 9,
    "start_time": "2022-05-24T15:46:06.405Z"
   },
   {
    "duration": 7,
    "start_time": "2022-05-24T15:46:06.905Z"
   },
   {
    "duration": 7,
    "start_time": "2022-05-24T15:46:09.516Z"
   },
   {
    "duration": 6,
    "start_time": "2022-05-24T15:46:27.256Z"
   },
   {
    "duration": 18,
    "start_time": "2022-05-24T15:46:37.458Z"
   },
   {
    "duration": 298,
    "start_time": "2022-05-24T15:46:41.588Z"
   },
   {
    "duration": 11,
    "start_time": "2022-05-24T15:46:43.643Z"
   },
   {
    "duration": 159,
    "start_time": "2022-05-24T15:46:44.193Z"
   },
   {
    "duration": 12,
    "start_time": "2022-05-24T15:46:46.171Z"
   },
   {
    "duration": 293,
    "start_time": "2022-05-24T15:46:46.598Z"
   },
   {
    "duration": 10,
    "start_time": "2022-05-24T15:46:48.908Z"
   },
   {
    "duration": 10,
    "start_time": "2022-05-24T15:46:50.914Z"
   },
   {
    "duration": 6,
    "start_time": "2022-05-24T15:46:51.361Z"
   },
   {
    "duration": 17,
    "start_time": "2022-05-24T15:46:53.398Z"
   },
   {
    "duration": 13,
    "start_time": "2022-05-24T15:46:54.257Z"
   },
   {
    "duration": 4,
    "start_time": "2022-05-24T15:47:01.039Z"
   },
   {
    "duration": 54,
    "start_time": "2022-05-24T15:47:01.465Z"
   },
   {
    "duration": 222,
    "start_time": "2022-05-24T15:47:01.860Z"
   },
   {
    "duration": 180,
    "start_time": "2022-05-24T15:47:02.272Z"
   },
   {
    "duration": 191,
    "start_time": "2022-05-24T15:47:02.701Z"
   },
   {
    "duration": 32,
    "start_time": "2022-05-24T15:47:03.071Z"
   },
   {
    "duration": 25,
    "start_time": "2022-05-24T15:47:04.265Z"
   },
   {
    "duration": 60,
    "start_time": "2022-05-24T15:47:05.140Z"
   },
   {
    "duration": 62,
    "start_time": "2022-05-24T15:47:05.942Z"
   },
   {
    "duration": 43,
    "start_time": "2022-05-24T15:47:06.775Z"
   },
   {
    "duration": 9,
    "start_time": "2022-05-24T15:47:07.562Z"
   },
   {
    "duration": 26,
    "start_time": "2022-05-24T15:47:08.361Z"
   },
   {
    "duration": 24,
    "start_time": "2022-05-24T15:47:08.762Z"
   },
   {
    "duration": 32,
    "start_time": "2022-05-24T15:47:09.159Z"
   },
   {
    "duration": 31,
    "start_time": "2022-05-24T15:47:09.567Z"
   },
   {
    "duration": 54,
    "start_time": "2022-05-24T15:47:09.993Z"
   },
   {
    "duration": 98,
    "start_time": "2022-05-24T15:47:10.395Z"
   },
   {
    "duration": 19,
    "start_time": "2022-05-24T15:47:11.351Z"
   },
   {
    "duration": 297,
    "start_time": "2022-05-24T15:47:11.781Z"
   },
   {
    "duration": 11,
    "start_time": "2022-05-24T15:47:12.223Z"
   },
   {
    "duration": 279,
    "start_time": "2022-05-24T15:47:12.672Z"
   },
   {
    "duration": 13,
    "start_time": "2022-05-24T15:47:13.098Z"
   },
   {
    "duration": 469,
    "start_time": "2022-05-24T15:47:13.640Z"
   },
   {
    "duration": 10,
    "start_time": "2022-05-24T15:47:14.145Z"
   },
   {
    "duration": 27,
    "start_time": "2022-05-24T15:47:15.112Z"
   },
   {
    "duration": 273,
    "start_time": "2022-05-24T15:47:15.635Z"
   },
   {
    "duration": 13,
    "start_time": "2022-05-24T15:47:16.143Z"
   },
   {
    "duration": 254,
    "start_time": "2022-05-24T15:47:16.737Z"
   },
   {
    "duration": 14,
    "start_time": "2022-05-24T15:47:17.239Z"
   },
   {
    "duration": 275,
    "start_time": "2022-05-24T15:47:17.843Z"
   },
   {
    "duration": 11,
    "start_time": "2022-05-24T15:47:18.484Z"
   },
   {
    "duration": 7,
    "start_time": "2022-05-24T15:47:21.300Z"
   },
   {
    "duration": 7,
    "start_time": "2022-05-24T15:47:23.408Z"
   },
   {
    "duration": 6,
    "start_time": "2022-05-24T15:50:23.402Z"
   },
   {
    "duration": 15,
    "start_time": "2022-05-24T15:50:44.922Z"
   },
   {
    "duration": 6,
    "start_time": "2022-05-24T15:53:07.479Z"
   },
   {
    "duration": 17,
    "start_time": "2022-05-24T15:59:51.741Z"
   },
   {
    "duration": 23,
    "start_time": "2022-05-24T16:00:16.188Z"
   },
   {
    "duration": 12,
    "start_time": "2022-05-24T16:00:48.052Z"
   },
   {
    "duration": 17,
    "start_time": "2022-05-24T16:00:55.002Z"
   },
   {
    "duration": 16,
    "start_time": "2022-05-24T16:01:19.252Z"
   },
   {
    "duration": 18,
    "start_time": "2022-05-24T16:01:27.412Z"
   },
   {
    "duration": 31,
    "start_time": "2022-05-24T16:02:14.163Z"
   },
   {
    "duration": 8,
    "start_time": "2022-05-24T16:04:09.052Z"
   },
   {
    "duration": 445,
    "start_time": "2022-05-24T16:04:34.069Z"
   },
   {
    "duration": 4,
    "start_time": "2022-05-24T16:04:44.661Z"
   },
   {
    "duration": 64,
    "start_time": "2022-05-24T16:04:45.037Z"
   },
   {
    "duration": 206,
    "start_time": "2022-05-24T16:04:45.460Z"
   },
   {
    "duration": 211,
    "start_time": "2022-05-24T16:04:45.867Z"
   },
   {
    "duration": 153,
    "start_time": "2022-05-24T16:04:46.505Z"
   },
   {
    "duration": 36,
    "start_time": "2022-05-24T16:04:46.954Z"
   },
   {
    "duration": 23,
    "start_time": "2022-05-24T16:04:47.960Z"
   },
   {
    "duration": 65,
    "start_time": "2022-05-24T16:04:48.808Z"
   },
   {
    "duration": 64,
    "start_time": "2022-05-24T16:04:49.715Z"
   },
   {
    "duration": 55,
    "start_time": "2022-05-24T16:04:50.615Z"
   },
   {
    "duration": 12,
    "start_time": "2022-05-24T16:04:51.493Z"
   },
   {
    "duration": 43,
    "start_time": "2022-05-24T16:04:52.403Z"
   },
   {
    "duration": 34,
    "start_time": "2022-05-24T16:04:52.852Z"
   },
   {
    "duration": 29,
    "start_time": "2022-05-24T16:04:53.265Z"
   },
   {
    "duration": 31,
    "start_time": "2022-05-24T16:04:54.322Z"
   },
   {
    "duration": 42,
    "start_time": "2022-05-24T16:04:54.800Z"
   },
   {
    "duration": 64,
    "start_time": "2022-05-24T16:04:55.357Z"
   },
   {
    "duration": 21,
    "start_time": "2022-05-24T16:04:55.868Z"
   },
   {
    "duration": 25,
    "start_time": "2022-05-24T16:04:56.407Z"
   },
   {
    "duration": 28,
    "start_time": "2022-05-24T16:04:58.123Z"
   },
   {
    "duration": 316,
    "start_time": "2022-05-24T16:04:58.544Z"
   },
   {
    "duration": 15,
    "start_time": "2022-05-24T16:04:59.050Z"
   },
   {
    "duration": 206,
    "start_time": "2022-05-24T16:04:59.536Z"
   },
   {
    "duration": 21,
    "start_time": "2022-05-24T16:05:00.016Z"
   },
   {
    "duration": 275,
    "start_time": "2022-05-24T16:05:00.516Z"
   },
   {
    "duration": 10,
    "start_time": "2022-05-24T16:05:01.042Z"
   },
   {
    "duration": 16,
    "start_time": "2022-05-24T16:05:02.355Z"
   },
   {
    "duration": 522,
    "start_time": "2022-05-24T16:05:02.558Z"
   },
   {
    "duration": 8,
    "start_time": "2022-05-24T16:05:03.163Z"
   },
   {
    "duration": 187,
    "start_time": "2022-05-24T16:05:03.655Z"
   },
   {
    "duration": 9,
    "start_time": "2022-05-24T16:05:04.255Z"
   },
   {
    "duration": 243,
    "start_time": "2022-05-24T16:05:05.056Z"
   },
   {
    "duration": 21,
    "start_time": "2022-05-24T16:05:05.305Z"
   },
   {
    "duration": 7,
    "start_time": "2022-05-24T16:05:08.647Z"
   },
   {
    "duration": 14,
    "start_time": "2022-05-24T16:05:09.324Z"
   },
   {
    "duration": 20,
    "start_time": "2022-05-24T16:05:12.574Z"
   },
   {
    "duration": 6,
    "start_time": "2022-05-24T16:05:13.258Z"
   },
   {
    "duration": 19,
    "start_time": "2022-05-24T16:05:49.003Z"
   },
   {
    "duration": 101,
    "start_time": "2022-05-24T16:05:53.050Z"
   },
   {
    "duration": 10,
    "start_time": "2022-05-24T16:13:59.156Z"
   },
   {
    "duration": 12,
    "start_time": "2022-05-24T16:16:11.295Z"
   },
   {
    "duration": 18,
    "start_time": "2022-05-24T16:16:13.335Z"
   },
   {
    "duration": 7,
    "start_time": "2022-05-24T16:17:39.375Z"
   },
   {
    "duration": 7,
    "start_time": "2022-05-24T16:17:42.913Z"
   },
   {
    "duration": 15,
    "start_time": "2022-05-24T16:17:46.007Z"
   },
   {
    "duration": 16,
    "start_time": "2022-05-24T17:05:50.964Z"
   },
   {
    "duration": 252,
    "start_time": "2022-05-24T17:05:55.190Z"
   },
   {
    "duration": 9,
    "start_time": "2022-05-24T17:05:55.612Z"
   },
   {
    "duration": 174,
    "start_time": "2022-05-24T17:05:55.988Z"
   },
   {
    "duration": 7,
    "start_time": "2022-05-24T17:05:56.338Z"
   },
   {
    "duration": 235,
    "start_time": "2022-05-24T17:05:57.623Z"
   },
   {
    "duration": 10,
    "start_time": "2022-05-24T17:06:00.271Z"
   },
   {
    "duration": 16,
    "start_time": "2022-05-24T17:06:06.175Z"
   },
   {
    "duration": 435,
    "start_time": "2022-05-24T17:06:08.601Z"
   },
   {
    "duration": 10,
    "start_time": "2022-05-24T17:06:09.038Z"
   },
   {
    "duration": 145,
    "start_time": "2022-05-24T17:06:09.329Z"
   },
   {
    "duration": 10,
    "start_time": "2022-05-24T17:06:09.669Z"
   },
   {
    "duration": 236,
    "start_time": "2022-05-24T17:06:10.049Z"
   },
   {
    "duration": 8,
    "start_time": "2022-05-24T17:06:10.436Z"
   },
   {
    "duration": 6,
    "start_time": "2022-05-24T17:06:50.216Z"
   },
   {
    "duration": 13,
    "start_time": "2022-05-24T17:06:54.272Z"
   },
   {
    "duration": 13,
    "start_time": "2022-05-24T17:06:54.600Z"
   },
   {
    "duration": 10,
    "start_time": "2022-05-24T17:09:55.185Z"
   },
   {
    "duration": 84,
    "start_time": "2022-05-25T06:09:55.918Z"
   },
   {
    "duration": 1646,
    "start_time": "2022-05-25T06:10:06.741Z"
   },
   {
    "duration": 134,
    "start_time": "2022-05-25T06:10:08.389Z"
   },
   {
    "duration": 556,
    "start_time": "2022-05-25T06:10:08.525Z"
   },
   {
    "duration": 516,
    "start_time": "2022-05-25T06:10:09.084Z"
   },
   {
    "duration": 215,
    "start_time": "2022-05-25T06:10:09.602Z"
   },
   {
    "duration": 67,
    "start_time": "2022-05-25T06:10:09.819Z"
   },
   {
    "duration": 7,
    "start_time": "2022-05-25T06:10:17.173Z"
   },
   {
    "duration": 42,
    "start_time": "2022-05-25T06:12:13.119Z"
   },
   {
    "duration": 7,
    "start_time": "2022-05-25T06:20:34.726Z"
   },
   {
    "duration": 81,
    "start_time": "2022-05-25T06:20:54.018Z"
   },
   {
    "duration": 369,
    "start_time": "2022-05-25T06:23:10.844Z"
   },
   {
    "duration": 19,
    "start_time": "2022-05-25T06:23:20.638Z"
   },
   {
    "duration": 28,
    "start_time": "2022-05-25T06:23:33.232Z"
   },
   {
    "duration": 21,
    "start_time": "2022-05-25T06:24:01.773Z"
   },
   {
    "duration": 11,
    "start_time": "2022-05-25T06:24:34.961Z"
   },
   {
    "duration": 16,
    "start_time": "2022-05-25T06:25:03.559Z"
   },
   {
    "duration": 13,
    "start_time": "2022-05-25T06:25:22.949Z"
   },
   {
    "duration": 22,
    "start_time": "2022-05-25T06:26:18.751Z"
   },
   {
    "duration": 109,
    "start_time": "2022-05-25T06:26:36.161Z"
   },
   {
    "duration": 64,
    "start_time": "2022-05-25T06:27:03.780Z"
   },
   {
    "duration": 29,
    "start_time": "2022-05-25T06:27:17.175Z"
   },
   {
    "duration": 30,
    "start_time": "2022-05-25T06:27:33.951Z"
   },
   {
    "duration": 8,
    "start_time": "2022-05-25T06:27:53.890Z"
   },
   {
    "duration": 8,
    "start_time": "2022-05-25T06:27:56.475Z"
   },
   {
    "duration": 16,
    "start_time": "2022-05-25T06:28:57.401Z"
   },
   {
    "duration": 23,
    "start_time": "2022-05-25T06:29:11.195Z"
   },
   {
    "duration": 3,
    "start_time": "2022-05-25T06:29:47.791Z"
   },
   {
    "duration": 54,
    "start_time": "2022-05-25T06:29:48.258Z"
   },
   {
    "duration": 190,
    "start_time": "2022-05-25T06:29:48.699Z"
   },
   {
    "duration": 153,
    "start_time": "2022-05-25T06:29:49.099Z"
   },
   {
    "duration": 158,
    "start_time": "2022-05-25T06:29:49.550Z"
   },
   {
    "duration": 29,
    "start_time": "2022-05-25T06:29:49.979Z"
   },
   {
    "duration": 6,
    "start_time": "2022-05-25T06:29:51.516Z"
   },
   {
    "duration": 98,
    "start_time": "2022-05-25T06:32:11.835Z"
   },
   {
    "duration": 80,
    "start_time": "2022-05-25T06:32:31.256Z"
   },
   {
    "duration": 21,
    "start_time": "2022-05-25T06:32:58.614Z"
   },
   {
    "duration": 50,
    "start_time": "2022-05-25T06:33:21.842Z"
   },
   {
    "duration": 40,
    "start_time": "2022-05-25T06:33:31.073Z"
   },
   {
    "duration": 26,
    "start_time": "2022-05-25T06:34:04.924Z"
   },
   {
    "duration": 27,
    "start_time": "2022-05-25T06:34:24.968Z"
   },
   {
    "duration": 53,
    "start_time": "2022-05-25T06:38:28.487Z"
   },
   {
    "duration": 3,
    "start_time": "2022-05-25T06:38:38.661Z"
   },
   {
    "duration": 51,
    "start_time": "2022-05-25T06:38:39.023Z"
   },
   {
    "duration": 195,
    "start_time": "2022-05-25T06:38:39.451Z"
   },
   {
    "duration": 171,
    "start_time": "2022-05-25T06:38:39.847Z"
   },
   {
    "duration": 135,
    "start_time": "2022-05-25T06:38:40.290Z"
   },
   {
    "duration": 29,
    "start_time": "2022-05-25T06:38:40.677Z"
   },
   {
    "duration": 6,
    "start_time": "2022-05-25T06:38:41.901Z"
   },
   {
    "duration": 6,
    "start_time": "2022-05-25T06:38:42.774Z"
   },
   {
    "duration": 19,
    "start_time": "2022-05-25T06:38:43.193Z"
   },
   {
    "duration": 12,
    "start_time": "2022-05-25T06:38:43.653Z"
   },
   {
    "duration": 22,
    "start_time": "2022-05-25T06:38:44.744Z"
   },
   {
    "duration": 93,
    "start_time": "2022-05-25T06:38:54.327Z"
   },
   {
    "duration": 59,
    "start_time": "2022-05-25T06:38:54.965Z"
   },
   {
    "duration": 19,
    "start_time": "2022-05-25T06:38:57.308Z"
   },
   {
    "duration": 17,
    "start_time": "2022-05-25T06:38:58.571Z"
   },
   {
    "duration": 57,
    "start_time": "2022-05-25T06:38:59.103Z"
   },
   {
    "duration": 49,
    "start_time": "2022-05-25T06:39:05.345Z"
   },
   {
    "duration": 24,
    "start_time": "2022-05-25T06:39:05.801Z"
   },
   {
    "duration": 15,
    "start_time": "2022-05-25T06:39:06.742Z"
   },
   {
    "duration": 44,
    "start_time": "2022-05-25T06:39:07.297Z"
   },
   {
    "duration": 43,
    "start_time": "2022-05-25T06:39:07.803Z"
   },
   {
    "duration": 858,
    "start_time": "2022-05-25T06:39:32.468Z"
   },
   {
    "duration": 3,
    "start_time": "2022-05-25T06:40:07.577Z"
   },
   {
    "duration": 59,
    "start_time": "2022-05-25T06:40:08.015Z"
   },
   {
    "duration": 197,
    "start_time": "2022-05-25T06:40:08.434Z"
   },
   {
    "duration": 144,
    "start_time": "2022-05-25T06:40:08.842Z"
   },
   {
    "duration": 123,
    "start_time": "2022-05-25T06:40:09.244Z"
   },
   {
    "duration": 26,
    "start_time": "2022-05-25T06:40:09.647Z"
   },
   {
    "duration": 7,
    "start_time": "2022-05-25T06:40:10.951Z"
   },
   {
    "duration": 8,
    "start_time": "2022-05-25T06:40:11.791Z"
   },
   {
    "duration": 13,
    "start_time": "2022-05-25T06:40:12.267Z"
   },
   {
    "duration": 15,
    "start_time": "2022-05-25T06:40:12.701Z"
   },
   {
    "duration": 28,
    "start_time": "2022-05-25T06:40:13.775Z"
   },
   {
    "duration": 113,
    "start_time": "2022-05-25T06:40:14.154Z"
   },
   {
    "duration": 69,
    "start_time": "2022-05-25T06:40:14.585Z"
   },
   {
    "duration": 18,
    "start_time": "2022-05-25T06:40:15.008Z"
   },
   {
    "duration": 17,
    "start_time": "2022-05-25T06:40:16.398Z"
   },
   {
    "duration": 55,
    "start_time": "2022-05-25T06:40:16.859Z"
   },
   {
    "duration": 50,
    "start_time": "2022-05-25T06:40:17.655Z"
   },
   {
    "duration": 17,
    "start_time": "2022-05-25T06:40:21.878Z"
   },
   {
    "duration": 43,
    "start_time": "2022-05-25T06:40:26.358Z"
   },
   {
    "duration": 17,
    "start_time": "2022-05-25T06:40:30.618Z"
   },
   {
    "duration": 113,
    "start_time": "2022-05-25T06:40:39.353Z"
   },
   {
    "duration": 120,
    "start_time": "2022-05-25T06:40:44.415Z"
   },
   {
    "duration": 155,
    "start_time": "2022-05-25T06:40:49.041Z"
   },
   {
    "duration": 51,
    "start_time": "2022-05-25T06:40:54.660Z"
   },
   {
    "duration": 173,
    "start_time": "2022-05-25T06:41:00.353Z"
   },
   {
    "duration": 52,
    "start_time": "2022-05-25T06:41:07.417Z"
   },
   {
    "duration": 163,
    "start_time": "2022-05-25T06:41:17.776Z"
   },
   {
    "duration": 37,
    "start_time": "2022-05-25T06:41:31.465Z"
   },
   {
    "duration": 582,
    "start_time": "2022-05-25T06:45:05.023Z"
   },
   {
    "duration": 4,
    "start_time": "2022-05-25T06:45:13.125Z"
   },
   {
    "duration": 9,
    "start_time": "2022-05-25T06:46:01.734Z"
   },
   {
    "duration": 10,
    "start_time": "2022-05-25T06:46:19.217Z"
   },
   {
    "duration": 3,
    "start_time": "2022-05-25T06:46:44.991Z"
   },
   {
    "duration": 50,
    "start_time": "2022-05-25T06:46:45.387Z"
   },
   {
    "duration": 175,
    "start_time": "2022-05-25T06:46:45.805Z"
   },
   {
    "duration": 160,
    "start_time": "2022-05-25T06:46:46.172Z"
   },
   {
    "duration": 121,
    "start_time": "2022-05-25T06:46:46.580Z"
   },
   {
    "duration": 29,
    "start_time": "2022-05-25T06:46:46.989Z"
   },
   {
    "duration": 7,
    "start_time": "2022-05-25T06:46:48.213Z"
   },
   {
    "duration": 5,
    "start_time": "2022-05-25T06:46:49.048Z"
   },
   {
    "duration": 13,
    "start_time": "2022-05-25T06:46:49.429Z"
   },
   {
    "duration": 77,
    "start_time": "2022-05-25T06:46:49.909Z"
   },
   {
    "duration": 19,
    "start_time": "2022-05-25T06:46:50.728Z"
   },
   {
    "duration": 110,
    "start_time": "2022-05-25T06:46:51.131Z"
   },
   {
    "duration": 63,
    "start_time": "2022-05-25T06:46:51.548Z"
   },
   {
    "duration": 21,
    "start_time": "2022-05-25T06:46:51.959Z"
   },
   {
    "duration": 17,
    "start_time": "2022-05-25T06:46:52.821Z"
   },
   {
    "duration": 54,
    "start_time": "2022-05-25T06:46:53.260Z"
   },
   {
    "duration": 50,
    "start_time": "2022-05-25T06:46:53.693Z"
   },
   {
    "duration": 16,
    "start_time": "2022-05-25T06:46:54.118Z"
   },
   {
    "duration": 15,
    "start_time": "2022-05-25T06:46:55.020Z"
   },
   {
    "duration": 39,
    "start_time": "2022-05-25T06:46:55.468Z"
   },
   {
    "duration": 34,
    "start_time": "2022-05-25T06:46:55.936Z"
   },
   {
    "duration": 15,
    "start_time": "2022-05-25T06:46:56.348Z"
   },
   {
    "duration": 10,
    "start_time": "2022-05-25T06:46:57.334Z"
   },
   {
    "duration": 23,
    "start_time": "2022-05-25T06:46:58.299Z"
   },
   {
    "duration": 20,
    "start_time": "2022-05-25T06:46:58.861Z"
   },
   {
    "duration": 10,
    "start_time": "2022-05-25T06:46:59.272Z"
   },
   {
    "duration": 15,
    "start_time": "2022-05-25T06:46:59.774Z"
   },
   {
    "duration": 78,
    "start_time": "2022-05-25T06:47:33.844Z"
   },
   {
    "duration": 13,
    "start_time": "2022-05-25T06:47:55.820Z"
   },
   {
    "duration": 15,
    "start_time": "2022-05-25T06:48:28.561Z"
   },
   {
    "duration": 10,
    "start_time": "2022-05-25T06:48:43.283Z"
   },
   {
    "duration": 26,
    "start_time": "2022-05-25T06:48:50.628Z"
   },
   {
    "duration": 23,
    "start_time": "2022-05-25T06:48:59.252Z"
   },
   {
    "duration": 472,
    "start_time": "2022-05-25T06:49:49.736Z"
   },
   {
    "duration": 601,
    "start_time": "2022-05-25T06:50:12.243Z"
   },
   {
    "duration": 513,
    "start_time": "2022-05-25T06:50:35.444Z"
   },
   {
    "duration": 566,
    "start_time": "2022-05-25T06:52:19.778Z"
   },
   {
    "duration": 3,
    "start_time": "2022-05-25T06:52:30.980Z"
   },
   {
    "duration": 51,
    "start_time": "2022-05-25T06:52:31.847Z"
   },
   {
    "duration": 199,
    "start_time": "2022-05-25T06:52:32.613Z"
   },
   {
    "duration": 168,
    "start_time": "2022-05-25T06:52:32.814Z"
   },
   {
    "duration": 134,
    "start_time": "2022-05-25T06:52:33.066Z"
   },
   {
    "duration": 40,
    "start_time": "2022-05-25T06:52:33.475Z"
   },
   {
    "duration": 6,
    "start_time": "2022-05-25T06:52:34.732Z"
   },
   {
    "duration": 8,
    "start_time": "2022-05-25T06:52:35.614Z"
   },
   {
    "duration": 12,
    "start_time": "2022-05-25T06:52:36.017Z"
   },
   {
    "duration": 11,
    "start_time": "2022-05-25T06:52:36.446Z"
   },
   {
    "duration": 23,
    "start_time": "2022-05-25T06:52:37.315Z"
   },
   {
    "duration": 125,
    "start_time": "2022-05-25T06:52:37.767Z"
   },
   {
    "duration": 62,
    "start_time": "2022-05-25T06:52:38.216Z"
   },
   {
    "duration": 26,
    "start_time": "2022-05-25T06:52:39.293Z"
   },
   {
    "duration": 24,
    "start_time": "2022-05-25T06:52:40.198Z"
   },
   {
    "duration": 62,
    "start_time": "2022-05-25T06:52:40.680Z"
   },
   {
    "duration": 53,
    "start_time": "2022-05-25T06:52:41.324Z"
   },
   {
    "duration": 19,
    "start_time": "2022-05-25T06:52:42.958Z"
   },
   {
    "duration": 14,
    "start_time": "2022-05-25T06:52:43.920Z"
   },
   {
    "duration": 49,
    "start_time": "2022-05-25T06:52:44.368Z"
   },
   {
    "duration": 39,
    "start_time": "2022-05-25T06:52:44.817Z"
   },
   {
    "duration": 15,
    "start_time": "2022-05-25T06:52:45.321Z"
   },
   {
    "duration": 15,
    "start_time": "2022-05-25T06:52:46.267Z"
   },
   {
    "duration": 672,
    "start_time": "2022-05-25T06:53:03.255Z"
   },
   {
    "duration": 1601,
    "start_time": "2022-05-25T06:53:34.856Z"
   },
   {
    "duration": 553,
    "start_time": "2022-05-25T06:53:46.786Z"
   },
   {
    "duration": 1130,
    "start_time": "2022-05-25T06:54:01.781Z"
   },
   {
    "duration": 57,
    "start_time": "2022-05-25T06:54:02.917Z"
   },
   {
    "duration": 215,
    "start_time": "2022-05-25T06:54:02.976Z"
   },
   {
    "duration": 173,
    "start_time": "2022-05-25T06:54:03.193Z"
   },
   {
    "duration": 118,
    "start_time": "2022-05-25T06:54:03.474Z"
   },
   {
    "duration": 29,
    "start_time": "2022-05-25T06:54:03.889Z"
   },
   {
    "duration": 7,
    "start_time": "2022-05-25T06:54:05.171Z"
   },
   {
    "duration": 6,
    "start_time": "2022-05-25T06:54:06.065Z"
   },
   {
    "duration": 25,
    "start_time": "2022-05-25T06:54:06.491Z"
   },
   {
    "duration": 11,
    "start_time": "2022-05-25T06:54:06.945Z"
   },
   {
    "duration": 20,
    "start_time": "2022-05-25T06:54:07.863Z"
   },
   {
    "duration": 121,
    "start_time": "2022-05-25T06:54:08.332Z"
   },
   {
    "duration": 58,
    "start_time": "2022-05-25T06:54:08.823Z"
   },
   {
    "duration": 25,
    "start_time": "2022-05-25T06:54:09.387Z"
   },
   {
    "duration": 34,
    "start_time": "2022-05-25T06:54:11.091Z"
   },
   {
    "duration": 67,
    "start_time": "2022-05-25T06:54:11.563Z"
   },
   {
    "duration": 52,
    "start_time": "2022-05-25T06:54:12.429Z"
   },
   {
    "duration": 17,
    "start_time": "2022-05-25T06:54:14.469Z"
   },
   {
    "duration": 12,
    "start_time": "2022-05-25T06:54:15.370Z"
   },
   {
    "duration": 51,
    "start_time": "2022-05-25T06:54:15.897Z"
   },
   {
    "duration": 39,
    "start_time": "2022-05-25T06:54:16.379Z"
   },
   {
    "duration": 19,
    "start_time": "2022-05-25T06:54:16.913Z"
   },
   {
    "duration": 11,
    "start_time": "2022-05-25T06:54:17.917Z"
   },
   {
    "duration": 27,
    "start_time": "2022-05-25T06:57:09.242Z"
   },
   {
    "duration": 28,
    "start_time": "2022-05-25T06:57:16.389Z"
   },
   {
    "duration": 33,
    "start_time": "2022-05-25T07:01:24.327Z"
   },
   {
    "duration": 3,
    "start_time": "2022-05-25T07:02:14.005Z"
   },
   {
    "duration": 30,
    "start_time": "2022-05-25T07:03:37.363Z"
   },
   {
    "duration": 29,
    "start_time": "2022-05-25T07:03:41.317Z"
   },
   {
    "duration": 28,
    "start_time": "2022-05-25T07:03:56.954Z"
   },
   {
    "duration": 33,
    "start_time": "2022-05-25T07:04:57.833Z"
   },
   {
    "duration": 27,
    "start_time": "2022-05-25T07:06:14.565Z"
   },
   {
    "duration": 23,
    "start_time": "2022-05-25T07:07:11.937Z"
   },
   {
    "duration": 7,
    "start_time": "2022-05-25T07:07:43.749Z"
   },
   {
    "duration": 7,
    "start_time": "2022-05-25T07:08:27.460Z"
   },
   {
    "duration": 8,
    "start_time": "2022-05-25T07:08:47.878Z"
   },
   {
    "duration": 8,
    "start_time": "2022-05-25T07:09:35.770Z"
   },
   {
    "duration": 7,
    "start_time": "2022-05-25T07:09:36.664Z"
   },
   {
    "duration": 9,
    "start_time": "2022-05-25T07:50:30.416Z"
   },
   {
    "duration": 7,
    "start_time": "2022-05-25T07:51:54.920Z"
   },
   {
    "duration": 4,
    "start_time": "2022-05-25T07:53:00.215Z"
   },
   {
    "duration": 9,
    "start_time": "2022-05-25T07:53:53.658Z"
   },
   {
    "duration": 8,
    "start_time": "2022-05-25T07:54:25.582Z"
   },
   {
    "duration": 869,
    "start_time": "2022-05-25T08:05:35.528Z"
   },
   {
    "duration": 1300,
    "start_time": "2022-05-25T08:07:18.296Z"
   },
   {
    "duration": 66,
    "start_time": "2022-05-25T08:07:19.598Z"
   },
   {
    "duration": 224,
    "start_time": "2022-05-25T08:07:19.666Z"
   },
   {
    "duration": 171,
    "start_time": "2022-05-25T08:07:19.907Z"
   },
   {
    "duration": 116,
    "start_time": "2022-05-25T08:07:20.080Z"
   },
   {
    "duration": 27,
    "start_time": "2022-05-25T08:07:20.327Z"
   },
   {
    "duration": 6,
    "start_time": "2022-05-25T08:07:21.891Z"
   },
   {
    "duration": 7,
    "start_time": "2022-05-25T08:07:22.722Z"
   },
   {
    "duration": 19,
    "start_time": "2022-05-25T08:07:23.118Z"
   },
   {
    "duration": 11,
    "start_time": "2022-05-25T08:07:23.521Z"
   },
   {
    "duration": 27,
    "start_time": "2022-05-25T08:07:24.320Z"
   },
   {
    "duration": 126,
    "start_time": "2022-05-25T08:07:24.699Z"
   },
   {
    "duration": 71,
    "start_time": "2022-05-25T08:07:25.090Z"
   },
   {
    "duration": 25,
    "start_time": "2022-05-25T08:07:25.492Z"
   },
   {
    "duration": 21,
    "start_time": "2022-05-25T08:07:26.337Z"
   },
   {
    "duration": 92,
    "start_time": "2022-05-25T08:07:26.740Z"
   },
   {
    "duration": 63,
    "start_time": "2022-05-25T08:07:27.163Z"
   },
   {
    "duration": 17,
    "start_time": "2022-05-25T08:07:27.554Z"
   },
   {
    "duration": 16,
    "start_time": "2022-05-25T08:07:29.154Z"
   },
   {
    "duration": 53,
    "start_time": "2022-05-25T08:07:29.594Z"
   },
   {
    "duration": 55,
    "start_time": "2022-05-25T08:07:30.025Z"
   },
   {
    "duration": 16,
    "start_time": "2022-05-25T08:07:30.446Z"
   },
   {
    "duration": 14,
    "start_time": "2022-05-25T08:07:31.347Z"
   },
   {
    "duration": 52,
    "start_time": "2022-05-25T08:07:32.670Z"
   },
   {
    "duration": 35,
    "start_time": "2022-05-25T08:07:33.581Z"
   },
   {
    "duration": 31,
    "start_time": "2022-05-25T08:07:34.521Z"
   },
   {
    "duration": 30,
    "start_time": "2022-05-25T08:07:34.992Z"
   },
   {
    "duration": 9,
    "start_time": "2022-05-25T08:07:35.456Z"
   },
   {
    "duration": 9,
    "start_time": "2022-05-25T08:07:35.928Z"
   },
   {
    "duration": 15,
    "start_time": "2022-05-25T08:07:36.422Z"
   },
   {
    "duration": 830,
    "start_time": "2022-05-25T08:07:38.388Z"
   },
   {
    "duration": 17,
    "start_time": "2022-05-25T08:08:16.946Z"
   },
   {
    "duration": 603,
    "start_time": "2022-05-25T08:09:05.301Z"
   },
   {
    "duration": 626,
    "start_time": "2022-05-25T08:09:23.194Z"
   },
   {
    "duration": 4,
    "start_time": "2022-05-25T08:09:27.437Z"
   },
   {
    "duration": 53,
    "start_time": "2022-05-25T08:09:27.865Z"
   },
   {
    "duration": 197,
    "start_time": "2022-05-25T08:09:28.235Z"
   },
   {
    "duration": 163,
    "start_time": "2022-05-25T08:09:28.626Z"
   },
   {
    "duration": 134,
    "start_time": "2022-05-25T08:09:29.042Z"
   },
   {
    "duration": 37,
    "start_time": "2022-05-25T08:09:29.479Z"
   },
   {
    "duration": 15,
    "start_time": "2022-05-25T08:09:31.103Z"
   },
   {
    "duration": 8,
    "start_time": "2022-05-25T08:09:31.878Z"
   },
   {
    "duration": 15,
    "start_time": "2022-05-25T08:09:32.352Z"
   },
   {
    "duration": 11,
    "start_time": "2022-05-25T08:09:32.776Z"
   },
   {
    "duration": 22,
    "start_time": "2022-05-25T08:09:33.636Z"
   },
   {
    "duration": 103,
    "start_time": "2022-05-25T08:09:34.085Z"
   },
   {
    "duration": 63,
    "start_time": "2022-05-25T08:09:34.528Z"
   },
   {
    "duration": 20,
    "start_time": "2022-05-25T08:09:34.925Z"
   },
   {
    "duration": 19,
    "start_time": "2022-05-25T08:09:35.881Z"
   },
   {
    "duration": 63,
    "start_time": "2022-05-25T08:09:36.314Z"
   },
   {
    "duration": 59,
    "start_time": "2022-05-25T08:09:36.771Z"
   },
   {
    "duration": 21,
    "start_time": "2022-05-25T08:09:37.591Z"
   },
   {
    "duration": 18,
    "start_time": "2022-05-25T08:11:04.564Z"
   },
   {
    "duration": 15,
    "start_time": "2022-05-25T08:11:17.061Z"
   },
   {
    "duration": 16,
    "start_time": "2022-05-25T08:15:25.573Z"
   },
   {
    "duration": 31,
    "start_time": "2022-05-25T08:16:21.993Z"
   },
   {
    "duration": 12,
    "start_time": "2022-05-25T08:16:50.431Z"
   },
   {
    "duration": 2,
    "start_time": "2022-05-25T08:20:00.165Z"
   },
   {
    "duration": 90,
    "start_time": "2022-05-25T08:21:21.388Z"
   },
   {
    "duration": 17,
    "start_time": "2022-05-25T08:21:34.476Z"
   },
   {
    "duration": 528,
    "start_time": "2022-05-25T08:21:50.880Z"
   },
   {
    "duration": 17,
    "start_time": "2022-05-25T08:23:10.577Z"
   },
   {
    "duration": 21,
    "start_time": "2022-05-25T08:23:11.193Z"
   },
   {
    "duration": 148,
    "start_time": "2022-05-25T08:23:16.942Z"
   },
   {
    "duration": 75,
    "start_time": "2022-05-25T08:23:23.458Z"
   },
   {
    "duration": 3,
    "start_time": "2022-05-25T08:24:09.880Z"
   },
   {
    "duration": 19,
    "start_time": "2022-05-25T08:25:10.391Z"
   },
   {
    "duration": 348,
    "start_time": "2022-05-25T08:25:26.278Z"
   },
   {
    "duration": 8,
    "start_time": "2022-05-25T08:25:28.686Z"
   },
   {
    "duration": 250,
    "start_time": "2022-05-25T08:25:30.882Z"
   },
   {
    "duration": 24,
    "start_time": "2022-05-25T08:25:33.613Z"
   },
   {
    "duration": 344,
    "start_time": "2022-05-25T08:25:36.934Z"
   },
   {
    "duration": 99,
    "start_time": "2022-05-25T08:31:27.966Z"
   },
   {
    "duration": 80,
    "start_time": "2022-05-25T08:31:52.043Z"
   },
   {
    "duration": 17,
    "start_time": "2022-05-25T08:34:36.266Z"
   },
   {
    "duration": 19,
    "start_time": "2022-05-25T08:34:52.048Z"
   },
   {
    "duration": 277,
    "start_time": "2022-05-25T08:35:07.348Z"
   },
   {
    "duration": 10,
    "start_time": "2022-05-25T08:42:55.614Z"
   },
   {
    "duration": 14,
    "start_time": "2022-05-25T08:43:17.144Z"
   },
   {
    "duration": 17,
    "start_time": "2022-05-25T08:43:37.264Z"
   },
   {
    "duration": 17,
    "start_time": "2022-05-25T08:45:01.940Z"
   },
   {
    "duration": 302,
    "start_time": "2022-05-25T08:45:48.948Z"
   },
   {
    "duration": 9,
    "start_time": "2022-05-25T08:46:14.251Z"
   },
   {
    "duration": 310,
    "start_time": "2022-05-25T08:47:20.862Z"
   },
   {
    "duration": 434,
    "start_time": "2022-05-25T08:47:37.729Z"
   },
   {
    "duration": 36,
    "start_time": "2022-05-25T08:48:01.924Z"
   },
   {
    "duration": 9,
    "start_time": "2022-05-25T08:48:12.888Z"
   },
   {
    "duration": 3,
    "start_time": "2022-05-25T08:48:44.720Z"
   },
   {
    "duration": 61,
    "start_time": "2022-05-25T08:48:45.195Z"
   },
   {
    "duration": 217,
    "start_time": "2022-05-25T08:48:45.614Z"
   },
   {
    "duration": 184,
    "start_time": "2022-05-25T08:48:46.047Z"
   },
   {
    "duration": 160,
    "start_time": "2022-05-25T08:48:46.479Z"
   },
   {
    "duration": 28,
    "start_time": "2022-05-25T08:48:46.927Z"
   },
   {
    "duration": 6,
    "start_time": "2022-05-25T08:48:48.670Z"
   },
   {
    "duration": 7,
    "start_time": "2022-05-25T08:48:49.546Z"
   },
   {
    "duration": 16,
    "start_time": "2022-05-25T08:48:50.016Z"
   },
   {
    "duration": 12,
    "start_time": "2022-05-25T08:48:50.427Z"
   },
   {
    "duration": 28,
    "start_time": "2022-05-25T08:48:51.321Z"
   },
   {
    "duration": 116,
    "start_time": "2022-05-25T08:48:51.740Z"
   },
   {
    "duration": 78,
    "start_time": "2022-05-25T08:48:52.187Z"
   },
   {
    "duration": 20,
    "start_time": "2022-05-25T08:48:52.648Z"
   },
   {
    "duration": 28,
    "start_time": "2022-05-25T08:48:53.631Z"
   },
   {
    "duration": 72,
    "start_time": "2022-05-25T08:48:54.084Z"
   },
   {
    "duration": 58,
    "start_time": "2022-05-25T08:48:54.541Z"
   },
   {
    "duration": 24,
    "start_time": "2022-05-25T08:48:54.984Z"
   },
   {
    "duration": 15,
    "start_time": "2022-05-25T08:48:56.148Z"
   },
   {
    "duration": 62,
    "start_time": "2022-05-25T08:48:56.617Z"
   },
   {
    "duration": 42,
    "start_time": "2022-05-25T08:48:57.044Z"
   },
   {
    "duration": 24,
    "start_time": "2022-05-25T08:48:58.448Z"
   },
   {
    "duration": 11,
    "start_time": "2022-05-25T08:48:59.349Z"
   },
   {
    "duration": 28,
    "start_time": "2022-05-25T08:49:02.375Z"
   },
   {
    "duration": 25,
    "start_time": "2022-05-25T08:49:03.324Z"
   },
   {
    "duration": 38,
    "start_time": "2022-05-25T08:49:05.074Z"
   },
   {
    "duration": 42,
    "start_time": "2022-05-25T08:49:05.621Z"
   },
   {
    "duration": 10,
    "start_time": "2022-05-25T08:49:06.428Z"
   },
   {
    "duration": 10,
    "start_time": "2022-05-25T08:49:07.046Z"
   },
   {
    "duration": 8,
    "start_time": "2022-05-25T08:49:07.620Z"
   },
   {
    "duration": 21,
    "start_time": "2022-05-25T08:49:08.627Z"
   },
   {
    "duration": 12,
    "start_time": "2022-05-25T08:49:09.145Z"
   },
   {
    "duration": 74,
    "start_time": "2022-05-25T08:49:10.347Z"
   },
   {
    "duration": 20,
    "start_time": "2022-05-25T08:49:12.324Z"
   },
   {
    "duration": 297,
    "start_time": "2022-05-25T08:49:12.844Z"
   },
   {
    "duration": 11,
    "start_time": "2022-05-25T08:49:14.787Z"
   },
   {
    "duration": 9,
    "start_time": "2022-05-25T08:49:15.512Z"
   },
   {
    "duration": 279,
    "start_time": "2022-05-25T08:49:42.181Z"
   },
   {
    "duration": 42,
    "start_time": "2022-05-25T08:49:55.221Z"
   },
   {
    "duration": 312,
    "start_time": "2022-05-25T08:50:05.524Z"
   },
   {
    "duration": 305,
    "start_time": "2022-05-25T08:50:24.431Z"
   },
   {
    "duration": 371,
    "start_time": "2022-05-25T08:50:35.220Z"
   },
   {
    "duration": 308,
    "start_time": "2022-05-25T08:50:56.444Z"
   },
   {
    "duration": 10,
    "start_time": "2022-05-25T08:51:03.761Z"
   },
   {
    "duration": 17,
    "start_time": "2022-05-25T09:04:57.413Z"
   },
   {
    "duration": 20,
    "start_time": "2022-05-25T09:05:53.813Z"
   },
   {
    "duration": 20,
    "start_time": "2022-05-25T09:06:28.623Z"
   },
   {
    "duration": 18,
    "start_time": "2022-05-25T09:12:03.865Z"
   },
   {
    "duration": 324,
    "start_time": "2022-05-25T09:14:03.304Z"
   },
   {
    "duration": 10,
    "start_time": "2022-05-25T09:14:15.658Z"
   },
   {
    "duration": 10,
    "start_time": "2022-05-25T09:15:13.066Z"
   },
   {
    "duration": 184,
    "start_time": "2022-05-25T09:15:17.279Z"
   },
   {
    "duration": 240,
    "start_time": "2022-05-25T09:15:21.929Z"
   },
   {
    "duration": 13,
    "start_time": "2022-05-25T09:15:59.321Z"
   },
   {
    "duration": 11,
    "start_time": "2022-05-25T09:16:38.766Z"
   },
   {
    "duration": 20,
    "start_time": "2022-05-25T09:16:48.456Z"
   },
   {
    "duration": 278,
    "start_time": "2022-05-25T09:16:49.718Z"
   },
   {
    "duration": 9,
    "start_time": "2022-05-25T09:16:50.828Z"
   },
   {
    "duration": 160,
    "start_time": "2022-05-25T09:16:51.822Z"
   },
   {
    "duration": 16,
    "start_time": "2022-05-25T09:19:38.152Z"
   },
   {
    "duration": 12,
    "start_time": "2022-05-25T09:19:40.738Z"
   },
   {
    "duration": 195,
    "start_time": "2022-05-25T09:19:41.516Z"
   },
   {
    "duration": 18,
    "start_time": "2022-05-25T09:19:42.713Z"
   },
   {
    "duration": 289,
    "start_time": "2022-05-25T09:19:43.072Z"
   },
   {
    "duration": 11,
    "start_time": "2022-05-25T09:19:43.521Z"
   },
   {
    "duration": 9,
    "start_time": "2022-05-25T09:19:44.067Z"
   },
   {
    "duration": 219,
    "start_time": "2022-05-25T09:19:44.777Z"
   },
   {
    "duration": 4,
    "start_time": "2022-05-25T09:19:51.066Z"
   },
   {
    "duration": 63,
    "start_time": "2022-05-25T09:19:51.489Z"
   },
   {
    "duration": 226,
    "start_time": "2022-05-25T09:19:51.924Z"
   },
   {
    "duration": 218,
    "start_time": "2022-05-25T09:19:52.348Z"
   },
   {
    "duration": 159,
    "start_time": "2022-05-25T09:19:52.761Z"
   },
   {
    "duration": 34,
    "start_time": "2022-05-25T09:19:53.220Z"
   },
   {
    "duration": 8,
    "start_time": "2022-05-25T09:19:54.968Z"
   },
   {
    "duration": 11,
    "start_time": "2022-05-25T09:19:55.909Z"
   },
   {
    "duration": 24,
    "start_time": "2022-05-25T09:19:56.411Z"
   },
   {
    "duration": 13,
    "start_time": "2022-05-25T09:19:56.843Z"
   },
   {
    "duration": 22,
    "start_time": "2022-05-25T09:19:57.744Z"
   },
   {
    "duration": 117,
    "start_time": "2022-05-25T09:19:58.171Z"
   },
   {
    "duration": 62,
    "start_time": "2022-05-25T09:19:58.633Z"
   },
   {
    "duration": 23,
    "start_time": "2022-05-25T09:19:59.130Z"
   },
   {
    "duration": 18,
    "start_time": "2022-05-25T09:20:00.121Z"
   },
   {
    "duration": 74,
    "start_time": "2022-05-25T09:20:00.598Z"
   },
   {
    "duration": 86,
    "start_time": "2022-05-25T09:20:01.094Z"
   },
   {
    "duration": 18,
    "start_time": "2022-05-25T09:20:02.117Z"
   },
   {
    "duration": 17,
    "start_time": "2022-05-25T09:20:03.161Z"
   },
   {
    "duration": 62,
    "start_time": "2022-05-25T09:20:03.659Z"
   },
   {
    "duration": 42,
    "start_time": "2022-05-25T09:20:04.135Z"
   },
   {
    "duration": 16,
    "start_time": "2022-05-25T09:20:04.667Z"
   },
   {
    "duration": 11,
    "start_time": "2022-05-25T09:20:05.722Z"
   },
   {
    "duration": 30,
    "start_time": "2022-05-25T09:20:07.263Z"
   },
   {
    "duration": 35,
    "start_time": "2022-05-25T09:20:08.285Z"
   },
   {
    "duration": 42,
    "start_time": "2022-05-25T09:20:09.370Z"
   },
   {
    "duration": 31,
    "start_time": "2022-05-25T09:20:10.103Z"
   },
   {
    "duration": 8,
    "start_time": "2022-05-25T09:20:10.627Z"
   },
   {
    "duration": 9,
    "start_time": "2022-05-25T09:20:11.144Z"
   },
   {
    "duration": 9,
    "start_time": "2022-05-25T09:20:11.666Z"
   },
   {
    "duration": 23,
    "start_time": "2022-05-25T09:20:12.688Z"
   },
   {
    "duration": 11,
    "start_time": "2022-05-25T09:20:13.244Z"
   },
   {
    "duration": 71,
    "start_time": "2022-05-25T09:20:14.471Z"
   },
   {
    "duration": 34,
    "start_time": "2022-05-25T09:20:16.696Z"
   },
   {
    "duration": 310,
    "start_time": "2022-05-25T09:20:17.456Z"
   },
   {
    "duration": 10,
    "start_time": "2022-05-25T09:20:18.066Z"
   },
   {
    "duration": 12,
    "start_time": "2022-05-25T09:20:18.960Z"
   },
   {
    "duration": 251,
    "start_time": "2022-05-25T09:20:19.775Z"
   },
   {
    "duration": 20,
    "start_time": "2022-05-25T09:34:20.562Z"
   },
   {
    "duration": 8,
    "start_time": "2022-05-25T09:34:39.321Z"
   },
   {
    "duration": 0,
    "start_time": "2022-05-25T09:35:26.147Z"
   },
   {
    "duration": 1142,
    "start_time": "2022-05-25T09:36:49.725Z"
   },
   {
    "duration": 73,
    "start_time": "2022-05-25T09:36:50.869Z"
   },
   {
    "duration": 242,
    "start_time": "2022-05-25T09:36:50.970Z"
   },
   {
    "duration": 235,
    "start_time": "2022-05-25T09:36:51.407Z"
   },
   {
    "duration": 129,
    "start_time": "2022-05-25T09:36:51.829Z"
   },
   {
    "duration": 46,
    "start_time": "2022-05-25T09:36:52.318Z"
   },
   {
    "duration": 7,
    "start_time": "2022-05-25T09:36:54.066Z"
   },
   {
    "duration": 7,
    "start_time": "2022-05-25T09:36:54.995Z"
   },
   {
    "duration": 16,
    "start_time": "2022-05-25T09:36:55.478Z"
   },
   {
    "duration": 17,
    "start_time": "2022-05-25T09:36:55.918Z"
   },
   {
    "duration": 32,
    "start_time": "2022-05-25T09:36:56.819Z"
   },
   {
    "duration": 133,
    "start_time": "2022-05-25T09:36:57.991Z"
   },
   {
    "duration": 96,
    "start_time": "2022-05-25T09:36:58.447Z"
   },
   {
    "duration": 35,
    "start_time": "2022-05-25T09:36:58.978Z"
   },
   {
    "duration": 30,
    "start_time": "2022-05-25T09:36:59.918Z"
   },
   {
    "duration": 109,
    "start_time": "2022-05-25T09:37:00.442Z"
   },
   {
    "duration": 86,
    "start_time": "2022-05-25T09:37:00.887Z"
   },
   {
    "duration": 26,
    "start_time": "2022-05-25T09:37:01.385Z"
   },
   {
    "duration": 25,
    "start_time": "2022-05-25T09:37:02.302Z"
   },
   {
    "duration": 73,
    "start_time": "2022-05-25T09:37:02.741Z"
   },
   {
    "duration": 40,
    "start_time": "2022-05-25T09:37:03.214Z"
   },
   {
    "duration": 20,
    "start_time": "2022-05-25T09:37:03.647Z"
   },
   {
    "duration": 12,
    "start_time": "2022-05-25T09:37:04.641Z"
   },
   {
    "duration": 30,
    "start_time": "2022-05-25T09:37:06.089Z"
   },
   {
    "duration": 29,
    "start_time": "2022-05-25T09:37:07.319Z"
   },
   {
    "duration": 36,
    "start_time": "2022-05-25T09:37:08.326Z"
   },
   {
    "duration": 27,
    "start_time": "2022-05-25T09:37:08.833Z"
   },
   {
    "duration": 135,
    "start_time": "2022-05-25T09:37:09.431Z"
   },
   {
    "duration": 9,
    "start_time": "2022-05-25T09:37:09.946Z"
   },
   {
    "duration": 13,
    "start_time": "2022-05-25T09:37:33.175Z"
   },
   {
    "duration": 7,
    "start_time": "2022-05-25T09:37:59.964Z"
   },
   {
    "duration": 21,
    "start_time": "2022-05-25T09:39:07.344Z"
   },
   {
    "duration": 37,
    "start_time": "2022-05-25T09:39:13.013Z"
   },
   {
    "duration": 10,
    "start_time": "2022-05-25T09:41:41.214Z"
   },
   {
    "duration": 15,
    "start_time": "2022-05-25T09:42:29.524Z"
   },
   {
    "duration": 16,
    "start_time": "2022-05-25T09:42:37.068Z"
   },
   {
    "duration": 14,
    "start_time": "2022-05-25T09:42:48.821Z"
   },
   {
    "duration": 454,
    "start_time": "2022-05-25T09:43:36.724Z"
   },
   {
    "duration": 19,
    "start_time": "2022-05-25T09:45:23.777Z"
   },
   {
    "duration": 9,
    "start_time": "2022-05-25T09:46:14.841Z"
   },
   {
    "duration": 6,
    "start_time": "2022-05-25T09:46:22.964Z"
   },
   {
    "duration": 17,
    "start_time": "2022-05-25T09:51:21.047Z"
   },
   {
    "duration": 12,
    "start_time": "2022-05-25T09:51:27.368Z"
   },
   {
    "duration": 172,
    "start_time": "2022-05-25T09:51:28.374Z"
   },
   {
    "duration": 17,
    "start_time": "2022-05-25T09:51:30.063Z"
   },
   {
    "duration": 359,
    "start_time": "2022-05-25T09:51:31.122Z"
   },
   {
    "duration": 11,
    "start_time": "2022-05-25T09:51:32.241Z"
   },
   {
    "duration": 292,
    "start_time": "2022-05-25T09:56:24.489Z"
   },
   {
    "duration": 241,
    "start_time": "2022-05-25T10:21:50.868Z"
   },
   {
    "duration": 230,
    "start_time": "2022-05-25T10:33:39.499Z"
   },
   {
    "duration": 11,
    "start_time": "2022-05-25T10:33:53.127Z"
   },
   {
    "duration": 331,
    "start_time": "2022-05-25T10:35:37.754Z"
   },
   {
    "duration": 11,
    "start_time": "2022-05-25T10:38:53.304Z"
   },
   {
    "duration": 18,
    "start_time": "2022-05-25T10:41:08.878Z"
   },
   {
    "duration": 378,
    "start_time": "2022-05-25T10:41:38.093Z"
   },
   {
    "duration": 172,
    "start_time": "2022-05-25T10:45:47.676Z"
   },
   {
    "duration": 183,
    "start_time": "2022-05-25T10:45:53.097Z"
   },
   {
    "duration": 10,
    "start_time": "2022-05-25T10:46:00.379Z"
   },
   {
    "duration": 266,
    "start_time": "2022-05-25T10:47:28.974Z"
   },
   {
    "duration": 269,
    "start_time": "2022-05-25T10:48:10.326Z"
   },
   {
    "duration": 198,
    "start_time": "2022-05-25T10:48:27.478Z"
   },
   {
    "duration": 87,
    "start_time": "2022-05-25T10:55:05.304Z"
   },
   {
    "duration": 308,
    "start_time": "2022-05-25T10:55:10.300Z"
   },
   {
    "duration": 413,
    "start_time": "2022-05-25T10:55:18.029Z"
   },
   {
    "duration": 6,
    "start_time": "2022-05-25T10:55:34.596Z"
   },
   {
    "duration": 18,
    "start_time": "2022-05-25T10:58:44.659Z"
   },
   {
    "duration": 109,
    "start_time": "2022-05-25T10:59:17.356Z"
   },
   {
    "duration": 119,
    "start_time": "2022-05-25T10:59:25.677Z"
   },
   {
    "duration": 134,
    "start_time": "2022-05-25T11:00:12.093Z"
   },
   {
    "duration": 125,
    "start_time": "2022-05-25T11:00:21.789Z"
   },
   {
    "duration": 112,
    "start_time": "2022-05-25T11:01:05.365Z"
   },
   {
    "duration": 107,
    "start_time": "2022-05-25T11:03:09.181Z"
   },
   {
    "duration": 107,
    "start_time": "2022-05-25T11:09:14.053Z"
   },
   {
    "duration": 20,
    "start_time": "2022-05-25T11:09:21.300Z"
   },
   {
    "duration": 110,
    "start_time": "2022-05-25T11:09:48.946Z"
   },
   {
    "duration": 7,
    "start_time": "2022-05-25T11:13:04.581Z"
   },
   {
    "duration": 14,
    "start_time": "2022-05-25T11:14:58.586Z"
   },
   {
    "duration": 3,
    "start_time": "2022-05-25T12:37:58.893Z"
   },
   {
    "duration": 82,
    "start_time": "2022-05-25T12:37:59.518Z"
   },
   {
    "duration": 530,
    "start_time": "2022-05-25T12:38:00.080Z"
   },
   {
    "duration": 251,
    "start_time": "2022-05-25T12:38:00.669Z"
   },
   {
    "duration": 147,
    "start_time": "2022-05-25T12:38:01.225Z"
   },
   {
    "duration": 47,
    "start_time": "2022-05-25T12:38:01.817Z"
   },
   {
    "duration": 8,
    "start_time": "2022-05-25T12:38:04.106Z"
   },
   {
    "duration": 7,
    "start_time": "2022-05-25T12:38:05.197Z"
   },
   {
    "duration": 16,
    "start_time": "2022-05-25T12:38:05.732Z"
   },
   {
    "duration": 17,
    "start_time": "2022-05-25T12:38:06.289Z"
   },
   {
    "duration": 30,
    "start_time": "2022-05-25T12:38:07.411Z"
   },
   {
    "duration": 115,
    "start_time": "2022-05-25T12:38:07.948Z"
   },
   {
    "duration": 73,
    "start_time": "2022-05-25T12:38:08.505Z"
   },
   {
    "duration": 22,
    "start_time": "2022-05-25T12:38:09.076Z"
   },
   {
    "duration": 18,
    "start_time": "2022-05-25T12:38:10.239Z"
   },
   {
    "duration": 64,
    "start_time": "2022-05-25T12:38:10.796Z"
   },
   {
    "duration": 56,
    "start_time": "2022-05-25T12:38:11.426Z"
   },
   {
    "duration": 19,
    "start_time": "2022-05-25T12:38:12.005Z"
   },
   {
    "duration": 15,
    "start_time": "2022-05-25T12:38:13.152Z"
   },
   {
    "duration": 46,
    "start_time": "2022-05-25T12:38:13.727Z"
   },
   {
    "duration": 52,
    "start_time": "2022-05-25T12:38:14.292Z"
   },
   {
    "duration": 16,
    "start_time": "2022-05-25T12:38:15.766Z"
   },
   {
    "duration": 13,
    "start_time": "2022-05-25T12:38:16.927Z"
   },
   {
    "duration": 29,
    "start_time": "2022-05-25T12:38:18.998Z"
   },
   {
    "duration": 36,
    "start_time": "2022-05-25T12:38:19.994Z"
   },
   {
    "duration": 41,
    "start_time": "2022-05-25T12:38:21.200Z"
   },
   {
    "duration": 30,
    "start_time": "2022-05-25T12:38:21.818Z"
   },
   {
    "duration": 10,
    "start_time": "2022-05-25T12:38:22.422Z"
   },
   {
    "duration": 7,
    "start_time": "2022-05-25T12:38:23.036Z"
   },
   {
    "duration": 9,
    "start_time": "2022-05-25T12:38:23.621Z"
   },
   {
    "duration": 16,
    "start_time": "2022-05-25T12:38:24.872Z"
   },
   {
    "duration": 11,
    "start_time": "2022-05-25T12:38:25.554Z"
   },
   {
    "duration": 78,
    "start_time": "2022-05-25T12:38:26.803Z"
   },
   {
    "duration": 25,
    "start_time": "2022-05-25T12:38:28.608Z"
   },
   {
    "duration": 291,
    "start_time": "2022-05-25T12:38:29.198Z"
   },
   {
    "duration": 124,
    "start_time": "2022-05-25T12:38:29.806Z"
   },
   {
    "duration": 8,
    "start_time": "2022-05-25T12:38:30.467Z"
   },
   {
    "duration": 352,
    "start_time": "2022-05-25T12:38:31.734Z"
   },
   {
    "duration": 130,
    "start_time": "2022-05-25T12:38:32.310Z"
   },
   {
    "duration": 9,
    "start_time": "2022-05-25T12:38:32.840Z"
   },
   {
    "duration": 310,
    "start_time": "2022-05-25T12:38:34.008Z"
   },
   {
    "duration": 113,
    "start_time": "2022-05-25T12:38:38.996Z"
   },
   {
    "duration": 8,
    "start_time": "2022-05-25T12:38:39.553Z"
   },
   {
    "duration": 26,
    "start_time": "2022-05-25T12:38:41.755Z"
   },
   {
    "duration": 289,
    "start_time": "2022-05-25T12:38:42.278Z"
   },
   {
    "duration": 112,
    "start_time": "2022-05-25T12:38:42.833Z"
   },
   {
    "duration": 10,
    "start_time": "2022-05-25T12:38:43.369Z"
   },
   {
    "duration": 206,
    "start_time": "2022-05-25T12:38:44.465Z"
   },
   {
    "duration": 108,
    "start_time": "2022-05-25T12:38:45.022Z"
   },
   {
    "duration": 15,
    "start_time": "2022-05-25T12:38:45.607Z"
   },
   {
    "duration": 409,
    "start_time": "2022-05-25T12:38:46.796Z"
   },
   {
    "duration": 110,
    "start_time": "2022-05-25T12:38:48.106Z"
   },
   {
    "duration": 10,
    "start_time": "2022-05-25T12:38:48.657Z"
   },
   {
    "duration": 7,
    "start_time": "2022-05-25T12:38:55.197Z"
   },
   {
    "duration": 6,
    "start_time": "2022-05-25T12:38:56.469Z"
   },
   {
    "duration": 10,
    "start_time": "2022-05-25T12:38:58.732Z"
   },
   {
    "duration": 10,
    "start_time": "2022-05-25T12:39:00.329Z"
   },
   {
    "duration": 1200,
    "start_time": "2022-05-25T13:07:35.645Z"
   },
   {
    "duration": 55,
    "start_time": "2022-05-25T13:07:36.847Z"
   },
   {
    "duration": 209,
    "start_time": "2022-05-25T13:07:36.903Z"
   },
   {
    "duration": 179,
    "start_time": "2022-05-25T13:07:37.114Z"
   },
   {
    "duration": 121,
    "start_time": "2022-05-25T13:07:37.295Z"
   },
   {
    "duration": 44,
    "start_time": "2022-05-25T13:07:37.417Z"
   },
   {
    "duration": 6,
    "start_time": "2022-05-25T13:07:37.463Z"
   },
   {
    "duration": 10,
    "start_time": "2022-05-25T13:07:37.470Z"
   },
   {
    "duration": 15,
    "start_time": "2022-05-25T13:07:37.482Z"
   },
   {
    "duration": 40,
    "start_time": "2022-05-25T13:07:37.499Z"
   },
   {
    "duration": 25,
    "start_time": "2022-05-25T13:07:37.543Z"
   },
   {
    "duration": 139,
    "start_time": "2022-05-25T13:07:37.569Z"
   },
   {
    "duration": 77,
    "start_time": "2022-05-25T13:07:37.710Z"
   },
   {
    "duration": 47,
    "start_time": "2022-05-25T13:07:37.792Z"
   },
   {
    "duration": 18,
    "start_time": "2022-05-25T13:07:37.842Z"
   },
   {
    "duration": 97,
    "start_time": "2022-05-25T13:07:37.862Z"
   },
   {
    "duration": 70,
    "start_time": "2022-05-25T13:07:37.962Z"
   },
   {
    "duration": 27,
    "start_time": "2022-05-25T13:07:38.035Z"
   },
   {
    "duration": 24,
    "start_time": "2022-05-25T13:07:38.064Z"
   },
   {
    "duration": 97,
    "start_time": "2022-05-25T13:07:38.090Z"
   },
   {
    "duration": 58,
    "start_time": "2022-05-25T13:07:38.188Z"
   },
   {
    "duration": 15,
    "start_time": "2022-05-25T13:07:38.247Z"
   },
   {
    "duration": 10,
    "start_time": "2022-05-25T13:07:38.264Z"
   },
   {
    "duration": 66,
    "start_time": "2022-05-25T13:07:38.277Z"
   },
   {
    "duration": 28,
    "start_time": "2022-05-25T13:07:38.345Z"
   },
   {
    "duration": 58,
    "start_time": "2022-05-25T13:07:38.375Z"
   },
   {
    "duration": 36,
    "start_time": "2022-05-25T13:07:38.436Z"
   },
   {
    "duration": 7,
    "start_time": "2022-05-25T13:07:38.474Z"
   },
   {
    "duration": 7,
    "start_time": "2022-05-25T13:07:38.482Z"
   },
   {
    "duration": 34,
    "start_time": "2022-05-25T13:07:38.490Z"
   },
   {
    "duration": 20,
    "start_time": "2022-05-25T13:07:38.526Z"
   },
   {
    "duration": 15,
    "start_time": "2022-05-25T13:07:38.548Z"
   },
   {
    "duration": 100,
    "start_time": "2022-05-25T13:07:38.565Z"
   },
   {
    "duration": 19,
    "start_time": "2022-05-25T13:07:38.667Z"
   },
   {
    "duration": 350,
    "start_time": "2022-05-25T13:07:38.688Z"
   },
   {
    "duration": 229,
    "start_time": "2022-05-25T13:07:39.040Z"
   },
   {
    "duration": 11,
    "start_time": "2022-05-25T13:07:39.271Z"
   },
   {
    "duration": 247,
    "start_time": "2022-05-25T13:07:39.283Z"
   },
   {
    "duration": 118,
    "start_time": "2022-05-25T13:07:39.532Z"
   },
   {
    "duration": 8,
    "start_time": "2022-05-25T13:07:39.652Z"
   },
   {
    "duration": 306,
    "start_time": "2022-05-25T13:07:39.666Z"
   },
   {
    "duration": 127,
    "start_time": "2022-05-25T13:07:39.974Z"
   },
   {
    "duration": 7,
    "start_time": "2022-05-25T13:07:40.103Z"
   },
   {
    "duration": 35,
    "start_time": "2022-05-25T13:07:40.112Z"
   },
   {
    "duration": 277,
    "start_time": "2022-05-25T13:07:40.148Z"
   },
   {
    "duration": 122,
    "start_time": "2022-05-25T13:07:40.427Z"
   },
   {
    "duration": 10,
    "start_time": "2022-05-25T13:07:40.552Z"
   },
   {
    "duration": 223,
    "start_time": "2022-05-25T13:07:40.564Z"
   },
   {
    "duration": 233,
    "start_time": "2022-05-25T13:07:40.789Z"
   },
   {
    "duration": 12,
    "start_time": "2022-05-25T13:07:41.024Z"
   },
   {
    "duration": 268,
    "start_time": "2022-05-25T13:07:41.038Z"
   },
   {
    "duration": 128,
    "start_time": "2022-05-25T13:07:41.309Z"
   },
   {
    "duration": 9,
    "start_time": "2022-05-25T13:07:41.440Z"
   },
   {
    "duration": 8,
    "start_time": "2022-05-25T13:07:41.451Z"
   },
   {
    "duration": 6,
    "start_time": "2022-05-25T13:07:41.461Z"
   },
   {
    "duration": 18,
    "start_time": "2022-05-25T13:07:41.470Z"
   },
   {
    "duration": 13,
    "start_time": "2022-05-25T13:07:41.524Z"
   },
   {
    "duration": 1075,
    "start_time": "2022-05-25T19:06:01.479Z"
   },
   {
    "duration": 65,
    "start_time": "2022-05-25T19:06:02.557Z"
   },
   {
    "duration": 232,
    "start_time": "2022-05-25T19:06:02.624Z"
   },
   {
    "duration": 167,
    "start_time": "2022-05-25T19:06:02.862Z"
   },
   {
    "duration": 132,
    "start_time": "2022-05-25T19:06:03.031Z"
   },
   {
    "duration": 26,
    "start_time": "2022-05-25T19:06:03.165Z"
   },
   {
    "duration": 5,
    "start_time": "2022-05-25T19:06:03.193Z"
   },
   {
    "duration": 8,
    "start_time": "2022-05-25T19:06:03.199Z"
   },
   {
    "duration": 13,
    "start_time": "2022-05-25T19:06:03.209Z"
   },
   {
    "duration": 22,
    "start_time": "2022-05-25T19:06:03.226Z"
   },
   {
    "duration": 29,
    "start_time": "2022-05-25T19:06:03.250Z"
   },
   {
    "duration": 108,
    "start_time": "2022-05-25T19:06:03.280Z"
   },
   {
    "duration": 65,
    "start_time": "2022-05-25T19:06:03.390Z"
   },
   {
    "duration": 16,
    "start_time": "2022-05-25T19:06:03.457Z"
   },
   {
    "duration": 15,
    "start_time": "2022-05-25T19:06:03.475Z"
   },
   {
    "duration": 93,
    "start_time": "2022-05-25T19:06:03.491Z"
   },
   {
    "duration": 59,
    "start_time": "2022-05-25T19:06:03.586Z"
   },
   {
    "duration": 14,
    "start_time": "2022-05-25T19:06:03.647Z"
   },
   {
    "duration": 13,
    "start_time": "2022-05-25T19:06:03.662Z"
   },
   {
    "duration": 72,
    "start_time": "2022-05-25T19:06:03.676Z"
   },
   {
    "duration": 34,
    "start_time": "2022-05-25T19:06:03.751Z"
   },
   {
    "duration": 13,
    "start_time": "2022-05-25T19:06:03.786Z"
   },
   {
    "duration": 29,
    "start_time": "2022-05-25T19:06:03.800Z"
   },
   {
    "duration": 34,
    "start_time": "2022-05-25T19:06:03.831Z"
   },
   {
    "duration": 26,
    "start_time": "2022-05-25T19:06:03.866Z"
   },
   {
    "duration": 51,
    "start_time": "2022-05-25T19:06:03.893Z"
   },
   {
    "duration": 24,
    "start_time": "2022-05-25T19:06:03.945Z"
   },
   {
    "duration": 9,
    "start_time": "2022-05-25T19:06:03.973Z"
   },
   {
    "duration": 7,
    "start_time": "2022-05-25T19:06:03.983Z"
   },
   {
    "duration": 38,
    "start_time": "2022-05-25T19:06:03.991Z"
   },
   {
    "duration": 17,
    "start_time": "2022-05-25T19:06:04.031Z"
   },
   {
    "duration": 10,
    "start_time": "2022-05-25T19:06:04.049Z"
   },
   {
    "duration": 83,
    "start_time": "2022-05-25T19:06:04.060Z"
   },
   {
    "duration": 16,
    "start_time": "2022-05-25T19:06:04.144Z"
   },
   {
    "duration": 281,
    "start_time": "2022-05-25T19:06:04.161Z"
   },
   {
    "duration": 181,
    "start_time": "2022-05-25T19:06:04.445Z"
   },
   {
    "duration": 10,
    "start_time": "2022-05-25T19:06:04.628Z"
   },
   {
    "duration": 214,
    "start_time": "2022-05-25T19:06:04.639Z"
   },
   {
    "duration": 123,
    "start_time": "2022-05-25T19:06:04.855Z"
   },
   {
    "duration": 8,
    "start_time": "2022-05-25T19:06:04.979Z"
   },
   {
    "duration": 261,
    "start_time": "2022-05-25T19:06:04.989Z"
   },
   {
    "duration": 111,
    "start_time": "2022-05-25T19:06:05.252Z"
   },
   {
    "duration": 7,
    "start_time": "2022-05-25T19:06:05.364Z"
   },
   {
    "duration": 15,
    "start_time": "2022-05-25T19:06:05.372Z"
   },
   {
    "duration": 277,
    "start_time": "2022-05-25T19:06:05.389Z"
   },
   {
    "duration": 104,
    "start_time": "2022-05-25T19:06:05.667Z"
   },
   {
    "duration": 7,
    "start_time": "2022-05-25T19:06:05.773Z"
   },
   {
    "duration": 176,
    "start_time": "2022-05-25T19:06:05.781Z"
   },
   {
    "duration": 203,
    "start_time": "2022-05-25T19:06:05.959Z"
   },
   {
    "duration": 9,
    "start_time": "2022-05-25T19:06:06.163Z"
   },
   {
    "duration": 235,
    "start_time": "2022-05-25T19:06:06.174Z"
   },
   {
    "duration": 94,
    "start_time": "2022-05-25T19:06:06.411Z"
   },
   {
    "duration": 20,
    "start_time": "2022-05-25T19:06:06.507Z"
   },
   {
    "duration": 18,
    "start_time": "2022-05-25T19:06:06.529Z"
   },
   {
    "duration": 6,
    "start_time": "2022-05-25T19:06:06.549Z"
   },
   {
    "duration": 13,
    "start_time": "2022-05-25T19:06:06.556Z"
   },
   {
    "duration": 8,
    "start_time": "2022-05-25T19:06:06.570Z"
   },
   {
    "duration": 113,
    "start_time": "2022-05-25T19:09:00.282Z"
   },
   {
    "duration": 32,
    "start_time": "2022-05-25T19:09:11.472Z"
   },
   {
    "duration": 269,
    "start_time": "2022-05-25T19:42:51.644Z"
   },
   {
    "duration": 66,
    "start_time": "2022-05-26T05:19:25.725Z"
   },
   {
    "duration": 52,
    "start_time": "2022-05-26T05:29:49.078Z"
   },
   {
    "duration": 1363,
    "start_time": "2022-05-26T05:30:06.757Z"
   },
   {
    "duration": 94,
    "start_time": "2022-05-26T05:30:08.122Z"
   },
   {
    "duration": 238,
    "start_time": "2022-05-26T05:30:08.218Z"
   },
   {
    "duration": 310,
    "start_time": "2022-05-26T05:30:08.471Z"
   },
   {
    "duration": 302,
    "start_time": "2022-05-26T05:30:08.892Z"
   },
   {
    "duration": 80,
    "start_time": "2022-05-26T05:30:09.315Z"
   },
   {
    "duration": 7,
    "start_time": "2022-05-26T05:30:11.493Z"
   },
   {
    "duration": 6,
    "start_time": "2022-05-26T05:30:12.811Z"
   },
   {
    "duration": 13,
    "start_time": "2022-05-26T05:30:13.289Z"
   },
   {
    "duration": 10,
    "start_time": "2022-05-26T05:30:13.713Z"
   },
   {
    "duration": 20,
    "start_time": "2022-05-26T05:30:14.623Z"
   },
   {
    "duration": 119,
    "start_time": "2022-05-26T05:30:15.066Z"
   },
   {
    "duration": 61,
    "start_time": "2022-05-26T05:30:15.518Z"
   },
   {
    "duration": 42,
    "start_time": "2022-05-26T05:30:52.762Z"
   },
   {
    "duration": 39,
    "start_time": "2022-05-26T05:31:15.151Z"
   },
   {
    "duration": 28,
    "start_time": "2022-05-26T05:34:26.939Z"
   },
   {
    "duration": 44,
    "start_time": "2022-05-26T05:37:09.591Z"
   },
   {
    "duration": 64,
    "start_time": "2022-05-26T05:39:14.015Z"
   },
   {
    "duration": 164,
    "start_time": "2022-05-26T05:39:27.016Z"
   },
   {
    "duration": 38,
    "start_time": "2022-05-26T05:40:31.186Z"
   },
   {
    "duration": 12,
    "start_time": "2022-05-26T05:40:51.774Z"
   },
   {
    "duration": 2,
    "start_time": "2022-05-26T05:43:11.993Z"
   },
   {
    "duration": 51,
    "start_time": "2022-05-26T05:43:12.778Z"
   },
   {
    "duration": 216,
    "start_time": "2022-05-26T05:43:13.222Z"
   },
   {
    "duration": 161,
    "start_time": "2022-05-26T05:43:13.584Z"
   },
   {
    "duration": 147,
    "start_time": "2022-05-26T05:43:13.962Z"
   },
   {
    "duration": 26,
    "start_time": "2022-05-26T05:43:14.357Z"
   },
   {
    "duration": 9,
    "start_time": "2022-05-26T05:43:16.315Z"
   },
   {
    "duration": 7,
    "start_time": "2022-05-26T05:43:17.523Z"
   },
   {
    "duration": 13,
    "start_time": "2022-05-26T05:43:17.904Z"
   },
   {
    "duration": 10,
    "start_time": "2022-05-26T05:43:18.292Z"
   },
   {
    "duration": 20,
    "start_time": "2022-05-26T05:43:19.153Z"
   },
   {
    "duration": 113,
    "start_time": "2022-05-26T05:43:19.540Z"
   },
   {
    "duration": 58,
    "start_time": "2022-05-26T05:43:19.981Z"
   },
   {
    "duration": 23,
    "start_time": "2022-05-26T05:43:21.648Z"
   },
   {
    "duration": 16,
    "start_time": "2022-05-26T05:43:22.556Z"
   },
   {
    "duration": 68,
    "start_time": "2022-05-26T05:43:22.941Z"
   },
   {
    "duration": 51,
    "start_time": "2022-05-26T05:43:23.415Z"
   },
   {
    "duration": 17,
    "start_time": "2022-05-26T05:43:25.003Z"
   },
   {
    "duration": 15,
    "start_time": "2022-05-26T05:43:29.660Z"
   },
   {
    "duration": 43,
    "start_time": "2022-05-26T05:43:30.086Z"
   },
   {
    "duration": 35,
    "start_time": "2022-05-26T05:43:30.493Z"
   },
   {
    "duration": 16,
    "start_time": "2022-05-26T05:43:30.956Z"
   },
   {
    "duration": 10,
    "start_time": "2022-05-26T05:43:31.782Z"
   },
   {
    "duration": 25,
    "start_time": "2022-05-26T05:43:47.298Z"
   },
   {
    "duration": 22,
    "start_time": "2022-05-26T05:43:48.177Z"
   },
   {
    "duration": 37,
    "start_time": "2022-05-26T05:43:49.904Z"
   },
   {
    "duration": 35,
    "start_time": "2022-05-26T05:44:04.062Z"
   },
   {
    "duration": 53,
    "start_time": "2022-05-26T05:48:43.686Z"
   },
   {
    "duration": 1154,
    "start_time": "2022-05-26T05:48:49.831Z"
   },
   {
    "duration": 57,
    "start_time": "2022-05-26T05:48:50.987Z"
   },
   {
    "duration": 181,
    "start_time": "2022-05-26T05:48:51.046Z"
   },
   {
    "duration": 149,
    "start_time": "2022-05-26T05:48:51.404Z"
   },
   {
    "duration": 106,
    "start_time": "2022-05-26T05:48:51.797Z"
   },
   {
    "duration": 38,
    "start_time": "2022-05-26T05:48:52.213Z"
   },
   {
    "duration": 5,
    "start_time": "2022-05-26T05:48:54.163Z"
   },
   {
    "duration": 7,
    "start_time": "2022-05-26T05:48:55.373Z"
   },
   {
    "duration": 16,
    "start_time": "2022-05-26T05:48:55.792Z"
   },
   {
    "duration": 14,
    "start_time": "2022-05-26T05:48:56.199Z"
   },
   {
    "duration": 20,
    "start_time": "2022-05-26T05:48:57.035Z"
   },
   {
    "duration": 107,
    "start_time": "2022-05-26T05:48:57.452Z"
   },
   {
    "duration": 58,
    "start_time": "2022-05-26T05:48:57.916Z"
   },
   {
    "duration": 18,
    "start_time": "2022-05-26T05:48:59.625Z"
   },
   {
    "duration": 17,
    "start_time": "2022-05-26T05:49:00.557Z"
   },
   {
    "duration": 65,
    "start_time": "2022-05-26T05:49:00.987Z"
   },
   {
    "duration": 44,
    "start_time": "2022-05-26T05:49:01.422Z"
   },
   {
    "duration": 17,
    "start_time": "2022-05-26T05:49:06.630Z"
   },
   {
    "duration": 15,
    "start_time": "2022-05-26T05:49:07.433Z"
   },
   {
    "duration": 47,
    "start_time": "2022-05-26T05:49:07.878Z"
   },
   {
    "duration": 37,
    "start_time": "2022-05-26T05:49:08.256Z"
   },
   {
    "duration": 15,
    "start_time": "2022-05-26T05:49:08.734Z"
   },
   {
    "duration": 11,
    "start_time": "2022-05-26T05:49:09.547Z"
   },
   {
    "duration": 28,
    "start_time": "2022-05-26T05:49:11.873Z"
   },
   {
    "duration": 26,
    "start_time": "2022-05-26T05:49:12.858Z"
   },
   {
    "duration": 40,
    "start_time": "2022-05-26T05:49:13.835Z"
   },
   {
    "duration": 70,
    "start_time": "2022-05-26T05:53:22.998Z"
   },
   {
    "duration": 42,
    "start_time": "2022-05-26T05:53:35.023Z"
   },
   {
    "duration": 13,
    "start_time": "2022-05-26T05:53:57.354Z"
   },
   {
    "duration": 108,
    "start_time": "2022-05-26T05:54:38.538Z"
   },
   {
    "duration": 33,
    "start_time": "2022-05-26T05:55:13.119Z"
   },
   {
    "duration": 3,
    "start_time": "2022-05-26T05:55:23.648Z"
   },
   {
    "duration": 52,
    "start_time": "2022-05-26T05:55:24.511Z"
   },
   {
    "duration": 177,
    "start_time": "2022-05-26T05:55:24.942Z"
   },
   {
    "duration": 154,
    "start_time": "2022-05-26T05:55:25.376Z"
   },
   {
    "duration": 117,
    "start_time": "2022-05-26T05:55:25.817Z"
   },
   {
    "duration": 33,
    "start_time": "2022-05-26T05:55:26.248Z"
   },
   {
    "duration": 5,
    "start_time": "2022-05-26T05:55:28.404Z"
   },
   {
    "duration": 7,
    "start_time": "2022-05-26T05:55:29.715Z"
   },
   {
    "duration": 15,
    "start_time": "2022-05-26T05:55:30.131Z"
   },
   {
    "duration": 12,
    "start_time": "2022-05-26T05:55:30.579Z"
   },
   {
    "duration": 20,
    "start_time": "2022-05-26T05:55:31.438Z"
   },
   {
    "duration": 110,
    "start_time": "2022-05-26T05:55:31.879Z"
   },
   {
    "duration": 55,
    "start_time": "2022-05-26T05:55:32.299Z"
   },
   {
    "duration": 18,
    "start_time": "2022-05-26T05:55:33.659Z"
   },
   {
    "duration": 17,
    "start_time": "2022-05-26T05:55:34.615Z"
   },
   {
    "duration": 60,
    "start_time": "2022-05-26T05:55:35.113Z"
   },
   {
    "duration": 43,
    "start_time": "2022-05-26T05:55:35.568Z"
   },
   {
    "duration": 17,
    "start_time": "2022-05-26T05:55:36.981Z"
   },
   {
    "duration": 15,
    "start_time": "2022-05-26T05:55:37.933Z"
   },
   {
    "duration": 44,
    "start_time": "2022-05-26T05:55:38.393Z"
   },
   {
    "duration": 40,
    "start_time": "2022-05-26T05:55:38.838Z"
   },
   {
    "duration": 16,
    "start_time": "2022-05-26T05:55:39.301Z"
   },
   {
    "duration": 14,
    "start_time": "2022-05-26T05:55:40.289Z"
   },
   {
    "duration": 23,
    "start_time": "2022-05-26T05:55:42.716Z"
   },
   {
    "duration": 21,
    "start_time": "2022-05-26T05:55:43.752Z"
   },
   {
    "duration": 36,
    "start_time": "2022-05-26T05:55:44.732Z"
   },
   {
    "duration": 12,
    "start_time": "2022-05-26T05:56:17.591Z"
   },
   {
    "duration": 11,
    "start_time": "2022-05-26T05:56:24.211Z"
   },
   {
    "duration": 12,
    "start_time": "2022-05-26T05:56:33.685Z"
   },
   {
    "duration": 28,
    "start_time": "2022-05-26T05:57:13.840Z"
   },
   {
    "duration": 1070,
    "start_time": "2022-05-26T05:57:34.646Z"
   },
   {
    "duration": 57,
    "start_time": "2022-05-26T05:57:35.718Z"
   },
   {
    "duration": 177,
    "start_time": "2022-05-26T05:57:35.853Z"
   },
   {
    "duration": 182,
    "start_time": "2022-05-26T05:57:36.259Z"
   },
   {
    "duration": 105,
    "start_time": "2022-05-26T05:57:36.680Z"
   },
   {
    "duration": 36,
    "start_time": "2022-05-26T05:57:37.111Z"
   },
   {
    "duration": 6,
    "start_time": "2022-05-26T05:57:39.128Z"
   },
   {
    "duration": 7,
    "start_time": "2022-05-26T05:57:40.373Z"
   },
   {
    "duration": 14,
    "start_time": "2022-05-26T05:57:40.800Z"
   },
   {
    "duration": 10,
    "start_time": "2022-05-26T05:57:41.189Z"
   },
   {
    "duration": 20,
    "start_time": "2022-05-26T05:57:42.136Z"
   },
   {
    "duration": 106,
    "start_time": "2022-05-26T05:57:42.559Z"
   },
   {
    "duration": 56,
    "start_time": "2022-05-26T05:57:42.999Z"
   },
   {
    "duration": 19,
    "start_time": "2022-05-26T05:57:44.330Z"
   },
   {
    "duration": 15,
    "start_time": "2022-05-26T05:57:45.222Z"
   },
   {
    "duration": 61,
    "start_time": "2022-05-26T05:57:45.684Z"
   },
   {
    "duration": 43,
    "start_time": "2022-05-26T05:57:46.143Z"
   },
   {
    "duration": 17,
    "start_time": "2022-05-26T05:57:47.456Z"
   },
   {
    "duration": 15,
    "start_time": "2022-05-26T05:57:48.341Z"
   },
   {
    "duration": 69,
    "start_time": "2022-05-26T05:57:48.807Z"
   },
   {
    "duration": 42,
    "start_time": "2022-05-26T05:57:49.209Z"
   },
   {
    "duration": 16,
    "start_time": "2022-05-26T05:57:50.179Z"
   },
   {
    "duration": 11,
    "start_time": "2022-05-26T05:57:51.074Z"
   },
   {
    "duration": 28,
    "start_time": "2022-05-26T05:57:53.521Z"
   },
   {
    "duration": 36,
    "start_time": "2022-05-26T05:57:54.517Z"
   },
   {
    "duration": 43,
    "start_time": "2022-05-26T05:57:55.721Z"
   },
   {
    "duration": 111,
    "start_time": "2022-05-26T05:58:13.108Z"
   },
   {
    "duration": 12,
    "start_time": "2022-05-26T05:58:23.910Z"
   },
   {
    "duration": 11,
    "start_time": "2022-05-26T05:58:30.763Z"
   },
   {
    "duration": 33,
    "start_time": "2022-05-26T05:59:14.415Z"
   },
   {
    "duration": 32,
    "start_time": "2022-05-26T05:59:18.691Z"
   },
   {
    "duration": 3,
    "start_time": "2022-05-26T05:59:22.659Z"
   },
   {
    "duration": 50,
    "start_time": "2022-05-26T05:59:23.455Z"
   },
   {
    "duration": 171,
    "start_time": "2022-05-26T05:59:23.878Z"
   },
   {
    "duration": 144,
    "start_time": "2022-05-26T05:59:24.288Z"
   },
   {
    "duration": 117,
    "start_time": "2022-05-26T05:59:24.724Z"
   },
   {
    "duration": 26,
    "start_time": "2022-05-26T05:59:25.154Z"
   },
   {
    "duration": 6,
    "start_time": "2022-05-26T05:59:27.338Z"
   },
   {
    "duration": 6,
    "start_time": "2022-05-26T05:59:28.613Z"
   },
   {
    "duration": 13,
    "start_time": "2022-05-26T05:59:29.057Z"
   },
   {
    "duration": 10,
    "start_time": "2022-05-26T05:59:29.510Z"
   },
   {
    "duration": 18,
    "start_time": "2022-05-26T05:59:30.380Z"
   },
   {
    "duration": 98,
    "start_time": "2022-05-26T05:59:30.881Z"
   },
   {
    "duration": 54,
    "start_time": "2022-05-26T05:59:31.366Z"
   },
   {
    "duration": 27,
    "start_time": "2022-05-26T05:59:34.368Z"
   },
   {
    "duration": 16,
    "start_time": "2022-05-26T05:59:35.811Z"
   },
   {
    "duration": 72,
    "start_time": "2022-05-26T05:59:36.321Z"
   },
   {
    "duration": 42,
    "start_time": "2022-05-26T05:59:39.387Z"
   },
   {
    "duration": 17,
    "start_time": "2022-05-26T05:59:41.440Z"
   },
   {
    "duration": 14,
    "start_time": "2022-05-26T05:59:42.263Z"
   },
   {
    "duration": 39,
    "start_time": "2022-05-26T05:59:42.667Z"
   },
   {
    "duration": 35,
    "start_time": "2022-05-26T05:59:43.095Z"
   },
   {
    "duration": 17,
    "start_time": "2022-05-26T05:59:43.550Z"
   },
   {
    "duration": 11,
    "start_time": "2022-05-26T05:59:44.396Z"
   },
   {
    "duration": 26,
    "start_time": "2022-05-26T05:59:46.584Z"
   },
   {
    "duration": 20,
    "start_time": "2022-05-26T05:59:47.620Z"
   },
   {
    "duration": 33,
    "start_time": "2022-05-26T05:59:48.491Z"
   },
   {
    "duration": 25,
    "start_time": "2022-05-26T05:59:50.274Z"
   },
   {
    "duration": 13,
    "start_time": "2022-05-26T05:59:52.635Z"
   },
   {
    "duration": 99,
    "start_time": "2022-05-26T06:00:10.678Z"
   },
   {
    "duration": 33,
    "start_time": "2022-05-26T06:00:12.960Z"
   },
   {
    "duration": 54,
    "start_time": "2022-05-26T06:00:30.162Z"
   },
   {
    "duration": 1137,
    "start_time": "2022-05-26T06:00:43.902Z"
   },
   {
    "duration": 58,
    "start_time": "2022-05-26T06:00:45.041Z"
   },
   {
    "duration": 196,
    "start_time": "2022-05-26T06:00:45.198Z"
   },
   {
    "duration": 156,
    "start_time": "2022-05-26T06:00:45.585Z"
   },
   {
    "duration": 117,
    "start_time": "2022-05-26T06:00:46.056Z"
   },
   {
    "duration": 29,
    "start_time": "2022-05-26T06:00:46.715Z"
   },
   {
    "duration": 6,
    "start_time": "2022-05-26T06:00:48.698Z"
   },
   {
    "duration": 7,
    "start_time": "2022-05-26T06:00:50.024Z"
   },
   {
    "duration": 14,
    "start_time": "2022-05-26T06:00:50.493Z"
   },
   {
    "duration": 12,
    "start_time": "2022-05-26T06:00:50.939Z"
   },
   {
    "duration": 22,
    "start_time": "2022-05-26T06:00:51.844Z"
   },
   {
    "duration": 112,
    "start_time": "2022-05-26T06:00:52.435Z"
   },
   {
    "duration": 59,
    "start_time": "2022-05-26T06:00:53.482Z"
   },
   {
    "duration": 18,
    "start_time": "2022-05-26T06:00:55.538Z"
   },
   {
    "duration": 22,
    "start_time": "2022-05-26T06:00:56.476Z"
   },
   {
    "duration": 70,
    "start_time": "2022-05-26T06:00:56.951Z"
   },
   {
    "duration": 47,
    "start_time": "2022-05-26T06:00:58.383Z"
   },
   {
    "duration": 18,
    "start_time": "2022-05-26T06:01:03.027Z"
   },
   {
    "duration": 44,
    "start_time": "2022-05-26T06:01:10.128Z"
   },
   {
    "duration": 64,
    "start_time": "2022-05-26T06:01:15.498Z"
   },
   {
    "duration": 12,
    "start_time": "2022-05-26T06:02:29.376Z"
   },
   {
    "duration": 12,
    "start_time": "2022-05-26T06:03:03.836Z"
   },
   {
    "duration": 34,
    "start_time": "2022-05-26T06:03:48.959Z"
   },
   {
    "duration": 3,
    "start_time": "2022-05-26T06:04:04.970Z"
   },
   {
    "duration": 51,
    "start_time": "2022-05-26T06:04:05.715Z"
   },
   {
    "duration": 199,
    "start_time": "2022-05-26T06:04:06.134Z"
   },
   {
    "duration": 152,
    "start_time": "2022-05-26T06:04:06.491Z"
   },
   {
    "duration": 117,
    "start_time": "2022-05-26T06:04:06.888Z"
   },
   {
    "duration": 30,
    "start_time": "2022-05-26T06:04:07.233Z"
   },
   {
    "duration": 6,
    "start_time": "2022-05-26T06:04:09.225Z"
   },
   {
    "duration": 6,
    "start_time": "2022-05-26T06:04:10.362Z"
   },
   {
    "duration": 14,
    "start_time": "2022-05-26T06:04:11.220Z"
   },
   {
    "duration": 11,
    "start_time": "2022-05-26T06:04:11.659Z"
   },
   {
    "duration": 20,
    "start_time": "2022-05-26T06:04:12.523Z"
   },
   {
    "duration": 100,
    "start_time": "2022-05-26T06:04:12.938Z"
   },
   {
    "duration": 57,
    "start_time": "2022-05-26T06:04:13.351Z"
   },
   {
    "duration": 22,
    "start_time": "2022-05-26T06:04:14.779Z"
   },
   {
    "duration": 19,
    "start_time": "2022-05-26T06:04:15.751Z"
   },
   {
    "duration": 75,
    "start_time": "2022-05-26T06:04:16.303Z"
   },
   {
    "duration": 43,
    "start_time": "2022-05-26T06:04:16.810Z"
   },
   {
    "duration": 33,
    "start_time": "2022-05-26T06:04:26.113Z"
   },
   {
    "duration": 17,
    "start_time": "2022-05-26T06:04:27.361Z"
   },
   {
    "duration": 16,
    "start_time": "2022-05-26T06:04:28.194Z"
   },
   {
    "duration": 46,
    "start_time": "2022-05-26T06:04:28.635Z"
   },
   {
    "duration": 37,
    "start_time": "2022-05-26T06:04:29.064Z"
   },
   {
    "duration": 16,
    "start_time": "2022-05-26T06:04:29.408Z"
   },
   {
    "duration": 10,
    "start_time": "2022-05-26T06:04:30.253Z"
   },
   {
    "duration": 32,
    "start_time": "2022-05-26T06:04:32.323Z"
   },
   {
    "duration": 29,
    "start_time": "2022-05-26T06:04:33.310Z"
   },
   {
    "duration": 37,
    "start_time": "2022-05-26T06:04:34.218Z"
   },
   {
    "duration": 13,
    "start_time": "2022-05-26T06:04:39.295Z"
   },
   {
    "duration": 11,
    "start_time": "2022-05-26T06:06:22.789Z"
   },
   {
    "duration": 3,
    "start_time": "2022-05-26T06:07:28.667Z"
   },
   {
    "duration": 52,
    "start_time": "2022-05-26T06:07:29.705Z"
   },
   {
    "duration": 188,
    "start_time": "2022-05-26T06:07:30.153Z"
   },
   {
    "duration": 162,
    "start_time": "2022-05-26T06:07:30.612Z"
   },
   {
    "duration": 125,
    "start_time": "2022-05-26T06:07:31.057Z"
   },
   {
    "duration": 27,
    "start_time": "2022-05-26T06:07:31.535Z"
   },
   {
    "duration": 12,
    "start_time": "2022-05-26T06:07:33.796Z"
   },
   {
    "duration": 7,
    "start_time": "2022-05-26T06:07:35.152Z"
   },
   {
    "duration": 14,
    "start_time": "2022-05-26T06:07:35.587Z"
   },
   {
    "duration": 11,
    "start_time": "2022-05-26T06:07:36.065Z"
   },
   {
    "duration": 19,
    "start_time": "2022-05-26T06:07:36.997Z"
   },
   {
    "duration": 102,
    "start_time": "2022-05-26T06:07:37.482Z"
   },
   {
    "duration": 54,
    "start_time": "2022-05-26T06:07:37.924Z"
   },
   {
    "duration": 20,
    "start_time": "2022-05-26T06:07:40.592Z"
   },
   {
    "duration": 17,
    "start_time": "2022-05-26T06:07:41.552Z"
   },
   {
    "duration": 60,
    "start_time": "2022-05-26T06:07:42.052Z"
   },
   {
    "duration": 45,
    "start_time": "2022-05-26T06:07:42.584Z"
   },
   {
    "duration": 18,
    "start_time": "2022-05-26T06:07:48.410Z"
   },
   {
    "duration": 16,
    "start_time": "2022-05-26T06:07:49.388Z"
   },
   {
    "duration": 52,
    "start_time": "2022-05-26T06:07:49.853Z"
   },
   {
    "duration": 38,
    "start_time": "2022-05-26T06:07:50.340Z"
   },
   {
    "duration": 16,
    "start_time": "2022-05-26T06:07:50.916Z"
   },
   {
    "duration": 12,
    "start_time": "2022-05-26T06:07:51.875Z"
   },
   {
    "duration": 27,
    "start_time": "2022-05-26T06:07:54.362Z"
   },
   {
    "duration": 26,
    "start_time": "2022-05-26T06:07:57.112Z"
   },
   {
    "duration": 38,
    "start_time": "2022-05-26T06:07:59.245Z"
   },
   {
    "duration": 12,
    "start_time": "2022-05-26T06:08:03.674Z"
   },
   {
    "duration": 15,
    "start_time": "2022-05-26T06:08:37.283Z"
   },
   {
    "duration": 107,
    "start_time": "2022-05-26T06:09:41.276Z"
   },
   {
    "duration": 37,
    "start_time": "2022-05-26T06:09:49.782Z"
   },
   {
    "duration": 1138,
    "start_time": "2022-05-26T06:11:20.418Z"
   },
   {
    "duration": 59,
    "start_time": "2022-05-26T06:11:21.558Z"
   },
   {
    "duration": 201,
    "start_time": "2022-05-26T06:11:21.726Z"
   },
   {
    "duration": 189,
    "start_time": "2022-05-26T06:11:22.118Z"
   },
   {
    "duration": 115,
    "start_time": "2022-05-26T06:11:22.549Z"
   },
   {
    "duration": 39,
    "start_time": "2022-05-26T06:11:22.965Z"
   },
   {
    "duration": 6,
    "start_time": "2022-05-26T06:11:25.184Z"
   },
   {
    "duration": 9,
    "start_time": "2022-05-26T06:11:26.418Z"
   },
   {
    "duration": 14,
    "start_time": "2022-05-26T06:11:26.953Z"
   },
   {
    "duration": 11,
    "start_time": "2022-05-26T06:11:27.407Z"
   },
   {
    "duration": 21,
    "start_time": "2022-05-26T06:11:28.384Z"
   },
   {
    "duration": 119,
    "start_time": "2022-05-26T06:11:28.811Z"
   },
   {
    "duration": 62,
    "start_time": "2022-05-26T06:11:29.208Z"
   },
   {
    "duration": 19,
    "start_time": "2022-05-26T06:11:30.983Z"
   },
   {
    "duration": 20,
    "start_time": "2022-05-26T06:11:31.892Z"
   },
   {
    "duration": 69,
    "start_time": "2022-05-26T06:11:32.383Z"
   },
   {
    "duration": 21,
    "start_time": "2022-05-26T06:11:34.113Z"
   },
   {
    "duration": 16,
    "start_time": "2022-05-26T06:11:35.012Z"
   },
   {
    "duration": 61,
    "start_time": "2022-05-26T06:11:35.500Z"
   },
   {
    "duration": 40,
    "start_time": "2022-05-26T06:11:36.153Z"
   },
   {
    "duration": 16,
    "start_time": "2022-05-26T06:11:37.260Z"
   },
   {
    "duration": 11,
    "start_time": "2022-05-26T06:11:38.202Z"
   },
   {
    "duration": 28,
    "start_time": "2022-05-26T06:11:40.998Z"
   },
   {
    "duration": 27,
    "start_time": "2022-05-26T06:11:42.016Z"
   },
   {
    "duration": 122,
    "start_time": "2022-05-26T06:11:43.612Z"
   },
   {
    "duration": 47,
    "start_time": "2022-05-26T06:12:21.679Z"
   },
   {
    "duration": 39,
    "start_time": "2022-05-26T06:12:28.545Z"
   },
   {
    "duration": 25,
    "start_time": "2022-05-26T06:12:33.087Z"
   },
   {
    "duration": 12,
    "start_time": "2022-05-26T06:12:37.453Z"
   },
   {
    "duration": 387,
    "start_time": "2022-05-26T06:13:02.579Z"
   },
   {
    "duration": 3,
    "start_time": "2022-05-26T06:13:38.664Z"
   },
   {
    "duration": 51,
    "start_time": "2022-05-26T06:13:39.449Z"
   },
   {
    "duration": 172,
    "start_time": "2022-05-26T06:13:39.843Z"
   },
   {
    "duration": 158,
    "start_time": "2022-05-26T06:13:40.293Z"
   },
   {
    "duration": 114,
    "start_time": "2022-05-26T06:13:40.686Z"
   },
   {
    "duration": 27,
    "start_time": "2022-05-26T06:13:41.089Z"
   },
   {
    "duration": 6,
    "start_time": "2022-05-26T06:13:43.177Z"
   },
   {
    "duration": 6,
    "start_time": "2022-05-26T06:13:44.437Z"
   },
   {
    "duration": 16,
    "start_time": "2022-05-26T06:13:44.852Z"
   },
   {
    "duration": 12,
    "start_time": "2022-05-26T06:13:45.245Z"
   },
   {
    "duration": 21,
    "start_time": "2022-05-26T06:13:46.099Z"
   },
   {
    "duration": 106,
    "start_time": "2022-05-26T06:13:46.542Z"
   },
   {
    "duration": 59,
    "start_time": "2022-05-26T06:13:46.934Z"
   },
   {
    "duration": 21,
    "start_time": "2022-05-26T06:13:48.191Z"
   },
   {
    "duration": 17,
    "start_time": "2022-05-26T06:13:49.076Z"
   },
   {
    "duration": 60,
    "start_time": "2022-05-26T06:13:49.515Z"
   },
   {
    "duration": 46,
    "start_time": "2022-05-26T06:13:49.957Z"
   },
   {
    "duration": 22,
    "start_time": "2022-05-26T06:13:51.290Z"
   },
   {
    "duration": 15,
    "start_time": "2022-05-26T06:13:52.246Z"
   },
   {
    "duration": 44,
    "start_time": "2022-05-26T06:13:52.682Z"
   },
   {
    "duration": 37,
    "start_time": "2022-05-26T06:13:53.110Z"
   },
   {
    "duration": 15,
    "start_time": "2022-05-26T06:13:53.510Z"
   },
   {
    "duration": 9,
    "start_time": "2022-05-26T06:13:54.384Z"
   },
   {
    "duration": 30,
    "start_time": "2022-05-26T06:13:57.298Z"
   },
   {
    "duration": 20,
    "start_time": "2022-05-26T06:13:58.126Z"
   },
   {
    "duration": 37,
    "start_time": "2022-05-26T06:13:59.458Z"
   },
   {
    "duration": 27,
    "start_time": "2022-05-26T06:14:00.602Z"
   },
   {
    "duration": 8,
    "start_time": "2022-05-26T06:14:01.419Z"
   },
   {
    "duration": 6,
    "start_time": "2022-05-26T06:14:02.413Z"
   },
   {
    "duration": 8,
    "start_time": "2022-05-26T06:14:02.968Z"
   },
   {
    "duration": 1125,
    "start_time": "2022-05-26T06:14:03.898Z"
   },
   {
    "duration": 0,
    "start_time": "2022-05-26T06:14:05.025Z"
   },
   {
    "duration": 13,
    "start_time": "2022-05-26T06:15:22.873Z"
   },
   {
    "duration": 48,
    "start_time": "2022-05-26T06:15:23.607Z"
   },
   {
    "duration": 43,
    "start_time": "2022-05-26T06:15:24.160Z"
   },
   {
    "duration": 40,
    "start_time": "2022-05-26T06:15:42.197Z"
   },
   {
    "duration": 105,
    "start_time": "2022-05-26T06:16:02.574Z"
   },
   {
    "duration": 3,
    "start_time": "2022-05-26T06:17:49.922Z"
   },
   {
    "duration": 50,
    "start_time": "2022-05-26T06:17:50.749Z"
   },
   {
    "duration": 191,
    "start_time": "2022-05-26T06:17:51.152Z"
   },
   {
    "duration": 148,
    "start_time": "2022-05-26T06:17:51.585Z"
   },
   {
    "duration": 119,
    "start_time": "2022-05-26T06:17:51.954Z"
   },
   {
    "duration": 27,
    "start_time": "2022-05-26T06:17:52.352Z"
   },
   {
    "duration": 6,
    "start_time": "2022-05-26T06:17:54.490Z"
   },
   {
    "duration": 7,
    "start_time": "2022-05-26T06:17:55.731Z"
   },
   {
    "duration": 13,
    "start_time": "2022-05-26T06:17:56.175Z"
   },
   {
    "duration": 11,
    "start_time": "2022-05-26T06:17:56.627Z"
   },
   {
    "duration": 19,
    "start_time": "2022-05-26T06:17:57.400Z"
   },
   {
    "duration": 103,
    "start_time": "2022-05-26T06:17:57.839Z"
   },
   {
    "duration": 56,
    "start_time": "2022-05-26T06:17:58.241Z"
   },
   {
    "duration": 19,
    "start_time": "2022-05-26T06:18:00.546Z"
   },
   {
    "duration": 16,
    "start_time": "2022-05-26T06:18:01.387Z"
   },
   {
    "duration": 81,
    "start_time": "2022-05-26T06:18:01.822Z"
   },
   {
    "duration": 43,
    "start_time": "2022-05-26T06:18:02.275Z"
   },
   {
    "duration": 24,
    "start_time": "2022-05-26T06:18:11.202Z"
   },
   {
    "duration": 14,
    "start_time": "2022-05-26T06:18:11.983Z"
   },
   {
    "duration": 46,
    "start_time": "2022-05-26T06:18:12.373Z"
   },
   {
    "duration": 37,
    "start_time": "2022-05-26T06:18:12.763Z"
   },
   {
    "duration": 14,
    "start_time": "2022-05-26T06:18:13.159Z"
   },
   {
    "duration": 12,
    "start_time": "2022-05-26T06:18:14.159Z"
   },
   {
    "duration": 23,
    "start_time": "2022-05-26T06:18:17.706Z"
   },
   {
    "duration": 21,
    "start_time": "2022-05-26T06:18:18.483Z"
   },
   {
    "duration": 32,
    "start_time": "2022-05-26T06:18:19.299Z"
   },
   {
    "duration": 25,
    "start_time": "2022-05-26T06:18:20.167Z"
   },
   {
    "duration": 7,
    "start_time": "2022-05-26T06:18:23.234Z"
   },
   {
    "duration": 7,
    "start_time": "2022-05-26T06:18:23.705Z"
   },
   {
    "duration": 9,
    "start_time": "2022-05-26T06:18:24.166Z"
   },
   {
    "duration": 397,
    "start_time": "2022-05-26T06:18:25.026Z"
   },
   {
    "duration": 13,
    "start_time": "2022-05-26T06:19:51.077Z"
   },
   {
    "duration": 36,
    "start_time": "2022-05-26T06:20:03.712Z"
   },
   {
    "duration": 3,
    "start_time": "2022-05-26T06:20:23.995Z"
   },
   {
    "duration": 67,
    "start_time": "2022-05-26T06:20:24.791Z"
   },
   {
    "duration": 190,
    "start_time": "2022-05-26T06:20:25.225Z"
   },
   {
    "duration": 147,
    "start_time": "2022-05-26T06:20:25.641Z"
   },
   {
    "duration": 117,
    "start_time": "2022-05-26T06:20:26.025Z"
   },
   {
    "duration": 33,
    "start_time": "2022-05-26T06:20:26.442Z"
   },
   {
    "duration": 7,
    "start_time": "2022-05-26T06:20:28.500Z"
   },
   {
    "duration": 8,
    "start_time": "2022-05-26T06:20:29.751Z"
   },
   {
    "duration": 14,
    "start_time": "2022-05-26T06:20:30.157Z"
   },
   {
    "duration": 11,
    "start_time": "2022-05-26T06:20:30.602Z"
   },
   {
    "duration": 20,
    "start_time": "2022-05-26T06:20:31.453Z"
   },
   {
    "duration": 116,
    "start_time": "2022-05-26T06:20:31.858Z"
   },
   {
    "duration": 58,
    "start_time": "2022-05-26T06:20:32.319Z"
   },
   {
    "duration": 18,
    "start_time": "2022-05-26T06:20:34.718Z"
   },
   {
    "duration": 16,
    "start_time": "2022-05-26T06:20:35.807Z"
   },
   {
    "duration": 83,
    "start_time": "2022-05-26T06:20:36.299Z"
   },
   {
    "duration": 47,
    "start_time": "2022-05-26T06:20:36.726Z"
   },
   {
    "duration": 14,
    "start_time": "2022-05-26T06:21:01.694Z"
   },
   {
    "duration": 43,
    "start_time": "2022-05-26T06:21:05.403Z"
   },
   {
    "duration": 12,
    "start_time": "2022-05-26T06:21:09.618Z"
   },
   {
    "duration": 12,
    "start_time": "2022-05-26T06:22:16.031Z"
   },
   {
    "duration": 17,
    "start_time": "2022-05-26T06:25:13.730Z"
   },
   {
    "duration": 20,
    "start_time": "2022-05-26T06:25:27.372Z"
   },
   {
    "duration": 29,
    "start_time": "2022-05-26T06:25:30.363Z"
   },
   {
    "duration": 30,
    "start_time": "2022-05-26T06:26:30.782Z"
   },
   {
    "duration": 35,
    "start_time": "2022-05-26T06:26:46.764Z"
   },
   {
    "duration": 35,
    "start_time": "2022-05-26T06:28:21.172Z"
   },
   {
    "duration": 3,
    "start_time": "2022-05-26T06:28:27.002Z"
   },
   {
    "duration": 52,
    "start_time": "2022-05-26T06:28:27.857Z"
   },
   {
    "duration": 190,
    "start_time": "2022-05-26T06:28:28.263Z"
   },
   {
    "duration": 171,
    "start_time": "2022-05-26T06:28:28.704Z"
   },
   {
    "duration": 142,
    "start_time": "2022-05-26T06:28:29.107Z"
   },
   {
    "duration": 28,
    "start_time": "2022-05-26T06:28:29.540Z"
   },
   {
    "duration": 6,
    "start_time": "2022-05-26T06:28:31.563Z"
   },
   {
    "duration": 5,
    "start_time": "2022-05-26T06:28:32.887Z"
   },
   {
    "duration": 13,
    "start_time": "2022-05-26T06:28:33.311Z"
   },
   {
    "duration": 11,
    "start_time": "2022-05-26T06:28:33.756Z"
   },
   {
    "duration": 21,
    "start_time": "2022-05-26T06:28:34.605Z"
   },
   {
    "duration": 121,
    "start_time": "2022-05-26T06:28:35.022Z"
   },
   {
    "duration": 58,
    "start_time": "2022-05-26T06:28:35.451Z"
   },
   {
    "duration": 18,
    "start_time": "2022-05-26T06:28:37.456Z"
   },
   {
    "duration": 17,
    "start_time": "2022-05-26T06:28:38.283Z"
   },
   {
    "duration": 64,
    "start_time": "2022-05-26T06:28:38.710Z"
   },
   {
    "duration": 51,
    "start_time": "2022-05-26T06:28:39.121Z"
   },
   {
    "duration": 18,
    "start_time": "2022-05-26T06:28:41.440Z"
   },
   {
    "duration": 26,
    "start_time": "2022-05-26T06:28:42.320Z"
   },
   {
    "duration": 42,
    "start_time": "2022-05-26T06:28:42.748Z"
   },
   {
    "duration": 37,
    "start_time": "2022-05-26T06:28:43.179Z"
   },
   {
    "duration": 15,
    "start_time": "2022-05-26T06:28:43.654Z"
   },
   {
    "duration": 10,
    "start_time": "2022-05-26T06:28:44.564Z"
   },
   {
    "duration": 34,
    "start_time": "2022-05-26T06:28:46.819Z"
   },
   {
    "duration": 34,
    "start_time": "2022-05-26T06:28:47.705Z"
   },
   {
    "duration": 43,
    "start_time": "2022-05-26T06:28:48.717Z"
   },
   {
    "duration": 39,
    "start_time": "2022-05-26T06:28:50.504Z"
   },
   {
    "duration": 7,
    "start_time": "2022-05-26T06:28:51.407Z"
   },
   {
    "duration": 7,
    "start_time": "2022-05-26T06:28:51.889Z"
   },
   {
    "duration": 9,
    "start_time": "2022-05-26T06:28:52.350Z"
   },
   {
    "duration": 462,
    "start_time": "2022-05-26T06:28:53.279Z"
   },
   {
    "duration": 3,
    "start_time": "2022-05-26T06:39:45.197Z"
   },
   {
    "duration": 52,
    "start_time": "2022-05-26T06:39:46.509Z"
   },
   {
    "duration": 1191,
    "start_time": "2022-05-26T06:39:56.939Z"
   },
   {
    "duration": 58,
    "start_time": "2022-05-26T06:39:59.802Z"
   },
   {
    "duration": 196,
    "start_time": "2022-05-26T06:40:00.402Z"
   },
   {
    "duration": 168,
    "start_time": "2022-05-26T06:40:00.962Z"
   },
   {
    "duration": 126,
    "start_time": "2022-05-26T06:40:01.535Z"
   },
   {
    "duration": 39,
    "start_time": "2022-05-26T06:40:02.174Z"
   },
   {
    "duration": 8,
    "start_time": "2022-05-26T06:40:04.770Z"
   },
   {
    "duration": 9,
    "start_time": "2022-05-26T06:40:06.415Z"
   },
   {
    "duration": 15,
    "start_time": "2022-05-26T06:40:07.089Z"
   },
   {
    "duration": 16,
    "start_time": "2022-05-26T06:40:07.910Z"
   },
   {
    "duration": 21,
    "start_time": "2022-05-26T06:40:08.998Z"
   },
   {
    "duration": 124,
    "start_time": "2022-05-26T06:40:09.516Z"
   },
   {
    "duration": 59,
    "start_time": "2022-05-26T06:40:10.028Z"
   },
   {
    "duration": 19,
    "start_time": "2022-05-26T06:40:11.712Z"
   },
   {
    "duration": 29,
    "start_time": "2022-05-26T06:40:13.021Z"
   },
   {
    "duration": 67,
    "start_time": "2022-05-26T06:40:13.612Z"
   },
   {
    "duration": 49,
    "start_time": "2022-05-26T06:40:14.283Z"
   },
   {
    "duration": 18,
    "start_time": "2022-05-26T06:40:18.247Z"
   },
   {
    "duration": 15,
    "start_time": "2022-05-26T06:40:19.393Z"
   },
   {
    "duration": 70,
    "start_time": "2022-05-26T06:40:19.937Z"
   },
   {
    "duration": 43,
    "start_time": "2022-05-26T06:40:20.485Z"
   },
   {
    "duration": 18,
    "start_time": "2022-05-26T06:40:21.024Z"
   },
   {
    "duration": 13,
    "start_time": "2022-05-26T06:40:22.153Z"
   },
   {
    "duration": 32,
    "start_time": "2022-05-26T06:40:25.038Z"
   },
   {
    "duration": 29,
    "start_time": "2022-05-26T06:40:26.162Z"
   },
   {
    "duration": 39,
    "start_time": "2022-05-26T06:40:29.028Z"
   },
   {
    "duration": 29,
    "start_time": "2022-05-26T06:40:33.559Z"
   },
   {
    "duration": 8,
    "start_time": "2022-05-26T06:40:34.682Z"
   },
   {
    "duration": 8,
    "start_time": "2022-05-26T06:40:35.239Z"
   },
   {
    "duration": 7,
    "start_time": "2022-05-26T06:40:35.811Z"
   },
   {
    "duration": 476,
    "start_time": "2022-05-26T06:40:36.910Z"
   },
   {
    "duration": 14,
    "start_time": "2022-05-26T06:40:43.890Z"
   },
   {
    "duration": 16,
    "start_time": "2022-05-26T06:41:00.334Z"
   },
   {
    "duration": 21,
    "start_time": "2022-05-26T06:41:06.177Z"
   },
   {
    "duration": 35,
    "start_time": "2022-05-26T06:41:39.914Z"
   },
   {
    "duration": 12,
    "start_time": "2022-05-26T06:43:29.646Z"
   },
   {
    "duration": 3,
    "start_time": "2022-05-26T06:50:49.170Z"
   },
   {
    "duration": 61,
    "start_time": "2022-05-26T06:50:50.131Z"
   },
   {
    "duration": 183,
    "start_time": "2022-05-26T06:50:50.588Z"
   },
   {
    "duration": 156,
    "start_time": "2022-05-26T06:50:51.033Z"
   },
   {
    "duration": 135,
    "start_time": "2022-05-26T06:50:51.475Z"
   },
   {
    "duration": 27,
    "start_time": "2022-05-26T06:50:51.917Z"
   },
   {
    "duration": 7,
    "start_time": "2022-05-26T06:50:54.200Z"
   },
   {
    "duration": 9,
    "start_time": "2022-05-26T06:50:55.579Z"
   },
   {
    "duration": 19,
    "start_time": "2022-05-26T06:50:56.012Z"
   },
   {
    "duration": 16,
    "start_time": "2022-05-26T06:50:56.474Z"
   },
   {
    "duration": 21,
    "start_time": "2022-05-26T06:50:57.346Z"
   },
   {
    "duration": 111,
    "start_time": "2022-05-26T06:50:57.825Z"
   },
   {
    "duration": 56,
    "start_time": "2022-05-26T06:50:58.284Z"
   },
   {
    "duration": 19,
    "start_time": "2022-05-26T06:50:59.656Z"
   },
   {
    "duration": 17,
    "start_time": "2022-05-26T06:51:00.659Z"
   },
   {
    "duration": 61,
    "start_time": "2022-05-26T06:51:01.143Z"
   },
   {
    "duration": 50,
    "start_time": "2022-05-26T06:51:01.568Z"
   },
   {
    "duration": 20,
    "start_time": "2022-05-26T06:51:02.939Z"
   },
   {
    "duration": 16,
    "start_time": "2022-05-26T06:51:03.872Z"
   },
   {
    "duration": 51,
    "start_time": "2022-05-26T06:51:04.343Z"
   },
   {
    "duration": 43,
    "start_time": "2022-05-26T06:51:04.812Z"
   },
   {
    "duration": 18,
    "start_time": "2022-05-26T06:51:05.300Z"
   },
   {
    "duration": 12,
    "start_time": "2022-05-26T06:51:06.339Z"
   },
   {
    "duration": 28,
    "start_time": "2022-05-26T06:51:08.726Z"
   },
   {
    "duration": 23,
    "start_time": "2022-05-26T06:51:10.760Z"
   },
   {
    "duration": 35,
    "start_time": "2022-05-26T06:51:12.167Z"
   },
   {
    "duration": 28,
    "start_time": "2022-05-26T06:51:14.383Z"
   },
   {
    "duration": 9,
    "start_time": "2022-05-26T06:51:15.322Z"
   },
   {
    "duration": 11,
    "start_time": "2022-05-26T06:51:15.749Z"
   },
   {
    "duration": 22,
    "start_time": "2022-05-26T06:51:16.198Z"
   },
   {
    "duration": 35,
    "start_time": "2022-05-26T06:51:32.355Z"
   },
   {
    "duration": 6,
    "start_time": "2022-05-26T06:51:52.027Z"
   },
   {
    "duration": 52,
    "start_time": "2022-05-26T06:51:52.893Z"
   },
   {
    "duration": 196,
    "start_time": "2022-05-26T06:51:53.323Z"
   },
   {
    "duration": 165,
    "start_time": "2022-05-26T06:51:53.768Z"
   },
   {
    "duration": 126,
    "start_time": "2022-05-26T06:51:54.421Z"
   },
   {
    "duration": 29,
    "start_time": "2022-05-26T06:51:55.309Z"
   },
   {
    "duration": 43,
    "start_time": "2022-05-26T06:57:51.536Z"
   },
   {
    "duration": 105,
    "start_time": "2022-05-26T07:01:32.809Z"
   },
   {
    "duration": 37,
    "start_time": "2022-05-26T07:01:35.136Z"
   },
   {
    "duration": 37,
    "start_time": "2022-05-26T07:01:50.066Z"
   },
   {
    "duration": 3,
    "start_time": "2022-05-26T07:03:45.451Z"
   },
   {
    "duration": 56,
    "start_time": "2022-05-26T07:03:46.296Z"
   },
   {
    "duration": 178,
    "start_time": "2022-05-26T07:03:46.687Z"
   },
   {
    "duration": 150,
    "start_time": "2022-05-26T07:03:47.052Z"
   },
   {
    "duration": 136,
    "start_time": "2022-05-26T07:03:47.471Z"
   },
   {
    "duration": 28,
    "start_time": "2022-05-26T07:03:47.877Z"
   },
   {
    "duration": 7,
    "start_time": "2022-05-26T07:03:49.906Z"
   },
   {
    "duration": 8,
    "start_time": "2022-05-26T07:03:51.178Z"
   },
   {
    "duration": 15,
    "start_time": "2022-05-26T07:03:51.572Z"
   },
   {
    "duration": 15,
    "start_time": "2022-05-26T07:03:52.049Z"
   },
   {
    "duration": 24,
    "start_time": "2022-05-26T07:03:52.940Z"
   },
   {
    "duration": 99,
    "start_time": "2022-05-26T07:03:53.329Z"
   },
   {
    "duration": 75,
    "start_time": "2022-05-26T07:03:53.837Z"
   },
   {
    "duration": 19,
    "start_time": "2022-05-26T07:03:56.007Z"
   },
   {
    "duration": 17,
    "start_time": "2022-05-26T07:03:56.875Z"
   },
   {
    "duration": 62,
    "start_time": "2022-05-26T07:03:57.333Z"
   },
   {
    "duration": 44,
    "start_time": "2022-05-26T07:03:57.851Z"
   },
   {
    "duration": 27,
    "start_time": "2022-05-26T07:03:59.341Z"
   },
   {
    "duration": 22,
    "start_time": "2022-05-26T07:04:00.284Z"
   },
   {
    "duration": 48,
    "start_time": "2022-05-26T07:04:00.715Z"
   },
   {
    "duration": 41,
    "start_time": "2022-05-26T07:04:01.274Z"
   },
   {
    "duration": 16,
    "start_time": "2022-05-26T07:04:06.059Z"
   },
   {
    "duration": 11,
    "start_time": "2022-05-26T07:04:06.932Z"
   },
   {
    "duration": 23,
    "start_time": "2022-05-26T07:04:09.185Z"
   },
   {
    "duration": 24,
    "start_time": "2022-05-26T07:04:10.074Z"
   },
   {
    "duration": 35,
    "start_time": "2022-05-26T07:04:10.953Z"
   },
   {
    "duration": 26,
    "start_time": "2022-05-26T07:04:12.358Z"
   },
   {
    "duration": 8,
    "start_time": "2022-05-26T07:04:13.348Z"
   },
   {
    "duration": 9,
    "start_time": "2022-05-26T07:04:13.815Z"
   },
   {
    "duration": 8,
    "start_time": "2022-05-26T07:04:14.260Z"
   },
   {
    "duration": 483,
    "start_time": "2022-05-26T07:04:15.168Z"
   },
   {
    "duration": 36,
    "start_time": "2022-05-26T07:04:37.081Z"
   },
   {
    "duration": 3,
    "start_time": "2022-05-26T07:09:57.800Z"
   },
   {
    "duration": 56,
    "start_time": "2022-05-26T07:09:58.587Z"
   },
   {
    "duration": 193,
    "start_time": "2022-05-26T07:09:58.986Z"
   },
   {
    "duration": 144,
    "start_time": "2022-05-26T07:09:59.362Z"
   },
   {
    "duration": 114,
    "start_time": "2022-05-26T07:09:59.766Z"
   },
   {
    "duration": 29,
    "start_time": "2022-05-26T07:10:00.198Z"
   },
   {
    "duration": 8,
    "start_time": "2022-05-26T07:10:02.141Z"
   },
   {
    "duration": 9,
    "start_time": "2022-05-26T07:10:03.344Z"
   },
   {
    "duration": 18,
    "start_time": "2022-05-26T07:10:03.746Z"
   },
   {
    "duration": 12,
    "start_time": "2022-05-26T07:10:04.142Z"
   },
   {
    "duration": 20,
    "start_time": "2022-05-26T07:10:04.925Z"
   },
   {
    "duration": 109,
    "start_time": "2022-05-26T07:10:05.323Z"
   },
   {
    "duration": 64,
    "start_time": "2022-05-26T07:10:05.931Z"
   },
   {
    "duration": 20,
    "start_time": "2022-05-26T07:10:07.180Z"
   },
   {
    "duration": 20,
    "start_time": "2022-05-26T07:10:08.120Z"
   },
   {
    "duration": 60,
    "start_time": "2022-05-26T07:10:08.529Z"
   },
   {
    "duration": 44,
    "start_time": "2022-05-26T07:10:08.945Z"
   },
   {
    "duration": 40,
    "start_time": "2022-05-26T07:11:00.782Z"
   },
   {
    "duration": 13,
    "start_time": "2022-05-26T07:11:08.788Z"
   },
   {
    "duration": 46,
    "start_time": "2022-05-26T07:13:37.511Z"
   },
   {
    "duration": 3,
    "start_time": "2022-05-26T07:22:18.697Z"
   },
   {
    "duration": 51,
    "start_time": "2022-05-26T07:22:19.552Z"
   },
   {
    "duration": 182,
    "start_time": "2022-05-26T07:22:19.972Z"
   },
   {
    "duration": 159,
    "start_time": "2022-05-26T07:22:20.411Z"
   },
   {
    "duration": 126,
    "start_time": "2022-05-26T07:22:20.838Z"
   },
   {
    "duration": 29,
    "start_time": "2022-05-26T07:22:21.263Z"
   },
   {
    "duration": 6,
    "start_time": "2022-05-26T07:22:23.395Z"
   },
   {
    "duration": 6,
    "start_time": "2022-05-26T07:22:24.676Z"
   },
   {
    "duration": 13,
    "start_time": "2022-05-26T07:22:25.113Z"
   },
   {
    "duration": 10,
    "start_time": "2022-05-26T07:22:25.545Z"
   },
   {
    "duration": 27,
    "start_time": "2022-05-26T07:22:26.429Z"
   },
   {
    "duration": 110,
    "start_time": "2022-05-26T07:22:26.858Z"
   },
   {
    "duration": 61,
    "start_time": "2022-05-26T07:22:27.295Z"
   },
   {
    "duration": 20,
    "start_time": "2022-05-26T07:22:28.548Z"
   },
   {
    "duration": 19,
    "start_time": "2022-05-26T07:22:29.419Z"
   },
   {
    "duration": 67,
    "start_time": "2022-05-26T07:22:29.829Z"
   },
   {
    "duration": 45,
    "start_time": "2022-05-26T07:22:30.267Z"
   },
   {
    "duration": 18,
    "start_time": "2022-05-26T07:22:31.586Z"
   },
   {
    "duration": 16,
    "start_time": "2022-05-26T07:22:32.508Z"
   },
   {
    "duration": 53,
    "start_time": "2022-05-26T07:22:32.961Z"
   },
   {
    "duration": 37,
    "start_time": "2022-05-26T07:22:33.423Z"
   },
   {
    "duration": 17,
    "start_time": "2022-05-26T07:22:33.886Z"
   },
   {
    "duration": 11,
    "start_time": "2022-05-26T07:22:35.195Z"
   },
   {
    "duration": 27,
    "start_time": "2022-05-26T07:22:38.448Z"
   },
   {
    "duration": 27,
    "start_time": "2022-05-26T07:22:39.448Z"
   },
   {
    "duration": 35,
    "start_time": "2022-05-26T07:22:40.897Z"
   },
   {
    "duration": 13,
    "start_time": "2022-05-26T07:22:44.564Z"
   },
   {
    "duration": 174,
    "start_time": "2022-05-26T07:22:58.899Z"
   },
   {
    "duration": 176,
    "start_time": "2022-05-26T07:23:02.600Z"
   },
   {
    "duration": 50,
    "start_time": "2022-05-26T07:23:13.250Z"
   },
   {
    "duration": 37,
    "start_time": "2022-05-26T07:23:15.520Z"
   },
   {
    "duration": 432,
    "start_time": "2022-05-26T07:23:34.301Z"
   },
   {
    "duration": 41,
    "start_time": "2022-05-26T07:24:02.166Z"
   },
   {
    "duration": 13,
    "start_time": "2022-05-26T07:24:04.966Z"
   },
   {
    "duration": 40,
    "start_time": "2022-05-26T07:29:56.743Z"
   },
   {
    "duration": 21,
    "start_time": "2022-05-26T07:30:00.983Z"
   },
   {
    "duration": 21,
    "start_time": "2022-05-26T07:30:11.399Z"
   },
   {
    "duration": 3,
    "start_time": "2022-05-26T07:30:17.194Z"
   },
   {
    "duration": 23,
    "start_time": "2022-05-26T07:30:25.511Z"
   },
   {
    "duration": 122,
    "start_time": "2022-05-26T07:30:39.471Z"
   },
   {
    "duration": 43,
    "start_time": "2022-05-26T07:30:44.598Z"
   },
   {
    "duration": 1155,
    "start_time": "2022-05-26T07:31:06.992Z"
   },
   {
    "duration": 61,
    "start_time": "2022-05-26T07:31:08.150Z"
   },
   {
    "duration": 195,
    "start_time": "2022-05-26T07:31:09.583Z"
   },
   {
    "duration": 161,
    "start_time": "2022-05-26T07:31:10.109Z"
   },
   {
    "duration": 119,
    "start_time": "2022-05-26T07:31:10.588Z"
   },
   {
    "duration": 38,
    "start_time": "2022-05-26T07:31:11.056Z"
   },
   {
    "duration": 6,
    "start_time": "2022-05-26T07:31:13.346Z"
   },
   {
    "duration": 7,
    "start_time": "2022-05-26T07:31:14.736Z"
   },
   {
    "duration": 14,
    "start_time": "2022-05-26T07:31:15.200Z"
   },
   {
    "duration": 11,
    "start_time": "2022-05-26T07:31:15.695Z"
   },
   {
    "duration": 20,
    "start_time": "2022-05-26T07:31:16.647Z"
   },
   {
    "duration": 116,
    "start_time": "2022-05-26T07:31:17.128Z"
   },
   {
    "duration": 62,
    "start_time": "2022-05-26T07:31:18.739Z"
   },
   {
    "duration": 19,
    "start_time": "2022-05-26T07:31:20.579Z"
   },
   {
    "duration": 18,
    "start_time": "2022-05-26T07:31:21.480Z"
   },
   {
    "duration": 70,
    "start_time": "2022-05-26T07:31:21.987Z"
   },
   {
    "duration": 49,
    "start_time": "2022-05-26T07:31:22.944Z"
   },
   {
    "duration": 19,
    "start_time": "2022-05-26T07:31:24.582Z"
   },
   {
    "duration": 37,
    "start_time": "2022-05-26T07:31:36.139Z"
   },
   {
    "duration": 41,
    "start_time": "2022-05-26T07:31:41.632Z"
   },
   {
    "duration": 10,
    "start_time": "2022-05-26T07:31:48.760Z"
   },
   {
    "duration": 28,
    "start_time": "2022-05-26T07:31:55.623Z"
   },
   {
    "duration": 27,
    "start_time": "2022-05-26T07:31:59.345Z"
   },
   {
    "duration": 45,
    "start_time": "2022-05-26T07:32:01.661Z"
   },
   {
    "duration": 106,
    "start_time": "2022-05-26T07:32:21.022Z"
   },
   {
    "duration": 35,
    "start_time": "2022-05-26T07:35:53.948Z"
   },
   {
    "duration": 104,
    "start_time": "2022-05-26T07:36:03.978Z"
   },
   {
    "duration": 37,
    "start_time": "2022-05-26T07:36:08.797Z"
   },
   {
    "duration": 1130,
    "start_time": "2022-05-26T07:41:28.400Z"
   },
   {
    "duration": 57,
    "start_time": "2022-05-26T07:41:29.532Z"
   },
   {
    "duration": 209,
    "start_time": "2022-05-26T07:41:29.943Z"
   },
   {
    "duration": 170,
    "start_time": "2022-05-26T07:41:30.558Z"
   },
   {
    "duration": 116,
    "start_time": "2022-05-26T07:41:31.518Z"
   },
   {
    "duration": 38,
    "start_time": "2022-05-26T07:41:32.042Z"
   },
   {
    "duration": 6,
    "start_time": "2022-05-26T07:41:35.045Z"
   },
   {
    "duration": 6,
    "start_time": "2022-05-26T07:41:36.747Z"
   },
   {
    "duration": 13,
    "start_time": "2022-05-26T07:41:37.229Z"
   },
   {
    "duration": 12,
    "start_time": "2022-05-26T07:41:37.771Z"
   },
   {
    "duration": 20,
    "start_time": "2022-05-26T07:41:38.824Z"
   },
   {
    "duration": 120,
    "start_time": "2022-05-26T07:41:39.325Z"
   },
   {
    "duration": 58,
    "start_time": "2022-05-26T07:41:40.742Z"
   },
   {
    "duration": 18,
    "start_time": "2022-05-26T07:41:42.542Z"
   },
   {
    "duration": 17,
    "start_time": "2022-05-26T07:41:43.584Z"
   },
   {
    "duration": 64,
    "start_time": "2022-05-26T07:41:44.100Z"
   },
   {
    "duration": 47,
    "start_time": "2022-05-26T07:41:44.666Z"
   },
   {
    "duration": 17,
    "start_time": "2022-05-26T07:41:48.831Z"
   },
   {
    "duration": 14,
    "start_time": "2022-05-26T07:41:49.746Z"
   },
   {
    "duration": 53,
    "start_time": "2022-05-26T07:41:50.226Z"
   },
   {
    "duration": 39,
    "start_time": "2022-05-26T07:41:50.703Z"
   },
   {
    "duration": 16,
    "start_time": "2022-05-26T07:41:51.192Z"
   },
   {
    "duration": 11,
    "start_time": "2022-05-26T07:41:52.208Z"
   },
   {
    "duration": 32,
    "start_time": "2022-05-26T07:41:54.782Z"
   },
   {
    "duration": 30,
    "start_time": "2022-05-26T07:41:55.922Z"
   },
   {
    "duration": 45,
    "start_time": "2022-05-26T07:41:57.008Z"
   },
   {
    "duration": 101,
    "start_time": "2022-05-26T07:42:02.995Z"
   },
   {
    "duration": 35,
    "start_time": "2022-05-26T07:42:45.108Z"
   },
   {
    "duration": 170,
    "start_time": "2022-05-26T07:46:32.958Z"
   },
   {
    "duration": 52,
    "start_time": "2022-05-26T07:46:49.238Z"
   },
   {
    "duration": 45,
    "start_time": "2022-05-26T07:47:27.431Z"
   },
   {
    "duration": 18,
    "start_time": "2022-05-26T07:47:52.242Z"
   },
   {
    "duration": 13,
    "start_time": "2022-05-26T07:47:58.984Z"
   },
   {
    "duration": 48,
    "start_time": "2022-05-26T07:47:59.645Z"
   },
   {
    "duration": 106,
    "start_time": "2022-05-26T07:48:00.201Z"
   },
   {
    "duration": 18,
    "start_time": "2022-05-26T07:48:01.019Z"
   },
   {
    "duration": 657,
    "start_time": "2022-05-26T07:48:02.055Z"
   },
   {
    "duration": 1082,
    "start_time": "2022-05-26T07:49:38.044Z"
   },
   {
    "duration": 57,
    "start_time": "2022-05-26T07:49:39.127Z"
   },
   {
    "duration": 188,
    "start_time": "2022-05-26T07:49:39.467Z"
   },
   {
    "duration": 158,
    "start_time": "2022-05-26T07:49:39.948Z"
   },
   {
    "duration": 117,
    "start_time": "2022-05-26T07:49:40.460Z"
   },
   {
    "duration": 27,
    "start_time": "2022-05-26T07:49:40.944Z"
   },
   {
    "duration": 7,
    "start_time": "2022-05-26T07:49:43.335Z"
   },
   {
    "duration": 7,
    "start_time": "2022-05-26T07:49:44.860Z"
   },
   {
    "duration": 14,
    "start_time": "2022-05-26T07:49:45.365Z"
   },
   {
    "duration": 11,
    "start_time": "2022-05-26T07:49:45.813Z"
   },
   {
    "duration": 22,
    "start_time": "2022-05-26T07:49:46.799Z"
   },
   {
    "duration": 116,
    "start_time": "2022-05-26T07:49:47.279Z"
   },
   {
    "duration": 66,
    "start_time": "2022-05-26T07:49:47.762Z"
   },
   {
    "duration": 23,
    "start_time": "2022-05-26T07:49:49.262Z"
   },
   {
    "duration": 16,
    "start_time": "2022-05-26T07:49:50.268Z"
   },
   {
    "duration": 69,
    "start_time": "2022-05-26T07:49:50.756Z"
   },
   {
    "duration": 47,
    "start_time": "2022-05-26T07:49:51.260Z"
   },
   {
    "duration": 20,
    "start_time": "2022-05-26T07:49:52.819Z"
   },
   {
    "duration": 19,
    "start_time": "2022-05-26T07:49:53.877Z"
   },
   {
    "duration": 49,
    "start_time": "2022-05-26T07:49:54.420Z"
   },
   {
    "duration": 37,
    "start_time": "2022-05-26T07:49:54.923Z"
   },
   {
    "duration": 16,
    "start_time": "2022-05-26T07:49:55.397Z"
   },
   {
    "duration": 17,
    "start_time": "2022-05-26T07:49:56.435Z"
   },
   {
    "duration": 30,
    "start_time": "2022-05-26T07:50:00.895Z"
   },
   {
    "duration": 33,
    "start_time": "2022-05-26T07:50:01.991Z"
   },
   {
    "duration": 49,
    "start_time": "2022-05-26T07:50:04.197Z"
   },
   {
    "duration": 42,
    "start_time": "2022-05-26T07:50:06.196Z"
   },
   {
    "duration": 9,
    "start_time": "2022-05-26T07:50:07.275Z"
   },
   {
    "duration": 7,
    "start_time": "2022-05-26T07:50:07.779Z"
   },
   {
    "duration": 8,
    "start_time": "2022-05-26T07:50:08.295Z"
   },
   {
    "duration": 135,
    "start_time": "2022-05-26T07:50:09.277Z"
   },
   {
    "duration": 12,
    "start_time": "2022-05-26T07:52:28.143Z"
   },
   {
    "duration": 12,
    "start_time": "2022-05-26T07:55:30.644Z"
   },
   {
    "duration": 58,
    "start_time": "2022-05-26T07:56:19.131Z"
   },
   {
    "duration": 7,
    "start_time": "2022-05-26T07:56:36.592Z"
   },
   {
    "duration": 1089,
    "start_time": "2022-05-26T07:56:41.144Z"
   },
   {
    "duration": 58,
    "start_time": "2022-05-26T07:56:42.235Z"
   },
   {
    "duration": 197,
    "start_time": "2022-05-26T07:56:42.380Z"
   },
   {
    "duration": 155,
    "start_time": "2022-05-26T07:56:42.763Z"
   },
   {
    "duration": 112,
    "start_time": "2022-05-26T07:56:43.169Z"
   },
   {
    "duration": 41,
    "start_time": "2022-05-26T07:56:43.564Z"
   },
   {
    "duration": 6,
    "start_time": "2022-05-26T07:56:45.567Z"
   },
   {
    "duration": 7,
    "start_time": "2022-05-26T07:56:46.826Z"
   },
   {
    "duration": 14,
    "start_time": "2022-05-26T07:56:47.302Z"
   },
   {
    "duration": 14,
    "start_time": "2022-05-26T07:56:47.741Z"
   },
   {
    "duration": 20,
    "start_time": "2022-05-26T07:56:48.567Z"
   },
   {
    "duration": 117,
    "start_time": "2022-05-26T07:56:49.011Z"
   },
   {
    "duration": 63,
    "start_time": "2022-05-26T07:56:49.404Z"
   },
   {
    "duration": 18,
    "start_time": "2022-05-26T07:56:50.642Z"
   },
   {
    "duration": 16,
    "start_time": "2022-05-26T07:56:51.473Z"
   },
   {
    "duration": 71,
    "start_time": "2022-05-26T07:56:51.895Z"
   },
   {
    "duration": 46,
    "start_time": "2022-05-26T07:56:52.349Z"
   },
   {
    "duration": 18,
    "start_time": "2022-05-26T07:56:53.865Z"
   },
   {
    "duration": 15,
    "start_time": "2022-05-26T07:56:54.749Z"
   },
   {
    "duration": 48,
    "start_time": "2022-05-26T07:56:55.203Z"
   },
   {
    "duration": 35,
    "start_time": "2022-05-26T07:56:55.642Z"
   },
   {
    "duration": 14,
    "start_time": "2022-05-26T07:56:56.150Z"
   },
   {
    "duration": 12,
    "start_time": "2022-05-26T07:56:57.073Z"
   },
   {
    "duration": 27,
    "start_time": "2022-05-26T07:57:00.754Z"
   },
   {
    "duration": 29,
    "start_time": "2022-05-26T07:57:01.730Z"
   },
   {
    "duration": 34,
    "start_time": "2022-05-26T07:57:02.767Z"
   },
   {
    "duration": 26,
    "start_time": "2022-05-26T07:57:10.044Z"
   },
   {
    "duration": 8,
    "start_time": "2022-05-26T07:57:12.066Z"
   },
   {
    "duration": 7,
    "start_time": "2022-05-26T07:57:12.502Z"
   },
   {
    "duration": 10,
    "start_time": "2022-05-26T07:57:12.929Z"
   },
   {
    "duration": 911,
    "start_time": "2022-05-26T07:57:13.888Z"
   },
   {
    "duration": 42,
    "start_time": "2022-05-26T07:57:46.271Z"
   },
   {
    "duration": 27,
    "start_time": "2022-05-26T07:59:33.112Z"
   },
   {
    "duration": 16,
    "start_time": "2022-05-26T07:59:55.108Z"
   },
   {
    "duration": 17,
    "start_time": "2022-05-26T08:02:08.872Z"
   },
   {
    "duration": 1613,
    "start_time": "2022-05-26T08:02:13.896Z"
   },
   {
    "duration": 20,
    "start_time": "2022-05-26T08:02:20.387Z"
   },
   {
    "duration": 26,
    "start_time": "2022-05-26T08:02:25.975Z"
   },
   {
    "duration": 29,
    "start_time": "2022-05-26T08:04:21.109Z"
   },
   {
    "duration": 14,
    "start_time": "2022-05-26T08:04:47.409Z"
   },
   {
    "duration": 10,
    "start_time": "2022-05-26T08:04:53.108Z"
   },
   {
    "duration": 59,
    "start_time": "2022-05-26T08:04:58.093Z"
   },
   {
    "duration": 59,
    "start_time": "2022-05-26T08:28:18.898Z"
   },
   {
    "duration": 61,
    "start_time": "2022-05-26T08:29:04.602Z"
   },
   {
    "duration": 76,
    "start_time": "2022-05-26T08:29:16.339Z"
   },
   {
    "duration": 70,
    "start_time": "2022-05-26T08:30:59.078Z"
   },
   {
    "duration": 57,
    "start_time": "2022-05-26T08:32:38.080Z"
   },
   {
    "duration": 44,
    "start_time": "2022-05-26T08:49:44.759Z"
   },
   {
    "duration": 42,
    "start_time": "2022-05-26T08:49:56.383Z"
   },
   {
    "duration": 1445,
    "start_time": "2022-05-26T08:50:04.831Z"
   },
   {
    "duration": 3,
    "start_time": "2022-05-26T08:50:14.510Z"
   },
   {
    "duration": 53,
    "start_time": "2022-05-26T08:50:15.443Z"
   },
   {
    "duration": 167,
    "start_time": "2022-05-26T08:50:15.888Z"
   },
   {
    "duration": 192,
    "start_time": "2022-05-26T08:50:16.351Z"
   },
   {
    "duration": 126,
    "start_time": "2022-05-26T08:50:16.812Z"
   },
   {
    "duration": 30,
    "start_time": "2022-05-26T08:50:17.255Z"
   },
   {
    "duration": 6,
    "start_time": "2022-05-26T08:50:19.619Z"
   },
   {
    "duration": 6,
    "start_time": "2022-05-26T08:50:20.994Z"
   },
   {
    "duration": 13,
    "start_time": "2022-05-26T08:50:21.435Z"
   },
   {
    "duration": 12,
    "start_time": "2022-05-26T08:50:21.907Z"
   },
   {
    "duration": 20,
    "start_time": "2022-05-26T08:50:22.805Z"
   },
   {
    "duration": 118,
    "start_time": "2022-05-26T08:50:23.266Z"
   },
   {
    "duration": 56,
    "start_time": "2022-05-26T08:50:23.732Z"
   },
   {
    "duration": 20,
    "start_time": "2022-05-26T08:50:26.837Z"
   },
   {
    "duration": 16,
    "start_time": "2022-05-26T08:50:27.757Z"
   },
   {
    "duration": 56,
    "start_time": "2022-05-26T08:50:28.235Z"
   },
   {
    "duration": 43,
    "start_time": "2022-05-26T08:50:28.734Z"
   },
   {
    "duration": 19,
    "start_time": "2022-05-26T08:50:31.726Z"
   },
   {
    "duration": 16,
    "start_time": "2022-05-26T08:50:32.770Z"
   },
   {
    "duration": 43,
    "start_time": "2022-05-26T08:50:33.344Z"
   },
   {
    "duration": 40,
    "start_time": "2022-05-26T08:50:33.823Z"
   },
   {
    "duration": 15,
    "start_time": "2022-05-26T08:50:34.314Z"
   },
   {
    "duration": 11,
    "start_time": "2022-05-26T08:50:35.612Z"
   },
   {
    "duration": 2113,
    "start_time": "2022-05-26T09:09:09.421Z"
   },
   {
    "duration": 29,
    "start_time": "2022-05-26T09:09:23.396Z"
   },
   {
    "duration": 25,
    "start_time": "2022-05-26T09:09:26.734Z"
   },
   {
    "duration": 27,
    "start_time": "2022-05-26T09:09:34.803Z"
   },
   {
    "duration": 26,
    "start_time": "2022-05-26T09:10:52.296Z"
   },
   {
    "duration": 3,
    "start_time": "2022-05-26T09:10:58.785Z"
   },
   {
    "duration": 50,
    "start_time": "2022-05-26T09:10:59.513Z"
   },
   {
    "duration": 185,
    "start_time": "2022-05-26T09:10:59.895Z"
   },
   {
    "duration": 150,
    "start_time": "2022-05-26T09:11:00.260Z"
   },
   {
    "duration": 120,
    "start_time": "2022-05-26T09:11:00.617Z"
   },
   {
    "duration": 28,
    "start_time": "2022-05-26T09:11:00.988Z"
   },
   {
    "duration": 5,
    "start_time": "2022-05-26T09:11:02.894Z"
   },
   {
    "duration": 7,
    "start_time": "2022-05-26T09:11:04.072Z"
   },
   {
    "duration": 13,
    "start_time": "2022-05-26T09:11:04.470Z"
   },
   {
    "duration": 12,
    "start_time": "2022-05-26T09:11:04.872Z"
   },
   {
    "duration": 21,
    "start_time": "2022-05-26T09:11:05.680Z"
   },
   {
    "duration": 104,
    "start_time": "2022-05-26T09:11:06.074Z"
   },
   {
    "duration": 62,
    "start_time": "2022-05-26T09:11:06.491Z"
   },
   {
    "duration": 25,
    "start_time": "2022-05-26T09:11:07.781Z"
   },
   {
    "duration": 17,
    "start_time": "2022-05-26T09:11:09.299Z"
   },
   {
    "duration": 61,
    "start_time": "2022-05-26T09:11:09.703Z"
   },
   {
    "duration": 48,
    "start_time": "2022-05-26T09:11:10.089Z"
   },
   {
    "duration": 20,
    "start_time": "2022-05-26T09:11:12.947Z"
   },
   {
    "duration": 20,
    "start_time": "2022-05-26T09:11:13.878Z"
   },
   {
    "duration": 45,
    "start_time": "2022-05-26T09:11:14.310Z"
   },
   {
    "duration": 36,
    "start_time": "2022-05-26T09:11:14.710Z"
   },
   {
    "duration": 15,
    "start_time": "2022-05-26T09:11:15.136Z"
   },
   {
    "duration": 14,
    "start_time": "2022-05-26T09:11:16.234Z"
   },
   {
    "duration": 25,
    "start_time": "2022-05-26T09:11:34.693Z"
   },
   {
    "duration": 21,
    "start_time": "2022-05-26T09:11:37.651Z"
   },
   {
    "duration": 30,
    "start_time": "2022-05-26T09:11:38.620Z"
   },
   {
    "duration": 27,
    "start_time": "2022-05-26T09:11:40.591Z"
   },
   {
    "duration": 16,
    "start_time": "2022-05-26T09:12:29.104Z"
   },
   {
    "duration": 77,
    "start_time": "2022-05-26T09:12:46.296Z"
   },
   {
    "duration": 25,
    "start_time": "2022-05-26T09:12:49.825Z"
   },
   {
    "duration": 12,
    "start_time": "2022-05-26T09:13:06.651Z"
   },
   {
    "duration": 63,
    "start_time": "2022-05-26T09:13:07.673Z"
   },
   {
    "duration": 17,
    "start_time": "2022-05-26T09:13:10.847Z"
   },
   {
    "duration": 669,
    "start_time": "2022-05-26T09:13:17.967Z"
   },
   {
    "duration": 100,
    "start_time": "2022-05-26T09:13:22.381Z"
   },
   {
    "duration": 9,
    "start_time": "2022-05-26T09:13:24.668Z"
   },
   {
    "duration": 225,
    "start_time": "2022-05-26T09:13:46.145Z"
   },
   {
    "duration": 108,
    "start_time": "2022-05-26T09:13:57.037Z"
   },
   {
    "duration": 9,
    "start_time": "2022-05-26T09:14:02.743Z"
   },
   {
    "duration": 341,
    "start_time": "2022-05-26T09:14:20.729Z"
   },
   {
    "duration": 183,
    "start_time": "2022-05-26T09:14:30.346Z"
   },
   {
    "duration": 164,
    "start_time": "2022-05-26T09:14:36.872Z"
   },
   {
    "duration": 191,
    "start_time": "2022-05-26T09:14:45.270Z"
   },
   {
    "duration": 268,
    "start_time": "2022-05-26T09:14:56.397Z"
   },
   {
    "duration": 194,
    "start_time": "2022-05-26T09:15:00.309Z"
   },
   {
    "duration": 108,
    "start_time": "2022-05-26T09:15:02.762Z"
   },
   {
    "duration": 8,
    "start_time": "2022-05-26T09:15:07.335Z"
   },
   {
    "duration": 17,
    "start_time": "2022-05-26T09:15:33.948Z"
   },
   {
    "duration": 338,
    "start_time": "2022-05-26T09:15:37.061Z"
   },
   {
    "duration": 106,
    "start_time": "2022-05-26T09:15:43.497Z"
   },
   {
    "duration": 8,
    "start_time": "2022-05-26T09:15:45.619Z"
   },
   {
    "duration": 188,
    "start_time": "2022-05-26T09:15:47.337Z"
   },
   {
    "duration": 221,
    "start_time": "2022-05-26T09:15:53.503Z"
   },
   {
    "duration": 87,
    "start_time": "2022-05-26T09:15:57.016Z"
   },
   {
    "duration": 8,
    "start_time": "2022-05-26T09:15:58.853Z"
   },
   {
    "duration": 220,
    "start_time": "2022-05-26T09:16:16.968Z"
   },
   {
    "duration": 177,
    "start_time": "2022-05-26T09:16:22.732Z"
   },
   {
    "duration": 104,
    "start_time": "2022-05-26T09:16:26.453Z"
   },
   {
    "duration": 8,
    "start_time": "2022-05-26T09:16:28.670Z"
   },
   {
    "duration": 6,
    "start_time": "2022-05-26T09:17:05.692Z"
   },
   {
    "duration": 6,
    "start_time": "2022-05-26T09:17:08.223Z"
   },
   {
    "duration": 10,
    "start_time": "2022-05-26T09:17:16.458Z"
   },
   {
    "duration": 8,
    "start_time": "2022-05-26T09:17:18.899Z"
   },
   {
    "duration": 2,
    "start_time": "2022-05-26T09:30:28.546Z"
   },
   {
    "duration": 11,
    "start_time": "2022-05-26T09:32:21.914Z"
   },
   {
    "duration": 9,
    "start_time": "2022-05-26T09:32:48.756Z"
   },
   {
    "duration": 231,
    "start_time": "2022-05-26T09:33:03.989Z"
   },
   {
    "duration": 337,
    "start_time": "2022-05-26T09:39:39.666Z"
   },
   {
    "duration": 57,
    "start_time": "2022-05-26T09:46:46.894Z"
   },
   {
    "duration": 63,
    "start_time": "2022-05-26T09:46:57.296Z"
   },
   {
    "duration": 1173,
    "start_time": "2022-05-26T09:47:08.710Z"
   },
   {
    "duration": 55,
    "start_time": "2022-05-26T09:47:09.885Z"
   },
   {
    "duration": 183,
    "start_time": "2022-05-26T09:47:09.941Z"
   },
   {
    "duration": 154,
    "start_time": "2022-05-26T09:47:10.244Z"
   },
   {
    "duration": 102,
    "start_time": "2022-05-26T09:47:10.607Z"
   },
   {
    "duration": 38,
    "start_time": "2022-05-26T09:47:10.988Z"
   },
   {
    "duration": 7,
    "start_time": "2022-05-26T09:47:12.868Z"
   },
   {
    "duration": 7,
    "start_time": "2022-05-26T09:47:14.063Z"
   },
   {
    "duration": 14,
    "start_time": "2022-05-26T09:47:14.422Z"
   },
   {
    "duration": 12,
    "start_time": "2022-05-26T09:47:14.795Z"
   },
   {
    "duration": 21,
    "start_time": "2022-05-26T09:47:15.544Z"
   },
   {
    "duration": 117,
    "start_time": "2022-05-26T09:47:15.915Z"
   },
   {
    "duration": 71,
    "start_time": "2022-05-26T09:47:16.291Z"
   },
   {
    "duration": 18,
    "start_time": "2022-05-26T09:47:17.394Z"
   },
   {
    "duration": 17,
    "start_time": "2022-05-26T09:47:18.128Z"
   },
   {
    "duration": 69,
    "start_time": "2022-05-26T09:47:18.512Z"
   },
   {
    "duration": 46,
    "start_time": "2022-05-26T09:47:18.895Z"
   },
   {
    "duration": 22,
    "start_time": "2022-05-26T09:47:20.137Z"
   },
   {
    "duration": 14,
    "start_time": "2022-05-26T09:47:20.958Z"
   },
   {
    "duration": 47,
    "start_time": "2022-05-26T09:47:21.381Z"
   },
   {
    "duration": 37,
    "start_time": "2022-05-26T09:47:21.811Z"
   },
   {
    "duration": 17,
    "start_time": "2022-05-26T09:47:22.218Z"
   },
   {
    "duration": 11,
    "start_time": "2022-05-26T09:47:23.043Z"
   },
   {
    "duration": 27,
    "start_time": "2022-05-26T09:47:25.210Z"
   },
   {
    "duration": 29,
    "start_time": "2022-05-26T09:47:26.592Z"
   },
   {
    "duration": 39,
    "start_time": "2022-05-26T09:47:27.524Z"
   },
   {
    "duration": 27,
    "start_time": "2022-05-26T09:47:28.926Z"
   },
   {
    "duration": 7,
    "start_time": "2022-05-26T09:47:30.912Z"
   },
   {
    "duration": 8,
    "start_time": "2022-05-26T09:47:31.413Z"
   },
   {
    "duration": 9,
    "start_time": "2022-05-26T09:47:31.867Z"
   },
   {
    "duration": 16,
    "start_time": "2022-05-26T09:47:32.793Z"
   },
   {
    "duration": 11,
    "start_time": "2022-05-26T09:47:33.740Z"
   },
   {
    "duration": 63,
    "start_time": "2022-05-26T09:47:34.644Z"
   },
   {
    "duration": 17,
    "start_time": "2022-05-26T09:47:39.868Z"
   },
   {
    "duration": 331,
    "start_time": "2022-05-26T09:47:40.381Z"
   },
   {
    "duration": 98,
    "start_time": "2022-05-26T09:47:40.909Z"
   },
   {
    "duration": 9,
    "start_time": "2022-05-26T09:47:41.413Z"
   },
   {
    "duration": 189,
    "start_time": "2022-05-26T09:47:42.420Z"
   },
   {
    "duration": 101,
    "start_time": "2022-05-26T09:47:42.930Z"
   },
   {
    "duration": 8,
    "start_time": "2022-05-26T09:47:43.426Z"
   },
   {
    "duration": 225,
    "start_time": "2022-05-26T09:47:44.479Z"
   },
   {
    "duration": 107,
    "start_time": "2022-05-26T09:47:45.027Z"
   },
   {
    "duration": 9,
    "start_time": "2022-05-26T09:47:45.555Z"
   },
   {
    "duration": 195,
    "start_time": "2022-05-26T09:47:46.647Z"
   },
   {
    "duration": 356,
    "start_time": "2022-05-26T09:47:54.113Z"
   },
   {
    "duration": 289,
    "start_time": "2022-05-26T09:48:06.190Z"
   },
   {
    "duration": 33,
    "start_time": "2022-05-26T09:48:29.448Z"
   },
   {
    "duration": 169,
    "start_time": "2022-05-26T09:48:33.069Z"
   },
   {
    "duration": 99,
    "start_time": "2022-05-26T09:48:55.812Z"
   },
   {
    "duration": 8,
    "start_time": "2022-05-26T09:49:23.822Z"
   },
   {
    "duration": 62,
    "start_time": "2022-05-26T09:55:30.010Z"
   },
   {
    "duration": 10,
    "start_time": "2022-05-26T09:55:37.783Z"
   },
   {
    "duration": 1099,
    "start_time": "2022-05-26T09:56:08.177Z"
   },
   {
    "duration": 61,
    "start_time": "2022-05-26T09:56:09.278Z"
   },
   {
    "duration": 181,
    "start_time": "2022-05-26T09:56:09.341Z"
   },
   {
    "duration": 150,
    "start_time": "2022-05-26T09:56:09.591Z"
   },
   {
    "duration": 107,
    "start_time": "2022-05-26T09:56:09.953Z"
   },
   {
    "duration": 47,
    "start_time": "2022-05-26T09:56:10.338Z"
   },
   {
    "duration": 6,
    "start_time": "2022-05-26T09:56:12.140Z"
   },
   {
    "duration": 6,
    "start_time": "2022-05-26T09:56:13.248Z"
   },
   {
    "duration": 15,
    "start_time": "2022-05-26T09:56:13.612Z"
   },
   {
    "duration": 11,
    "start_time": "2022-05-26T09:56:13.971Z"
   },
   {
    "duration": 20,
    "start_time": "2022-05-26T09:56:14.705Z"
   },
   {
    "duration": 120,
    "start_time": "2022-05-26T09:56:15.071Z"
   },
   {
    "duration": 65,
    "start_time": "2022-05-26T09:56:15.426Z"
   },
   {
    "duration": 21,
    "start_time": "2022-05-26T09:56:16.561Z"
   },
   {
    "duration": 25,
    "start_time": "2022-05-26T09:56:17.289Z"
   },
   {
    "duration": 67,
    "start_time": "2022-05-26T09:56:17.684Z"
   },
   {
    "duration": 46,
    "start_time": "2022-05-26T09:56:18.072Z"
   },
   {
    "duration": 19,
    "start_time": "2022-05-26T09:56:19.242Z"
   },
   {
    "duration": 14,
    "start_time": "2022-05-26T09:56:19.978Z"
   },
   {
    "duration": 48,
    "start_time": "2022-05-26T09:56:20.374Z"
   },
   {
    "duration": 40,
    "start_time": "2022-05-26T09:56:20.763Z"
   },
   {
    "duration": 16,
    "start_time": "2022-05-26T09:56:21.138Z"
   },
   {
    "duration": 12,
    "start_time": "2022-05-26T09:56:21.902Z"
   },
   {
    "duration": 29,
    "start_time": "2022-05-26T09:56:23.869Z"
   },
   {
    "duration": 28,
    "start_time": "2022-05-26T09:56:24.668Z"
   },
   {
    "duration": 34,
    "start_time": "2022-05-26T09:56:25.463Z"
   },
   {
    "duration": 31,
    "start_time": "2022-05-26T09:56:26.667Z"
   },
   {
    "duration": 7,
    "start_time": "2022-05-26T09:56:27.478Z"
   },
   {
    "duration": 8,
    "start_time": "2022-05-26T09:56:27.877Z"
   },
   {
    "duration": 8,
    "start_time": "2022-05-26T09:56:28.253Z"
   },
   {
    "duration": 16,
    "start_time": "2022-05-26T09:56:29.086Z"
   },
   {
    "duration": 11,
    "start_time": "2022-05-26T09:56:29.876Z"
   },
   {
    "duration": 62,
    "start_time": "2022-05-26T09:56:30.658Z"
   },
   {
    "duration": 18,
    "start_time": "2022-05-26T09:56:32.772Z"
   },
   {
    "duration": 321,
    "start_time": "2022-05-26T09:56:33.196Z"
   },
   {
    "duration": 102,
    "start_time": "2022-05-26T09:56:33.638Z"
   },
   {
    "duration": 8,
    "start_time": "2022-05-26T09:56:34.044Z"
   },
   {
    "duration": 196,
    "start_time": "2022-05-26T09:56:34.925Z"
   },
   {
    "duration": 118,
    "start_time": "2022-05-26T09:56:35.384Z"
   },
   {
    "duration": 10,
    "start_time": "2022-05-26T09:56:35.840Z"
   },
   {
    "duration": 202,
    "start_time": "2022-05-26T09:56:36.738Z"
   },
   {
    "duration": 110,
    "start_time": "2022-05-26T09:56:37.195Z"
   },
   {
    "duration": 9,
    "start_time": "2022-05-26T09:56:37.626Z"
   },
   {
    "duration": 187,
    "start_time": "2022-05-26T09:56:38.476Z"
   },
   {
    "duration": 103,
    "start_time": "2022-05-26T09:56:38.912Z"
   },
   {
    "duration": 9,
    "start_time": "2022-05-26T09:56:39.355Z"
   },
   {
    "duration": 16,
    "start_time": "2022-05-26T09:56:40.648Z"
   },
   {
    "duration": 346,
    "start_time": "2022-05-26T09:56:41.141Z"
   },
   {
    "duration": 105,
    "start_time": "2022-05-26T09:56:41.570Z"
   },
   {
    "duration": 9,
    "start_time": "2022-05-26T09:56:42.019Z"
   },
   {
    "duration": 240,
    "start_time": "2022-05-26T09:56:42.942Z"
   },
   {
    "duration": 101,
    "start_time": "2022-05-26T09:56:43.436Z"
   },
   {
    "duration": 8,
    "start_time": "2022-05-26T09:56:43.939Z"
   },
   {
    "duration": 195,
    "start_time": "2022-05-26T09:56:44.817Z"
   },
   {
    "duration": 104,
    "start_time": "2022-05-26T09:56:45.287Z"
   },
   {
    "duration": 9,
    "start_time": "2022-05-26T09:56:45.754Z"
   },
   {
    "duration": 359,
    "start_time": "2022-05-26T09:56:48.162Z"
   },
   {
    "duration": 642,
    "start_time": "2022-05-26T09:59:31.602Z"
   },
   {
    "duration": 453,
    "start_time": "2022-05-26T09:59:38.603Z"
   },
   {
    "duration": 13,
    "start_time": "2022-05-26T10:00:13.438Z"
   },
   {
    "duration": 17,
    "start_time": "2022-05-26T10:01:29.442Z"
   },
   {
    "duration": 17,
    "start_time": "2022-05-26T10:02:19.309Z"
   },
   {
    "duration": 458,
    "start_time": "2022-05-26T10:04:08.368Z"
   },
   {
    "duration": 441,
    "start_time": "2022-05-26T10:04:28.983Z"
   },
   {
    "duration": 557,
    "start_time": "2022-05-26T10:05:19.502Z"
   },
   {
    "duration": 8,
    "start_time": "2022-05-26T10:05:49.456Z"
   },
   {
    "duration": 9,
    "start_time": "2022-05-26T10:06:11.993Z"
   },
   {
    "duration": 442,
    "start_time": "2022-05-26T10:07:03.761Z"
   },
   {
    "duration": 419,
    "start_time": "2022-05-26T10:07:36.515Z"
   },
   {
    "duration": 342,
    "start_time": "2022-05-26T10:07:46.319Z"
   },
   {
    "duration": 8,
    "start_time": "2022-05-26T10:08:41.613Z"
   },
   {
    "duration": 8,
    "start_time": "2022-05-26T10:08:52.612Z"
   },
   {
    "duration": 443,
    "start_time": "2022-05-26T10:11:32.309Z"
   },
   {
    "duration": 262,
    "start_time": "2022-05-26T10:11:49.581Z"
   },
   {
    "duration": 333,
    "start_time": "2022-05-26T10:12:01.677Z"
   },
   {
    "duration": 9,
    "start_time": "2022-05-26T10:12:38.045Z"
   },
   {
    "duration": 8,
    "start_time": "2022-05-26T10:12:57.147Z"
   },
   {
    "duration": 10,
    "start_time": "2022-05-26T10:13:10.628Z"
   },
   {
    "duration": 308,
    "start_time": "2022-05-26T10:18:10.008Z"
   },
   {
    "duration": 225,
    "start_time": "2022-05-26T10:18:27.501Z"
   },
   {
    "duration": 382,
    "start_time": "2022-05-26T10:18:35.785Z"
   },
   {
    "duration": 9,
    "start_time": "2022-05-26T10:19:20.195Z"
   },
   {
    "duration": 8,
    "start_time": "2022-05-26T10:19:42.438Z"
   },
   {
    "duration": 271,
    "start_time": "2022-05-26T10:21:31.008Z"
   },
   {
    "duration": 284,
    "start_time": "2022-05-26T10:21:49.240Z"
   },
   {
    "duration": 298,
    "start_time": "2022-05-26T10:22:22.297Z"
   },
   {
    "duration": 432,
    "start_time": "2022-05-26T10:22:30.661Z"
   },
   {
    "duration": 175,
    "start_time": "2022-05-26T10:22:46.664Z"
   },
   {
    "duration": 568,
    "start_time": "2022-05-26T10:23:44.180Z"
   },
   {
    "duration": 434,
    "start_time": "2022-05-26T10:24:27.768Z"
   },
   {
    "duration": 478,
    "start_time": "2022-05-26T10:25:14.501Z"
   },
   {
    "duration": 568,
    "start_time": "2022-05-26T10:25:40.639Z"
   },
   {
    "duration": 425,
    "start_time": "2022-05-26T10:25:54.403Z"
   },
   {
    "duration": 421,
    "start_time": "2022-05-26T10:26:03.356Z"
   },
   {
    "duration": 367,
    "start_time": "2022-05-26T10:26:10.835Z"
   },
   {
    "duration": 534,
    "start_time": "2022-05-26T10:26:24.289Z"
   },
   {
    "duration": 309,
    "start_time": "2022-05-26T10:27:49.028Z"
   },
   {
    "duration": 8,
    "start_time": "2022-05-26T10:28:41.953Z"
   },
   {
    "duration": 8,
    "start_time": "2022-05-26T10:29:00.471Z"
   },
   {
    "duration": 9,
    "start_time": "2022-05-26T10:29:12.754Z"
   },
   {
    "duration": 27,
    "start_time": "2022-05-26T10:43:29.533Z"
   },
   {
    "duration": 15,
    "start_time": "2022-05-26T10:43:39.490Z"
   },
   {
    "duration": 26,
    "start_time": "2022-05-26T10:50:07.312Z"
   },
   {
    "duration": 310,
    "start_time": "2022-05-26T11:13:20.381Z"
   },
   {
    "duration": 292,
    "start_time": "2022-05-26T11:13:57.718Z"
   },
   {
    "duration": 6,
    "start_time": "2022-05-26T11:16:16.973Z"
   },
   {
    "duration": 6,
    "start_time": "2022-05-26T11:16:18.054Z"
   },
   {
    "duration": 560,
    "start_time": "2022-05-26T11:16:26.329Z"
   },
   {
    "duration": 5,
    "start_time": "2022-05-26T11:16:37.558Z"
   },
   {
    "duration": 51,
    "start_time": "2022-05-26T11:16:38.404Z"
   },
   {
    "duration": 171,
    "start_time": "2022-05-26T11:16:38.830Z"
   },
   {
    "duration": 159,
    "start_time": "2022-05-26T11:16:39.238Z"
   },
   {
    "duration": 114,
    "start_time": "2022-05-26T11:16:39.644Z"
   },
   {
    "duration": 29,
    "start_time": "2022-05-26T11:16:40.068Z"
   },
   {
    "duration": 8,
    "start_time": "2022-05-26T11:16:42.137Z"
   },
   {
    "duration": 8,
    "start_time": "2022-05-26T11:16:43.399Z"
   },
   {
    "duration": 13,
    "start_time": "2022-05-26T11:16:43.834Z"
   },
   {
    "duration": 11,
    "start_time": "2022-05-26T11:16:44.244Z"
   },
   {
    "duration": 21,
    "start_time": "2022-05-26T11:16:45.098Z"
   },
   {
    "duration": 109,
    "start_time": "2022-05-26T11:16:45.537Z"
   },
   {
    "duration": 57,
    "start_time": "2022-05-26T11:16:45.965Z"
   },
   {
    "duration": 24,
    "start_time": "2022-05-26T11:16:47.237Z"
   },
   {
    "duration": 17,
    "start_time": "2022-05-26T11:16:48.114Z"
   },
   {
    "duration": 56,
    "start_time": "2022-05-26T11:16:48.547Z"
   },
   {
    "duration": 53,
    "start_time": "2022-05-26T11:16:48.999Z"
   },
   {
    "duration": 20,
    "start_time": "2022-05-26T11:16:50.424Z"
   },
   {
    "duration": 16,
    "start_time": "2022-05-26T11:16:51.441Z"
   },
   {
    "duration": 40,
    "start_time": "2022-05-26T11:16:51.936Z"
   },
   {
    "duration": 39,
    "start_time": "2022-05-26T11:16:52.384Z"
   },
   {
    "duration": 16,
    "start_time": "2022-05-26T11:16:52.874Z"
   },
   {
    "duration": 10,
    "start_time": "2022-05-26T11:16:54.528Z"
   },
   {
    "duration": 33,
    "start_time": "2022-05-26T11:16:56.886Z"
   },
   {
    "duration": 31,
    "start_time": "2022-05-26T11:16:57.827Z"
   },
   {
    "duration": 29,
    "start_time": "2022-05-26T11:16:58.936Z"
   },
   {
    "duration": 26,
    "start_time": "2022-05-26T11:17:00.726Z"
   },
   {
    "duration": 8,
    "start_time": "2022-05-26T11:17:01.783Z"
   },
   {
    "duration": 7,
    "start_time": "2022-05-26T11:17:04.035Z"
   },
   {
    "duration": 9,
    "start_time": "2022-05-26T11:17:04.535Z"
   },
   {
    "duration": 18,
    "start_time": "2022-05-26T11:17:05.438Z"
   },
   {
    "duration": 15,
    "start_time": "2022-05-26T11:17:06.410Z"
   },
   {
    "duration": 66,
    "start_time": "2022-05-26T11:17:07.367Z"
   },
   {
    "duration": 17,
    "start_time": "2022-05-26T11:17:09.247Z"
   },
   {
    "duration": 16,
    "start_time": "2022-05-26T11:17:09.727Z"
   },
   {
    "duration": 464,
    "start_time": "2022-05-26T11:17:10.189Z"
   },
   {
    "duration": 9,
    "start_time": "2022-05-26T11:17:10.681Z"
   },
   {
    "duration": 9,
    "start_time": "2022-05-26T11:17:11.160Z"
   },
   {
    "duration": 424,
    "start_time": "2022-05-26T11:17:12.137Z"
   },
   {
    "duration": 9,
    "start_time": "2022-05-26T11:17:12.614Z"
   },
   {
    "duration": 8,
    "start_time": "2022-05-26T11:17:13.070Z"
   },
   {
    "duration": 312,
    "start_time": "2022-05-26T11:17:14.034Z"
   },
   {
    "duration": 9,
    "start_time": "2022-05-26T11:17:14.527Z"
   },
   {
    "duration": 11,
    "start_time": "2022-05-26T11:17:15.028Z"
   },
   {
    "duration": 392,
    "start_time": "2022-05-26T11:17:16.041Z"
   },
   {
    "duration": 10,
    "start_time": "2022-05-26T11:17:16.523Z"
   },
   {
    "duration": 9,
    "start_time": "2022-05-26T11:17:17.003Z"
   },
   {
    "duration": 7,
    "start_time": "2022-05-26T11:17:28.371Z"
   },
   {
    "duration": 5,
    "start_time": "2022-05-26T11:17:29.699Z"
   },
   {
    "duration": 11,
    "start_time": "2022-05-26T11:17:32.493Z"
   },
   {
    "duration": 10,
    "start_time": "2022-05-26T11:17:36.200Z"
   },
   {
    "duration": 9,
    "start_time": "2022-05-26T11:18:54.699Z"
   },
   {
    "duration": 287,
    "start_time": "2022-05-26T11:36:40.919Z"
   },
   {
    "duration": 336,
    "start_time": "2022-05-26T11:37:00.014Z"
   },
   {
    "duration": 8,
    "start_time": "2022-05-26T11:39:55.198Z"
   },
   {
    "duration": 6,
    "start_time": "2022-05-26T11:44:26.691Z"
   },
   {
    "duration": 441,
    "start_time": "2022-05-26T11:45:13.288Z"
   },
   {
    "duration": 477,
    "start_time": "2022-05-26T11:45:25.173Z"
   },
   {
    "duration": 321,
    "start_time": "2022-05-26T11:45:37.168Z"
   },
   {
    "duration": 6,
    "start_time": "2022-05-26T11:46:21.439Z"
   },
   {
    "duration": 14,
    "start_time": "2022-05-26T11:47:07.924Z"
   },
   {
    "duration": 9,
    "start_time": "2022-05-26T11:48:50.888Z"
   },
   {
    "duration": 54,
    "start_time": "2022-05-26T11:49:27.043Z"
   },
   {
    "duration": 11,
    "start_time": "2022-05-26T11:49:30.774Z"
   },
   {
    "duration": 11,
    "start_time": "2022-05-26T11:49:51.255Z"
   },
   {
    "duration": 299,
    "start_time": "2022-05-26T11:50:01.035Z"
   },
   {
    "duration": 53,
    "start_time": "2022-05-26T12:03:48.948Z"
   },
   {
    "duration": 55,
    "start_time": "2022-05-26T12:09:26.358Z"
   },
   {
    "duration": 1236,
    "start_time": "2022-05-26T12:19:29.330Z"
   },
   {
    "duration": 57,
    "start_time": "2022-05-26T12:19:30.568Z"
   },
   {
    "duration": 190,
    "start_time": "2022-05-26T12:19:30.627Z"
   },
   {
    "duration": 169,
    "start_time": "2022-05-26T12:19:30.955Z"
   },
   {
    "duration": 116,
    "start_time": "2022-05-26T12:19:31.398Z"
   },
   {
    "duration": 40,
    "start_time": "2022-05-26T12:19:31.819Z"
   },
   {
    "duration": 6,
    "start_time": "2022-05-26T12:19:33.976Z"
   },
   {
    "duration": 8,
    "start_time": "2022-05-26T12:19:35.228Z"
   },
   {
    "duration": 15,
    "start_time": "2022-05-26T12:19:35.645Z"
   },
   {
    "duration": 17,
    "start_time": "2022-05-26T12:19:36.075Z"
   },
   {
    "duration": 20,
    "start_time": "2022-05-26T12:19:36.937Z"
   },
   {
    "duration": 105,
    "start_time": "2022-05-26T12:19:37.365Z"
   },
   {
    "duration": 59,
    "start_time": "2022-05-26T12:19:37.779Z"
   },
   {
    "duration": 18,
    "start_time": "2022-05-26T12:19:39.061Z"
   },
   {
    "duration": 17,
    "start_time": "2022-05-26T12:19:39.887Z"
   },
   {
    "duration": 61,
    "start_time": "2022-05-26T12:19:40.302Z"
   },
   {
    "duration": 45,
    "start_time": "2022-05-26T12:19:40.745Z"
   },
   {
    "duration": 16,
    "start_time": "2022-05-26T12:19:42.030Z"
   },
   {
    "duration": 14,
    "start_time": "2022-05-26T12:19:43.359Z"
   },
   {
    "duration": 51,
    "start_time": "2022-05-26T12:19:43.803Z"
   },
   {
    "duration": 35,
    "start_time": "2022-05-26T12:19:44.226Z"
   },
   {
    "duration": 15,
    "start_time": "2022-05-26T12:19:44.671Z"
   },
   {
    "duration": 10,
    "start_time": "2022-05-26T12:19:45.600Z"
   },
   {
    "duration": 25,
    "start_time": "2022-05-26T12:19:47.735Z"
   },
   {
    "duration": 29,
    "start_time": "2022-05-26T12:19:48.631Z"
   },
   {
    "duration": 35,
    "start_time": "2022-05-26T12:19:49.530Z"
   },
   {
    "duration": 30,
    "start_time": "2022-05-26T12:19:50.952Z"
   },
   {
    "duration": 8,
    "start_time": "2022-05-26T12:19:51.857Z"
   },
   {
    "duration": 7,
    "start_time": "2022-05-26T12:19:52.319Z"
   },
   {
    "duration": 8,
    "start_time": "2022-05-26T12:19:52.837Z"
   },
   {
    "duration": 17,
    "start_time": "2022-05-26T12:19:53.749Z"
   },
   {
    "duration": 12,
    "start_time": "2022-05-26T12:19:54.658Z"
   },
   {
    "duration": 64,
    "start_time": "2022-05-26T12:19:55.597Z"
   },
   {
    "duration": 16,
    "start_time": "2022-05-26T12:19:57.565Z"
   },
   {
    "duration": 17,
    "start_time": "2022-05-26T12:19:58.054Z"
   },
   {
    "duration": 508,
    "start_time": "2022-05-26T12:19:58.500Z"
   },
   {
    "duration": 8,
    "start_time": "2022-05-26T12:19:59.010Z"
   },
   {
    "duration": 8,
    "start_time": "2022-05-26T12:19:59.484Z"
   },
   {
    "duration": 283,
    "start_time": "2022-05-26T12:20:00.420Z"
   },
   {
    "duration": 9,
    "start_time": "2022-05-26T12:20:00.916Z"
   },
   {
    "duration": 9,
    "start_time": "2022-05-26T12:20:01.390Z"
   },
   {
    "duration": 317,
    "start_time": "2022-05-26T12:20:02.385Z"
   },
   {
    "duration": 8,
    "start_time": "2022-05-26T12:20:02.843Z"
   },
   {
    "duration": 9,
    "start_time": "2022-05-26T12:20:03.292Z"
   },
   {
    "duration": 298,
    "start_time": "2022-05-26T12:20:04.293Z"
   },
   {
    "duration": 7,
    "start_time": "2022-05-26T12:20:04.758Z"
   },
   {
    "duration": 309,
    "start_time": "2022-05-26T12:20:05.679Z"
   },
   {
    "duration": 11,
    "start_time": "2022-05-26T12:20:06.166Z"
   },
   {
    "duration": 5,
    "start_time": "2022-05-26T12:20:10.781Z"
   },
   {
    "duration": 9,
    "start_time": "2022-05-26T12:20:13.143Z"
   },
   {
    "duration": 2,
    "start_time": "2022-05-26T12:23:07.558Z"
   },
   {
    "duration": 3,
    "start_time": "2022-05-26T12:26:09.936Z"
   },
   {
    "duration": 22,
    "start_time": "2022-05-26T12:33:49.820Z"
   },
   {
    "duration": 9,
    "start_time": "2022-05-26T12:34:07.884Z"
   },
   {
    "duration": 22,
    "start_time": "2022-05-26T12:43:47.637Z"
   },
   {
    "duration": 16,
    "start_time": "2022-05-26T12:44:30.214Z"
   },
   {
    "duration": 111,
    "start_time": "2022-05-26T12:54:54.533Z"
   },
   {
    "duration": 279,
    "start_time": "2022-05-26T12:55:09.349Z"
   },
   {
    "duration": 272,
    "start_time": "2022-05-26T12:58:12.439Z"
   },
   {
    "duration": 1104,
    "start_time": "2022-05-26T12:58:56.843Z"
   },
   {
    "duration": 373,
    "start_time": "2022-05-26T13:11:13.839Z"
   },
   {
    "duration": 278,
    "start_time": "2022-05-26T13:11:53.087Z"
   },
   {
    "duration": 789,
    "start_time": "2022-05-26T13:12:58.281Z"
   },
   {
    "duration": 44,
    "start_time": "2022-05-26T13:19:18.574Z"
   },
   {
    "duration": 569,
    "start_time": "2022-05-26T13:19:22.250Z"
   },
   {
    "duration": 435,
    "start_time": "2022-05-26T13:19:43.259Z"
   },
   {
    "duration": 449,
    "start_time": "2022-05-26T13:19:54.817Z"
   },
   {
    "duration": 335,
    "start_time": "2022-05-26T13:21:02.043Z"
   },
   {
    "duration": 271,
    "start_time": "2022-05-26T13:22:29.036Z"
   },
   {
    "duration": 591,
    "start_time": "2022-05-26T13:24:50.543Z"
   },
   {
    "duration": 479,
    "start_time": "2022-05-26T13:25:07.992Z"
   },
   {
    "duration": 406,
    "start_time": "2022-05-26T13:25:45.582Z"
   },
   {
    "duration": 10,
    "start_time": "2022-05-26T13:26:20.667Z"
   },
   {
    "duration": 8,
    "start_time": "2022-05-26T13:26:23.108Z"
   },
   {
    "duration": 603,
    "start_time": "2022-05-26T13:27:16.624Z"
   },
   {
    "duration": 2088,
    "start_time": "2022-05-26T13:27:43.067Z"
   },
   {
    "duration": 428,
    "start_time": "2022-05-26T13:27:51.697Z"
   },
   {
    "duration": 8,
    "start_time": "2022-05-26T13:28:10.299Z"
   },
   {
    "duration": 9,
    "start_time": "2022-05-26T13:28:10.727Z"
   },
   {
    "duration": 447,
    "start_time": "2022-05-26T13:29:28.675Z"
   },
   {
    "duration": 621,
    "start_time": "2022-05-26T13:29:40.289Z"
   },
   {
    "duration": 278,
    "start_time": "2022-05-26T13:29:51.319Z"
   },
   {
    "duration": 283,
    "start_time": "2022-05-26T13:30:42.970Z"
   },
   {
    "duration": 9,
    "start_time": "2022-05-26T13:31:31.942Z"
   },
   {
    "duration": 9,
    "start_time": "2022-05-26T13:31:32.853Z"
   },
   {
    "duration": 309,
    "start_time": "2022-05-26T13:31:59.435Z"
   },
   {
    "duration": 452,
    "start_time": "2022-05-26T13:32:09.266Z"
   },
   {
    "duration": 304,
    "start_time": "2022-05-26T13:32:17.521Z"
   },
   {
    "duration": 129,
    "start_time": "2022-05-26T13:35:01.716Z"
   },
   {
    "duration": 40,
    "start_time": "2022-05-26T13:35:13.315Z"
   },
   {
    "duration": 37,
    "start_time": "2022-05-26T13:35:28.599Z"
   },
   {
    "duration": 302,
    "start_time": "2022-05-26T13:35:46.798Z"
   },
   {
    "duration": 309,
    "start_time": "2022-05-26T13:36:05.237Z"
   },
   {
    "duration": 496,
    "start_time": "2022-05-26T13:36:20.838Z"
   },
   {
    "duration": 245,
    "start_time": "2022-05-26T13:37:13.947Z"
   },
   {
    "duration": 248,
    "start_time": "2022-05-26T13:37:29.458Z"
   },
   {
    "duration": 247,
    "start_time": "2022-05-26T13:37:37.041Z"
   },
   {
    "duration": 236,
    "start_time": "2022-05-26T13:37:41.265Z"
   },
   {
    "duration": 428,
    "start_time": "2022-05-26T13:42:37.172Z"
   },
   {
    "duration": 325,
    "start_time": "2022-05-26T13:43:13.529Z"
   },
   {
    "duration": 17,
    "start_time": "2022-05-26T13:55:57.643Z"
   },
   {
    "duration": 142,
    "start_time": "2022-05-26T14:09:55.658Z"
   },
   {
    "duration": 208,
    "start_time": "2022-05-26T14:10:14.810Z"
   },
   {
    "duration": 246,
    "start_time": "2022-05-26T14:10:19.331Z"
   },
   {
    "duration": 16,
    "start_time": "2022-05-26T14:16:02.191Z"
   },
   {
    "duration": 13,
    "start_time": "2022-05-26T14:16:29.621Z"
   },
   {
    "duration": 361,
    "start_time": "2022-05-26T14:17:19.786Z"
   },
   {
    "duration": 191,
    "start_time": "2022-05-26T14:27:58.258Z"
   },
   {
    "duration": 150,
    "start_time": "2022-05-26T14:28:48.115Z"
   },
   {
    "duration": 221,
    "start_time": "2022-05-26T14:28:56.727Z"
   },
   {
    "duration": 10,
    "start_time": "2022-05-26T14:30:20.106Z"
   },
   {
    "duration": 14,
    "start_time": "2022-05-26T14:30:28.803Z"
   },
   {
    "duration": 19,
    "start_time": "2022-05-26T14:31:07.654Z"
   },
   {
    "duration": 3,
    "start_time": "2022-05-26T14:31:17.597Z"
   },
   {
    "duration": 51,
    "start_time": "2022-05-26T14:31:18.371Z"
   },
   {
    "duration": 189,
    "start_time": "2022-05-26T14:31:18.754Z"
   },
   {
    "duration": 172,
    "start_time": "2022-05-26T14:31:19.140Z"
   },
   {
    "duration": 126,
    "start_time": "2022-05-26T14:31:19.501Z"
   },
   {
    "duration": 28,
    "start_time": "2022-05-26T14:31:19.880Z"
   },
   {
    "duration": 7,
    "start_time": "2022-05-26T14:31:21.825Z"
   },
   {
    "duration": 6,
    "start_time": "2022-05-26T14:31:23.042Z"
   },
   {
    "duration": 13,
    "start_time": "2022-05-26T14:31:23.447Z"
   },
   {
    "duration": 11,
    "start_time": "2022-05-26T14:31:23.897Z"
   },
   {
    "duration": 21,
    "start_time": "2022-05-26T14:31:25.012Z"
   },
   {
    "duration": 100,
    "start_time": "2022-05-26T14:31:25.689Z"
   },
   {
    "duration": 63,
    "start_time": "2022-05-26T14:31:26.119Z"
   },
   {
    "duration": 23,
    "start_time": "2022-05-26T14:31:26.548Z"
   },
   {
    "duration": 18,
    "start_time": "2022-05-26T14:31:38.988Z"
   },
   {
    "duration": 13,
    "start_time": "2022-05-26T14:33:19.631Z"
   },
   {
    "duration": 11,
    "start_time": "2022-05-26T14:33:50.932Z"
   },
   {
    "duration": 8,
    "start_time": "2022-05-26T14:34:08.975Z"
   },
   {
    "duration": 8,
    "start_time": "2022-05-26T14:34:19.418Z"
   },
   {
    "duration": 14,
    "start_time": "2022-05-26T14:34:57.306Z"
   },
   {
    "duration": 28,
    "start_time": "2022-05-26T14:35:26.708Z"
   },
   {
    "duration": 673,
    "start_time": "2022-05-26T14:36:54.418Z"
   },
   {
    "duration": 27,
    "start_time": "2022-05-26T14:37:07.619Z"
   },
   {
    "duration": 26,
    "start_time": "2022-05-26T14:37:22.252Z"
   },
   {
    "duration": 25,
    "start_time": "2022-05-26T14:37:26.768Z"
   },
   {
    "duration": 25,
    "start_time": "2022-05-26T14:38:02.932Z"
   },
   {
    "duration": 38,
    "start_time": "2022-05-26T14:38:13.047Z"
   },
   {
    "duration": 15,
    "start_time": "2022-05-26T14:38:15.826Z"
   },
   {
    "duration": 11,
    "start_time": "2022-05-26T14:38:26.873Z"
   },
   {
    "duration": 16,
    "start_time": "2022-05-26T14:38:56.579Z"
   },
   {
    "duration": 16,
    "start_time": "2022-05-26T14:40:00.398Z"
   },
   {
    "duration": 4,
    "start_time": "2022-05-26T14:42:14.077Z"
   },
   {
    "duration": 3,
    "start_time": "2022-05-26T14:42:17.798Z"
   },
   {
    "duration": 5,
    "start_time": "2022-05-26T14:42:27.873Z"
   },
   {
    "duration": 10,
    "start_time": "2022-05-26T14:43:13.878Z"
   },
   {
    "duration": 18,
    "start_time": "2022-05-26T14:43:52.533Z"
   },
   {
    "duration": 14,
    "start_time": "2022-05-26T14:46:42.280Z"
   },
   {
    "duration": 25,
    "start_time": "2022-05-26T14:46:51.620Z"
   },
   {
    "duration": 16,
    "start_time": "2022-05-26T14:48:01.124Z"
   },
   {
    "duration": 889,
    "start_time": "2022-05-26T14:48:51.316Z"
   },
   {
    "duration": 43,
    "start_time": "2022-05-26T14:49:11.494Z"
   },
   {
    "duration": 55,
    "start_time": "2022-05-26T14:49:17.426Z"
   },
   {
    "duration": 277,
    "start_time": "2022-05-26T14:49:53.559Z"
   },
   {
    "duration": 55,
    "start_time": "2022-05-26T14:50:12.237Z"
   },
   {
    "duration": 8,
    "start_time": "2022-05-26T14:50:29.761Z"
   },
   {
    "duration": 7,
    "start_time": "2022-05-26T14:50:39.679Z"
   },
   {
    "duration": 1085,
    "start_time": "2022-05-26T14:50:45.261Z"
   },
   {
    "duration": 67,
    "start_time": "2022-05-26T14:50:46.349Z"
   },
   {
    "duration": 207,
    "start_time": "2022-05-26T14:50:46.489Z"
   },
   {
    "duration": 149,
    "start_time": "2022-05-26T14:50:46.866Z"
   },
   {
    "duration": 113,
    "start_time": "2022-05-26T14:50:47.248Z"
   },
   {
    "duration": 39,
    "start_time": "2022-05-26T14:50:47.642Z"
   },
   {
    "duration": 9,
    "start_time": "2022-05-26T14:50:49.637Z"
   },
   {
    "duration": 7,
    "start_time": "2022-05-26T14:50:51.245Z"
   },
   {
    "duration": 17,
    "start_time": "2022-05-26T14:50:51.660Z"
   },
   {
    "duration": 11,
    "start_time": "2022-05-26T14:50:52.070Z"
   },
   {
    "duration": 21,
    "start_time": "2022-05-26T14:50:52.896Z"
   },
   {
    "duration": 121,
    "start_time": "2022-05-26T14:50:53.345Z"
   },
   {
    "duration": 91,
    "start_time": "2022-05-26T14:50:53.790Z"
   },
   {
    "duration": 5,
    "start_time": "2022-05-26T14:50:58.116Z"
   },
   {
    "duration": 32,
    "start_time": "2022-05-26T14:50:58.527Z"
   },
   {
    "duration": 24,
    "start_time": "2022-05-26T14:50:58.978Z"
   },
   {
    "duration": 25,
    "start_time": "2022-05-26T14:51:10.245Z"
   },
   {
    "duration": 11,
    "start_time": "2022-05-26T14:52:55.906Z"
   },
   {
    "duration": 66,
    "start_time": "2022-05-26T14:55:01.566Z"
   },
   {
    "duration": 17,
    "start_time": "2022-05-26T14:55:19.932Z"
   },
   {
    "duration": 3,
    "start_time": "2022-05-26T14:55:32.732Z"
   },
   {
    "duration": 58,
    "start_time": "2022-05-26T14:55:33.585Z"
   },
   {
    "duration": 197,
    "start_time": "2022-05-26T14:55:34.006Z"
   },
   {
    "duration": 182,
    "start_time": "2022-05-26T14:55:34.392Z"
   },
   {
    "duration": 144,
    "start_time": "2022-05-26T14:55:34.827Z"
   },
   {
    "duration": 31,
    "start_time": "2022-05-26T14:55:35.231Z"
   },
   {
    "duration": 6,
    "start_time": "2022-05-26T14:55:37.331Z"
   },
   {
    "duration": 7,
    "start_time": "2022-05-26T14:55:38.708Z"
   },
   {
    "duration": 13,
    "start_time": "2022-05-26T14:55:39.122Z"
   },
   {
    "duration": 11,
    "start_time": "2022-05-26T14:55:39.542Z"
   },
   {
    "duration": 20,
    "start_time": "2022-05-26T14:55:40.425Z"
   },
   {
    "duration": 113,
    "start_time": "2022-05-26T14:55:40.863Z"
   },
   {
    "duration": 55,
    "start_time": "2022-05-26T14:55:41.316Z"
   },
   {
    "duration": 33,
    "start_time": "2022-05-26T14:55:41.748Z"
   },
   {
    "duration": 21,
    "start_time": "2022-05-26T14:55:47.282Z"
   },
   {
    "duration": 13,
    "start_time": "2022-05-26T14:58:14.347Z"
   },
   {
    "duration": 12,
    "start_time": "2022-05-26T14:59:10.551Z"
   },
   {
    "duration": 15,
    "start_time": "2022-05-26T14:59:24.273Z"
   },
   {
    "duration": 8,
    "start_time": "2022-05-26T14:59:47.532Z"
   },
   {
    "duration": 263,
    "start_time": "2022-05-26T15:03:01.831Z"
   },
   {
    "duration": 415,
    "start_time": "2022-05-26T15:03:10.195Z"
   },
   {
    "duration": 262,
    "start_time": "2022-05-26T15:05:42.188Z"
   },
   {
    "duration": 449,
    "start_time": "2022-05-26T15:05:54.595Z"
   },
   {
    "duration": 311,
    "start_time": "2022-05-26T15:06:04.179Z"
   },
   {
    "duration": 243,
    "start_time": "2022-05-26T16:05:41.048Z"
   },
   {
    "duration": 27,
    "start_time": "2022-05-26T16:07:53.220Z"
   },
   {
    "duration": 515,
    "start_time": "2022-05-26T16:08:07.691Z"
   },
   {
    "duration": 13,
    "start_time": "2022-05-26T16:08:15.848Z"
   },
   {
    "duration": 259,
    "start_time": "2022-05-26T16:08:50.337Z"
   },
   {
    "duration": 5,
    "start_time": "2022-05-26T16:09:45.403Z"
   },
   {
    "duration": 258,
    "start_time": "2022-05-26T16:10:47.877Z"
   },
   {
    "duration": 297,
    "start_time": "2022-05-26T16:13:02.630Z"
   },
   {
    "duration": 322,
    "start_time": "2022-05-26T16:13:24.388Z"
   },
   {
    "duration": 91,
    "start_time": "2022-05-26T16:18:15.191Z"
   },
   {
    "duration": 100,
    "start_time": "2022-05-26T16:18:56.146Z"
   },
   {
    "duration": 407,
    "start_time": "2022-05-26T16:19:58.497Z"
   },
   {
    "duration": 304,
    "start_time": "2022-05-26T16:20:12.874Z"
   },
   {
    "duration": 79,
    "start_time": "2022-05-26T16:26:16.301Z"
   },
   {
    "duration": 7,
    "start_time": "2022-05-26T16:26:24.639Z"
   },
   {
    "duration": 7,
    "start_time": "2022-05-26T16:26:34.194Z"
   },
   {
    "duration": 1092,
    "start_time": "2022-05-26T16:26:40.878Z"
   },
   {
    "duration": 56,
    "start_time": "2022-05-26T16:26:41.971Z"
   },
   {
    "duration": 192,
    "start_time": "2022-05-26T16:26:42.076Z"
   },
   {
    "duration": 153,
    "start_time": "2022-05-26T16:26:42.465Z"
   },
   {
    "duration": 122,
    "start_time": "2022-05-26T16:26:42.837Z"
   },
   {
    "duration": 39,
    "start_time": "2022-05-26T16:26:43.240Z"
   },
   {
    "duration": 7,
    "start_time": "2022-05-26T16:26:45.170Z"
   },
   {
    "duration": 11,
    "start_time": "2022-05-26T16:26:46.320Z"
   },
   {
    "duration": 29,
    "start_time": "2022-05-26T16:26:46.716Z"
   },
   {
    "duration": 14,
    "start_time": "2022-05-26T16:26:47.100Z"
   },
   {
    "duration": 21,
    "start_time": "2022-05-26T16:26:47.854Z"
   },
   {
    "duration": 147,
    "start_time": "2022-05-26T16:26:48.247Z"
   },
   {
    "duration": 59,
    "start_time": "2022-05-26T16:26:48.651Z"
   },
   {
    "duration": 4,
    "start_time": "2022-05-26T16:26:49.045Z"
   },
   {
    "duration": 26,
    "start_time": "2022-05-26T16:26:49.441Z"
   },
   {
    "duration": 68,
    "start_time": "2022-05-26T16:30:45.795Z"
   },
   {
    "duration": 8,
    "start_time": "2022-05-26T16:31:06.481Z"
   },
   {
    "duration": 66,
    "start_time": "2022-05-26T16:31:07.177Z"
   },
   {
    "duration": 189,
    "start_time": "2022-05-26T16:31:07.503Z"
   },
   {
    "duration": 172,
    "start_time": "2022-05-26T16:31:07.829Z"
   },
   {
    "duration": 120,
    "start_time": "2022-05-26T16:31:08.155Z"
   },
   {
    "duration": 46,
    "start_time": "2022-05-26T16:31:08.498Z"
   },
   {
    "duration": 6,
    "start_time": "2022-05-26T16:31:10.543Z"
   },
   {
    "duration": 8,
    "start_time": "2022-05-26T16:31:11.564Z"
   },
   {
    "duration": 13,
    "start_time": "2022-05-26T16:31:11.844Z"
   },
   {
    "duration": 13,
    "start_time": "2022-05-26T16:31:12.172Z"
   },
   {
    "duration": 22,
    "start_time": "2022-05-26T16:31:12.858Z"
   },
   {
    "duration": 108,
    "start_time": "2022-05-26T16:31:13.171Z"
   },
   {
    "duration": 70,
    "start_time": "2022-05-26T16:31:13.525Z"
   },
   {
    "duration": 25,
    "start_time": "2022-05-26T16:31:14.517Z"
   },
   {
    "duration": 27,
    "start_time": "2022-05-26T16:31:15.219Z"
   },
   {
    "duration": 66,
    "start_time": "2022-05-26T16:31:15.541Z"
   },
   {
    "duration": 45,
    "start_time": "2022-05-26T16:31:15.902Z"
   },
   {
    "duration": 17,
    "start_time": "2022-05-26T16:31:16.978Z"
   },
   {
    "duration": 14,
    "start_time": "2022-05-26T16:31:17.671Z"
   },
   {
    "duration": 57,
    "start_time": "2022-05-26T16:31:18.022Z"
   },
   {
    "duration": 36,
    "start_time": "2022-05-26T16:31:18.387Z"
   },
   {
    "duration": 15,
    "start_time": "2022-05-26T16:31:18.743Z"
   },
   {
    "duration": 10,
    "start_time": "2022-05-26T16:31:19.443Z"
   },
   {
    "duration": 33,
    "start_time": "2022-05-26T16:31:21.421Z"
   },
   {
    "duration": 595,
    "start_time": "2022-05-26T16:31:22.861Z"
   },
   {
    "duration": 27,
    "start_time": "2022-05-26T16:36:40.669Z"
   },
   {
    "duration": 21,
    "start_time": "2022-05-26T16:38:12.425Z"
   },
   {
    "duration": 36,
    "start_time": "2022-05-26T16:39:20.916Z"
   },
   {
    "duration": 37,
    "start_time": "2022-05-26T16:39:43.996Z"
   },
   {
    "duration": 42,
    "start_time": "2022-05-26T16:40:57.576Z"
   },
   {
    "duration": 37,
    "start_time": "2022-05-26T16:41:22.995Z"
   },
   {
    "duration": 37,
    "start_time": "2022-05-26T16:41:34.198Z"
   },
   {
    "duration": 973,
    "start_time": "2022-05-26T16:42:41.380Z"
   },
   {
    "duration": 708,
    "start_time": "2022-05-26T16:42:56.156Z"
   },
   {
    "duration": 263,
    "start_time": "2022-05-26T16:43:16.713Z"
   },
   {
    "duration": 18,
    "start_time": "2022-05-26T16:51:35.170Z"
   },
   {
    "duration": 22,
    "start_time": "2022-05-26T16:51:37.690Z"
   },
   {
    "duration": 16,
    "start_time": "2022-05-26T16:51:59.124Z"
   },
   {
    "duration": 14,
    "start_time": "2022-05-26T16:52:08.681Z"
   },
   {
    "duration": 20,
    "start_time": "2022-05-26T16:52:54.750Z"
   },
   {
    "duration": 4,
    "start_time": "2022-05-26T16:53:30.242Z"
   },
   {
    "duration": 12,
    "start_time": "2022-05-26T16:53:49.368Z"
   },
   {
    "duration": 17,
    "start_time": "2022-05-26T16:54:26.844Z"
   },
   {
    "duration": 565,
    "start_time": "2022-05-26T16:56:57.749Z"
   },
   {
    "duration": 225,
    "start_time": "2022-05-26T16:57:12.529Z"
   },
   {
    "duration": 349,
    "start_time": "2022-05-26T16:57:31.382Z"
   },
   {
    "duration": 11,
    "start_time": "2022-05-26T16:58:45.014Z"
   },
   {
    "duration": 14,
    "start_time": "2022-05-26T16:58:50.981Z"
   },
   {
    "duration": 12,
    "start_time": "2022-05-26T16:58:56.700Z"
   },
   {
    "duration": 290,
    "start_time": "2022-05-26T16:59:26.399Z"
   },
   {
    "duration": 27,
    "start_time": "2022-05-26T17:03:37.986Z"
   },
   {
    "duration": 3,
    "start_time": "2022-05-26T17:03:59.981Z"
   },
   {
    "duration": 51,
    "start_time": "2022-05-26T17:04:00.742Z"
   },
   {
    "duration": 233,
    "start_time": "2022-05-26T17:04:01.114Z"
   },
   {
    "duration": 164,
    "start_time": "2022-05-26T17:04:01.453Z"
   },
   {
    "duration": 140,
    "start_time": "2022-05-26T17:04:01.804Z"
   },
   {
    "duration": 38,
    "start_time": "2022-05-26T17:04:02.135Z"
   },
   {
    "duration": 6,
    "start_time": "2022-05-26T17:04:03.906Z"
   },
   {
    "duration": 6,
    "start_time": "2022-05-26T17:04:05.000Z"
   },
   {
    "duration": 14,
    "start_time": "2022-05-26T17:04:05.385Z"
   },
   {
    "duration": 14,
    "start_time": "2022-05-26T17:04:05.778Z"
   },
   {
    "duration": 47,
    "start_time": "2022-05-26T17:04:06.521Z"
   },
   {
    "duration": 96,
    "start_time": "2022-05-26T17:04:06.880Z"
   },
   {
    "duration": 70,
    "start_time": "2022-05-26T17:04:07.249Z"
   },
   {
    "duration": 19,
    "start_time": "2022-05-26T17:04:08.257Z"
   },
   {
    "duration": 25,
    "start_time": "2022-05-26T17:04:08.962Z"
   },
   {
    "duration": 73,
    "start_time": "2022-05-26T17:04:09.323Z"
   },
   {
    "duration": 57,
    "start_time": "2022-05-26T17:04:09.683Z"
   },
   {
    "duration": 19,
    "start_time": "2022-05-26T17:04:10.774Z"
   },
   {
    "duration": 17,
    "start_time": "2022-05-26T17:04:11.505Z"
   },
   {
    "duration": 48,
    "start_time": "2022-05-26T17:04:11.869Z"
   },
   {
    "duration": 38,
    "start_time": "2022-05-26T17:04:12.243Z"
   },
   {
    "duration": 17,
    "start_time": "2022-05-26T17:04:12.598Z"
   },
   {
    "duration": 11,
    "start_time": "2022-05-26T17:04:13.369Z"
   },
   {
    "duration": 35,
    "start_time": "2022-05-26T17:04:15.295Z"
   },
   {
    "duration": 37,
    "start_time": "2022-05-26T17:04:15.707Z"
   },
   {
    "duration": 29,
    "start_time": "2022-05-26T17:04:16.742Z"
   },
   {
    "duration": 30,
    "start_time": "2022-05-26T17:04:17.555Z"
   },
   {
    "duration": 28,
    "start_time": "2022-05-26T17:04:18.949Z"
   },
   {
    "duration": 8,
    "start_time": "2022-05-26T17:04:19.763Z"
   },
   {
    "duration": 10,
    "start_time": "2022-05-26T17:04:20.167Z"
   },
   {
    "duration": 8,
    "start_time": "2022-05-26T17:04:20.590Z"
   },
   {
    "duration": 20,
    "start_time": "2022-05-26T17:04:21.422Z"
   },
   {
    "duration": 11,
    "start_time": "2022-05-26T17:04:22.263Z"
   },
   {
    "duration": 13,
    "start_time": "2022-05-26T17:04:59.512Z"
   },
   {
    "duration": 15,
    "start_time": "2022-05-26T17:05:08.504Z"
   },
   {
    "duration": 364,
    "start_time": "2022-05-26T17:08:05.512Z"
   },
   {
    "duration": 343,
    "start_time": "2022-05-26T17:08:15.115Z"
   },
   {
    "duration": 368,
    "start_time": "2022-05-26T17:08:32.900Z"
   },
   {
    "duration": 246,
    "start_time": "2022-05-26T17:08:53.085Z"
   },
   {
    "duration": 65,
    "start_time": "2022-05-26T17:12:12.998Z"
   },
   {
    "duration": 47,
    "start_time": "2022-05-26T17:12:21.267Z"
   },
   {
    "duration": 13,
    "start_time": "2022-05-26T17:12:27.158Z"
   },
   {
    "duration": 17,
    "start_time": "2022-05-26T17:12:38.411Z"
   },
   {
    "duration": 17,
    "start_time": "2022-05-26T17:13:02.479Z"
   },
   {
    "duration": 13,
    "start_time": "2022-05-26T17:13:47.981Z"
   },
   {
    "duration": 1183,
    "start_time": "2022-05-26T17:14:15.878Z"
   },
   {
    "duration": 67,
    "start_time": "2022-05-26T17:14:17.063Z"
   },
   {
    "duration": 227,
    "start_time": "2022-05-26T17:14:17.132Z"
   },
   {
    "duration": 154,
    "start_time": "2022-05-26T17:14:17.361Z"
   },
   {
    "duration": 136,
    "start_time": "2022-05-26T17:14:17.517Z"
   },
   {
    "duration": 28,
    "start_time": "2022-05-26T17:14:17.683Z"
   },
   {
    "duration": 7,
    "start_time": "2022-05-26T17:14:19.344Z"
   },
   {
    "duration": 14,
    "start_time": "2022-05-26T17:14:20.325Z"
   },
   {
    "duration": 13,
    "start_time": "2022-05-26T17:14:20.649Z"
   },
   {
    "duration": 14,
    "start_time": "2022-05-26T17:14:20.977Z"
   },
   {
    "duration": 28,
    "start_time": "2022-05-26T17:14:21.638Z"
   },
   {
    "duration": 136,
    "start_time": "2022-05-26T17:14:22.019Z"
   },
   {
    "duration": 61,
    "start_time": "2022-05-26T17:14:22.639Z"
   },
   {
    "duration": 361,
    "start_time": "2022-05-26T17:14:23.116Z"
   },
   {
    "duration": 25,
    "start_time": "2022-05-26T17:14:24.212Z"
   },
   {
    "duration": 14,
    "start_time": "2022-05-26T17:14:25.068Z"
   },
   {
    "duration": 28,
    "start_time": "2022-05-26T17:14:51.644Z"
   },
   {
    "duration": 20,
    "start_time": "2022-05-26T17:15:37.773Z"
   },
   {
    "duration": 17,
    "start_time": "2022-05-26T17:16:06.899Z"
   },
   {
    "duration": 22,
    "start_time": "2022-05-26T17:16:13.848Z"
   },
   {
    "duration": 21,
    "start_time": "2022-05-26T17:16:40.603Z"
   },
   {
    "duration": 24,
    "start_time": "2022-05-26T17:16:52.529Z"
   },
   {
    "duration": 31,
    "start_time": "2022-05-26T17:17:05.674Z"
   },
   {
    "duration": 289,
    "start_time": "2022-05-26T17:18:09.424Z"
   },
   {
    "duration": 361,
    "start_time": "2022-05-26T17:18:40.401Z"
   },
   {
    "duration": 309,
    "start_time": "2022-05-26T17:18:59.691Z"
   },
   {
    "duration": 18,
    "start_time": "2022-05-26T17:23:45.564Z"
   },
   {
    "duration": 221,
    "start_time": "2022-05-26T17:27:25.782Z"
   },
   {
    "duration": 50,
    "start_time": "2022-05-26T17:27:37.304Z"
   },
   {
    "duration": 28,
    "start_time": "2022-05-26T17:28:09.409Z"
   },
   {
    "duration": 543,
    "start_time": "2022-05-26T17:28:43.520Z"
   },
   {
    "duration": 33,
    "start_time": "2022-05-26T17:29:21.272Z"
   },
   {
    "duration": 550,
    "start_time": "2022-05-26T17:29:29.021Z"
   },
   {
    "duration": 9,
    "start_time": "2022-05-26T17:29:37.187Z"
   },
   {
    "duration": 65,
    "start_time": "2022-05-26T17:29:37.934Z"
   },
   {
    "duration": 195,
    "start_time": "2022-05-26T17:29:38.303Z"
   },
   {
    "duration": 167,
    "start_time": "2022-05-26T17:29:38.653Z"
   },
   {
    "duration": 132,
    "start_time": "2022-05-26T17:29:38.959Z"
   },
   {
    "duration": 52,
    "start_time": "2022-05-26T17:29:39.327Z"
   },
   {
    "duration": 8,
    "start_time": "2022-05-26T17:29:41.057Z"
   },
   {
    "duration": 6,
    "start_time": "2022-05-26T17:29:42.095Z"
   },
   {
    "duration": 14,
    "start_time": "2022-05-26T17:29:42.458Z"
   },
   {
    "duration": 15,
    "start_time": "2022-05-26T17:29:42.791Z"
   },
   {
    "duration": 26,
    "start_time": "2022-05-26T17:29:43.556Z"
   },
   {
    "duration": 121,
    "start_time": "2022-05-26T17:29:43.912Z"
   },
   {
    "duration": 61,
    "start_time": "2022-05-26T17:29:44.280Z"
   },
   {
    "duration": 593,
    "start_time": "2022-05-26T17:29:44.795Z"
   },
   {
    "duration": 1098,
    "start_time": "2022-05-26T17:30:02.360Z"
   },
   {
    "duration": 467,
    "start_time": "2022-05-26T17:30:28.727Z"
   },
   {
    "duration": 290,
    "start_time": "2022-05-26T17:31:11.180Z"
   },
   {
    "duration": 559,
    "start_time": "2022-05-26T17:31:38.524Z"
   },
   {
    "duration": 548,
    "start_time": "2022-05-26T17:32:04.253Z"
   },
   {
    "duration": 677,
    "start_time": "2022-05-26T17:37:17.502Z"
   },
   {
    "duration": 24,
    "start_time": "2022-05-26T17:37:26.494Z"
   },
   {
    "duration": 24,
    "start_time": "2022-05-26T17:37:36.093Z"
   },
   {
    "duration": 15,
    "start_time": "2022-05-26T17:37:53.673Z"
   },
   {
    "duration": 51,
    "start_time": "2022-05-26T17:40:09.395Z"
   },
   {
    "duration": 3,
    "start_time": "2022-05-26T17:40:34.542Z"
   },
   {
    "duration": 51,
    "start_time": "2022-05-26T17:40:35.551Z"
   },
   {
    "duration": 168,
    "start_time": "2022-05-26T17:40:35.945Z"
   },
   {
    "duration": 193,
    "start_time": "2022-05-26T17:40:36.275Z"
   },
   {
    "duration": 125,
    "start_time": "2022-05-26T17:40:36.646Z"
   },
   {
    "duration": 29,
    "start_time": "2022-05-26T17:40:36.973Z"
   },
   {
    "duration": 7,
    "start_time": "2022-05-26T17:40:38.592Z"
   },
   {
    "duration": 7,
    "start_time": "2022-05-26T17:40:39.603Z"
   },
   {
    "duration": 25,
    "start_time": "2022-05-26T17:40:39.919Z"
   },
   {
    "duration": 11,
    "start_time": "2022-05-26T17:40:40.843Z"
   },
   {
    "duration": 19,
    "start_time": "2022-05-26T17:40:41.543Z"
   },
   {
    "duration": 114,
    "start_time": "2022-05-26T17:40:42.229Z"
   },
   {
    "duration": 63,
    "start_time": "2022-05-26T17:40:42.647Z"
   },
   {
    "duration": 42,
    "start_time": "2022-05-26T17:40:43.003Z"
   },
   {
    "duration": 3,
    "start_time": "2022-05-26T17:42:07.843Z"
   },
   {
    "duration": 40,
    "start_time": "2022-05-26T17:42:16.913Z"
   },
   {
    "duration": 326,
    "start_time": "2022-05-26T17:42:33.156Z"
   },
   {
    "duration": 326,
    "start_time": "2022-05-26T17:43:02.042Z"
   },
   {
    "duration": 282,
    "start_time": "2022-05-26T17:43:11.631Z"
   },
   {
    "duration": 308,
    "start_time": "2022-05-26T17:44:46.210Z"
   },
   {
    "duration": 408,
    "start_time": "2022-05-26T17:45:35.096Z"
   },
   {
    "duration": 241,
    "start_time": "2022-05-26T17:45:55.824Z"
   },
   {
    "duration": 20,
    "start_time": "2022-05-26T17:47:29.793Z"
   },
   {
    "duration": 295,
    "start_time": "2022-05-26T17:47:43.154Z"
   },
   {
    "duration": 22,
    "start_time": "2022-05-26T17:50:48.222Z"
   },
   {
    "duration": 29,
    "start_time": "2022-05-26T17:51:05.714Z"
   },
   {
    "duration": 515,
    "start_time": "2022-05-26T17:54:54.842Z"
   },
   {
    "duration": 262,
    "start_time": "2022-05-26T17:55:09.201Z"
   },
   {
    "duration": 309,
    "start_time": "2022-05-26T17:55:16.403Z"
   },
   {
    "duration": 481,
    "start_time": "2022-05-26T17:55:30.738Z"
   },
   {
    "duration": 262,
    "start_time": "2022-05-26T17:56:05.447Z"
   },
   {
    "duration": 3,
    "start_time": "2022-05-26T17:57:51.712Z"
   },
   {
    "duration": 242,
    "start_time": "2022-05-26T17:58:22.820Z"
   },
   {
    "duration": 255,
    "start_time": "2022-05-26T18:00:10.798Z"
   },
   {
    "duration": 299,
    "start_time": "2022-05-26T18:00:56.970Z"
   },
   {
    "duration": 288,
    "start_time": "2022-05-26T18:01:06.196Z"
   },
   {
    "duration": 188,
    "start_time": "2022-05-26T18:03:01.220Z"
   },
   {
    "duration": 230,
    "start_time": "2022-05-26T18:03:24.423Z"
   },
   {
    "duration": 272,
    "start_time": "2022-05-26T18:03:34.795Z"
   },
   {
    "duration": 239,
    "start_time": "2022-05-26T18:03:45.010Z"
   },
   {
    "duration": 4,
    "start_time": "2022-05-26T18:03:56.719Z"
   },
   {
    "duration": 76,
    "start_time": "2022-05-26T18:03:57.427Z"
   },
   {
    "duration": 202,
    "start_time": "2022-05-26T18:03:57.777Z"
   },
   {
    "duration": 183,
    "start_time": "2022-05-26T18:03:58.098Z"
   },
   {
    "duration": 134,
    "start_time": "2022-05-26T18:03:58.420Z"
   },
   {
    "duration": 43,
    "start_time": "2022-05-26T18:03:58.769Z"
   },
   {
    "duration": 7,
    "start_time": "2022-05-26T18:04:00.497Z"
   },
   {
    "duration": 8,
    "start_time": "2022-05-26T18:04:01.516Z"
   },
   {
    "duration": 17,
    "start_time": "2022-05-26T18:04:01.896Z"
   },
   {
    "duration": 12,
    "start_time": "2022-05-26T18:04:02.250Z"
   },
   {
    "duration": 22,
    "start_time": "2022-05-26T18:04:03.000Z"
   },
   {
    "duration": 103,
    "start_time": "2022-05-26T18:04:03.364Z"
   },
   {
    "duration": 81,
    "start_time": "2022-05-26T18:04:03.745Z"
   },
   {
    "duration": 240,
    "start_time": "2022-05-26T18:04:04.361Z"
   },
   {
    "duration": 26,
    "start_time": "2022-05-26T18:04:08.326Z"
   },
   {
    "duration": 21,
    "start_time": "2022-05-26T18:04:09.010Z"
   },
   {
    "duration": 65,
    "start_time": "2022-05-26T18:04:09.360Z"
   },
   {
    "duration": 54,
    "start_time": "2022-05-26T18:04:09.715Z"
   },
   {
    "duration": 20,
    "start_time": "2022-05-26T18:04:10.859Z"
   },
   {
    "duration": 17,
    "start_time": "2022-05-26T18:04:11.596Z"
   },
   {
    "duration": 72,
    "start_time": "2022-05-26T18:04:11.990Z"
   },
   {
    "duration": 52,
    "start_time": "2022-05-26T18:04:12.348Z"
   },
   {
    "duration": 16,
    "start_time": "2022-05-26T18:04:12.693Z"
   },
   {
    "duration": 11,
    "start_time": "2022-05-26T18:04:13.500Z"
   },
   {
    "duration": 29,
    "start_time": "2022-05-26T18:04:15.400Z"
   },
   {
    "duration": 35,
    "start_time": "2022-05-26T18:04:16.148Z"
   },
   {
    "duration": 36,
    "start_time": "2022-05-26T18:04:16.903Z"
   },
   {
    "duration": 31,
    "start_time": "2022-05-26T18:04:18.001Z"
   },
   {
    "duration": 9,
    "start_time": "2022-05-26T18:04:18.806Z"
   },
   {
    "duration": 8,
    "start_time": "2022-05-26T18:04:19.199Z"
   },
   {
    "duration": 9,
    "start_time": "2022-05-26T18:04:19.747Z"
   },
   {
    "duration": 17,
    "start_time": "2022-05-26T18:04:20.495Z"
   },
   {
    "duration": 21,
    "start_time": "2022-05-26T18:04:21.220Z"
   },
   {
    "duration": 84,
    "start_time": "2022-05-26T18:04:21.962Z"
   },
   {
    "duration": 16,
    "start_time": "2022-05-26T18:04:23.495Z"
   },
   {
    "duration": 20,
    "start_time": "2022-05-26T18:04:23.900Z"
   },
   {
    "duration": 651,
    "start_time": "2022-05-26T18:04:24.298Z"
   },
   {
    "duration": 10,
    "start_time": "2022-05-26T18:04:24.951Z"
   },
   {
    "duration": 11,
    "start_time": "2022-05-26T18:04:25.097Z"
   },
   {
    "duration": 438,
    "start_time": "2022-05-26T18:04:26.166Z"
   },
   {
    "duration": 23,
    "start_time": "2022-05-26T18:04:26.606Z"
   },
   {
    "duration": 10,
    "start_time": "2022-05-26T18:04:26.968Z"
   },
   {
    "duration": 320,
    "start_time": "2022-05-26T18:04:27.789Z"
   },
   {
    "duration": 10,
    "start_time": "2022-05-26T18:04:28.197Z"
   },
   {
    "duration": 9,
    "start_time": "2022-05-26T18:04:28.595Z"
   },
   {
    "duration": 383,
    "start_time": "2022-05-26T18:04:29.362Z"
   },
   {
    "duration": 7,
    "start_time": "2022-05-26T18:04:29.767Z"
   },
   {
    "duration": 274,
    "start_time": "2022-05-26T18:04:30.564Z"
   },
   {
    "duration": 11,
    "start_time": "2022-05-26T18:04:31.696Z"
   },
   {
    "duration": 5,
    "start_time": "2022-05-26T18:04:35.497Z"
   },
   {
    "duration": 11,
    "start_time": "2022-05-26T18:04:37.457Z"
   },
   {
    "duration": 165,
    "start_time": "2022-05-26T18:06:05.499Z"
   },
   {
    "duration": 247,
    "start_time": "2022-05-26T18:06:09.816Z"
   },
   {
    "duration": 279,
    "start_time": "2022-05-26T18:06:34.823Z"
   },
   {
    "duration": 176,
    "start_time": "2022-05-26T18:07:24.235Z"
   },
   {
    "duration": 278,
    "start_time": "2022-05-26T18:08:23.522Z"
   },
   {
    "duration": 257,
    "start_time": "2022-05-26T18:08:36.598Z"
   },
   {
    "duration": 259,
    "start_time": "2022-05-26T18:08:54.944Z"
   },
   {
    "duration": 71,
    "start_time": "2022-05-26T18:10:15.069Z"
   },
   {
    "duration": 357,
    "start_time": "2022-05-26T18:11:45.697Z"
   },
   {
    "duration": 159,
    "start_time": "2022-05-26T18:12:13.155Z"
   },
   {
    "duration": 137,
    "start_time": "2022-05-26T18:12:18.498Z"
   },
   {
    "duration": 199,
    "start_time": "2022-05-26T18:14:17.362Z"
   },
   {
    "duration": 185,
    "start_time": "2022-05-26T18:14:43.086Z"
   },
   {
    "duration": 467,
    "start_time": "2022-05-26T18:14:57.899Z"
   },
   {
    "duration": 219,
    "start_time": "2022-05-26T18:17:33.060Z"
   },
   {
    "duration": 252,
    "start_time": "2022-05-26T18:17:48.051Z"
   },
   {
    "duration": 803,
    "start_time": "2022-05-26T18:27:07.223Z"
   },
   {
    "duration": 34,
    "start_time": "2022-05-26T18:27:18.098Z"
   },
   {
    "duration": 34,
    "start_time": "2022-05-26T18:27:26.327Z"
   },
   {
    "duration": 8,
    "start_time": "2022-05-26T18:31:15.416Z"
   },
   {
    "duration": 7,
    "start_time": "2022-05-26T18:31:34.246Z"
   },
   {
    "duration": 928,
    "start_time": "2022-05-26T18:38:16.774Z"
   },
   {
    "duration": 4,
    "start_time": "2022-05-26T18:38:27.699Z"
   },
   {
    "duration": 66,
    "start_time": "2022-05-26T18:38:28.415Z"
   },
   {
    "duration": 170,
    "start_time": "2022-05-26T18:38:28.763Z"
   },
   {
    "duration": 156,
    "start_time": "2022-05-26T18:38:29.089Z"
   },
   {
    "duration": 1109,
    "start_time": "2022-05-26T18:38:39.701Z"
   },
   {
    "duration": 75,
    "start_time": "2022-05-26T18:38:40.813Z"
   },
   {
    "duration": 198,
    "start_time": "2022-05-26T18:38:40.988Z"
   },
   {
    "duration": 153,
    "start_time": "2022-05-26T18:38:41.416Z"
   },
   {
    "duration": 118,
    "start_time": "2022-05-26T18:38:41.795Z"
   },
   {
    "duration": 36,
    "start_time": "2022-05-26T18:38:42.175Z"
   },
   {
    "duration": 7,
    "start_time": "2022-05-26T18:38:44.046Z"
   },
   {
    "duration": 13,
    "start_time": "2022-05-26T18:38:45.125Z"
   },
   {
    "duration": 14,
    "start_time": "2022-05-26T18:38:45.485Z"
   },
   {
    "duration": 13,
    "start_time": "2022-05-26T18:38:45.858Z"
   },
   {
    "duration": 31,
    "start_time": "2022-05-26T18:38:46.568Z"
   },
   {
    "duration": 115,
    "start_time": "2022-05-26T18:38:46.942Z"
   },
   {
    "duration": 65,
    "start_time": "2022-05-26T18:38:47.299Z"
   },
   {
    "duration": 272,
    "start_time": "2022-05-26T18:38:47.618Z"
   },
   {
    "duration": 19,
    "start_time": "2022-05-26T18:38:49.089Z"
   },
   {
    "duration": 25,
    "start_time": "2022-05-26T18:38:49.840Z"
   },
   {
    "duration": 71,
    "start_time": "2022-05-26T18:38:50.185Z"
   },
   {
    "duration": 42,
    "start_time": "2022-05-26T18:38:50.540Z"
   },
   {
    "duration": 19,
    "start_time": "2022-05-26T18:38:51.562Z"
   },
   {
    "duration": 16,
    "start_time": "2022-05-26T18:38:52.312Z"
   },
   {
    "duration": 49,
    "start_time": "2022-05-26T18:38:52.644Z"
   },
   {
    "duration": 54,
    "start_time": "2022-05-26T18:38:53.023Z"
   },
   {
    "duration": 20,
    "start_time": "2022-05-26T18:38:53.375Z"
   },
   {
    "duration": 10,
    "start_time": "2022-05-26T18:38:54.143Z"
   },
   {
    "duration": 42,
    "start_time": "2022-05-26T18:38:56.372Z"
   },
   {
    "duration": 27,
    "start_time": "2022-05-26T18:38:57.082Z"
   },
   {
    "duration": 32,
    "start_time": "2022-05-26T18:38:57.815Z"
   },
   {
    "duration": 31,
    "start_time": "2022-05-26T18:38:58.923Z"
   },
   {
    "duration": 9,
    "start_time": "2022-05-26T18:38:59.655Z"
   },
   {
    "duration": 7,
    "start_time": "2022-05-26T18:39:00.044Z"
   },
   {
    "duration": 16,
    "start_time": "2022-05-26T18:39:00.424Z"
   },
   {
    "duration": 14,
    "start_time": "2022-05-26T18:39:01.144Z"
   },
   {
    "duration": 16,
    "start_time": "2022-05-26T18:39:01.900Z"
   },
   {
    "duration": 83,
    "start_time": "2022-05-26T18:39:02.686Z"
   },
   {
    "duration": 22,
    "start_time": "2022-05-26T18:39:04.644Z"
   },
   {
    "duration": 18,
    "start_time": "2022-05-26T18:39:05.052Z"
   },
   {
    "duration": 608,
    "start_time": "2022-05-26T18:39:05.465Z"
   },
   {
    "duration": 10,
    "start_time": "2022-05-26T18:39:06.075Z"
   },
   {
    "duration": 11,
    "start_time": "2022-05-26T18:39:06.315Z"
   },
   {
    "duration": 308,
    "start_time": "2022-05-26T18:39:07.143Z"
   },
   {
    "duration": 9,
    "start_time": "2022-05-26T18:39:07.542Z"
   },
   {
    "duration": 10,
    "start_time": "2022-05-26T18:39:07.941Z"
   },
   {
    "duration": 315,
    "start_time": "2022-05-26T18:39:08.764Z"
   },
   {
    "duration": 10,
    "start_time": "2022-05-26T18:39:09.158Z"
   },
   {
    "duration": 10,
    "start_time": "2022-05-26T18:39:09.568Z"
   },
   {
    "duration": 316,
    "start_time": "2022-05-26T18:39:10.389Z"
   },
   {
    "duration": 6,
    "start_time": "2022-05-26T18:39:10.776Z"
   },
   {
    "duration": 284,
    "start_time": "2022-05-26T18:39:11.572Z"
   },
   {
    "duration": 11,
    "start_time": "2022-05-26T18:39:13.475Z"
   },
   {
    "duration": 5,
    "start_time": "2022-05-26T18:39:18.864Z"
   },
   {
    "duration": 10,
    "start_time": "2022-05-26T18:39:21.044Z"
   },
   {
    "duration": 345,
    "start_time": "2022-05-26T18:45:40.523Z"
   },
   {
    "duration": 87,
    "start_time": "2022-05-26T18:47:15.264Z"
   },
   {
    "duration": 139,
    "start_time": "2022-05-26T18:47:26.744Z"
   },
   {
    "duration": 266,
    "start_time": "2022-05-26T18:47:58.541Z"
   },
   {
    "duration": 6,
    "start_time": "2022-05-26T18:55:45.564Z"
   },
   {
    "duration": 265,
    "start_time": "2022-05-26T18:55:46.079Z"
   },
   {
    "duration": 14,
    "start_time": "2022-05-26T18:55:46.455Z"
   },
   {
    "duration": 7,
    "start_time": "2022-05-26T18:55:49.940Z"
   },
   {
    "duration": 19,
    "start_time": "2022-05-26T18:55:52.024Z"
   },
   {
    "duration": 265,
    "start_time": "2022-05-26T18:59:28.360Z"
   },
   {
    "duration": 241,
    "start_time": "2022-05-26T18:59:42.440Z"
   },
   {
    "duration": 410,
    "start_time": "2022-05-26T19:00:04.500Z"
   },
   {
    "duration": 239,
    "start_time": "2022-05-26T19:00:22.352Z"
   },
   {
    "duration": 91,
    "start_time": "2022-05-26T19:03:35.052Z"
   },
   {
    "duration": 104,
    "start_time": "2022-05-26T19:03:51.440Z"
   },
   {
    "duration": 56,
    "start_time": "2022-05-26T19:44:14.971Z"
   },
   {
    "duration": 1229,
    "start_time": "2022-05-26T19:44:21.983Z"
   },
   {
    "duration": 102,
    "start_time": "2022-05-26T19:44:23.214Z"
   },
   {
    "duration": 567,
    "start_time": "2022-05-26T19:44:23.317Z"
   },
   {
    "duration": 444,
    "start_time": "2022-05-26T19:44:23.887Z"
   },
   {
    "duration": 184,
    "start_time": "2022-05-26T19:44:24.333Z"
   },
   {
    "duration": 68,
    "start_time": "2022-05-26T19:44:24.518Z"
   },
   {
    "duration": 7,
    "start_time": "2022-05-26T19:44:24.588Z"
   },
   {
    "duration": 10,
    "start_time": "2022-05-26T19:44:24.596Z"
   },
   {
    "duration": 12,
    "start_time": "2022-05-26T19:44:24.608Z"
   },
   {
    "duration": 11,
    "start_time": "2022-05-26T19:44:24.623Z"
   },
   {
    "duration": 48,
    "start_time": "2022-05-26T19:44:24.636Z"
   },
   {
    "duration": 123,
    "start_time": "2022-05-26T19:44:24.685Z"
   },
   {
    "duration": 71,
    "start_time": "2022-05-26T19:44:24.810Z"
   },
   {
    "duration": 258,
    "start_time": "2022-05-26T19:44:24.883Z"
   },
   {
    "duration": 568,
    "start_time": "2022-05-26T19:44:25.143Z"
   },
   {
    "duration": 19,
    "start_time": "2022-05-26T19:44:25.713Z"
   },
   {
    "duration": 31,
    "start_time": "2022-05-26T19:44:25.733Z"
   },
   {
    "duration": 83,
    "start_time": "2022-05-26T19:44:25.772Z"
   },
   {
    "duration": 61,
    "start_time": "2022-05-26T19:44:25.857Z"
   },
   {
    "duration": 16,
    "start_time": "2022-05-26T19:44:25.920Z"
   },
   {
    "duration": 34,
    "start_time": "2022-05-26T19:44:25.938Z"
   },
   {
    "duration": 61,
    "start_time": "2022-05-26T19:44:25.976Z"
   },
   {
    "duration": 56,
    "start_time": "2022-05-26T19:44:26.039Z"
   },
   {
    "duration": 14,
    "start_time": "2022-05-26T19:44:26.096Z"
   },
   {
    "duration": 9,
    "start_time": "2022-05-26T19:44:26.112Z"
   },
   {
    "duration": 42,
    "start_time": "2022-05-26T19:44:26.122Z"
   },
   {
    "duration": 25,
    "start_time": "2022-05-26T19:44:26.175Z"
   },
   {
    "duration": 29,
    "start_time": "2022-05-26T19:44:26.204Z"
   },
   {
    "duration": 47,
    "start_time": "2022-05-26T19:44:26.234Z"
   },
   {
    "duration": 9,
    "start_time": "2022-05-26T19:44:26.283Z"
   },
   {
    "duration": 9,
    "start_time": "2022-05-26T19:44:26.294Z"
   },
   {
    "duration": 11,
    "start_time": "2022-05-26T19:44:26.305Z"
   },
   {
    "duration": 48,
    "start_time": "2022-05-26T19:44:26.318Z"
   },
   {
    "duration": 11,
    "start_time": "2022-05-26T19:44:26.367Z"
   },
   {
    "duration": 59,
    "start_time": "2022-05-26T19:44:26.382Z"
   },
   {
    "duration": 32,
    "start_time": "2022-05-26T19:44:26.443Z"
   },
   {
    "duration": 25,
    "start_time": "2022-05-26T19:44:26.477Z"
   },
   {
    "duration": 489,
    "start_time": "2022-05-26T19:44:26.503Z"
   },
   {
    "duration": 7,
    "start_time": "2022-05-26T19:44:26.995Z"
   },
   {
    "duration": 8,
    "start_time": "2022-05-26T19:44:27.004Z"
   },
   {
    "duration": 331,
    "start_time": "2022-05-26T19:44:27.014Z"
   },
   {
    "duration": 25,
    "start_time": "2022-05-26T19:44:27.347Z"
   },
   {
    "duration": 10,
    "start_time": "2022-05-26T19:44:27.377Z"
   },
   {
    "duration": 327,
    "start_time": "2022-05-26T19:44:27.389Z"
   },
   {
    "duration": 9,
    "start_time": "2022-05-26T19:44:27.718Z"
   },
   {
    "duration": 9,
    "start_time": "2022-05-26T19:44:27.729Z"
   },
   {
    "duration": 495,
    "start_time": "2022-05-26T19:44:27.759Z"
   },
   {
    "duration": 11,
    "start_time": "2022-05-26T19:44:28.256Z"
   },
   {
    "duration": 265,
    "start_time": "2022-05-26T19:44:28.270Z"
   },
   {
    "duration": 26,
    "start_time": "2022-05-26T19:44:28.536Z"
   },
   {
    "duration": 6,
    "start_time": "2022-05-26T19:44:28.571Z"
   },
   {
    "duration": 12,
    "start_time": "2022-05-26T19:44:28.579Z"
   },
   {
    "duration": 163,
    "start_time": "2022-05-26T19:45:44.537Z"
   },
   {
    "duration": 148,
    "start_time": "2022-05-26T19:45:50.433Z"
   },
   {
    "duration": 160,
    "start_time": "2022-05-26T19:46:57.633Z"
   },
   {
    "duration": 45,
    "start_time": "2022-10-08T13:26:44.715Z"
   },
   {
    "duration": 1085,
    "start_time": "2022-10-08T13:26:52.162Z"
   },
   {
    "duration": 105,
    "start_time": "2022-10-08T13:26:53.249Z"
   },
   {
    "duration": 505,
    "start_time": "2022-10-08T13:26:53.355Z"
   },
   {
    "duration": 409,
    "start_time": "2022-10-08T13:26:53.862Z"
   },
   {
    "duration": 166,
    "start_time": "2022-10-08T13:26:54.273Z"
   },
   {
    "duration": 67,
    "start_time": "2022-10-08T13:26:54.441Z"
   },
   {
    "duration": 5,
    "start_time": "2022-10-08T13:26:54.510Z"
   },
   {
    "duration": 8,
    "start_time": "2022-10-08T13:26:54.517Z"
   },
   {
    "duration": 14,
    "start_time": "2022-10-08T13:26:54.527Z"
   },
   {
    "duration": 12,
    "start_time": "2022-10-08T13:26:54.544Z"
   },
   {
    "duration": 45,
    "start_time": "2022-10-08T13:26:54.557Z"
   },
   {
    "duration": 121,
    "start_time": "2022-10-08T13:26:54.604Z"
   },
   {
    "duration": 70,
    "start_time": "2022-10-08T13:26:54.726Z"
   },
   {
    "duration": 277,
    "start_time": "2022-10-08T13:26:54.798Z"
   },
   {
    "duration": 21,
    "start_time": "2022-10-08T13:26:55.077Z"
   },
   {
    "duration": 14,
    "start_time": "2022-10-08T13:26:55.100Z"
   },
   {
    "duration": 81,
    "start_time": "2022-10-08T13:26:55.116Z"
   },
   {
    "duration": 52,
    "start_time": "2022-10-08T13:26:55.198Z"
   },
   {
    "duration": 17,
    "start_time": "2022-10-08T13:26:55.252Z"
   },
   {
    "duration": 14,
    "start_time": "2022-10-08T13:26:55.295Z"
   },
   {
    "duration": 59,
    "start_time": "2022-10-08T13:26:55.311Z"
   },
   {
    "duration": 56,
    "start_time": "2022-10-08T13:26:55.372Z"
   },
   {
    "duration": 15,
    "start_time": "2022-10-08T13:26:55.429Z"
   },
   {
    "duration": 10,
    "start_time": "2022-10-08T13:26:55.446Z"
   },
   {
    "duration": 56,
    "start_time": "2022-10-08T13:26:55.458Z"
   },
   {
    "duration": 27,
    "start_time": "2022-10-08T13:26:55.516Z"
   },
   {
    "duration": 52,
    "start_time": "2022-10-08T13:26:55.545Z"
   },
   {
    "duration": 38,
    "start_time": "2022-10-08T13:26:55.605Z"
   },
   {
    "duration": 9,
    "start_time": "2022-10-08T13:26:55.645Z"
   },
   {
    "duration": 7,
    "start_time": "2022-10-08T13:26:55.655Z"
   },
   {
    "duration": 36,
    "start_time": "2022-10-08T13:26:55.664Z"
   },
   {
    "duration": 17,
    "start_time": "2022-10-08T13:26:55.702Z"
   },
   {
    "duration": 11,
    "start_time": "2022-10-08T13:26:55.721Z"
   },
   {
    "duration": 86,
    "start_time": "2022-10-08T13:26:55.734Z"
   },
   {
    "duration": 24,
    "start_time": "2022-10-08T13:26:55.822Z"
   },
   {
    "duration": 16,
    "start_time": "2022-10-08T13:26:55.848Z"
   },
   {
    "duration": 536,
    "start_time": "2022-10-08T13:26:55.866Z"
   },
   {
    "duration": 12,
    "start_time": "2022-10-08T13:26:56.404Z"
   },
   {
    "duration": 17,
    "start_time": "2022-10-08T13:26:56.418Z"
   },
   {
    "duration": 395,
    "start_time": "2022-10-08T13:26:56.437Z"
   },
   {
    "duration": 10,
    "start_time": "2022-10-08T13:26:56.834Z"
   },
   {
    "duration": 12,
    "start_time": "2022-10-08T13:26:56.847Z"
   },
   {
    "duration": 351,
    "start_time": "2022-10-08T13:26:56.861Z"
   },
   {
    "duration": 10,
    "start_time": "2022-10-08T13:26:57.215Z"
   },
   {
    "duration": 9,
    "start_time": "2022-10-08T13:26:57.226Z"
   },
   {
    "duration": 443,
    "start_time": "2022-10-08T13:26:57.236Z"
   },
   {
    "duration": 15,
    "start_time": "2022-10-08T13:26:57.681Z"
   },
   {
    "duration": 306,
    "start_time": "2022-10-08T13:26:57.697Z"
   },
   {
    "duration": 17,
    "start_time": "2022-10-08T13:26:58.005Z"
   },
   {
    "duration": 12,
    "start_time": "2022-10-08T13:26:58.023Z"
   },
   {
    "duration": 19,
    "start_time": "2022-10-08T13:26:58.038Z"
   },
   {
    "duration": 55,
    "start_time": "2022-12-08T09:24:50.170Z"
   },
   {
    "duration": 1075,
    "start_time": "2022-12-08T09:25:08.108Z"
   },
   {
    "duration": 99,
    "start_time": "2022-12-08T09:25:09.185Z"
   },
   {
    "duration": 12,
    "start_time": "2022-12-08T09:25:09.286Z"
   },
   {
    "duration": 276,
    "start_time": "2022-12-08T09:25:09.300Z"
   },
   {
    "duration": 227,
    "start_time": "2022-12-08T09:25:09.578Z"
   },
   {
    "duration": 340,
    "start_time": "2022-12-08T09:25:09.807Z"
   },
   {
    "duration": 99,
    "start_time": "2022-12-08T09:25:10.149Z"
   },
   {
    "duration": 6,
    "start_time": "2022-12-08T09:25:10.249Z"
   },
   {
    "duration": 28,
    "start_time": "2022-12-08T09:25:10.257Z"
   },
   {
    "duration": 30,
    "start_time": "2022-12-08T09:25:10.288Z"
   },
   {
    "duration": 31,
    "start_time": "2022-12-08T09:25:10.320Z"
   },
   {
    "duration": 65,
    "start_time": "2022-12-08T09:25:10.352Z"
   },
   {
    "duration": 122,
    "start_time": "2022-12-08T09:25:10.419Z"
   },
   {
    "duration": 77,
    "start_time": "2022-12-08T09:25:10.543Z"
   },
   {
    "duration": 281,
    "start_time": "2022-12-08T09:25:10.624Z"
   },
   {
    "duration": 29,
    "start_time": "2022-12-08T09:25:10.918Z"
   },
   {
    "duration": 27,
    "start_time": "2022-12-08T09:25:10.949Z"
   },
   {
    "duration": 104,
    "start_time": "2022-12-08T09:25:10.978Z"
   },
   {
    "duration": 70,
    "start_time": "2022-12-08T09:25:11.084Z"
   },
   {
    "duration": 19,
    "start_time": "2022-12-08T09:25:11.156Z"
   },
   {
    "duration": 45,
    "start_time": "2022-12-08T09:25:11.176Z"
   },
   {
    "duration": 77,
    "start_time": "2022-12-08T09:25:11.223Z"
   },
   {
    "duration": 56,
    "start_time": "2022-12-08T09:25:11.302Z"
   },
   {
    "duration": 21,
    "start_time": "2022-12-08T09:25:11.360Z"
   },
   {
    "duration": 16,
    "start_time": "2022-12-08T09:25:11.384Z"
   },
   {
    "duration": 30,
    "start_time": "2022-12-08T09:25:11.416Z"
   },
   {
    "duration": 28,
    "start_time": "2022-12-08T09:25:11.448Z"
   },
   {
    "duration": 54,
    "start_time": "2022-12-08T09:25:11.481Z"
   },
   {
    "duration": 30,
    "start_time": "2022-12-08T09:25:11.537Z"
   },
   {
    "duration": 9,
    "start_time": "2022-12-08T09:25:11.569Z"
   },
   {
    "duration": 23,
    "start_time": "2022-12-08T09:25:11.580Z"
   },
   {
    "duration": 22,
    "start_time": "2022-12-08T09:25:11.617Z"
   },
   {
    "duration": 22,
    "start_time": "2022-12-08T09:25:11.641Z"
   },
   {
    "duration": 25,
    "start_time": "2022-12-08T09:25:11.664Z"
   },
   {
    "duration": 98,
    "start_time": "2022-12-08T09:25:11.691Z"
   },
   {
    "duration": 17,
    "start_time": "2022-12-08T09:25:11.791Z"
   },
   {
    "duration": 46,
    "start_time": "2022-12-08T09:25:11.816Z"
   },
   {
    "duration": 555,
    "start_time": "2022-12-08T09:25:11.863Z"
   },
   {
    "duration": 10,
    "start_time": "2022-12-08T09:25:12.420Z"
   },
   {
    "duration": 55,
    "start_time": "2022-12-08T09:25:12.432Z"
   },
   {
    "duration": 372,
    "start_time": "2022-12-08T09:25:12.489Z"
   },
   {
    "duration": 12,
    "start_time": "2022-12-08T09:25:12.864Z"
   },
   {
    "duration": 117,
    "start_time": "2022-12-08T09:25:12.881Z"
   },
   {
    "duration": 371,
    "start_time": "2022-12-08T09:25:12.999Z"
   },
   {
    "duration": 8,
    "start_time": "2022-12-08T09:25:13.372Z"
   },
   {
    "duration": 16,
    "start_time": "2022-12-08T09:25:13.382Z"
   },
   {
    "duration": 435,
    "start_time": "2022-12-08T09:25:13.400Z"
   },
   {
    "duration": 6,
    "start_time": "2022-12-08T09:25:13.838Z"
   },
   {
    "duration": 309,
    "start_time": "2022-12-08T09:25:13.846Z"
   },
   {
    "duration": 8,
    "start_time": "2022-12-08T09:25:14.157Z"
   },
   {
    "duration": 24,
    "start_time": "2022-12-08T09:25:14.167Z"
   },
   {
    "duration": 22,
    "start_time": "2022-12-08T09:25:14.192Z"
   },
   {
    "duration": 21,
    "start_time": "2022-12-08T09:30:17.459Z"
   },
   {
    "duration": 173,
    "start_time": "2022-12-08T09:30:22.255Z"
   },
   {
    "duration": 101,
    "start_time": "2022-12-08T09:34:37.476Z"
   },
   {
    "duration": 12,
    "start_time": "2022-12-08T09:36:04.871Z"
   },
   {
    "duration": 854,
    "start_time": "2022-12-08T09:37:05.933Z"
   },
   {
    "duration": 1136,
    "start_time": "2022-12-08T09:37:24.164Z"
   },
   {
    "duration": 60,
    "start_time": "2022-12-08T09:37:25.304Z"
   },
   {
    "duration": 15,
    "start_time": "2022-12-08T09:37:25.366Z"
   },
   {
    "duration": 181,
    "start_time": "2022-12-08T09:37:25.383Z"
   },
   {
    "duration": 31,
    "start_time": "2022-12-08T09:37:25.566Z"
   },
   {
    "duration": 181,
    "start_time": "2022-12-08T09:37:25.599Z"
   },
   {
    "duration": 117,
    "start_time": "2022-12-08T09:37:25.783Z"
   },
   {
    "duration": 32,
    "start_time": "2022-12-08T09:37:25.902Z"
   },
   {
    "duration": 7,
    "start_time": "2022-12-08T09:37:25.936Z"
   },
   {
    "duration": 11,
    "start_time": "2022-12-08T09:37:25.946Z"
   },
   {
    "duration": 20,
    "start_time": "2022-12-08T09:37:25.959Z"
   },
   {
    "duration": 42,
    "start_time": "2022-12-08T09:37:25.981Z"
   },
   {
    "duration": 49,
    "start_time": "2022-12-08T09:37:26.025Z"
   },
   {
    "duration": 157,
    "start_time": "2022-12-08T09:37:26.076Z"
   },
   {
    "duration": 62,
    "start_time": "2022-12-08T09:37:26.235Z"
   },
   {
    "duration": 417,
    "start_time": "2022-12-08T09:37:26.299Z"
   },
   {
    "duration": 30,
    "start_time": "2022-12-08T09:37:26.718Z"
   },
   {
    "duration": 34,
    "start_time": "2022-12-08T09:37:26.751Z"
   },
   {
    "duration": 82,
    "start_time": "2022-12-08T09:37:26.787Z"
   },
   {
    "duration": 58,
    "start_time": "2022-12-08T09:37:26.871Z"
   },
   {
    "duration": 20,
    "start_time": "2022-12-08T09:37:26.931Z"
   },
   {
    "duration": 27,
    "start_time": "2022-12-08T09:37:26.953Z"
   },
   {
    "duration": 73,
    "start_time": "2022-12-08T09:37:26.982Z"
   },
   {
    "duration": 41,
    "start_time": "2022-12-08T09:37:27.057Z"
   },
   {
    "duration": 22,
    "start_time": "2022-12-08T09:37:27.117Z"
   },
   {
    "duration": 15,
    "start_time": "2022-12-08T09:37:27.141Z"
   },
   {
    "duration": 68,
    "start_time": "2022-12-08T09:37:27.158Z"
   },
   {
    "duration": 40,
    "start_time": "2022-12-08T09:37:27.232Z"
   },
   {
    "duration": 59,
    "start_time": "2022-12-08T09:37:27.274Z"
   },
   {
    "duration": 40,
    "start_time": "2022-12-08T09:37:27.335Z"
   },
   {
    "duration": 9,
    "start_time": "2022-12-08T09:37:27.378Z"
   },
   {
    "duration": 33,
    "start_time": "2022-12-08T09:37:27.389Z"
   },
   {
    "duration": 9,
    "start_time": "2022-12-08T09:37:27.425Z"
   },
   {
    "duration": 28,
    "start_time": "2022-12-08T09:37:27.436Z"
   },
   {
    "duration": 22,
    "start_time": "2022-12-08T09:37:27.466Z"
   },
   {
    "duration": 118,
    "start_time": "2022-12-08T09:37:27.490Z"
   },
   {
    "duration": 19,
    "start_time": "2022-12-08T09:37:27.619Z"
   },
   {
    "duration": 17,
    "start_time": "2022-12-08T09:37:27.640Z"
   },
   {
    "duration": 518,
    "start_time": "2022-12-08T09:37:27.659Z"
   },
   {
    "duration": 14,
    "start_time": "2022-12-08T09:37:28.179Z"
   },
   {
    "duration": 24,
    "start_time": "2022-12-08T09:37:28.195Z"
   },
   {
    "duration": 371,
    "start_time": "2022-12-08T09:37:28.222Z"
   },
   {
    "duration": 22,
    "start_time": "2022-12-08T09:37:28.595Z"
   },
   {
    "duration": 10,
    "start_time": "2022-12-08T09:37:28.619Z"
   },
   {
    "duration": 333,
    "start_time": "2022-12-08T09:37:28.631Z"
   },
   {
    "duration": 11,
    "start_time": "2022-12-08T09:37:28.966Z"
   },
   {
    "duration": 10,
    "start_time": "2022-12-08T09:37:28.980Z"
   },
   {
    "duration": 476,
    "start_time": "2022-12-08T09:37:28.992Z"
   },
   {
    "duration": 6,
    "start_time": "2022-12-08T09:37:29.470Z"
   },
   {
    "duration": 278,
    "start_time": "2022-12-08T09:37:29.477Z"
   },
   {
    "duration": 13,
    "start_time": "2022-12-08T09:37:29.757Z"
   },
   {
    "duration": 8,
    "start_time": "2022-12-08T09:37:29.772Z"
   },
   {
    "duration": 38,
    "start_time": "2022-12-08T09:37:29.782Z"
   },
   {
    "duration": 23,
    "start_time": "2022-12-08T09:50:06.358Z"
   },
   {
    "duration": 76,
    "start_time": "2022-12-08T09:58:29.305Z"
   },
   {
    "duration": 11,
    "start_time": "2022-12-08T10:00:43.687Z"
   },
   {
    "duration": 34,
    "start_time": "2022-12-08T10:00:45.438Z"
   },
   {
    "duration": 35,
    "start_time": "2022-12-08T10:00:49.138Z"
   },
   {
    "duration": 18,
    "start_time": "2022-12-08T10:24:31.004Z"
   },
   {
    "duration": 160,
    "start_time": "2022-12-08T10:24:37.000Z"
   },
   {
    "duration": 5,
    "start_time": "2022-12-08T10:38:27.083Z"
   },
   {
    "duration": 10,
    "start_time": "2022-12-08T10:39:11.376Z"
   },
   {
    "duration": 6,
    "start_time": "2022-12-08T10:39:13.759Z"
   },
   {
    "duration": 6,
    "start_time": "2022-12-08T10:39:14.212Z"
   },
   {
    "duration": 5,
    "start_time": "2022-12-08T10:39:39.999Z"
   },
   {
    "duration": 43,
    "start_time": "2022-12-08T10:40:12.818Z"
   },
   {
    "duration": 218,
    "start_time": "2022-12-08T10:40:43.444Z"
   },
   {
    "duration": 10,
    "start_time": "2022-12-08T10:45:44.485Z"
   },
   {
    "duration": 43,
    "start_time": "2022-12-08T10:45:58.750Z"
   },
   {
    "duration": 230,
    "start_time": "2022-12-08T10:46:00.429Z"
   },
   {
    "duration": 5,
    "start_time": "2022-12-08T10:46:13.014Z"
   },
   {
    "duration": 12,
    "start_time": "2022-12-08T10:46:17.619Z"
   },
   {
    "duration": 5,
    "start_time": "2022-12-08T10:46:27.310Z"
   },
   {
    "duration": 11,
    "start_time": "2022-12-08T10:46:28.118Z"
   },
   {
    "duration": 100,
    "start_time": "2022-12-08T10:47:04.570Z"
   },
   {
    "duration": 6,
    "start_time": "2022-12-08T10:47:10.817Z"
   },
   {
    "duration": 40,
    "start_time": "2022-12-08T10:47:14.958Z"
   },
   {
    "duration": 10,
    "start_time": "2022-12-08T10:47:36.883Z"
   },
   {
    "duration": 105,
    "start_time": "2022-12-08T10:48:14.286Z"
   },
   {
    "duration": 9,
    "start_time": "2022-12-08T10:48:48.884Z"
   },
   {
    "duration": 3,
    "start_time": "2022-12-08T10:48:54.177Z"
   },
   {
    "duration": 12,
    "start_time": "2022-12-08T10:49:03.074Z"
   },
   {
    "duration": 11,
    "start_time": "2022-12-08T10:49:11.947Z"
   },
   {
    "duration": 10,
    "start_time": "2022-12-08T11:17:56.884Z"
   },
   {
    "duration": 12,
    "start_time": "2022-12-08T11:18:10.111Z"
   },
   {
    "duration": 12,
    "start_time": "2022-12-08T11:18:16.441Z"
   },
   {
    "duration": 6,
    "start_time": "2022-12-08T11:22:39.339Z"
   },
   {
    "duration": 9,
    "start_time": "2022-12-08T11:22:49.546Z"
   },
   {
    "duration": 11,
    "start_time": "2022-12-08T11:23:11.433Z"
   },
   {
    "duration": 7,
    "start_time": "2022-12-08T12:32:56.332Z"
   },
   {
    "duration": 14,
    "start_time": "2022-12-08T12:39:55.403Z"
   },
   {
    "duration": 11,
    "start_time": "2022-12-08T12:40:30.631Z"
   },
   {
    "duration": 52,
    "start_time": "2022-12-08T12:42:19.131Z"
   },
   {
    "duration": 77,
    "start_time": "2022-12-08T12:44:04.569Z"
   },
   {
    "duration": 13,
    "start_time": "2022-12-08T12:57:10.610Z"
   },
   {
    "duration": 61,
    "start_time": "2022-12-08T12:57:35.052Z"
   },
   {
    "duration": 54708,
    "start_time": "2022-12-08T12:58:34.263Z"
   },
   {
    "duration": 160,
    "start_time": "2022-12-08T13:08:47.198Z"
   },
   {
    "duration": 414,
    "start_time": "2022-12-08T13:11:21.385Z"
   },
   {
    "duration": 432,
    "start_time": "2022-12-08T13:11:33.131Z"
   },
   {
    "duration": 397,
    "start_time": "2022-12-08T13:12:12.944Z"
   },
   {
    "duration": 504,
    "start_time": "2022-12-08T13:13:56.276Z"
   },
   {
    "duration": 496,
    "start_time": "2022-12-08T13:14:24.260Z"
   },
   {
    "duration": 3,
    "start_time": "2022-12-08T13:15:39.749Z"
   },
   {
    "duration": 429,
    "start_time": "2022-12-08T13:15:58.665Z"
   },
   {
    "duration": 452,
    "start_time": "2022-12-08T13:16:20.742Z"
   },
   {
    "duration": 489,
    "start_time": "2022-12-08T13:24:42.233Z"
   },
   {
    "duration": 439,
    "start_time": "2022-12-08T13:25:33.551Z"
   },
   {
    "duration": 465,
    "start_time": "2022-12-08T13:25:33.991Z"
   },
   {
    "duration": 406,
    "start_time": "2022-12-08T13:26:48.405Z"
   },
   {
    "duration": 465,
    "start_time": "2022-12-08T13:29:09.484Z"
   },
   {
    "duration": 428,
    "start_time": "2022-12-08T13:29:28.940Z"
   },
   {
    "duration": 438,
    "start_time": "2022-12-08T13:30:23.287Z"
   },
   {
    "duration": 495,
    "start_time": "2022-12-08T13:30:58.481Z"
   },
   {
    "duration": 1159,
    "start_time": "2022-12-08T13:39:11.509Z"
   },
   {
    "duration": 50,
    "start_time": "2022-12-08T13:39:12.670Z"
   },
   {
    "duration": 11,
    "start_time": "2022-12-08T13:39:12.722Z"
   },
   {
    "duration": 167,
    "start_time": "2022-12-08T13:39:12.735Z"
   },
   {
    "duration": 26,
    "start_time": "2022-12-08T13:39:12.904Z"
   },
   {
    "duration": 140,
    "start_time": "2022-12-08T13:39:12.932Z"
   },
   {
    "duration": 21,
    "start_time": "2022-12-08T13:39:13.074Z"
   },
   {
    "duration": 101,
    "start_time": "2022-12-08T13:39:13.097Z"
   },
   {
    "duration": 24,
    "start_time": "2022-12-08T13:39:13.199Z"
   },
   {
    "duration": 26,
    "start_time": "2022-12-08T13:39:13.225Z"
   },
   {
    "duration": 9,
    "start_time": "2022-12-08T13:39:13.253Z"
   },
   {
    "duration": 11,
    "start_time": "2022-12-08T13:39:13.264Z"
   },
   {
    "duration": 9,
    "start_time": "2022-12-08T13:39:13.277Z"
   },
   {
    "duration": 11,
    "start_time": "2022-12-08T13:39:13.287Z"
   },
   {
    "duration": 18,
    "start_time": "2022-12-08T13:39:13.299Z"
   },
   {
    "duration": 14,
    "start_time": "2022-12-08T13:39:13.319Z"
   },
   {
    "duration": 26,
    "start_time": "2022-12-08T13:39:13.335Z"
   },
   {
    "duration": 121,
    "start_time": "2022-12-08T13:39:13.363Z"
   },
   {
    "duration": 64,
    "start_time": "2022-12-08T13:39:13.486Z"
   },
   {
    "duration": 261,
    "start_time": "2022-12-08T13:39:13.552Z"
   },
   {
    "duration": 6,
    "start_time": "2022-12-08T13:39:13.815Z"
   },
   {
    "duration": 13,
    "start_time": "2022-12-08T13:39:13.822Z"
   },
   {
    "duration": 22,
    "start_time": "2022-12-08T13:39:13.837Z"
   },
   {
    "duration": 83,
    "start_time": "2022-12-08T13:39:13.860Z"
   },
   {
    "duration": 40,
    "start_time": "2022-12-08T13:39:13.945Z"
   },
   {
    "duration": 5,
    "start_time": "2022-12-08T13:39:13.987Z"
   },
   {
    "duration": 28,
    "start_time": "2022-12-08T13:39:13.994Z"
   },
   {
    "duration": 17,
    "start_time": "2022-12-08T13:39:14.025Z"
   },
   {
    "duration": 74,
    "start_time": "2022-12-08T13:39:14.043Z"
   },
   {
    "duration": 47,
    "start_time": "2022-12-08T13:39:14.118Z"
   },
   {
    "duration": 6,
    "start_time": "2022-12-08T13:39:14.167Z"
   },
   {
    "duration": 11,
    "start_time": "2022-12-08T13:39:14.175Z"
   },
   {
    "duration": 30,
    "start_time": "2022-12-08T13:39:14.187Z"
   },
   {
    "duration": 33,
    "start_time": "2022-12-08T13:39:14.219Z"
   },
   {
    "duration": 417,
    "start_time": "2022-12-08T13:39:14.254Z"
   },
   {
    "duration": 386,
    "start_time": "2022-12-08T13:39:14.673Z"
   },
   {
    "duration": 29,
    "start_time": "2022-12-08T13:39:15.060Z"
   },
   {
    "duration": 398,
    "start_time": "2022-12-08T13:39:15.090Z"
   },
   {
    "duration": 40,
    "start_time": "2022-12-08T13:39:15.490Z"
   },
   {
    "duration": 411,
    "start_time": "2022-12-08T13:39:15.531Z"
   },
   {
    "duration": 27,
    "start_time": "2022-12-08T13:39:15.944Z"
   },
   {
    "duration": 7,
    "start_time": "2022-12-08T13:39:15.972Z"
   },
   {
    "duration": 9,
    "start_time": "2022-12-08T13:39:15.981Z"
   },
   {
    "duration": 26,
    "start_time": "2022-12-08T13:39:15.991Z"
   },
   {
    "duration": 14,
    "start_time": "2022-12-08T13:39:16.019Z"
   },
   {
    "duration": 11,
    "start_time": "2022-12-08T13:39:16.034Z"
   },
   {
    "duration": 82,
    "start_time": "2022-12-08T13:39:16.046Z"
   },
   {
    "duration": 15,
    "start_time": "2022-12-08T13:39:16.129Z"
   },
   {
    "duration": 16,
    "start_time": "2022-12-08T13:39:16.147Z"
   },
   {
    "duration": 641,
    "start_time": "2022-12-08T13:39:16.164Z"
   },
   {
    "duration": 11,
    "start_time": "2022-12-08T13:39:16.807Z"
   },
   {
    "duration": 8,
    "start_time": "2022-12-08T13:39:16.819Z"
   },
   {
    "duration": 331,
    "start_time": "2022-12-08T13:39:16.829Z"
   },
   {
    "duration": 9,
    "start_time": "2022-12-08T13:39:17.161Z"
   },
   {
    "duration": 12,
    "start_time": "2022-12-08T13:39:17.172Z"
   },
   {
    "duration": 336,
    "start_time": "2022-12-08T13:39:17.186Z"
   },
   {
    "duration": 8,
    "start_time": "2022-12-08T13:39:17.524Z"
   },
   {
    "duration": 9,
    "start_time": "2022-12-08T13:39:17.534Z"
   },
   {
    "duration": 392,
    "start_time": "2022-12-08T13:39:17.544Z"
   },
   {
    "duration": 7,
    "start_time": "2022-12-08T13:39:17.938Z"
   },
   {
    "duration": 315,
    "start_time": "2022-12-08T13:39:17.946Z"
   },
   {
    "duration": 10,
    "start_time": "2022-12-08T13:39:18.263Z"
   },
   {
    "duration": 6,
    "start_time": "2022-12-08T13:39:18.275Z"
   },
   {
    "duration": 15,
    "start_time": "2022-12-08T13:39:18.283Z"
   },
   {
    "duration": 389,
    "start_time": "2022-12-08T13:40:12.573Z"
   },
   {
    "duration": 124,
    "start_time": "2022-12-08T13:41:07.395Z"
   },
   {
    "duration": 5,
    "start_time": "2022-12-08T13:41:18.046Z"
   },
   {
    "duration": 6,
    "start_time": "2022-12-08T13:45:54.319Z"
   },
   {
    "duration": 14,
    "start_time": "2022-12-08T13:46:20.114Z"
   },
   {
    "duration": 17,
    "start_time": "2022-12-08T13:47:17.293Z"
   },
   {
    "duration": 428,
    "start_time": "2022-12-08T13:51:54.071Z"
   },
   {
    "duration": 793,
    "start_time": "2022-12-08T13:52:05.013Z"
   },
   {
    "duration": 10,
    "start_time": "2022-12-08T14:54:49.244Z"
   },
   {
    "duration": 11,
    "start_time": "2022-12-08T14:55:05.399Z"
   },
   {
    "duration": 295,
    "start_time": "2022-12-08T14:55:22.891Z"
   },
   {
    "duration": 321,
    "start_time": "2022-12-08T14:55:29.360Z"
   },
   {
    "duration": 759,
    "start_time": "2022-12-08T14:55:34.855Z"
   },
   {
    "duration": 503,
    "start_time": "2022-12-08T14:56:15.752Z"
   },
   {
    "duration": 6,
    "start_time": "2022-12-08T15:02:05.510Z"
   },
   {
    "duration": 5,
    "start_time": "2022-12-08T15:06:28.384Z"
   },
   {
    "duration": 6,
    "start_time": "2022-12-08T15:06:37.202Z"
   },
   {
    "duration": 6,
    "start_time": "2022-12-08T15:07:05.075Z"
   },
   {
    "duration": 6,
    "start_time": "2022-12-08T15:07:13.339Z"
   },
   {
    "duration": 4,
    "start_time": "2022-12-08T15:07:28.819Z"
   },
   {
    "duration": 6,
    "start_time": "2022-12-08T15:09:11.450Z"
   },
   {
    "duration": 6,
    "start_time": "2022-12-08T15:09:19.311Z"
   },
   {
    "duration": 6,
    "start_time": "2022-12-08T15:09:24.597Z"
   },
   {
    "duration": 7,
    "start_time": "2022-12-08T15:09:31.290Z"
   },
   {
    "duration": 7,
    "start_time": "2022-12-08T15:09:41.739Z"
   },
   {
    "duration": 5,
    "start_time": "2022-12-08T15:10:06.248Z"
   },
   {
    "duration": 6,
    "start_time": "2022-12-08T15:10:15.140Z"
   },
   {
    "duration": 6,
    "start_time": "2022-12-08T15:10:50.338Z"
   },
   {
    "duration": 53,
    "start_time": "2022-12-09T09:17:54.514Z"
   },
   {
    "duration": 10,
    "start_time": "2022-12-09T09:17:54.943Z"
   },
   {
    "duration": 1461,
    "start_time": "2022-12-09T09:18:00.177Z"
   },
   {
    "duration": 104,
    "start_time": "2022-12-09T09:18:01.640Z"
   },
   {
    "duration": 13,
    "start_time": "2022-12-09T09:18:01.746Z"
   },
   {
    "duration": 499,
    "start_time": "2022-12-09T09:18:01.761Z"
   },
   {
    "duration": 23,
    "start_time": "2022-12-09T09:18:02.262Z"
   },
   {
    "duration": 424,
    "start_time": "2022-12-09T09:18:02.287Z"
   },
   {
    "duration": 20,
    "start_time": "2022-12-09T09:18:02.713Z"
   },
   {
    "duration": 167,
    "start_time": "2022-12-09T09:18:02.734Z"
   },
   {
    "duration": 22,
    "start_time": "2022-12-09T09:18:02.903Z"
   },
   {
    "duration": 71,
    "start_time": "2022-12-09T09:18:02.929Z"
   },
   {
    "duration": 14,
    "start_time": "2022-12-09T09:18:03.002Z"
   },
   {
    "duration": 27,
    "start_time": "2022-12-09T09:18:03.018Z"
   },
   {
    "duration": 11,
    "start_time": "2022-12-09T09:18:03.046Z"
   },
   {
    "duration": 7,
    "start_time": "2022-12-09T09:18:03.059Z"
   },
   {
    "duration": 10,
    "start_time": "2022-12-09T09:18:03.068Z"
   },
   {
    "duration": 14,
    "start_time": "2022-12-09T09:18:03.080Z"
   },
   {
    "duration": 23,
    "start_time": "2022-12-09T09:18:03.096Z"
   },
   {
    "duration": 119,
    "start_time": "2022-12-09T09:18:03.121Z"
   },
   {
    "duration": 52,
    "start_time": "2022-12-09T09:18:03.242Z"
   },
   {
    "duration": 280,
    "start_time": "2022-12-09T09:18:03.296Z"
   },
   {
    "duration": 5,
    "start_time": "2022-12-09T09:18:03.578Z"
   },
   {
    "duration": 14,
    "start_time": "2022-12-09T09:18:03.585Z"
   },
   {
    "duration": 18,
    "start_time": "2022-12-09T09:18:03.613Z"
   },
   {
    "duration": 102,
    "start_time": "2022-12-09T09:18:03.633Z"
   },
   {
    "duration": 58,
    "start_time": "2022-12-09T09:18:03.738Z"
   },
   {
    "duration": 15,
    "start_time": "2022-12-09T09:18:03.799Z"
   },
   {
    "duration": 11,
    "start_time": "2022-12-09T09:18:03.816Z"
   },
   {
    "duration": 14,
    "start_time": "2022-12-09T09:18:03.831Z"
   },
   {
    "duration": 87,
    "start_time": "2022-12-09T09:18:03.847Z"
   },
   {
    "duration": 34,
    "start_time": "2022-12-09T09:18:03.937Z"
   },
   {
    "duration": 6,
    "start_time": "2022-12-09T09:18:03.973Z"
   },
   {
    "duration": 34,
    "start_time": "2022-12-09T09:18:03.981Z"
   },
   {
    "duration": 20,
    "start_time": "2022-12-09T09:18:04.017Z"
   },
   {
    "duration": 53,
    "start_time": "2022-12-09T09:18:04.039Z"
   },
   {
    "duration": 425,
    "start_time": "2022-12-09T09:18:04.094Z"
   },
   {
    "duration": 465,
    "start_time": "2022-12-09T09:18:04.521Z"
   },
   {
    "duration": 36,
    "start_time": "2022-12-09T09:18:04.988Z"
   },
   {
    "duration": 424,
    "start_time": "2022-12-09T09:18:05.026Z"
   },
   {
    "duration": 28,
    "start_time": "2022-12-09T09:18:05.452Z"
   },
   {
    "duration": 445,
    "start_time": "2022-12-09T09:18:05.482Z"
   },
   {
    "duration": 18,
    "start_time": "2022-12-09T09:18:05.929Z"
   },
   {
    "duration": 7,
    "start_time": "2022-12-09T09:18:05.949Z"
   },
   {
    "duration": 9,
    "start_time": "2022-12-09T09:18:05.957Z"
   },
   {
    "duration": 12,
    "start_time": "2022-12-09T09:18:05.968Z"
   },
   {
    "duration": 41,
    "start_time": "2022-12-09T09:18:05.982Z"
   },
   {
    "duration": 6,
    "start_time": "2022-12-09T09:18:06.025Z"
   },
   {
    "duration": 17,
    "start_time": "2022-12-09T09:18:06.033Z"
   },
   {
    "duration": 89,
    "start_time": "2022-12-09T09:18:06.052Z"
   },
   {
    "duration": 19,
    "start_time": "2022-12-09T09:18:06.143Z"
   },
   {
    "duration": 21,
    "start_time": "2022-12-09T09:18:06.164Z"
   },
   {
    "duration": 588,
    "start_time": "2022-12-09T09:18:06.187Z"
   },
   {
    "duration": 7,
    "start_time": "2022-12-09T09:18:06.777Z"
   },
   {
    "duration": 120,
    "start_time": "2022-12-09T09:18:06.786Z"
   },
   {
    "duration": 0,
    "start_time": "2022-12-09T09:18:06.913Z"
   },
   {
    "duration": 0,
    "start_time": "2022-12-09T09:18:06.914Z"
   },
   {
    "duration": 0,
    "start_time": "2022-12-09T09:18:06.915Z"
   },
   {
    "duration": 0,
    "start_time": "2022-12-09T09:18:06.917Z"
   },
   {
    "duration": 0,
    "start_time": "2022-12-09T09:18:06.918Z"
   },
   {
    "duration": 0,
    "start_time": "2022-12-09T09:18:06.920Z"
   },
   {
    "duration": 0,
    "start_time": "2022-12-09T09:18:06.921Z"
   },
   {
    "duration": 0,
    "start_time": "2022-12-09T09:18:06.923Z"
   },
   {
    "duration": 0,
    "start_time": "2022-12-09T09:18:06.924Z"
   },
   {
    "duration": 0,
    "start_time": "2022-12-09T09:18:06.928Z"
   },
   {
    "duration": 0,
    "start_time": "2022-12-09T09:18:06.929Z"
   },
   {
    "duration": 0,
    "start_time": "2022-12-09T09:18:06.931Z"
   },
   {
    "duration": 8,
    "start_time": "2022-12-09T09:19:01.361Z"
   },
   {
    "duration": 316,
    "start_time": "2022-12-09T09:19:08.105Z"
   },
   {
    "duration": 1198,
    "start_time": "2022-12-09T09:19:14.356Z"
   },
   {
    "duration": 54,
    "start_time": "2022-12-09T09:19:15.557Z"
   },
   {
    "duration": 16,
    "start_time": "2022-12-09T09:19:15.613Z"
   },
   {
    "duration": 155,
    "start_time": "2022-12-09T09:19:15.632Z"
   },
   {
    "duration": 33,
    "start_time": "2022-12-09T09:19:15.789Z"
   },
   {
    "duration": 134,
    "start_time": "2022-12-09T09:19:15.824Z"
   },
   {
    "duration": 20,
    "start_time": "2022-12-09T09:19:15.960Z"
   },
   {
    "duration": 110,
    "start_time": "2022-12-09T09:19:15.982Z"
   },
   {
    "duration": 26,
    "start_time": "2022-12-09T09:19:16.093Z"
   },
   {
    "duration": 21,
    "start_time": "2022-12-09T09:19:16.123Z"
   },
   {
    "duration": 11,
    "start_time": "2022-12-09T09:19:16.147Z"
   },
   {
    "duration": 11,
    "start_time": "2022-12-09T09:19:16.160Z"
   },
   {
    "duration": 8,
    "start_time": "2022-12-09T09:19:16.174Z"
   },
   {
    "duration": 34,
    "start_time": "2022-12-09T09:19:16.185Z"
   },
   {
    "duration": 15,
    "start_time": "2022-12-09T09:19:16.222Z"
   },
   {
    "duration": 19,
    "start_time": "2022-12-09T09:19:16.239Z"
   },
   {
    "duration": 35,
    "start_time": "2022-12-09T09:19:16.260Z"
   },
   {
    "duration": 127,
    "start_time": "2022-12-09T09:19:16.297Z"
   },
   {
    "duration": 56,
    "start_time": "2022-12-09T09:19:16.425Z"
   },
   {
    "duration": 306,
    "start_time": "2022-12-09T09:19:16.483Z"
   },
   {
    "duration": 8,
    "start_time": "2022-12-09T09:19:16.791Z"
   },
   {
    "duration": 22,
    "start_time": "2022-12-09T09:19:16.801Z"
   },
   {
    "duration": 34,
    "start_time": "2022-12-09T09:19:16.826Z"
   },
   {
    "duration": 85,
    "start_time": "2022-12-09T09:19:16.862Z"
   },
   {
    "duration": 44,
    "start_time": "2022-12-09T09:19:16.949Z"
   },
   {
    "duration": 19,
    "start_time": "2022-12-09T09:19:16.995Z"
   },
   {
    "duration": 11,
    "start_time": "2022-12-09T09:19:17.016Z"
   },
   {
    "duration": 20,
    "start_time": "2022-12-09T09:19:17.032Z"
   },
   {
    "duration": 74,
    "start_time": "2022-12-09T09:19:17.055Z"
   },
   {
    "duration": 36,
    "start_time": "2022-12-09T09:19:17.131Z"
   },
   {
    "duration": 5,
    "start_time": "2022-12-09T09:19:17.169Z"
   },
   {
    "duration": 13,
    "start_time": "2022-12-09T09:19:17.176Z"
   },
   {
    "duration": 12,
    "start_time": "2022-12-09T09:19:17.212Z"
   },
   {
    "duration": 31,
    "start_time": "2022-12-09T09:19:17.225Z"
   },
   {
    "duration": 467,
    "start_time": "2022-12-09T09:19:17.257Z"
   },
   {
    "duration": 447,
    "start_time": "2022-12-09T09:19:17.726Z"
   },
   {
    "duration": 37,
    "start_time": "2022-12-09T09:19:18.175Z"
   },
   {
    "duration": 439,
    "start_time": "2022-12-09T09:19:18.215Z"
   },
   {
    "duration": 41,
    "start_time": "2022-12-09T09:19:18.657Z"
   },
   {
    "duration": 478,
    "start_time": "2022-12-09T09:19:18.700Z"
   },
   {
    "duration": 31,
    "start_time": "2022-12-09T09:19:19.181Z"
   },
   {
    "duration": 8,
    "start_time": "2022-12-09T09:19:19.215Z"
   },
   {
    "duration": 13,
    "start_time": "2022-12-09T09:19:19.224Z"
   },
   {
    "duration": 9,
    "start_time": "2022-12-09T09:19:19.239Z"
   },
   {
    "duration": 16,
    "start_time": "2022-12-09T09:19:19.250Z"
   },
   {
    "duration": 5,
    "start_time": "2022-12-09T09:19:19.268Z"
   },
   {
    "duration": 47,
    "start_time": "2022-12-09T09:19:19.275Z"
   },
   {
    "duration": 69,
    "start_time": "2022-12-09T09:19:19.323Z"
   },
   {
    "duration": 34,
    "start_time": "2022-12-09T09:19:19.394Z"
   },
   {
    "duration": 16,
    "start_time": "2022-12-09T09:19:19.430Z"
   },
   {
    "duration": 633,
    "start_time": "2022-12-09T09:19:19.448Z"
   },
   {
    "duration": 9,
    "start_time": "2022-12-09T09:19:20.083Z"
   },
   {
    "duration": 22,
    "start_time": "2022-12-09T09:19:20.094Z"
   },
   {
    "duration": 432,
    "start_time": "2022-12-09T09:19:20.118Z"
   },
   {
    "duration": 12,
    "start_time": "2022-12-09T09:19:20.552Z"
   },
   {
    "duration": 36,
    "start_time": "2022-12-09T09:19:20.566Z"
   },
   {
    "duration": 393,
    "start_time": "2022-12-09T09:19:20.606Z"
   },
   {
    "duration": 19,
    "start_time": "2022-12-09T09:19:21.001Z"
   },
   {
    "duration": 30,
    "start_time": "2022-12-09T09:19:21.022Z"
   },
   {
    "duration": 333,
    "start_time": "2022-12-09T09:19:21.054Z"
   },
   {
    "duration": 6,
    "start_time": "2022-12-09T09:19:21.389Z"
   },
   {
    "duration": 272,
    "start_time": "2022-12-09T09:19:21.397Z"
   },
   {
    "duration": 11,
    "start_time": "2022-12-09T09:19:21.671Z"
   },
   {
    "duration": 28,
    "start_time": "2022-12-09T09:19:21.684Z"
   },
   {
    "duration": 47,
    "start_time": "2022-12-09T09:19:21.714Z"
   },
   {
    "duration": 6,
    "start_time": "2022-12-09T09:30:18.674Z"
   },
   {
    "duration": 8,
    "start_time": "2022-12-09T09:30:31.420Z"
   },
   {
    "duration": 7,
    "start_time": "2022-12-09T09:31:16.644Z"
   },
   {
    "duration": 7,
    "start_time": "2022-12-09T09:31:35.326Z"
   },
   {
    "duration": 7,
    "start_time": "2022-12-09T09:31:50.932Z"
   },
   {
    "duration": 7,
    "start_time": "2022-12-09T09:33:04.797Z"
   },
   {
    "duration": 8,
    "start_time": "2022-12-09T10:18:37.397Z"
   },
   {
    "duration": 5,
    "start_time": "2022-12-09T10:24:06.562Z"
   },
   {
    "duration": 6,
    "start_time": "2022-12-09T10:24:28.899Z"
   },
   {
    "duration": 5,
    "start_time": "2022-12-09T10:26:14.642Z"
   },
   {
    "duration": 4,
    "start_time": "2022-12-09T10:26:21.579Z"
   },
   {
    "duration": 8,
    "start_time": "2022-12-09T10:28:19.819Z"
   },
   {
    "duration": 1344,
    "start_time": "2022-12-12T09:49:45.766Z"
   },
   {
    "duration": 121,
    "start_time": "2022-12-12T09:49:47.112Z"
   },
   {
    "duration": 13,
    "start_time": "2022-12-12T09:49:47.234Z"
   },
   {
    "duration": 238,
    "start_time": "2022-12-12T09:49:47.249Z"
   },
   {
    "duration": 26,
    "start_time": "2022-12-12T09:49:47.489Z"
   },
   {
    "duration": 203,
    "start_time": "2022-12-12T09:49:47.517Z"
   },
   {
    "duration": 22,
    "start_time": "2022-12-12T09:49:47.722Z"
   },
   {
    "duration": 640,
    "start_time": "2022-12-12T09:49:47.746Z"
   },
   {
    "duration": 25,
    "start_time": "2022-12-12T09:49:48.388Z"
   },
   {
    "duration": 84,
    "start_time": "2022-12-12T09:49:48.416Z"
   },
   {
    "duration": 11,
    "start_time": "2022-12-12T09:49:48.502Z"
   },
   {
    "duration": 11,
    "start_time": "2022-12-12T09:49:48.514Z"
   },
   {
    "duration": 8,
    "start_time": "2022-12-12T09:49:48.527Z"
   },
   {
    "duration": 7,
    "start_time": "2022-12-12T09:49:48.536Z"
   },
   {
    "duration": 10,
    "start_time": "2022-12-12T09:49:48.544Z"
   },
   {
    "duration": 24,
    "start_time": "2022-12-12T09:49:48.555Z"
   },
   {
    "duration": 22,
    "start_time": "2022-12-12T09:49:48.580Z"
   },
   {
    "duration": 124,
    "start_time": "2022-12-12T09:49:48.604Z"
   },
   {
    "duration": 63,
    "start_time": "2022-12-12T09:49:48.730Z"
   },
   {
    "duration": 267,
    "start_time": "2022-12-12T09:49:48.795Z"
   },
   {
    "duration": 6,
    "start_time": "2022-12-12T09:49:49.064Z"
   },
   {
    "duration": 11,
    "start_time": "2022-12-12T09:49:49.077Z"
   },
   {
    "duration": 23,
    "start_time": "2022-12-12T09:49:49.090Z"
   },
   {
    "duration": 99,
    "start_time": "2022-12-12T09:49:49.115Z"
   },
   {
    "duration": 47,
    "start_time": "2022-12-12T09:49:49.216Z"
   },
   {
    "duration": 15,
    "start_time": "2022-12-12T09:49:49.265Z"
   },
   {
    "duration": 12,
    "start_time": "2022-12-12T09:49:49.282Z"
   },
   {
    "duration": 14,
    "start_time": "2022-12-12T09:49:49.297Z"
   },
   {
    "duration": 80,
    "start_time": "2022-12-12T09:49:49.313Z"
   },
   {
    "duration": 33,
    "start_time": "2022-12-12T09:49:49.394Z"
   },
   {
    "duration": 6,
    "start_time": "2022-12-12T09:49:49.429Z"
   },
   {
    "duration": 14,
    "start_time": "2022-12-12T09:49:49.437Z"
   },
   {
    "duration": 29,
    "start_time": "2022-12-12T09:49:49.453Z"
   },
   {
    "duration": 31,
    "start_time": "2022-12-12T09:49:49.484Z"
   },
   {
    "duration": 476,
    "start_time": "2022-12-12T09:49:49.516Z"
   },
   {
    "duration": 444,
    "start_time": "2022-12-12T09:49:49.993Z"
   },
   {
    "duration": 39,
    "start_time": "2022-12-12T09:49:50.439Z"
   },
   {
    "duration": 459,
    "start_time": "2022-12-12T09:49:50.479Z"
   },
   {
    "duration": 43,
    "start_time": "2022-12-12T09:49:50.940Z"
   },
   {
    "duration": 463,
    "start_time": "2022-12-12T09:49:50.985Z"
   },
   {
    "duration": 27,
    "start_time": "2022-12-12T09:49:51.450Z"
   },
   {
    "duration": 31,
    "start_time": "2022-12-12T09:49:51.479Z"
   },
   {
    "duration": 26,
    "start_time": "2022-12-12T09:49:51.512Z"
   },
   {
    "duration": 29,
    "start_time": "2022-12-12T09:49:51.540Z"
   },
   {
    "duration": 19,
    "start_time": "2022-12-12T09:49:51.570Z"
   },
   {
    "duration": 26,
    "start_time": "2022-12-12T09:49:51.591Z"
   },
   {
    "duration": 38,
    "start_time": "2022-12-12T09:49:51.619Z"
   },
   {
    "duration": 89,
    "start_time": "2022-12-12T09:49:51.658Z"
   },
   {
    "duration": 20,
    "start_time": "2022-12-12T09:49:51.748Z"
   },
   {
    "duration": 49,
    "start_time": "2022-12-12T09:49:51.770Z"
   },
   {
    "duration": 595,
    "start_time": "2022-12-12T09:49:51.821Z"
   },
   {
    "duration": 7,
    "start_time": "2022-12-12T09:49:52.417Z"
   },
   {
    "duration": 43,
    "start_time": "2022-12-12T09:49:52.425Z"
   },
   {
    "duration": 354,
    "start_time": "2022-12-12T09:49:52.470Z"
   },
   {
    "duration": 7,
    "start_time": "2022-12-12T09:49:52.826Z"
   },
   {
    "duration": 14,
    "start_time": "2022-12-12T09:49:52.835Z"
   },
   {
    "duration": 337,
    "start_time": "2022-12-12T09:49:52.851Z"
   },
   {
    "duration": 8,
    "start_time": "2022-12-12T09:49:53.189Z"
   },
   {
    "duration": 15,
    "start_time": "2022-12-12T09:49:53.198Z"
   },
   {
    "duration": 380,
    "start_time": "2022-12-12T09:49:53.214Z"
   },
   {
    "duration": 6,
    "start_time": "2022-12-12T09:49:53.596Z"
   },
   {
    "duration": 301,
    "start_time": "2022-12-12T09:49:53.603Z"
   },
   {
    "duration": 10,
    "start_time": "2022-12-12T09:49:53.905Z"
   },
   {
    "duration": 15,
    "start_time": "2022-12-12T09:49:53.918Z"
   },
   {
    "duration": 21,
    "start_time": "2022-12-12T09:49:53.935Z"
   },
   {
    "duration": 1224,
    "start_time": "2022-12-12T10:00:21.602Z"
   },
   {
    "duration": 48,
    "start_time": "2022-12-12T10:00:22.828Z"
   },
   {
    "duration": 11,
    "start_time": "2022-12-12T10:00:22.878Z"
   },
   {
    "duration": 166,
    "start_time": "2022-12-12T10:00:22.892Z"
   },
   {
    "duration": 29,
    "start_time": "2022-12-12T10:00:23.060Z"
   },
   {
    "duration": 135,
    "start_time": "2022-12-12T10:00:23.091Z"
   },
   {
    "duration": 21,
    "start_time": "2022-12-12T10:00:23.227Z"
   },
   {
    "duration": 101,
    "start_time": "2022-12-12T10:00:23.249Z"
   },
   {
    "duration": 29,
    "start_time": "2022-12-12T10:00:23.352Z"
   },
   {
    "duration": 21,
    "start_time": "2022-12-12T10:00:23.384Z"
   },
   {
    "duration": 11,
    "start_time": "2022-12-12T10:00:23.407Z"
   },
   {
    "duration": 11,
    "start_time": "2022-12-12T10:00:23.420Z"
   },
   {
    "duration": 11,
    "start_time": "2022-12-12T10:00:23.433Z"
   },
   {
    "duration": 7,
    "start_time": "2022-12-12T10:00:23.446Z"
   },
   {
    "duration": 24,
    "start_time": "2022-12-12T10:00:23.454Z"
   },
   {
    "duration": 12,
    "start_time": "2022-12-12T10:00:23.481Z"
   },
   {
    "duration": 25,
    "start_time": "2022-12-12T10:00:23.495Z"
   },
   {
    "duration": 131,
    "start_time": "2022-12-12T10:00:23.522Z"
   },
   {
    "duration": 66,
    "start_time": "2022-12-12T10:00:23.654Z"
   },
   {
    "duration": 284,
    "start_time": "2022-12-12T10:00:23.722Z"
   },
   {
    "duration": 5,
    "start_time": "2022-12-12T10:00:24.009Z"
   },
   {
    "duration": 12,
    "start_time": "2022-12-12T10:00:24.015Z"
   },
   {
    "duration": 21,
    "start_time": "2022-12-12T10:00:24.028Z"
   },
   {
    "duration": 87,
    "start_time": "2022-12-12T10:00:24.050Z"
   },
   {
    "duration": 58,
    "start_time": "2022-12-12T10:00:24.138Z"
   },
   {
    "duration": 6,
    "start_time": "2022-12-12T10:00:24.198Z"
   },
   {
    "duration": 15,
    "start_time": "2022-12-12T10:00:24.206Z"
   },
   {
    "duration": 16,
    "start_time": "2022-12-12T10:00:24.226Z"
   },
   {
    "duration": 79,
    "start_time": "2022-12-12T10:00:24.244Z"
   },
   {
    "duration": 37,
    "start_time": "2022-12-12T10:00:24.326Z"
   },
   {
    "duration": 5,
    "start_time": "2022-12-12T10:00:24.378Z"
   },
   {
    "duration": 11,
    "start_time": "2022-12-12T10:00:24.385Z"
   },
   {
    "duration": 13,
    "start_time": "2022-12-12T10:00:24.397Z"
   },
   {
    "duration": 37,
    "start_time": "2022-12-12T10:00:24.411Z"
   },
   {
    "duration": 452,
    "start_time": "2022-12-12T10:00:24.450Z"
   },
   {
    "duration": 441,
    "start_time": "2022-12-12T10:00:24.903Z"
   },
   {
    "duration": 41,
    "start_time": "2022-12-12T10:00:25.346Z"
   },
   {
    "duration": 423,
    "start_time": "2022-12-12T10:00:25.388Z"
   },
   {
    "duration": 34,
    "start_time": "2022-12-12T10:00:25.812Z"
   },
   {
    "duration": 453,
    "start_time": "2022-12-12T10:00:25.848Z"
   },
   {
    "duration": 20,
    "start_time": "2022-12-12T10:00:26.303Z"
   },
   {
    "duration": 6,
    "start_time": "2022-12-12T10:00:26.325Z"
   },
   {
    "duration": 9,
    "start_time": "2022-12-12T10:00:26.333Z"
   },
   {
    "duration": 8,
    "start_time": "2022-12-12T10:00:26.343Z"
   },
   {
    "duration": 35,
    "start_time": "2022-12-12T10:00:26.353Z"
   },
   {
    "duration": 11,
    "start_time": "2022-12-12T10:00:26.390Z"
   },
   {
    "duration": 32,
    "start_time": "2022-12-12T10:00:26.403Z"
   },
   {
    "duration": 70,
    "start_time": "2022-12-12T10:00:26.437Z"
   },
   {
    "duration": 18,
    "start_time": "2022-12-12T10:00:26.509Z"
   },
   {
    "duration": 28,
    "start_time": "2022-12-12T10:00:26.529Z"
   },
   {
    "duration": 612,
    "start_time": "2022-12-12T10:00:26.559Z"
   },
   {
    "duration": 9,
    "start_time": "2022-12-12T10:00:27.173Z"
   },
   {
    "duration": 9,
    "start_time": "2022-12-12T10:00:27.184Z"
   },
   {
    "duration": 359,
    "start_time": "2022-12-12T10:00:27.194Z"
   },
   {
    "duration": 8,
    "start_time": "2022-12-12T10:00:27.555Z"
   },
   {
    "duration": 8,
    "start_time": "2022-12-12T10:00:27.578Z"
   },
   {
    "duration": 338,
    "start_time": "2022-12-12T10:00:27.588Z"
   },
   {
    "duration": 7,
    "start_time": "2022-12-12T10:00:27.927Z"
   },
   {
    "duration": 54,
    "start_time": "2022-12-12T10:00:27.936Z"
   },
   {
    "duration": 423,
    "start_time": "2022-12-12T10:00:27.992Z"
   },
   {
    "duration": 6,
    "start_time": "2022-12-12T10:00:28.418Z"
   },
   {
    "duration": 319,
    "start_time": "2022-12-12T10:00:28.426Z"
   },
   {
    "duration": 10,
    "start_time": "2022-12-12T10:00:28.747Z"
   },
   {
    "duration": 20,
    "start_time": "2022-12-12T10:00:28.759Z"
   },
   {
    "duration": 17,
    "start_time": "2022-12-12T10:00:28.781Z"
   }
  ],
  "kernelspec": {
   "display_name": "Python 3 (ipykernel)",
   "language": "python",
   "name": "python3"
  },
  "language_info": {
   "codemirror_mode": {
    "name": "ipython",
    "version": 3
   },
   "file_extension": ".py",
   "mimetype": "text/x-python",
   "name": "python",
   "nbconvert_exporter": "python",
   "pygments_lexer": "ipython3",
   "version": "3.9.5"
  },
  "toc": {
   "base_numbering": 1,
   "nav_menu": {},
   "number_sections": true,
   "sideBar": true,
   "skip_h1_title": true,
   "title_cell": "Содержание",
   "title_sidebar": "Contents",
   "toc_cell": true,
   "toc_position": {
    "height": "calc(100% - 180px)",
    "left": "10px",
    "top": "150px",
    "width": "165px"
   },
   "toc_section_display": true,
   "toc_window_display": true
  }
 },
 "nbformat": 4,
 "nbformat_minor": 2
}
