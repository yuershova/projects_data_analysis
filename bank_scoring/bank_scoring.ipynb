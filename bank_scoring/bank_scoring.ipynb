{
 "cells": [
  {
   "cell_type": "markdown",
   "id": "b638eb7e",
   "metadata": {
    "toc": true
   },
   "source": [
    "<h1>Содержание<span class=\"tocSkip\"></span></h1>\n",
    "<div class=\"toc\"><ul class=\"toc-item\"><li><span><a href=\"#Обзор-данных\" data-toc-modified-id=\"Обзор-данных-1\"><span class=\"toc-item-num\">1&nbsp;&nbsp;</span>Обзор данных</a></span></li><li><span><a href=\"#Предобработка-данных\" data-toc-modified-id=\"Предобработка-данных-2\"><span class=\"toc-item-num\">2&nbsp;&nbsp;</span>Предобработка данных</a></span><ul class=\"toc-item\"><li><span><a href=\"#Заполнение-пропусков\" data-toc-modified-id=\"Заполнение-пропусков-2.1\"><span class=\"toc-item-num\">2.1&nbsp;&nbsp;</span>Заполнение пропусков</a></span></li><li><span><a href=\"#Проверка-данных-на-аномалии-и-исправления\" data-toc-modified-id=\"Проверка-данных-на-аномалии-и-исправления-2.2\"><span class=\"toc-item-num\">2.2&nbsp;&nbsp;</span>Проверка данных на аномалии и исправления</a></span></li><li><span><a href=\"#Изменение-типов-данных\" data-toc-modified-id=\"Изменение-типов-данных-2.3\"><span class=\"toc-item-num\">2.3&nbsp;&nbsp;</span>Изменение типов данных</a></span></li><li><span><a href=\"#Удаление-дубликатов\" data-toc-modified-id=\"Удаление-дубликатов-2.4\"><span class=\"toc-item-num\">2.4&nbsp;&nbsp;</span>Удаление дубликатов</a></span></li><li><span><a href=\"#Формирование-дополнительных-датафреймов-словарей,-декомпозиция-исходного-датафрейма\" data-toc-modified-id=\"Формирование-дополнительных-датафреймов-словарей,-декомпозиция-исходного-датафрейма-2.5\"><span class=\"toc-item-num\">2.5&nbsp;&nbsp;</span>Формирование дополнительных датафреймов словарей, декомпозиция исходного датафрейма</a></span></li><li><span><a href=\"#Категоризация-дохода\" data-toc-modified-id=\"Категоризация-дохода-2.6\"><span class=\"toc-item-num\">2.6&nbsp;&nbsp;</span>Категоризация дохода</a></span></li><li><span><a href=\"#Категоризация-целей-кредита\" data-toc-modified-id=\"Категоризация-целей-кредита-2.7\"><span class=\"toc-item-num\">2.7&nbsp;&nbsp;</span>Категоризация целей кредита</a></span></li></ul></li><li><span><a href=\"#Вывод\" data-toc-modified-id=\"Вывод-3\"><span class=\"toc-item-num\">3&nbsp;&nbsp;</span>Вывод</a></span></li></ul></div>"
   ]
  },
  {
   "cell_type": "markdown",
   "id": "023af618",
   "metadata": {},
   "source": [
    "# Исследование надежности заемщиков - анализ банковских данных #"
   ]
  },
  {
   "cell_type": "markdown",
   "id": "95ba941b",
   "metadata": {},
   "source": [
    "Заказчиком данного исследования является кредитный отдел банка. \n",
    "\n",
    "**Цель исследования** - изучение влияния на платежеспособность клиентов таких факторов, как: количество детей, семейное положение, уровень дохода и цель кредита. \n",
    "\n",
    "\n",
    "Результаты исследования будут учтены при построении специальной системы, которая будет оценивать способность потенциального заемщика вернуть кредит в срок."
   ]
  },
  {
   "cell_type": "markdown",
   "id": "e3024260",
   "metadata": {},
   "source": [
    "## Обзор данных"
   ]
  },
  {
   "cell_type": "code",
   "execution_count": 1,
   "id": "d37695b4",
   "metadata": {},
   "outputs": [],
   "source": [
    "# импорт библиотек\n",
    "import pandas as pd"
   ]
  },
  {
   "cell_type": "code",
   "execution_count": 2,
   "id": "57f81da8",
   "metadata": {},
   "outputs": [
    {
     "data": {
      "text/html": [
       "<div>\n",
       "<style scoped>\n",
       "    .dataframe tbody tr th:only-of-type {\n",
       "        vertical-align: middle;\n",
       "    }\n",
       "\n",
       "    .dataframe tbody tr th {\n",
       "        vertical-align: top;\n",
       "    }\n",
       "\n",
       "    .dataframe thead th {\n",
       "        text-align: right;\n",
       "    }\n",
       "</style>\n",
       "<table border=\"1\" class=\"dataframe\">\n",
       "  <thead>\n",
       "    <tr style=\"text-align: right;\">\n",
       "      <th></th>\n",
       "      <th>children</th>\n",
       "      <th>days_employed</th>\n",
       "      <th>dob_years</th>\n",
       "      <th>education</th>\n",
       "      <th>education_id</th>\n",
       "      <th>family_status</th>\n",
       "      <th>family_status_id</th>\n",
       "      <th>gender</th>\n",
       "      <th>income_type</th>\n",
       "      <th>debt</th>\n",
       "      <th>total_income</th>\n",
       "      <th>purpose</th>\n",
       "    </tr>\n",
       "  </thead>\n",
       "  <tbody>\n",
       "    <tr>\n",
       "      <th>0</th>\n",
       "      <td>1</td>\n",
       "      <td>-8437.673028</td>\n",
       "      <td>42</td>\n",
       "      <td>высшее</td>\n",
       "      <td>0</td>\n",
       "      <td>женат / замужем</td>\n",
       "      <td>0</td>\n",
       "      <td>F</td>\n",
       "      <td>сотрудник</td>\n",
       "      <td>0</td>\n",
       "      <td>253875.639453</td>\n",
       "      <td>покупка жилья</td>\n",
       "    </tr>\n",
       "    <tr>\n",
       "      <th>1</th>\n",
       "      <td>1</td>\n",
       "      <td>-4024.803754</td>\n",
       "      <td>36</td>\n",
       "      <td>среднее</td>\n",
       "      <td>1</td>\n",
       "      <td>женат / замужем</td>\n",
       "      <td>0</td>\n",
       "      <td>F</td>\n",
       "      <td>сотрудник</td>\n",
       "      <td>0</td>\n",
       "      <td>112080.014102</td>\n",
       "      <td>приобретение автомобиля</td>\n",
       "    </tr>\n",
       "    <tr>\n",
       "      <th>2</th>\n",
       "      <td>0</td>\n",
       "      <td>-5623.422610</td>\n",
       "      <td>33</td>\n",
       "      <td>Среднее</td>\n",
       "      <td>1</td>\n",
       "      <td>женат / замужем</td>\n",
       "      <td>0</td>\n",
       "      <td>M</td>\n",
       "      <td>сотрудник</td>\n",
       "      <td>0</td>\n",
       "      <td>145885.952297</td>\n",
       "      <td>покупка жилья</td>\n",
       "    </tr>\n",
       "    <tr>\n",
       "      <th>3</th>\n",
       "      <td>3</td>\n",
       "      <td>-4124.747207</td>\n",
       "      <td>32</td>\n",
       "      <td>среднее</td>\n",
       "      <td>1</td>\n",
       "      <td>женат / замужем</td>\n",
       "      <td>0</td>\n",
       "      <td>M</td>\n",
       "      <td>сотрудник</td>\n",
       "      <td>0</td>\n",
       "      <td>267628.550329</td>\n",
       "      <td>дополнительное образование</td>\n",
       "    </tr>\n",
       "    <tr>\n",
       "      <th>4</th>\n",
       "      <td>0</td>\n",
       "      <td>340266.072047</td>\n",
       "      <td>53</td>\n",
       "      <td>среднее</td>\n",
       "      <td>1</td>\n",
       "      <td>гражданский брак</td>\n",
       "      <td>1</td>\n",
       "      <td>F</td>\n",
       "      <td>пенсионер</td>\n",
       "      <td>0</td>\n",
       "      <td>158616.077870</td>\n",
       "      <td>сыграть свадьбу</td>\n",
       "    </tr>\n",
       "  </tbody>\n",
       "</table>\n",
       "</div>"
      ],
      "text/plain": [
       "   children  days_employed  dob_years education  education_id  \\\n",
       "0         1   -8437.673028         42    высшее             0   \n",
       "1         1   -4024.803754         36   среднее             1   \n",
       "2         0   -5623.422610         33   Среднее             1   \n",
       "3         3   -4124.747207         32   среднее             1   \n",
       "4         0  340266.072047         53   среднее             1   \n",
       "\n",
       "      family_status  family_status_id gender income_type  debt   total_income  \\\n",
       "0   женат / замужем                 0      F   сотрудник     0  253875.639453   \n",
       "1   женат / замужем                 0      F   сотрудник     0  112080.014102   \n",
       "2   женат / замужем                 0      M   сотрудник     0  145885.952297   \n",
       "3   женат / замужем                 0      M   сотрудник     0  267628.550329   \n",
       "4  гражданский брак                 1      F   пенсионер     0  158616.077870   \n",
       "\n",
       "                      purpose  \n",
       "0               покупка жилья  \n",
       "1     приобретение автомобиля  \n",
       "2               покупка жилья  \n",
       "3  дополнительное образование  \n",
       "4             сыграть свадьбу  "
      ]
     },
     "execution_count": 2,
     "metadata": {},
     "output_type": "execute_result"
    }
   ],
   "source": [
    "# чтение файла с данными и сохранение в data\n",
    "data = pd.read_csv('/datasets/data.csv')\n",
    "# вывод первых строй таблицы\n",
    "data.head()"
   ]
  },
  {
   "cell_type": "code",
   "execution_count": 3,
   "id": "c8f510b3",
   "metadata": {
    "scrolled": true
   },
   "outputs": [
    {
     "name": "stdout",
     "output_type": "stream",
     "text": [
      "<class 'pandas.core.frame.DataFrame'>\n",
      "RangeIndex: 21525 entries, 0 to 21524\n",
      "Data columns (total 12 columns):\n",
      " #   Column            Non-Null Count  Dtype  \n",
      "---  ------            --------------  -----  \n",
      " 0   children          21525 non-null  int64  \n",
      " 1   days_employed     19351 non-null  float64\n",
      " 2   dob_years         21525 non-null  int64  \n",
      " 3   education         21525 non-null  object \n",
      " 4   education_id      21525 non-null  int64  \n",
      " 5   family_status     21525 non-null  object \n",
      " 6   family_status_id  21525 non-null  int64  \n",
      " 7   gender            21525 non-null  object \n",
      " 8   income_type       21525 non-null  object \n",
      " 9   debt              21525 non-null  int64  \n",
      " 10  total_income      19351 non-null  float64\n",
      " 11  purpose           21525 non-null  object \n",
      "dtypes: float64(2), int64(5), object(5)\n",
      "memory usage: 2.0+ MB\n"
     ]
    }
   ],
   "source": [
    "# получение общей информации о данных \n",
    "data.info()"
   ]
  },
  {
   "cell_type": "markdown",
   "id": "c827f22b",
   "metadata": {},
   "source": [
    "**Описание данных:**\n",
    "- children — количество детей в семье,\n",
    "- days_employed — общий трудовой стаж в днях,\n",
    "- dob_years — возраст клиента в годах,\n",
    "- education — уровень образования клиента,\n",
    "- education_id — идентификатор уровня образования, \n",
    "- family_status — семейное положение, \n",
    "- family_status_id — идентификатор семейного положения, \n",
    "- gender — пол клиента, \n",
    "- income_type — тип занятости, \n",
    "- debt — имел ли задолженность по возврату кредитов, \n",
    "- total_income — ежемесячный доход, \n",
    "- purpose — цель получения кредита."
   ]
  },
  {
   "cell_type": "markdown",
   "id": "7a50933b",
   "metadata": {},
   "source": [
    "## Предобработка данных"
   ]
  },
  {
   "cell_type": "markdown",
   "id": "9974903d",
   "metadata": {},
   "source": [
    "### Заполнение пропусков"
   ]
  },
  {
   "cell_type": "code",
   "execution_count": 4,
   "id": "738b5b54",
   "metadata": {},
   "outputs": [
    {
     "data": {
      "text/plain": [
       "children               0\n",
       "days_employed       2174\n",
       "dob_years              0\n",
       "education              0\n",
       "education_id           0\n",
       "family_status          0\n",
       "family_status_id       0\n",
       "gender                 0\n",
       "income_type            0\n",
       "debt                   0\n",
       "total_income        2174\n",
       "purpose                0\n",
       "dtype: int64"
      ]
     },
     "execution_count": 4,
     "metadata": {},
     "output_type": "execute_result"
    }
   ],
   "source": [
    "# подсчет пропусков\n",
    "data.isna().sum()"
   ]
  },
  {
   "cell_type": "markdown",
   "id": "46f073a3",
   "metadata": {},
   "source": [
    "Найдены пропущенные значения в столбцах 'days_employed' и 'total_income'"
   ]
  },
  {
   "cell_type": "code",
   "execution_count": 5,
   "id": "5871acbf",
   "metadata": {},
   "outputs": [
    {
     "data": {
      "text/plain": [
       "children            0.000000\n",
       "days_employed       0.100999\n",
       "dob_years           0.000000\n",
       "education           0.000000\n",
       "education_id        0.000000\n",
       "family_status       0.000000\n",
       "family_status_id    0.000000\n",
       "gender              0.000000\n",
       "income_type         0.000000\n",
       "debt                0.000000\n",
       "total_income        0.100999\n",
       "purpose             0.000000\n",
       "dtype: float64"
      ]
     },
     "execution_count": 5,
     "metadata": {},
     "output_type": "execute_result"
    }
   ],
   "source": [
    "# доля пропущенных значений\n",
    "data.isna().mean()"
   ]
  },
  {
   "cell_type": "markdown",
   "id": "dbd490fb",
   "metadata": {},
   "source": [
    "Доля пропущенных значений в колонках 'days_employed' и 'total_income' сотавляет 10%."
   ]
  },
  {
   "cell_type": "markdown",
   "id": "b225d488",
   "metadata": {},
   "source": [
    "Пропущенные значения в данных могут быть вызваны ошибками ввода данных, отсутствием необходимой информации для внесения сведений. "
   ]
  },
  {
   "cell_type": "markdown",
   "id": "e4f28024",
   "metadata": {},
   "source": [
    "Выделим несколько категорий заемщиков и по каждой категории рассчитаем значение медианы и проведем замену пропущенных значений в каждой категории."
   ]
  },
  {
   "cell_type": "code",
   "execution_count": 6,
   "id": "1b710bfe",
   "metadata": {},
   "outputs": [
    {
     "data": {
      "text/plain": [
       "array(['сотрудник', 'пенсионер', 'компаньон', 'госслужащий',\n",
       "       'безработный', 'предприниматель', 'студент', 'в декрете'],\n",
       "      dtype=object)"
      ]
     },
     "execution_count": 6,
     "metadata": {},
     "output_type": "execute_result"
    }
   ],
   "source": [
    "# найдем уникальные значения в столбце 'income_type'\n",
    "data['income_type'].unique()"
   ]
  },
  {
   "cell_type": "code",
   "execution_count": 7,
   "id": "a4690f02",
   "metadata": {},
   "outputs": [
    {
     "data": {
      "text/plain": [
       "income_type\n",
       "безработный        131339.751676\n",
       "в декрете           53829.130729\n",
       "госслужащий        150447.935283\n",
       "компаньон          172357.950966\n",
       "пенсионер          118514.486412\n",
       "предприниматель    499163.144947\n",
       "сотрудник          142594.396847\n",
       "студент             98201.625314\n",
       "Name: total_income, dtype: float64"
      ]
     },
     "execution_count": 7,
     "metadata": {},
     "output_type": "execute_result"
    }
   ],
   "source": [
    "# найдем медианные значения для каждой группы в столбце 'total_income' \n",
    "data.groupby('income_type')['total_income'].median()"
   ]
  },
  {
   "cell_type": "code",
   "execution_count": 8,
   "id": "2b4854dd",
   "metadata": {
    "scrolled": true
   },
   "outputs": [
    {
     "data": {
      "text/plain": [
       "0"
      ]
     },
     "execution_count": 8,
     "metadata": {},
     "output_type": "execute_result"
    }
   ],
   "source": [
    "# заменим пропущенные значения медианными в столбце 'total_income'\n",
    "data['total_income'] = data['total_income'].fillna(data.groupby('income_type')['total_income'].transform('median'))\n",
    "# проверка пропусков в столбце 'total_income'\n",
    "data['total_income'].isna().sum()"
   ]
  },
  {
   "cell_type": "code",
   "execution_count": 9,
   "id": "08a1e3ea",
   "metadata": {
    "scrolled": false
   },
   "outputs": [
    {
     "data": {
      "text/plain": [
       "income_type\n",
       "безработный        366413.652744\n",
       "в декрете           -3296.759962\n",
       "госслужащий         -2689.368353\n",
       "компаньон           -1547.382223\n",
       "пенсионер          365213.306266\n",
       "предприниматель      -520.848083\n",
       "сотрудник           -1574.202821\n",
       "студент              -578.751554\n",
       "Name: days_employed, dtype: float64"
      ]
     },
     "execution_count": 9,
     "metadata": {},
     "output_type": "execute_result"
    }
   ],
   "source": [
    "# поиск медианных значений для каждой группы в столбце 'days_employed' \n",
    "data.groupby('income_type')['days_employed'].median()"
   ]
  },
  {
   "cell_type": "code",
   "execution_count": 10,
   "id": "772690db",
   "metadata": {},
   "outputs": [
    {
     "data": {
      "text/plain": [
       "0"
      ]
     },
     "execution_count": 10,
     "metadata": {},
     "output_type": "execute_result"
    }
   ],
   "source": [
    "# замена пропущенных значений медианным в столбце 'days_employed'\n",
    "data['days_employed'] = data['days_employed'].fillna(data.groupby('income_type')['days_employed'].transform('median'))\n",
    "# проверка пропусков в столбце 'days_employed'\n",
    "data['days_employed'].isna().sum()"
   ]
  },
  {
   "cell_type": "markdown",
   "id": "ca83ff22",
   "metadata": {},
   "source": [
    "'days_employed' и 'total_income' это количественные переменные, некоторые значения в них существенно отличаются от остальных, поэтому заполнение пропущенных значений медианным для каждой группы заемщиков будет более правильным, чем нахождение среднего значения."
   ]
  },
  {
   "cell_type": "markdown",
   "id": "3fdf7969",
   "metadata": {},
   "source": [
    "### Проверка данных на аномалии и исправления"
   ]
  },
  {
   "cell_type": "code",
   "execution_count": 11,
   "id": "ffe5de30",
   "metadata": {},
   "outputs": [
    {
     "data": {
      "text/plain": [
       " 0     14149\n",
       " 1      4818\n",
       " 2      2055\n",
       " 3       330\n",
       " 20       76\n",
       "-1        47\n",
       " 4        41\n",
       " 5         9\n",
       "Name: children, dtype: int64"
      ]
     },
     "execution_count": 11,
     "metadata": {},
     "output_type": "execute_result"
    }
   ],
   "source": [
    "# проверка столбца 'children'\n",
    "data['children'].value_counts()"
   ]
  },
  {
   "cell_type": "markdown",
   "id": "1f064eb5",
   "metadata": {},
   "source": [
    "В столбце 'children' есть отрицательные значения, но поскольку мы не обладаем точной информацией по какой причине возникла данная ошибка, можно предположить, что причиной послужил человеческий фактор, поэтому исправим отрицательные значения на положительные."
   ]
  },
  {
   "cell_type": "code",
   "execution_count": 12,
   "id": "a545e159",
   "metadata": {},
   "outputs": [
    {
     "data": {
      "text/plain": [
       "0.0"
      ]
     },
     "metadata": {},
     "output_type": "display_data"
    },
    {
     "data": {
      "text/plain": [
       "0.474334467807357"
      ]
     },
     "metadata": {},
     "output_type": "display_data"
    }
   ],
   "source": [
    "# исправление ошибки в отрицательном количестве детей\n",
    "data['children'] = data['children'].replace(-1, 1)\n",
    "# нахождение медианного и среднего значения по количеству детей\n",
    "display(data.loc[data['children'] != 20]['children'].sort_values().median())\n",
    "display(data.loc[data['children'] != 20]['children'].sort_values().mean())"
   ]
  },
  {
   "cell_type": "markdown",
   "id": "c0af8ece",
   "metadata": {},
   "source": [
    "Также в этом столбце выделяется большое количество детей. Для исправления ошибок по количеству детей среднее значение нам не подходит. Медианное значение сильно повлияет на результаты дальнейшего исследования, поэтому возможно, что при внесении информации был поставлен лишний 0. Заменим в данных 20 на 2."
   ]
  },
  {
   "cell_type": "code",
   "execution_count": 13,
   "id": "01c44f8d",
   "metadata": {},
   "outputs": [
    {
     "data": {
      "text/plain": [
       "0    14149\n",
       "1     4865\n",
       "2     2131\n",
       "3      330\n",
       "4       41\n",
       "5        9\n",
       "Name: children, dtype: int64"
      ]
     },
     "execution_count": 13,
     "metadata": {},
     "output_type": "execute_result"
    }
   ],
   "source": [
    "# исправление ошибки в количестве детей\n",
    "data['children'] = data['children'].replace(20, 2)\n",
    "# проверим количество уникальных значений в столбце 'children'\n",
    "data['children'].value_counts()"
   ]
  },
  {
   "cell_type": "code",
   "execution_count": 14,
   "id": "5d3dc1e2",
   "metadata": {
    "scrolled": false
   },
   "outputs": [
    {
     "data": {
      "text/plain": [
       "101"
      ]
     },
     "metadata": {},
     "output_type": "display_data"
    },
    {
     "data": {
      "text/plain": [
       "0"
      ]
     },
     "metadata": {},
     "output_type": "display_data"
    }
   ],
   "source": [
    "# проверка столбца 'dob_years'\n",
    "display(data.loc[data['dob_years'] <= 0]['dob_years'].count())\n",
    "display(data.loc[data['dob_years'] >= 100]['dob_years'].count())"
   ]
  },
  {
   "cell_type": "markdown",
   "id": "0f1734aa",
   "metadata": {},
   "source": [
    "В столбце 'dob_years' указан возраст клиентов равный 0, но поскольку данный показатель не повлияет на результаты дальнейшего исследования, оставим его без изменений."
   ]
  },
  {
   "cell_type": "code",
   "execution_count": 15,
   "id": "e5f289d9",
   "metadata": {},
   "outputs": [
    {
     "data": {
      "text/plain": [
       "count     21525.000000\n",
       "mean      63550.497071\n",
       "std      141150.420058\n",
       "min      -18388.949901\n",
       "25%       -2570.047544\n",
       "50%       -1355.683356\n",
       "75%        -316.240646\n",
       "max      401755.400475\n",
       "Name: days_employed, dtype: float64"
      ]
     },
     "execution_count": 15,
     "metadata": {},
     "output_type": "execute_result"
    }
   ],
   "source": [
    "# проверка столбца 'days_employed'\n",
    "data['days_employed'].describe()"
   ]
  },
  {
   "cell_type": "code",
   "execution_count": 16,
   "id": "a6cb704b",
   "metadata": {
    "scrolled": false
   },
   "outputs": [
    {
     "data": {
      "text/plain": [
       "1100.6997273296713"
      ]
     },
     "execution_count": 16,
     "metadata": {},
     "output_type": "execute_result"
    }
   ],
   "source": [
    "# найдем максимальный стаж среди клиентов в годах\n",
    "yaer_employed_max = data['days_employed'].max()/365\n",
    "yaer_employed_max"
   ]
  },
  {
   "cell_type": "markdown",
   "id": "e0890bc1",
   "metadata": {},
   "source": [
    "Мы видим, что количество отработанных лет выглядит очень неправдоподобным, к тому же большинство данных имеет отрицательное значение. Может быть данные приведены в количестве отработанных часов? Необходимо все-таки уточнить в каком формате они представлены."
   ]
  },
  {
   "cell_type": "code",
   "execution_count": 17,
   "id": "078c6f6f",
   "metadata": {},
   "outputs": [
    {
     "data": {
      "text/plain": [
       "0"
      ]
     },
     "execution_count": 17,
     "metadata": {},
     "output_type": "execute_result"
    }
   ],
   "source": [
    "# заменим отрицательные значения в столбце 'days_employed' на положительные\n",
    "data['days_employed'] = abs(data['days_employed'])\n",
    "# проверим столбец 'days_employed'\n",
    "data.loc[data['days_employed'] < 0]['days_employed'].count()"
   ]
  },
  {
   "cell_type": "code",
   "execution_count": 18,
   "id": "6c3c5c4b",
   "metadata": {},
   "outputs": [
    {
     "data": {
      "text/plain": [
       "array(['F', 'M', 'XNA'], dtype=object)"
      ]
     },
     "execution_count": 18,
     "metadata": {},
     "output_type": "execute_result"
    }
   ],
   "source": [
    "# проверка столбца 'gender'\n",
    "data['gender'].unique()"
   ]
  },
  {
   "cell_type": "markdown",
   "id": "b5ade2a3",
   "metadata": {},
   "source": [
    "В столбце 'gender' есть аномалия в виде значения 'XNA', оставим данную ошибку без изменений, поскольку пол заемщиков не влияет на результаты дальнейшего исследования."
   ]
  },
  {
   "cell_type": "markdown",
   "id": "f94722c5",
   "metadata": {},
   "source": [
    "### Изменение типов данных"
   ]
  },
  {
   "cell_type": "code",
   "execution_count": 19,
   "id": "d805395e",
   "metadata": {
    "scrolled": false
   },
   "outputs": [
    {
     "data": {
      "text/plain": [
       "dtype('int64')"
      ]
     },
     "metadata": {},
     "output_type": "display_data"
    },
    {
     "data": {
      "text/plain": [
       "dtype('int64')"
      ]
     },
     "execution_count": 19,
     "metadata": {},
     "output_type": "execute_result"
    }
   ],
   "source": [
    "# замена вещественного типа данных на целочисленный в столбцах 'total_income' и 'days_employed' \n",
    "data['total_income'] = data['total_income'].astype('int')\n",
    "data['days_employed'] = data['days_employed'].astype('int')\n",
    "# проверка типа данных\n",
    "display(data['total_income'].dtypes)\n",
    "data['days_employed'].dtypes"
   ]
  },
  {
   "cell_type": "markdown",
   "id": "58862ce6",
   "metadata": {},
   "source": [
    "### Удаление дубликатов"
   ]
  },
  {
   "cell_type": "code",
   "execution_count": 20,
   "id": "6f4a36a0",
   "metadata": {},
   "outputs": [
    {
     "data": {
      "text/plain": [
       "['ВЫСШЕЕ',\n",
       " 'Высшее',\n",
       " 'НАЧАЛЬНОЕ',\n",
       " 'НЕОКОНЧЕННОЕ ВЫСШЕЕ',\n",
       " 'Начальное',\n",
       " 'Неоконченное высшее',\n",
       " 'СРЕДНЕЕ',\n",
       " 'Среднее',\n",
       " 'УЧЕНАЯ СТЕПЕНЬ',\n",
       " 'Ученая степень',\n",
       " 'высшее',\n",
       " 'начальное',\n",
       " 'неоконченное высшее',\n",
       " 'среднее',\n",
       " 'ученая степень']"
      ]
     },
     "execution_count": 20,
     "metadata": {},
     "output_type": "execute_result"
    }
   ],
   "source": [
    "# нахождение неявных дубликатов в столбце 'education'\n",
    "sorted(data['education'].unique())"
   ]
  },
  {
   "cell_type": "code",
   "execution_count": 21,
   "id": "8549a128",
   "metadata": {
    "scrolled": false
   },
   "outputs": [
    {
     "data": {
      "text/plain": [
       "['высшее', 'начальное', 'неоконченное высшее', 'среднее', 'ученая степень']"
      ]
     },
     "execution_count": 21,
     "metadata": {},
     "output_type": "execute_result"
    }
   ],
   "source": [
    "# приведение значений столбца 'education' к нижнему регистру\n",
    "data['education'] = data['education'].str.lower()\n",
    "# проверка столбца 'education'\n",
    "sorted(data['education'].unique())"
   ]
  },
  {
   "cell_type": "code",
   "execution_count": 22,
   "id": "a820a0e3",
   "metadata": {
    "scrolled": true
   },
   "outputs": [
    {
     "data": {
      "text/plain": [
       "71"
      ]
     },
     "execution_count": 22,
     "metadata": {},
     "output_type": "execute_result"
    }
   ],
   "source": [
    "# подсчет числа явных дубликатов\n",
    "data.duplicated().sum()"
   ]
  },
  {
   "cell_type": "code",
   "execution_count": 23,
   "id": "7515913d",
   "metadata": {},
   "outputs": [
    {
     "data": {
      "text/plain": [
       "0"
      ]
     },
     "metadata": {},
     "output_type": "display_data"
    },
    {
     "data": {
      "text/plain": [
       "(21454, 12)"
      ]
     },
     "execution_count": 23,
     "metadata": {},
     "output_type": "execute_result"
    }
   ],
   "source": [
    "# удаление явных дубликатов (с удалением старых индексов и формированием новых)\n",
    "data = data.drop_duplicates().reset_index(drop=True)\n",
    "# проверка на отсутствие явных дубликатов\n",
    "display(data.duplicated().sum())\n",
    "# получение размера таблицы после удаления дубликатов\n",
    "data.shape"
   ]
  },
  {
   "cell_type": "code",
   "execution_count": 24,
   "id": "3c55920c",
   "metadata": {
    "scrolled": true
   },
   "outputs": [
    {
     "data": {
      "text/plain": [
       "array(['женат / замужем', 'гражданский брак', 'вдовец / вдова',\n",
       "       'в разводе', 'Не женат / не замужем'], dtype=object)"
      ]
     },
     "execution_count": 24,
     "metadata": {},
     "output_type": "execute_result"
    }
   ],
   "source": [
    "# проверка столбца 'family_status'\n",
    "data['family_status'].unique()"
   ]
  },
  {
   "cell_type": "code",
   "execution_count": 25,
   "id": "5b7aa6ed",
   "metadata": {
    "scrolled": false
   },
   "outputs": [
    {
     "data": {
      "text/plain": [
       "array(['сотрудник', 'пенсионер', 'компаньон', 'госслужащий',\n",
       "       'безработный', 'предприниматель', 'студент', 'в декрете'],\n",
       "      dtype=object)"
      ]
     },
     "execution_count": 25,
     "metadata": {},
     "output_type": "execute_result"
    }
   ],
   "source": [
    "# проверка столбца 'income_type'\n",
    "data['income_type'].unique()"
   ]
  },
  {
   "cell_type": "code",
   "execution_count": 26,
   "id": "12a1326b",
   "metadata": {},
   "outputs": [
    {
     "data": {
      "text/plain": [
       "['автомобили',\n",
       " 'автомобиль',\n",
       " 'высшее образование',\n",
       " 'дополнительное образование',\n",
       " 'жилье',\n",
       " 'заняться высшим образованием',\n",
       " 'заняться образованием',\n",
       " 'на покупку автомобиля',\n",
       " 'на покупку подержанного автомобиля',\n",
       " 'на покупку своего автомобиля',\n",
       " 'на проведение свадьбы',\n",
       " 'недвижимость',\n",
       " 'образование',\n",
       " 'операции с жильем',\n",
       " 'операции с коммерческой недвижимостью',\n",
       " 'операции с недвижимостью',\n",
       " 'операции со своей недвижимостью',\n",
       " 'покупка жилой недвижимости',\n",
       " 'покупка жилья',\n",
       " 'покупка жилья для сдачи',\n",
       " 'покупка жилья для семьи',\n",
       " 'покупка коммерческой недвижимости',\n",
       " 'покупка недвижимости',\n",
       " 'покупка своего жилья',\n",
       " 'получение высшего образования',\n",
       " 'получение дополнительного образования',\n",
       " 'получение образования',\n",
       " 'приобретение автомобиля',\n",
       " 'профильное образование',\n",
       " 'ремонт жилью',\n",
       " 'свадьба',\n",
       " 'свой автомобиль',\n",
       " 'сделка с автомобилем',\n",
       " 'сделка с подержанным автомобилем',\n",
       " 'строительство жилой недвижимости',\n",
       " 'строительство недвижимости',\n",
       " 'строительство собственной недвижимости',\n",
       " 'сыграть свадьбу']"
      ]
     },
     "execution_count": 26,
     "metadata": {},
     "output_type": "execute_result"
    }
   ],
   "source": [
    "# нахождение неявных дубликатов в столбце 'purpose'\n",
    "sorted(data['purpose'].unique())"
   ]
  },
  {
   "cell_type": "code",
   "execution_count": 27,
   "id": "c34258b4",
   "metadata": {
    "scrolled": true
   },
   "outputs": [
    {
     "data": {
      "text/html": [
       "<div>\n",
       "<style scoped>\n",
       "    .dataframe tbody tr th:only-of-type {\n",
       "        vertical-align: middle;\n",
       "    }\n",
       "\n",
       "    .dataframe tbody tr th {\n",
       "        vertical-align: top;\n",
       "    }\n",
       "\n",
       "    .dataframe thead th {\n",
       "        text-align: right;\n",
       "    }\n",
       "</style>\n",
       "<table border=\"1\" class=\"dataframe\">\n",
       "  <thead>\n",
       "    <tr style=\"text-align: right;\">\n",
       "      <th></th>\n",
       "      <th>children</th>\n",
       "      <th>days_employed</th>\n",
       "      <th>dob_years</th>\n",
       "      <th>education</th>\n",
       "      <th>education_id</th>\n",
       "      <th>family_status</th>\n",
       "      <th>family_status_id</th>\n",
       "      <th>gender</th>\n",
       "      <th>income_type</th>\n",
       "      <th>debt</th>\n",
       "      <th>total_income</th>\n",
       "      <th>purpose</th>\n",
       "      <th>purpose_category</th>\n",
       "    </tr>\n",
       "  </thead>\n",
       "  <tbody>\n",
       "    <tr>\n",
       "      <th>0</th>\n",
       "      <td>1</td>\n",
       "      <td>8437</td>\n",
       "      <td>42</td>\n",
       "      <td>высшее</td>\n",
       "      <td>0</td>\n",
       "      <td>женат / замужем</td>\n",
       "      <td>0</td>\n",
       "      <td>F</td>\n",
       "      <td>сотрудник</td>\n",
       "      <td>0</td>\n",
       "      <td>253875</td>\n",
       "      <td>покупка жилья</td>\n",
       "      <td>операции с недвижимостью</td>\n",
       "    </tr>\n",
       "    <tr>\n",
       "      <th>1</th>\n",
       "      <td>1</td>\n",
       "      <td>4024</td>\n",
       "      <td>36</td>\n",
       "      <td>среднее</td>\n",
       "      <td>1</td>\n",
       "      <td>женат / замужем</td>\n",
       "      <td>0</td>\n",
       "      <td>F</td>\n",
       "      <td>сотрудник</td>\n",
       "      <td>0</td>\n",
       "      <td>112080</td>\n",
       "      <td>приобретение автомобиля</td>\n",
       "      <td>операции с автомобилем</td>\n",
       "    </tr>\n",
       "    <tr>\n",
       "      <th>2</th>\n",
       "      <td>0</td>\n",
       "      <td>5623</td>\n",
       "      <td>33</td>\n",
       "      <td>среднее</td>\n",
       "      <td>1</td>\n",
       "      <td>женат / замужем</td>\n",
       "      <td>0</td>\n",
       "      <td>M</td>\n",
       "      <td>сотрудник</td>\n",
       "      <td>0</td>\n",
       "      <td>145885</td>\n",
       "      <td>покупка жилья</td>\n",
       "      <td>операции с недвижимостью</td>\n",
       "    </tr>\n",
       "    <tr>\n",
       "      <th>3</th>\n",
       "      <td>3</td>\n",
       "      <td>4124</td>\n",
       "      <td>32</td>\n",
       "      <td>среднее</td>\n",
       "      <td>1</td>\n",
       "      <td>женат / замужем</td>\n",
       "      <td>0</td>\n",
       "      <td>M</td>\n",
       "      <td>сотрудник</td>\n",
       "      <td>0</td>\n",
       "      <td>267628</td>\n",
       "      <td>дополнительное образование</td>\n",
       "      <td>получение образования</td>\n",
       "    </tr>\n",
       "    <tr>\n",
       "      <th>4</th>\n",
       "      <td>0</td>\n",
       "      <td>340266</td>\n",
       "      <td>53</td>\n",
       "      <td>среднее</td>\n",
       "      <td>1</td>\n",
       "      <td>гражданский брак</td>\n",
       "      <td>1</td>\n",
       "      <td>F</td>\n",
       "      <td>пенсионер</td>\n",
       "      <td>0</td>\n",
       "      <td>158616</td>\n",
       "      <td>сыграть свадьбу</td>\n",
       "      <td>проведение свадьбы</td>\n",
       "    </tr>\n",
       "  </tbody>\n",
       "</table>\n",
       "</div>"
      ],
      "text/plain": [
       "   children  days_employed  dob_years education  education_id  \\\n",
       "0         1           8437         42    высшее             0   \n",
       "1         1           4024         36   среднее             1   \n",
       "2         0           5623         33   среднее             1   \n",
       "3         3           4124         32   среднее             1   \n",
       "4         0         340266         53   среднее             1   \n",
       "\n",
       "      family_status  family_status_id gender income_type  debt  total_income  \\\n",
       "0   женат / замужем                 0      F   сотрудник     0        253875   \n",
       "1   женат / замужем                 0      F   сотрудник     0        112080   \n",
       "2   женат / замужем                 0      M   сотрудник     0        145885   \n",
       "3   женат / замужем                 0      M   сотрудник     0        267628   \n",
       "4  гражданский брак                 1      F   пенсионер     0        158616   \n",
       "\n",
       "                      purpose          purpose_category  \n",
       "0               покупка жилья  операции с недвижимостью  \n",
       "1     приобретение автомобиля    операции с автомобилем  \n",
       "2               покупка жилья  операции с недвижимостью  \n",
       "3  дополнительное образование     получение образования  \n",
       "4             сыграть свадьбу        проведение свадьбы  "
      ]
     },
     "execution_count": 27,
     "metadata": {},
     "output_type": "execute_result"
    }
   ],
   "source": [
    "# замена неявных дубликатов в столбце 'purpose' c формированием столбца 'purpose_category'\n",
    "\n",
    "def purpose_function(purpose):\n",
    "    try:\n",
    "        if 'недвижим' in purpose or 'жил' in purpose:\n",
    "            return 'операции с недвижимостью'\n",
    "        elif 'автомоб' in purpose:\n",
    "            return 'операции с автомобилем'\n",
    "        elif 'свадьб' in purpose:\n",
    "            return 'проведение свадьбы'\n",
    "        elif 'образов' in purpose:\n",
    "            return 'получение образования'\n",
    "    except:\n",
    "        return 'проверить данные'\n",
    "        \n",
    "data['purpose_category'] = data['purpose'].apply(purpose_function)\n",
    "data.head()"
   ]
  },
  {
   "cell_type": "code",
   "execution_count": 28,
   "id": "b60c582a",
   "metadata": {},
   "outputs": [
    {
     "data": {
      "text/plain": [
       "операции с недвижимостью    10811\n",
       "операции с автомобилем       4306\n",
       "получение образования        4013\n",
       "проведение свадьбы           2324\n",
       "Name: purpose_category, dtype: int64"
      ]
     },
     "execution_count": 28,
     "metadata": {},
     "output_type": "execute_result"
    }
   ],
   "source": [
    "# проверка столбца 'purpose_category'\n",
    "data['purpose_category'].value_counts()"
   ]
  },
  {
   "cell_type": "markdown",
   "id": "310db4d2",
   "metadata": {},
   "source": [
    "Возможными причинами появления явных дубликатов может быть неправильная выгрузка данных из разных источников, повторная подача заявок клиентами. Причины появления неявных дубликатов: ошибки клиентов при заполнении, заполнение заявок в произвольное форме. \n",
    "Для нахождения и подсчета явных дубликатов был использован метод duplicated().sum(). Для их удаления - drop_duplicates(), при этом нарушается порядок индексации строк, чтобы их перенумеровать и удалить старую индексацию был применен параметр reset_index(drop=True)."
   ]
  },
  {
   "cell_type": "markdown",
   "id": "a57799d3",
   "metadata": {},
   "source": [
    "### Формирование дополнительных датафреймов словарей, декомпозиция исходного датафрейма"
   ]
  },
  {
   "cell_type": "code",
   "execution_count": 29,
   "id": "e49bfcaa",
   "metadata": {
    "scrolled": true
   },
   "outputs": [
    {
     "data": {
      "text/html": [
       "<div>\n",
       "<style scoped>\n",
       "    .dataframe tbody tr th:only-of-type {\n",
       "        vertical-align: middle;\n",
       "    }\n",
       "\n",
       "    .dataframe tbody tr th {\n",
       "        vertical-align: top;\n",
       "    }\n",
       "\n",
       "    .dataframe thead th {\n",
       "        text-align: right;\n",
       "    }\n",
       "</style>\n",
       "<table border=\"1\" class=\"dataframe\">\n",
       "  <thead>\n",
       "    <tr style=\"text-align: right;\">\n",
       "      <th></th>\n",
       "      <th>education</th>\n",
       "      <th>education_id</th>\n",
       "    </tr>\n",
       "  </thead>\n",
       "  <tbody>\n",
       "    <tr>\n",
       "      <th>0</th>\n",
       "      <td>высшее</td>\n",
       "      <td>0</td>\n",
       "    </tr>\n",
       "    <tr>\n",
       "      <th>1</th>\n",
       "      <td>среднее</td>\n",
       "      <td>1</td>\n",
       "    </tr>\n",
       "    <tr>\n",
       "      <th>2</th>\n",
       "      <td>неоконченное высшее</td>\n",
       "      <td>2</td>\n",
       "    </tr>\n",
       "    <tr>\n",
       "      <th>3</th>\n",
       "      <td>начальное</td>\n",
       "      <td>3</td>\n",
       "    </tr>\n",
       "    <tr>\n",
       "      <th>4</th>\n",
       "      <td>ученая степень</td>\n",
       "      <td>4</td>\n",
       "    </tr>\n",
       "  </tbody>\n",
       "</table>\n",
       "</div>"
      ],
      "text/plain": [
       "             education  education_id\n",
       "0               высшее             0\n",
       "1              среднее             1\n",
       "2  неоконченное высшее             2\n",
       "3            начальное             3\n",
       "4       ученая степень             4"
      ]
     },
     "execution_count": 29,
     "metadata": {},
     "output_type": "execute_result"
    }
   ],
   "source": [
    "# создание датафрейма со столбцами 'education_id' и 'education'\n",
    "new_education = data[['education', 'education_id']]\n",
    "new_education.drop_duplicates().reset_index(drop=True)"
   ]
  },
  {
   "cell_type": "code",
   "execution_count": 30,
   "id": "6ab90d5a",
   "metadata": {},
   "outputs": [
    {
     "data": {
      "text/html": [
       "<div>\n",
       "<style scoped>\n",
       "    .dataframe tbody tr th:only-of-type {\n",
       "        vertical-align: middle;\n",
       "    }\n",
       "\n",
       "    .dataframe tbody tr th {\n",
       "        vertical-align: top;\n",
       "    }\n",
       "\n",
       "    .dataframe thead th {\n",
       "        text-align: right;\n",
       "    }\n",
       "</style>\n",
       "<table border=\"1\" class=\"dataframe\">\n",
       "  <thead>\n",
       "    <tr style=\"text-align: right;\">\n",
       "      <th></th>\n",
       "      <th>family_status</th>\n",
       "      <th>family_status_id</th>\n",
       "    </tr>\n",
       "  </thead>\n",
       "  <tbody>\n",
       "    <tr>\n",
       "      <th>0</th>\n",
       "      <td>женат / замужем</td>\n",
       "      <td>0</td>\n",
       "    </tr>\n",
       "    <tr>\n",
       "      <th>1</th>\n",
       "      <td>гражданский брак</td>\n",
       "      <td>1</td>\n",
       "    </tr>\n",
       "    <tr>\n",
       "      <th>2</th>\n",
       "      <td>вдовец / вдова</td>\n",
       "      <td>2</td>\n",
       "    </tr>\n",
       "    <tr>\n",
       "      <th>3</th>\n",
       "      <td>в разводе</td>\n",
       "      <td>3</td>\n",
       "    </tr>\n",
       "    <tr>\n",
       "      <th>4</th>\n",
       "      <td>Не женат / не замужем</td>\n",
       "      <td>4</td>\n",
       "    </tr>\n",
       "  </tbody>\n",
       "</table>\n",
       "</div>"
      ],
      "text/plain": [
       "           family_status  family_status_id\n",
       "0        женат / замужем                 0\n",
       "1       гражданский брак                 1\n",
       "2         вдовец / вдова                 2\n",
       "3              в разводе                 3\n",
       "4  Не женат / не замужем                 4"
      ]
     },
     "execution_count": 30,
     "metadata": {},
     "output_type": "execute_result"
    }
   ],
   "source": [
    "# создание датафрейма со столбцами 'family_status_id' и 'family_status'\n",
    "new_family_status = data[['family_status', 'family_status_id']]\n",
    "new_family_status.drop_duplicates().reset_index(drop=True)"
   ]
  },
  {
   "cell_type": "code",
   "execution_count": 31,
   "id": "fd798dee",
   "metadata": {},
   "outputs": [
    {
     "data": {
      "text/html": [
       "<div>\n",
       "<style scoped>\n",
       "    .dataframe tbody tr th:only-of-type {\n",
       "        vertical-align: middle;\n",
       "    }\n",
       "\n",
       "    .dataframe tbody tr th {\n",
       "        vertical-align: top;\n",
       "    }\n",
       "\n",
       "    .dataframe thead th {\n",
       "        text-align: right;\n",
       "    }\n",
       "</style>\n",
       "<table border=\"1\" class=\"dataframe\">\n",
       "  <thead>\n",
       "    <tr style=\"text-align: right;\">\n",
       "      <th></th>\n",
       "      <th>children</th>\n",
       "      <th>days_employed</th>\n",
       "      <th>dob_years</th>\n",
       "      <th>education_id</th>\n",
       "      <th>family_status_id</th>\n",
       "      <th>gender</th>\n",
       "      <th>income_type</th>\n",
       "      <th>debt</th>\n",
       "      <th>total_income</th>\n",
       "      <th>purpose</th>\n",
       "      <th>purpose_category</th>\n",
       "    </tr>\n",
       "  </thead>\n",
       "  <tbody>\n",
       "    <tr>\n",
       "      <th>0</th>\n",
       "      <td>1</td>\n",
       "      <td>8437</td>\n",
       "      <td>42</td>\n",
       "      <td>0</td>\n",
       "      <td>0</td>\n",
       "      <td>F</td>\n",
       "      <td>сотрудник</td>\n",
       "      <td>0</td>\n",
       "      <td>253875</td>\n",
       "      <td>покупка жилья</td>\n",
       "      <td>операции с недвижимостью</td>\n",
       "    </tr>\n",
       "    <tr>\n",
       "      <th>1</th>\n",
       "      <td>1</td>\n",
       "      <td>4024</td>\n",
       "      <td>36</td>\n",
       "      <td>1</td>\n",
       "      <td>0</td>\n",
       "      <td>F</td>\n",
       "      <td>сотрудник</td>\n",
       "      <td>0</td>\n",
       "      <td>112080</td>\n",
       "      <td>приобретение автомобиля</td>\n",
       "      <td>операции с автомобилем</td>\n",
       "    </tr>\n",
       "    <tr>\n",
       "      <th>2</th>\n",
       "      <td>0</td>\n",
       "      <td>5623</td>\n",
       "      <td>33</td>\n",
       "      <td>1</td>\n",
       "      <td>0</td>\n",
       "      <td>M</td>\n",
       "      <td>сотрудник</td>\n",
       "      <td>0</td>\n",
       "      <td>145885</td>\n",
       "      <td>покупка жилья</td>\n",
       "      <td>операции с недвижимостью</td>\n",
       "    </tr>\n",
       "    <tr>\n",
       "      <th>3</th>\n",
       "      <td>3</td>\n",
       "      <td>4124</td>\n",
       "      <td>32</td>\n",
       "      <td>1</td>\n",
       "      <td>0</td>\n",
       "      <td>M</td>\n",
       "      <td>сотрудник</td>\n",
       "      <td>0</td>\n",
       "      <td>267628</td>\n",
       "      <td>дополнительное образование</td>\n",
       "      <td>получение образования</td>\n",
       "    </tr>\n",
       "    <tr>\n",
       "      <th>4</th>\n",
       "      <td>0</td>\n",
       "      <td>340266</td>\n",
       "      <td>53</td>\n",
       "      <td>1</td>\n",
       "      <td>1</td>\n",
       "      <td>F</td>\n",
       "      <td>пенсионер</td>\n",
       "      <td>0</td>\n",
       "      <td>158616</td>\n",
       "      <td>сыграть свадьбу</td>\n",
       "      <td>проведение свадьбы</td>\n",
       "    </tr>\n",
       "  </tbody>\n",
       "</table>\n",
       "</div>"
      ],
      "text/plain": [
       "   children  days_employed  dob_years  education_id  family_status_id gender  \\\n",
       "0         1           8437         42             0                 0      F   \n",
       "1         1           4024         36             1                 0      F   \n",
       "2         0           5623         33             1                 0      M   \n",
       "3         3           4124         32             1                 0      M   \n",
       "4         0         340266         53             1                 1      F   \n",
       "\n",
       "  income_type  debt  total_income                     purpose  \\\n",
       "0   сотрудник     0        253875               покупка жилья   \n",
       "1   сотрудник     0        112080     приобретение автомобиля   \n",
       "2   сотрудник     0        145885               покупка жилья   \n",
       "3   сотрудник     0        267628  дополнительное образование   \n",
       "4   пенсионер     0        158616             сыграть свадьбу   \n",
       "\n",
       "           purpose_category  \n",
       "0  операции с недвижимостью  \n",
       "1    операции с автомобилем  \n",
       "2  операции с недвижимостью  \n",
       "3     получение образования  \n",
       "4        проведение свадьбы  "
      ]
     },
     "execution_count": 31,
     "metadata": {},
     "output_type": "execute_result"
    }
   ],
   "source": [
    "# удаление из исходного датафрейма столбцов 'education' и 'family_status'\n",
    "data.drop(['education', 'family_status'], axis = 1).head()"
   ]
  },
  {
   "cell_type": "markdown",
   "id": "673d534f",
   "metadata": {},
   "source": [
    "###  Категоризация дохода"
   ]
  },
  {
   "cell_type": "code",
   "execution_count": 32,
   "id": "1f00ab8e",
   "metadata": {},
   "outputs": [
    {
     "data": {
      "text/html": [
       "<div>\n",
       "<style scoped>\n",
       "    .dataframe tbody tr th:only-of-type {\n",
       "        vertical-align: middle;\n",
       "    }\n",
       "\n",
       "    .dataframe tbody tr th {\n",
       "        vertical-align: top;\n",
       "    }\n",
       "\n",
       "    .dataframe thead th {\n",
       "        text-align: right;\n",
       "    }\n",
       "</style>\n",
       "<table border=\"1\" class=\"dataframe\">\n",
       "  <thead>\n",
       "    <tr style=\"text-align: right;\">\n",
       "      <th></th>\n",
       "      <th>children</th>\n",
       "      <th>days_employed</th>\n",
       "      <th>dob_years</th>\n",
       "      <th>education</th>\n",
       "      <th>education_id</th>\n",
       "      <th>family_status</th>\n",
       "      <th>family_status_id</th>\n",
       "      <th>gender</th>\n",
       "      <th>income_type</th>\n",
       "      <th>debt</th>\n",
       "      <th>total_income</th>\n",
       "      <th>purpose</th>\n",
       "      <th>purpose_category</th>\n",
       "      <th>total_income_category</th>\n",
       "    </tr>\n",
       "  </thead>\n",
       "  <tbody>\n",
       "    <tr>\n",
       "      <th>0</th>\n",
       "      <td>1</td>\n",
       "      <td>8437</td>\n",
       "      <td>42</td>\n",
       "      <td>высшее</td>\n",
       "      <td>0</td>\n",
       "      <td>женат / замужем</td>\n",
       "      <td>0</td>\n",
       "      <td>F</td>\n",
       "      <td>сотрудник</td>\n",
       "      <td>0</td>\n",
       "      <td>253875</td>\n",
       "      <td>покупка жилья</td>\n",
       "      <td>операции с недвижимостью</td>\n",
       "      <td>B</td>\n",
       "    </tr>\n",
       "    <tr>\n",
       "      <th>1</th>\n",
       "      <td>1</td>\n",
       "      <td>4024</td>\n",
       "      <td>36</td>\n",
       "      <td>среднее</td>\n",
       "      <td>1</td>\n",
       "      <td>женат / замужем</td>\n",
       "      <td>0</td>\n",
       "      <td>F</td>\n",
       "      <td>сотрудник</td>\n",
       "      <td>0</td>\n",
       "      <td>112080</td>\n",
       "      <td>приобретение автомобиля</td>\n",
       "      <td>операции с автомобилем</td>\n",
       "      <td>C</td>\n",
       "    </tr>\n",
       "    <tr>\n",
       "      <th>2</th>\n",
       "      <td>0</td>\n",
       "      <td>5623</td>\n",
       "      <td>33</td>\n",
       "      <td>среднее</td>\n",
       "      <td>1</td>\n",
       "      <td>женат / замужем</td>\n",
       "      <td>0</td>\n",
       "      <td>M</td>\n",
       "      <td>сотрудник</td>\n",
       "      <td>0</td>\n",
       "      <td>145885</td>\n",
       "      <td>покупка жилья</td>\n",
       "      <td>операции с недвижимостью</td>\n",
       "      <td>C</td>\n",
       "    </tr>\n",
       "    <tr>\n",
       "      <th>3</th>\n",
       "      <td>3</td>\n",
       "      <td>4124</td>\n",
       "      <td>32</td>\n",
       "      <td>среднее</td>\n",
       "      <td>1</td>\n",
       "      <td>женат / замужем</td>\n",
       "      <td>0</td>\n",
       "      <td>M</td>\n",
       "      <td>сотрудник</td>\n",
       "      <td>0</td>\n",
       "      <td>267628</td>\n",
       "      <td>дополнительное образование</td>\n",
       "      <td>получение образования</td>\n",
       "      <td>B</td>\n",
       "    </tr>\n",
       "    <tr>\n",
       "      <th>4</th>\n",
       "      <td>0</td>\n",
       "      <td>340266</td>\n",
       "      <td>53</td>\n",
       "      <td>среднее</td>\n",
       "      <td>1</td>\n",
       "      <td>гражданский брак</td>\n",
       "      <td>1</td>\n",
       "      <td>F</td>\n",
       "      <td>пенсионер</td>\n",
       "      <td>0</td>\n",
       "      <td>158616</td>\n",
       "      <td>сыграть свадьбу</td>\n",
       "      <td>проведение свадьбы</td>\n",
       "      <td>C</td>\n",
       "    </tr>\n",
       "  </tbody>\n",
       "</table>\n",
       "</div>"
      ],
      "text/plain": [
       "   children  days_employed  dob_years education  education_id  \\\n",
       "0         1           8437         42    высшее             0   \n",
       "1         1           4024         36   среднее             1   \n",
       "2         0           5623         33   среднее             1   \n",
       "3         3           4124         32   среднее             1   \n",
       "4         0         340266         53   среднее             1   \n",
       "\n",
       "      family_status  family_status_id gender income_type  debt  total_income  \\\n",
       "0   женат / замужем                 0      F   сотрудник     0        253875   \n",
       "1   женат / замужем                 0      F   сотрудник     0        112080   \n",
       "2   женат / замужем                 0      M   сотрудник     0        145885   \n",
       "3   женат / замужем                 0      M   сотрудник     0        267628   \n",
       "4  гражданский брак                 1      F   пенсионер     0        158616   \n",
       "\n",
       "                      purpose          purpose_category total_income_category  \n",
       "0               покупка жилья  операции с недвижимостью                     B  \n",
       "1     приобретение автомобиля    операции с автомобилем                     C  \n",
       "2               покупка жилья  операции с недвижимостью                     C  \n",
       "3  дополнительное образование     получение образования                     B  \n",
       "4             сыграть свадьбу        проведение свадьбы                     C  "
      ]
     },
     "execution_count": 32,
     "metadata": {},
     "output_type": "execute_result"
    }
   ],
   "source": [
    "# создание столбца 'total_income_category'\n",
    "\n",
    "def total_income_function(total_income):\n",
    "    try:\n",
    "        if total_income <= 30000:\n",
    "            return 'E'\n",
    "        if total_income <= 50000:\n",
    "            return 'D'\n",
    "        if total_income <= 200000:\n",
    "            return 'C'\n",
    "        if total_income <= 1000000:\n",
    "            return 'B'\n",
    "        if total_income > 1000000:\n",
    "            return 'A'\n",
    "    except:\n",
    "        return 'проверить данные'\n",
    "    \n",
    "data['total_income_category'] = data['total_income'].apply(total_income_function)\n",
    "data.head()"
   ]
  },
  {
   "cell_type": "markdown",
   "id": "e9a83c50",
   "metadata": {},
   "source": [
    "### Категоризация целей кредита"
   ]
  },
  {
   "cell_type": "code",
   "execution_count": 33,
   "id": "cb1728a6",
   "metadata": {
    "scrolled": true
   },
   "outputs": [
    {
     "data": {
      "text/html": [
       "<div>\n",
       "<style scoped>\n",
       "    .dataframe tbody tr th:only-of-type {\n",
       "        vertical-align: middle;\n",
       "    }\n",
       "\n",
       "    .dataframe tbody tr th {\n",
       "        vertical-align: top;\n",
       "    }\n",
       "\n",
       "    .dataframe thead th {\n",
       "        text-align: right;\n",
       "    }\n",
       "</style>\n",
       "<table border=\"1\" class=\"dataframe\">\n",
       "  <thead>\n",
       "    <tr style=\"text-align: right;\">\n",
       "      <th>debt</th>\n",
       "      <th>0</th>\n",
       "      <th>1</th>\n",
       "      <th>ratio</th>\n",
       "    </tr>\n",
       "    <tr>\n",
       "      <th>children</th>\n",
       "      <th></th>\n",
       "      <th></th>\n",
       "      <th></th>\n",
       "    </tr>\n",
       "  </thead>\n",
       "  <tbody>\n",
       "    <tr>\n",
       "      <th>0</th>\n",
       "      <td>13028.0</td>\n",
       "      <td>1063.0</td>\n",
       "      <td>8.159349</td>\n",
       "    </tr>\n",
       "    <tr>\n",
       "      <th>1</th>\n",
       "      <td>4410.0</td>\n",
       "      <td>445.0</td>\n",
       "      <td>10.090703</td>\n",
       "    </tr>\n",
       "    <tr>\n",
       "      <th>2</th>\n",
       "      <td>1926.0</td>\n",
       "      <td>202.0</td>\n",
       "      <td>10.488058</td>\n",
       "    </tr>\n",
       "    <tr>\n",
       "      <th>3</th>\n",
       "      <td>303.0</td>\n",
       "      <td>27.0</td>\n",
       "      <td>8.910891</td>\n",
       "    </tr>\n",
       "    <tr>\n",
       "      <th>4</th>\n",
       "      <td>37.0</td>\n",
       "      <td>4.0</td>\n",
       "      <td>10.810811</td>\n",
       "    </tr>\n",
       "    <tr>\n",
       "      <th>5</th>\n",
       "      <td>9.0</td>\n",
       "      <td>NaN</td>\n",
       "      <td>NaN</td>\n",
       "    </tr>\n",
       "  </tbody>\n",
       "</table>\n",
       "</div>"
      ],
      "text/plain": [
       "debt            0       1      ratio\n",
       "children                            \n",
       "0         13028.0  1063.0   8.159349\n",
       "1          4410.0   445.0  10.090703\n",
       "2          1926.0   202.0  10.488058\n",
       "3           303.0    27.0   8.910891\n",
       "4            37.0     4.0  10.810811\n",
       "5             9.0     NaN        NaN"
      ]
     },
     "execution_count": 33,
     "metadata": {},
     "output_type": "execute_result"
    }
   ],
   "source": [
    "# сводная таблица зависимости между количеством детей и возвратом кредита в срок\n",
    "data_children_debt = data.pivot_table(index = 'children', columns = 'debt', values = 'days_employed', aggfunc='count')\n",
    "data_children_debt['ratio'] = data_children_debt[1]/data_children_debt[0]*100\n",
    "data_children_debt"
   ]
  },
  {
   "cell_type": "code",
   "execution_count": 34,
   "id": "19fc30df",
   "metadata": {
    "scrolled": true
   },
   "outputs": [
    {
     "data": {
      "text/html": [
       "<div>\n",
       "<style scoped>\n",
       "    .dataframe tbody tr th:only-of-type {\n",
       "        vertical-align: middle;\n",
       "    }\n",
       "\n",
       "    .dataframe tbody tr th {\n",
       "        vertical-align: top;\n",
       "    }\n",
       "\n",
       "    .dataframe thead th {\n",
       "        text-align: right;\n",
       "    }\n",
       "</style>\n",
       "<table border=\"1\" class=\"dataframe\">\n",
       "  <thead>\n",
       "    <tr style=\"text-align: right;\">\n",
       "      <th>debt</th>\n",
       "      <th>0</th>\n",
       "      <th>1</th>\n",
       "      <th>ratio</th>\n",
       "    </tr>\n",
       "    <tr>\n",
       "      <th>family_status</th>\n",
       "      <th></th>\n",
       "      <th></th>\n",
       "      <th></th>\n",
       "    </tr>\n",
       "  </thead>\n",
       "  <tbody>\n",
       "    <tr>\n",
       "      <th>Не женат / не замужем</th>\n",
       "      <td>2536</td>\n",
       "      <td>274</td>\n",
       "      <td>10.804416</td>\n",
       "    </tr>\n",
       "    <tr>\n",
       "      <th>в разводе</th>\n",
       "      <td>1110</td>\n",
       "      <td>85</td>\n",
       "      <td>7.657658</td>\n",
       "    </tr>\n",
       "    <tr>\n",
       "      <th>вдовец / вдова</th>\n",
       "      <td>896</td>\n",
       "      <td>63</td>\n",
       "      <td>7.031250</td>\n",
       "    </tr>\n",
       "    <tr>\n",
       "      <th>гражданский брак</th>\n",
       "      <td>3763</td>\n",
       "      <td>388</td>\n",
       "      <td>10.310922</td>\n",
       "    </tr>\n",
       "    <tr>\n",
       "      <th>женат / замужем</th>\n",
       "      <td>11408</td>\n",
       "      <td>931</td>\n",
       "      <td>8.160940</td>\n",
       "    </tr>\n",
       "  </tbody>\n",
       "</table>\n",
       "</div>"
      ],
      "text/plain": [
       "debt                       0    1      ratio\n",
       "family_status                               \n",
       "Не женат / не замужем   2536  274  10.804416\n",
       "в разводе               1110   85   7.657658\n",
       "вдовец / вдова           896   63   7.031250\n",
       "гражданский брак        3763  388  10.310922\n",
       "женат / замужем        11408  931   8.160940"
      ]
     },
     "execution_count": 34,
     "metadata": {},
     "output_type": "execute_result"
    }
   ],
   "source": [
    "# сводная таблица зависимости между семейным положением и возвратом кредита в срок\n",
    "data_family_status_debt = data.pivot_table(index ='family_status', columns = 'debt',\\\n",
    "                                           values = 'days_employed', aggfunc='count')\n",
    "data_family_status_debt['ratio'] = data_family_status_debt[1]/data_family_status_debt[0]*100\n",
    "data_family_status_debt"
   ]
  },
  {
   "cell_type": "code",
   "execution_count": 35,
   "id": "d71e5a8c",
   "metadata": {},
   "outputs": [
    {
     "data": {
      "text/html": [
       "<div>\n",
       "<style scoped>\n",
       "    .dataframe tbody tr th:only-of-type {\n",
       "        vertical-align: middle;\n",
       "    }\n",
       "\n",
       "    .dataframe tbody tr th {\n",
       "        vertical-align: top;\n",
       "    }\n",
       "\n",
       "    .dataframe thead th {\n",
       "        text-align: right;\n",
       "    }\n",
       "</style>\n",
       "<table border=\"1\" class=\"dataframe\">\n",
       "  <thead>\n",
       "    <tr style=\"text-align: right;\">\n",
       "      <th>debt</th>\n",
       "      <th>0</th>\n",
       "      <th>1</th>\n",
       "      <th>ratio</th>\n",
       "    </tr>\n",
       "    <tr>\n",
       "      <th>total_income_category</th>\n",
       "      <th></th>\n",
       "      <th></th>\n",
       "      <th></th>\n",
       "    </tr>\n",
       "  </thead>\n",
       "  <tbody>\n",
       "    <tr>\n",
       "      <th>A</th>\n",
       "      <td>23</td>\n",
       "      <td>2</td>\n",
       "      <td>8.695652</td>\n",
       "    </tr>\n",
       "    <tr>\n",
       "      <th>B</th>\n",
       "      <td>4686</td>\n",
       "      <td>356</td>\n",
       "      <td>7.597098</td>\n",
       "    </tr>\n",
       "    <tr>\n",
       "      <th>C</th>\n",
       "      <td>14655</td>\n",
       "      <td>1360</td>\n",
       "      <td>9.280109</td>\n",
       "    </tr>\n",
       "    <tr>\n",
       "      <th>D</th>\n",
       "      <td>329</td>\n",
       "      <td>21</td>\n",
       "      <td>6.382979</td>\n",
       "    </tr>\n",
       "    <tr>\n",
       "      <th>E</th>\n",
       "      <td>20</td>\n",
       "      <td>2</td>\n",
       "      <td>10.000000</td>\n",
       "    </tr>\n",
       "  </tbody>\n",
       "</table>\n",
       "</div>"
      ],
      "text/plain": [
       "debt                       0     1      ratio\n",
       "total_income_category                        \n",
       "A                         23     2   8.695652\n",
       "B                       4686   356   7.597098\n",
       "C                      14655  1360   9.280109\n",
       "D                        329    21   6.382979\n",
       "E                         20     2  10.000000"
      ]
     },
     "execution_count": 35,
     "metadata": {},
     "output_type": "execute_result"
    }
   ],
   "source": [
    "# сводная таблица зависимости между уровнем дохода и возвратом кредита в срок\n",
    "data_total_income_debt = data.pivot_table(index = 'total_income_category',\\\n",
    "                                          columns = 'debt', values = 'days_employed', aggfunc='count')\n",
    "data_total_income_debt['ratio'] = data_total_income_debt[1]/data_total_income_debt[0]*100\n",
    "data_total_income_debt"
   ]
  },
  {
   "cell_type": "code",
   "execution_count": 36,
   "id": "fdc3d106",
   "metadata": {
    "scrolled": true
   },
   "outputs": [
    {
     "data": {
      "text/html": [
       "<div>\n",
       "<style scoped>\n",
       "    .dataframe tbody tr th:only-of-type {\n",
       "        vertical-align: middle;\n",
       "    }\n",
       "\n",
       "    .dataframe tbody tr th {\n",
       "        vertical-align: top;\n",
       "    }\n",
       "\n",
       "    .dataframe thead th {\n",
       "        text-align: right;\n",
       "    }\n",
       "</style>\n",
       "<table border=\"1\" class=\"dataframe\">\n",
       "  <thead>\n",
       "    <tr style=\"text-align: right;\">\n",
       "      <th>debt</th>\n",
       "      <th>0</th>\n",
       "      <th>1</th>\n",
       "      <th>ratio</th>\n",
       "    </tr>\n",
       "    <tr>\n",
       "      <th>purpose_category</th>\n",
       "      <th></th>\n",
       "      <th></th>\n",
       "      <th></th>\n",
       "    </tr>\n",
       "  </thead>\n",
       "  <tbody>\n",
       "    <tr>\n",
       "      <th>операции с автомобилем</th>\n",
       "      <td>3903</td>\n",
       "      <td>403</td>\n",
       "      <td>10.325391</td>\n",
       "    </tr>\n",
       "    <tr>\n",
       "      <th>операции с недвижимостью</th>\n",
       "      <td>10029</td>\n",
       "      <td>782</td>\n",
       "      <td>7.797388</td>\n",
       "    </tr>\n",
       "    <tr>\n",
       "      <th>получение образования</th>\n",
       "      <td>3643</td>\n",
       "      <td>370</td>\n",
       "      <td>10.156464</td>\n",
       "    </tr>\n",
       "    <tr>\n",
       "      <th>проведение свадьбы</th>\n",
       "      <td>2138</td>\n",
       "      <td>186</td>\n",
       "      <td>8.699719</td>\n",
       "    </tr>\n",
       "  </tbody>\n",
       "</table>\n",
       "</div>"
      ],
      "text/plain": [
       "debt                          0    1      ratio\n",
       "purpose_category                               \n",
       "операции с автомобилем     3903  403  10.325391\n",
       "операции с недвижимостью  10029  782   7.797388\n",
       "получение образования      3643  370  10.156464\n",
       "проведение свадьбы         2138  186   8.699719"
      ]
     },
     "execution_count": 36,
     "metadata": {},
     "output_type": "execute_result"
    }
   ],
   "source": [
    "# сводная таблица зависимости между целями кредита и его возвратом в срок\n",
    "data_purpose_dept = data.pivot_table(index = 'purpose_category', columns = 'debt',\\\n",
    "                                     values = 'days_employed', aggfunc='count')\n",
    "data_purpose_dept['ratio'] = data_purpose_dept[1]/data_purpose_dept[0]*100\n",
    "data_purpose_dept"
   ]
  },
  {
   "cell_type": "markdown",
   "id": "f11762e8",
   "metadata": {},
   "source": [
    "## Вывод"
   ]
  },
  {
   "cell_type": "markdown",
   "id": "d5573286",
   "metadata": {},
   "source": [
    "В ходе проведения исследования мы изучили влияние количества детей, семейного положения, уровеня дохода и цели кредита на платежеспособность клиентов. Основание для исследования являются входные данные от банка - статистика платежеспособности клиентов. \n",
    "\n",
    "Данные прошли необходимую предобработку, в ходе которой были найдены и устранены такие проблемы, как: пропуски, аномалии, дубликаты, изменение типов данных.\n",
    "\n",
    "Данные были разбиты на определенные группы - категории, составлены итоговые сводные таблицы, которые помогли ответить на основые вопросы исследования, а именно:\n",
    "\n",
    "- бездетные клиенты имееют меньший процент по просрочке кредитов, являясь более платежеспособными среди остальных. Клиенты, имеющие в семье по 4 ребенка, чаще всех имеют задолженность;\n",
    "\n",
    "- вдовы и вдовцы, а также клиенты, находящиеся в разводе, стараются погашать кредиты в срок, что нельзя сказать о неженатых и незамужних клиентах;\n",
    "\n",
    "- меньшую задолженность по кредитам имеют клиенты с невысоким доходом - от 30 до 50 тысяч рублей. Клиенты с доходом от 50 до 200 тысяч рублей и более 1 млн, чаще остальных не платят кредиты в срок;\n",
    "\n",
    "- клиенты, имеющие кредиты на покупку недвижимости, стараются гасить платежи в срок. Задержку по платежам имеют лица, взявшие кредиты на покупку автомобилей и получение образования.\n",
    "\n",
    "Таким образом, для банка наиболее привлекательными с точки зрения платежеспособности являются клиенты без детей, лица, находящиеся в разводе, вдовы или вдовцы, имеющие доход от 30 до 50 тысяч рублей. \n",
    "\n",
    "Результаты данного исследования могут быть учтены при построении специальной системы, которая будет оценивать способность потенциального заемщика вернуть кредит в срок."
   ]
  }
 ],
 "metadata": {
  "ExecuteTimeLog": [
   {
    "duration": 46,
    "start_time": "2022-04-25T07:18:03.518Z"
   },
   {
    "duration": 407,
    "start_time": "2022-04-25T07:18:36.759Z"
   },
   {
    "duration": 70,
    "start_time": "2022-04-25T07:18:43.476Z"
   },
   {
    "duration": 2,
    "start_time": "2022-04-25T07:27:15.737Z"
   },
   {
    "duration": 59,
    "start_time": "2022-04-25T07:29:40.332Z"
   },
   {
    "duration": 19,
    "start_time": "2022-04-25T07:29:52.020Z"
   },
   {
    "duration": 13,
    "start_time": "2022-04-25T07:30:15.263Z"
   },
   {
    "duration": 18,
    "start_time": "2022-04-25T07:34:12.393Z"
   },
   {
    "duration": 11,
    "start_time": "2022-04-25T07:34:22.571Z"
   },
   {
    "duration": 14,
    "start_time": "2022-04-25T07:35:02.088Z"
   },
   {
    "duration": 28,
    "start_time": "2022-04-25T08:07:04.968Z"
   },
   {
    "duration": 14,
    "start_time": "2022-04-25T08:07:11.484Z"
   },
   {
    "duration": 7,
    "start_time": "2022-04-25T08:07:13.549Z"
   },
   {
    "duration": 4,
    "start_time": "2022-04-25T08:07:26.425Z"
   },
   {
    "duration": 10,
    "start_time": "2022-04-25T08:08:31.438Z"
   },
   {
    "duration": 4,
    "start_time": "2022-04-25T08:30:08.720Z"
   },
   {
    "duration": 3,
    "start_time": "2022-04-25T08:35:50.796Z"
   },
   {
    "duration": 91,
    "start_time": "2022-04-25T08:38:00.287Z"
   },
   {
    "duration": 90,
    "start_time": "2022-04-25T08:38:18.461Z"
   },
   {
    "duration": 90,
    "start_time": "2022-04-25T08:38:25.534Z"
   },
   {
    "duration": 8,
    "start_time": "2022-04-25T08:38:53.390Z"
   },
   {
    "duration": 8,
    "start_time": "2022-04-25T08:39:02.494Z"
   },
   {
    "duration": 9,
    "start_time": "2022-04-25T08:39:13.535Z"
   },
   {
    "duration": 101,
    "start_time": "2022-04-25T08:42:32.576Z"
   },
   {
    "duration": 5,
    "start_time": "2022-04-25T08:48:04.043Z"
   },
   {
    "duration": 4,
    "start_time": "2022-04-25T08:57:01.311Z"
   },
   {
    "duration": 103,
    "start_time": "2022-04-25T08:58:43.842Z"
   },
   {
    "duration": 5,
    "start_time": "2022-04-25T08:59:06.275Z"
   },
   {
    "duration": 5,
    "start_time": "2022-04-25T09:45:49.415Z"
   },
   {
    "duration": 6,
    "start_time": "2022-04-25T09:46:31.364Z"
   },
   {
    "duration": 9,
    "start_time": "2022-04-25T09:46:44.839Z"
   },
   {
    "duration": 8,
    "start_time": "2022-04-25T09:48:11.500Z"
   },
   {
    "duration": 7,
    "start_time": "2022-04-25T09:49:40.361Z"
   },
   {
    "duration": 9,
    "start_time": "2022-04-25T09:50:09.405Z"
   },
   {
    "duration": 5,
    "start_time": "2022-04-25T09:53:45.857Z"
   },
   {
    "duration": 6,
    "start_time": "2022-04-25T09:57:11.143Z"
   },
   {
    "duration": 6,
    "start_time": "2022-04-25T09:57:17.323Z"
   },
   {
    "duration": 7,
    "start_time": "2022-04-25T09:57:24.759Z"
   },
   {
    "duration": 4,
    "start_time": "2022-04-25T09:57:32.554Z"
   },
   {
    "duration": 4,
    "start_time": "2022-04-25T09:59:47.138Z"
   },
   {
    "duration": 12,
    "start_time": "2022-04-25T09:59:54.719Z"
   },
   {
    "duration": 9,
    "start_time": "2022-04-25T10:00:42.249Z"
   },
   {
    "duration": 9,
    "start_time": "2022-04-25T10:01:38.446Z"
   },
   {
    "duration": 9,
    "start_time": "2022-04-25T10:01:53.568Z"
   },
   {
    "duration": 3,
    "start_time": "2022-04-25T10:02:08.773Z"
   },
   {
    "duration": 57,
    "start_time": "2022-04-25T10:02:10.454Z"
   },
   {
    "duration": 13,
    "start_time": "2022-04-25T10:02:11.969Z"
   },
   {
    "duration": 16,
    "start_time": "2022-04-25T10:02:15.051Z"
   },
   {
    "duration": 10,
    "start_time": "2022-04-25T10:02:17.185Z"
   },
   {
    "duration": 4,
    "start_time": "2022-04-25T10:02:20.733Z"
   },
   {
    "duration": 6,
    "start_time": "2022-04-25T10:02:23.935Z"
   },
   {
    "duration": 3,
    "start_time": "2022-04-25T10:02:28.315Z"
   },
   {
    "duration": 16,
    "start_time": "2022-04-25T10:03:19.385Z"
   },
   {
    "duration": 7,
    "start_time": "2022-04-25T10:05:11.792Z"
   },
   {
    "duration": 15,
    "start_time": "2022-04-25T10:05:18.308Z"
   },
   {
    "duration": 3,
    "start_time": "2022-04-25T10:05:31.462Z"
   },
   {
    "duration": 6,
    "start_time": "2022-04-25T10:07:30.715Z"
   },
   {
    "duration": 4,
    "start_time": "2022-04-25T10:08:20.157Z"
   },
   {
    "duration": 6,
    "start_time": "2022-04-25T10:08:45.822Z"
   },
   {
    "duration": 6,
    "start_time": "2022-04-25T10:09:04.461Z"
   },
   {
    "duration": 12,
    "start_time": "2022-04-25T10:09:20.586Z"
   },
   {
    "duration": 8,
    "start_time": "2022-04-25T10:22:48.206Z"
   },
   {
    "duration": 4,
    "start_time": "2022-04-25T10:23:10.350Z"
   },
   {
    "duration": 9,
    "start_time": "2022-04-25T10:23:11.927Z"
   },
   {
    "duration": 4,
    "start_time": "2022-04-25T10:23:15.110Z"
   },
   {
    "duration": 10,
    "start_time": "2022-04-25T10:27:18.733Z"
   },
   {
    "duration": 9,
    "start_time": "2022-04-25T10:27:21.919Z"
   },
   {
    "duration": 7,
    "start_time": "2022-04-25T10:27:27.309Z"
   },
   {
    "duration": 7,
    "start_time": "2022-04-25T10:27:49.465Z"
   },
   {
    "duration": 4,
    "start_time": "2022-04-25T10:27:51.022Z"
   },
   {
    "duration": 7,
    "start_time": "2022-04-25T10:27:52.874Z"
   },
   {
    "duration": 4,
    "start_time": "2022-04-25T10:27:54.747Z"
   },
   {
    "duration": 7,
    "start_time": "2022-04-25T10:47:33.490Z"
   },
   {
    "duration": 8,
    "start_time": "2022-04-25T10:49:13.215Z"
   },
   {
    "duration": 6,
    "start_time": "2022-04-25T10:49:23.427Z"
   },
   {
    "duration": 7,
    "start_time": "2022-04-25T10:54:49.113Z"
   },
   {
    "duration": 8,
    "start_time": "2022-04-25T10:56:15.985Z"
   },
   {
    "duration": 7,
    "start_time": "2022-04-25T10:56:31.043Z"
   },
   {
    "duration": 15,
    "start_time": "2022-04-25T11:01:53.773Z"
   },
   {
    "duration": 7,
    "start_time": "2022-04-25T11:06:48.738Z"
   },
   {
    "duration": 7,
    "start_time": "2022-04-25T11:07:18.512Z"
   },
   {
    "duration": 6,
    "start_time": "2022-04-25T11:07:24.547Z"
   },
   {
    "duration": 7,
    "start_time": "2022-04-25T11:07:30.785Z"
   },
   {
    "duration": 21,
    "start_time": "2022-04-25T11:13:46.957Z"
   },
   {
    "duration": 15,
    "start_time": "2022-04-25T11:15:44.399Z"
   },
   {
    "duration": 9,
    "start_time": "2022-04-25T11:16:27.386Z"
   },
   {
    "duration": 7,
    "start_time": "2022-04-25T11:16:30.730Z"
   },
   {
    "duration": 8,
    "start_time": "2022-04-25T11:45:42.162Z"
   },
   {
    "duration": 10,
    "start_time": "2022-04-25T11:47:26.447Z"
   },
   {
    "duration": 68,
    "start_time": "2022-04-25T11:47:26.459Z"
   },
   {
    "duration": 15,
    "start_time": "2022-04-25T11:47:26.528Z"
   },
   {
    "duration": 12440,
    "start_time": "2022-04-25T11:47:52.717Z"
   },
   {
    "duration": 8,
    "start_time": "2022-04-25T11:58:03.793Z"
   },
   {
    "duration": 7390,
    "start_time": "2022-04-25T11:58:13.043Z"
   },
   {
    "duration": 7205,
    "start_time": "2022-04-25T11:58:30.041Z"
   },
   {
    "duration": 121,
    "start_time": "2022-04-25T11:58:58.773Z"
   },
   {
    "duration": 44328,
    "start_time": "2022-04-25T11:59:15.793Z"
   },
   {
    "duration": 14,
    "start_time": "2022-04-25T12:01:18.803Z"
   },
   {
    "duration": 287,
    "start_time": "2022-04-25T12:02:32.165Z"
   },
   {
    "duration": 8,
    "start_time": "2022-04-25T12:06:06.179Z"
   },
   {
    "duration": 10,
    "start_time": "2022-04-25T12:06:42.533Z"
   },
   {
    "duration": 19,
    "start_time": "2022-04-25T12:13:54.438Z"
   },
   {
    "duration": 17,
    "start_time": "2022-04-25T12:14:02.337Z"
   },
   {
    "duration": 18,
    "start_time": "2022-04-25T12:17:46.452Z"
   },
   {
    "duration": 35,
    "start_time": "2022-04-25T12:17:49.865Z"
   },
   {
    "duration": 38,
    "start_time": "2022-04-25T12:20:05.817Z"
   },
   {
    "duration": 7,
    "start_time": "2022-04-25T12:26:33.915Z"
   },
   {
    "duration": 14,
    "start_time": "2022-04-25T12:29:35.800Z"
   },
   {
    "duration": 15,
    "start_time": "2022-04-25T12:35:09.820Z"
   },
   {
    "duration": 5,
    "start_time": "2022-04-25T12:35:34.478Z"
   },
   {
    "duration": 7,
    "start_time": "2022-04-25T12:36:56.699Z"
   },
   {
    "duration": 9,
    "start_time": "2022-04-25T12:38:38.855Z"
   },
   {
    "duration": 9,
    "start_time": "2022-04-25T12:38:49.770Z"
   },
   {
    "duration": 9,
    "start_time": "2022-04-25T12:39:08.133Z"
   },
   {
    "duration": 12,
    "start_time": "2022-04-25T12:39:33.246Z"
   },
   {
    "duration": 12,
    "start_time": "2022-04-25T12:39:38.083Z"
   },
   {
    "duration": 7,
    "start_time": "2022-04-25T12:40:00.729Z"
   },
   {
    "duration": 7,
    "start_time": "2022-04-25T12:40:38.715Z"
   },
   {
    "duration": 13,
    "start_time": "2022-04-25T12:41:14.002Z"
   },
   {
    "duration": 8,
    "start_time": "2022-04-25T12:42:17.979Z"
   },
   {
    "duration": 20,
    "start_time": "2022-04-25T12:43:53.197Z"
   },
   {
    "duration": 15,
    "start_time": "2022-04-25T12:44:03.982Z"
   },
   {
    "duration": 6,
    "start_time": "2022-04-25T12:46:07.973Z"
   },
   {
    "duration": 10,
    "start_time": "2022-04-25T12:46:16.959Z"
   },
   {
    "duration": 5,
    "start_time": "2022-04-25T12:59:49.805Z"
   },
   {
    "duration": 29,
    "start_time": "2022-04-25T13:25:22.801Z"
   },
   {
    "duration": 10,
    "start_time": "2022-04-25T13:25:35.854Z"
   },
   {
    "duration": 6,
    "start_time": "2022-04-25T13:27:22.131Z"
   },
   {
    "duration": 6,
    "start_time": "2022-04-25T13:27:28.758Z"
   },
   {
    "duration": 9,
    "start_time": "2022-04-25T13:27:36.739Z"
   },
   {
    "duration": 9,
    "start_time": "2022-04-25T13:28:29.597Z"
   },
   {
    "duration": 9,
    "start_time": "2022-04-25T13:29:14.294Z"
   },
   {
    "duration": 9,
    "start_time": "2022-04-25T13:29:32.314Z"
   },
   {
    "duration": 23,
    "start_time": "2022-04-25T13:33:45.247Z"
   },
   {
    "duration": 17,
    "start_time": "2022-04-25T13:34:33.992Z"
   },
   {
    "duration": 14,
    "start_time": "2022-04-25T13:35:21.770Z"
   },
   {
    "duration": 50,
    "start_time": "2022-04-25T13:35:55.417Z"
   },
   {
    "duration": 6,
    "start_time": "2022-04-25T13:39:20.332Z"
   },
   {
    "duration": 382,
    "start_time": "2022-04-25T13:39:30.252Z"
   },
   {
    "duration": 63,
    "start_time": "2022-04-25T13:39:31.685Z"
   },
   {
    "duration": 24,
    "start_time": "2022-04-25T13:39:32.421Z"
   },
   {
    "duration": 16,
    "start_time": "2022-04-25T13:39:35.881Z"
   },
   {
    "duration": 10,
    "start_time": "2022-04-25T13:39:37.855Z"
   },
   {
    "duration": 5,
    "start_time": "2022-04-25T13:39:40.185Z"
   },
   {
    "duration": 5,
    "start_time": "2022-04-25T13:39:44.139Z"
   },
   {
    "duration": 7,
    "start_time": "2022-04-25T13:39:46.607Z"
   },
   {
    "duration": 11,
    "start_time": "2022-04-25T13:43:33.208Z"
   },
   {
    "duration": 10,
    "start_time": "2022-04-25T13:44:25.950Z"
   },
   {
    "duration": 7,
    "start_time": "2022-04-25T13:45:12.288Z"
   },
   {
    "duration": 7,
    "start_time": "2022-04-25T13:45:31.235Z"
   },
   {
    "duration": 549,
    "start_time": "2022-04-26T04:16:40.081Z"
   },
   {
    "duration": 79,
    "start_time": "2022-04-26T04:16:41.898Z"
   },
   {
    "duration": 35,
    "start_time": "2022-04-26T04:16:43.581Z"
   },
   {
    "duration": 23,
    "start_time": "2022-04-26T04:16:47.352Z"
   },
   {
    "duration": 15,
    "start_time": "2022-04-26T04:16:49.433Z"
   },
   {
    "duration": 6,
    "start_time": "2022-04-26T04:17:02.188Z"
   },
   {
    "duration": 8,
    "start_time": "2022-04-26T04:17:05.412Z"
   },
   {
    "duration": 7,
    "start_time": "2022-04-26T04:34:37.886Z"
   },
   {
    "duration": 9,
    "start_time": "2022-04-26T04:40:09.005Z"
   },
   {
    "duration": 5,
    "start_time": "2022-04-26T04:40:15.668Z"
   },
   {
    "duration": 10,
    "start_time": "2022-04-26T04:40:18.838Z"
   },
   {
    "duration": 8,
    "start_time": "2022-04-26T04:40:44.450Z"
   },
   {
    "duration": 122,
    "start_time": "2022-04-26T04:43:58.400Z"
   },
   {
    "duration": 100,
    "start_time": "2022-04-26T04:44:11.797Z"
   },
   {
    "duration": 5,
    "start_time": "2022-04-26T04:44:23.785Z"
   },
   {
    "duration": 8,
    "start_time": "2022-04-26T04:48:10.693Z"
   },
   {
    "duration": 53,
    "start_time": "2022-04-26T04:49:10.118Z"
   },
   {
    "duration": 6,
    "start_time": "2022-04-26T04:50:14.313Z"
   },
   {
    "duration": 11,
    "start_time": "2022-04-26T05:03:22.565Z"
   },
   {
    "duration": 9,
    "start_time": "2022-04-26T05:28:21.081Z"
   },
   {
    "duration": 9,
    "start_time": "2022-04-26T05:45:42.972Z"
   },
   {
    "duration": 8,
    "start_time": "2022-04-26T05:45:58.387Z"
   },
   {
    "duration": 42,
    "start_time": "2022-04-26T05:49:29.049Z"
   },
   {
    "duration": 41,
    "start_time": "2022-04-26T05:49:40.840Z"
   },
   {
    "duration": 6,
    "start_time": "2022-04-26T06:45:10.183Z"
   },
   {
    "duration": 5,
    "start_time": "2022-04-26T06:50:10.493Z"
   },
   {
    "duration": 9,
    "start_time": "2022-04-26T06:57:34.321Z"
   },
   {
    "duration": 612,
    "start_time": "2022-04-26T06:57:39.070Z"
   },
   {
    "duration": 738,
    "start_time": "2022-04-26T07:03:45.850Z"
   },
   {
    "duration": 8,
    "start_time": "2022-04-26T07:04:03.156Z"
   },
   {
    "duration": 174,
    "start_time": "2022-04-26T07:04:13.149Z"
   },
   {
    "duration": 10,
    "start_time": "2022-04-26T07:04:20.450Z"
   },
   {
    "duration": 16,
    "start_time": "2022-04-26T07:05:53.927Z"
   },
   {
    "duration": 38,
    "start_time": "2022-04-26T07:12:49.800Z"
   },
   {
    "duration": 37,
    "start_time": "2022-04-26T07:13:14.484Z"
   },
   {
    "duration": 29,
    "start_time": "2022-04-26T07:16:01.744Z"
   },
   {
    "duration": 7,
    "start_time": "2022-04-26T07:16:07.788Z"
   },
   {
    "duration": 6,
    "start_time": "2022-04-26T07:17:57.037Z"
   },
   {
    "duration": 16,
    "start_time": "2022-04-26T07:20:58.301Z"
   },
   {
    "duration": 14,
    "start_time": "2022-04-26T07:30:31.162Z"
   },
   {
    "duration": 12,
    "start_time": "2022-04-26T07:31:28.316Z"
   },
   {
    "duration": 11,
    "start_time": "2022-04-26T07:36:19.461Z"
   },
   {
    "duration": 11,
    "start_time": "2022-04-26T07:37:43.786Z"
   },
   {
    "duration": 126,
    "start_time": "2022-04-26T07:39:29.603Z"
   },
   {
    "duration": 10,
    "start_time": "2022-04-26T07:39:47.428Z"
   },
   {
    "duration": 10,
    "start_time": "2022-04-26T07:40:06.303Z"
   },
   {
    "duration": 12,
    "start_time": "2022-04-26T07:40:35.046Z"
   },
   {
    "duration": 11,
    "start_time": "2022-04-26T07:41:17.692Z"
   },
   {
    "duration": 13,
    "start_time": "2022-04-26T07:44:14.405Z"
   },
   {
    "duration": 10,
    "start_time": "2022-04-26T07:44:44.378Z"
   },
   {
    "duration": 10,
    "start_time": "2022-04-26T07:46:20.519Z"
   },
   {
    "duration": 11,
    "start_time": "2022-04-26T07:49:34.174Z"
   },
   {
    "duration": 10,
    "start_time": "2022-04-26T07:49:47.134Z"
   },
   {
    "duration": 8,
    "start_time": "2022-04-26T07:52:34.510Z"
   },
   {
    "duration": 7,
    "start_time": "2022-04-26T07:52:57.869Z"
   },
   {
    "duration": 8,
    "start_time": "2022-04-26T07:54:32.066Z"
   },
   {
    "duration": 10,
    "start_time": "2022-04-26T07:54:57.412Z"
   },
   {
    "duration": 5,
    "start_time": "2022-04-26T07:55:33.171Z"
   },
   {
    "duration": 9,
    "start_time": "2022-04-26T07:55:47.749Z"
   },
   {
    "duration": 132,
    "start_time": "2022-04-26T08:03:44.211Z"
   },
   {
    "duration": 38,
    "start_time": "2022-04-26T08:03:57.041Z"
   },
   {
    "duration": 141,
    "start_time": "2022-04-26T08:04:25.220Z"
   },
   {
    "duration": 13,
    "start_time": "2022-04-26T08:04:31.424Z"
   },
   {
    "duration": 9,
    "start_time": "2022-04-26T08:08:43.235Z"
   },
   {
    "duration": 544,
    "start_time": "2022-04-26T08:17:09.532Z"
   },
   {
    "duration": 582,
    "start_time": "2022-04-26T08:17:20.942Z"
   },
   {
    "duration": 9,
    "start_time": "2022-04-26T08:23:54.394Z"
   },
   {
    "duration": 9,
    "start_time": "2022-04-26T08:24:03.715Z"
   },
   {
    "duration": 11,
    "start_time": "2022-04-26T08:24:23.617Z"
   },
   {
    "duration": 33,
    "start_time": "2022-04-26T08:24:33.538Z"
   },
   {
    "duration": 10,
    "start_time": "2022-04-26T08:24:43.566Z"
   },
   {
    "duration": 13,
    "start_time": "2022-04-26T08:25:09.926Z"
   },
   {
    "duration": 9,
    "start_time": "2022-04-26T08:25:27.388Z"
   },
   {
    "duration": 18,
    "start_time": "2022-04-26T08:26:52.595Z"
   },
   {
    "duration": 17,
    "start_time": "2022-04-26T08:27:00.919Z"
   },
   {
    "duration": 18,
    "start_time": "2022-04-26T08:27:05.204Z"
   },
   {
    "duration": 72,
    "start_time": "2022-04-26T08:27:17.044Z"
   },
   {
    "duration": 17,
    "start_time": "2022-04-26T08:27:21.997Z"
   },
   {
    "duration": 16,
    "start_time": "2022-04-26T08:27:36.344Z"
   },
   {
    "duration": 3,
    "start_time": "2022-04-26T08:28:27.384Z"
   },
   {
    "duration": 86,
    "start_time": "2022-04-26T08:28:28.778Z"
   },
   {
    "duration": 24,
    "start_time": "2022-04-26T08:28:30.197Z"
   },
   {
    "duration": 21,
    "start_time": "2022-04-26T08:28:33.390Z"
   },
   {
    "duration": 20,
    "start_time": "2022-04-26T08:28:35.484Z"
   },
   {
    "duration": 6,
    "start_time": "2022-04-26T08:28:38.604Z"
   },
   {
    "duration": 9,
    "start_time": "2022-04-26T08:28:41.363Z"
   },
   {
    "duration": 10,
    "start_time": "2022-04-26T08:28:45.308Z"
   },
   {
    "duration": 15,
    "start_time": "2022-04-26T08:28:47.473Z"
   },
   {
    "duration": 18,
    "start_time": "2022-04-26T08:28:51.787Z"
   },
   {
    "duration": 19,
    "start_time": "2022-04-26T08:29:13.228Z"
   },
   {
    "duration": 11,
    "start_time": "2022-04-26T08:31:15.138Z"
   },
   {
    "duration": 9,
    "start_time": "2022-04-26T08:31:28.995Z"
   },
   {
    "duration": 9,
    "start_time": "2022-04-26T08:32:36.225Z"
   },
   {
    "duration": 13,
    "start_time": "2022-04-26T08:32:54.855Z"
   },
   {
    "duration": 7,
    "start_time": "2022-04-26T08:33:20.402Z"
   },
   {
    "duration": 14,
    "start_time": "2022-04-26T08:39:37.645Z"
   },
   {
    "duration": 13,
    "start_time": "2022-04-26T08:40:01.667Z"
   },
   {
    "duration": 16,
    "start_time": "2022-04-26T08:40:07.146Z"
   },
   {
    "duration": 7,
    "start_time": "2022-04-26T08:40:38.816Z"
   },
   {
    "duration": 21,
    "start_time": "2022-04-26T08:40:49.244Z"
   },
   {
    "duration": 10,
    "start_time": "2022-04-26T08:41:32.456Z"
   },
   {
    "duration": 15,
    "start_time": "2022-04-26T08:41:43.726Z"
   },
   {
    "duration": 5,
    "start_time": "2022-04-26T08:41:49.063Z"
   },
   {
    "duration": 111,
    "start_time": "2022-04-26T08:41:50.693Z"
   },
   {
    "duration": 26,
    "start_time": "2022-04-26T08:41:52.145Z"
   },
   {
    "duration": 21,
    "start_time": "2022-04-26T08:41:54.283Z"
   },
   {
    "duration": 14,
    "start_time": "2022-04-26T08:41:56.241Z"
   },
   {
    "duration": 7,
    "start_time": "2022-04-26T08:41:58.967Z"
   },
   {
    "duration": 7,
    "start_time": "2022-04-26T08:42:01.477Z"
   },
   {
    "duration": 14,
    "start_time": "2022-04-26T08:42:03.799Z"
   },
   {
    "duration": 12,
    "start_time": "2022-04-26T08:42:06.008Z"
   },
   {
    "duration": 11,
    "start_time": "2022-04-26T08:42:29.355Z"
   },
   {
    "duration": 21,
    "start_time": "2022-04-26T08:42:31.210Z"
   },
   {
    "duration": 8,
    "start_time": "2022-04-26T08:42:44.608Z"
   },
   {
    "duration": 6,
    "start_time": "2022-04-26T08:43:51.109Z"
   },
   {
    "duration": 8,
    "start_time": "2022-04-26T08:44:48.375Z"
   },
   {
    "duration": 14,
    "start_time": "2022-04-26T09:08:58.152Z"
   },
   {
    "duration": 13,
    "start_time": "2022-04-26T09:11:10.582Z"
   },
   {
    "duration": 26,
    "start_time": "2022-04-26T09:19:14.566Z"
   },
   {
    "duration": 23,
    "start_time": "2022-04-26T09:19:25.586Z"
   },
   {
    "duration": 29,
    "start_time": "2022-04-26T09:20:24.182Z"
   },
   {
    "duration": 22,
    "start_time": "2022-04-26T09:20:37.848Z"
   },
   {
    "duration": 11,
    "start_time": "2022-04-26T09:27:18.648Z"
   },
   {
    "duration": 11,
    "start_time": "2022-04-26T09:27:33.766Z"
   },
   {
    "duration": 11,
    "start_time": "2022-04-26T09:27:51.662Z"
   },
   {
    "duration": 11,
    "start_time": "2022-04-26T09:30:45.023Z"
   },
   {
    "duration": 6,
    "start_time": "2022-04-26T09:30:51.201Z"
   },
   {
    "duration": 7,
    "start_time": "2022-04-26T09:31:05.373Z"
   },
   {
    "duration": 227,
    "start_time": "2022-04-26T09:31:15.061Z"
   },
   {
    "duration": 10,
    "start_time": "2022-04-26T09:31:18.004Z"
   },
   {
    "duration": 9,
    "start_time": "2022-04-26T09:31:30.380Z"
   },
   {
    "duration": 10,
    "start_time": "2022-04-26T09:32:26.137Z"
   },
   {
    "duration": 12,
    "start_time": "2022-04-26T09:36:02.107Z"
   },
   {
    "duration": 11,
    "start_time": "2022-04-26T09:36:15.834Z"
   },
   {
    "duration": 12,
    "start_time": "2022-04-26T09:36:35.705Z"
   },
   {
    "duration": 12,
    "start_time": "2022-04-26T09:36:49.849Z"
   },
   {
    "duration": 15,
    "start_time": "2022-04-26T09:48:06.618Z"
   },
   {
    "duration": 9,
    "start_time": "2022-04-26T09:48:21.857Z"
   },
   {
    "duration": 14,
    "start_time": "2022-04-26T09:53:30.547Z"
   },
   {
    "duration": 11,
    "start_time": "2022-04-26T09:54:10.644Z"
   },
   {
    "duration": 13,
    "start_time": "2022-04-26T09:54:50.616Z"
   },
   {
    "duration": 6,
    "start_time": "2022-04-26T09:56:14.405Z"
   },
   {
    "duration": 132,
    "start_time": "2022-04-26T09:57:17.392Z"
   },
   {
    "duration": 5,
    "start_time": "2022-04-26T09:57:25.380Z"
   },
   {
    "duration": 7,
    "start_time": "2022-04-26T09:59:59.144Z"
   },
   {
    "duration": 12,
    "start_time": "2022-04-26T10:02:11.729Z"
   },
   {
    "duration": 9,
    "start_time": "2022-04-26T10:02:38.818Z"
   },
   {
    "duration": 14,
    "start_time": "2022-04-26T10:03:23.476Z"
   },
   {
    "duration": 27,
    "start_time": "2022-04-26T10:04:28.977Z"
   },
   {
    "duration": 39,
    "start_time": "2022-04-26T10:04:49.078Z"
   },
   {
    "duration": 50,
    "start_time": "2022-04-26T10:05:14.473Z"
   },
   {
    "duration": 51,
    "start_time": "2022-04-26T10:07:23.523Z"
   },
   {
    "duration": 642,
    "start_time": "2022-04-26T10:21:59.613Z"
   },
   {
    "duration": 11,
    "start_time": "2022-04-26T10:22:58.663Z"
   },
   {
    "duration": 12,
    "start_time": "2022-04-26T10:23:27.065Z"
   },
   {
    "duration": 501,
    "start_time": "2022-04-26T10:35:55.498Z"
   },
   {
    "duration": 453,
    "start_time": "2022-04-26T10:36:09.238Z"
   },
   {
    "duration": 461,
    "start_time": "2022-04-26T10:36:11.966Z"
   },
   {
    "duration": 465,
    "start_time": "2022-04-26T10:38:13.535Z"
   },
   {
    "duration": 531,
    "start_time": "2022-04-26T10:38:38.199Z"
   },
   {
    "duration": 539,
    "start_time": "2022-04-26T10:38:57.378Z"
   },
   {
    "duration": 492,
    "start_time": "2022-04-26T10:39:05.705Z"
   },
   {
    "duration": 12,
    "start_time": "2022-04-26T10:39:13.072Z"
   },
   {
    "duration": 9,
    "start_time": "2022-04-26T10:39:21.435Z"
   },
   {
    "duration": 547,
    "start_time": "2022-04-26T10:41:13.968Z"
   },
   {
    "duration": 9,
    "start_time": "2022-04-26T10:41:21.575Z"
   },
   {
    "duration": 9,
    "start_time": "2022-04-26T10:41:28.092Z"
   },
   {
    "duration": 473,
    "start_time": "2022-04-26T10:47:54.982Z"
   },
   {
    "duration": 590,
    "start_time": "2022-04-26T10:48:02.778Z"
   },
   {
    "duration": 10,
    "start_time": "2022-04-26T10:48:56.707Z"
   },
   {
    "duration": 545,
    "start_time": "2022-04-26T10:49:32.552Z"
   },
   {
    "duration": 478,
    "start_time": "2022-04-26T10:49:40.337Z"
   },
   {
    "duration": 14,
    "start_time": "2022-04-26T10:50:42.685Z"
   },
   {
    "duration": 14,
    "start_time": "2022-04-26T10:50:50.959Z"
   },
   {
    "duration": 480,
    "start_time": "2022-04-26T10:51:06.027Z"
   },
   {
    "duration": 538,
    "start_time": "2022-04-26T10:51:13.511Z"
   },
   {
    "duration": 14,
    "start_time": "2022-04-26T10:53:09.486Z"
   },
   {
    "duration": 600,
    "start_time": "2022-04-26T10:53:26.783Z"
   },
   {
    "duration": 285,
    "start_time": "2022-04-26T10:53:36.079Z"
   },
   {
    "duration": 17,
    "start_time": "2022-04-26T10:55:16.791Z"
   },
   {
    "duration": 18,
    "start_time": "2022-04-26T10:55:31.560Z"
   },
   {
    "duration": 15,
    "start_time": "2022-04-26T11:03:18.712Z"
   },
   {
    "duration": 4,
    "start_time": "2022-04-26T11:03:25.440Z"
   },
   {
    "duration": 71,
    "start_time": "2022-04-26T11:03:26.917Z"
   },
   {
    "duration": 23,
    "start_time": "2022-04-26T11:03:28.486Z"
   },
   {
    "duration": 22,
    "start_time": "2022-04-26T11:03:33.278Z"
   },
   {
    "duration": 13,
    "start_time": "2022-04-26T11:03:35.237Z"
   },
   {
    "duration": 5,
    "start_time": "2022-04-26T11:03:38.059Z"
   },
   {
    "duration": 7,
    "start_time": "2022-04-26T11:03:41.477Z"
   },
   {
    "duration": 12,
    "start_time": "2022-04-26T11:03:43.182Z"
   },
   {
    "duration": 12,
    "start_time": "2022-04-26T11:03:47.626Z"
   },
   {
    "duration": 11,
    "start_time": "2022-04-26T11:03:49.654Z"
   },
   {
    "duration": 17,
    "start_time": "2022-04-26T11:03:52.143Z"
   },
   {
    "duration": 10,
    "start_time": "2022-04-26T11:03:54.064Z"
   },
   {
    "duration": 9,
    "start_time": "2022-04-26T11:03:55.706Z"
   },
   {
    "duration": 9,
    "start_time": "2022-04-26T11:03:58.333Z"
   },
   {
    "duration": 27,
    "start_time": "2022-04-26T11:04:00.551Z"
   },
   {
    "duration": 56,
    "start_time": "2022-04-26T11:04:01.941Z"
   },
   {
    "duration": 7,
    "start_time": "2022-04-26T11:04:03.532Z"
   },
   {
    "duration": 21,
    "start_time": "2022-04-26T11:04:06.132Z"
   },
   {
    "duration": 41,
    "start_time": "2022-04-26T11:04:10.093Z"
   },
   {
    "duration": 36,
    "start_time": "2022-04-26T11:07:06.785Z"
   },
   {
    "duration": 10,
    "start_time": "2022-04-26T11:07:15.509Z"
   },
   {
    "duration": 35,
    "start_time": "2022-04-26T11:07:19.136Z"
   },
   {
    "duration": 42,
    "start_time": "2022-04-26T11:07:56.043Z"
   },
   {
    "duration": 7,
    "start_time": "2022-04-26T11:08:12.292Z"
   },
   {
    "duration": 9,
    "start_time": "2022-04-26T11:08:28.133Z"
   },
   {
    "duration": 43,
    "start_time": "2022-04-26T11:09:14.270Z"
   },
   {
    "duration": 8,
    "start_time": "2022-04-26T11:09:45.624Z"
   },
   {
    "duration": 88,
    "start_time": "2022-04-26T11:09:47.001Z"
   },
   {
    "duration": 24,
    "start_time": "2022-04-26T11:09:48.362Z"
   },
   {
    "duration": 20,
    "start_time": "2022-04-26T11:09:50.838Z"
   },
   {
    "duration": 17,
    "start_time": "2022-04-26T11:09:52.831Z"
   },
   {
    "duration": 8,
    "start_time": "2022-04-26T11:09:55.528Z"
   },
   {
    "duration": 7,
    "start_time": "2022-04-26T11:09:57.719Z"
   },
   {
    "duration": 13,
    "start_time": "2022-04-26T11:09:59.680Z"
   },
   {
    "duration": 16,
    "start_time": "2022-04-26T11:10:01.464Z"
   },
   {
    "duration": 14,
    "start_time": "2022-04-26T11:10:03.328Z"
   },
   {
    "duration": 15,
    "start_time": "2022-04-26T11:10:05.068Z"
   },
   {
    "duration": 9,
    "start_time": "2022-04-26T11:10:06.934Z"
   },
   {
    "duration": 10,
    "start_time": "2022-04-26T11:10:08.276Z"
   },
   {
    "duration": 12,
    "start_time": "2022-04-26T11:10:10.025Z"
   },
   {
    "duration": 29,
    "start_time": "2022-04-26T11:10:12.965Z"
   },
   {
    "duration": 64,
    "start_time": "2022-04-26T11:10:14.336Z"
   },
   {
    "duration": 8,
    "start_time": "2022-04-26T11:10:17.666Z"
   },
   {
    "duration": 20,
    "start_time": "2022-04-26T11:10:19.544Z"
   },
   {
    "duration": 8,
    "start_time": "2022-04-26T11:10:22.774Z"
   },
   {
    "duration": 38,
    "start_time": "2022-04-26T11:10:25.670Z"
   },
   {
    "duration": 8,
    "start_time": "2022-04-26T11:10:39.305Z"
   },
   {
    "duration": 7,
    "start_time": "2022-04-26T11:11:11.983Z"
   },
   {
    "duration": 10,
    "start_time": "2022-04-26T11:13:53.634Z"
   },
   {
    "duration": 32,
    "start_time": "2022-04-26T11:40:21.258Z"
   },
   {
    "duration": 16,
    "start_time": "2022-04-26T11:40:47.962Z"
   },
   {
    "duration": 16,
    "start_time": "2022-04-26T11:40:52.715Z"
   },
   {
    "duration": 29,
    "start_time": "2022-04-26T11:41:01.517Z"
   },
   {
    "duration": 23,
    "start_time": "2022-04-26T11:41:18.066Z"
   },
   {
    "duration": 26,
    "start_time": "2022-04-26T11:41:30.806Z"
   },
   {
    "duration": 19,
    "start_time": "2022-04-26T11:42:37.939Z"
   },
   {
    "duration": 17,
    "start_time": "2022-04-26T11:42:41.855Z"
   },
   {
    "duration": 22,
    "start_time": "2022-04-26T11:43:12.073Z"
   },
   {
    "duration": 3,
    "start_time": "2022-04-26T11:43:21.647Z"
   },
   {
    "duration": 1537,
    "start_time": "2022-04-26T11:43:23.068Z"
   },
   {
    "duration": 32,
    "start_time": "2022-04-26T11:43:24.608Z"
   },
   {
    "duration": 20,
    "start_time": "2022-04-26T11:43:27.082Z"
   },
   {
    "duration": 12,
    "start_time": "2022-04-26T11:43:29.190Z"
   },
   {
    "duration": 6,
    "start_time": "2022-04-26T11:43:31.437Z"
   },
   {
    "duration": 9,
    "start_time": "2022-04-26T11:43:33.751Z"
   },
   {
    "duration": 11,
    "start_time": "2022-04-26T11:43:35.401Z"
   },
   {
    "duration": 16,
    "start_time": "2022-04-26T11:43:37.541Z"
   },
   {
    "duration": 12,
    "start_time": "2022-04-26T11:43:39.014Z"
   },
   {
    "duration": 17,
    "start_time": "2022-04-26T11:43:40.762Z"
   },
   {
    "duration": 9,
    "start_time": "2022-04-26T11:43:42.754Z"
   },
   {
    "duration": 9,
    "start_time": "2022-04-26T11:43:44.160Z"
   },
   {
    "duration": 10,
    "start_time": "2022-04-26T11:43:46.293Z"
   },
   {
    "duration": 39,
    "start_time": "2022-04-26T11:43:47.978Z"
   },
   {
    "duration": 63,
    "start_time": "2022-04-26T11:43:49.778Z"
   },
   {
    "duration": 8,
    "start_time": "2022-04-26T11:43:51.417Z"
   },
   {
    "duration": 35,
    "start_time": "2022-04-26T11:43:53.266Z"
   },
   {
    "duration": 52,
    "start_time": "2022-04-26T11:43:55.308Z"
   },
   {
    "duration": 10,
    "start_time": "2022-04-26T11:43:57.995Z"
   },
   {
    "duration": 10,
    "start_time": "2022-04-26T11:44:00.451Z"
   },
   {
    "duration": 21,
    "start_time": "2022-04-26T11:44:29.239Z"
   },
   {
    "duration": 27,
    "start_time": "2022-04-26T11:44:46.014Z"
   },
   {
    "duration": 10,
    "start_time": "2022-04-26T11:44:50.117Z"
   },
   {
    "duration": 18,
    "start_time": "2022-04-26T11:44:52.342Z"
   },
   {
    "duration": 18,
    "start_time": "2022-04-26T11:45:18.796Z"
   },
   {
    "duration": 11,
    "start_time": "2022-04-26T11:45:36.950Z"
   },
   {
    "duration": 26,
    "start_time": "2022-04-26T11:45:43.075Z"
   },
   {
    "duration": 28,
    "start_time": "2022-04-26T11:46:08.922Z"
   },
   {
    "duration": 15,
    "start_time": "2022-04-26T11:46:14.075Z"
   },
   {
    "duration": 16,
    "start_time": "2022-04-26T11:46:54.077Z"
   },
   {
    "duration": 4,
    "start_time": "2022-04-26T11:47:01.214Z"
   },
   {
    "duration": 110,
    "start_time": "2022-04-26T11:47:02.453Z"
   },
   {
    "duration": 28,
    "start_time": "2022-04-26T11:47:03.741Z"
   },
   {
    "duration": 31,
    "start_time": "2022-04-26T11:47:08.443Z"
   },
   {
    "duration": 138,
    "start_time": "2022-04-26T11:48:29.821Z"
   },
   {
    "duration": 133,
    "start_time": "2022-04-26T11:48:54.934Z"
   },
   {
    "duration": 133,
    "start_time": "2022-04-26T11:49:01.254Z"
   },
   {
    "duration": 2115,
    "start_time": "2022-04-26T11:51:23.491Z"
   },
   {
    "duration": 3,
    "start_time": "2022-04-26T12:07:20.514Z"
   },
   {
    "duration": 42,
    "start_time": "2022-04-26T12:07:24.763Z"
   },
   {
    "duration": 3239,
    "start_time": "2022-04-26T12:31:02.151Z"
   },
   {
    "duration": 2644,
    "start_time": "2022-04-26T12:31:41.171Z"
   },
   {
    "duration": 14,
    "start_time": "2022-04-26T12:31:45.123Z"
   },
   {
    "duration": 9,
    "start_time": "2022-04-26T12:32:23.353Z"
   },
   {
    "duration": 3,
    "start_time": "2022-04-26T12:32:32.896Z"
   },
   {
    "duration": 4,
    "start_time": "2022-04-26T12:32:35.270Z"
   },
   {
    "duration": 2906,
    "start_time": "2022-04-26T12:32:41.925Z"
   },
   {
    "duration": 0,
    "start_time": "2022-04-26T12:32:44.835Z"
   },
   {
    "duration": 2967,
    "start_time": "2022-04-26T12:32:55.224Z"
   },
   {
    "duration": 4,
    "start_time": "2022-04-26T12:33:01.768Z"
   },
   {
    "duration": 92,
    "start_time": "2022-04-26T12:33:03.332Z"
   },
   {
    "duration": 35,
    "start_time": "2022-04-26T12:33:04.858Z"
   },
   {
    "duration": 31,
    "start_time": "2022-04-26T12:33:07.464Z"
   },
   {
    "duration": 19,
    "start_time": "2022-04-26T12:33:09.418Z"
   },
   {
    "duration": 6,
    "start_time": "2022-04-26T12:33:11.364Z"
   },
   {
    "duration": 10,
    "start_time": "2022-04-26T12:33:14.083Z"
   },
   {
    "duration": 14,
    "start_time": "2022-04-26T12:33:16.002Z"
   },
   {
    "duration": 21,
    "start_time": "2022-04-26T12:33:17.848Z"
   },
   {
    "duration": 14,
    "start_time": "2022-04-26T12:33:19.268Z"
   },
   {
    "duration": 12,
    "start_time": "2022-04-26T12:33:23.383Z"
   },
   {
    "duration": 9,
    "start_time": "2022-04-26T12:33:23.398Z"
   },
   {
    "duration": 10,
    "start_time": "2022-04-26T12:33:25.062Z"
   },
   {
    "duration": 11,
    "start_time": "2022-04-26T12:33:27.148Z"
   },
   {
    "duration": 35,
    "start_time": "2022-04-26T12:33:29.070Z"
   },
   {
    "duration": 87,
    "start_time": "2022-04-26T12:33:30.403Z"
   },
   {
    "duration": 10,
    "start_time": "2022-04-26T12:33:32.287Z"
   },
   {
    "duration": 30,
    "start_time": "2022-04-26T12:33:34.116Z"
   },
   {
    "duration": 43,
    "start_time": "2022-04-26T12:33:36.189Z"
   },
   {
    "duration": 10,
    "start_time": "2022-04-26T12:33:38.381Z"
   },
   {
    "duration": 2864,
    "start_time": "2022-04-26T12:33:40.386Z"
   },
   {
    "duration": 157,
    "start_time": "2022-04-26T12:33:57.968Z"
   },
   {
    "duration": 10,
    "start_time": "2022-04-26T12:36:52.798Z"
   },
   {
    "duration": 9,
    "start_time": "2022-04-26T12:39:16.744Z"
   },
   {
    "duration": 7,
    "start_time": "2022-04-26T12:47:12.073Z"
   },
   {
    "duration": 26,
    "start_time": "2022-04-26T12:52:30.626Z"
   },
   {
    "duration": 8,
    "start_time": "2022-04-26T12:52:39.054Z"
   },
   {
    "duration": 37,
    "start_time": "2022-04-26T12:53:02.032Z"
   },
   {
    "duration": 10,
    "start_time": "2022-04-26T12:54:24.249Z"
   },
   {
    "duration": 9,
    "start_time": "2022-04-26T12:54:28.540Z"
   },
   {
    "duration": 17,
    "start_time": "2022-04-26T12:54:32.454Z"
   },
   {
    "duration": 18,
    "start_time": "2022-04-26T12:55:07.544Z"
   },
   {
    "duration": 9,
    "start_time": "2022-04-26T12:55:17.205Z"
   },
   {
    "duration": 152,
    "start_time": "2022-04-26T12:56:00.049Z"
   },
   {
    "duration": 143,
    "start_time": "2022-04-26T12:56:07.998Z"
   },
   {
    "duration": 17,
    "start_time": "2022-04-26T12:57:29.684Z"
   },
   {
    "duration": 30,
    "start_time": "2022-04-26T12:57:43.007Z"
   },
   {
    "duration": 3,
    "start_time": "2022-04-26T12:58:01.599Z"
   },
   {
    "duration": 90,
    "start_time": "2022-04-26T12:58:02.844Z"
   },
   {
    "duration": 51,
    "start_time": "2022-04-26T12:58:04.044Z"
   },
   {
    "duration": 32,
    "start_time": "2022-04-26T12:58:06.513Z"
   },
   {
    "duration": 19,
    "start_time": "2022-04-26T12:58:08.610Z"
   },
   {
    "duration": 6,
    "start_time": "2022-04-26T12:58:10.270Z"
   },
   {
    "duration": 9,
    "start_time": "2022-04-26T12:58:12.249Z"
   },
   {
    "duration": 18,
    "start_time": "2022-04-26T12:58:13.533Z"
   },
   {
    "duration": 13,
    "start_time": "2022-04-26T12:58:15.366Z"
   },
   {
    "duration": 12,
    "start_time": "2022-04-26T12:58:16.669Z"
   },
   {
    "duration": 15,
    "start_time": "2022-04-26T12:58:18.626Z"
   },
   {
    "duration": 10,
    "start_time": "2022-04-26T12:58:20.793Z"
   },
   {
    "duration": 11,
    "start_time": "2022-04-26T12:58:22.180Z"
   },
   {
    "duration": 8,
    "start_time": "2022-04-26T12:58:23.861Z"
   },
   {
    "duration": 39,
    "start_time": "2022-04-26T12:58:25.357Z"
   },
   {
    "duration": 76,
    "start_time": "2022-04-26T12:58:26.565Z"
   },
   {
    "duration": 24,
    "start_time": "2022-04-26T12:58:29.574Z"
   },
   {
    "duration": 79,
    "start_time": "2022-04-26T12:58:31.935Z"
   },
   {
    "duration": 10,
    "start_time": "2022-04-26T12:58:34.396Z"
   },
   {
    "duration": 46,
    "start_time": "2022-04-26T12:58:36.315Z"
   },
   {
    "duration": 42,
    "start_time": "2022-04-26T13:01:49.409Z"
   },
   {
    "duration": 210,
    "start_time": "2022-04-26T13:02:00.480Z"
   },
   {
    "duration": 7,
    "start_time": "2022-04-26T13:02:05.767Z"
   },
   {
    "duration": 21,
    "start_time": "2022-04-26T13:02:21.912Z"
   },
   {
    "duration": 44,
    "start_time": "2022-04-26T13:02:28.520Z"
   },
   {
    "duration": 16,
    "start_time": "2022-04-26T13:02:48.292Z"
   },
   {
    "duration": 4,
    "start_time": "2022-04-26T13:02:59.624Z"
   },
   {
    "duration": 18,
    "start_time": "2022-04-26T13:03:02.815Z"
   },
   {
    "duration": 23,
    "start_time": "2022-04-26T13:03:38.848Z"
   },
   {
    "duration": 4,
    "start_time": "2022-04-26T13:04:14.783Z"
   },
   {
    "duration": 68,
    "start_time": "2022-04-26T13:04:16.059Z"
   },
   {
    "duration": 34,
    "start_time": "2022-04-26T13:04:17.374Z"
   },
   {
    "duration": 48,
    "start_time": "2022-04-26T13:04:20.709Z"
   },
   {
    "duration": 24,
    "start_time": "2022-04-26T13:04:22.625Z"
   },
   {
    "duration": 7,
    "start_time": "2022-04-26T13:04:24.635Z"
   },
   {
    "duration": 9,
    "start_time": "2022-04-26T13:04:26.968Z"
   },
   {
    "duration": 12,
    "start_time": "2022-04-26T13:04:28.893Z"
   },
   {
    "duration": 12,
    "start_time": "2022-04-26T13:04:30.973Z"
   },
   {
    "duration": 19,
    "start_time": "2022-04-26T13:04:32.424Z"
   },
   {
    "duration": 13,
    "start_time": "2022-04-26T13:04:33.776Z"
   },
   {
    "duration": 8,
    "start_time": "2022-04-26T13:04:35.812Z"
   },
   {
    "duration": 8,
    "start_time": "2022-04-26T13:04:37.682Z"
   },
   {
    "duration": 10,
    "start_time": "2022-04-26T13:04:39.340Z"
   },
   {
    "duration": 27,
    "start_time": "2022-04-26T13:04:41.474Z"
   },
   {
    "duration": 84,
    "start_time": "2022-04-26T13:04:42.851Z"
   },
   {
    "duration": 9,
    "start_time": "2022-04-26T13:04:44.482Z"
   },
   {
    "duration": 13,
    "start_time": "2022-04-26T13:04:48.517Z"
   },
   {
    "duration": 10,
    "start_time": "2022-04-26T13:04:51.884Z"
   },
   {
    "duration": 28,
    "start_time": "2022-04-26T13:04:53.844Z"
   },
   {
    "duration": 27,
    "start_time": "2022-04-26T13:06:18.202Z"
   },
   {
    "duration": 58,
    "start_time": "2022-04-26T13:23:08.301Z"
   },
   {
    "duration": 10,
    "start_time": "2022-04-26T13:23:14.512Z"
   },
   {
    "duration": 34,
    "start_time": "2022-04-26T13:23:18.151Z"
   },
   {
    "duration": 39,
    "start_time": "2022-04-26T13:23:21.624Z"
   },
   {
    "duration": 101,
    "start_time": "2022-04-26T13:26:35.601Z"
   },
   {
    "duration": 10,
    "start_time": "2022-04-26T13:29:36.593Z"
   },
   {
    "duration": 17,
    "start_time": "2022-04-26T13:33:29.804Z"
   },
   {
    "duration": 52,
    "start_time": "2022-04-26T13:33:39.956Z"
   },
   {
    "duration": 58,
    "start_time": "2022-04-26T13:34:19.993Z"
   },
   {
    "duration": 46,
    "start_time": "2022-04-26T13:34:33.264Z"
   },
   {
    "duration": 49,
    "start_time": "2022-04-26T13:35:23.351Z"
   },
   {
    "duration": 41,
    "start_time": "2022-04-26T13:35:37.672Z"
   },
   {
    "duration": 48,
    "start_time": "2022-04-26T13:35:59.487Z"
   },
   {
    "duration": 7,
    "start_time": "2022-04-26T16:45:01.495Z"
   },
   {
    "duration": 12,
    "start_time": "2022-04-26T16:45:15.819Z"
   },
   {
    "duration": 4,
    "start_time": "2022-04-26T16:45:49.779Z"
   },
   {
    "duration": 97,
    "start_time": "2022-04-26T16:45:51.522Z"
   },
   {
    "duration": 24,
    "start_time": "2022-04-26T16:45:53.484Z"
   },
   {
    "duration": 21,
    "start_time": "2022-04-26T16:45:58.051Z"
   },
   {
    "duration": 14,
    "start_time": "2022-04-26T16:46:00.181Z"
   },
   {
    "duration": 7,
    "start_time": "2022-04-26T16:46:02.251Z"
   },
   {
    "duration": 68,
    "start_time": "2022-04-26T17:17:48.364Z"
   },
   {
    "duration": 8,
    "start_time": "2022-04-26T17:17:51.268Z"
   },
   {
    "duration": 28,
    "start_time": "2022-04-26T17:17:57.068Z"
   },
   {
    "duration": 16,
    "start_time": "2022-04-26T17:18:45.747Z"
   },
   {
    "duration": 24,
    "start_time": "2022-04-26T17:19:00.912Z"
   },
   {
    "duration": 16,
    "start_time": "2022-04-26T17:19:28.607Z"
   },
   {
    "duration": 60,
    "start_time": "2022-04-26T17:19:34.811Z"
   },
   {
    "duration": 57,
    "start_time": "2022-04-26T17:36:45.013Z"
   },
   {
    "duration": 19,
    "start_time": "2022-04-26T17:41:07.769Z"
   },
   {
    "duration": 59,
    "start_time": "2022-04-26T17:41:14.833Z"
   },
   {
    "duration": 23,
    "start_time": "2022-04-26T18:08:12.952Z"
   },
   {
    "duration": 3,
    "start_time": "2022-04-26T18:08:32.853Z"
   },
   {
    "duration": 92,
    "start_time": "2022-04-26T18:08:34.779Z"
   },
   {
    "duration": 38,
    "start_time": "2022-04-26T18:08:36.215Z"
   },
   {
    "duration": 22,
    "start_time": "2022-04-26T18:08:39.069Z"
   },
   {
    "duration": 14,
    "start_time": "2022-04-26T18:08:42.698Z"
   },
   {
    "duration": 7,
    "start_time": "2022-04-26T18:08:44.653Z"
   },
   {
    "duration": 12,
    "start_time": "2022-04-26T18:08:46.825Z"
   },
   {
    "duration": 16,
    "start_time": "2022-04-26T18:08:48.821Z"
   },
   {
    "duration": 16,
    "start_time": "2022-04-26T18:08:50.553Z"
   },
   {
    "duration": 15,
    "start_time": "2022-04-26T18:08:51.992Z"
   },
   {
    "duration": 23,
    "start_time": "2022-04-26T18:08:53.419Z"
   },
   {
    "duration": 23,
    "start_time": "2022-04-26T18:08:56.732Z"
   },
   {
    "duration": 9,
    "start_time": "2022-04-26T18:09:27.085Z"
   },
   {
    "duration": 47,
    "start_time": "2022-04-27T06:01:29.622Z"
   },
   {
    "duration": 376,
    "start_time": "2022-04-27T06:01:48.172Z"
   },
   {
    "duration": 91,
    "start_time": "2022-04-27T06:01:50.553Z"
   },
   {
    "duration": 22,
    "start_time": "2022-04-27T06:01:51.561Z"
   },
   {
    "duration": 25,
    "start_time": "2022-04-27T06:01:54.450Z"
   },
   {
    "duration": 14,
    "start_time": "2022-04-27T06:01:57.394Z"
   },
   {
    "duration": 6,
    "start_time": "2022-04-27T06:02:02.959Z"
   },
   {
    "duration": 6,
    "start_time": "2022-04-27T06:02:40.668Z"
   },
   {
    "duration": 6,
    "start_time": "2022-04-27T06:03:05.854Z"
   },
   {
    "duration": 11,
    "start_time": "2022-04-27T06:03:07.767Z"
   },
   {
    "duration": 8,
    "start_time": "2022-04-27T06:03:10.505Z"
   },
   {
    "duration": 9,
    "start_time": "2022-04-27T06:03:12.513Z"
   },
   {
    "duration": 13,
    "start_time": "2022-04-27T06:03:15.065Z"
   },
   {
    "duration": 7,
    "start_time": "2022-04-27T06:03:23.522Z"
   },
   {
    "duration": 25,
    "start_time": "2022-04-27T06:05:46.479Z"
   },
   {
    "duration": 33,
    "start_time": "2022-04-27T06:06:06.340Z"
   },
   {
    "duration": 6,
    "start_time": "2022-04-27T06:06:10.654Z"
   },
   {
    "duration": 20,
    "start_time": "2022-04-27T06:06:18.559Z"
   },
   {
    "duration": 8,
    "start_time": "2022-04-27T06:06:56.922Z"
   },
   {
    "duration": 30,
    "start_time": "2022-04-27T06:07:08.460Z"
   },
   {
    "duration": 8,
    "start_time": "2022-04-27T06:07:13.620Z"
   },
   {
    "duration": 15,
    "start_time": "2022-04-27T06:07:23.417Z"
   },
   {
    "duration": 13,
    "start_time": "2022-04-27T06:07:25.970Z"
   },
   {
    "duration": 16,
    "start_time": "2022-04-27T06:07:29.410Z"
   },
   {
    "duration": 41,
    "start_time": "2022-04-27T06:07:39.752Z"
   },
   {
    "duration": 38,
    "start_time": "2022-04-27T06:08:09.770Z"
   },
   {
    "duration": 8,
    "start_time": "2022-04-27T06:16:55.008Z"
   },
   {
    "duration": 7,
    "start_time": "2022-04-27T06:19:40.619Z"
   },
   {
    "duration": 6,
    "start_time": "2022-04-27T06:21:14.488Z"
   },
   {
    "duration": 7,
    "start_time": "2022-04-27T06:23:22.299Z"
   },
   {
    "duration": 6,
    "start_time": "2022-04-27T06:23:52.166Z"
   },
   {
    "duration": 6,
    "start_time": "2022-04-27T06:24:10.039Z"
   },
   {
    "duration": 5,
    "start_time": "2022-04-27T06:25:42.372Z"
   },
   {
    "duration": 6,
    "start_time": "2022-04-27T06:25:46.039Z"
   },
   {
    "duration": 5,
    "start_time": "2022-04-27T06:25:54.868Z"
   },
   {
    "duration": 4,
    "start_time": "2022-04-27T06:25:58.527Z"
   },
   {
    "duration": 5,
    "start_time": "2022-04-27T06:38:52.309Z"
   },
   {
    "duration": 7,
    "start_time": "2022-04-27T06:39:59.331Z"
   },
   {
    "duration": 6,
    "start_time": "2022-04-27T06:40:26.763Z"
   },
   {
    "duration": 7,
    "start_time": "2022-04-27T06:42:10.799Z"
   },
   {
    "duration": 5,
    "start_time": "2022-04-27T06:54:06.174Z"
   },
   {
    "duration": 5,
    "start_time": "2022-04-27T06:55:26.501Z"
   },
   {
    "duration": 3,
    "start_time": "2022-04-27T06:55:33.136Z"
   },
   {
    "duration": 13,
    "start_time": "2022-04-27T06:57:28.917Z"
   },
   {
    "duration": 8,
    "start_time": "2022-04-27T06:57:36.532Z"
   },
   {
    "duration": 34,
    "start_time": "2022-04-27T06:58:08.979Z"
   },
   {
    "duration": 11,
    "start_time": "2022-04-27T06:58:24.430Z"
   },
   {
    "duration": 12,
    "start_time": "2022-04-27T07:00:10.141Z"
   },
   {
    "duration": 10,
    "start_time": "2022-04-27T07:00:30.570Z"
   },
   {
    "duration": 12,
    "start_time": "2022-04-27T07:01:44.588Z"
   },
   {
    "duration": 6,
    "start_time": "2022-04-27T07:03:22.270Z"
   },
   {
    "duration": 9,
    "start_time": "2022-04-27T07:23:51.945Z"
   },
   {
    "duration": 8,
    "start_time": "2022-04-27T07:24:04.116Z"
   },
   {
    "duration": 7,
    "start_time": "2022-04-27T07:35:56.913Z"
   },
   {
    "duration": 6,
    "start_time": "2022-04-27T07:36:02.021Z"
   },
   {
    "duration": 8,
    "start_time": "2022-04-27T07:36:08.370Z"
   },
   {
    "duration": 7,
    "start_time": "2022-04-27T07:37:27.377Z"
   },
   {
    "duration": 5,
    "start_time": "2022-04-27T07:37:37.221Z"
   },
   {
    "duration": 6,
    "start_time": "2022-04-27T07:37:45.649Z"
   },
   {
    "duration": 5,
    "start_time": "2022-04-27T07:37:50.708Z"
   },
   {
    "duration": 5,
    "start_time": "2022-04-27T07:37:54.948Z"
   },
   {
    "duration": 5,
    "start_time": "2022-04-27T07:38:21.730Z"
   },
   {
    "duration": 6,
    "start_time": "2022-04-27T07:40:02.692Z"
   },
   {
    "duration": 60,
    "start_time": "2022-04-27T07:40:13.254Z"
   },
   {
    "duration": 6,
    "start_time": "2022-04-27T07:40:21.204Z"
   },
   {
    "duration": 6,
    "start_time": "2022-04-27T07:40:27.024Z"
   },
   {
    "duration": 6,
    "start_time": "2022-04-27T07:40:33.045Z"
   },
   {
    "duration": 8,
    "start_time": "2022-04-27T07:41:52.404Z"
   },
   {
    "duration": 12,
    "start_time": "2022-04-27T07:42:15.858Z"
   },
   {
    "duration": 10,
    "start_time": "2022-04-27T07:42:25.153Z"
   },
   {
    "duration": 12,
    "start_time": "2022-04-27T07:42:32.487Z"
   },
   {
    "duration": 8,
    "start_time": "2022-04-27T07:42:38.817Z"
   },
   {
    "duration": 9,
    "start_time": "2022-04-27T07:44:22.153Z"
   },
   {
    "duration": 15,
    "start_time": "2022-04-27T07:44:33.401Z"
   },
   {
    "duration": 10,
    "start_time": "2022-04-27T07:44:41.186Z"
   },
   {
    "duration": 8,
    "start_time": "2022-04-27T07:44:55.891Z"
   },
   {
    "duration": 9,
    "start_time": "2022-04-27T07:45:06.196Z"
   },
   {
    "duration": 6,
    "start_time": "2022-04-27T07:46:29.633Z"
   },
   {
    "duration": 6,
    "start_time": "2022-04-27T07:46:39.048Z"
   },
   {
    "duration": 9,
    "start_time": "2022-04-27T07:47:29.223Z"
   },
   {
    "duration": 25,
    "start_time": "2022-04-27T07:49:27.364Z"
   },
   {
    "duration": 17,
    "start_time": "2022-04-27T07:49:36.782Z"
   },
   {
    "duration": 24,
    "start_time": "2022-04-27T07:51:10.172Z"
   },
   {
    "duration": 3,
    "start_time": "2022-04-27T07:51:20.600Z"
   },
   {
    "duration": 20,
    "start_time": "2022-04-27T07:53:31.921Z"
   },
   {
    "duration": 15,
    "start_time": "2022-04-27T07:54:46.532Z"
   },
   {
    "duration": 27,
    "start_time": "2022-04-27T07:54:58.364Z"
   },
   {
    "duration": 21,
    "start_time": "2022-04-27T07:55:13.676Z"
   },
   {
    "duration": 52,
    "start_time": "2022-04-27T07:55:18.528Z"
   },
   {
    "duration": 23,
    "start_time": "2022-04-27T07:56:25.232Z"
   },
   {
    "duration": 1258,
    "start_time": "2022-04-27T07:56:37.676Z"
   },
   {
    "duration": 8,
    "start_time": "2022-04-27T07:57:01.638Z"
   },
   {
    "duration": 30,
    "start_time": "2022-04-27T07:57:10.974Z"
   },
   {
    "duration": 13,
    "start_time": "2022-04-27T07:59:29.406Z"
   },
   {
    "duration": 14,
    "start_time": "2022-04-27T07:59:37.416Z"
   },
   {
    "duration": 13,
    "start_time": "2022-04-27T08:00:13.680Z"
   },
   {
    "duration": 15,
    "start_time": "2022-04-27T08:00:41.247Z"
   },
   {
    "duration": 21,
    "start_time": "2022-04-27T08:00:57.915Z"
   },
   {
    "duration": 26,
    "start_time": "2022-04-27T08:01:40.913Z"
   },
   {
    "duration": 77,
    "start_time": "2022-04-27T08:02:01.183Z"
   },
   {
    "duration": 40,
    "start_time": "2022-04-27T08:02:14.864Z"
   },
   {
    "duration": 23,
    "start_time": "2022-04-27T08:02:26.820Z"
   },
   {
    "duration": 38,
    "start_time": "2022-04-27T08:02:42.370Z"
   },
   {
    "duration": 26,
    "start_time": "2022-04-27T08:02:57.900Z"
   },
   {
    "duration": 4,
    "start_time": "2022-04-27T08:03:05.928Z"
   },
   {
    "duration": 99,
    "start_time": "2022-04-27T08:23:08.993Z"
   },
   {
    "duration": 14,
    "start_time": "2022-04-27T08:23:31.770Z"
   },
   {
    "duration": 17,
    "start_time": "2022-04-27T08:25:07.073Z"
   },
   {
    "duration": 13,
    "start_time": "2022-04-27T08:27:53.274Z"
   },
   {
    "duration": 54,
    "start_time": "2022-04-27T08:28:22.812Z"
   },
   {
    "duration": 490,
    "start_time": "2022-04-27T08:28:31.651Z"
   },
   {
    "duration": 80,
    "start_time": "2022-04-27T08:28:33.400Z"
   },
   {
    "duration": 32,
    "start_time": "2022-04-27T08:28:35.239Z"
   },
   {
    "duration": 35,
    "start_time": "2022-04-27T08:28:42.467Z"
   },
   {
    "duration": 7,
    "start_time": "2022-04-27T08:28:51.310Z"
   },
   {
    "duration": 17,
    "start_time": "2022-04-27T08:28:54.274Z"
   },
   {
    "duration": 16,
    "start_time": "2022-04-27T08:30:01.372Z"
   },
   {
    "duration": 12,
    "start_time": "2022-04-27T08:30:28.982Z"
   },
   {
    "duration": 481,
    "start_time": "2022-04-27T08:32:35.937Z"
   },
   {
    "duration": 81,
    "start_time": "2022-04-27T08:32:37.948Z"
   },
   {
    "duration": 35,
    "start_time": "2022-04-27T08:32:39.672Z"
   },
   {
    "duration": 23,
    "start_time": "2022-04-27T08:32:41.729Z"
   },
   {
    "duration": 16,
    "start_time": "2022-04-27T08:32:44.693Z"
   },
   {
    "duration": 7,
    "start_time": "2022-04-27T08:32:46.898Z"
   },
   {
    "duration": 12,
    "start_time": "2022-04-27T08:32:55.457Z"
   },
   {
    "duration": 8,
    "start_time": "2022-04-27T08:32:57.005Z"
   },
   {
    "duration": 10,
    "start_time": "2022-04-27T08:32:59.084Z"
   },
   {
    "duration": 9,
    "start_time": "2022-04-27T08:33:00.842Z"
   },
   {
    "duration": 10,
    "start_time": "2022-04-27T08:33:02.930Z"
   },
   {
    "duration": 6,
    "start_time": "2022-04-27T08:33:10.188Z"
   },
   {
    "duration": 79,
    "start_time": "2022-04-27T08:33:12.960Z"
   },
   {
    "duration": 4,
    "start_time": "2022-04-27T08:33:23.408Z"
   },
   {
    "duration": 11,
    "start_time": "2022-04-27T08:33:34.823Z"
   },
   {
    "duration": 30,
    "start_time": "2022-04-27T08:35:58.417Z"
   },
   {
    "duration": 1093,
    "start_time": "2022-04-27T08:36:13.986Z"
   },
   {
    "duration": 16,
    "start_time": "2022-04-27T08:39:09.827Z"
   },
   {
    "duration": 13,
    "start_time": "2022-04-27T08:39:20.403Z"
   },
   {
    "duration": 92,
    "start_time": "2022-04-27T08:40:18.413Z"
   },
   {
    "duration": 15,
    "start_time": "2022-04-27T08:40:24.267Z"
   },
   {
    "duration": 16,
    "start_time": "2022-04-27T08:40:30.847Z"
   },
   {
    "duration": 55,
    "start_time": "2022-04-27T08:43:12.169Z"
   },
   {
    "duration": 456,
    "start_time": "2022-04-27T08:43:15.776Z"
   },
   {
    "duration": 4,
    "start_time": "2022-04-27T08:43:25.929Z"
   },
   {
    "duration": 26,
    "start_time": "2022-04-27T08:48:35.103Z"
   },
   {
    "duration": 3,
    "start_time": "2022-04-27T08:48:48.708Z"
   },
   {
    "duration": 54,
    "start_time": "2022-04-27T08:48:50.310Z"
   },
   {
    "duration": 16,
    "start_time": "2022-04-27T08:48:52.089Z"
   },
   {
    "duration": 15,
    "start_time": "2022-04-27T08:48:54.414Z"
   },
   {
    "duration": 9,
    "start_time": "2022-04-27T08:48:56.628Z"
   },
   {
    "duration": 5,
    "start_time": "2022-04-27T08:48:58.781Z"
   },
   {
    "duration": 6,
    "start_time": "2022-04-27T08:49:01.498Z"
   },
   {
    "duration": 9,
    "start_time": "2022-04-27T08:49:03.203Z"
   },
   {
    "duration": 11,
    "start_time": "2022-04-27T08:49:05.635Z"
   },
   {
    "duration": 12,
    "start_time": "2022-04-27T08:49:07.362Z"
   },
   {
    "duration": 12,
    "start_time": "2022-04-27T08:49:09.683Z"
   },
   {
    "duration": 7,
    "start_time": "2022-04-27T08:49:12.529Z"
   },
   {
    "duration": 30,
    "start_time": "2022-04-27T08:49:15.128Z"
   },
   {
    "duration": 10,
    "start_time": "2022-04-27T08:49:56.405Z"
   },
   {
    "duration": 14,
    "start_time": "2022-04-27T08:52:45.102Z"
   },
   {
    "duration": 13,
    "start_time": "2022-04-27T08:53:08.965Z"
   },
   {
    "duration": 19,
    "start_time": "2022-04-27T08:53:34.002Z"
   },
   {
    "duration": 14,
    "start_time": "2022-04-27T08:53:46.178Z"
   },
   {
    "duration": 15,
    "start_time": "2022-04-27T08:53:59.396Z"
   },
   {
    "duration": 95,
    "start_time": "2022-04-27T08:54:06.539Z"
   },
   {
    "duration": 12,
    "start_time": "2022-04-27T08:54:11.195Z"
   },
   {
    "duration": 4,
    "start_time": "2022-04-27T09:04:54.176Z"
   },
   {
    "duration": 7,
    "start_time": "2022-04-27T09:05:43.550Z"
   },
   {
    "duration": 11,
    "start_time": "2022-04-27T09:12:42.632Z"
   },
   {
    "duration": 7,
    "start_time": "2022-04-27T09:14:57.799Z"
   },
   {
    "duration": 3,
    "start_time": "2022-04-27T09:15:00.905Z"
   },
   {
    "duration": 16,
    "start_time": "2022-04-27T09:16:18.629Z"
   },
   {
    "duration": 17,
    "start_time": "2022-04-27T09:16:30.348Z"
   },
   {
    "duration": 23,
    "start_time": "2022-04-27T09:16:44.198Z"
   },
   {
    "duration": 3,
    "start_time": "2022-04-27T09:16:54.769Z"
   },
   {
    "duration": 82,
    "start_time": "2022-04-27T09:16:56.224Z"
   },
   {
    "duration": 21,
    "start_time": "2022-04-27T09:16:57.894Z"
   },
   {
    "duration": 15,
    "start_time": "2022-04-27T09:18:19.826Z"
   },
   {
    "duration": 15,
    "start_time": "2022-04-27T09:18:39.067Z"
   },
   {
    "duration": 7,
    "start_time": "2022-04-27T09:33:58.696Z"
   },
   {
    "duration": 7,
    "start_time": "2022-04-27T09:34:19.727Z"
   },
   {
    "duration": 8,
    "start_time": "2022-04-27T09:37:55.537Z"
   },
   {
    "duration": 7,
    "start_time": "2022-04-27T09:38:11.948Z"
   },
   {
    "duration": 9,
    "start_time": "2022-04-27T09:39:47.339Z"
   },
   {
    "duration": 21,
    "start_time": "2022-04-27T09:40:25.851Z"
   },
   {
    "duration": 9,
    "start_time": "2022-04-27T09:41:21.958Z"
   },
   {
    "duration": 6,
    "start_time": "2022-04-27T09:44:31.540Z"
   },
   {
    "duration": 1099,
    "start_time": "2022-04-27T09:52:10.704Z"
   },
   {
    "duration": 925,
    "start_time": "2022-04-27T09:52:15.725Z"
   },
   {
    "duration": 20,
    "start_time": "2022-04-27T09:57:44.005Z"
   },
   {
    "duration": 24,
    "start_time": "2022-04-27T09:58:21.401Z"
   },
   {
    "duration": 20,
    "start_time": "2022-04-27T09:58:42.484Z"
   },
   {
    "duration": 10,
    "start_time": "2022-04-27T10:03:07.680Z"
   },
   {
    "duration": 13,
    "start_time": "2022-04-27T10:05:06.958Z"
   },
   {
    "duration": 6,
    "start_time": "2022-04-27T10:05:20.269Z"
   },
   {
    "duration": 7,
    "start_time": "2022-04-27T10:05:45.835Z"
   },
   {
    "duration": 7,
    "start_time": "2022-04-27T10:06:01.689Z"
   },
   {
    "duration": 7,
    "start_time": "2022-04-27T10:06:13.924Z"
   },
   {
    "duration": 6,
    "start_time": "2022-04-27T10:06:38.527Z"
   },
   {
    "duration": 5,
    "start_time": "2022-04-27T10:06:52.867Z"
   },
   {
    "duration": 6,
    "start_time": "2022-04-27T10:07:01.669Z"
   },
   {
    "duration": 6,
    "start_time": "2022-04-27T10:07:22.167Z"
   },
   {
    "duration": 14,
    "start_time": "2022-04-27T10:08:06.556Z"
   },
   {
    "duration": 39,
    "start_time": "2022-04-27T10:08:39.978Z"
   },
   {
    "duration": 23,
    "start_time": "2022-04-27T10:08:57.435Z"
   },
   {
    "duration": 17,
    "start_time": "2022-04-27T10:09:03.576Z"
   },
   {
    "duration": 7,
    "start_time": "2022-04-27T10:09:19.560Z"
   },
   {
    "duration": 10,
    "start_time": "2022-04-27T10:10:00.694Z"
   },
   {
    "duration": 6,
    "start_time": "2022-04-27T10:10:26.837Z"
   },
   {
    "duration": 20,
    "start_time": "2022-04-27T10:10:35.648Z"
   },
   {
    "duration": 7,
    "start_time": "2022-04-27T10:10:52.250Z"
   },
   {
    "duration": 10,
    "start_time": "2022-04-27T10:11:04.363Z"
   },
   {
    "duration": 8,
    "start_time": "2022-04-27T10:12:12.678Z"
   },
   {
    "duration": 8,
    "start_time": "2022-04-27T10:12:18.953Z"
   },
   {
    "duration": 12,
    "start_time": "2022-04-27T10:13:43.238Z"
   },
   {
    "duration": 6,
    "start_time": "2022-04-27T10:13:44.875Z"
   },
   {
    "duration": 9,
    "start_time": "2022-04-27T10:15:45.672Z"
   },
   {
    "duration": 7,
    "start_time": "2022-04-27T10:16:12.076Z"
   },
   {
    "duration": 7,
    "start_time": "2022-04-27T10:17:46.627Z"
   },
   {
    "duration": 8,
    "start_time": "2022-04-27T10:19:15.831Z"
   },
   {
    "duration": 10,
    "start_time": "2022-04-27T10:20:39.088Z"
   },
   {
    "duration": 9,
    "start_time": "2022-04-27T10:20:47.831Z"
   },
   {
    "duration": 9,
    "start_time": "2022-04-27T10:20:59.085Z"
   },
   {
    "duration": 9,
    "start_time": "2022-04-27T10:22:03.319Z"
   },
   {
    "duration": 9,
    "start_time": "2022-04-27T10:22:53.002Z"
   },
   {
    "duration": 3,
    "start_time": "2022-04-27T10:22:56.885Z"
   },
   {
    "duration": 11,
    "start_time": "2022-04-27T10:23:05.646Z"
   },
   {
    "duration": 8,
    "start_time": "2022-04-27T10:37:01.505Z"
   },
   {
    "duration": 32,
    "start_time": "2022-04-27T10:43:46.640Z"
   },
   {
    "duration": 9,
    "start_time": "2022-04-27T10:44:02.474Z"
   },
   {
    "duration": 32,
    "start_time": "2022-04-27T10:44:07.145Z"
   },
   {
    "duration": 6,
    "start_time": "2022-04-27T10:45:58.672Z"
   },
   {
    "duration": 7,
    "start_time": "2022-04-27T10:48:41.961Z"
   },
   {
    "duration": 7,
    "start_time": "2022-04-27T10:49:42.532Z"
   },
   {
    "duration": 33,
    "start_time": "2022-04-27T11:14:26.250Z"
   },
   {
    "duration": 96,
    "start_time": "2022-04-27T11:14:46.823Z"
   },
   {
    "duration": 33,
    "start_time": "2022-04-27T11:14:51.438Z"
   },
   {
    "duration": 31,
    "start_time": "2022-04-27T11:16:12.443Z"
   },
   {
    "duration": 26,
    "start_time": "2022-04-27T11:16:55.888Z"
   },
   {
    "duration": 41,
    "start_time": "2022-04-27T11:19:57.565Z"
   },
   {
    "duration": 18,
    "start_time": "2022-04-27T11:59:17.685Z"
   },
   {
    "duration": 7,
    "start_time": "2022-04-27T11:59:22.511Z"
   },
   {
    "duration": 9,
    "start_time": "2022-04-27T11:59:42.949Z"
   },
   {
    "duration": 11,
    "start_time": "2022-04-27T12:00:08.660Z"
   },
   {
    "duration": 25,
    "start_time": "2022-04-27T12:00:43.590Z"
   },
   {
    "duration": 88,
    "start_time": "2022-04-27T12:45:48.861Z"
   },
   {
    "duration": 103,
    "start_time": "2022-04-27T12:47:21.811Z"
   },
   {
    "duration": 94,
    "start_time": "2022-04-27T12:49:26.582Z"
   },
   {
    "duration": 82,
    "start_time": "2022-04-27T12:55:46.515Z"
   },
   {
    "duration": 7,
    "start_time": "2022-04-27T13:08:13.468Z"
   },
   {
    "duration": 45,
    "start_time": "2022-04-27T13:10:02.191Z"
   },
   {
    "duration": 6,
    "start_time": "2022-04-27T13:10:11.885Z"
   },
   {
    "duration": 6,
    "start_time": "2022-04-27T13:10:25.988Z"
   },
   {
    "duration": 6,
    "start_time": "2022-04-27T13:10:42.695Z"
   },
   {
    "duration": 336,
    "start_time": "2022-04-27T13:10:48.807Z"
   },
   {
    "duration": 58,
    "start_time": "2022-04-27T13:10:50.385Z"
   },
   {
    "duration": 22,
    "start_time": "2022-04-27T13:10:52.296Z"
   },
   {
    "duration": 15,
    "start_time": "2022-04-27T13:10:55.559Z"
   },
   {
    "duration": 9,
    "start_time": "2022-04-27T13:10:57.630Z"
   },
   {
    "duration": 5,
    "start_time": "2022-04-27T13:10:59.488Z"
   },
   {
    "duration": 5,
    "start_time": "2022-04-27T13:11:01.641Z"
   },
   {
    "duration": 7,
    "start_time": "2022-04-27T13:11:02.926Z"
   },
   {
    "duration": 8,
    "start_time": "2022-04-27T13:11:04.668Z"
   },
   {
    "duration": 9,
    "start_time": "2022-04-27T13:11:05.988Z"
   },
   {
    "duration": 7,
    "start_time": "2022-04-27T13:11:07.865Z"
   },
   {
    "duration": 5,
    "start_time": "2022-04-27T13:11:09.928Z"
   },
   {
    "duration": 14,
    "start_time": "2022-04-27T13:11:12.040Z"
   },
   {
    "duration": 7,
    "start_time": "2022-04-27T13:11:16.624Z"
   },
   {
    "duration": 22,
    "start_time": "2022-04-27T13:11:19.227Z"
   },
   {
    "duration": 5,
    "start_time": "2022-04-27T13:11:21.295Z"
   },
   {
    "duration": 39,
    "start_time": "2022-04-27T13:11:25.290Z"
   },
   {
    "duration": 6,
    "start_time": "2022-04-27T13:11:32.777Z"
   },
   {
    "duration": 7,
    "start_time": "2022-04-27T13:11:34.471Z"
   },
   {
    "duration": 34,
    "start_time": "2022-04-27T13:11:38.316Z"
   },
   {
    "duration": 5,
    "start_time": "2022-04-27T13:11:40.377Z"
   },
   {
    "duration": 14,
    "start_time": "2022-04-27T13:11:41.996Z"
   },
   {
    "duration": 5,
    "start_time": "2022-04-27T13:11:42.951Z"
   },
   {
    "duration": 5,
    "start_time": "2022-04-27T13:11:43.566Z"
   },
   {
    "duration": 6,
    "start_time": "2022-04-27T13:11:45.746Z"
   },
   {
    "duration": 5,
    "start_time": "2022-04-27T13:11:49.305Z"
   },
   {
    "duration": 9,
    "start_time": "2022-04-27T13:11:51.854Z"
   },
   {
    "duration": 9,
    "start_time": "2022-04-27T13:11:54.024Z"
   },
   {
    "duration": 14,
    "start_time": "2022-04-27T13:11:56.381Z"
   },
   {
    "duration": 24,
    "start_time": "2022-04-27T13:11:58.620Z"
   },
   {
    "duration": 25,
    "start_time": "2022-04-27T13:12:01.238Z"
   },
   {
    "duration": 26,
    "start_time": "2022-04-27T13:12:04.280Z"
   },
   {
    "duration": 26,
    "start_time": "2022-04-27T13:12:11.361Z"
   },
   {
    "duration": 11,
    "start_time": "2022-04-27T13:12:43.897Z"
   },
   {
    "duration": 7,
    "start_time": "2022-04-27T13:13:15.699Z"
   },
   {
    "duration": 8,
    "start_time": "2022-04-27T13:14:01.210Z"
   },
   {
    "duration": 7,
    "start_time": "2022-04-27T13:17:17.016Z"
   },
   {
    "duration": 7,
    "start_time": "2022-04-27T13:17:20.224Z"
   },
   {
    "duration": 9,
    "start_time": "2022-04-27T13:17:59.770Z"
   },
   {
    "duration": 9,
    "start_time": "2022-04-27T13:22:49.921Z"
   },
   {
    "duration": 14,
    "start_time": "2022-04-27T13:24:08.668Z"
   },
   {
    "duration": 11,
    "start_time": "2022-04-27T13:24:59.990Z"
   },
   {
    "duration": 17,
    "start_time": "2022-04-27T13:36:35.775Z"
   },
   {
    "duration": 7,
    "start_time": "2022-04-27T13:36:46.988Z"
   },
   {
    "duration": 9,
    "start_time": "2022-04-27T13:38:20.851Z"
   },
   {
    "duration": 24,
    "start_time": "2022-04-27T13:54:12.604Z"
   },
   {
    "duration": 24,
    "start_time": "2022-04-27T13:55:03.417Z"
   },
   {
    "duration": 5,
    "start_time": "2022-04-27T13:55:07.813Z"
   },
   {
    "duration": 9,
    "start_time": "2022-04-27T13:55:10.395Z"
   },
   {
    "duration": 10,
    "start_time": "2022-04-27T13:55:16.267Z"
   },
   {
    "duration": 26,
    "start_time": "2022-04-27T13:55:19.143Z"
   },
   {
    "duration": 27,
    "start_time": "2022-04-27T13:55:48.667Z"
   },
   {
    "duration": 20,
    "start_time": "2022-04-27T13:58:41.101Z"
   },
   {
    "duration": 21,
    "start_time": "2022-04-27T13:59:01.406Z"
   },
   {
    "duration": 17,
    "start_time": "2022-04-27T13:59:17.091Z"
   },
   {
    "duration": 16,
    "start_time": "2022-04-27T14:03:21.904Z"
   },
   {
    "duration": 18,
    "start_time": "2022-04-27T14:03:54.922Z"
   },
   {
    "duration": 31,
    "start_time": "2022-04-27T14:04:26.641Z"
   },
   {
    "duration": 28,
    "start_time": "2022-04-27T14:04:46.741Z"
   },
   {
    "duration": 18,
    "start_time": "2022-04-27T14:05:01.998Z"
   },
   {
    "duration": 27,
    "start_time": "2022-04-27T14:05:15.656Z"
   },
   {
    "duration": 14,
    "start_time": "2022-04-27T14:06:29.885Z"
   },
   {
    "duration": 27,
    "start_time": "2022-04-27T14:06:43.682Z"
   },
   {
    "duration": 15,
    "start_time": "2022-04-27T14:11:39.923Z"
   },
   {
    "duration": 20,
    "start_time": "2022-04-27T14:18:34.863Z"
   },
   {
    "duration": 17,
    "start_time": "2022-04-27T14:19:25.721Z"
   },
   {
    "duration": 14,
    "start_time": "2022-04-27T14:19:38.688Z"
   },
   {
    "duration": 16,
    "start_time": "2022-04-27T14:19:48.413Z"
   },
   {
    "duration": 18,
    "start_time": "2022-04-27T14:22:57.881Z"
   },
   {
    "duration": 14,
    "start_time": "2022-04-27T14:23:11.707Z"
   },
   {
    "duration": 24,
    "start_time": "2022-04-27T14:23:18.332Z"
   },
   {
    "duration": 56,
    "start_time": "2022-04-27T14:24:11.436Z"
   },
   {
    "duration": 20,
    "start_time": "2022-04-27T14:25:25.063Z"
   },
   {
    "duration": 18,
    "start_time": "2022-04-27T14:25:34.713Z"
   },
   {
    "duration": 21,
    "start_time": "2022-04-27T14:26:20.973Z"
   },
   {
    "duration": 20,
    "start_time": "2022-04-27T14:31:13.590Z"
   },
   {
    "duration": 20,
    "start_time": "2022-04-27T14:32:06.274Z"
   },
   {
    "duration": 51,
    "start_time": "2022-04-27T14:35:01.370Z"
   },
   {
    "duration": 2217,
    "start_time": "2022-04-27T14:37:54.874Z"
   },
   {
    "duration": 24,
    "start_time": "2022-04-27T14:38:08.836Z"
   },
   {
    "duration": 18,
    "start_time": "2022-04-27T14:38:32.502Z"
   },
   {
    "duration": 18,
    "start_time": "2022-04-27T14:38:40.869Z"
   },
   {
    "duration": 19,
    "start_time": "2022-04-27T14:39:09.985Z"
   },
   {
    "duration": 21,
    "start_time": "2022-04-27T14:39:49.037Z"
   },
   {
    "duration": 23,
    "start_time": "2022-04-27T14:39:58.436Z"
   },
   {
    "duration": 26,
    "start_time": "2022-04-27T14:40:09.419Z"
   },
   {
    "duration": 28,
    "start_time": "2022-04-27T14:45:04.901Z"
   },
   {
    "duration": 19,
    "start_time": "2022-04-27T14:47:01.474Z"
   },
   {
    "duration": 19,
    "start_time": "2022-04-27T14:47:53.359Z"
   },
   {
    "duration": 1525,
    "start_time": "2022-04-27T14:48:01.354Z"
   },
   {
    "duration": 20,
    "start_time": "2022-04-27T14:48:06.010Z"
   },
   {
    "duration": 24,
    "start_time": "2022-04-27T14:48:19.129Z"
   },
   {
    "duration": 18,
    "start_time": "2022-04-27T14:53:30.987Z"
   },
   {
    "duration": 1280,
    "start_time": "2022-04-27T14:55:57.822Z"
   },
   {
    "duration": 20,
    "start_time": "2022-04-27T14:56:08.614Z"
   },
   {
    "duration": 18,
    "start_time": "2022-04-27T15:03:17.267Z"
   },
   {
    "duration": 21,
    "start_time": "2022-04-27T15:03:26.041Z"
   },
   {
    "duration": 16,
    "start_time": "2022-04-27T15:03:48.001Z"
   },
   {
    "duration": 20,
    "start_time": "2022-04-27T15:03:51.737Z"
   },
   {
    "duration": 16,
    "start_time": "2022-04-27T15:03:55.616Z"
   },
   {
    "duration": 22,
    "start_time": "2022-04-27T15:05:18.941Z"
   },
   {
    "duration": 21,
    "start_time": "2022-04-27T15:06:35.545Z"
   },
   {
    "duration": 25,
    "start_time": "2022-04-27T15:06:58.764Z"
   },
   {
    "duration": 20,
    "start_time": "2022-04-27T15:07:19.116Z"
   },
   {
    "duration": 26,
    "start_time": "2022-04-27T15:07:42.997Z"
   },
   {
    "duration": 29,
    "start_time": "2022-04-27T15:08:00.695Z"
   },
   {
    "duration": 18,
    "start_time": "2022-04-27T15:09:37.696Z"
   },
   {
    "duration": 22,
    "start_time": "2022-04-27T15:14:52.768Z"
   },
   {
    "duration": 23,
    "start_time": "2022-04-27T15:15:00.580Z"
   },
   {
    "duration": 24,
    "start_time": "2022-04-27T15:15:30.243Z"
   },
   {
    "duration": 19,
    "start_time": "2022-04-27T15:16:36.397Z"
   },
   {
    "duration": 15,
    "start_time": "2022-04-27T15:20:15.704Z"
   },
   {
    "duration": 357,
    "start_time": "2022-04-28T05:04:36.166Z"
   },
   {
    "duration": 73,
    "start_time": "2022-04-28T05:04:37.982Z"
   },
   {
    "duration": 11,
    "start_time": "2022-04-28T05:05:34.412Z"
   },
   {
    "duration": 6,
    "start_time": "2022-04-28T05:06:12.341Z"
   },
   {
    "duration": 13,
    "start_time": "2022-04-28T05:11:39.414Z"
   },
   {
    "duration": 8,
    "start_time": "2022-04-28T05:22:47.920Z"
   },
   {
    "duration": 7,
    "start_time": "2022-04-28T05:23:08.721Z"
   },
   {
    "duration": 14,
    "start_time": "2022-04-28T05:24:38.537Z"
   },
   {
    "duration": 9,
    "start_time": "2022-04-28T05:24:43.360Z"
   },
   {
    "duration": 5,
    "start_time": "2022-04-28T05:24:46.148Z"
   },
   {
    "duration": 5,
    "start_time": "2022-04-28T05:25:18.439Z"
   },
   {
    "duration": 22,
    "start_time": "2022-04-28T06:18:11.537Z"
   },
   {
    "duration": 3,
    "start_time": "2022-04-28T06:18:23.399Z"
   },
   {
    "duration": 57,
    "start_time": "2022-04-28T06:18:24.919Z"
   },
   {
    "duration": 14,
    "start_time": "2022-04-28T06:18:27.127Z"
   },
   {
    "duration": 15,
    "start_time": "2022-04-28T06:18:29.590Z"
   },
   {
    "duration": 11,
    "start_time": "2022-04-28T06:18:31.652Z"
   },
   {
    "duration": 6,
    "start_time": "2022-04-28T06:18:33.563Z"
   },
   {
    "duration": 5,
    "start_time": "2022-04-28T06:18:35.626Z"
   },
   {
    "duration": 8,
    "start_time": "2022-04-28T06:18:37.167Z"
   },
   {
    "duration": 8,
    "start_time": "2022-04-28T06:18:39.093Z"
   },
   {
    "duration": 8,
    "start_time": "2022-04-28T06:18:40.478Z"
   },
   {
    "duration": 8,
    "start_time": "2022-04-28T06:18:42.412Z"
   },
   {
    "duration": 6,
    "start_time": "2022-04-28T06:18:44.366Z"
   },
   {
    "duration": 14,
    "start_time": "2022-04-28T06:18:46.399Z"
   },
   {
    "duration": 6,
    "start_time": "2022-04-28T06:18:48.325Z"
   },
   {
    "duration": 7,
    "start_time": "2022-04-28T06:18:50.327Z"
   },
   {
    "duration": 21,
    "start_time": "2022-04-28T06:18:52.447Z"
   },
   {
    "duration": 23,
    "start_time": "2022-04-28T06:19:03.870Z"
   },
   {
    "duration": 10,
    "start_time": "2022-04-28T06:19:51.422Z"
   },
   {
    "duration": 9,
    "start_time": "2022-04-28T06:20:01.410Z"
   },
   {
    "duration": 22,
    "start_time": "2022-04-28T06:20:05.329Z"
   },
   {
    "duration": 20,
    "start_time": "2022-04-28T06:20:28.639Z"
   },
   {
    "duration": 17,
    "start_time": "2022-04-28T06:23:10.555Z"
   },
   {
    "duration": 35,
    "start_time": "2022-04-28T06:23:20.164Z"
   },
   {
    "duration": 22,
    "start_time": "2022-04-28T06:23:29.723Z"
   },
   {
    "duration": 24,
    "start_time": "2022-04-28T06:23:38.360Z"
   },
   {
    "duration": 20,
    "start_time": "2022-04-28T06:23:50.674Z"
   },
   {
    "duration": 26,
    "start_time": "2022-04-28T06:25:19.741Z"
   },
   {
    "duration": 6,
    "start_time": "2022-04-28T06:25:24.062Z"
   },
   {
    "duration": 17,
    "start_time": "2022-04-28T06:25:42.338Z"
   },
   {
    "duration": 34,
    "start_time": "2022-04-28T06:25:48.762Z"
   },
   {
    "duration": 5,
    "start_time": "2022-04-28T06:25:57.023Z"
   },
   {
    "duration": 15,
    "start_time": "2022-04-28T06:33:08.530Z"
   },
   {
    "duration": 6,
    "start_time": "2022-04-28T06:33:24.865Z"
   },
   {
    "duration": 27,
    "start_time": "2022-04-28T06:33:28.277Z"
   },
   {
    "duration": 6,
    "start_time": "2022-04-28T06:33:43.835Z"
   },
   {
    "duration": 11,
    "start_time": "2022-04-28T06:34:27.951Z"
   },
   {
    "duration": 10,
    "start_time": "2022-04-28T06:34:30.647Z"
   },
   {
    "duration": 16,
    "start_time": "2022-04-28T06:34:34.787Z"
   },
   {
    "duration": 27,
    "start_time": "2022-04-28T06:34:41.462Z"
   },
   {
    "duration": 26,
    "start_time": "2022-04-28T06:34:51.513Z"
   },
   {
    "duration": 22,
    "start_time": "2022-04-28T06:43:41.554Z"
   },
   {
    "duration": 18,
    "start_time": "2022-04-28T06:44:04.102Z"
   },
   {
    "duration": 3,
    "start_time": "2022-04-28T07:01:01.639Z"
   },
   {
    "duration": 4,
    "start_time": "2022-04-28T07:20:17.296Z"
   },
   {
    "duration": 20,
    "start_time": "2022-04-28T07:24:23.090Z"
   },
   {
    "duration": 20,
    "start_time": "2022-04-28T07:35:07.956Z"
   },
   {
    "duration": 8,
    "start_time": "2022-04-28T08:13:47.613Z"
   },
   {
    "duration": 7,
    "start_time": "2022-04-28T08:13:57.207Z"
   },
   {
    "duration": 22,
    "start_time": "2022-04-28T08:14:16.572Z"
   },
   {
    "duration": 3,
    "start_time": "2022-04-28T08:22:51.220Z"
   },
   {
    "duration": 720,
    "start_time": "2022-04-28T08:22:52.771Z"
   },
   {
    "duration": 15,
    "start_time": "2022-04-28T08:22:55.261Z"
   },
   {
    "duration": 16,
    "start_time": "2022-04-28T08:22:58.426Z"
   },
   {
    "duration": 11,
    "start_time": "2022-04-28T08:23:00.461Z"
   },
   {
    "duration": 5,
    "start_time": "2022-04-28T08:23:02.358Z"
   },
   {
    "duration": 6,
    "start_time": "2022-04-28T08:23:04.812Z"
   },
   {
    "duration": 8,
    "start_time": "2022-04-28T08:23:06.413Z"
   },
   {
    "duration": 9,
    "start_time": "2022-04-28T08:23:08.102Z"
   },
   {
    "duration": 8,
    "start_time": "2022-04-28T08:23:10.290Z"
   },
   {
    "duration": 8,
    "start_time": "2022-04-28T08:23:12.231Z"
   },
   {
    "duration": 21,
    "start_time": "2022-04-28T08:25:26.637Z"
   },
   {
    "duration": 4,
    "start_time": "2022-04-28T08:25:30.266Z"
   },
   {
    "duration": 25,
    "start_time": "2022-04-28T08:25:54.744Z"
   },
   {
    "duration": 5,
    "start_time": "2022-04-28T08:25:57.583Z"
   },
   {
    "duration": 8,
    "start_time": "2022-04-28T08:26:01.545Z"
   },
   {
    "duration": 17,
    "start_time": "2022-04-28T08:26:03.445Z"
   },
   {
    "duration": 33,
    "start_time": "2022-04-28T08:26:05.334Z"
   },
   {
    "duration": 6,
    "start_time": "2022-04-28T08:26:26.541Z"
   },
   {
    "duration": 23,
    "start_time": "2022-04-28T08:26:30.703Z"
   },
   {
    "duration": 6,
    "start_time": "2022-04-28T08:26:43.472Z"
   },
   {
    "duration": 10,
    "start_time": "2022-04-28T08:27:12.694Z"
   },
   {
    "duration": 11,
    "start_time": "2022-04-28T08:27:14.909Z"
   },
   {
    "duration": 16,
    "start_time": "2022-04-28T08:27:18.510Z"
   },
   {
    "duration": 25,
    "start_time": "2022-04-28T08:27:25.729Z"
   },
   {
    "duration": 26,
    "start_time": "2022-04-28T08:27:34.673Z"
   },
   {
    "duration": 32,
    "start_time": "2022-04-28T08:27:40.448Z"
   },
   {
    "duration": 6,
    "start_time": "2022-04-28T08:28:10.579Z"
   },
   {
    "duration": 16,
    "start_time": "2022-04-28T08:28:14.290Z"
   },
   {
    "duration": 7,
    "start_time": "2022-04-28T08:28:18.766Z"
   },
   {
    "duration": 7,
    "start_time": "2022-04-28T08:28:23.617Z"
   },
   {
    "duration": 21,
    "start_time": "2022-04-28T08:28:25.267Z"
   },
   {
    "duration": 18,
    "start_time": "2022-04-28T08:28:45.003Z"
   },
   {
    "duration": 18,
    "start_time": "2022-04-28T08:28:53.921Z"
   },
   {
    "duration": 18,
    "start_time": "2022-04-28T08:28:56.705Z"
   },
   {
    "duration": 19,
    "start_time": "2022-04-28T08:28:58.852Z"
   },
   {
    "duration": 27,
    "start_time": "2022-04-28T08:30:21.209Z"
   },
   {
    "duration": 3,
    "start_time": "2022-04-28T08:30:31.313Z"
   },
   {
    "duration": 55,
    "start_time": "2022-04-28T08:30:32.883Z"
   },
   {
    "duration": 14,
    "start_time": "2022-04-28T08:30:34.855Z"
   },
   {
    "duration": 15,
    "start_time": "2022-04-28T08:30:43.266Z"
   },
   {
    "duration": 10,
    "start_time": "2022-04-28T08:30:45.624Z"
   },
   {
    "duration": 5,
    "start_time": "2022-04-28T08:30:47.428Z"
   },
   {
    "duration": 5,
    "start_time": "2022-04-28T08:30:49.623Z"
   },
   {
    "duration": 7,
    "start_time": "2022-04-28T08:30:51.239Z"
   },
   {
    "duration": 9,
    "start_time": "2022-04-28T08:30:53.373Z"
   },
   {
    "duration": 7,
    "start_time": "2022-04-28T08:30:54.963Z"
   },
   {
    "duration": 9,
    "start_time": "2022-04-28T08:30:56.982Z"
   },
   {
    "duration": 6,
    "start_time": "2022-04-28T08:30:58.710Z"
   },
   {
    "duration": 12,
    "start_time": "2022-04-28T08:31:03.049Z"
   },
   {
    "duration": 7,
    "start_time": "2022-04-28T08:31:05.120Z"
   },
   {
    "duration": 7,
    "start_time": "2022-04-28T08:31:09.916Z"
   },
   {
    "duration": 21,
    "start_time": "2022-04-28T08:31:12.152Z"
   },
   {
    "duration": 6,
    "start_time": "2022-04-28T08:31:15.533Z"
   },
   {
    "duration": 27,
    "start_time": "2022-04-28T08:31:17.415Z"
   },
   {
    "duration": 6,
    "start_time": "2022-04-28T08:31:19.600Z"
   },
   {
    "duration": 7,
    "start_time": "2022-04-28T08:31:21.491Z"
   },
   {
    "duration": 17,
    "start_time": "2022-04-28T08:31:24.600Z"
   },
   {
    "duration": 33,
    "start_time": "2022-04-28T08:31:26.110Z"
   },
   {
    "duration": 5,
    "start_time": "2022-04-28T08:31:27.935Z"
   },
   {
    "duration": 14,
    "start_time": "2022-04-28T08:31:30.007Z"
   },
   {
    "duration": 6,
    "start_time": "2022-04-28T08:31:31.634Z"
   },
   {
    "duration": 6,
    "start_time": "2022-04-28T08:31:33.074Z"
   },
   {
    "duration": 6,
    "start_time": "2022-04-28T08:31:34.414Z"
   },
   {
    "duration": 23,
    "start_time": "2022-04-28T08:31:36.983Z"
   },
   {
    "duration": 6,
    "start_time": "2022-04-28T08:31:40.016Z"
   },
   {
    "duration": 11,
    "start_time": "2022-04-28T08:31:42.089Z"
   },
   {
    "duration": 10,
    "start_time": "2022-04-28T08:31:45.174Z"
   },
   {
    "duration": 15,
    "start_time": "2022-04-28T08:31:49.587Z"
   },
   {
    "duration": 33,
    "start_time": "2022-04-28T08:31:53.119Z"
   },
   {
    "duration": 20,
    "start_time": "2022-04-28T08:31:55.778Z"
   },
   {
    "duration": 40,
    "start_time": "2022-04-28T08:31:58.298Z"
   },
   {
    "duration": 40,
    "start_time": "2022-04-28T08:32:02.371Z"
   },
   {
    "duration": 34,
    "start_time": "2022-04-28T08:32:10.974Z"
   },
   {
    "duration": 29,
    "start_time": "2022-04-28T08:32:13.125Z"
   },
   {
    "duration": 32,
    "start_time": "2022-04-28T08:32:15.376Z"
   },
   {
    "duration": 30,
    "start_time": "2022-04-28T08:32:18.867Z"
   },
   {
    "duration": 545,
    "start_time": "2022-05-03T07:59:19.696Z"
   },
   {
    "duration": 80,
    "start_time": "2022-05-03T07:59:20.244Z"
   },
   {
    "duration": 35,
    "start_time": "2022-05-03T07:59:20.326Z"
   },
   {
    "duration": 22,
    "start_time": "2022-05-03T07:59:20.365Z"
   },
   {
    "duration": 38,
    "start_time": "2022-05-03T07:59:20.389Z"
   },
   {
    "duration": 8,
    "start_time": "2022-05-03T07:59:20.430Z"
   },
   {
    "duration": 25,
    "start_time": "2022-05-03T07:59:20.440Z"
   },
   {
    "duration": 15,
    "start_time": "2022-05-03T07:59:20.468Z"
   },
   {
    "duration": 11,
    "start_time": "2022-05-03T07:59:20.486Z"
   },
   {
    "duration": 10,
    "start_time": "2022-05-03T07:59:20.530Z"
   },
   {
    "duration": 31,
    "start_time": "2022-05-03T07:59:20.543Z"
   },
   {
    "duration": 12,
    "start_time": "2022-05-03T07:59:20.576Z"
   },
   {
    "duration": 35,
    "start_time": "2022-05-03T07:59:20.590Z"
   },
   {
    "duration": 33,
    "start_time": "2022-05-03T07:59:20.651Z"
   },
   {
    "duration": 42,
    "start_time": "2022-05-03T07:59:20.686Z"
   },
   {
    "duration": 44,
    "start_time": "2022-05-03T07:59:20.731Z"
   },
   {
    "duration": 7,
    "start_time": "2022-05-03T07:59:20.777Z"
   },
   {
    "duration": 45,
    "start_time": "2022-05-03T07:59:20.786Z"
   },
   {
    "duration": 28,
    "start_time": "2022-05-03T07:59:20.833Z"
   },
   {
    "duration": 77,
    "start_time": "2022-05-03T07:59:20.864Z"
   },
   {
    "duration": 8,
    "start_time": "2022-05-03T07:59:20.943Z"
   },
   {
    "duration": 27,
    "start_time": "2022-05-03T07:59:20.952Z"
   },
   {
    "duration": 9,
    "start_time": "2022-05-03T07:59:20.981Z"
   },
   {
    "duration": 38,
    "start_time": "2022-05-03T07:59:20.992Z"
   },
   {
    "duration": 11,
    "start_time": "2022-05-03T07:59:21.032Z"
   },
   {
    "duration": 38,
    "start_time": "2022-05-03T07:59:21.048Z"
   },
   {
    "duration": 47,
    "start_time": "2022-05-03T07:59:21.088Z"
   },
   {
    "duration": 15,
    "start_time": "2022-05-03T07:59:21.137Z"
   },
   {
    "duration": 16,
    "start_time": "2022-05-03T07:59:21.154Z"
   },
   {
    "duration": 54,
    "start_time": "2022-05-03T07:59:21.172Z"
   },
   {
    "duration": 42,
    "start_time": "2022-05-03T07:59:21.229Z"
   },
   {
    "duration": 65,
    "start_time": "2022-05-03T07:59:21.274Z"
   },
   {
    "duration": 38,
    "start_time": "2022-05-03T07:59:21.341Z"
   },
   {
    "duration": 48,
    "start_time": "2022-05-03T07:59:21.381Z"
   },
   {
    "duration": 28,
    "start_time": "2022-05-03T07:59:21.431Z"
   },
   {
    "duration": 28,
    "start_time": "2022-05-03T07:59:21.460Z"
   },
   {
    "duration": 595,
    "start_time": "2022-05-03T08:08:36.706Z"
   },
   {
    "duration": 78,
    "start_time": "2022-05-03T08:08:37.304Z"
   },
   {
    "duration": 43,
    "start_time": "2022-05-03T08:08:37.384Z"
   },
   {
    "duration": 21,
    "start_time": "2022-05-03T08:08:37.430Z"
   },
   {
    "duration": 14,
    "start_time": "2022-05-03T08:08:37.454Z"
   },
   {
    "duration": 10,
    "start_time": "2022-05-03T08:08:37.470Z"
   },
   {
    "duration": 45,
    "start_time": "2022-05-03T08:08:37.482Z"
   },
   {
    "duration": 11,
    "start_time": "2022-05-03T08:08:37.529Z"
   },
   {
    "duration": 13,
    "start_time": "2022-05-03T08:08:37.543Z"
   },
   {
    "duration": 15,
    "start_time": "2022-05-03T08:08:37.559Z"
   },
   {
    "duration": 57,
    "start_time": "2022-05-03T08:08:37.576Z"
   },
   {
    "duration": 7,
    "start_time": "2022-05-03T08:08:37.636Z"
   },
   {
    "duration": 24,
    "start_time": "2022-05-03T08:08:37.645Z"
   },
   {
    "duration": 9,
    "start_time": "2022-05-03T08:08:37.673Z"
   },
   {
    "duration": 49,
    "start_time": "2022-05-03T08:08:37.684Z"
   },
   {
    "duration": 35,
    "start_time": "2022-05-03T08:08:37.735Z"
   },
   {
    "duration": 12,
    "start_time": "2022-05-03T08:08:37.772Z"
   },
   {
    "duration": 73,
    "start_time": "2022-05-03T08:08:37.786Z"
   },
   {
    "duration": 14,
    "start_time": "2022-05-03T08:08:37.861Z"
   },
   {
    "duration": 18,
    "start_time": "2022-05-03T08:08:37.877Z"
   },
   {
    "duration": 46,
    "start_time": "2022-05-03T08:08:37.897Z"
   },
   {
    "duration": 51,
    "start_time": "2022-05-03T08:08:37.945Z"
   },
   {
    "duration": 28,
    "start_time": "2022-05-03T08:08:37.998Z"
   },
   {
    "duration": 22,
    "start_time": "2022-05-03T08:08:38.028Z"
   },
   {
    "duration": 11,
    "start_time": "2022-05-03T08:08:38.052Z"
   },
   {
    "duration": 16,
    "start_time": "2022-05-03T08:08:38.065Z"
   },
   {
    "duration": 16,
    "start_time": "2022-05-03T08:08:38.083Z"
   },
   {
    "duration": 39,
    "start_time": "2022-05-03T08:08:38.126Z"
   },
   {
    "duration": 21,
    "start_time": "2022-05-03T08:08:38.167Z"
   },
   {
    "duration": 21,
    "start_time": "2022-05-03T08:08:38.190Z"
   },
   {
    "duration": 14,
    "start_time": "2022-05-03T08:08:38.225Z"
   },
   {
    "duration": 28,
    "start_time": "2022-05-03T08:08:38.241Z"
   },
   {
    "duration": 66,
    "start_time": "2022-05-03T08:08:38.271Z"
   },
   {
    "duration": 40,
    "start_time": "2022-05-03T08:08:38.339Z"
   },
   {
    "duration": 59,
    "start_time": "2022-05-03T08:08:38.381Z"
   },
   {
    "duration": 26,
    "start_time": "2022-05-03T08:08:38.443Z"
   },
   {
    "duration": 25,
    "start_time": "2022-05-03T08:08:38.471Z"
   },
   {
    "duration": 52,
    "start_time": "2022-05-03T08:08:38.498Z"
   },
   {
    "duration": 84,
    "start_time": "2022-05-04T07:54:14.331Z"
   },
   {
    "duration": 574,
    "start_time": "2022-05-04T07:54:34.945Z"
   },
   {
    "duration": 75,
    "start_time": "2022-05-04T07:54:36.478Z"
   },
   {
    "duration": 39,
    "start_time": "2022-05-04T07:54:41.263Z"
   },
   {
    "duration": 16,
    "start_time": "2022-05-04T07:54:43.611Z"
   },
   {
    "duration": 12,
    "start_time": "2022-05-04T07:54:46.027Z"
   },
   {
    "duration": 6,
    "start_time": "2022-05-04T07:54:48.157Z"
   },
   {
    "duration": 5,
    "start_time": "2022-05-04T07:54:52.748Z"
   },
   {
    "duration": 8,
    "start_time": "2022-05-04T07:54:54.909Z"
   },
   {
    "duration": 10,
    "start_time": "2022-05-04T07:54:56.749Z"
   },
   {
    "duration": 8,
    "start_time": "2022-05-04T07:54:59.117Z"
   },
   {
    "duration": 12,
    "start_time": "2022-05-04T07:55:00.906Z"
   },
   {
    "duration": 6,
    "start_time": "2022-05-04T07:55:11.532Z"
   },
   {
    "duration": 7,
    "start_time": "2022-05-04T07:55:37.690Z"
   },
   {
    "duration": 5,
    "start_time": "2022-05-04T07:55:46.114Z"
   },
   {
    "duration": 72,
    "start_time": "2022-05-04T07:55:47.662Z"
   },
   {
    "duration": 28,
    "start_time": "2022-05-04T07:55:50.682Z"
   },
   {
    "duration": 16,
    "start_time": "2022-05-04T07:55:53.522Z"
   },
   {
    "duration": 15,
    "start_time": "2022-05-04T07:55:55.541Z"
   },
   {
    "duration": 7,
    "start_time": "2022-05-04T07:55:57.532Z"
   },
   {
    "duration": 8,
    "start_time": "2022-05-04T07:55:59.967Z"
   },
   {
    "duration": 12,
    "start_time": "2022-05-04T07:56:02.135Z"
   },
   {
    "duration": 31,
    "start_time": "2022-05-04T07:56:04.191Z"
   },
   {
    "duration": 9,
    "start_time": "2022-05-04T07:56:06.610Z"
   },
   {
    "duration": 10,
    "start_time": "2022-05-04T07:56:08.806Z"
   },
   {
    "duration": 6,
    "start_time": "2022-05-04T07:56:11.689Z"
   },
   {
    "duration": 21,
    "start_time": "2022-05-04T07:56:13.967Z"
   },
   {
    "duration": 7,
    "start_time": "2022-05-04T07:56:16.138Z"
   },
   {
    "duration": 8,
    "start_time": "2022-05-04T07:56:18.849Z"
   },
   {
    "duration": 6,
    "start_time": "2022-05-04T07:56:36.334Z"
   },
   {
    "duration": 6,
    "start_time": "2022-05-04T07:56:54.337Z"
   },
   {
    "duration": 7,
    "start_time": "2022-05-04T07:57:13.508Z"
   },
   {
    "duration": 29,
    "start_time": "2022-05-04T07:57:18.545Z"
   },
   {
    "duration": 10,
    "start_time": "2022-05-04T07:57:21.988Z"
   },
   {
    "duration": 6,
    "start_time": "2022-05-04T07:57:35.669Z"
   },
   {
    "duration": 197,
    "start_time": "2022-05-04T07:58:21.644Z"
   },
   {
    "duration": 7,
    "start_time": "2022-05-04T08:01:41.639Z"
   },
   {
    "duration": 8,
    "start_time": "2022-05-04T08:08:17.252Z"
   },
   {
    "duration": 6,
    "start_time": "2022-05-04T08:08:19.927Z"
   },
   {
    "duration": 41,
    "start_time": "2022-05-04T08:08:21.416Z"
   },
   {
    "duration": 6,
    "start_time": "2022-05-04T08:08:25.962Z"
   },
   {
    "duration": 25,
    "start_time": "2022-05-04T08:11:43.019Z"
   },
   {
    "duration": 17,
    "start_time": "2022-05-04T08:12:45.357Z"
   },
   {
    "duration": 35,
    "start_time": "2022-05-04T08:13:14.901Z"
   },
   {
    "duration": 21,
    "start_time": "2022-05-04T08:13:16.875Z"
   },
   {
    "duration": 17,
    "start_time": "2022-05-04T08:13:54.940Z"
   },
   {
    "duration": 21,
    "start_time": "2022-05-04T14:46:16.227Z"
   },
   {
    "duration": 21,
    "start_time": "2022-05-04T14:51:14.129Z"
   },
   {
    "duration": 52,
    "start_time": "2022-05-04T15:07:09.679Z"
   },
   {
    "duration": 38,
    "start_time": "2022-05-04T15:07:23.198Z"
   },
   {
    "duration": 6,
    "start_time": "2022-05-04T15:18:39.395Z"
   },
   {
    "duration": 29,
    "start_time": "2022-05-04T15:19:26.639Z"
   },
   {
    "duration": 17,
    "start_time": "2022-05-04T15:19:46.768Z"
   },
   {
    "duration": 6,
    "start_time": "2022-05-04T15:20:44.727Z"
   },
   {
    "duration": 25,
    "start_time": "2022-05-04T15:20:48.310Z"
   },
   {
    "duration": 17,
    "start_time": "2022-05-04T15:20:51.937Z"
   },
   {
    "duration": 5,
    "start_time": "2022-05-04T15:21:20.485Z"
   },
   {
    "duration": 18,
    "start_time": "2022-05-04T15:24:00.748Z"
   },
   {
    "duration": 5,
    "start_time": "2022-05-04T15:24:03.787Z"
   },
   {
    "duration": 16,
    "start_time": "2022-05-04T15:24:06.185Z"
   },
   {
    "duration": 2,
    "start_time": "2022-05-04T15:24:24.809Z"
   },
   {
    "duration": 57,
    "start_time": "2022-05-04T15:24:26.290Z"
   },
   {
    "duration": 16,
    "start_time": "2022-05-04T15:24:27.900Z"
   },
   {
    "duration": 14,
    "start_time": "2022-05-04T15:24:30.692Z"
   },
   {
    "duration": 11,
    "start_time": "2022-05-04T15:24:32.828Z"
   },
   {
    "duration": 6,
    "start_time": "2022-05-04T15:24:34.943Z"
   },
   {
    "duration": 5,
    "start_time": "2022-05-04T15:24:37.441Z"
   },
   {
    "duration": 8,
    "start_time": "2022-05-04T15:24:39.338Z"
   },
   {
    "duration": 8,
    "start_time": "2022-05-04T15:24:40.909Z"
   },
   {
    "duration": 8,
    "start_time": "2022-05-04T15:24:43.134Z"
   },
   {
    "duration": 9,
    "start_time": "2022-05-04T15:24:45.669Z"
   },
   {
    "duration": 6,
    "start_time": "2022-05-04T15:24:48.043Z"
   },
   {
    "duration": 14,
    "start_time": "2022-05-04T15:24:49.932Z"
   },
   {
    "duration": 7,
    "start_time": "2022-05-04T15:24:52.204Z"
   },
   {
    "duration": 8,
    "start_time": "2022-05-04T15:24:54.762Z"
   },
   {
    "duration": 4,
    "start_time": "2022-05-04T15:25:02.001Z"
   },
   {
    "duration": 25,
    "start_time": "2022-05-04T15:25:04.055Z"
   },
   {
    "duration": 6,
    "start_time": "2022-05-04T15:25:06.161Z"
   },
   {
    "duration": 6,
    "start_time": "2022-05-04T15:25:10.225Z"
   },
   {
    "duration": 8,
    "start_time": "2022-05-04T15:25:20.963Z"
   },
   {
    "duration": 5,
    "start_time": "2022-05-04T15:25:23.836Z"
   },
   {
    "duration": 14,
    "start_time": "2022-05-04T15:25:26.397Z"
   },
   {
    "duration": 19,
    "start_time": "2022-05-04T15:25:28.720Z"
   },
   {
    "duration": 16,
    "start_time": "2022-05-04T15:26:26.944Z"
   },
   {
    "duration": 33,
    "start_time": "2022-05-04T15:32:03.269Z"
   },
   {
    "duration": 33,
    "start_time": "2022-05-04T15:32:07.837Z"
   },
   {
    "duration": 34,
    "start_time": "2022-05-04T15:32:19.711Z"
   },
   {
    "duration": 5,
    "start_time": "2022-05-04T15:32:53.579Z"
   },
   {
    "duration": 25,
    "start_time": "2022-05-04T15:32:56.695Z"
   },
   {
    "duration": 35,
    "start_time": "2022-05-04T15:33:51.330Z"
   },
   {
    "duration": 6,
    "start_time": "2022-05-04T15:34:20.705Z"
   },
   {
    "duration": 406,
    "start_time": "2022-05-04T15:34:34.344Z"
   },
   {
    "duration": 64,
    "start_time": "2022-05-04T15:34:35.787Z"
   },
   {
    "duration": 21,
    "start_time": "2022-05-04T15:34:37.450Z"
   },
   {
    "duration": 20,
    "start_time": "2022-05-04T15:34:44.193Z"
   },
   {
    "duration": 11,
    "start_time": "2022-05-04T15:34:47.591Z"
   },
   {
    "duration": 6,
    "start_time": "2022-05-04T15:34:49.659Z"
   },
   {
    "duration": 5,
    "start_time": "2022-05-04T15:34:52.290Z"
   },
   {
    "duration": 7,
    "start_time": "2022-05-04T15:34:54.536Z"
   },
   {
    "duration": 8,
    "start_time": "2022-05-04T15:34:56.168Z"
   },
   {
    "duration": 11,
    "start_time": "2022-05-04T15:34:58.659Z"
   },
   {
    "duration": 11,
    "start_time": "2022-05-04T15:35:00.796Z"
   },
   {
    "duration": 7,
    "start_time": "2022-05-04T15:35:02.762Z"
   },
   {
    "duration": 21,
    "start_time": "2022-05-04T15:35:05.250Z"
   },
   {
    "duration": 7,
    "start_time": "2022-05-04T15:35:13.050Z"
   },
   {
    "duration": 8,
    "start_time": "2022-05-04T15:35:15.823Z"
   },
   {
    "duration": 5,
    "start_time": "2022-05-04T15:35:20.717Z"
   },
   {
    "duration": 27,
    "start_time": "2022-05-04T15:35:22.702Z"
   },
   {
    "duration": 6,
    "start_time": "2022-05-04T15:35:25.022Z"
   },
   {
    "duration": 7,
    "start_time": "2022-05-04T15:35:27.366Z"
   },
   {
    "duration": 7,
    "start_time": "2022-05-04T15:35:31.455Z"
   },
   {
    "duration": 5,
    "start_time": "2022-05-04T15:35:33.675Z"
   },
   {
    "duration": 15,
    "start_time": "2022-05-04T15:35:37.117Z"
   },
   {
    "duration": 17,
    "start_time": "2022-05-04T15:35:40.687Z"
   },
   {
    "duration": 35,
    "start_time": "2022-05-04T15:35:43.794Z"
   },
   {
    "duration": 5,
    "start_time": "2022-05-04T15:35:57.772Z"
   },
   {
    "duration": 5,
    "start_time": "2022-05-04T15:35:59.453Z"
   },
   {
    "duration": 6,
    "start_time": "2022-05-04T15:36:02.291Z"
   },
   {
    "duration": 25,
    "start_time": "2022-05-04T15:36:05.381Z"
   },
   {
    "duration": 6,
    "start_time": "2022-05-04T15:36:11.456Z"
   },
   {
    "duration": 11,
    "start_time": "2022-05-04T15:36:32.731Z"
   },
   {
    "duration": 15,
    "start_time": "2022-05-04T15:37:08.699Z"
   },
   {
    "duration": 39,
    "start_time": "2022-05-04T15:37:16.098Z"
   },
   {
    "duration": 22,
    "start_time": "2022-05-04T15:46:12.486Z"
   },
   {
    "duration": 36,
    "start_time": "2022-05-04T15:46:31.668Z"
   },
   {
    "duration": 14,
    "start_time": "2022-05-04T15:54:47.963Z"
   },
   {
    "duration": 10,
    "start_time": "2022-05-04T15:54:52.173Z"
   },
   {
    "duration": 11,
    "start_time": "2022-05-04T17:18:07.112Z"
   },
   {
    "duration": 26,
    "start_time": "2022-05-04T17:18:58.580Z"
   },
   {
    "duration": 13,
    "start_time": "2022-05-04T17:19:43.261Z"
   },
   {
    "duration": 20,
    "start_time": "2022-05-04T17:20:10.735Z"
   },
   {
    "duration": 12,
    "start_time": "2022-05-04T17:20:25.811Z"
   },
   {
    "duration": 15,
    "start_time": "2022-05-04T17:20:27.643Z"
   },
   {
    "duration": 18,
    "start_time": "2022-05-04T17:21:49.108Z"
   },
   {
    "duration": 16,
    "start_time": "2022-05-04T17:23:19.055Z"
   },
   {
    "duration": 14,
    "start_time": "2022-05-04T17:23:31.024Z"
   },
   {
    "duration": 137,
    "start_time": "2022-05-04T17:26:02.966Z"
   },
   {
    "duration": 166,
    "start_time": "2022-05-04T17:26:12.803Z"
   },
   {
    "duration": 178,
    "start_time": "2022-05-04T17:26:22.643Z"
   },
   {
    "duration": 6,
    "start_time": "2022-05-04T17:29:13.410Z"
   },
   {
    "duration": 111,
    "start_time": "2022-05-04T17:33:38.548Z"
   },
   {
    "duration": 112,
    "start_time": "2022-05-04T17:33:52.248Z"
   },
   {
    "duration": 31,
    "start_time": "2022-05-04T18:17:27.185Z"
   },
   {
    "duration": 398,
    "start_time": "2022-05-04T18:21:46.798Z"
   },
   {
    "duration": 58,
    "start_time": "2022-05-04T18:21:48.752Z"
   },
   {
    "duration": 24,
    "start_time": "2022-05-04T18:21:51.207Z"
   },
   {
    "duration": 15,
    "start_time": "2022-05-04T18:21:54.811Z"
   },
   {
    "duration": 10,
    "start_time": "2022-05-04T18:21:57.097Z"
   },
   {
    "duration": 6,
    "start_time": "2022-05-04T18:21:59.963Z"
   },
   {
    "duration": 5,
    "start_time": "2022-05-04T18:22:11.843Z"
   },
   {
    "duration": 8,
    "start_time": "2022-05-04T18:22:13.629Z"
   },
   {
    "duration": 8,
    "start_time": "2022-05-04T18:22:16.234Z"
   },
   {
    "duration": 9,
    "start_time": "2022-05-04T18:22:18.755Z"
   },
   {
    "duration": 8,
    "start_time": "2022-05-04T18:22:20.725Z"
   },
   {
    "duration": 5,
    "start_time": "2022-05-04T18:22:23.006Z"
   },
   {
    "duration": 23,
    "start_time": "2022-05-04T18:22:25.369Z"
   },
   {
    "duration": 9,
    "start_time": "2022-05-04T18:22:27.622Z"
   },
   {
    "duration": 9,
    "start_time": "2022-05-04T18:22:30.896Z"
   },
   {
    "duration": 5,
    "start_time": "2022-05-04T18:22:43.279Z"
   },
   {
    "duration": 27,
    "start_time": "2022-05-04T18:22:50.020Z"
   },
   {
    "duration": 3,
    "start_time": "2022-05-04T18:26:58.690Z"
   },
   {
    "duration": 21,
    "start_time": "2022-05-04T18:37:56.636Z"
   },
   {
    "duration": 21,
    "start_time": "2022-05-04T18:39:15.922Z"
   },
   {
    "duration": 4,
    "start_time": "2022-05-04T18:40:02.018Z"
   },
   {
    "duration": 6,
    "start_time": "2022-05-04T18:40:04.957Z"
   },
   {
    "duration": 6,
    "start_time": "2022-05-04T18:41:40.826Z"
   },
   {
    "duration": 6,
    "start_time": "2022-05-04T18:41:43.847Z"
   },
   {
    "duration": 9,
    "start_time": "2022-05-04T18:41:58.871Z"
   },
   {
    "duration": 8,
    "start_time": "2022-05-04T18:42:02.669Z"
   },
   {
    "duration": 26,
    "start_time": "2022-05-04T18:42:04.560Z"
   },
   {
    "duration": 27,
    "start_time": "2022-05-04T18:42:06.386Z"
   },
   {
    "duration": 45,
    "start_time": "2022-05-04T18:42:08.502Z"
   },
   {
    "duration": 6,
    "start_time": "2022-05-04T18:42:10.867Z"
   },
   {
    "duration": 5,
    "start_time": "2022-05-04T18:42:12.988Z"
   },
   {
    "duration": 25,
    "start_time": "2022-05-04T18:42:15.158Z"
   },
   {
    "duration": 9,
    "start_time": "2022-05-04T18:42:18.829Z"
   },
   {
    "duration": 13,
    "start_time": "2022-05-04T18:42:22.217Z"
   },
   {
    "duration": 12,
    "start_time": "2022-05-04T18:42:33.001Z"
   },
   {
    "duration": 17,
    "start_time": "2022-05-04T18:42:34.538Z"
   },
   {
    "duration": 44,
    "start_time": "2022-05-04T18:42:42.438Z"
   },
   {
    "duration": 33,
    "start_time": "2022-05-04T18:42:47.457Z"
   },
   {
    "duration": 210,
    "start_time": "2022-05-04T18:44:25.070Z"
   },
   {
    "duration": 25,
    "start_time": "2022-05-04T18:45:58.882Z"
   },
   {
    "duration": 7,
    "start_time": "2022-05-04T18:46:11.120Z"
   },
   {
    "duration": 30,
    "start_time": "2022-05-04T18:46:13.726Z"
   },
   {
    "duration": 445,
    "start_time": "2022-05-04T18:47:01.698Z"
   },
   {
    "duration": 58,
    "start_time": "2022-05-04T18:47:02.520Z"
   },
   {
    "duration": 22,
    "start_time": "2022-05-04T18:47:03.228Z"
   },
   {
    "duration": 24,
    "start_time": "2022-05-04T18:47:05.660Z"
   },
   {
    "duration": 10,
    "start_time": "2022-05-04T18:47:07.650Z"
   },
   {
    "duration": 6,
    "start_time": "2022-05-04T18:47:09.433Z"
   },
   {
    "duration": 5,
    "start_time": "2022-05-04T18:47:11.550Z"
   },
   {
    "duration": 8,
    "start_time": "2022-05-04T18:47:13.043Z"
   },
   {
    "duration": 9,
    "start_time": "2022-05-04T18:47:15.436Z"
   },
   {
    "duration": 9,
    "start_time": "2022-05-04T18:47:17.723Z"
   },
   {
    "duration": 9,
    "start_time": "2022-05-04T18:47:19.544Z"
   },
   {
    "duration": 6,
    "start_time": "2022-05-04T18:47:21.486Z"
   },
   {
    "duration": 20,
    "start_time": "2022-05-04T18:47:23.588Z"
   },
   {
    "duration": 7,
    "start_time": "2022-05-04T18:47:25.873Z"
   },
   {
    "duration": 9,
    "start_time": "2022-05-04T18:47:27.952Z"
   },
   {
    "duration": 5,
    "start_time": "2022-05-04T18:47:30.306Z"
   },
   {
    "duration": 4,
    "start_time": "2022-05-04T18:47:32.215Z"
   },
   {
    "duration": 6,
    "start_time": "2022-05-04T18:47:38.530Z"
   },
   {
    "duration": 6,
    "start_time": "2022-05-04T18:47:45.105Z"
   },
   {
    "duration": 8,
    "start_time": "2022-05-04T18:47:48.212Z"
   },
   {
    "duration": 7,
    "start_time": "2022-05-04T18:47:50.772Z"
   },
   {
    "duration": 18,
    "start_time": "2022-05-04T18:47:52.637Z"
   },
   {
    "duration": 19,
    "start_time": "2022-05-04T18:47:53.384Z"
   },
   {
    "duration": 40,
    "start_time": "2022-05-04T18:47:53.948Z"
   },
   {
    "duration": 6,
    "start_time": "2022-05-04T18:47:56.234Z"
   },
   {
    "duration": 5,
    "start_time": "2022-05-04T18:47:56.947Z"
   },
   {
    "duration": 6,
    "start_time": "2022-05-04T18:47:57.538Z"
   },
   {
    "duration": 43,
    "start_time": "2022-05-04T18:47:58.622Z"
   },
   {
    "duration": 26,
    "start_time": "2022-05-04T18:49:31.973Z"
   },
   {
    "duration": 6,
    "start_time": "2022-05-04T18:49:54.831Z"
   },
   {
    "duration": 7,
    "start_time": "2022-05-04T18:50:35.919Z"
   },
   {
    "duration": 8,
    "start_time": "2022-05-04T18:50:58.274Z"
   },
   {
    "duration": 7,
    "start_time": "2022-05-04T18:51:09.900Z"
   },
   {
    "duration": 27,
    "start_time": "2022-05-04T18:52:10.752Z"
   },
   {
    "duration": 10,
    "start_time": "2022-05-04T18:52:29.578Z"
   },
   {
    "duration": 15,
    "start_time": "2022-05-04T18:52:33.306Z"
   },
   {
    "duration": 15,
    "start_time": "2022-05-04T18:52:35.256Z"
   },
   {
    "duration": 25,
    "start_time": "2022-05-04T18:52:37.222Z"
   },
   {
    "duration": 27,
    "start_time": "2022-05-04T18:52:43.814Z"
   },
   {
    "duration": 24,
    "start_time": "2022-05-04T18:52:59.570Z"
   },
   {
    "duration": 20,
    "start_time": "2022-05-04T18:53:01.500Z"
   },
   {
    "duration": 18,
    "start_time": "2022-05-04T18:53:03.604Z"
   },
   {
    "duration": 23,
    "start_time": "2022-05-04T18:53:05.146Z"
   },
   {
    "duration": 134,
    "start_time": "2022-05-05T17:51:19.334Z"
   },
   {
    "duration": 130,
    "start_time": "2022-05-05T18:00:22.912Z"
   },
   {
    "duration": 156,
    "start_time": "2022-05-05T18:00:36.904Z"
   },
   {
    "duration": 134,
    "start_time": "2022-05-05T18:01:03.416Z"
   },
   {
    "duration": 159,
    "start_time": "2022-05-05T18:50:24.099Z"
   },
   {
    "duration": 165,
    "start_time": "2022-05-05T18:59:55.467Z"
   },
   {
    "duration": 391,
    "start_time": "2022-05-06T06:56:58.381Z"
   },
   {
    "duration": 66,
    "start_time": "2022-05-06T06:56:58.774Z"
   },
   {
    "duration": 25,
    "start_time": "2022-05-06T06:56:58.842Z"
   },
   {
    "duration": 16,
    "start_time": "2022-05-06T06:56:58.869Z"
   },
   {
    "duration": 11,
    "start_time": "2022-05-06T06:56:58.888Z"
   },
   {
    "duration": 35,
    "start_time": "2022-05-06T06:56:58.900Z"
   },
   {
    "duration": 8,
    "start_time": "2022-05-06T06:56:58.937Z"
   },
   {
    "duration": 9,
    "start_time": "2022-05-06T06:56:58.947Z"
   },
   {
    "duration": 9,
    "start_time": "2022-05-06T06:56:58.958Z"
   },
   {
    "duration": 8,
    "start_time": "2022-05-06T06:56:58.969Z"
   },
   {
    "duration": 10,
    "start_time": "2022-05-06T06:56:58.978Z"
   },
   {
    "duration": 44,
    "start_time": "2022-05-06T06:56:58.990Z"
   },
   {
    "duration": 16,
    "start_time": "2022-05-06T06:56:59.036Z"
   },
   {
    "duration": 7,
    "start_time": "2022-05-06T06:56:59.055Z"
   },
   {
    "duration": 8,
    "start_time": "2022-05-06T06:56:59.063Z"
   },
   {
    "duration": 4,
    "start_time": "2022-05-06T06:56:59.073Z"
   },
   {
    "duration": 4,
    "start_time": "2022-05-06T06:56:59.079Z"
   },
   {
    "duration": 6,
    "start_time": "2022-05-06T06:56:59.085Z"
   },
   {
    "duration": 4,
    "start_time": "2022-05-06T06:56:59.134Z"
   },
   {
    "duration": 11,
    "start_time": "2022-05-06T06:56:59.140Z"
   },
   {
    "duration": 5,
    "start_time": "2022-05-06T06:56:59.153Z"
   },
   {
    "duration": 18,
    "start_time": "2022-05-06T06:56:59.160Z"
   },
   {
    "duration": 18,
    "start_time": "2022-05-06T06:56:59.180Z"
   },
   {
    "duration": 67,
    "start_time": "2022-05-06T06:56:59.200Z"
   },
   {
    "duration": 5,
    "start_time": "2022-05-06T06:56:59.269Z"
   },
   {
    "duration": 7,
    "start_time": "2022-05-06T06:56:59.276Z"
   },
   {
    "duration": 7,
    "start_time": "2022-05-06T06:56:59.284Z"
   },
   {
    "duration": 58,
    "start_time": "2022-05-06T06:56:59.293Z"
   },
   {
    "duration": 7,
    "start_time": "2022-05-06T06:56:59.353Z"
   },
   {
    "duration": 16,
    "start_time": "2022-05-06T06:56:59.361Z"
   },
   {
    "duration": 11,
    "start_time": "2022-05-06T06:56:59.379Z"
   },
   {
    "duration": 41,
    "start_time": "2022-05-06T06:56:59.392Z"
   },
   {
    "duration": 29,
    "start_time": "2022-05-06T06:56:59.435Z"
   },
   {
    "duration": 24,
    "start_time": "2022-05-06T06:56:59.466Z"
   },
   {
    "duration": 45,
    "start_time": "2022-05-06T06:56:59.492Z"
   },
   {
    "duration": 20,
    "start_time": "2022-05-06T06:56:59.539Z"
   },
   {
    "duration": 20,
    "start_time": "2022-05-06T06:56:59.561Z"
   },
   {
    "duration": 445,
    "start_time": "2022-05-06T06:59:49.299Z"
   },
   {
    "duration": 72,
    "start_time": "2022-05-06T06:59:49.746Z"
   },
   {
    "duration": 27,
    "start_time": "2022-05-06T06:59:49.820Z"
   },
   {
    "duration": 19,
    "start_time": "2022-05-06T06:59:49.850Z"
   },
   {
    "duration": 12,
    "start_time": "2022-05-06T06:59:49.871Z"
   },
   {
    "duration": 7,
    "start_time": "2022-05-06T06:59:49.886Z"
   },
   {
    "duration": 40,
    "start_time": "2022-05-06T06:59:49.895Z"
   },
   {
    "duration": 16,
    "start_time": "2022-05-06T06:59:49.937Z"
   },
   {
    "duration": 10,
    "start_time": "2022-05-06T06:59:49.955Z"
   },
   {
    "duration": 10,
    "start_time": "2022-05-06T06:59:49.967Z"
   },
   {
    "duration": 13,
    "start_time": "2022-05-06T06:59:49.979Z"
   },
   {
    "duration": 40,
    "start_time": "2022-05-06T06:59:49.995Z"
   },
   {
    "duration": 20,
    "start_time": "2022-05-06T06:59:50.037Z"
   },
   {
    "duration": 9,
    "start_time": "2022-05-06T06:59:50.059Z"
   },
   {
    "duration": 14,
    "start_time": "2022-05-06T06:59:50.070Z"
   },
   {
    "duration": 6,
    "start_time": "2022-05-06T06:59:50.086Z"
   },
   {
    "duration": 42,
    "start_time": "2022-05-06T06:59:50.094Z"
   },
   {
    "duration": 10,
    "start_time": "2022-05-06T06:59:50.138Z"
   },
   {
    "duration": 10,
    "start_time": "2022-05-06T06:59:50.151Z"
   },
   {
    "duration": 13,
    "start_time": "2022-05-06T06:59:50.163Z"
   },
   {
    "duration": 9,
    "start_time": "2022-05-06T06:59:50.178Z"
   },
   {
    "duration": 51,
    "start_time": "2022-05-06T06:59:50.188Z"
   },
   {
    "duration": 30,
    "start_time": "2022-05-06T06:59:50.241Z"
   },
   {
    "duration": 40,
    "start_time": "2022-05-06T06:59:50.273Z"
   },
   {
    "duration": 6,
    "start_time": "2022-05-06T06:59:50.334Z"
   },
   {
    "duration": 12,
    "start_time": "2022-05-06T06:59:50.342Z"
   },
   {
    "duration": 16,
    "start_time": "2022-05-06T06:59:50.356Z"
   },
   {
    "duration": 30,
    "start_time": "2022-05-06T06:59:50.375Z"
   },
   {
    "duration": 28,
    "start_time": "2022-05-06T06:59:50.407Z"
   },
   {
    "duration": 18,
    "start_time": "2022-05-06T06:59:50.437Z"
   },
   {
    "duration": 12,
    "start_time": "2022-05-06T06:59:50.457Z"
   },
   {
    "duration": 20,
    "start_time": "2022-05-06T06:59:50.471Z"
   },
   {
    "duration": 57,
    "start_time": "2022-05-06T06:59:50.492Z"
   },
   {
    "duration": 25,
    "start_time": "2022-05-06T06:59:50.551Z"
   },
   {
    "duration": 20,
    "start_time": "2022-05-06T06:59:50.578Z"
   },
   {
    "duration": 48,
    "start_time": "2022-05-06T06:59:50.600Z"
   },
   {
    "duration": 21,
    "start_time": "2022-05-06T06:59:50.650Z"
   },
   {
    "duration": 47,
    "start_time": "2022-12-02T12:34:00.872Z"
   },
   {
    "duration": 374,
    "start_time": "2022-12-02T12:34:06.432Z"
   },
   {
    "duration": 417,
    "start_time": "2022-12-02T12:34:06.808Z"
   },
   {
    "duration": 16,
    "start_time": "2022-12-02T12:34:07.226Z"
   },
   {
    "duration": 9,
    "start_time": "2022-12-02T12:34:07.244Z"
   },
   {
    "duration": 5,
    "start_time": "2022-12-02T12:34:07.255Z"
   },
   {
    "duration": 6,
    "start_time": "2022-12-02T12:34:07.261Z"
   },
   {
    "duration": 13,
    "start_time": "2022-12-02T12:34:07.269Z"
   },
   {
    "duration": 11,
    "start_time": "2022-12-02T12:34:07.284Z"
   },
   {
    "duration": 8,
    "start_time": "2022-12-02T12:34:07.297Z"
   },
   {
    "duration": 8,
    "start_time": "2022-12-02T12:34:07.308Z"
   },
   {
    "duration": 6,
    "start_time": "2022-12-02T12:34:07.318Z"
   },
   {
    "duration": 17,
    "start_time": "2022-12-02T12:34:07.326Z"
   },
   {
    "duration": 7,
    "start_time": "2022-12-02T12:34:07.377Z"
   },
   {
    "duration": 7,
    "start_time": "2022-12-02T12:34:07.385Z"
   },
   {
    "duration": 13,
    "start_time": "2022-12-02T12:34:07.394Z"
   },
   {
    "duration": 9,
    "start_time": "2022-12-02T12:34:07.409Z"
   },
   {
    "duration": 8,
    "start_time": "2022-12-02T12:34:07.419Z"
   },
   {
    "duration": 6,
    "start_time": "2022-12-02T12:34:07.429Z"
   },
   {
    "duration": 9,
    "start_time": "2022-12-02T12:34:07.437Z"
   },
   {
    "duration": 34,
    "start_time": "2022-12-02T12:34:07.447Z"
   },
   {
    "duration": 26,
    "start_time": "2022-12-02T12:34:07.483Z"
   },
   {
    "duration": 23,
    "start_time": "2022-12-02T12:34:07.511Z"
   },
   {
    "duration": 50,
    "start_time": "2022-12-02T12:34:07.535Z"
   },
   {
    "duration": 5,
    "start_time": "2022-12-02T12:34:07.586Z"
   },
   {
    "duration": 7,
    "start_time": "2022-12-02T12:34:07.592Z"
   },
   {
    "duration": 15,
    "start_time": "2022-12-02T12:34:07.601Z"
   },
   {
    "duration": 23,
    "start_time": "2022-12-02T12:34:07.618Z"
   },
   {
    "duration": 6,
    "start_time": "2022-12-02T12:34:07.643Z"
   },
   {
    "duration": 32,
    "start_time": "2022-12-02T12:34:07.651Z"
   },
   {
    "duration": 9,
    "start_time": "2022-12-02T12:34:07.685Z"
   },
   {
    "duration": 16,
    "start_time": "2022-12-02T12:34:07.695Z"
   },
   {
    "duration": 26,
    "start_time": "2022-12-02T12:34:07.712Z"
   },
   {
    "duration": 51,
    "start_time": "2022-12-02T12:34:07.740Z"
   },
   {
    "duration": 23,
    "start_time": "2022-12-02T12:34:07.792Z"
   },
   {
    "duration": 17,
    "start_time": "2022-12-02T12:34:07.817Z"
   },
   {
    "duration": 17,
    "start_time": "2022-12-02T12:34:07.836Z"
   },
   {
    "duration": 3,
    "start_time": "2022-12-02T13:23:09.018Z"
   },
   {
    "duration": 44,
    "start_time": "2022-12-05T17:49:52.980Z"
   },
   {
    "duration": 368,
    "start_time": "2022-12-05T17:49:59.144Z"
   },
   {
    "duration": 147,
    "start_time": "2022-12-05T17:49:59.514Z"
   },
   {
    "duration": 12,
    "start_time": "2022-12-05T17:49:59.663Z"
   },
   {
    "duration": 14,
    "start_time": "2022-12-05T17:49:59.677Z"
   },
   {
    "duration": 80,
    "start_time": "2022-12-05T17:49:59.693Z"
   },
   {
    "duration": 0,
    "start_time": "2022-12-05T17:49:59.777Z"
   },
   {
    "duration": 0,
    "start_time": "2022-12-05T17:49:59.777Z"
   },
   {
    "duration": 0,
    "start_time": "2022-12-05T17:49:59.778Z"
   },
   {
    "duration": 0,
    "start_time": "2022-12-05T17:49:59.779Z"
   },
   {
    "duration": 0,
    "start_time": "2022-12-05T17:49:59.780Z"
   },
   {
    "duration": 0,
    "start_time": "2022-12-05T17:49:59.781Z"
   },
   {
    "duration": 0,
    "start_time": "2022-12-05T17:49:59.782Z"
   },
   {
    "duration": 0,
    "start_time": "2022-12-05T17:49:59.783Z"
   },
   {
    "duration": 0,
    "start_time": "2022-12-05T17:49:59.784Z"
   },
   {
    "duration": 0,
    "start_time": "2022-12-05T17:49:59.785Z"
   },
   {
    "duration": 0,
    "start_time": "2022-12-05T17:49:59.786Z"
   },
   {
    "duration": 0,
    "start_time": "2022-12-05T17:49:59.786Z"
   },
   {
    "duration": 0,
    "start_time": "2022-12-05T17:49:59.787Z"
   },
   {
    "duration": 0,
    "start_time": "2022-12-05T17:49:59.788Z"
   },
   {
    "duration": 0,
    "start_time": "2022-12-05T17:49:59.789Z"
   },
   {
    "duration": 0,
    "start_time": "2022-12-05T17:49:59.790Z"
   },
   {
    "duration": 0,
    "start_time": "2022-12-05T17:49:59.791Z"
   },
   {
    "duration": 0,
    "start_time": "2022-12-05T17:49:59.792Z"
   },
   {
    "duration": 0,
    "start_time": "2022-12-05T17:49:59.793Z"
   },
   {
    "duration": 0,
    "start_time": "2022-12-05T17:49:59.794Z"
   },
   {
    "duration": 0,
    "start_time": "2022-12-05T17:49:59.795Z"
   },
   {
    "duration": 0,
    "start_time": "2022-12-05T17:49:59.795Z"
   },
   {
    "duration": 0,
    "start_time": "2022-12-05T17:49:59.796Z"
   },
   {
    "duration": 0,
    "start_time": "2022-12-05T17:49:59.826Z"
   },
   {
    "duration": 0,
    "start_time": "2022-12-05T17:49:59.827Z"
   },
   {
    "duration": 0,
    "start_time": "2022-12-05T17:49:59.828Z"
   },
   {
    "duration": 0,
    "start_time": "2022-12-05T17:49:59.829Z"
   },
   {
    "duration": 0,
    "start_time": "2022-12-05T17:49:59.830Z"
   },
   {
    "duration": 0,
    "start_time": "2022-12-05T17:49:59.832Z"
   },
   {
    "duration": 0,
    "start_time": "2022-12-05T17:49:59.833Z"
   },
   {
    "duration": 0,
    "start_time": "2022-12-05T17:49:59.834Z"
   },
   {
    "duration": 0,
    "start_time": "2022-12-05T17:49:59.835Z"
   },
   {
    "duration": 380,
    "start_time": "2022-12-05T18:12:40.838Z"
   },
   {
    "duration": 84,
    "start_time": "2022-12-05T18:12:41.220Z"
   },
   {
    "duration": 12,
    "start_time": "2022-12-05T18:12:41.305Z"
   },
   {
    "duration": 12,
    "start_time": "2022-12-05T18:12:41.319Z"
   },
   {
    "duration": 82,
    "start_time": "2022-12-05T18:12:41.333Z"
   },
   {
    "duration": 0,
    "start_time": "2022-12-05T18:12:41.417Z"
   },
   {
    "duration": 0,
    "start_time": "2022-12-05T18:12:41.419Z"
   },
   {
    "duration": 0,
    "start_time": "2022-12-05T18:12:41.420Z"
   },
   {
    "duration": 0,
    "start_time": "2022-12-05T18:12:41.421Z"
   },
   {
    "duration": 0,
    "start_time": "2022-12-05T18:12:41.422Z"
   },
   {
    "duration": 0,
    "start_time": "2022-12-05T18:12:41.423Z"
   },
   {
    "duration": 0,
    "start_time": "2022-12-05T18:12:41.424Z"
   },
   {
    "duration": 0,
    "start_time": "2022-12-05T18:12:41.425Z"
   },
   {
    "duration": 0,
    "start_time": "2022-12-05T18:12:41.426Z"
   },
   {
    "duration": 0,
    "start_time": "2022-12-05T18:12:41.427Z"
   },
   {
    "duration": 0,
    "start_time": "2022-12-05T18:12:41.428Z"
   },
   {
    "duration": 0,
    "start_time": "2022-12-05T18:12:41.429Z"
   },
   {
    "duration": 0,
    "start_time": "2022-12-05T18:12:41.431Z"
   },
   {
    "duration": 0,
    "start_time": "2022-12-05T18:12:41.431Z"
   },
   {
    "duration": 0,
    "start_time": "2022-12-05T18:12:41.432Z"
   },
   {
    "duration": 0,
    "start_time": "2022-12-05T18:12:41.433Z"
   },
   {
    "duration": 0,
    "start_time": "2022-12-05T18:12:41.435Z"
   },
   {
    "duration": 0,
    "start_time": "2022-12-05T18:12:41.435Z"
   },
   {
    "duration": 0,
    "start_time": "2022-12-05T18:12:41.436Z"
   },
   {
    "duration": 0,
    "start_time": "2022-12-05T18:12:41.438Z"
   },
   {
    "duration": 0,
    "start_time": "2022-12-05T18:12:41.438Z"
   },
   {
    "duration": 0,
    "start_time": "2022-12-05T18:12:41.440Z"
   },
   {
    "duration": 0,
    "start_time": "2022-12-05T18:12:41.441Z"
   },
   {
    "duration": 0,
    "start_time": "2022-12-05T18:12:41.442Z"
   },
   {
    "duration": 0,
    "start_time": "2022-12-05T18:12:41.443Z"
   },
   {
    "duration": 0,
    "start_time": "2022-12-05T18:12:41.444Z"
   },
   {
    "duration": 0,
    "start_time": "2022-12-05T18:12:41.444Z"
   },
   {
    "duration": 0,
    "start_time": "2022-12-05T18:12:41.445Z"
   },
   {
    "duration": 0,
    "start_time": "2022-12-05T18:12:41.447Z"
   },
   {
    "duration": 0,
    "start_time": "2022-12-05T18:12:41.448Z"
   },
   {
    "duration": 0,
    "start_time": "2022-12-05T18:12:41.449Z"
   },
   {
    "duration": 0,
    "start_time": "2022-12-05T18:12:41.450Z"
   },
   {
    "duration": 10,
    "start_time": "2022-12-05T18:13:34.166Z"
   },
   {
    "duration": 351,
    "start_time": "2022-12-05T18:13:39.569Z"
   },
   {
    "duration": 85,
    "start_time": "2022-12-05T18:13:39.921Z"
   },
   {
    "duration": 15,
    "start_time": "2022-12-05T18:13:40.008Z"
   },
   {
    "duration": 31,
    "start_time": "2022-12-05T18:13:40.025Z"
   },
   {
    "duration": 23,
    "start_time": "2022-12-05T18:13:40.058Z"
   },
   {
    "duration": 24,
    "start_time": "2022-12-05T18:13:40.083Z"
   },
   {
    "duration": 21,
    "start_time": "2022-12-05T18:13:40.109Z"
   },
   {
    "duration": 15,
    "start_time": "2022-12-05T18:13:40.132Z"
   },
   {
    "duration": 13,
    "start_time": "2022-12-05T18:13:40.148Z"
   },
   {
    "duration": 11,
    "start_time": "2022-12-05T18:13:40.163Z"
   },
   {
    "duration": 8,
    "start_time": "2022-12-05T18:13:40.176Z"
   },
   {
    "duration": 12,
    "start_time": "2022-12-05T18:13:40.186Z"
   },
   {
    "duration": 24,
    "start_time": "2022-12-05T18:13:40.200Z"
   },
   {
    "duration": 11,
    "start_time": "2022-12-05T18:13:40.226Z"
   },
   {
    "duration": 11,
    "start_time": "2022-12-05T18:13:40.239Z"
   },
   {
    "duration": 8,
    "start_time": "2022-12-05T18:13:40.251Z"
   },
   {
    "duration": 8,
    "start_time": "2022-12-05T18:13:40.261Z"
   },
   {
    "duration": 16,
    "start_time": "2022-12-05T18:13:40.271Z"
   },
   {
    "duration": 13,
    "start_time": "2022-12-05T18:13:40.288Z"
   },
   {
    "duration": 8,
    "start_time": "2022-12-05T18:13:40.303Z"
   },
   {
    "duration": 14,
    "start_time": "2022-12-05T18:13:40.312Z"
   },
   {
    "duration": 13,
    "start_time": "2022-12-05T18:13:40.328Z"
   },
   {
    "duration": 32,
    "start_time": "2022-12-05T18:13:40.342Z"
   },
   {
    "duration": 31,
    "start_time": "2022-12-05T18:13:40.375Z"
   },
   {
    "duration": 4,
    "start_time": "2022-12-05T18:13:40.408Z"
   },
   {
    "duration": 19,
    "start_time": "2022-12-05T18:13:40.414Z"
   },
   {
    "duration": 22,
    "start_time": "2022-12-05T18:13:40.435Z"
   },
   {
    "duration": 23,
    "start_time": "2022-12-05T18:13:40.460Z"
   },
   {
    "duration": 14,
    "start_time": "2022-12-05T18:13:40.485Z"
   },
   {
    "duration": 16,
    "start_time": "2022-12-05T18:13:40.501Z"
   },
   {
    "duration": 11,
    "start_time": "2022-12-05T18:13:40.519Z"
   },
   {
    "duration": 14,
    "start_time": "2022-12-05T18:13:40.532Z"
   },
   {
    "duration": 24,
    "start_time": "2022-12-05T18:13:40.548Z"
   },
   {
    "duration": 21,
    "start_time": "2022-12-05T18:13:40.573Z"
   },
   {
    "duration": 39,
    "start_time": "2022-12-05T18:13:40.596Z"
   },
   {
    "duration": 17,
    "start_time": "2022-12-05T18:13:40.637Z"
   },
   {
    "duration": 19,
    "start_time": "2022-12-05T18:13:40.655Z"
   },
   {
    "duration": 11,
    "start_time": "2022-12-05T18:14:26.466Z"
   },
   {
    "duration": 11,
    "start_time": "2022-12-05T18:14:30.710Z"
   },
   {
    "duration": 10,
    "start_time": "2022-12-05T18:14:34.925Z"
   },
   {
    "duration": 72,
    "start_time": "2022-12-05T18:14:53.469Z"
   },
   {
    "duration": 3,
    "start_time": "2022-12-05T18:15:19.755Z"
   },
   {
    "duration": 421,
    "start_time": "2022-12-06T07:30:32.988Z"
   },
   {
    "duration": 314,
    "start_time": "2022-12-06T07:30:33.411Z"
   },
   {
    "duration": 15,
    "start_time": "2022-12-06T07:30:33.727Z"
   },
   {
    "duration": 14,
    "start_time": "2022-12-06T07:30:33.744Z"
   },
   {
    "duration": 11,
    "start_time": "2022-12-06T07:30:33.759Z"
   },
   {
    "duration": 9,
    "start_time": "2022-12-06T07:30:33.771Z"
   },
   {
    "duration": 17,
    "start_time": "2022-12-06T07:30:33.781Z"
   },
   {
    "duration": 9,
    "start_time": "2022-12-06T07:30:33.801Z"
   },
   {
    "duration": 9,
    "start_time": "2022-12-06T07:30:33.811Z"
   },
   {
    "duration": 11,
    "start_time": "2022-12-06T07:30:33.823Z"
   },
   {
    "duration": 9,
    "start_time": "2022-12-06T07:30:33.836Z"
   },
   {
    "duration": 5,
    "start_time": "2022-12-06T07:30:33.847Z"
   },
   {
    "duration": 56,
    "start_time": "2022-12-06T07:30:33.853Z"
   },
   {
    "duration": 8,
    "start_time": "2022-12-06T07:30:33.910Z"
   },
   {
    "duration": 11,
    "start_time": "2022-12-06T07:30:33.920Z"
   },
   {
    "duration": 15,
    "start_time": "2022-12-06T07:30:33.933Z"
   },
   {
    "duration": 8,
    "start_time": "2022-12-06T07:30:33.950Z"
   },
   {
    "duration": 10,
    "start_time": "2022-12-06T07:30:33.960Z"
   },
   {
    "duration": 26,
    "start_time": "2022-12-06T07:30:33.971Z"
   },
   {
    "duration": 8,
    "start_time": "2022-12-06T07:30:33.999Z"
   },
   {
    "duration": 5,
    "start_time": "2022-12-06T07:30:34.009Z"
   },
   {
    "duration": 14,
    "start_time": "2022-12-06T07:30:34.016Z"
   },
   {
    "duration": 18,
    "start_time": "2022-12-06T07:30:34.032Z"
   },
   {
    "duration": 76,
    "start_time": "2022-12-06T07:30:34.052Z"
   },
   {
    "duration": 5,
    "start_time": "2022-12-06T07:30:34.129Z"
   },
   {
    "duration": 12,
    "start_time": "2022-12-06T07:30:34.136Z"
   },
   {
    "duration": 7,
    "start_time": "2022-12-06T07:30:34.150Z"
   },
   {
    "duration": 47,
    "start_time": "2022-12-06T07:30:34.160Z"
   },
   {
    "duration": 7,
    "start_time": "2022-12-06T07:30:34.209Z"
   },
   {
    "duration": 15,
    "start_time": "2022-12-06T07:30:34.217Z"
   },
   {
    "duration": 11,
    "start_time": "2022-12-06T07:30:34.233Z"
   },
   {
    "duration": 17,
    "start_time": "2022-12-06T07:30:34.246Z"
   },
   {
    "duration": 58,
    "start_time": "2022-12-06T07:30:34.265Z"
   },
   {
    "duration": 28,
    "start_time": "2022-12-06T07:30:34.325Z"
   },
   {
    "duration": 19,
    "start_time": "2022-12-06T07:30:34.354Z"
   },
   {
    "duration": 20,
    "start_time": "2022-12-06T07:30:34.396Z"
   },
   {
    "duration": 19,
    "start_time": "2022-12-06T07:30:34.418Z"
   },
   {
    "duration": 12,
    "start_time": "2022-12-06T07:31:09.044Z"
   },
   {
    "duration": 386,
    "start_time": "2022-12-06T07:31:20.627Z"
   },
   {
    "duration": 88,
    "start_time": "2022-12-06T07:31:21.015Z"
   },
   {
    "duration": 15,
    "start_time": "2022-12-06T07:31:21.104Z"
   },
   {
    "duration": 9,
    "start_time": "2022-12-06T07:31:21.121Z"
   },
   {
    "duration": 10,
    "start_time": "2022-12-06T07:31:21.131Z"
   },
   {
    "duration": 5,
    "start_time": "2022-12-06T07:31:21.143Z"
   },
   {
    "duration": 11,
    "start_time": "2022-12-06T07:31:21.150Z"
   },
   {
    "duration": 35,
    "start_time": "2022-12-06T07:31:21.163Z"
   },
   {
    "duration": 14,
    "start_time": "2022-12-06T07:31:21.199Z"
   },
   {
    "duration": 25,
    "start_time": "2022-12-06T07:31:21.216Z"
   },
   {
    "duration": 24,
    "start_time": "2022-12-06T07:31:21.243Z"
   },
   {
    "duration": 5,
    "start_time": "2022-12-06T07:31:21.269Z"
   },
   {
    "duration": 26,
    "start_time": "2022-12-06T07:31:21.276Z"
   },
   {
    "duration": 7,
    "start_time": "2022-12-06T07:31:21.304Z"
   },
   {
    "duration": 10,
    "start_time": "2022-12-06T07:31:21.312Z"
   },
   {
    "duration": 4,
    "start_time": "2022-12-06T07:31:21.324Z"
   },
   {
    "duration": 6,
    "start_time": "2022-12-06T07:31:21.329Z"
   },
   {
    "duration": 7,
    "start_time": "2022-12-06T07:31:21.336Z"
   },
   {
    "duration": 7,
    "start_time": "2022-12-06T07:31:21.344Z"
   },
   {
    "duration": 12,
    "start_time": "2022-12-06T07:31:21.352Z"
   },
   {
    "duration": 5,
    "start_time": "2022-12-06T07:31:21.397Z"
   },
   {
    "duration": 21,
    "start_time": "2022-12-06T07:31:21.404Z"
   },
   {
    "duration": 17,
    "start_time": "2022-12-06T07:31:21.427Z"
   },
   {
    "duration": 53,
    "start_time": "2022-12-06T07:31:21.447Z"
   },
   {
    "duration": 5,
    "start_time": "2022-12-06T07:31:21.502Z"
   },
   {
    "duration": 19,
    "start_time": "2022-12-06T07:31:21.509Z"
   },
   {
    "duration": 10,
    "start_time": "2022-12-06T07:31:21.530Z"
   },
   {
    "duration": 27,
    "start_time": "2022-12-06T07:31:21.543Z"
   },
   {
    "duration": 7,
    "start_time": "2022-12-06T07:31:21.571Z"
   },
   {
    "duration": 18,
    "start_time": "2022-12-06T07:31:21.597Z"
   },
   {
    "duration": 11,
    "start_time": "2022-12-06T07:31:21.616Z"
   },
   {
    "duration": 16,
    "start_time": "2022-12-06T07:31:21.628Z"
   },
   {
    "duration": 52,
    "start_time": "2022-12-06T07:31:21.646Z"
   },
   {
    "duration": 24,
    "start_time": "2022-12-06T07:31:21.699Z"
   },
   {
    "duration": 19,
    "start_time": "2022-12-06T07:31:21.724Z"
   },
   {
    "duration": 19,
    "start_time": "2022-12-06T07:31:21.744Z"
   },
   {
    "duration": 44,
    "start_time": "2022-12-06T07:31:21.765Z"
   },
   {
    "duration": 7,
    "start_time": "2022-12-06T08:08:33.818Z"
   },
   {
    "duration": 11,
    "start_time": "2022-12-06T08:27:58.327Z"
   },
   {
    "duration": 408,
    "start_time": "2022-12-06T08:28:04.710Z"
   },
   {
    "duration": 98,
    "start_time": "2022-12-06T08:28:05.120Z"
   },
   {
    "duration": 15,
    "start_time": "2022-12-06T08:28:05.220Z"
   },
   {
    "duration": 9,
    "start_time": "2022-12-06T08:28:05.237Z"
   },
   {
    "duration": 25,
    "start_time": "2022-12-06T08:28:05.248Z"
   },
   {
    "duration": 13,
    "start_time": "2022-12-06T08:28:05.275Z"
   },
   {
    "duration": 12,
    "start_time": "2022-12-06T08:28:05.295Z"
   },
   {
    "duration": 12,
    "start_time": "2022-12-06T08:28:05.308Z"
   },
   {
    "duration": 11,
    "start_time": "2022-12-06T08:28:05.322Z"
   },
   {
    "duration": 10,
    "start_time": "2022-12-06T08:28:05.335Z"
   },
   {
    "duration": 12,
    "start_time": "2022-12-06T08:28:05.346Z"
   },
   {
    "duration": 8,
    "start_time": "2022-12-06T08:28:05.359Z"
   },
   {
    "duration": 36,
    "start_time": "2022-12-06T08:28:05.369Z"
   },
   {
    "duration": 6,
    "start_time": "2022-12-06T08:28:05.407Z"
   },
   {
    "duration": 9,
    "start_time": "2022-12-06T08:28:05.414Z"
   },
   {
    "duration": 4,
    "start_time": "2022-12-06T08:28:05.425Z"
   },
   {
    "duration": 8,
    "start_time": "2022-12-06T08:28:05.430Z"
   },
   {
    "duration": 18,
    "start_time": "2022-12-06T08:28:05.439Z"
   },
   {
    "duration": 9,
    "start_time": "2022-12-06T08:28:05.459Z"
   },
   {
    "duration": 31,
    "start_time": "2022-12-06T08:28:05.470Z"
   },
   {
    "duration": 6,
    "start_time": "2022-12-06T08:28:05.503Z"
   },
   {
    "duration": 16,
    "start_time": "2022-12-06T08:28:05.511Z"
   },
   {
    "duration": 18,
    "start_time": "2022-12-06T08:28:05.529Z"
   },
   {
    "duration": 68,
    "start_time": "2022-12-06T08:28:05.549Z"
   },
   {
    "duration": 6,
    "start_time": "2022-12-06T08:28:05.619Z"
   },
   {
    "duration": 7,
    "start_time": "2022-12-06T08:28:05.627Z"
   },
   {
    "duration": 7,
    "start_time": "2022-12-06T08:28:05.636Z"
   },
   {
    "duration": 57,
    "start_time": "2022-12-06T08:28:05.646Z"
   },
   {
    "duration": 7,
    "start_time": "2022-12-06T08:28:05.705Z"
   },
   {
    "duration": 18,
    "start_time": "2022-12-06T08:28:05.713Z"
   },
   {
    "duration": 12,
    "start_time": "2022-12-06T08:28:05.733Z"
   },
   {
    "duration": 17,
    "start_time": "2022-12-06T08:28:05.747Z"
   },
   {
    "duration": 51,
    "start_time": "2022-12-06T08:28:05.766Z"
   },
   {
    "duration": 52,
    "start_time": "2022-12-06T08:28:05.819Z"
   },
   {
    "duration": 25,
    "start_time": "2022-12-06T08:28:05.873Z"
   },
   {
    "duration": 25,
    "start_time": "2022-12-06T08:28:05.901Z"
   },
   {
    "duration": 31,
    "start_time": "2022-12-06T08:28:05.928Z"
   },
   {
    "duration": 438,
    "start_time": "2022-12-06T08:41:50.487Z"
   },
   {
    "duration": 91,
    "start_time": "2022-12-06T08:41:50.927Z"
   },
   {
    "duration": 13,
    "start_time": "2022-12-06T08:41:51.020Z"
   },
   {
    "duration": 15,
    "start_time": "2022-12-06T08:41:51.035Z"
   },
   {
    "duration": 13,
    "start_time": "2022-12-06T08:41:51.052Z"
   },
   {
    "duration": 8,
    "start_time": "2022-12-06T08:41:51.066Z"
   },
   {
    "duration": 9,
    "start_time": "2022-12-06T08:41:51.075Z"
   },
   {
    "duration": 8,
    "start_time": "2022-12-06T08:41:51.096Z"
   },
   {
    "duration": 20,
    "start_time": "2022-12-06T08:41:51.106Z"
   },
   {
    "duration": 14,
    "start_time": "2022-12-06T08:41:51.130Z"
   },
   {
    "duration": 11,
    "start_time": "2022-12-06T08:41:51.145Z"
   },
   {
    "duration": 13,
    "start_time": "2022-12-06T08:41:51.158Z"
   },
   {
    "duration": 35,
    "start_time": "2022-12-06T08:41:51.174Z"
   },
   {
    "duration": 13,
    "start_time": "2022-12-06T08:41:51.211Z"
   },
   {
    "duration": 7,
    "start_time": "2022-12-06T08:41:51.226Z"
   },
   {
    "duration": 6,
    "start_time": "2022-12-06T08:41:51.234Z"
   },
   {
    "duration": 6,
    "start_time": "2022-12-06T08:41:51.241Z"
   },
   {
    "duration": 6,
    "start_time": "2022-12-06T08:41:51.249Z"
   },
   {
    "duration": 8,
    "start_time": "2022-12-06T08:41:51.257Z"
   },
   {
    "duration": 38,
    "start_time": "2022-12-06T08:41:51.266Z"
   },
   {
    "duration": 7,
    "start_time": "2022-12-06T08:41:51.306Z"
   },
   {
    "duration": 23,
    "start_time": "2022-12-06T08:41:51.316Z"
   },
   {
    "duration": 18,
    "start_time": "2022-12-06T08:41:51.340Z"
   },
   {
    "duration": 75,
    "start_time": "2022-12-06T08:41:51.360Z"
   },
   {
    "duration": 5,
    "start_time": "2022-12-06T08:41:51.437Z"
   },
   {
    "duration": 9,
    "start_time": "2022-12-06T08:41:51.444Z"
   },
   {
    "duration": 14,
    "start_time": "2022-12-06T08:41:51.455Z"
   },
   {
    "duration": 54,
    "start_time": "2022-12-06T08:41:51.472Z"
   },
   {
    "duration": 7,
    "start_time": "2022-12-06T08:41:51.528Z"
   },
   {
    "duration": 21,
    "start_time": "2022-12-06T08:41:51.538Z"
   },
   {
    "duration": 10,
    "start_time": "2022-12-06T08:41:51.561Z"
   },
   {
    "duration": 40,
    "start_time": "2022-12-06T08:41:51.573Z"
   },
   {
    "duration": 27,
    "start_time": "2022-12-06T08:41:51.614Z"
   },
   {
    "duration": 22,
    "start_time": "2022-12-06T08:41:51.643Z"
   },
   {
    "duration": 48,
    "start_time": "2022-12-06T08:41:51.666Z"
   },
   {
    "duration": 21,
    "start_time": "2022-12-06T08:41:51.716Z"
   },
   {
    "duration": 20,
    "start_time": "2022-12-06T08:41:51.739Z"
   },
   {
    "duration": 12,
    "start_time": "2022-12-06T08:42:01.373Z"
   },
   {
    "duration": 11,
    "start_time": "2022-12-06T08:42:04.145Z"
   },
   {
    "duration": 3,
    "start_time": "2022-12-06T08:42:09.661Z"
   },
   {
    "duration": 86,
    "start_time": "2022-12-06T08:42:09.978Z"
   },
   {
    "duration": 16,
    "start_time": "2022-12-06T08:42:10.329Z"
   },
   {
    "duration": 21,
    "start_time": "2022-12-06T08:42:11.689Z"
   },
   {
    "duration": 9,
    "start_time": "2022-12-06T08:42:12.874Z"
   },
   {
    "duration": 27,
    "start_time": "2022-12-06T08:52:23.916Z"
   },
   {
    "duration": 15,
    "start_time": "2022-12-06T08:52:37.992Z"
   },
   {
    "duration": 22,
    "start_time": "2022-12-06T08:52:45.289Z"
   },
   {
    "duration": 11,
    "start_time": "2022-12-06T09:19:23.575Z"
   },
   {
    "duration": 5,
    "start_time": "2022-12-06T09:19:56.710Z"
   },
   {
    "duration": 9,
    "start_time": "2022-12-06T09:20:15.248Z"
   },
   {
    "duration": 19,
    "start_time": "2022-12-06T09:20:57.639Z"
   },
   {
    "duration": 20,
    "start_time": "2022-12-06T09:21:15.690Z"
   },
   {
    "duration": 370,
    "start_time": "2022-12-06T11:22:33.845Z"
   },
   {
    "duration": 89,
    "start_time": "2022-12-06T11:22:34.216Z"
   },
   {
    "duration": 15,
    "start_time": "2022-12-06T11:22:34.307Z"
   },
   {
    "duration": 9,
    "start_time": "2022-12-06T11:22:34.324Z"
   },
   {
    "duration": 10,
    "start_time": "2022-12-06T11:22:34.334Z"
   },
   {
    "duration": 4,
    "start_time": "2022-12-06T11:22:34.346Z"
   },
   {
    "duration": 14,
    "start_time": "2022-12-06T11:22:34.352Z"
   },
   {
    "duration": 34,
    "start_time": "2022-12-06T11:22:34.368Z"
   },
   {
    "duration": 8,
    "start_time": "2022-12-06T11:22:34.403Z"
   },
   {
    "duration": 10,
    "start_time": "2022-12-06T11:22:34.413Z"
   },
   {
    "duration": 6,
    "start_time": "2022-12-06T11:22:34.425Z"
   },
   {
    "duration": 21,
    "start_time": "2022-12-06T11:22:34.432Z"
   },
   {
    "duration": 5,
    "start_time": "2022-12-06T11:22:34.455Z"
   },
   {
    "duration": 40,
    "start_time": "2022-12-06T11:22:34.462Z"
   },
   {
    "duration": 9,
    "start_time": "2022-12-06T11:22:34.503Z"
   },
   {
    "duration": 4,
    "start_time": "2022-12-06T11:22:34.513Z"
   },
   {
    "duration": 11,
    "start_time": "2022-12-06T11:22:34.519Z"
   },
   {
    "duration": 6,
    "start_time": "2022-12-06T11:22:34.532Z"
   },
   {
    "duration": 9,
    "start_time": "2022-12-06T11:22:34.539Z"
   },
   {
    "duration": 5,
    "start_time": "2022-12-06T11:22:34.549Z"
   },
   {
    "duration": 52,
    "start_time": "2022-12-06T11:22:34.556Z"
   },
   {
    "duration": 18,
    "start_time": "2022-12-06T11:22:34.609Z"
   },
   {
    "duration": 35,
    "start_time": "2022-12-06T11:22:34.628Z"
   },
   {
    "duration": 5,
    "start_time": "2022-12-06T11:22:34.665Z"
   },
   {
    "duration": 5,
    "start_time": "2022-12-06T11:22:34.697Z"
   },
   {
    "duration": 7,
    "start_time": "2022-12-06T11:22:34.703Z"
   },
   {
    "duration": 20,
    "start_time": "2022-12-06T11:22:34.712Z"
   },
   {
    "duration": 8,
    "start_time": "2022-12-06T11:22:34.736Z"
   },
   {
    "duration": 15,
    "start_time": "2022-12-06T11:22:34.748Z"
   },
   {
    "duration": 41,
    "start_time": "2022-12-06T11:22:34.765Z"
   },
   {
    "duration": 13,
    "start_time": "2022-12-06T11:22:34.808Z"
   },
   {
    "duration": 21,
    "start_time": "2022-12-06T11:22:34.822Z"
   },
   {
    "duration": 52,
    "start_time": "2022-12-06T11:22:34.845Z"
   },
   {
    "duration": 25,
    "start_time": "2022-12-06T11:22:34.900Z"
   },
   {
    "duration": 20,
    "start_time": "2022-12-06T11:22:34.927Z"
   },
   {
    "duration": 48,
    "start_time": "2022-12-06T11:22:34.949Z"
   },
   {
    "duration": 394,
    "start_time": "2022-12-06T11:31:11.115Z"
   },
   {
    "duration": 87,
    "start_time": "2022-12-06T11:31:11.510Z"
   },
   {
    "duration": 14,
    "start_time": "2022-12-06T11:31:11.599Z"
   },
   {
    "duration": 9,
    "start_time": "2022-12-06T11:31:11.616Z"
   },
   {
    "duration": 10,
    "start_time": "2022-12-06T11:31:11.626Z"
   },
   {
    "duration": 9,
    "start_time": "2022-12-06T11:31:11.638Z"
   },
   {
    "duration": 9,
    "start_time": "2022-12-06T11:31:11.648Z"
   },
   {
    "duration": 40,
    "start_time": "2022-12-06T11:31:11.658Z"
   },
   {
    "duration": 8,
    "start_time": "2022-12-06T11:31:11.700Z"
   },
   {
    "duration": 13,
    "start_time": "2022-12-06T11:31:11.710Z"
   },
   {
    "duration": 5,
    "start_time": "2022-12-06T11:31:11.725Z"
   },
   {
    "duration": 21,
    "start_time": "2022-12-06T11:31:11.732Z"
   },
   {
    "duration": 6,
    "start_time": "2022-12-06T11:31:11.754Z"
   },
   {
    "duration": 40,
    "start_time": "2022-12-06T11:31:11.761Z"
   },
   {
    "duration": 12,
    "start_time": "2022-12-06T11:31:11.803Z"
   },
   {
    "duration": 4,
    "start_time": "2022-12-06T11:31:11.817Z"
   },
   {
    "duration": 6,
    "start_time": "2022-12-06T11:31:11.823Z"
   },
   {
    "duration": 6,
    "start_time": "2022-12-06T11:31:11.831Z"
   },
   {
    "duration": 11,
    "start_time": "2022-12-06T11:31:11.838Z"
   },
   {
    "duration": 5,
    "start_time": "2022-12-06T11:31:11.850Z"
   },
   {
    "duration": 55,
    "start_time": "2022-12-06T11:31:11.856Z"
   },
   {
    "duration": 19,
    "start_time": "2022-12-06T11:31:11.913Z"
   },
   {
    "duration": 36,
    "start_time": "2022-12-06T11:31:11.934Z"
   },
   {
    "duration": 27,
    "start_time": "2022-12-06T11:31:11.972Z"
   },
   {
    "duration": 6,
    "start_time": "2022-12-06T11:31:12.001Z"
   },
   {
    "duration": 15,
    "start_time": "2022-12-06T11:31:12.009Z"
   },
   {
    "duration": 19,
    "start_time": "2022-12-06T11:31:12.025Z"
   },
   {
    "duration": 6,
    "start_time": "2022-12-06T11:31:12.047Z"
   },
   {
    "duration": 15,
    "start_time": "2022-12-06T11:31:12.054Z"
   },
   {
    "duration": 36,
    "start_time": "2022-12-06T11:31:12.070Z"
   },
   {
    "duration": 11,
    "start_time": "2022-12-06T11:31:12.108Z"
   },
   {
    "duration": 22,
    "start_time": "2022-12-06T11:31:12.120Z"
   },
   {
    "duration": 21,
    "start_time": "2022-12-06T11:31:12.143Z"
   },
   {
    "duration": 47,
    "start_time": "2022-12-06T11:31:12.166Z"
   },
   {
    "duration": 18,
    "start_time": "2022-12-06T11:31:12.215Z"
   },
   {
    "duration": 17,
    "start_time": "2022-12-06T11:31:12.234Z"
   }
  ],
  "kernelspec": {
   "display_name": "Python 3 (ipykernel)",
   "language": "python",
   "name": "python3"
  },
  "language_info": {
   "codemirror_mode": {
    "name": "ipython",
    "version": 3
   },
   "file_extension": ".py",
   "mimetype": "text/x-python",
   "name": "python",
   "nbconvert_exporter": "python",
   "pygments_lexer": "ipython3",
   "version": "3.9.5"
  },
  "toc": {
   "base_numbering": 1,
   "nav_menu": {},
   "number_sections": true,
   "sideBar": true,
   "skip_h1_title": true,
   "title_cell": "Содержание",
   "title_sidebar": "Contents",
   "toc_cell": true,
   "toc_position": {},
   "toc_section_display": true,
   "toc_window_display": true
  }
 },
 "nbformat": 4,
 "nbformat_minor": 5
}
