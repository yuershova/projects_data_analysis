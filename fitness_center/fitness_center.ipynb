{
 "cells": [
  {
   "cell_type": "markdown",
   "metadata": {},
   "source": [
    "# Прогнозирование вероятности оттока пользователей для фитнес-центров #"
   ]
  },
  {
   "cell_type": "markdown",
   "metadata": {},
   "source": [
    "Сеть фитнес-центров «Культурист-датасаентист» разрабатывает стратегию взаимодействия с клиентами на основе аналитических данных. Чтобы бороться с оттоком, отдел по работе с клиентами перевёл в электронный вид множество клиентских анкет. \n",
    "\n",
    "Необходимо провести анализ и подготовить план действий по удержанию клиентов,а именно:\n",
    "* научиться прогнозировать вероятность оттока (на уровне следующего месяца) для каждого клиента;\n",
    "* сформировать типичные портреты клиентов: выделить несколько наиболее ярких групп и охарактеризовать их основные свойства;\n",
    "* проанализировать основные признаки, наиболее сильно влияющие на отток;\n",
    "* сформулировать основные выводы и разработать рекомендации по повышению качества работы с клиентами:\n",
    "    * выделить целевые группы клиентов;\n",
    "    * предложить меры по снижению оттока;\n",
    "    * определить другие особенности взаимодействия с клиентами."
   ]
  },
  {
   "cell_type": "markdown",
   "metadata": {
    "toc": true
   },
   "source": [
    "<h1>Содержание<span class=\"tocSkip\"></span></h1>\n",
    "<div class=\"toc\"><ul class=\"toc-item\"><li><span><a href=\"#Загрузка-и-просмотр-данных\" data-toc-modified-id=\"Загрузка-и-просмотр-данных-1\"><span class=\"toc-item-num\">1&nbsp;&nbsp;</span>Загрузка и просмотр данных</a></span></li><li><span><a href=\"#Исследовательский-анализ-данных\" data-toc-modified-id=\"Исследовательский-анализ-данных-2\"><span class=\"toc-item-num\">2&nbsp;&nbsp;</span>Исследовательский анализ данных</a></span></li><li><span><a href=\"#Построение-модели-прогнозирования-оттока-клиентов\" data-toc-modified-id=\"Построение-модели-прогнозирования-оттока-клиентов-3\"><span class=\"toc-item-num\">3&nbsp;&nbsp;</span>Построение модели прогнозирования оттока клиентов</a></span></li><li><span><a href=\"#Кластеризация-клиентов\" data-toc-modified-id=\"Кластеризация-клиентов-4\"><span class=\"toc-item-num\">4&nbsp;&nbsp;</span>Кластеризация клиентов</a></span></li><li><span><a href=\"#Выводы-и-рекомендации\" data-toc-modified-id=\"Выводы-и-рекомендации-5\"><span class=\"toc-item-num\">5&nbsp;&nbsp;</span>Выводы и рекомендации</a></span></li></ul></div>"
   ]
  },
  {
   "cell_type": "markdown",
   "metadata": {},
   "source": [
    "## Загрузка и просмотр данных"
   ]
  },
  {
   "cell_type": "code",
   "execution_count": 1,
   "metadata": {},
   "outputs": [],
   "source": [
    "# импорт библиотек\n",
    "import pandas as pd\n",
    "import matplotlib.pyplot as plt\n",
    "import seaborn as sns\n",
    "from sklearn.model_selection import train_test_split\n",
    "from sklearn.linear_model import LogisticRegression\n",
    "from sklearn.ensemble import RandomForestClassifier\n",
    "from sklearn.preprocessing import StandardScaler\n",
    "from sklearn.metrics import accuracy_score, precision_score, recall_score, f1_score\n",
    "from scipy.cluster.hierarchy import dendrogram, linkage\n",
    "from sklearn.cluster import KMeans\n",
    "import itertools\n",
    "import plotly.express as px"
   ]
  },
  {
   "cell_type": "code",
   "execution_count": 2,
   "metadata": {},
   "outputs": [
    {
     "data": {
      "text/html": [
       "<div>\n",
       "<style scoped>\n",
       "    .dataframe tbody tr th:only-of-type {\n",
       "        vertical-align: middle;\n",
       "    }\n",
       "\n",
       "    .dataframe tbody tr th {\n",
       "        vertical-align: top;\n",
       "    }\n",
       "\n",
       "    .dataframe thead th {\n",
       "        text-align: right;\n",
       "    }\n",
       "</style>\n",
       "<table border=\"1\" class=\"dataframe\">\n",
       "  <thead>\n",
       "    <tr style=\"text-align: right;\">\n",
       "      <th></th>\n",
       "      <th>gender</th>\n",
       "      <th>Near_Location</th>\n",
       "      <th>Partner</th>\n",
       "      <th>Promo_friends</th>\n",
       "      <th>Phone</th>\n",
       "      <th>Contract_period</th>\n",
       "      <th>Group_visits</th>\n",
       "      <th>Age</th>\n",
       "      <th>Avg_additional_charges_total</th>\n",
       "      <th>Month_to_end_contract</th>\n",
       "      <th>Lifetime</th>\n",
       "      <th>Avg_class_frequency_total</th>\n",
       "      <th>Avg_class_frequency_current_month</th>\n",
       "      <th>Churn</th>\n",
       "    </tr>\n",
       "  </thead>\n",
       "  <tbody>\n",
       "    <tr>\n",
       "      <th>0</th>\n",
       "      <td>1</td>\n",
       "      <td>1</td>\n",
       "      <td>1</td>\n",
       "      <td>1</td>\n",
       "      <td>0</td>\n",
       "      <td>6</td>\n",
       "      <td>1</td>\n",
       "      <td>29</td>\n",
       "      <td>14.227470</td>\n",
       "      <td>5.0</td>\n",
       "      <td>3</td>\n",
       "      <td>0.020398</td>\n",
       "      <td>0.000000</td>\n",
       "      <td>0</td>\n",
       "    </tr>\n",
       "    <tr>\n",
       "      <th>1</th>\n",
       "      <td>0</td>\n",
       "      <td>1</td>\n",
       "      <td>0</td>\n",
       "      <td>0</td>\n",
       "      <td>1</td>\n",
       "      <td>12</td>\n",
       "      <td>1</td>\n",
       "      <td>31</td>\n",
       "      <td>113.202938</td>\n",
       "      <td>12.0</td>\n",
       "      <td>7</td>\n",
       "      <td>1.922936</td>\n",
       "      <td>1.910244</td>\n",
       "      <td>0</td>\n",
       "    </tr>\n",
       "    <tr>\n",
       "      <th>2</th>\n",
       "      <td>0</td>\n",
       "      <td>1</td>\n",
       "      <td>1</td>\n",
       "      <td>0</td>\n",
       "      <td>1</td>\n",
       "      <td>1</td>\n",
       "      <td>0</td>\n",
       "      <td>28</td>\n",
       "      <td>129.448479</td>\n",
       "      <td>1.0</td>\n",
       "      <td>2</td>\n",
       "      <td>1.859098</td>\n",
       "      <td>1.736502</td>\n",
       "      <td>0</td>\n",
       "    </tr>\n",
       "    <tr>\n",
       "      <th>3</th>\n",
       "      <td>0</td>\n",
       "      <td>1</td>\n",
       "      <td>1</td>\n",
       "      <td>1</td>\n",
       "      <td>1</td>\n",
       "      <td>12</td>\n",
       "      <td>1</td>\n",
       "      <td>33</td>\n",
       "      <td>62.669863</td>\n",
       "      <td>12.0</td>\n",
       "      <td>2</td>\n",
       "      <td>3.205633</td>\n",
       "      <td>3.357215</td>\n",
       "      <td>0</td>\n",
       "    </tr>\n",
       "    <tr>\n",
       "      <th>4</th>\n",
       "      <td>1</td>\n",
       "      <td>1</td>\n",
       "      <td>1</td>\n",
       "      <td>1</td>\n",
       "      <td>1</td>\n",
       "      <td>1</td>\n",
       "      <td>0</td>\n",
       "      <td>26</td>\n",
       "      <td>198.362265</td>\n",
       "      <td>1.0</td>\n",
       "      <td>3</td>\n",
       "      <td>1.113884</td>\n",
       "      <td>1.120078</td>\n",
       "      <td>0</td>\n",
       "    </tr>\n",
       "  </tbody>\n",
       "</table>\n",
       "</div>"
      ],
      "text/plain": [
       "   gender  Near_Location  Partner  Promo_friends  Phone  Contract_period  \\\n",
       "0       1              1        1              1      0                6   \n",
       "1       0              1        0              0      1               12   \n",
       "2       0              1        1              0      1                1   \n",
       "3       0              1        1              1      1               12   \n",
       "4       1              1        1              1      1                1   \n",
       "\n",
       "   Group_visits  Age  Avg_additional_charges_total  Month_to_end_contract  \\\n",
       "0             1   29                     14.227470                    5.0   \n",
       "1             1   31                    113.202938                   12.0   \n",
       "2             0   28                    129.448479                    1.0   \n",
       "3             1   33                     62.669863                   12.0   \n",
       "4             0   26                    198.362265                    1.0   \n",
       "\n",
       "   Lifetime  Avg_class_frequency_total  Avg_class_frequency_current_month  \\\n",
       "0         3                   0.020398                           0.000000   \n",
       "1         7                   1.922936                           1.910244   \n",
       "2         2                   1.859098                           1.736502   \n",
       "3         2                   3.205633                           3.357215   \n",
       "4         3                   1.113884                           1.120078   \n",
       "\n",
       "   Churn  \n",
       "0      0  \n",
       "1      0  \n",
       "2      0  \n",
       "3      0  \n",
       "4      0  "
      ]
     },
     "execution_count": 2,
     "metadata": {},
     "output_type": "execute_result"
    }
   ],
   "source": [
    "# чтение файла с данными и сохранение в переменную datd\n",
    "data = pd.read_csv('/datasets/gym_churn.csv')\n",
    "data.head()"
   ]
  },
  {
   "cell_type": "code",
   "execution_count": 3,
   "metadata": {
    "scrolled": true
   },
   "outputs": [
    {
     "name": "stdout",
     "output_type": "stream",
     "text": [
      "<class 'pandas.core.frame.DataFrame'>\n",
      "RangeIndex: 4000 entries, 0 to 3999\n",
      "Data columns (total 14 columns):\n",
      " #   Column                             Non-Null Count  Dtype  \n",
      "---  ------                             --------------  -----  \n",
      " 0   gender                             4000 non-null   int64  \n",
      " 1   Near_Location                      4000 non-null   int64  \n",
      " 2   Partner                            4000 non-null   int64  \n",
      " 3   Promo_friends                      4000 non-null   int64  \n",
      " 4   Phone                              4000 non-null   int64  \n",
      " 5   Contract_period                    4000 non-null   int64  \n",
      " 6   Group_visits                       4000 non-null   int64  \n",
      " 7   Age                                4000 non-null   int64  \n",
      " 8   Avg_additional_charges_total       4000 non-null   float64\n",
      " 9   Month_to_end_contract              4000 non-null   float64\n",
      " 10  Lifetime                           4000 non-null   int64  \n",
      " 11  Avg_class_frequency_total          4000 non-null   float64\n",
      " 12  Avg_class_frequency_current_month  4000 non-null   float64\n",
      " 13  Churn                              4000 non-null   int64  \n",
      "dtypes: float64(4), int64(10)\n",
      "memory usage: 437.6 KB\n"
     ]
    }
   ],
   "source": [
    "# получение общей информации о данных\n",
    "data.info()"
   ]
  },
  {
   "cell_type": "markdown",
   "metadata": {},
   "source": [
    "<b>Вывод</b>\n",
    "\n",
    "Данные содержат информацию о 4000 клиентов фитнес-клуба. \n",
    "\n",
    "**Структура данных включает в себя:**\n",
    "\n",
    "1) данные клиента за предыдущий до проверки факта оттока месяц:\n",
    "* gender — пол;\n",
    "* Near_Location — проживание или работа в районе, где находится фитнес-центр;\n",
    "* Partner — сотрудник компании-партнёра клуба (сотрудничество с компаниями, чьи сотрудники могут получать скидки на абонемент — в таком случае фитнес-центр хранит информацию о работодателе клиента);\n",
    "* Promo_friends — факт первоначальной записи в рамках акции «приведи друга» (использовал промо-код от знакомого при оплате первого абонемента);\n",
    "* Phone — наличие контактного телефона;\n",
    "* Age — возраст;\n",
    "* Lifetime — время с момента первого обращения в фитнес-центр (в месяцах)\n",
    "\n",
    "2) информация на основе журнала посещений, покупок и информация о текущем статусе абонемента клиента:\n",
    "* Contract_period — длительность текущего действующего абонемента (месяц, 6 месяцев, год);\n",
    "* Month_to_end_contract — срок до окончания текущего действующего абонемента (в месяцах);\n",
    "* Group_visits — факт посещения групповых занятий;\n",
    "* Avg_class_frequency_total — средняя частота посещений в неделю за все время с начала действия абонемента;\n",
    "* Avg_class_frequency_current_month — средняя частота посещений в неделю за предыдущий месяц;\n",
    "* Avg_additional_charges_total — суммарная выручка от других услуг фитнес-центра: кафе, спорттовары, косметический и массажный салон.\n",
    "\n",
    "\n",
    "* Churn — факт оттока в текущем месяце."
   ]
  },
  {
   "cell_type": "markdown",
   "metadata": {},
   "source": [
    "## Исследовательский анализ данных"
   ]
  },
  {
   "cell_type": "code",
   "execution_count": 4,
   "metadata": {},
   "outputs": [
    {
     "data": {
      "text/plain": [
       "gender                               0\n",
       "Near_Location                        0\n",
       "Partner                              0\n",
       "Promo_friends                        0\n",
       "Phone                                0\n",
       "Contract_period                      0\n",
       "Group_visits                         0\n",
       "Age                                  0\n",
       "Avg_additional_charges_total         0\n",
       "Month_to_end_contract                0\n",
       "Lifetime                             0\n",
       "Avg_class_frequency_total            0\n",
       "Avg_class_frequency_current_month    0\n",
       "Churn                                0\n",
       "dtype: int64"
      ]
     },
     "execution_count": 4,
     "metadata": {},
     "output_type": "execute_result"
    }
   ],
   "source": [
    "# проверка на наличие пропусков\n",
    "data.isna().sum()"
   ]
  },
  {
   "cell_type": "code",
   "execution_count": 5,
   "metadata": {
    "scrolled": false
   },
   "outputs": [
    {
     "data": {
      "text/plain": [
       "0"
      ]
     },
     "execution_count": 5,
     "metadata": {},
     "output_type": "execute_result"
    }
   ],
   "source": [
    "# проверка на наличие дубликатов\n",
    "data.duplicated().sum()"
   ]
  },
  {
   "cell_type": "code",
   "execution_count": 6,
   "metadata": {},
   "outputs": [],
   "source": [
    "# приведение столбцов к нижнему регистру\n",
    "data.columns = data.columns.str.lower()"
   ]
  },
  {
   "cell_type": "markdown",
   "metadata": {},
   "source": [
    "В данных отсутствуют пропуски и дубликаты."
   ]
  },
  {
   "cell_type": "code",
   "execution_count": 7,
   "metadata": {
    "scrolled": true
   },
   "outputs": [
    {
     "data": {
      "text/html": [
       "<div>\n",
       "<style scoped>\n",
       "    .dataframe tbody tr th:only-of-type {\n",
       "        vertical-align: middle;\n",
       "    }\n",
       "\n",
       "    .dataframe tbody tr th {\n",
       "        vertical-align: top;\n",
       "    }\n",
       "\n",
       "    .dataframe thead th {\n",
       "        text-align: right;\n",
       "    }\n",
       "</style>\n",
       "<table border=\"1\" class=\"dataframe\">\n",
       "  <thead>\n",
       "    <tr style=\"text-align: right;\">\n",
       "      <th></th>\n",
       "      <th>count</th>\n",
       "      <th>mean</th>\n",
       "      <th>std</th>\n",
       "      <th>min</th>\n",
       "      <th>25%</th>\n",
       "      <th>50%</th>\n",
       "      <th>75%</th>\n",
       "      <th>max</th>\n",
       "    </tr>\n",
       "  </thead>\n",
       "  <tbody>\n",
       "    <tr>\n",
       "      <th>gender</th>\n",
       "      <td>4000.0</td>\n",
       "      <td>0.51</td>\n",
       "      <td>0.50</td>\n",
       "      <td>0.00</td>\n",
       "      <td>0.00</td>\n",
       "      <td>1.00</td>\n",
       "      <td>1.00</td>\n",
       "      <td>1.00</td>\n",
       "    </tr>\n",
       "    <tr>\n",
       "      <th>near_location</th>\n",
       "      <td>4000.0</td>\n",
       "      <td>0.85</td>\n",
       "      <td>0.36</td>\n",
       "      <td>0.00</td>\n",
       "      <td>1.00</td>\n",
       "      <td>1.00</td>\n",
       "      <td>1.00</td>\n",
       "      <td>1.00</td>\n",
       "    </tr>\n",
       "    <tr>\n",
       "      <th>partner</th>\n",
       "      <td>4000.0</td>\n",
       "      <td>0.49</td>\n",
       "      <td>0.50</td>\n",
       "      <td>0.00</td>\n",
       "      <td>0.00</td>\n",
       "      <td>0.00</td>\n",
       "      <td>1.00</td>\n",
       "      <td>1.00</td>\n",
       "    </tr>\n",
       "    <tr>\n",
       "      <th>promo_friends</th>\n",
       "      <td>4000.0</td>\n",
       "      <td>0.31</td>\n",
       "      <td>0.46</td>\n",
       "      <td>0.00</td>\n",
       "      <td>0.00</td>\n",
       "      <td>0.00</td>\n",
       "      <td>1.00</td>\n",
       "      <td>1.00</td>\n",
       "    </tr>\n",
       "    <tr>\n",
       "      <th>phone</th>\n",
       "      <td>4000.0</td>\n",
       "      <td>0.90</td>\n",
       "      <td>0.30</td>\n",
       "      <td>0.00</td>\n",
       "      <td>1.00</td>\n",
       "      <td>1.00</td>\n",
       "      <td>1.00</td>\n",
       "      <td>1.00</td>\n",
       "    </tr>\n",
       "    <tr>\n",
       "      <th>contract_period</th>\n",
       "      <td>4000.0</td>\n",
       "      <td>4.68</td>\n",
       "      <td>4.55</td>\n",
       "      <td>1.00</td>\n",
       "      <td>1.00</td>\n",
       "      <td>1.00</td>\n",
       "      <td>6.00</td>\n",
       "      <td>12.00</td>\n",
       "    </tr>\n",
       "    <tr>\n",
       "      <th>group_visits</th>\n",
       "      <td>4000.0</td>\n",
       "      <td>0.41</td>\n",
       "      <td>0.49</td>\n",
       "      <td>0.00</td>\n",
       "      <td>0.00</td>\n",
       "      <td>0.00</td>\n",
       "      <td>1.00</td>\n",
       "      <td>1.00</td>\n",
       "    </tr>\n",
       "    <tr>\n",
       "      <th>age</th>\n",
       "      <td>4000.0</td>\n",
       "      <td>29.18</td>\n",
       "      <td>3.26</td>\n",
       "      <td>18.00</td>\n",
       "      <td>27.00</td>\n",
       "      <td>29.00</td>\n",
       "      <td>31.00</td>\n",
       "      <td>41.00</td>\n",
       "    </tr>\n",
       "    <tr>\n",
       "      <th>avg_additional_charges_total</th>\n",
       "      <td>4000.0</td>\n",
       "      <td>146.94</td>\n",
       "      <td>96.36</td>\n",
       "      <td>0.15</td>\n",
       "      <td>68.87</td>\n",
       "      <td>136.22</td>\n",
       "      <td>210.95</td>\n",
       "      <td>552.59</td>\n",
       "    </tr>\n",
       "    <tr>\n",
       "      <th>month_to_end_contract</th>\n",
       "      <td>4000.0</td>\n",
       "      <td>4.32</td>\n",
       "      <td>4.19</td>\n",
       "      <td>1.00</td>\n",
       "      <td>1.00</td>\n",
       "      <td>1.00</td>\n",
       "      <td>6.00</td>\n",
       "      <td>12.00</td>\n",
       "    </tr>\n",
       "    <tr>\n",
       "      <th>lifetime</th>\n",
       "      <td>4000.0</td>\n",
       "      <td>3.72</td>\n",
       "      <td>3.75</td>\n",
       "      <td>0.00</td>\n",
       "      <td>1.00</td>\n",
       "      <td>3.00</td>\n",
       "      <td>5.00</td>\n",
       "      <td>31.00</td>\n",
       "    </tr>\n",
       "    <tr>\n",
       "      <th>avg_class_frequency_total</th>\n",
       "      <td>4000.0</td>\n",
       "      <td>1.88</td>\n",
       "      <td>0.97</td>\n",
       "      <td>0.00</td>\n",
       "      <td>1.18</td>\n",
       "      <td>1.83</td>\n",
       "      <td>2.54</td>\n",
       "      <td>6.02</td>\n",
       "    </tr>\n",
       "    <tr>\n",
       "      <th>avg_class_frequency_current_month</th>\n",
       "      <td>4000.0</td>\n",
       "      <td>1.77</td>\n",
       "      <td>1.05</td>\n",
       "      <td>0.00</td>\n",
       "      <td>0.96</td>\n",
       "      <td>1.72</td>\n",
       "      <td>2.51</td>\n",
       "      <td>6.15</td>\n",
       "    </tr>\n",
       "    <tr>\n",
       "      <th>churn</th>\n",
       "      <td>4000.0</td>\n",
       "      <td>0.27</td>\n",
       "      <td>0.44</td>\n",
       "      <td>0.00</td>\n",
       "      <td>0.00</td>\n",
       "      <td>0.00</td>\n",
       "      <td>1.00</td>\n",
       "      <td>1.00</td>\n",
       "    </tr>\n",
       "  </tbody>\n",
       "</table>\n",
       "</div>"
      ],
      "text/plain": [
       "                                    count    mean    std    min    25%  \\\n",
       "gender                             4000.0    0.51   0.50   0.00   0.00   \n",
       "near_location                      4000.0    0.85   0.36   0.00   1.00   \n",
       "partner                            4000.0    0.49   0.50   0.00   0.00   \n",
       "promo_friends                      4000.0    0.31   0.46   0.00   0.00   \n",
       "phone                              4000.0    0.90   0.30   0.00   1.00   \n",
       "contract_period                    4000.0    4.68   4.55   1.00   1.00   \n",
       "group_visits                       4000.0    0.41   0.49   0.00   0.00   \n",
       "age                                4000.0   29.18   3.26  18.00  27.00   \n",
       "avg_additional_charges_total       4000.0  146.94  96.36   0.15  68.87   \n",
       "month_to_end_contract              4000.0    4.32   4.19   1.00   1.00   \n",
       "lifetime                           4000.0    3.72   3.75   0.00   1.00   \n",
       "avg_class_frequency_total          4000.0    1.88   0.97   0.00   1.18   \n",
       "avg_class_frequency_current_month  4000.0    1.77   1.05   0.00   0.96   \n",
       "churn                              4000.0    0.27   0.44   0.00   0.00   \n",
       "\n",
       "                                      50%     75%     max  \n",
       "gender                               1.00    1.00    1.00  \n",
       "near_location                        1.00    1.00    1.00  \n",
       "partner                              0.00    1.00    1.00  \n",
       "promo_friends                        0.00    1.00    1.00  \n",
       "phone                                1.00    1.00    1.00  \n",
       "contract_period                      1.00    6.00   12.00  \n",
       "group_visits                         0.00    1.00    1.00  \n",
       "age                                 29.00   31.00   41.00  \n",
       "avg_additional_charges_total       136.22  210.95  552.59  \n",
       "month_to_end_contract                1.00    6.00   12.00  \n",
       "lifetime                             3.00    5.00   31.00  \n",
       "avg_class_frequency_total            1.83    2.54    6.02  \n",
       "avg_class_frequency_current_month    1.72    2.51    6.15  \n",
       "churn                                0.00    1.00    1.00  "
      ]
     },
     "execution_count": 7,
     "metadata": {},
     "output_type": "execute_result"
    }
   ],
   "source": [
    "round(data.describe().T, 2)"
   ]
  },
  {
   "cell_type": "code",
   "execution_count": 8,
   "metadata": {
    "scrolled": true
   },
   "outputs": [
    {
     "data": {
      "text/html": [
       "<div>\n",
       "<style scoped>\n",
       "    .dataframe tbody tr th:only-of-type {\n",
       "        vertical-align: middle;\n",
       "    }\n",
       "\n",
       "    .dataframe tbody tr th {\n",
       "        vertical-align: top;\n",
       "    }\n",
       "\n",
       "    .dataframe thead th {\n",
       "        text-align: right;\n",
       "    }\n",
       "</style>\n",
       "<table border=\"1\" class=\"dataframe\">\n",
       "  <thead>\n",
       "    <tr style=\"text-align: right;\">\n",
       "      <th>churn</th>\n",
       "      <th>0</th>\n",
       "      <th>1</th>\n",
       "    </tr>\n",
       "  </thead>\n",
       "  <tbody>\n",
       "    <tr>\n",
       "      <th>gender</th>\n",
       "      <td>0.51</td>\n",
       "      <td>0.51</td>\n",
       "    </tr>\n",
       "    <tr>\n",
       "      <th>near_location</th>\n",
       "      <td>0.87</td>\n",
       "      <td>0.77</td>\n",
       "    </tr>\n",
       "    <tr>\n",
       "      <th>partner</th>\n",
       "      <td>0.53</td>\n",
       "      <td>0.36</td>\n",
       "    </tr>\n",
       "    <tr>\n",
       "      <th>promo_friends</th>\n",
       "      <td>0.35</td>\n",
       "      <td>0.18</td>\n",
       "    </tr>\n",
       "    <tr>\n",
       "      <th>phone</th>\n",
       "      <td>0.90</td>\n",
       "      <td>0.90</td>\n",
       "    </tr>\n",
       "    <tr>\n",
       "      <th>contract_period</th>\n",
       "      <td>5.75</td>\n",
       "      <td>1.73</td>\n",
       "    </tr>\n",
       "    <tr>\n",
       "      <th>group_visits</th>\n",
       "      <td>0.46</td>\n",
       "      <td>0.27</td>\n",
       "    </tr>\n",
       "    <tr>\n",
       "      <th>age</th>\n",
       "      <td>29.98</td>\n",
       "      <td>26.99</td>\n",
       "    </tr>\n",
       "    <tr>\n",
       "      <th>avg_additional_charges_total</th>\n",
       "      <td>158.45</td>\n",
       "      <td>115.08</td>\n",
       "    </tr>\n",
       "    <tr>\n",
       "      <th>month_to_end_contract</th>\n",
       "      <td>5.28</td>\n",
       "      <td>1.66</td>\n",
       "    </tr>\n",
       "    <tr>\n",
       "      <th>lifetime</th>\n",
       "      <td>4.71</td>\n",
       "      <td>0.99</td>\n",
       "    </tr>\n",
       "    <tr>\n",
       "      <th>avg_class_frequency_total</th>\n",
       "      <td>2.02</td>\n",
       "      <td>1.47</td>\n",
       "    </tr>\n",
       "    <tr>\n",
       "      <th>avg_class_frequency_current_month</th>\n",
       "      <td>2.03</td>\n",
       "      <td>1.04</td>\n",
       "    </tr>\n",
       "  </tbody>\n",
       "</table>\n",
       "</div>"
      ],
      "text/plain": [
       "churn                                   0       1\n",
       "gender                               0.51    0.51\n",
       "near_location                        0.87    0.77\n",
       "partner                              0.53    0.36\n",
       "promo_friends                        0.35    0.18\n",
       "phone                                0.90    0.90\n",
       "contract_period                      5.75    1.73\n",
       "group_visits                         0.46    0.27\n",
       "age                                 29.98   26.99\n",
       "avg_additional_charges_total       158.45  115.08\n",
       "month_to_end_contract                5.28    1.66\n",
       "lifetime                             4.71    0.99\n",
       "avg_class_frequency_total            2.02    1.47\n",
       "avg_class_frequency_current_month    2.03    1.04"
      ]
     },
     "execution_count": 8,
     "metadata": {},
     "output_type": "execute_result"
    }
   ],
   "source": [
    "# средние значения признаков в 2 группах (те, кто ушел и те, кто остался)\n",
    "round(data.groupby('churn').mean().T, 2)"
   ]
  },
  {
   "cell_type": "code",
   "execution_count": 9,
   "metadata": {},
   "outputs": [],
   "source": [
    "# разделим признаки на количественные и категориальные\n",
    "count = ['age', 'lifetime', 'contract_period', 'month_to_end_contract', 'avg_class_frequency_total',\\\n",
    "         'avg_class_frequency_current_month', 'avg_additional_charges_total']\n",
    "category = ['gender', 'near_location', 'partner', 'promo_friends', 'phone', 'group_visits']"
   ]
  },
  {
   "cell_type": "markdown",
   "metadata": {},
   "source": [
    "Построим столбчатые гистограммы и распределения признаков для тех, кто ушел и тех, кто остался."
   ]
  },
  {
   "cell_type": "code",
   "execution_count": 10,
   "metadata": {
    "scrolled": false
   },
   "outputs": [
    {
     "data": {
      "image/png": "[encoded data removed]",
      "text/plain": [
       "<Figure size 504x360 with 1 Axes>"
      ]
     },
     "metadata": {
      "needs_background": "light"
     },
     "output_type": "display_data"
    },
    {
     "data": {
      "image/png": "[encoded data removed]",
      "text/plain": [
       "<Figure size 504x360 with 1 Axes>"
      ]
     },
     "metadata": {
      "needs_background": "light"
     },
     "output_type": "display_data"
    },
    {
     "data": {
      "image/png": "[encoded data removed]",
      "text/plain": [
       "<Figure size 504x360 with 1 Axes>"
      ]
     },
     "metadata": {
      "needs_background": "light"
     },
     "output_type": "display_data"
    },
    {
     "data": {
      "image/png": "[encoded data removed]",
      "text/plain": [
       "<Figure size 504x360 with 1 Axes>"
      ]
     },
     "metadata": {
      "needs_background": "light"
     },
     "output_type": "display_data"
    },
    {
     "data": {
      "image/png": "[encoded data removed]",
      "text/plain": [
       "<Figure size 504x360 with 1 Axes>"
      ]
     },
     "metadata": {
      "needs_background": "light"
     },
     "output_type": "display_data"
    },
    {
     "data": {
      "image/png": "[encoded data removed]",
      "text/plain": [
       "<Figure size 504x360 with 1 Axes>"
      ]
     },
     "metadata": {
      "needs_background": "light"
     },
     "output_type": "display_data"
    },
    {
     "data": {
      "image/png": "[encoded data removed]",
      "text/plain": [
       "<Figure size 504x360 with 1 Axes>"
      ]
     },
     "metadata": {
      "needs_background": "light"
     },
     "output_type": "display_data"
    }
   ],
   "source": [
    "for col in count:\n",
    "    plt.figure(figsize=(7, 5))\n",
    "    sns.histplot(data=data, x=col, hue='churn')\n",
    "    plt.xlabel(col)\n",
    "    plt.ylabel('Количество клиентов')\n",
    "    plt.show()"
   ]
  },
  {
   "cell_type": "code",
   "execution_count": 11,
   "metadata": {},
   "outputs": [
    {
     "data": {
      "image/png": "[encoded data removed]",
      "text/plain": [
       "<Figure size 504x360 with 1 Axes>"
      ]
     },
     "metadata": {
      "needs_background": "light"
     },
     "output_type": "display_data"
    },
    {
     "data": {
      "image/png": "[encoded data removed]",
      "text/plain": [
       "<Figure size 504x360 with 1 Axes>"
      ]
     },
     "metadata": {
      "needs_background": "light"
     },
     "output_type": "display_data"
    },
    {
     "data": {
      "image/png": "[encoded data removed]",
      "text/plain": [
       "<Figure size 504x360 with 1 Axes>"
      ]
     },
     "metadata": {
      "needs_background": "light"
     },
     "output_type": "display_data"
    },
    {
     "data": {
      "image/png": "[encoded data removed]",
      "text/plain": [
       "<Figure size 504x360 with 1 Axes>"
      ]
     },
     "metadata": {
      "needs_background": "light"
     },
     "output_type": "display_data"
    },
    {
     "data": {
      "image/png": "[encoded data removed]",
      "text/plain": [
       "<Figure size 504x360 with 1 Axes>"
      ]
     },
     "metadata": {
      "needs_background": "light"
     },
     "output_type": "display_data"
    },
    {
     "data": {
      "image/png": "[encoded data removed]",
      "text/plain": [
       "<Figure size 504x360 with 1 Axes>"
      ]
     },
     "metadata": {
      "needs_background": "light"
     },
     "output_type": "display_data"
    }
   ],
   "source": [
    "for col in category:\n",
    "    plt.figure(figsize=(7, 5))\n",
    "    sns.countplot(data=data, x=col, hue=\"churn\")\n",
    "    plt.xlabel(col)\n",
    "    plt.ylabel('Количество клиентов')\n",
    "    plt.legend(data['churn'].unique())\n",
    "    plt.show()"
   ]
  },
  {
   "cell_type": "code",
   "execution_count": 12,
   "metadata": {
    "scrolled": true
   },
   "outputs": [
    {
     "data": {
      "image/png": "[encoded data removed]",
      "text/plain": [
       "<Figure size 720x504 with 2 Axes>"
      ]
     },
     "metadata": {
      "needs_background": "light"
     },
     "output_type": "display_data"
    }
   ],
   "source": [
    "# построим матрицу корреляции \n",
    "corr_m = data.corr()\n",
    "plt.figure(figsize=(10, 7))\n",
    "ax = sns.heatmap(corr_m, square = True, annot = True)\n",
    "plt.show()"
   ]
  },
  {
   "cell_type": "markdown",
   "metadata": {},
   "source": [
    "<b>Вывод</b>\n",
    "\n",
    "Проведя анализ основных признаков, влияющих на отток пользователей, можно выделить следующее:\n",
    "* соотношение полов составляет примерно 50/50;\n",
    "* 85% клиентов проживают или работают в районе, где находятся фитнес-центры;\n",
    "* примерно половина клиентов являются сотрудниками компании-партнера клуба;\n",
    "* 30% клиентов использовали промо-код при оплате 1-го абонемента;\n",
    "* средний возраст клиентов составляет около 30 лет;\n",
    "* средняя частота посещений фитнес-центров - примерно 2 раз в неделю;\n",
    "* чуть более 40% клиентов посещают групповые занятия;\n",
    "* отток клиентов в среднем составляет 27%.\n",
    "\n",
    "Средние значения в обеих группах (тех, кто ушел и тех, кто остался) показывают, что: \n",
    "* распределение по полу в обеих группах не отличается;\n",
    "* клиенты, живущие или работающие рядом с фитнес-центором, а также являющиеся сотрудниками компании-партнера клуба реже уходят в отток;\n",
    "* клиенты, пришедшие по акции \"Приведи друга\",  примерно в два раза реже перестают посещать фитнес-клуб;\n",
    "* клиенты, ушедшие в отток, чаще всего брали абонемент на 1-2 месяца;\n",
    "* средний возраст в обеих группах - до 30 лет;\n",
    "* оставшиеся клиенты чаще ходят на групповые занятия;\n",
    "* средняя частота посещений в обеих группах стоставяет 2 раза в неделю.\n",
    "\n",
    "Сильно коррелируют между собой следующие признаки:\n",
    "* срок до окончания текущего действующего обанемента и длительность текущего действующего абонемента;\n",
    "* средняя частота посещений в неделю за предыдущий месяц и средняя частота посещений в неделю за все время с начала действия абонемента.\n",
    "\n",
    "Ни один из признаков сильно не влияет на отток."
   ]
  },
  {
   "cell_type": "markdown",
   "metadata": {},
   "source": [
    "## Построение модели прогнозирования оттока клиентов"
   ]
  },
  {
   "cell_type": "code",
   "execution_count": 13,
   "metadata": {},
   "outputs": [],
   "source": [
    "# разделим данные на признаки (матрица X) и целевую переменную (y)\n",
    "X = data.drop('churn', axis=1) \n",
    "y = data['churn']\n",
    "# разделим модель на обучающую и валидационную выборки\n",
    "X_train, X_test, y_train, y_test = train_test_split(X, y, test_size=0.2, random_state = 0)"
   ]
  },
  {
   "cell_type": "code",
   "execution_count": 14,
   "metadata": {
    "scrolled": true
   },
   "outputs": [
    {
     "name": "stdout",
     "output_type": "stream",
     "text": [
      "(3200, 13) (800, 13)\n"
     ]
    }
   ],
   "source": [
    "#Код ревьюера\n",
    "print(X_train.shape, X_test.shape)"
   ]
  },
  {
   "cell_type": "markdown",
   "metadata": {},
   "source": [
    "Выборки разделены корректно"
   ]
  },
  {
   "cell_type": "markdown",
   "metadata": {},
   "source": [
    "**Модель логистической регрессии**"
   ]
  },
  {
   "cell_type": "code",
   "execution_count": 15,
   "metadata": {
    "scrolled": true
   },
   "outputs": [
    {
     "name": "stdout",
     "output_type": "stream",
     "text": [
      "Доля правильных ответов: 0.93\n",
      "Точность: 0.86\n",
      "Полнота: 0.83\n"
     ]
    }
   ],
   "source": [
    "# зададим алгоритм для нашей модели\n",
    "lg_model = LogisticRegression(solver='liblinear', random_state = 0)\n",
    "# обучим модель\n",
    "lg_model.fit(X_train, y_train)\n",
    "# сделаем прогноз обученной модели\n",
    "predictions = lg_model.predict(X_test)\n",
    "# выведем значения метрик на валидационной выборке\n",
    "print('Доля правильных ответов: {:.2f}'.format(accuracy_score(y_test, predictions)))\n",
    "print('Точность: {:.2f}'.format(precision_score(y_test, predictions)))\n",
    "print('Полнота: {:.2f}'.format(recall_score(y_test, predictions)))"
   ]
  },
  {
   "cell_type": "markdown",
   "metadata": {},
   "source": [
    "**Модель случайного леса**"
   ]
  },
  {
   "cell_type": "code",
   "execution_count": 16,
   "metadata": {},
   "outputs": [
    {
     "name": "stdout",
     "output_type": "stream",
     "text": [
      "Доля правильных ответов: 0.92\n",
      "Точность: 0.84\n",
      "Полнота: 0.82\n"
     ]
    }
   ],
   "source": [
    "# зададим алгоритм для нашей модели\n",
    "rf_model = RandomForestClassifier(random_state=0)\n",
    "# обучим модель\n",
    "rf_model.fit(X_train, y_train)\n",
    "# сделаем прогноз обученной модели\n",
    "predictions = rf_model.predict(X_test)\n",
    "# выведем значения метрик на валидационной выборке\n",
    "print('Доля правильных ответов: {:.2f}'.format(accuracy_score(y_test, predictions)))\n",
    "print('Точность: {:.2f}'.format(precision_score(y_test, predictions)))\n",
    "print('Полнота: {:.2f}'.format(recall_score(y_test, predictions)))"
   ]
  },
  {
   "cell_type": "markdown",
   "metadata": {},
   "source": [
    "<b>Вывод</b>\n",
    "\n",
    "Мы построили модель бинарной классификации клиентов, где целевой признак - факт оттока клиентов в следующем месяце. Обучили модель двумя способами - логистической регрессией и случайным лесом. \n",
    "\n",
    "На основании полученных метрик лучше себя показала модель логистической регрессии."
   ]
  },
  {
   "cell_type": "markdown",
   "metadata": {},
   "source": [
    "## Кластеризация клиентов"
   ]
  },
  {
   "cell_type": "code",
   "execution_count": 17,
   "metadata": {
    "scrolled": true
   },
   "outputs": [],
   "source": [
    "# стандартизируем данные\n",
    "sc = StandardScaler()\n",
    "X_sc = sc.fit_transform(X)"
   ]
  },
  {
   "cell_type": "code",
   "execution_count": 18,
   "metadata": {
    "scrolled": true
   },
   "outputs": [
    {
     "data": {
      "image/png": "[encoded data removed]",
      "text/plain": [
       "<Figure size 1440x1080 with 1 Axes>"
      ]
     },
     "metadata": {
      "needs_background": "light"
     },
     "output_type": "display_data"
    }
   ],
   "source": [
    "# построим дендрограмму \n",
    "linked = linkage(X_sc, method = 'ward')\n",
    "plt.figure(figsize=(20, 15))  \n",
    "dendrogram(linked, orientation='top')\n",
    "plt.title('Иерархическая кластеризация')\n",
    "plt.xticks(rotation=45)\n",
    "plt.show()"
   ]
  },
  {
   "cell_type": "markdown",
   "metadata": {},
   "source": [
    "**Обучим модель кластеризации на основании алгоритма К-Means и спрогнозируем кластеры клиентов**"
   ]
  },
  {
   "cell_type": "code",
   "execution_count": 19,
   "metadata": {},
   "outputs": [],
   "source": [
    "# зададим модель k_means с числом кластеров 5 и фиксируем значение random_state\n",
    "km = KMeans(n_clusters=5, random_state=0)\n",
    "# спрогнозируем кластеры для наблюдений \n",
    "labels = km.fit_predict(X_sc) \n",
    "# сохраним метки кластера в поле датасета\n",
    "data['cluster'] = labels"
   ]
  },
  {
   "cell_type": "code",
   "execution_count": 20,
   "metadata": {},
   "outputs": [
    {
     "name": "stdout",
     "output_type": "stream",
     "text": [
      "3    1262\n",
      "0    1010\n",
      "4     838\n",
      "2     505\n",
      "1     385\n",
      "Name: cluster, dtype: int64\n"
     ]
    }
   ],
   "source": [
    "# выведем количество клиентов в каждом кластере\n",
    "print(data['cluster'].value_counts())"
   ]
  },
  {
   "cell_type": "code",
   "execution_count": 21,
   "metadata": {},
   "outputs": [
    {
     "data": {
      "text/html": [
       "<div>\n",
       "<style scoped>\n",
       "    .dataframe tbody tr th:only-of-type {\n",
       "        vertical-align: middle;\n",
       "    }\n",
       "\n",
       "    .dataframe tbody tr th {\n",
       "        vertical-align: top;\n",
       "    }\n",
       "\n",
       "    .dataframe thead th {\n",
       "        text-align: right;\n",
       "    }\n",
       "</style>\n",
       "<table border=\"1\" class=\"dataframe\">\n",
       "  <thead>\n",
       "    <tr style=\"text-align: right;\">\n",
       "      <th>cluster</th>\n",
       "      <th>0</th>\n",
       "      <th>1</th>\n",
       "      <th>2</th>\n",
       "      <th>3</th>\n",
       "      <th>4</th>\n",
       "    </tr>\n",
       "  </thead>\n",
       "  <tbody>\n",
       "    <tr>\n",
       "      <th>gender</th>\n",
       "      <td>0.50</td>\n",
       "      <td>0.52</td>\n",
       "      <td>0.50</td>\n",
       "      <td>0.49</td>\n",
       "      <td>0.56</td>\n",
       "    </tr>\n",
       "    <tr>\n",
       "      <th>near_location</th>\n",
       "      <td>0.96</td>\n",
       "      <td>0.86</td>\n",
       "      <td>0.00</td>\n",
       "      <td>1.00</td>\n",
       "      <td>0.98</td>\n",
       "    </tr>\n",
       "    <tr>\n",
       "      <th>partner</th>\n",
       "      <td>0.78</td>\n",
       "      <td>0.47</td>\n",
       "      <td>0.46</td>\n",
       "      <td>0.35</td>\n",
       "      <td>0.36</td>\n",
       "    </tr>\n",
       "    <tr>\n",
       "      <th>promo_friends</th>\n",
       "      <td>0.57</td>\n",
       "      <td>0.31</td>\n",
       "      <td>0.08</td>\n",
       "      <td>0.24</td>\n",
       "      <td>0.23</td>\n",
       "    </tr>\n",
       "    <tr>\n",
       "      <th>phone</th>\n",
       "      <td>1.00</td>\n",
       "      <td>0.00</td>\n",
       "      <td>1.00</td>\n",
       "      <td>1.00</td>\n",
       "      <td>1.00</td>\n",
       "    </tr>\n",
       "    <tr>\n",
       "      <th>contract_period</th>\n",
       "      <td>10.89</td>\n",
       "      <td>4.79</td>\n",
       "      <td>2.35</td>\n",
       "      <td>1.95</td>\n",
       "      <td>2.67</td>\n",
       "    </tr>\n",
       "    <tr>\n",
       "      <th>group_visits</th>\n",
       "      <td>0.54</td>\n",
       "      <td>0.43</td>\n",
       "      <td>0.22</td>\n",
       "      <td>0.34</td>\n",
       "      <td>0.47</td>\n",
       "    </tr>\n",
       "    <tr>\n",
       "      <th>age</th>\n",
       "      <td>29.98</td>\n",
       "      <td>29.30</td>\n",
       "      <td>28.48</td>\n",
       "      <td>28.17</td>\n",
       "      <td>30.13</td>\n",
       "    </tr>\n",
       "    <tr>\n",
       "      <th>avg_additional_charges_total</th>\n",
       "      <td>160.76</td>\n",
       "      <td>143.96</td>\n",
       "      <td>135.46</td>\n",
       "      <td>131.62</td>\n",
       "      <td>161.66</td>\n",
       "    </tr>\n",
       "    <tr>\n",
       "      <th>month_to_end_contract</th>\n",
       "      <td>9.95</td>\n",
       "      <td>4.48</td>\n",
       "      <td>2.20</td>\n",
       "      <td>1.86</td>\n",
       "      <td>2.46</td>\n",
       "    </tr>\n",
       "    <tr>\n",
       "      <th>lifetime</th>\n",
       "      <td>4.74</td>\n",
       "      <td>3.92</td>\n",
       "      <td>2.81</td>\n",
       "      <td>2.44</td>\n",
       "      <td>4.90</td>\n",
       "    </tr>\n",
       "    <tr>\n",
       "      <th>avg_class_frequency_total</th>\n",
       "      <td>1.98</td>\n",
       "      <td>1.85</td>\n",
       "      <td>1.66</td>\n",
       "      <td>1.25</td>\n",
       "      <td>2.85</td>\n",
       "    </tr>\n",
       "    <tr>\n",
       "      <th>avg_class_frequency_current_month</th>\n",
       "      <td>1.97</td>\n",
       "      <td>1.72</td>\n",
       "      <td>1.48</td>\n",
       "      <td>1.01</td>\n",
       "      <td>2.85</td>\n",
       "    </tr>\n",
       "    <tr>\n",
       "      <th>churn</th>\n",
       "      <td>0.03</td>\n",
       "      <td>0.27</td>\n",
       "      <td>0.44</td>\n",
       "      <td>0.51</td>\n",
       "      <td>0.07</td>\n",
       "    </tr>\n",
       "  </tbody>\n",
       "</table>\n",
       "</div>"
      ],
      "text/plain": [
       "cluster                                 0       1       2       3       4\n",
       "gender                               0.50    0.52    0.50    0.49    0.56\n",
       "near_location                        0.96    0.86    0.00    1.00    0.98\n",
       "partner                              0.78    0.47    0.46    0.35    0.36\n",
       "promo_friends                        0.57    0.31    0.08    0.24    0.23\n",
       "phone                                1.00    0.00    1.00    1.00    1.00\n",
       "contract_period                     10.89    4.79    2.35    1.95    2.67\n",
       "group_visits                         0.54    0.43    0.22    0.34    0.47\n",
       "age                                 29.98   29.30   28.48   28.17   30.13\n",
       "avg_additional_charges_total       160.76  143.96  135.46  131.62  161.66\n",
       "month_to_end_contract                9.95    4.48    2.20    1.86    2.46\n",
       "lifetime                             4.74    3.92    2.81    2.44    4.90\n",
       "avg_class_frequency_total            1.98    1.85    1.66    1.25    2.85\n",
       "avg_class_frequency_current_month    1.97    1.72    1.48    1.01    2.85\n",
       "churn                                0.03    0.27    0.44    0.51    0.07"
      ]
     },
     "execution_count": 21,
     "metadata": {},
     "output_type": "execute_result"
    }
   ],
   "source": [
    "# выведем статистику по средним значениям наших признаков по кластеру\n",
    "round(data.groupby(['cluster']).mean().T, 2)"
   ]
  },
  {
   "cell_type": "code",
   "execution_count": 22,
   "metadata": {},
   "outputs": [
    {
     "data": {
      "text/plain": [
       "cluster\n",
       "3    0.514263\n",
       "2    0.443564\n",
       "1    0.267532\n",
       "4    0.068019\n",
       "0    0.027723\n",
       "Name: churn, dtype: float64"
      ]
     },
     "execution_count": 22,
     "metadata": {},
     "output_type": "execute_result"
    }
   ],
   "source": [
    "# посчитаем долю оттока для каждого кластера\n",
    "data.groupby('cluster')['churn'].mean().sort_values(ascending=False)"
   ]
  },
  {
   "cell_type": "code",
   "execution_count": 23,
   "metadata": {
    "scrolled": false
   },
   "outputs": [
    {
     "data": {
      "image/png": "[encoded data removed]",
      "text/plain": [
       "<Figure size 432x288 with 1 Axes>"
      ]
     },
     "metadata": {
      "needs_background": "light"
     },
     "output_type": "display_data"
    },
    {
     "data": {
      "image/png": "[encoded data removed]",
      "text/plain": [
       "<Figure size 432x288 with 1 Axes>"
      ]
     },
     "metadata": {
      "needs_background": "light"
     },
     "output_type": "display_data"
    },
    {
     "data": {
      "image/png": "[encoded data removed]",
      "text/plain": [
       "<Figure size 432x288 with 1 Axes>"
      ]
     },
     "metadata": {
      "needs_background": "light"
     },
     "output_type": "display_data"
    },
    {
     "data": {
      "image/png": "[encoded data removed]",
      "text/plain": [
       "<Figure size 432x288 with 1 Axes>"
      ]
     },
     "metadata": {
      "needs_background": "light"
     },
     "output_type": "display_data"
    },
    {
     "data": {
      "image/png": "[encoded data removed]",
      "text/plain": [
       "<Figure size 432x288 with 1 Axes>"
      ]
     },
     "metadata": {
      "needs_background": "light"
     },
     "output_type": "display_data"
    },
    {
     "data": {
      "image/png": "[encoded data removed]",
      "text/plain": [
       "<Figure size 432x288 with 1 Axes>"
      ]
     },
     "metadata": {
      "needs_background": "light"
     },
     "output_type": "display_data"
    },
    {
     "data": {
      "image/png": "[encoded data removed]",
      "text/plain": [
       "<Figure size 432x288 with 1 Axes>"
      ]
     },
     "metadata": {
      "needs_background": "light"
     },
     "output_type": "display_data"
    },
    {
     "data": {
      "image/png": "[encoded data removed]",
      "text/plain": [
       "<Figure size 432x288 with 1 Axes>"
      ]
     },
     "metadata": {
      "needs_background": "light"
     },
     "output_type": "display_data"
    },
    {
     "data": {
      "image/png": "[encoded data removed]",
      "text/plain": [
       "<Figure size 432x288 with 1 Axes>"
      ]
     },
     "metadata": {
      "needs_background": "light"
     },
     "output_type": "display_data"
    },
    {
     "data": {
      "image/png": "[encoded data removed]",
      "text/plain": [
       "<Figure size 432x288 with 1 Axes>"
      ]
     },
     "metadata": {
      "needs_background": "light"
     },
     "output_type": "display_data"
    },
    {
     "data": {
      "image/png": "[encoded data removed]",
      "text/plain": [
       "<Figure size 432x288 with 1 Axes>"
      ]
     },
     "metadata": {
      "needs_background": "light"
     },
     "output_type": "display_data"
    },
    {
     "data": {
      "image/png": "[encoded data removed]",
      "text/plain": [
       "<Figure size 432x288 with 1 Axes>"
      ]
     },
     "metadata": {
      "needs_background": "light"
     },
     "output_type": "display_data"
    },
    {
     "data": {
      "image/png": "[encoded data removed]",
      "text/plain": [
       "<Figure size 432x288 with 1 Axes>"
      ]
     },
     "metadata": {
      "needs_background": "light"
     },
     "output_type": "display_data"
    }
   ],
   "source": [
    "# построим графики распределения признаков для кластеров\n",
    "for col in count:\n",
    "    sns.boxplot(x ='cluster', y = col, data = data)\n",
    "    plt.show()\n",
    "for col in category:\n",
    "    sns.countplot(x = col, hue = 'cluster', data = data)\n",
    "    plt.show()"
   ]
  },
  {
   "cell_type": "markdown",
   "metadata": {},
   "source": [
    "<b/>Вывод</b>\n",
    "\n",
    "Мы стандартизировали данные и построили дендрограмму. На основании полученной дендрограммы можно выделить 4 кластера клиентов.\n",
    "\n",
    "Используя алгоритм К-Means, мы разделили клиентов фитнес-клуба на 5 кластеров. \n",
    "\n",
    "Количество клиентов в каждом кластере:\n",
    "* 0  - 1010\n",
    "* 1  - 385\n",
    "* 2  - 505\n",
    "* 3  - 1262\n",
    "* 4  - 838\n",
    "\n",
    "Средний возраст клиентов всех кластеров составляет 28-30 лет. Распределение полов по всем группам примерно одинаковое.\n",
    "\n",
    "Наиболее надежными выглядят кластеры 0 и 4. Клиенты данных кластеров живут/работают недалеко от фитнес-центров, средняя частота посещений составляет 2-3 раза в неделю, они чаще других посещают групповые занятия и покупают дополнительные услуги фитнес-центров.\n",
    "\n",
    "Максимальная доля оттока наблюдается по кластерам 3 и 2 и составляет 51% и 44% соответственно. Клиенты этих кластеров покупают абонементы на более короткий период, реже ходят на тренировки и посещают групповые занятия, меньше покупают дополнительные услуги."
   ]
  },
  {
   "cell_type": "markdown",
   "metadata": {},
   "source": [
    "## Выводы и рекомендации"
   ]
  },
  {
   "cell_type": "markdown",
   "metadata": {},
   "source": [
    "<b>Выводы</b>\n",
    "\n",
    "* Нами был проведен анализ анкет 4000 клиентов фитнес-клуба. Данные были представлены в полном объеме, в них отсутствовали пропуски и дубликаты\n",
    "\n",
    "\n",
    "* Анализ средних значений признаков по 2 группам (тех, кто ушел в отток и тех, кто остался) показал, что реже уходят в отток те клиенты, которые:\n",
    "    * живут/работают рядом с фитнес центром,\n",
    "    * являются сотрудниками компании-партнера клуба,\n",
    "    * посещают занятия в фитнес-клубе 2 раза в неделю,\n",
    "    * чаще ходят на групповые занятия,\n",
    "    * при оплате первого абонемента использовали промо-код \"Приведи друга\"\n",
    "    \n",
    "    \n",
    "* Мы построили модель бинарной классификации клиентов, где целевой признак - факт оттока клиентов в следующем месяце. Обучили модель двумя способами - логистической регрессией и случайным лесом. На основании полученных метрик лучше себя показала модель логистической регрессии\n",
    "\n",
    "\n",
    "* Стандартизировали данные, построили дендрограмму, на основании которой выделили 4 кластера клиентов\n",
    "\n",
    "\n",
    "* Обучили модель кластеризации на основании алгоритма К-Меаns и спрогнозировали кластеры клиентов\n",
    "\n",
    "\n",
    "* Наиболее склонны к оттоку кластеры под номерами 3 и 2, их доля сотавляет 51% и 44% соответсвенно. Средние значения признаков говорят нам о том, что клиенты этих кластеров покупают абонементы на более короткий период, реже ходят на тренировки и групповые занятия, меньше покупают дополнительные услуги\n",
    "\n",
    "\n",
    "* Наиболее надежными выглядят кластеры 0 и 4. Клиенты данных кластеров живут/работают недалеко от фитнес-центров, средняя частота посещений составляет 2-3 раза в неделю, они чаще других посещают групповые занятия и покупают дополнительные услуги фитнес-центров\n",
    "\n",
    "<b>Рекомендации</b>\n",
    "\n",
    "* расширить список компаний-партнеров клуба\n",
    "\n",
    "\n",
    "* разработать систему скидок при покупке абонемента на длительный период (6, 12 месяцев) и дополнительные услуги фитнес-клуба\n",
    "\n",
    "\n",
    "* расширение видов групповых занятий\n",
    "\n",
    "\n",
    "* предоставление бесплатной (ознакомительной) индивидуальной тренировки в тренажерном зале"
   ]
  }
 ],
 "metadata": {
  "ExecuteTimeLog": [
   {
    "duration": 447,
    "start_time": "2022-09-26T13:02:33.912Z"
   },
   {
    "duration": 84,
    "start_time": "2022-09-26T13:02:46.382Z"
   },
   {
    "duration": 14,
    "start_time": "2022-09-26T13:02:56.207Z"
   },
   {
    "duration": 2,
    "start_time": "2022-09-26T13:05:07.272Z"
   },
   {
    "duration": 33,
    "start_time": "2022-09-26T13:06:33.406Z"
   },
   {
    "duration": 12,
    "start_time": "2022-09-26T13:06:33.676Z"
   },
   {
    "duration": 33,
    "start_time": "2022-09-26T13:06:52.664Z"
   },
   {
    "duration": 12,
    "start_time": "2022-09-26T13:06:52.893Z"
   },
   {
    "duration": 25,
    "start_time": "2022-09-26T13:07:03.489Z"
   },
   {
    "duration": 67,
    "start_time": "2022-09-26T13:07:10.844Z"
   },
   {
    "duration": 6,
    "start_time": "2022-09-26T13:07:13.699Z"
   },
   {
    "duration": 10,
    "start_time": "2022-09-26T13:07:27.027Z"
   },
   {
    "duration": 8,
    "start_time": "2022-09-26T13:07:41.432Z"
   },
   {
    "duration": 8,
    "start_time": "2022-09-26T13:07:56.584Z"
   },
   {
    "duration": 67,
    "start_time": "2022-09-26T13:47:20.896Z"
   },
   {
    "duration": 3,
    "start_time": "2022-09-26T14:17:39.918Z"
   },
   {
    "duration": 7,
    "start_time": "2022-09-26T14:17:43.512Z"
   },
   {
    "duration": 8,
    "start_time": "2022-09-26T14:17:51.756Z"
   },
   {
    "duration": 8,
    "start_time": "2022-09-26T14:17:55.976Z"
   },
   {
    "duration": 7,
    "start_time": "2022-09-26T14:18:22.240Z"
   },
   {
    "duration": 441,
    "start_time": "2022-09-26T14:18:32.048Z"
   },
   {
    "duration": 34,
    "start_time": "2022-09-26T14:18:32.491Z"
   },
   {
    "duration": 14,
    "start_time": "2022-09-26T14:18:32.527Z"
   },
   {
    "duration": 12,
    "start_time": "2022-09-26T14:18:32.543Z"
   },
   {
    "duration": 10,
    "start_time": "2022-09-26T14:18:32.557Z"
   },
   {
    "duration": 5,
    "start_time": "2022-09-26T14:18:32.569Z"
   },
   {
    "duration": 93,
    "start_time": "2022-09-26T14:18:32.576Z"
   },
   {
    "duration": 4,
    "start_time": "2022-09-26T14:19:26.498Z"
   },
   {
    "duration": 67,
    "start_time": "2022-09-26T14:28:06.464Z"
   },
   {
    "duration": 8,
    "start_time": "2022-09-26T14:28:13.616Z"
   },
   {
    "duration": 86,
    "start_time": "2022-09-26T14:28:27.052Z"
   },
   {
    "duration": 17,
    "start_time": "2022-09-26T14:29:09.286Z"
   },
   {
    "duration": 580,
    "start_time": "2022-09-26T14:45:24.720Z"
   },
   {
    "duration": 35,
    "start_time": "2022-09-26T14:45:25.704Z"
   },
   {
    "duration": 13,
    "start_time": "2022-09-26T14:45:26.026Z"
   },
   {
    "duration": 7,
    "start_time": "2022-09-26T14:45:26.619Z"
   },
   {
    "duration": 11,
    "start_time": "2022-09-26T14:45:26.899Z"
   },
   {
    "duration": 3,
    "start_time": "2022-09-26T14:45:27.191Z"
   },
   {
    "duration": 50,
    "start_time": "2022-09-26T14:45:27.453Z"
   },
   {
    "duration": 6,
    "start_time": "2022-09-26T15:00:58.676Z"
   },
   {
    "duration": 79,
    "start_time": "2022-09-26T15:01:42.698Z"
   },
   {
    "duration": 19,
    "start_time": "2022-09-26T15:01:45.593Z"
   },
   {
    "duration": 577,
    "start_time": "2022-09-26T15:02:01.869Z"
   },
   {
    "duration": 1217,
    "start_time": "2022-09-26T15:02:07.536Z"
   },
   {
    "duration": 34,
    "start_time": "2022-09-26T15:02:08.755Z"
   },
   {
    "duration": 13,
    "start_time": "2022-09-26T15:02:08.791Z"
   },
   {
    "duration": 9,
    "start_time": "2022-09-26T15:02:08.806Z"
   },
   {
    "duration": 9,
    "start_time": "2022-09-26T15:02:08.818Z"
   },
   {
    "duration": 4,
    "start_time": "2022-09-26T15:02:08.829Z"
   },
   {
    "duration": 63,
    "start_time": "2022-09-26T15:02:08.834Z"
   },
   {
    "duration": 36,
    "start_time": "2022-09-26T15:02:08.900Z"
   },
   {
    "duration": 8,
    "start_time": "2022-09-26T15:02:08.938Z"
   },
   {
    "duration": 1662,
    "start_time": "2022-09-26T15:02:08.948Z"
   },
   {
    "duration": 1618,
    "start_time": "2022-09-26T15:15:15.605Z"
   },
   {
    "duration": 140,
    "start_time": "2022-09-26T15:17:19.047Z"
   },
   {
    "duration": 12,
    "start_time": "2022-09-26T15:17:39.699Z"
   },
   {
    "duration": 1271,
    "start_time": "2022-09-27T06:11:56.012Z"
   },
   {
    "duration": 127,
    "start_time": "2022-09-27T06:11:57.285Z"
   },
   {
    "duration": 12,
    "start_time": "2022-09-27T06:11:57.413Z"
   },
   {
    "duration": 7,
    "start_time": "2022-09-27T06:11:57.426Z"
   },
   {
    "duration": 13,
    "start_time": "2022-09-27T06:11:57.435Z"
   },
   {
    "duration": 10,
    "start_time": "2022-09-27T06:11:57.449Z"
   },
   {
    "duration": 49,
    "start_time": "2022-09-27T06:11:57.461Z"
   },
   {
    "duration": 18,
    "start_time": "2022-09-27T06:11:57.512Z"
   },
   {
    "duration": 203290,
    "start_time": "2022-09-27T06:11:57.532Z"
   },
   {
    "duration": 1352,
    "start_time": "2022-09-27T06:15:20.824Z"
   },
   {
    "duration": 90,
    "start_time": "2022-09-27T06:45:01.140Z"
   },
   {
    "duration": 1429,
    "start_time": "2022-09-27T06:45:09.817Z"
   },
   {
    "duration": 33,
    "start_time": "2022-09-27T06:45:11.248Z"
   },
   {
    "duration": 14,
    "start_time": "2022-09-27T06:45:11.282Z"
   },
   {
    "duration": 10,
    "start_time": "2022-09-27T06:45:11.297Z"
   },
   {
    "duration": 14,
    "start_time": "2022-09-27T06:45:11.309Z"
   },
   {
    "duration": 3,
    "start_time": "2022-09-27T06:45:11.325Z"
   },
   {
    "duration": 48,
    "start_time": "2022-09-27T06:45:11.330Z"
   },
   {
    "duration": 17,
    "start_time": "2022-09-27T06:45:11.380Z"
   },
   {
    "duration": 206895,
    "start_time": "2022-09-27T06:45:11.398Z"
   },
   {
    "duration": 1275,
    "start_time": "2022-09-27T06:48:38.294Z"
   },
   {
    "duration": 1450,
    "start_time": "2022-09-27T06:48:39.570Z"
   },
   {
    "duration": 141,
    "start_time": "2022-09-27T06:53:06.302Z"
   },
   {
    "duration": 4,
    "start_time": "2022-09-27T06:53:35.923Z"
   },
   {
    "duration": 464,
    "start_time": "2022-09-27T06:53:39.465Z"
   },
   {
    "duration": 595,
    "start_time": "2022-09-27T07:00:46.032Z"
   },
   {
    "duration": 1397,
    "start_time": "2022-09-27T07:02:33.812Z"
   },
   {
    "duration": 32,
    "start_time": "2022-09-27T07:02:35.210Z"
   },
   {
    "duration": 13,
    "start_time": "2022-09-27T07:02:35.244Z"
   },
   {
    "duration": 10,
    "start_time": "2022-09-27T07:02:35.258Z"
   },
   {
    "duration": 10,
    "start_time": "2022-09-27T07:02:35.270Z"
   },
   {
    "duration": 3,
    "start_time": "2022-09-27T07:02:35.281Z"
   },
   {
    "duration": 51,
    "start_time": "2022-09-27T07:02:35.285Z"
   },
   {
    "duration": 17,
    "start_time": "2022-09-27T07:02:35.337Z"
   },
   {
    "duration": 207040,
    "start_time": "2022-09-27T07:02:35.356Z"
   },
   {
    "duration": 1402,
    "start_time": "2022-09-27T07:06:02.398Z"
   },
   {
    "duration": 528,
    "start_time": "2022-09-27T07:06:03.802Z"
   },
   {
    "duration": 97,
    "start_time": "2022-09-27T07:06:10.283Z"
   },
   {
    "duration": 26,
    "start_time": "2022-09-27T07:06:31.278Z"
   },
   {
    "duration": 1344,
    "start_time": "2022-09-27T07:13:11.876Z"
   },
   {
    "duration": 33,
    "start_time": "2022-09-27T07:13:13.221Z"
   },
   {
    "duration": 10,
    "start_time": "2022-09-27T07:13:13.256Z"
   },
   {
    "duration": 6,
    "start_time": "2022-09-27T07:13:13.268Z"
   },
   {
    "duration": 18,
    "start_time": "2022-09-27T07:13:13.275Z"
   },
   {
    "duration": 6,
    "start_time": "2022-09-27T07:13:13.295Z"
   },
   {
    "duration": 46,
    "start_time": "2022-09-27T07:13:13.303Z"
   },
   {
    "duration": 17,
    "start_time": "2022-09-27T07:13:13.350Z"
   },
   {
    "duration": 206399,
    "start_time": "2022-09-27T07:13:13.368Z"
   },
   {
    "duration": 1383,
    "start_time": "2022-09-27T07:16:39.769Z"
   },
   {
    "duration": 579,
    "start_time": "2022-09-27T07:16:41.154Z"
   },
   {
    "duration": 3,
    "start_time": "2022-09-27T07:16:41.824Z"
   },
   {
    "duration": 713,
    "start_time": "2022-09-27T07:23:45.634Z"
   },
   {
    "duration": 522,
    "start_time": "2022-09-27T07:24:51.505Z"
   },
   {
    "duration": 659,
    "start_time": "2022-09-27T07:24:55.586Z"
   },
   {
    "duration": 603,
    "start_time": "2022-09-27T07:24:59.816Z"
   },
   {
    "duration": 555,
    "start_time": "2022-09-27T07:27:48.976Z"
   },
   {
    "duration": 546,
    "start_time": "2022-09-27T07:28:52.875Z"
   },
   {
    "duration": 771,
    "start_time": "2022-09-27T07:32:13.725Z"
   },
   {
    "duration": 1346,
    "start_time": "2022-09-27T07:33:12.252Z"
   },
   {
    "duration": 32,
    "start_time": "2022-09-27T07:33:13.600Z"
   },
   {
    "duration": 12,
    "start_time": "2022-09-27T07:33:13.633Z"
   },
   {
    "duration": 22,
    "start_time": "2022-09-27T07:33:13.647Z"
   },
   {
    "duration": 11,
    "start_time": "2022-09-27T07:33:13.670Z"
   },
   {
    "duration": 13,
    "start_time": "2022-09-27T07:33:13.682Z"
   },
   {
    "duration": 64,
    "start_time": "2022-09-27T07:33:13.696Z"
   },
   {
    "duration": 14,
    "start_time": "2022-09-27T07:33:13.761Z"
   },
   {
    "duration": 204479,
    "start_time": "2022-09-27T07:33:13.776Z"
   },
   {
    "duration": 1446,
    "start_time": "2022-09-27T07:36:38.258Z"
   },
   {
    "duration": 717,
    "start_time": "2022-09-27T07:36:39.706Z"
   },
   {
    "duration": 720,
    "start_time": "2022-09-27T07:36:40.425Z"
   },
   {
    "duration": 709,
    "start_time": "2022-09-27T07:44:57.046Z"
   },
   {
    "duration": 4,
    "start_time": "2022-09-27T07:46:50.658Z"
   },
   {
    "duration": 4,
    "start_time": "2022-09-27T07:46:55.951Z"
   },
   {
    "duration": 3,
    "start_time": "2022-09-27T07:47:06.758Z"
   },
   {
    "duration": 632,
    "start_time": "2022-09-27T07:49:08.973Z"
   },
   {
    "duration": 3,
    "start_time": "2022-09-27T07:53:16.919Z"
   },
   {
    "duration": 610,
    "start_time": "2022-09-27T07:53:22.791Z"
   },
   {
    "duration": 365,
    "start_time": "2022-09-27T07:53:35.324Z"
   },
   {
    "duration": 2,
    "start_time": "2022-09-27T08:13:49.713Z"
   },
   {
    "duration": 4,
    "start_time": "2022-09-27T08:18:54.689Z"
   },
   {
    "duration": 1339,
    "start_time": "2022-09-27T08:19:01.317Z"
   },
   {
    "duration": 31,
    "start_time": "2022-09-27T08:19:02.658Z"
   },
   {
    "duration": 10,
    "start_time": "2022-09-27T08:19:02.691Z"
   },
   {
    "duration": 14,
    "start_time": "2022-09-27T08:19:02.703Z"
   },
   {
    "duration": 19,
    "start_time": "2022-09-27T08:19:02.719Z"
   },
   {
    "duration": 16,
    "start_time": "2022-09-27T08:19:02.740Z"
   },
   {
    "duration": 60,
    "start_time": "2022-09-27T08:19:02.757Z"
   },
   {
    "duration": 13,
    "start_time": "2022-09-27T08:19:02.819Z"
   },
   {
    "duration": 205711,
    "start_time": "2022-09-27T08:19:02.833Z"
   },
   {
    "duration": 1402,
    "start_time": "2022-09-27T08:22:28.546Z"
   },
   {
    "duration": 576,
    "start_time": "2022-09-27T08:22:29.950Z"
   },
   {
    "duration": 423,
    "start_time": "2022-09-27T08:22:30.528Z"
   },
   {
    "duration": 2,
    "start_time": "2022-09-27T08:22:30.952Z"
   },
   {
    "duration": 101572,
    "start_time": "2022-09-27T08:26:23.890Z"
   },
   {
    "duration": 550,
    "start_time": "2022-09-27T08:31:30.157Z"
   },
   {
    "duration": 2265,
    "start_time": "2022-09-27T08:33:41.520Z"
   },
   {
    "duration": 32,
    "start_time": "2022-09-27T08:33:43.787Z"
   },
   {
    "duration": 13,
    "start_time": "2022-09-27T08:33:43.821Z"
   },
   {
    "duration": 11,
    "start_time": "2022-09-27T08:33:43.835Z"
   },
   {
    "duration": 7,
    "start_time": "2022-09-27T08:33:43.848Z"
   },
   {
    "duration": 3,
    "start_time": "2022-09-27T08:33:43.856Z"
   },
   {
    "duration": 63,
    "start_time": "2022-09-27T08:33:43.861Z"
   },
   {
    "duration": 15,
    "start_time": "2022-09-27T08:33:43.925Z"
   },
   {
    "duration": 204758,
    "start_time": "2022-09-27T08:33:43.941Z"
   },
   {
    "duration": 1432,
    "start_time": "2022-09-27T08:37:08.700Z"
   },
   {
    "duration": 789,
    "start_time": "2022-09-27T08:37:10.134Z"
   },
   {
    "duration": 412,
    "start_time": "2022-09-27T08:37:10.925Z"
   },
   {
    "duration": 102580,
    "start_time": "2022-09-27T08:38:53.968Z"
   },
   {
    "duration": 5,
    "start_time": "2022-09-27T08:40:36.549Z"
   },
   {
    "duration": 102998,
    "start_time": "2022-09-27T08:43:34.259Z"
   },
   {
    "duration": 17,
    "start_time": "2022-09-27T08:45:27.347Z"
   },
   {
    "duration": 30,
    "start_time": "2022-09-27T08:45:28.937Z"
   },
   {
    "duration": 10,
    "start_time": "2022-09-27T08:45:29.275Z"
   },
   {
    "duration": 6,
    "start_time": "2022-09-27T08:45:31.254Z"
   },
   {
    "duration": 6,
    "start_time": "2022-09-27T08:45:31.514Z"
   },
   {
    "duration": 3,
    "start_time": "2022-09-27T08:45:31.794Z"
   },
   {
    "duration": 42,
    "start_time": "2022-09-27T08:45:32.070Z"
   },
   {
    "duration": 15,
    "start_time": "2022-09-27T08:45:33.619Z"
   },
   {
    "duration": 1767,
    "start_time": "2022-09-27T08:45:36.434Z"
   },
   {
    "duration": 569,
    "start_time": "2022-09-27T08:45:38.559Z"
   },
   {
    "duration": 324,
    "start_time": "2022-09-27T08:45:41.729Z"
   },
   {
    "duration": 101685,
    "start_time": "2022-09-27T08:46:10.694Z"
   },
   {
    "duration": 5,
    "start_time": "2022-09-27T08:49:11.748Z"
   },
   {
    "duration": 105913,
    "start_time": "2022-09-27T08:49:21.003Z"
   },
   {
    "duration": 1206,
    "start_time": "2022-09-27T08:51:06.918Z"
   },
   {
    "duration": 1073,
    "start_time": "2022-09-27T08:51:16.450Z"
   },
   {
    "duration": 104287,
    "start_time": "2022-09-27T08:52:52.771Z"
   },
   {
    "duration": 8,
    "start_time": "2022-09-27T08:54:58.393Z"
   },
   {
    "duration": 8,
    "start_time": "2022-09-27T08:58:15.894Z"
   },
   {
    "duration": 105375,
    "start_time": "2022-09-27T08:58:19.115Z"
   },
   {
    "duration": 1370,
    "start_time": "2022-09-27T09:01:35.651Z"
   },
   {
    "duration": 1501,
    "start_time": "2022-09-27T09:06:41.231Z"
   },
   {
    "duration": 1324,
    "start_time": "2022-09-27T09:06:52.799Z"
   },
   {
    "duration": 1441,
    "start_time": "2022-09-27T09:08:53.064Z"
   },
   {
    "duration": 3,
    "start_time": "2022-09-27T09:09:13.658Z"
   },
   {
    "duration": 1378,
    "start_time": "2022-09-27T09:09:19.850Z"
   },
   {
    "duration": 74,
    "start_time": "2022-09-27T09:10:11.370Z"
   },
   {
    "duration": 1366,
    "start_time": "2022-09-27T09:10:15.857Z"
   },
   {
    "duration": 34400,
    "start_time": "2022-09-27T09:10:42.784Z"
   },
   {
    "duration": 40,
    "start_time": "2022-09-27T09:25:53.947Z"
   },
   {
    "duration": 1497,
    "start_time": "2022-09-27T09:28:12.836Z"
   },
   {
    "duration": 36,
    "start_time": "2022-09-27T09:37:02.317Z"
   },
   {
    "duration": 7,
    "start_time": "2022-09-27T09:56:32.364Z"
   },
   {
    "duration": 101212,
    "start_time": "2022-09-27T09:56:35.775Z"
   },
   {
    "duration": 1174,
    "start_time": "2022-09-27T10:04:01.949Z"
   },
   {
    "duration": 1055,
    "start_time": "2022-09-27T10:04:07.676Z"
   },
   {
    "duration": 1216,
    "start_time": "2022-09-27T10:04:16.007Z"
   },
   {
    "duration": 1313,
    "start_time": "2022-09-27T10:09:56.742Z"
   },
   {
    "duration": 32,
    "start_time": "2022-09-27T10:09:58.056Z"
   },
   {
    "duration": 12,
    "start_time": "2022-09-27T10:09:58.089Z"
   },
   {
    "duration": 56,
    "start_time": "2022-09-27T10:09:58.102Z"
   },
   {
    "duration": 39,
    "start_time": "2022-09-27T10:09:58.160Z"
   },
   {
    "duration": 20,
    "start_time": "2022-09-27T10:09:58.200Z"
   },
   {
    "duration": 52,
    "start_time": "2022-09-27T10:09:58.222Z"
   },
   {
    "duration": 14,
    "start_time": "2022-09-27T10:09:58.275Z"
   },
   {
    "duration": 202606,
    "start_time": "2022-09-27T10:09:58.291Z"
   },
   {
    "duration": 1401,
    "start_time": "2022-09-27T10:13:20.899Z"
   },
   {
    "duration": 32,
    "start_time": "2022-09-27T10:13:22.302Z"
   },
   {
    "duration": 507,
    "start_time": "2022-09-27T10:13:22.336Z"
   },
   {
    "duration": 7,
    "start_time": "2022-09-27T10:13:22.844Z"
   },
   {
    "duration": 102829,
    "start_time": "2022-09-27T10:13:22.853Z"
   },
   {
    "duration": 1338,
    "start_time": "2022-09-27T10:15:05.684Z"
   },
   {
    "duration": 1075544,
    "start_time": "2022-09-27T10:15:07.024Z"
   },
   {
    "duration": 5,
    "start_time": "2022-09-27T10:33:02.570Z"
   },
   {
    "duration": 8,
    "start_time": "2022-09-27T10:34:41.087Z"
   },
   {
    "duration": 13,
    "start_time": "2022-09-27T10:35:42.541Z"
   },
   {
    "duration": 1470,
    "start_time": "2022-09-27T10:36:02.638Z"
   },
   {
    "duration": 32,
    "start_time": "2022-09-27T10:36:04.110Z"
   },
   {
    "duration": 11,
    "start_time": "2022-09-27T10:36:04.143Z"
   },
   {
    "duration": 14,
    "start_time": "2022-09-27T10:36:04.155Z"
   },
   {
    "duration": 17,
    "start_time": "2022-09-27T10:36:04.171Z"
   },
   {
    "duration": 19,
    "start_time": "2022-09-27T10:36:04.189Z"
   },
   {
    "duration": 81,
    "start_time": "2022-09-27T10:36:04.209Z"
   },
   {
    "duration": 15,
    "start_time": "2022-09-27T10:36:04.292Z"
   },
   {
    "duration": 205266,
    "start_time": "2022-09-27T10:36:04.308Z"
   },
   {
    "duration": 1332,
    "start_time": "2022-09-27T10:39:29.576Z"
   },
   {
    "duration": 31,
    "start_time": "2022-09-27T10:39:30.909Z"
   },
   {
    "duration": 485,
    "start_time": "2022-09-27T10:39:30.942Z"
   },
   {
    "duration": 6,
    "start_time": "2022-09-27T10:39:31.429Z"
   },
   {
    "duration": 103627,
    "start_time": "2022-09-27T10:39:31.437Z"
   },
   {
    "duration": 1255,
    "start_time": "2022-09-27T10:41:15.066Z"
   },
   {
    "duration": 1356,
    "start_time": "2022-09-27T10:55:07.696Z"
   },
   {
    "duration": 42,
    "start_time": "2022-09-27T10:55:09.054Z"
   },
   {
    "duration": 10,
    "start_time": "2022-09-27T10:55:09.098Z"
   },
   {
    "duration": 14,
    "start_time": "2022-09-27T10:55:09.110Z"
   },
   {
    "duration": 12,
    "start_time": "2022-09-27T10:55:09.126Z"
   },
   {
    "duration": 2,
    "start_time": "2022-09-27T10:55:09.140Z"
   },
   {
    "duration": 42,
    "start_time": "2022-09-27T10:55:09.143Z"
   },
   {
    "duration": 13,
    "start_time": "2022-09-27T10:55:09.187Z"
   },
   {
    "duration": 215721,
    "start_time": "2022-09-27T10:55:09.202Z"
   },
   {
    "duration": 1587,
    "start_time": "2022-09-27T10:58:44.925Z"
   },
   {
    "duration": 122,
    "start_time": "2022-09-27T10:58:46.514Z"
   },
   {
    "duration": 400,
    "start_time": "2022-09-27T10:58:46.722Z"
   },
   {
    "duration": 10,
    "start_time": "2022-09-27T10:58:47.124Z"
   },
   {
    "duration": 116206,
    "start_time": "2022-09-27T10:58:47.137Z"
   },
   {
    "duration": 988,
    "start_time": "2022-09-27T11:00:43.345Z"
   },
   {
    "duration": 1343,
    "start_time": "2022-09-27T11:13:57.059Z"
   },
   {
    "duration": 42,
    "start_time": "2022-09-27T11:13:58.404Z"
   },
   {
    "duration": 10,
    "start_time": "2022-09-27T11:13:58.447Z"
   },
   {
    "duration": 7,
    "start_time": "2022-09-27T11:13:58.459Z"
   },
   {
    "duration": 7,
    "start_time": "2022-09-27T11:13:58.468Z"
   },
   {
    "duration": 10,
    "start_time": "2022-09-27T11:13:58.477Z"
   },
   {
    "duration": 48,
    "start_time": "2022-09-27T11:13:58.488Z"
   },
   {
    "duration": 11,
    "start_time": "2022-09-27T11:13:58.537Z"
   },
   {
    "duration": 210585,
    "start_time": "2022-09-27T11:13:58.549Z"
   },
   {
    "duration": 1361,
    "start_time": "2022-09-27T11:17:29.135Z"
   },
   {
    "duration": 33,
    "start_time": "2022-09-27T11:17:30.498Z"
   },
   {
    "duration": 495,
    "start_time": "2022-09-27T11:17:30.532Z"
   },
   {
    "duration": 7,
    "start_time": "2022-09-27T11:17:31.029Z"
   },
   {
    "duration": 1486,
    "start_time": "2022-09-27T11:19:13.010Z"
   },
   {
    "duration": 45,
    "start_time": "2022-09-27T11:19:14.498Z"
   },
   {
    "duration": 11,
    "start_time": "2022-09-27T11:19:14.544Z"
   },
   {
    "duration": 16,
    "start_time": "2022-09-27T11:19:14.557Z"
   },
   {
    "duration": 10,
    "start_time": "2022-09-27T11:19:14.575Z"
   },
   {
    "duration": 4,
    "start_time": "2022-09-27T11:19:14.587Z"
   },
   {
    "duration": 75,
    "start_time": "2022-09-27T11:19:14.593Z"
   },
   {
    "duration": 11,
    "start_time": "2022-09-27T11:19:14.670Z"
   },
   {
    "duration": 213606,
    "start_time": "2022-09-27T11:19:14.683Z"
   },
   {
    "duration": 1513,
    "start_time": "2022-09-27T11:22:48.291Z"
   },
   {
    "duration": 216,
    "start_time": "2022-09-27T11:22:49.806Z"
   },
   {
    "duration": 342,
    "start_time": "2022-09-27T11:22:50.024Z"
   },
   {
    "duration": 7,
    "start_time": "2022-09-27T11:22:50.368Z"
   },
   {
    "duration": 103202,
    "start_time": "2022-09-27T11:22:50.377Z"
   },
   {
    "duration": 1148,
    "start_time": "2022-09-27T11:24:33.581Z"
   },
   {
    "duration": 1085306,
    "start_time": "2022-09-27T11:24:34.731Z"
   },
   {
    "duration": 10,
    "start_time": "2022-09-27T11:42:40.062Z"
   },
   {
    "duration": 7,
    "start_time": "2022-09-27T11:45:51.086Z"
   },
   {
    "duration": 3,
    "start_time": "2022-09-27T12:40:30.001Z"
   },
   {
    "duration": 3,
    "start_time": "2022-09-27T12:41:22.651Z"
   },
   {
    "duration": 76,
    "start_time": "2022-09-27T12:44:45.040Z"
   },
   {
    "duration": 137,
    "start_time": "2022-09-27T12:54:56.455Z"
   },
   {
    "duration": 10,
    "start_time": "2022-09-27T12:57:24.471Z"
   },
   {
    "duration": 1309643,
    "start_time": "2022-09-27T13:04:46.011Z"
   },
   {
    "duration": 48,
    "start_time": "2022-09-28T08:32:19.873Z"
   },
   {
    "duration": 1825,
    "start_time": "2022-09-28T08:32:29.189Z"
   },
   {
    "duration": 150,
    "start_time": "2022-09-28T08:32:31.016Z"
   },
   {
    "duration": 13,
    "start_time": "2022-09-28T08:32:31.168Z"
   },
   {
    "duration": 73,
    "start_time": "2022-09-28T08:32:31.184Z"
   },
   {
    "duration": 22,
    "start_time": "2022-09-28T08:32:31.259Z"
   },
   {
    "duration": 19,
    "start_time": "2022-09-28T08:32:31.283Z"
   },
   {
    "duration": 98,
    "start_time": "2022-09-28T08:32:31.304Z"
   },
   {
    "duration": 23,
    "start_time": "2022-09-28T08:32:31.404Z"
   },
   {
    "duration": 35,
    "start_time": "2022-09-28T08:32:31.428Z"
   },
   {
    "duration": 237286,
    "start_time": "2022-09-28T08:32:31.466Z"
   },
   {
    "duration": 1584,
    "start_time": "2022-09-28T08:36:28.753Z"
   },
   {
    "duration": 58,
    "start_time": "2022-09-28T08:36:30.339Z"
   },
   {
    "duration": 436,
    "start_time": "2022-09-28T08:36:30.490Z"
   },
   {
    "duration": 8,
    "start_time": "2022-09-28T08:36:30.928Z"
   },
   {
    "duration": 117976,
    "start_time": "2022-09-28T08:36:30.938Z"
   },
   {
    "duration": 1682,
    "start_time": "2022-09-28T08:38:28.917Z"
   },
   {
    "duration": 1544,
    "start_time": "2022-09-28T08:46:23.646Z"
   },
   {
    "duration": 47,
    "start_time": "2022-09-28T08:46:25.192Z"
   },
   {
    "duration": 12,
    "start_time": "2022-09-28T08:46:25.241Z"
   },
   {
    "duration": 6,
    "start_time": "2022-09-28T08:46:25.255Z"
   },
   {
    "duration": 11,
    "start_time": "2022-09-28T08:46:25.263Z"
   },
   {
    "duration": 3,
    "start_time": "2022-09-28T08:46:25.276Z"
   },
   {
    "duration": 48,
    "start_time": "2022-09-28T08:46:25.289Z"
   },
   {
    "duration": 14,
    "start_time": "2022-09-28T08:46:25.339Z"
   },
   {
    "duration": 7683,
    "start_time": "2022-09-28T08:46:25.355Z"
   },
   {
    "duration": 1649,
    "start_time": "2022-09-28T08:46:33.040Z"
   },
   {
    "duration": 106,
    "start_time": "2022-09-28T08:46:34.690Z"
   },
   {
    "duration": 476,
    "start_time": "2022-09-28T08:46:34.800Z"
   },
   {
    "duration": 14,
    "start_time": "2022-09-28T08:46:35.278Z"
   },
   {
    "duration": 118774,
    "start_time": "2022-09-28T08:46:35.294Z"
   },
   {
    "duration": 1630,
    "start_time": "2022-09-28T08:48:34.070Z"
   },
   {
    "duration": 1657,
    "start_time": "2022-09-28T08:50:26.740Z"
   },
   {
    "duration": 49,
    "start_time": "2022-09-28T08:50:28.399Z"
   },
   {
    "duration": 13,
    "start_time": "2022-09-28T08:50:28.450Z"
   },
   {
    "duration": 7,
    "start_time": "2022-09-28T08:50:28.465Z"
   },
   {
    "duration": 8,
    "start_time": "2022-09-28T08:50:28.474Z"
   },
   {
    "duration": 4,
    "start_time": "2022-09-28T08:50:28.489Z"
   },
   {
    "duration": 55,
    "start_time": "2022-09-28T08:50:28.495Z"
   },
   {
    "duration": 15,
    "start_time": "2022-09-28T08:50:28.552Z"
   },
   {
    "duration": 24,
    "start_time": "2022-09-28T08:50:28.569Z"
   },
   {
    "duration": 162040,
    "start_time": "2022-09-28T08:50:28.595Z"
   },
   {
    "duration": 1638,
    "start_time": "2022-09-28T08:57:11.503Z"
   },
   {
    "duration": 52,
    "start_time": "2022-09-28T08:57:13.143Z"
   },
   {
    "duration": 456,
    "start_time": "2022-09-28T08:57:13.288Z"
   },
   {
    "duration": 9,
    "start_time": "2022-09-28T08:57:13.747Z"
   },
   {
    "duration": 119144,
    "start_time": "2022-09-28T08:57:13.758Z"
   },
   {
    "duration": 1700,
    "start_time": "2022-09-28T08:59:12.904Z"
   },
   {
    "duration": 1775,
    "start_time": "2022-09-28T09:00:57.639Z"
   },
   {
    "duration": 49,
    "start_time": "2022-09-28T09:00:59.416Z"
   },
   {
    "duration": 13,
    "start_time": "2022-09-28T09:00:59.466Z"
   },
   {
    "duration": 14,
    "start_time": "2022-09-28T09:00:59.481Z"
   },
   {
    "duration": 19,
    "start_time": "2022-09-28T09:00:59.499Z"
   },
   {
    "duration": 22,
    "start_time": "2022-09-28T09:00:59.520Z"
   },
   {
    "duration": 56,
    "start_time": "2022-09-28T09:00:59.544Z"
   },
   {
    "duration": 13,
    "start_time": "2022-09-28T09:00:59.603Z"
   },
   {
    "duration": 8,
    "start_time": "2022-09-28T09:00:59.618Z"
   },
   {
    "duration": 2312,
    "start_time": "2022-09-28T09:00:59.628Z"
   },
   {
    "duration": 173,
    "start_time": "2022-09-28T09:01:01.944Z"
   },
   {
    "duration": 0,
    "start_time": "2022-09-28T09:01:02.119Z"
   },
   {
    "duration": 0,
    "start_time": "2022-09-28T09:01:02.121Z"
   },
   {
    "duration": 0,
    "start_time": "2022-09-28T09:01:02.123Z"
   },
   {
    "duration": 0,
    "start_time": "2022-09-28T09:01:02.125Z"
   },
   {
    "duration": 0,
    "start_time": "2022-09-28T09:01:02.126Z"
   },
   {
    "duration": 0,
    "start_time": "2022-09-28T09:01:02.127Z"
   },
   {
    "duration": 0,
    "start_time": "2022-09-28T09:01:02.128Z"
   },
   {
    "duration": 0,
    "start_time": "2022-09-28T09:01:02.130Z"
   },
   {
    "duration": 2140,
    "start_time": "2022-09-28T09:01:19.049Z"
   },
   {
    "duration": 264,
    "start_time": "2022-09-28T09:20:27.932Z"
   },
   {
    "duration": 4,
    "start_time": "2022-09-28T09:20:34.280Z"
   },
   {
    "duration": 5,
    "start_time": "2022-09-28T09:20:59.593Z"
   },
   {
    "duration": 5,
    "start_time": "2022-09-28T09:21:40.569Z"
   },
   {
    "duration": 3,
    "start_time": "2022-09-28T09:23:10.210Z"
   },
   {
    "duration": 4,
    "start_time": "2022-09-28T09:23:16.951Z"
   },
   {
    "duration": 4,
    "start_time": "2022-09-28T09:23:18.954Z"
   },
   {
    "duration": 2332,
    "start_time": "2022-09-28T09:28:08.143Z"
   },
   {
    "duration": 14,
    "start_time": "2022-09-28T09:29:29.105Z"
   },
   {
    "duration": 2282,
    "start_time": "2022-09-28T09:30:17.952Z"
   },
   {
    "duration": 2200,
    "start_time": "2022-09-28T09:30:23.140Z"
   },
   {
    "duration": 946,
    "start_time": "2022-09-28T09:31:46.272Z"
   },
   {
    "duration": 2070,
    "start_time": "2022-09-28T09:31:55.750Z"
   },
   {
    "duration": 1725,
    "start_time": "2022-09-28T09:32:57.896Z"
   },
   {
    "duration": 967,
    "start_time": "2022-09-28T09:36:39.698Z"
   },
   {
    "duration": 1034,
    "start_time": "2022-09-28T09:37:03.909Z"
   },
   {
    "duration": 1144,
    "start_time": "2022-09-28T09:37:43.963Z"
   },
   {
    "duration": 1108,
    "start_time": "2022-09-28T09:39:44.443Z"
   },
   {
    "duration": 1125,
    "start_time": "2022-09-28T09:40:21.902Z"
   },
   {
    "duration": 98,
    "start_time": "2022-09-28T09:41:21.545Z"
   },
   {
    "duration": 801,
    "start_time": "2022-09-28T09:41:26.132Z"
   },
   {
    "duration": 14,
    "start_time": "2022-09-28T09:43:53.646Z"
   },
   {
    "duration": 4523,
    "start_time": "2022-09-28T09:43:58.890Z"
   },
   {
    "duration": 11,
    "start_time": "2022-09-28T09:45:04.599Z"
   },
   {
    "duration": 706,
    "start_time": "2022-09-28T09:45:31.008Z"
   },
   {
    "duration": 2305,
    "start_time": "2022-09-28T09:46:00.847Z"
   },
   {
    "duration": 2987,
    "start_time": "2022-09-28T09:47:23.174Z"
   },
   {
    "duration": 2140,
    "start_time": "2022-09-28T09:49:07.297Z"
   },
   {
    "duration": 2344,
    "start_time": "2022-09-28T09:52:06.279Z"
   },
   {
    "duration": 2247,
    "start_time": "2022-09-28T09:52:42.958Z"
   },
   {
    "duration": 3126,
    "start_time": "2022-09-28T09:52:54.092Z"
   },
   {
    "duration": 2110,
    "start_time": "2022-09-28T10:02:32.372Z"
   },
   {
    "duration": 845,
    "start_time": "2022-09-28T10:02:42.917Z"
   },
   {
    "duration": 158,
    "start_time": "2022-09-28T10:03:02.071Z"
   },
   {
    "duration": 16,
    "start_time": "2022-09-28T10:04:23.970Z"
   },
   {
    "duration": 16,
    "start_time": "2022-09-28T10:05:01.588Z"
   },
   {
    "duration": 744,
    "start_time": "2022-09-28T10:05:50.387Z"
   },
   {
    "duration": 653,
    "start_time": "2022-09-28T10:06:26.454Z"
   },
   {
    "duration": 1765,
    "start_time": "2022-09-28T10:07:37.462Z"
   },
   {
    "duration": 1002,
    "start_time": "2022-09-28T10:07:43.091Z"
   },
   {
    "duration": 3213,
    "start_time": "2022-09-28T10:15:11.218Z"
   },
   {
    "duration": 3231,
    "start_time": "2022-09-28T10:15:59.309Z"
   },
   {
    "duration": 3283,
    "start_time": "2022-09-28T10:16:30.915Z"
   },
   {
    "duration": 3185,
    "start_time": "2022-09-28T10:16:53.369Z"
   },
   {
    "duration": 3075,
    "start_time": "2022-09-28T10:17:26.168Z"
   },
   {
    "duration": 3196,
    "start_time": "2022-09-28T10:17:34.886Z"
   },
   {
    "duration": 2852,
    "start_time": "2022-09-28T10:18:27.596Z"
   },
   {
    "duration": 2711,
    "start_time": "2022-09-28T10:18:42.354Z"
   },
   {
    "duration": 1687,
    "start_time": "2022-09-28T10:19:41.865Z"
   },
   {
    "duration": 51,
    "start_time": "2022-09-28T10:19:43.554Z"
   },
   {
    "duration": 14,
    "start_time": "2022-09-28T10:19:43.606Z"
   },
   {
    "duration": 13,
    "start_time": "2022-09-28T10:19:43.622Z"
   },
   {
    "duration": 7,
    "start_time": "2022-09-28T10:19:43.638Z"
   },
   {
    "duration": 6,
    "start_time": "2022-09-28T10:19:43.648Z"
   },
   {
    "duration": 82,
    "start_time": "2022-09-28T10:19:43.655Z"
   },
   {
    "duration": 11,
    "start_time": "2022-09-28T10:19:43.739Z"
   },
   {
    "duration": 3000,
    "start_time": "2022-09-28T10:19:43.752Z"
   },
   {
    "duration": 1695,
    "start_time": "2022-09-28T10:19:46.754Z"
   },
   {
    "duration": 39,
    "start_time": "2022-09-28T10:19:48.451Z"
   },
   {
    "duration": 574,
    "start_time": "2022-09-28T10:19:48.493Z"
   },
   {
    "duration": 8,
    "start_time": "2022-09-28T10:19:49.069Z"
   },
   {
    "duration": 117025,
    "start_time": "2022-09-28T10:19:49.088Z"
   },
   {
    "duration": 1587,
    "start_time": "2022-09-28T10:21:46.115Z"
   },
   {
    "duration": 1572,
    "start_time": "2022-09-28T10:22:16.529Z"
   },
   {
    "duration": 54,
    "start_time": "2022-09-28T10:22:18.103Z"
   },
   {
    "duration": 12,
    "start_time": "2022-09-28T10:22:18.158Z"
   },
   {
    "duration": 6,
    "start_time": "2022-09-28T10:22:18.171Z"
   },
   {
    "duration": 8,
    "start_time": "2022-09-28T10:22:18.179Z"
   },
   {
    "duration": 2,
    "start_time": "2022-09-28T10:22:18.189Z"
   },
   {
    "duration": 52,
    "start_time": "2022-09-28T10:22:18.193Z"
   },
   {
    "duration": 14,
    "start_time": "2022-09-28T10:22:18.247Z"
   },
   {
    "duration": 3128,
    "start_time": "2022-09-28T10:22:18.263Z"
   },
   {
    "duration": 1596,
    "start_time": "2022-09-28T10:22:21.393Z"
   },
   {
    "duration": 100,
    "start_time": "2022-09-28T10:22:22.991Z"
   },
   {
    "duration": 466,
    "start_time": "2022-09-28T10:22:23.094Z"
   },
   {
    "duration": 8,
    "start_time": "2022-09-28T10:22:23.562Z"
   },
   {
    "duration": 1555,
    "start_time": "2022-09-28T10:22:49.638Z"
   },
   {
    "duration": 46,
    "start_time": "2022-09-28T10:22:51.194Z"
   },
   {
    "duration": 11,
    "start_time": "2022-09-28T10:22:51.241Z"
   },
   {
    "duration": 6,
    "start_time": "2022-09-28T10:22:51.254Z"
   },
   {
    "duration": 9,
    "start_time": "2022-09-28T10:22:51.262Z"
   },
   {
    "duration": 3,
    "start_time": "2022-09-28T10:22:51.273Z"
   },
   {
    "duration": 59,
    "start_time": "2022-09-28T10:22:51.278Z"
   },
   {
    "duration": 13,
    "start_time": "2022-09-28T10:22:51.339Z"
   },
   {
    "duration": 2945,
    "start_time": "2022-09-28T10:22:51.354Z"
   },
   {
    "duration": 1536,
    "start_time": "2022-09-28T10:22:54.301Z"
   },
   {
    "duration": 54,
    "start_time": "2022-09-28T10:22:55.839Z"
   },
   {
    "duration": 497,
    "start_time": "2022-09-28T10:22:55.895Z"
   },
   {
    "duration": 7,
    "start_time": "2022-09-28T10:22:56.394Z"
   },
   {
    "duration": 114175,
    "start_time": "2022-09-28T10:22:56.403Z"
   },
   {
    "duration": 1426,
    "start_time": "2022-09-28T10:24:50.580Z"
   },
   {
    "duration": 1677,
    "start_time": "2022-09-28T10:34:26.846Z"
   },
   {
    "duration": 51,
    "start_time": "2022-09-28T10:34:28.525Z"
   },
   {
    "duration": 13,
    "start_time": "2022-09-28T10:34:28.578Z"
   },
   {
    "duration": 12,
    "start_time": "2022-09-28T10:34:28.593Z"
   },
   {
    "duration": 20,
    "start_time": "2022-09-28T10:34:28.607Z"
   },
   {
    "duration": 3,
    "start_time": "2022-09-28T10:34:28.629Z"
   },
   {
    "duration": 56,
    "start_time": "2022-09-28T10:34:28.634Z"
   },
   {
    "duration": 13,
    "start_time": "2022-09-28T10:34:28.691Z"
   },
   {
    "duration": 3029,
    "start_time": "2022-09-28T10:34:28.706Z"
   },
   {
    "duration": 1600,
    "start_time": "2022-09-28T10:34:31.737Z"
   },
   {
    "duration": 7,
    "start_time": "2022-09-28T10:34:33.339Z"
   },
   {
    "duration": 71,
    "start_time": "2022-09-28T10:34:33.347Z"
   },
   {
    "duration": 528,
    "start_time": "2022-09-28T10:34:33.421Z"
   },
   {
    "duration": 9,
    "start_time": "2022-09-28T10:34:33.950Z"
   },
   {
    "duration": 118523,
    "start_time": "2022-09-28T10:34:33.960Z"
   },
   {
    "duration": 1614,
    "start_time": "2022-09-28T10:36:32.485Z"
   },
   {
    "duration": 1649,
    "start_time": "2022-09-28T10:50:04.365Z"
   },
   {
    "duration": 48,
    "start_time": "2022-09-28T10:50:06.017Z"
   },
   {
    "duration": 13,
    "start_time": "2022-09-28T10:50:06.067Z"
   },
   {
    "duration": 11,
    "start_time": "2022-09-28T10:50:06.083Z"
   },
   {
    "duration": 12,
    "start_time": "2022-09-28T10:50:06.096Z"
   },
   {
    "duration": 3,
    "start_time": "2022-09-28T10:50:06.110Z"
   },
   {
    "duration": 47,
    "start_time": "2022-09-28T10:50:06.115Z"
   },
   {
    "duration": 31,
    "start_time": "2022-09-28T10:50:06.164Z"
   },
   {
    "duration": 2943,
    "start_time": "2022-09-28T10:50:06.196Z"
   },
   {
    "duration": 1572,
    "start_time": "2022-09-28T10:50:09.141Z"
   },
   {
    "duration": 7,
    "start_time": "2022-09-28T10:50:10.715Z"
   },
   {
    "duration": 71,
    "start_time": "2022-09-28T10:50:10.723Z"
   },
   {
    "duration": 500,
    "start_time": "2022-09-28T10:50:10.796Z"
   },
   {
    "duration": 8,
    "start_time": "2022-09-28T10:50:11.298Z"
   },
   {
    "duration": 120299,
    "start_time": "2022-09-28T10:50:11.308Z"
   },
   {
    "duration": 1590,
    "start_time": "2022-09-28T10:52:11.609Z"
   },
   {
    "duration": 1618,
    "start_time": "2022-09-28T11:02:14.517Z"
   },
   {
    "duration": 47,
    "start_time": "2022-09-28T11:02:16.137Z"
   },
   {
    "duration": 12,
    "start_time": "2022-09-28T11:02:16.186Z"
   },
   {
    "duration": 19,
    "start_time": "2022-09-28T11:02:16.200Z"
   },
   {
    "duration": 25,
    "start_time": "2022-09-28T11:02:16.221Z"
   },
   {
    "duration": 9,
    "start_time": "2022-09-28T11:02:16.248Z"
   },
   {
    "duration": 74,
    "start_time": "2022-09-28T11:02:16.259Z"
   },
   {
    "duration": 13,
    "start_time": "2022-09-28T11:02:16.335Z"
   },
   {
    "duration": 3013,
    "start_time": "2022-09-28T11:02:16.350Z"
   },
   {
    "duration": 1540,
    "start_time": "2022-09-28T11:02:19.365Z"
   },
   {
    "duration": 7,
    "start_time": "2022-09-28T11:02:20.907Z"
   },
   {
    "duration": 77,
    "start_time": "2022-09-28T11:02:20.915Z"
   },
   {
    "duration": 451,
    "start_time": "2022-09-28T11:02:20.995Z"
   },
   {
    "duration": 9,
    "start_time": "2022-09-28T11:02:21.449Z"
   },
   {
    "duration": 116721,
    "start_time": "2022-09-28T11:02:21.460Z"
   },
   {
    "duration": 1611,
    "start_time": "2022-09-28T11:04:18.183Z"
   },
   {
    "duration": 7,
    "start_time": "2022-09-28T11:04:19.796Z"
   },
   {
    "duration": 394,
    "start_time": "2022-09-28T11:04:19.805Z"
   },
   {
    "duration": 42,
    "start_time": "2022-09-28T11:04:36.150Z"
   },
   {
    "duration": 13,
    "start_time": "2022-09-28T11:08:33.899Z"
   },
   {
    "duration": 3741,
    "start_time": "2022-09-28T11:09:35.065Z"
   },
   {
    "duration": 3717,
    "start_time": "2022-09-28T11:11:59.072Z"
   },
   {
    "duration": 3648,
    "start_time": "2022-09-28T11:14:30.805Z"
   },
   {
    "duration": 3599,
    "start_time": "2022-09-28T11:14:53.490Z"
   },
   {
    "duration": 3591,
    "start_time": "2022-09-28T11:15:29.630Z"
   },
   {
    "duration": 2834,
    "start_time": "2022-09-28T11:15:52.771Z"
   },
   {
    "duration": 2779,
    "start_time": "2022-09-28T11:16:10.733Z"
   },
   {
    "duration": 3399,
    "start_time": "2022-09-28T11:16:54.838Z"
   },
   {
    "duration": 4459,
    "start_time": "2022-09-28T11:17:59.879Z"
   },
   {
    "duration": 3539,
    "start_time": "2022-09-28T11:18:24.217Z"
   },
   {
    "duration": 3536,
    "start_time": "2022-09-28T11:18:40.805Z"
   },
   {
    "duration": 4686,
    "start_time": "2022-09-28T11:26:57.403Z"
   },
   {
    "duration": 4421,
    "start_time": "2022-09-28T11:27:24.236Z"
   },
   {
    "duration": 79,
    "start_time": "2022-09-28T11:31:14.610Z"
   },
   {
    "duration": 2209,
    "start_time": "2022-09-28T11:31:26.060Z"
   },
   {
    "duration": 87,
    "start_time": "2022-09-28T11:41:47.612Z"
   },
   {
    "duration": 2383,
    "start_time": "2022-09-28T11:41:51.180Z"
   },
   {
    "duration": 2472,
    "start_time": "2022-09-28T11:42:11.780Z"
   },
   {
    "duration": 3066,
    "start_time": "2022-09-28T11:43:17.082Z"
   },
   {
    "duration": 51,
    "start_time": "2022-09-28T12:08:42.315Z"
   },
   {
    "duration": 68,
    "start_time": "2022-09-28T12:08:47.325Z"
   },
   {
    "duration": 14,
    "start_time": "2022-09-28T12:09:03.154Z"
   },
   {
    "duration": 1572,
    "start_time": "2022-09-28T12:09:25.529Z"
   },
   {
    "duration": 14,
    "start_time": "2022-09-28T12:15:03.179Z"
   },
   {
    "duration": 2116,
    "start_time": "2022-09-28T12:15:24.761Z"
   },
   {
    "duration": 151,
    "start_time": "2022-09-28T12:15:26.879Z"
   },
   {
    "duration": 13,
    "start_time": "2022-09-28T12:15:27.032Z"
   },
   {
    "duration": 15,
    "start_time": "2022-09-28T12:15:27.047Z"
   },
   {
    "duration": 13,
    "start_time": "2022-09-28T12:15:27.064Z"
   },
   {
    "duration": 3,
    "start_time": "2022-09-28T12:15:27.079Z"
   },
   {
    "duration": 54,
    "start_time": "2022-09-28T12:15:27.088Z"
   },
   {
    "duration": 14,
    "start_time": "2022-09-28T12:15:27.143Z"
   },
   {
    "duration": 3296,
    "start_time": "2022-09-28T12:15:27.159Z"
   },
   {
    "duration": 1762,
    "start_time": "2022-09-28T12:15:30.457Z"
   },
   {
    "duration": 9,
    "start_time": "2022-09-28T12:15:32.221Z"
   },
   {
    "duration": 51,
    "start_time": "2022-09-28T12:15:32.232Z"
   },
   {
    "duration": 584,
    "start_time": "2022-09-28T12:15:32.289Z"
   },
   {
    "duration": 13,
    "start_time": "2022-09-28T12:15:32.876Z"
   },
   {
    "duration": 122335,
    "start_time": "2022-09-28T12:15:32.891Z"
   },
   {
    "duration": 1573,
    "start_time": "2022-09-28T12:17:35.228Z"
   },
   {
    "duration": 8,
    "start_time": "2022-09-28T12:17:36.803Z"
   },
   {
    "duration": 2394,
    "start_time": "2022-09-28T12:17:36.812Z"
   },
   {
    "duration": 22,
    "start_time": "2022-09-28T12:52:51.857Z"
   },
   {
    "duration": 4107,
    "start_time": "2022-09-28T13:43:47.597Z"
   },
   {
    "duration": 2089,
    "start_time": "2022-09-28T13:44:34.717Z"
   },
   {
    "duration": 74,
    "start_time": "2022-09-28T13:53:58.614Z"
   },
   {
    "duration": 1376,
    "start_time": "2022-09-28T15:14:14.714Z"
   },
   {
    "duration": 5,
    "start_time": "2022-09-28T15:14:23.043Z"
   },
   {
    "duration": 18,
    "start_time": "2022-09-28T15:14:26.573Z"
   },
   {
    "duration": 1524,
    "start_time": "2022-09-28T15:53:45.734Z"
   },
   {
    "duration": 45,
    "start_time": "2022-09-28T15:53:47.260Z"
   },
   {
    "duration": 11,
    "start_time": "2022-09-28T15:53:47.306Z"
   },
   {
    "duration": 9,
    "start_time": "2022-09-28T15:53:47.318Z"
   },
   {
    "duration": 14,
    "start_time": "2022-09-28T15:53:47.329Z"
   },
   {
    "duration": 21,
    "start_time": "2022-09-28T15:53:47.345Z"
   },
   {
    "duration": 69,
    "start_time": "2022-09-28T15:53:47.368Z"
   },
   {
    "duration": 12,
    "start_time": "2022-09-28T15:53:47.439Z"
   },
   {
    "duration": 2720,
    "start_time": "2022-09-28T15:53:47.453Z"
   },
   {
    "duration": 1498,
    "start_time": "2022-09-28T15:53:50.175Z"
   },
   {
    "duration": 7,
    "start_time": "2022-09-28T15:53:51.675Z"
   },
   {
    "duration": 106,
    "start_time": "2022-09-28T15:53:51.683Z"
   },
   {
    "duration": 491,
    "start_time": "2022-09-28T15:53:51.792Z"
   },
   {
    "duration": 9,
    "start_time": "2022-09-28T15:53:52.285Z"
   },
   {
    "duration": 114021,
    "start_time": "2022-09-28T15:53:52.296Z"
   },
   {
    "duration": 1372,
    "start_time": "2022-09-28T15:55:46.319Z"
   },
   {
    "duration": 7,
    "start_time": "2022-09-28T15:55:47.693Z"
   },
   {
    "duration": 105,
    "start_time": "2022-09-28T15:55:47.702Z"
   },
   {
    "duration": 7,
    "start_time": "2022-09-28T15:55:47.809Z"
   },
   {
    "duration": 2469,
    "start_time": "2022-09-28T15:55:47.817Z"
   },
   {
    "duration": 1589,
    "start_time": "2022-09-28T16:00:19.053Z"
   },
   {
    "duration": 46,
    "start_time": "2022-09-28T16:00:20.644Z"
   },
   {
    "duration": 11,
    "start_time": "2022-09-28T16:00:20.692Z"
   },
   {
    "duration": 6,
    "start_time": "2022-09-28T16:00:20.705Z"
   },
   {
    "duration": 9,
    "start_time": "2022-09-28T16:00:20.712Z"
   },
   {
    "duration": 4,
    "start_time": "2022-09-28T16:00:20.722Z"
   },
   {
    "duration": 75,
    "start_time": "2022-09-28T16:00:20.727Z"
   },
   {
    "duration": 20,
    "start_time": "2022-09-28T16:00:20.805Z"
   },
   {
    "duration": 2994,
    "start_time": "2022-09-28T16:00:20.827Z"
   },
   {
    "duration": 1422,
    "start_time": "2022-09-28T16:00:23.823Z"
   },
   {
    "duration": 9,
    "start_time": "2022-09-28T16:00:25.247Z"
   },
   {
    "duration": 40,
    "start_time": "2022-09-28T16:00:25.258Z"
   },
   {
    "duration": 458,
    "start_time": "2022-09-28T16:00:25.391Z"
   },
   {
    "duration": 8,
    "start_time": "2022-09-28T16:00:25.851Z"
   },
   {
    "duration": 116533,
    "start_time": "2022-09-28T16:00:25.861Z"
   },
   {
    "duration": 1093,
    "start_time": "2022-09-28T16:02:22.396Z"
   },
   {
    "duration": 6,
    "start_time": "2022-09-28T16:02:23.491Z"
   },
   {
    "duration": 34,
    "start_time": "2022-09-28T16:02:23.498Z"
   },
   {
    "duration": 10,
    "start_time": "2022-09-28T16:02:23.534Z"
   },
   {
    "duration": 2465,
    "start_time": "2022-09-28T16:02:23.546Z"
   },
   {
    "duration": 45,
    "start_time": "2022-09-29T10:24:40.162Z"
   },
   {
    "duration": 1708,
    "start_time": "2022-09-29T10:24:47.728Z"
   },
   {
    "duration": 138,
    "start_time": "2022-09-29T10:24:49.438Z"
   },
   {
    "duration": 11,
    "start_time": "2022-09-29T10:24:49.578Z"
   },
   {
    "duration": 12,
    "start_time": "2022-09-29T10:24:49.590Z"
   },
   {
    "duration": 10,
    "start_time": "2022-09-29T10:24:49.604Z"
   },
   {
    "duration": 4,
    "start_time": "2022-09-29T10:24:49.616Z"
   },
   {
    "duration": 47,
    "start_time": "2022-09-29T10:24:49.621Z"
   },
   {
    "duration": 13,
    "start_time": "2022-09-29T10:24:49.670Z"
   },
   {
    "duration": 2459,
    "start_time": "2022-09-29T10:24:49.685Z"
   },
   {
    "duration": 1294,
    "start_time": "2022-09-29T10:24:52.146Z"
   },
   {
    "duration": 5,
    "start_time": "2022-09-29T10:24:53.442Z"
   },
   {
    "duration": 6,
    "start_time": "2022-09-29T10:24:53.449Z"
   },
   {
    "duration": 65,
    "start_time": "2022-09-29T10:24:53.456Z"
   },
   {
    "duration": 409,
    "start_time": "2022-09-29T10:24:53.525Z"
   },
   {
    "duration": 8,
    "start_time": "2022-09-29T10:24:53.935Z"
   },
   {
    "duration": 100942,
    "start_time": "2022-09-29T10:24:53.944Z"
   },
   {
    "duration": 1243,
    "start_time": "2022-09-29T10:26:34.887Z"
   },
   {
    "duration": 90,
    "start_time": "2022-09-29T10:26:36.132Z"
   },
   {
    "duration": 19,
    "start_time": "2022-09-29T10:26:36.224Z"
   },
   {
    "duration": 30,
    "start_time": "2022-09-29T10:26:36.245Z"
   },
   {
    "duration": 2009,
    "start_time": "2022-09-29T10:26:36.276Z"
   },
   {
    "duration": 1819,
    "start_time": "2022-09-29T16:30:02.119Z"
   },
   {
    "duration": 83,
    "start_time": "2022-09-29T16:30:03.941Z"
   },
   {
    "duration": 11,
    "start_time": "2022-09-29T16:30:04.026Z"
   },
   {
    "duration": 9,
    "start_time": "2022-09-29T16:30:04.039Z"
   },
   {
    "duration": 11,
    "start_time": "2022-09-29T16:30:04.051Z"
   },
   {
    "duration": 3,
    "start_time": "2022-09-29T16:30:04.064Z"
   },
   {
    "duration": 52,
    "start_time": "2022-09-29T16:30:04.069Z"
   },
   {
    "duration": 28,
    "start_time": "2022-09-29T16:30:04.123Z"
   },
   {
    "duration": 2790,
    "start_time": "2022-09-29T16:30:04.153Z"
   },
   {
    "duration": 1547,
    "start_time": "2022-09-29T16:30:06.945Z"
   },
   {
    "duration": 7,
    "start_time": "2022-09-29T16:30:08.493Z"
   },
   {
    "duration": 8,
    "start_time": "2022-09-29T16:30:08.502Z"
   },
   {
    "duration": 38,
    "start_time": "2022-09-29T16:30:08.512Z"
   },
   {
    "duration": 539,
    "start_time": "2022-09-29T16:30:08.553Z"
   },
   {
    "duration": 7,
    "start_time": "2022-09-29T16:30:09.094Z"
   },
   {
    "duration": 116094,
    "start_time": "2022-09-29T16:30:09.103Z"
   },
   {
    "duration": 1346,
    "start_time": "2022-09-29T16:32:05.199Z"
   },
   {
    "duration": 91,
    "start_time": "2022-09-29T16:32:06.548Z"
   },
   {
    "duration": 20,
    "start_time": "2022-09-29T16:32:06.641Z"
   },
   {
    "duration": 7,
    "start_time": "2022-09-29T16:32:06.663Z"
   },
   {
    "duration": 2117,
    "start_time": "2022-09-29T16:32:06.672Z"
   },
   {
    "duration": 44,
    "start_time": "2022-10-13T06:17:52.762Z"
   },
   {
    "duration": 1320,
    "start_time": "2022-10-13T06:17:55.289Z"
   },
   {
    "duration": 1319,
    "start_time": "2022-10-13T06:17:56.611Z"
   },
   {
    "duration": 1145,
    "start_time": "2022-10-13T06:18:03.083Z"
   },
   {
    "duration": 43,
    "start_time": "2022-12-20T08:00:18.157Z"
   },
   {
    "duration": 1449,
    "start_time": "2022-12-20T08:00:25.975Z"
   },
   {
    "duration": 1256,
    "start_time": "2022-12-20T08:00:27.426Z"
   },
   {
    "duration": 103,
    "start_time": "2022-12-20T08:00:28.683Z"
   },
   {
    "duration": 0,
    "start_time": "2022-12-20T08:00:28.788Z"
   },
   {
    "duration": 0,
    "start_time": "2022-12-20T08:00:28.789Z"
   },
   {
    "duration": 0,
    "start_time": "2022-12-20T08:00:28.790Z"
   },
   {
    "duration": 0,
    "start_time": "2022-12-20T08:00:28.790Z"
   },
   {
    "duration": 0,
    "start_time": "2022-12-20T08:00:28.791Z"
   },
   {
    "duration": 0,
    "start_time": "2022-12-20T08:00:28.791Z"
   },
   {
    "duration": 0,
    "start_time": "2022-12-20T08:00:28.795Z"
   },
   {
    "duration": 0,
    "start_time": "2022-12-20T08:00:28.796Z"
   },
   {
    "duration": 0,
    "start_time": "2022-12-20T08:00:28.797Z"
   },
   {
    "duration": 0,
    "start_time": "2022-12-20T08:00:28.798Z"
   },
   {
    "duration": 0,
    "start_time": "2022-12-20T08:00:28.799Z"
   },
   {
    "duration": 0,
    "start_time": "2022-12-20T08:00:28.800Z"
   },
   {
    "duration": 0,
    "start_time": "2022-12-20T08:00:28.801Z"
   },
   {
    "duration": 0,
    "start_time": "2022-12-20T08:00:28.802Z"
   },
   {
    "duration": 0,
    "start_time": "2022-12-20T08:00:28.803Z"
   },
   {
    "duration": 0,
    "start_time": "2022-12-20T08:00:28.803Z"
   },
   {
    "duration": 0,
    "start_time": "2022-12-20T08:00:28.804Z"
   },
   {
    "duration": 0,
    "start_time": "2022-12-20T08:00:28.805Z"
   },
   {
    "duration": 1452,
    "start_time": "2022-12-20T08:01:01.661Z"
   },
   {
    "duration": 1043,
    "start_time": "2022-12-20T08:01:03.114Z"
   },
   {
    "duration": 105,
    "start_time": "2022-12-20T08:01:04.159Z"
   },
   {
    "duration": 0,
    "start_time": "2022-12-20T08:01:04.265Z"
   },
   {
    "duration": 0,
    "start_time": "2022-12-20T08:01:04.267Z"
   },
   {
    "duration": 0,
    "start_time": "2022-12-20T08:01:04.268Z"
   },
   {
    "duration": 0,
    "start_time": "2022-12-20T08:01:04.269Z"
   },
   {
    "duration": 0,
    "start_time": "2022-12-20T08:01:04.270Z"
   },
   {
    "duration": 0,
    "start_time": "2022-12-20T08:01:04.271Z"
   },
   {
    "duration": 0,
    "start_time": "2022-12-20T08:01:04.272Z"
   },
   {
    "duration": 0,
    "start_time": "2022-12-20T08:01:04.274Z"
   },
   {
    "duration": 0,
    "start_time": "2022-12-20T08:01:04.275Z"
   },
   {
    "duration": 0,
    "start_time": "2022-12-20T08:01:04.276Z"
   },
   {
    "duration": 0,
    "start_time": "2022-12-20T08:01:04.277Z"
   },
   {
    "duration": 0,
    "start_time": "2022-12-20T08:01:04.278Z"
   },
   {
    "duration": 0,
    "start_time": "2022-12-20T08:01:04.296Z"
   },
   {
    "duration": 0,
    "start_time": "2022-12-20T08:01:04.297Z"
   },
   {
    "duration": 0,
    "start_time": "2022-12-20T08:01:04.298Z"
   },
   {
    "duration": 0,
    "start_time": "2022-12-20T08:01:04.299Z"
   },
   {
    "duration": 0,
    "start_time": "2022-12-20T08:01:04.301Z"
   },
   {
    "duration": 0,
    "start_time": "2022-12-20T08:01:04.302Z"
   },
   {
    "duration": 12,
    "start_time": "2022-12-20T08:02:14.311Z"
   },
   {
    "duration": 808,
    "start_time": "2022-12-20T08:02:51.298Z"
   },
   {
    "duration": 12,
    "start_time": "2022-12-20T08:02:52.108Z"
   },
   {
    "duration": 1383,
    "start_time": "2022-12-20T08:02:57.442Z"
   },
   {
    "duration": 1430,
    "start_time": "2022-12-20T08:04:08.599Z"
   },
   {
    "duration": 863,
    "start_time": "2022-12-20T08:04:10.031Z"
   },
   {
    "duration": 11,
    "start_time": "2022-12-20T08:04:10.895Z"
   },
   {
    "duration": 7,
    "start_time": "2022-12-20T08:04:10.908Z"
   },
   {
    "duration": 8,
    "start_time": "2022-12-20T08:04:10.918Z"
   },
   {
    "duration": 3,
    "start_time": "2022-12-20T08:04:10.927Z"
   },
   {
    "duration": 65,
    "start_time": "2022-12-20T08:04:10.932Z"
   },
   {
    "duration": 12,
    "start_time": "2022-12-20T08:04:10.999Z"
   },
   {
    "duration": 444,
    "start_time": "2022-12-20T08:04:11.013Z"
   },
   {
    "duration": 0,
    "start_time": "2022-12-20T08:04:11.459Z"
   },
   {
    "duration": 0,
    "start_time": "2022-12-20T08:04:11.461Z"
   },
   {
    "duration": 0,
    "start_time": "2022-12-20T08:04:11.461Z"
   },
   {
    "duration": 0,
    "start_time": "2022-12-20T08:04:11.462Z"
   },
   {
    "duration": 0,
    "start_time": "2022-12-20T08:04:11.464Z"
   },
   {
    "duration": 0,
    "start_time": "2022-12-20T08:04:11.465Z"
   },
   {
    "duration": 0,
    "start_time": "2022-12-20T08:04:11.466Z"
   },
   {
    "duration": 0,
    "start_time": "2022-12-20T08:04:11.467Z"
   },
   {
    "duration": 0,
    "start_time": "2022-12-20T08:04:11.467Z"
   },
   {
    "duration": 0,
    "start_time": "2022-12-20T08:04:11.469Z"
   },
   {
    "duration": 0,
    "start_time": "2022-12-20T08:04:11.470Z"
   },
   {
    "duration": 0,
    "start_time": "2022-12-20T08:04:11.471Z"
   },
   {
    "duration": 939,
    "start_time": "2022-12-20T08:04:48.766Z"
   },
   {
    "duration": 7,
    "start_time": "2022-12-20T08:04:59.584Z"
   },
   {
    "duration": 3,
    "start_time": "2022-12-20T08:04:59.867Z"
   },
   {
    "duration": 22,
    "start_time": "2022-12-20T08:05:00.440Z"
   },
   {
    "duration": 21,
    "start_time": "2022-12-20T08:05:00.738Z"
   },
   {
    "duration": 21,
    "start_time": "2022-12-20T08:16:07.488Z"
   },
   {
    "duration": 22,
    "start_time": "2022-12-20T08:18:00.655Z"
   },
   {
    "duration": 11,
    "start_time": "2022-12-20T08:18:09.803Z"
   },
   {
    "duration": 10,
    "start_time": "2022-12-20T08:18:13.304Z"
   },
   {
    "duration": 821,
    "start_time": "2022-12-20T08:18:14.031Z"
   },
   {
    "duration": 0,
    "start_time": "2022-12-20T08:18:14.853Z"
   },
   {
    "duration": 0,
    "start_time": "2022-12-20T08:18:14.855Z"
   },
   {
    "duration": 79,
    "start_time": "2022-12-20T08:27:29.633Z"
   },
   {
    "duration": 10,
    "start_time": "2022-12-20T08:27:39.870Z"
   },
   {
    "duration": 1394,
    "start_time": "2022-12-20T08:27:47.516Z"
   },
   {
    "duration": 53,
    "start_time": "2022-12-20T08:27:48.911Z"
   },
   {
    "duration": 14,
    "start_time": "2022-12-20T08:27:48.965Z"
   },
   {
    "duration": 7,
    "start_time": "2022-12-20T08:27:48.982Z"
   },
   {
    "duration": 13,
    "start_time": "2022-12-20T08:27:48.991Z"
   },
   {
    "duration": 5,
    "start_time": "2022-12-20T08:27:49.005Z"
   },
   {
    "duration": 74,
    "start_time": "2022-12-20T08:27:49.012Z"
   },
   {
    "duration": 18,
    "start_time": "2022-12-20T08:27:49.088Z"
   },
   {
    "duration": 2741,
    "start_time": "2022-12-20T08:27:49.108Z"
   },
   {
    "duration": 1450,
    "start_time": "2022-12-20T08:27:51.852Z"
   },
   {
    "duration": 7,
    "start_time": "2022-12-20T08:27:53.304Z"
   },
   {
    "duration": 11,
    "start_time": "2022-12-20T08:27:53.312Z"
   },
   {
    "duration": 74,
    "start_time": "2022-12-20T08:27:53.324Z"
   },
   {
    "duration": 440,
    "start_time": "2022-12-20T08:27:53.400Z"
   },
   {
    "duration": 7,
    "start_time": "2022-12-20T08:27:53.842Z"
   },
   {
    "duration": 107517,
    "start_time": "2022-12-20T08:27:53.850Z"
   },
   {
    "duration": 1228,
    "start_time": "2022-12-20T08:29:41.369Z"
   },
   {
    "duration": 5,
    "start_time": "2022-12-20T08:29:42.598Z"
   },
   {
    "duration": 115,
    "start_time": "2022-12-20T08:29:42.604Z"
   },
   {
    "duration": 5,
    "start_time": "2022-12-20T08:29:42.721Z"
   },
   {
    "duration": 1982,
    "start_time": "2022-12-20T08:29:42.728Z"
   },
   {
    "duration": 11,
    "start_time": "2022-12-20T08:33:12.884Z"
   },
   {
    "duration": 45,
    "start_time": "2022-12-20T08:44:23.886Z"
   },
   {
    "duration": 147,
    "start_time": "2022-12-20T08:46:56.972Z"
   },
   {
    "duration": 1432,
    "start_time": "2022-12-20T10:59:20.348Z"
   },
   {
    "duration": 46,
    "start_time": "2022-12-20T10:59:21.782Z"
   },
   {
    "duration": 12,
    "start_time": "2022-12-20T10:59:21.829Z"
   },
   {
    "duration": 7,
    "start_time": "2022-12-20T10:59:21.843Z"
   },
   {
    "duration": 9,
    "start_time": "2022-12-20T10:59:21.851Z"
   },
   {
    "duration": 4,
    "start_time": "2022-12-20T10:59:21.862Z"
   },
   {
    "duration": 72,
    "start_time": "2022-12-20T10:59:21.867Z"
   },
   {
    "duration": 13,
    "start_time": "2022-12-20T10:59:21.941Z"
   },
   {
    "duration": 2729,
    "start_time": "2022-12-20T10:59:21.956Z"
   },
   {
    "duration": 1524,
    "start_time": "2022-12-20T10:59:24.687Z"
   },
   {
    "duration": 8,
    "start_time": "2022-12-20T10:59:26.214Z"
   },
   {
    "duration": 15,
    "start_time": "2022-12-20T10:59:26.224Z"
   },
   {
    "duration": 58,
    "start_time": "2022-12-20T10:59:26.241Z"
   },
   {
    "duration": 473,
    "start_time": "2022-12-20T10:59:26.302Z"
   },
   {
    "duration": 8,
    "start_time": "2022-12-20T10:59:26.776Z"
   },
   {
    "duration": 1511,
    "start_time": "2022-12-20T11:00:25.929Z"
   },
   {
    "duration": 45,
    "start_time": "2022-12-20T11:00:27.442Z"
   },
   {
    "duration": 10,
    "start_time": "2022-12-20T11:00:27.489Z"
   },
   {
    "duration": 6,
    "start_time": "2022-12-20T11:00:27.501Z"
   },
   {
    "duration": 23,
    "start_time": "2022-12-20T11:00:27.508Z"
   },
   {
    "duration": 3,
    "start_time": "2022-12-20T11:00:27.533Z"
   },
   {
    "duration": 68,
    "start_time": "2022-12-20T11:00:27.537Z"
   },
   {
    "duration": 13,
    "start_time": "2022-12-20T11:00:27.607Z"
   },
   {
    "duration": 2797,
    "start_time": "2022-12-20T11:00:27.622Z"
   },
   {
    "duration": 1440,
    "start_time": "2022-12-20T11:00:30.422Z"
   },
   {
    "duration": 8,
    "start_time": "2022-12-20T11:00:31.863Z"
   },
   {
    "duration": 10,
    "start_time": "2022-12-20T11:00:31.873Z"
   },
   {
    "duration": 113,
    "start_time": "2022-12-20T11:00:31.884Z"
   },
   {
    "duration": 471,
    "start_time": "2022-12-20T11:00:31.999Z"
   },
   {
    "duration": 7,
    "start_time": "2022-12-20T11:00:32.472Z"
   },
   {
    "duration": 114295,
    "start_time": "2022-12-20T11:00:32.481Z"
   },
   {
    "duration": 1221,
    "start_time": "2022-12-20T11:02:26.779Z"
   },
   {
    "duration": 94,
    "start_time": "2022-12-20T11:02:28.003Z"
   },
   {
    "duration": 24,
    "start_time": "2022-12-20T11:02:28.099Z"
   },
   {
    "duration": 7,
    "start_time": "2022-12-20T11:02:28.125Z"
   },
   {
    "duration": 2218,
    "start_time": "2022-12-20T11:02:28.134Z"
   },
   {
    "duration": 1008,
    "start_time": "2022-12-20T11:05:07.860Z"
   },
   {
    "duration": 802,
    "start_time": "2022-12-20T11:05:21.887Z"
   },
   {
    "duration": 2951,
    "start_time": "2022-12-20T11:06:06.845Z"
   },
   {
    "duration": 42,
    "start_time": "2022-12-20T11:07:54.978Z"
   },
   {
    "duration": 34,
    "start_time": "2022-12-20T11:08:35.978Z"
   },
   {
    "duration": 362,
    "start_time": "2022-12-20T11:08:56.751Z"
   },
   {
    "duration": 1576,
    "start_time": "2022-12-20T11:11:26.682Z"
   },
   {
    "duration": 46,
    "start_time": "2022-12-20T11:11:28.260Z"
   },
   {
    "duration": 13,
    "start_time": "2022-12-20T11:11:28.307Z"
   },
   {
    "duration": 6,
    "start_time": "2022-12-20T11:11:28.322Z"
   },
   {
    "duration": 16,
    "start_time": "2022-12-20T11:11:28.330Z"
   },
   {
    "duration": 3,
    "start_time": "2022-12-20T11:11:28.348Z"
   },
   {
    "duration": 71,
    "start_time": "2022-12-20T11:11:28.352Z"
   },
   {
    "duration": 14,
    "start_time": "2022-12-20T11:11:28.424Z"
   },
   {
    "duration": 2903,
    "start_time": "2022-12-20T11:11:28.440Z"
   },
   {
    "duration": 1469,
    "start_time": "2022-12-20T11:11:31.345Z"
   },
   {
    "duration": 7,
    "start_time": "2022-12-20T11:11:32.815Z"
   },
   {
    "duration": 9,
    "start_time": "2022-12-20T11:11:32.823Z"
   },
   {
    "duration": 64,
    "start_time": "2022-12-20T11:11:32.833Z"
   },
   {
    "duration": 512,
    "start_time": "2022-12-20T11:11:32.901Z"
   },
   {
    "duration": 8,
    "start_time": "2022-12-20T11:11:33.415Z"
   },
   {
    "duration": 118006,
    "start_time": "2022-12-20T11:11:33.424Z"
   },
   {
    "duration": 1266,
    "start_time": "2022-12-20T11:13:31.432Z"
   },
   {
    "duration": 5,
    "start_time": "2022-12-20T11:13:32.700Z"
   },
   {
    "duration": 19,
    "start_time": "2022-12-20T11:13:32.797Z"
   },
   {
    "duration": 6,
    "start_time": "2022-12-20T11:13:32.818Z"
   },
   {
    "duration": 2270,
    "start_time": "2022-12-20T11:13:32.826Z"
   },
   {
    "duration": 2188,
    "start_time": "2022-12-20T11:16:01.539Z"
   },
   {
    "duration": 779,
    "start_time": "2022-12-20T11:16:11.081Z"
   },
   {
    "duration": 3,
    "start_time": "2022-12-20T11:16:24.218Z"
   },
   {
    "duration": 4,
    "start_time": "2022-12-20T11:16:33.357Z"
   },
   {
    "duration": 2153,
    "start_time": "2022-12-20T11:17:24.079Z"
   },
   {
    "duration": 1558,
    "start_time": "2022-12-20T11:17:55.295Z"
   },
   {
    "duration": 46,
    "start_time": "2022-12-20T11:17:56.855Z"
   },
   {
    "duration": 12,
    "start_time": "2022-12-20T11:17:56.902Z"
   },
   {
    "duration": 6,
    "start_time": "2022-12-20T11:17:56.916Z"
   },
   {
    "duration": 9,
    "start_time": "2022-12-20T11:17:56.924Z"
   },
   {
    "duration": 3,
    "start_time": "2022-12-20T11:17:56.935Z"
   },
   {
    "duration": 71,
    "start_time": "2022-12-20T11:17:56.939Z"
   },
   {
    "duration": 14,
    "start_time": "2022-12-20T11:17:57.011Z"
   },
   {
    "duration": 3,
    "start_time": "2022-12-20T11:17:57.027Z"
   },
   {
    "duration": 2022,
    "start_time": "2022-12-20T11:17:57.033Z"
   },
   {
    "duration": 936,
    "start_time": "2022-12-20T11:17:59.057Z"
   },
   {
    "duration": 1570,
    "start_time": "2022-12-20T11:17:59.996Z"
   },
   {
    "duration": 7,
    "start_time": "2022-12-20T11:18:01.568Z"
   },
   {
    "duration": 47,
    "start_time": "2022-12-20T11:18:01.576Z"
   },
   {
    "duration": 73,
    "start_time": "2022-12-20T11:18:01.625Z"
   },
   {
    "duration": 519,
    "start_time": "2022-12-20T11:18:01.700Z"
   },
   {
    "duration": 7,
    "start_time": "2022-12-20T11:18:02.221Z"
   },
   {
    "duration": 117404,
    "start_time": "2022-12-20T11:18:02.230Z"
   },
   {
    "duration": 1263,
    "start_time": "2022-12-20T11:19:59.637Z"
   },
   {
    "duration": 96,
    "start_time": "2022-12-20T11:20:00.902Z"
   },
   {
    "duration": 62,
    "start_time": "2022-12-20T11:20:01.000Z"
   },
   {
    "duration": 30,
    "start_time": "2022-12-20T11:20:01.064Z"
   },
   {
    "duration": 2263,
    "start_time": "2022-12-20T11:20:01.095Z"
   },
   {
    "duration": 2239,
    "start_time": "2022-12-20T11:22:46.922Z"
   },
   {
    "duration": 2078,
    "start_time": "2022-12-20T11:23:14.472Z"
   },
   {
    "duration": 1580,
    "start_time": "2022-12-20T11:23:59.974Z"
   },
   {
    "duration": 49,
    "start_time": "2022-12-20T11:24:01.556Z"
   },
   {
    "duration": 12,
    "start_time": "2022-12-20T11:24:01.606Z"
   },
   {
    "duration": 7,
    "start_time": "2022-12-20T11:24:01.620Z"
   },
   {
    "duration": 48,
    "start_time": "2022-12-20T11:24:01.628Z"
   },
   {
    "duration": 21,
    "start_time": "2022-12-20T11:24:01.678Z"
   },
   {
    "duration": 67,
    "start_time": "2022-12-20T11:24:01.701Z"
   },
   {
    "duration": 14,
    "start_time": "2022-12-20T11:24:01.770Z"
   },
   {
    "duration": 51,
    "start_time": "2022-12-20T11:24:01.786Z"
   },
   {
    "duration": 2124,
    "start_time": "2022-12-20T11:24:01.841Z"
   },
   {
    "duration": 902,
    "start_time": "2022-12-20T11:24:03.967Z"
   },
   {
    "duration": 1507,
    "start_time": "2022-12-20T11:24:04.871Z"
   },
   {
    "duration": 8,
    "start_time": "2022-12-20T11:24:06.379Z"
   },
   {
    "duration": 7,
    "start_time": "2022-12-20T11:24:06.388Z"
   },
   {
    "duration": 100,
    "start_time": "2022-12-20T11:24:06.397Z"
   },
   {
    "duration": 500,
    "start_time": "2022-12-20T11:24:06.500Z"
   },
   {
    "duration": 9,
    "start_time": "2022-12-20T11:24:07.002Z"
   },
   {
    "duration": 115975,
    "start_time": "2022-12-20T11:24:07.013Z"
   },
   {
    "duration": 1207,
    "start_time": "2022-12-20T11:26:02.990Z"
   },
   {
    "duration": 5,
    "start_time": "2022-12-20T11:26:04.198Z"
   },
   {
    "duration": 26,
    "start_time": "2022-12-20T11:26:04.205Z"
   },
   {
    "duration": 7,
    "start_time": "2022-12-20T11:26:04.232Z"
   },
   {
    "duration": 2366,
    "start_time": "2022-12-20T11:26:04.241Z"
   },
   {
    "duration": 159,
    "start_time": "2022-12-20T11:34:10.743Z"
   },
   {
    "duration": 54,
    "start_time": "2022-12-20T11:34:19.260Z"
   },
   {
    "duration": 1528,
    "start_time": "2022-12-20T11:34:51.237Z"
   },
   {
    "duration": 48,
    "start_time": "2022-12-20T11:34:52.768Z"
   },
   {
    "duration": 12,
    "start_time": "2022-12-20T11:34:52.817Z"
   },
   {
    "duration": 6,
    "start_time": "2022-12-20T11:34:52.831Z"
   },
   {
    "duration": 22,
    "start_time": "2022-12-20T11:34:52.840Z"
   },
   {
    "duration": 4,
    "start_time": "2022-12-20T11:34:52.864Z"
   },
   {
    "duration": 76,
    "start_time": "2022-12-20T11:34:52.870Z"
   },
   {
    "duration": 14,
    "start_time": "2022-12-20T11:34:52.948Z"
   },
   {
    "duration": 21,
    "start_time": "2022-12-20T11:34:52.964Z"
   },
   {
    "duration": 2099,
    "start_time": "2022-12-20T11:34:52.986Z"
   },
   {
    "duration": 935,
    "start_time": "2022-12-20T11:34:55.087Z"
   },
   {
    "duration": 1457,
    "start_time": "2022-12-20T11:34:56.024Z"
   },
   {
    "duration": 7,
    "start_time": "2022-12-20T11:34:57.483Z"
   },
   {
    "duration": 4,
    "start_time": "2022-12-20T11:34:57.495Z"
   },
   {
    "duration": 95,
    "start_time": "2022-12-20T11:34:57.501Z"
   },
   {
    "duration": 464,
    "start_time": "2022-12-20T11:34:57.599Z"
   },
   {
    "duration": 8,
    "start_time": "2022-12-20T11:34:58.064Z"
   },
   {
    "duration": 115103,
    "start_time": "2022-12-20T11:34:58.074Z"
   },
   {
    "duration": 1218,
    "start_time": "2022-12-20T11:36:53.179Z"
   },
   {
    "duration": 5,
    "start_time": "2022-12-20T11:36:54.398Z"
   },
   {
    "duration": 21,
    "start_time": "2022-12-20T11:36:54.405Z"
   },
   {
    "duration": 7,
    "start_time": "2022-12-20T11:36:54.428Z"
   },
   {
    "duration": 2294,
    "start_time": "2022-12-20T11:36:54.436Z"
   },
   {
    "duration": 1520,
    "start_time": "2022-12-20T11:38:28.957Z"
   },
   {
    "duration": 49,
    "start_time": "2022-12-20T11:38:30.480Z"
   },
   {
    "duration": 12,
    "start_time": "2022-12-20T11:38:30.531Z"
   },
   {
    "duration": 24,
    "start_time": "2022-12-20T11:38:30.546Z"
   },
   {
    "duration": 26,
    "start_time": "2022-12-20T11:38:30.572Z"
   },
   {
    "duration": 19,
    "start_time": "2022-12-20T11:38:30.600Z"
   },
   {
    "duration": 66,
    "start_time": "2022-12-20T11:38:30.620Z"
   },
   {
    "duration": 14,
    "start_time": "2022-12-20T11:38:30.688Z"
   },
   {
    "duration": 38,
    "start_time": "2022-12-20T11:38:30.703Z"
   },
   {
    "duration": 2196,
    "start_time": "2022-12-20T11:38:30.744Z"
   },
   {
    "duration": 916,
    "start_time": "2022-12-20T11:38:32.941Z"
   },
   {
    "duration": 1604,
    "start_time": "2022-12-20T11:38:33.858Z"
   },
   {
    "duration": 7,
    "start_time": "2022-12-20T11:38:35.463Z"
   },
   {
    "duration": 7,
    "start_time": "2022-12-20T11:38:35.472Z"
   },
   {
    "duration": 37,
    "start_time": "2022-12-20T11:38:35.481Z"
   },
   {
    "duration": 555,
    "start_time": "2022-12-20T11:38:35.520Z"
   },
   {
    "duration": 8,
    "start_time": "2022-12-20T11:38:36.077Z"
   },
   {
    "duration": 117618,
    "start_time": "2022-12-20T11:38:36.095Z"
   },
   {
    "duration": 1181,
    "start_time": "2022-12-20T11:40:33.715Z"
   },
   {
    "duration": 5,
    "start_time": "2022-12-20T11:40:34.898Z"
   },
   {
    "duration": 108,
    "start_time": "2022-12-20T11:40:34.905Z"
   },
   {
    "duration": 8,
    "start_time": "2022-12-20T11:40:35.015Z"
   },
   {
    "duration": 2334,
    "start_time": "2022-12-20T11:40:35.025Z"
   }
  ],
  "kernelspec": {
   "display_name": "Python 3 (ipykernel)",
   "language": "python",
   "name": "python3"
  },
  "language_info": {
   "codemirror_mode": {
    "name": "ipython",
    "version": 3
   },
   "file_extension": ".py",
   "mimetype": "text/x-python",
   "name": "python",
   "nbconvert_exporter": "python",
   "pygments_lexer": "ipython3",
   "version": "3.9.5"
  },
  "toc": {
   "base_numbering": 1,
   "nav_menu": {},
   "number_sections": true,
   "sideBar": true,
   "skip_h1_title": true,
   "title_cell": "Содержание",
   "title_sidebar": "Contents",
   "toc_cell": true,
   "toc_position": {},
   "toc_section_display": true,
   "toc_window_display": true
  }
 },
 "nbformat": 4,
 "nbformat_minor": 2
}
