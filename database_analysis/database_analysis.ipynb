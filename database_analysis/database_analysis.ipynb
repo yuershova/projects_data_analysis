{
 "cells": [
  {
   "cell_type": "markdown",
   "id": "de5e9385",
   "metadata": {},
   "source": [
    "# Анализ базы данных с помощью SQL #"
   ]
  },
  {
   "cell_type": "markdown",
   "id": "213a1424",
   "metadata": {},
   "source": [
    "Коронавирус застал мир врасплох, изменив привычный порядок вещей. В свободное время жители городов больше не выходят на улицу, не посещают кафе и торговые центры. Зато стало больше времени для книг. Это заметили стартаперы и бросились создавать приложения для тех, кто любит читать.\n",
    "\n",
    "Задача — необходимо проанализировать базу данных, в которой представлена информация о книгах, издательствах, авторах, а также пользовательские ценки и обзоры книг. Эти данные помогут сформулировать ценностное предложение для нового продукта компании, запустившей сервис для чтения книг по подписке.\n",
    "\n",
    "Анализ базы данных включает в себя решение следующих задач:\n",
    "\n",
    "* подсчет количества книг вышедших после 1 января 2000 года,\n",
    "\n",
    "* подсчет количества обзоров и средней оценки для каждой книги,\n",
    "\n",
    "* определение издательства, которое выпустило наибольшее число книг толще 50 страниц,\n",
    "\n",
    "* определение автора с самой высокой средней оценкой книг,\n",
    "\n",
    "* подсчет среднего количества обзоров от пользователей, которые поставили больше 50 оценок.\n"
   ]
  },
  {
   "cell_type": "markdown",
   "id": "59392426",
   "metadata": {
    "toc": true
   },
   "source": [
    "<h1>Содержание<span class=\"tocSkip\"></span></h1>\n",
    "<div class=\"toc\"><ul class=\"toc-item\"><li><span><a href=\"#Подключение-к-базе-данных\" data-toc-modified-id=\"Подключение-к-базе-данных-1\"><span class=\"toc-item-num\">1&nbsp;&nbsp;</span>Подключение к базе данных</a></span></li><li><span><a href=\"#Запросы-к-базе-данных\" data-toc-modified-id=\"Запросы-к-базе-данных-2\"><span class=\"toc-item-num\">2&nbsp;&nbsp;</span>Запросы к базе данных</a></span><ul class=\"toc-item\"><li><span><a href=\"#Подсчет-количества-книг-вышедших-после-1-января-2000-года\" data-toc-modified-id=\"Подсчет-количества-книг-вышедших-после-1-января-2000-года-2.1\"><span class=\"toc-item-num\">2.1&nbsp;&nbsp;</span>Подсчет количества книг вышедших после 1 января 2000 года</a></span></li><li><span><a href=\"#Подсчет-количества-обзоров-и-средней-оценки-для-каждой-книги\" data-toc-modified-id=\"Подсчет-количества-обзоров-и-средней-оценки-для-каждой-книги-2.2\"><span class=\"toc-item-num\">2.2&nbsp;&nbsp;</span>Подсчет количества обзоров и средней оценки для каждой книги</a></span></li><li><span><a href=\"#Определение-издательства,-которое-выпустило-наибольшее-число-книг-толще-50-страниц-(для-исключения-из-анализа-брошюр)\" data-toc-modified-id=\"Определение-издательства,-которое-выпустило-наибольшее-число-книг-толще-50-страниц-(для-исключения-из-анализа-брошюр)-2.3\"><span class=\"toc-item-num\">2.3&nbsp;&nbsp;</span>Определение издательства, которое выпустило наибольшее число книг толще 50 страниц (для исключения из анализа брошюр)</a></span></li><li><span><a href=\"#Определение-автора-с-самой-высокой-средней-оценкой-книг-(учитываются-только-книги-с-50-и-более-оценками)\" data-toc-modified-id=\"Определение-автора-с-самой-высокой-средней-оценкой-книг-(учитываются-только-книги-с-50-и-более-оценками)-2.4\"><span class=\"toc-item-num\">2.4&nbsp;&nbsp;</span>Определение автора с самой высокой средней оценкой книг (учитываются только книги с 50 и более оценками)</a></span></li><li><span><a href=\"#Подсчет-среднего-количества-обзоров-от-пользователей,-которые-поставили-больше-50-оценок\" data-toc-modified-id=\"Подсчет-среднего-количества-обзоров-от-пользователей,-которые-поставили-больше-50-оценок-2.5\"><span class=\"toc-item-num\">2.5&nbsp;&nbsp;</span>Подсчет среднего количества обзоров от пользователей, которые поставили больше 50 оценок</a></span></li></ul></li><li><span><a href=\"#Вывод\" data-toc-modified-id=\"Вывод-3\"><span class=\"toc-item-num\">3&nbsp;&nbsp;</span>Вывод</a></span></li></ul></div>"
   ]
  },
  {
   "cell_type": "markdown",
   "id": "d524f17e",
   "metadata": {},
   "source": [
    "## Подключение к базе данных"
   ]
  },
  {
   "cell_type": "code",
   "execution_count": 1,
   "id": "834d5413",
   "metadata": {},
   "outputs": [],
   "source": [
    "# импорт библиотек\n",
    "import pandas as pd\n",
    "from sqlalchemy import create_engine\n",
    "\n",
    "# устанавливаем параметры\n",
    "db_config = {'user': 'praktikum_student', # имя пользователя\n",
    "            'pwd': 'Sdf4$2;d-d30pp', # пароль\n",
    "            'host': 'rc1b-wcoijxj3yxfsf3fs.mdb.yandexcloud.net',\n",
    "            'port': 6432, # порт подключения\n",
    "            'db': 'data-analyst-final-project-db'} # название базы данных\n",
    "\n",
    "connection_string = 'postgresql://{}:{}@{}:{}/{}'.format(db_config['user'],\n",
    "                                                         db_config['pwd'],\n",
    "                                                         db_config['host'],\n",
    "                                                         db_config['port'],\n",
    "                                                         db_config['db'])\n",
    "\n",
    "# сохраняем коннектор\n",
    "engine = create_engine(connection_string, connect_args={'sslmode':'require'}) "
   ]
  },
  {
   "cell_type": "code",
   "execution_count": 2,
   "id": "a3c283ef",
   "metadata": {
    "scrolled": true
   },
   "outputs": [
    {
     "data": {
      "text/html": [
       "<div>\n",
       "<style scoped>\n",
       "    .dataframe tbody tr th:only-of-type {\n",
       "        vertical-align: middle;\n",
       "    }\n",
       "\n",
       "    .dataframe tbody tr th {\n",
       "        vertical-align: top;\n",
       "    }\n",
       "\n",
       "    .dataframe thead th {\n",
       "        text-align: right;\n",
       "    }\n",
       "</style>\n",
       "<table border=\"1\" class=\"dataframe\">\n",
       "  <thead>\n",
       "    <tr style=\"text-align: right;\">\n",
       "      <th></th>\n",
       "      <th>book_id</th>\n",
       "      <th>author_id</th>\n",
       "      <th>title</th>\n",
       "      <th>num_pages</th>\n",
       "      <th>publication_date</th>\n",
       "      <th>publisher_id</th>\n",
       "    </tr>\n",
       "  </thead>\n",
       "  <tbody>\n",
       "    <tr>\n",
       "      <th>0</th>\n",
       "      <td>1</td>\n",
       "      <td>546</td>\n",
       "      <td>'Salem's Lot</td>\n",
       "      <td>594</td>\n",
       "      <td>2005-11-01</td>\n",
       "      <td>93</td>\n",
       "    </tr>\n",
       "    <tr>\n",
       "      <th>1</th>\n",
       "      <td>2</td>\n",
       "      <td>465</td>\n",
       "      <td>1 000 Places to See Before You Die</td>\n",
       "      <td>992</td>\n",
       "      <td>2003-05-22</td>\n",
       "      <td>336</td>\n",
       "    </tr>\n",
       "    <tr>\n",
       "      <th>2</th>\n",
       "      <td>3</td>\n",
       "      <td>407</td>\n",
       "      <td>13 Little Blue Envelopes (Little Blue Envelope...</td>\n",
       "      <td>322</td>\n",
       "      <td>2010-12-21</td>\n",
       "      <td>135</td>\n",
       "    </tr>\n",
       "    <tr>\n",
       "      <th>3</th>\n",
       "      <td>4</td>\n",
       "      <td>82</td>\n",
       "      <td>1491: New Revelations of the Americas Before C...</td>\n",
       "      <td>541</td>\n",
       "      <td>2006-10-10</td>\n",
       "      <td>309</td>\n",
       "    </tr>\n",
       "    <tr>\n",
       "      <th>4</th>\n",
       "      <td>5</td>\n",
       "      <td>125</td>\n",
       "      <td>1776</td>\n",
       "      <td>386</td>\n",
       "      <td>2006-07-04</td>\n",
       "      <td>268</td>\n",
       "    </tr>\n",
       "  </tbody>\n",
       "</table>\n",
       "</div>"
      ],
      "text/plain": [
       "   book_id  author_id                                              title  \\\n",
       "0        1        546                                       'Salem's Lot   \n",
       "1        2        465                 1 000 Places to See Before You Die   \n",
       "2        3        407  13 Little Blue Envelopes (Little Blue Envelope...   \n",
       "3        4         82  1491: New Revelations of the Americas Before C...   \n",
       "4        5        125                                               1776   \n",
       "\n",
       "   num_pages publication_date  publisher_id  \n",
       "0        594       2005-11-01            93  \n",
       "1        992       2003-05-22           336  \n",
       "2        322       2010-12-21           135  \n",
       "3        541       2006-10-10           309  \n",
       "4        386       2006-07-04           268  "
      ]
     },
     "execution_count": 2,
     "metadata": {},
     "output_type": "execute_result"
    }
   ],
   "source": [
    "# выполняем sql-запрос\n",
    "query = '''SELECT *\n",
    "           FROM books\n",
    "           LIMIT 5;\n",
    "        ''' \n",
    "pd.io.sql.read_sql(query, con = engine) "
   ]
  },
  {
   "cell_type": "markdown",
   "id": "775d7e87",
   "metadata": {},
   "source": [
    "Таблица `books` cодержит данные о книгах:\n",
    "\n",
    "- `book_id` — идентификатор книги,\n",
    "- `author_id` — идентификатор автора,\n",
    "- `title` — название книги,\n",
    "- `num_pages` — количество страниц,\n",
    "- `publication_date` — дата публикации книги,\n",
    "- `publisher_id` — идентификатор издателя."
   ]
  },
  {
   "cell_type": "code",
   "execution_count": 3,
   "id": "955e4c6c",
   "metadata": {
    "scrolled": false
   },
   "outputs": [
    {
     "data": {
      "text/html": [
       "<div>\n",
       "<style scoped>\n",
       "    .dataframe tbody tr th:only-of-type {\n",
       "        vertical-align: middle;\n",
       "    }\n",
       "\n",
       "    .dataframe tbody tr th {\n",
       "        vertical-align: top;\n",
       "    }\n",
       "\n",
       "    .dataframe thead th {\n",
       "        text-align: right;\n",
       "    }\n",
       "</style>\n",
       "<table border=\"1\" class=\"dataframe\">\n",
       "  <thead>\n",
       "    <tr style=\"text-align: right;\">\n",
       "      <th></th>\n",
       "      <th>author_id</th>\n",
       "      <th>author</th>\n",
       "    </tr>\n",
       "  </thead>\n",
       "  <tbody>\n",
       "    <tr>\n",
       "      <th>0</th>\n",
       "      <td>1</td>\n",
       "      <td>A.S. Byatt</td>\n",
       "    </tr>\n",
       "    <tr>\n",
       "      <th>1</th>\n",
       "      <td>2</td>\n",
       "      <td>Aesop/Laura Harris/Laura Gibbs</td>\n",
       "    </tr>\n",
       "    <tr>\n",
       "      <th>2</th>\n",
       "      <td>3</td>\n",
       "      <td>Agatha Christie</td>\n",
       "    </tr>\n",
       "    <tr>\n",
       "      <th>3</th>\n",
       "      <td>4</td>\n",
       "      <td>Alan Brennert</td>\n",
       "    </tr>\n",
       "    <tr>\n",
       "      <th>4</th>\n",
       "      <td>5</td>\n",
       "      <td>Alan Moore/David   Lloyd</td>\n",
       "    </tr>\n",
       "  </tbody>\n",
       "</table>\n",
       "</div>"
      ],
      "text/plain": [
       "   author_id                          author\n",
       "0          1                      A.S. Byatt\n",
       "1          2  Aesop/Laura Harris/Laura Gibbs\n",
       "2          3                 Agatha Christie\n",
       "3          4                   Alan Brennert\n",
       "4          5        Alan Moore/David   Lloyd"
      ]
     },
     "execution_count": 3,
     "metadata": {},
     "output_type": "execute_result"
    }
   ],
   "source": [
    "# выполняем sql-запрос\n",
    "query = '''SELECT *\n",
    "           FROM authors\n",
    "           LIMIT 5;\n",
    "        ''' \n",
    "pd.io.sql.read_sql(query, con = engine) "
   ]
  },
  {
   "cell_type": "markdown",
   "id": "ff3a0664",
   "metadata": {},
   "source": [
    "Таблица `authors` содержит данные об авторах:\n",
    "\n",
    "- `author_id` — идентификатор автора,\n",
    "- `author` — имя автора."
   ]
  },
  {
   "cell_type": "code",
   "execution_count": 4,
   "id": "4b4800c5",
   "metadata": {
    "scrolled": true
   },
   "outputs": [
    {
     "data": {
      "text/html": [
       "<div>\n",
       "<style scoped>\n",
       "    .dataframe tbody tr th:only-of-type {\n",
       "        vertical-align: middle;\n",
       "    }\n",
       "\n",
       "    .dataframe tbody tr th {\n",
       "        vertical-align: top;\n",
       "    }\n",
       "\n",
       "    .dataframe thead th {\n",
       "        text-align: right;\n",
       "    }\n",
       "</style>\n",
       "<table border=\"1\" class=\"dataframe\">\n",
       "  <thead>\n",
       "    <tr style=\"text-align: right;\">\n",
       "      <th></th>\n",
       "      <th>publisher_id</th>\n",
       "      <th>publisher</th>\n",
       "    </tr>\n",
       "  </thead>\n",
       "  <tbody>\n",
       "    <tr>\n",
       "      <th>0</th>\n",
       "      <td>1</td>\n",
       "      <td>Ace</td>\n",
       "    </tr>\n",
       "    <tr>\n",
       "      <th>1</th>\n",
       "      <td>2</td>\n",
       "      <td>Ace Book</td>\n",
       "    </tr>\n",
       "    <tr>\n",
       "      <th>2</th>\n",
       "      <td>3</td>\n",
       "      <td>Ace Books</td>\n",
       "    </tr>\n",
       "    <tr>\n",
       "      <th>3</th>\n",
       "      <td>4</td>\n",
       "      <td>Ace Hardcover</td>\n",
       "    </tr>\n",
       "    <tr>\n",
       "      <th>4</th>\n",
       "      <td>5</td>\n",
       "      <td>Addison Wesley Publishing Company</td>\n",
       "    </tr>\n",
       "  </tbody>\n",
       "</table>\n",
       "</div>"
      ],
      "text/plain": [
       "   publisher_id                          publisher\n",
       "0             1                                Ace\n",
       "1             2                           Ace Book\n",
       "2             3                          Ace Books\n",
       "3             4                      Ace Hardcover\n",
       "4             5  Addison Wesley Publishing Company"
      ]
     },
     "execution_count": 4,
     "metadata": {},
     "output_type": "execute_result"
    }
   ],
   "source": [
    "# выполняем sql-запрос\n",
    "query = '''SELECT *\n",
    "           FROM publishers\n",
    "           LIMIT 5;\n",
    "        ''' \n",
    "pd.io.sql.read_sql(query, con = engine)"
   ]
  },
  {
   "cell_type": "markdown",
   "id": "6349b01e",
   "metadata": {},
   "source": [
    "Таблица `publishers` содержит данные об издательствах:\n",
    "\n",
    "- `publisher_id` — идентификатор издательства,\n",
    "- `publisher` — название издательства."
   ]
  },
  {
   "cell_type": "code",
   "execution_count": 5,
   "id": "d7271d51",
   "metadata": {
    "scrolled": true
   },
   "outputs": [
    {
     "data": {
      "text/html": [
       "<div>\n",
       "<style scoped>\n",
       "    .dataframe tbody tr th:only-of-type {\n",
       "        vertical-align: middle;\n",
       "    }\n",
       "\n",
       "    .dataframe tbody tr th {\n",
       "        vertical-align: top;\n",
       "    }\n",
       "\n",
       "    .dataframe thead th {\n",
       "        text-align: right;\n",
       "    }\n",
       "</style>\n",
       "<table border=\"1\" class=\"dataframe\">\n",
       "  <thead>\n",
       "    <tr style=\"text-align: right;\">\n",
       "      <th></th>\n",
       "      <th>rating_id</th>\n",
       "      <th>book_id</th>\n",
       "      <th>username</th>\n",
       "      <th>rating</th>\n",
       "    </tr>\n",
       "  </thead>\n",
       "  <tbody>\n",
       "    <tr>\n",
       "      <th>0</th>\n",
       "      <td>1</td>\n",
       "      <td>1</td>\n",
       "      <td>ryanfranco</td>\n",
       "      <td>4</td>\n",
       "    </tr>\n",
       "    <tr>\n",
       "      <th>1</th>\n",
       "      <td>2</td>\n",
       "      <td>1</td>\n",
       "      <td>grantpatricia</td>\n",
       "      <td>2</td>\n",
       "    </tr>\n",
       "    <tr>\n",
       "      <th>2</th>\n",
       "      <td>3</td>\n",
       "      <td>1</td>\n",
       "      <td>brandtandrea</td>\n",
       "      <td>5</td>\n",
       "    </tr>\n",
       "    <tr>\n",
       "      <th>3</th>\n",
       "      <td>4</td>\n",
       "      <td>2</td>\n",
       "      <td>lorichen</td>\n",
       "      <td>3</td>\n",
       "    </tr>\n",
       "    <tr>\n",
       "      <th>4</th>\n",
       "      <td>5</td>\n",
       "      <td>2</td>\n",
       "      <td>mariokeller</td>\n",
       "      <td>2</td>\n",
       "    </tr>\n",
       "  </tbody>\n",
       "</table>\n",
       "</div>"
      ],
      "text/plain": [
       "   rating_id  book_id       username  rating\n",
       "0          1        1     ryanfranco       4\n",
       "1          2        1  grantpatricia       2\n",
       "2          3        1   brandtandrea       5\n",
       "3          4        2       lorichen       3\n",
       "4          5        2    mariokeller       2"
      ]
     },
     "execution_count": 5,
     "metadata": {},
     "output_type": "execute_result"
    }
   ],
   "source": [
    "# выполняем sql-запрос\n",
    "query = '''SELECT *\n",
    "           FROM ratings\n",
    "           LIMIT 5;\n",
    "        ''' \n",
    "pd.io.sql.read_sql(query, con = engine)"
   ]
  },
  {
   "cell_type": "markdown",
   "id": "553f5605",
   "metadata": {},
   "source": [
    "Таблица `ratings` содержит данные о пользовательских оценках книг:\n",
    "\n",
    "- `rating_id` — идентификатор оценки,\n",
    "- `book_id` — идентификатор книги,\n",
    "- `username` — имя пользователя, оставившего оценку,\n",
    "- `rating` — оценка книги."
   ]
  },
  {
   "cell_type": "code",
   "execution_count": 6,
   "id": "9b7fe941",
   "metadata": {
    "scrolled": true
   },
   "outputs": [
    {
     "data": {
      "text/html": [
       "<div>\n",
       "<style scoped>\n",
       "    .dataframe tbody tr th:only-of-type {\n",
       "        vertical-align: middle;\n",
       "    }\n",
       "\n",
       "    .dataframe tbody tr th {\n",
       "        vertical-align: top;\n",
       "    }\n",
       "\n",
       "    .dataframe thead th {\n",
       "        text-align: right;\n",
       "    }\n",
       "</style>\n",
       "<table border=\"1\" class=\"dataframe\">\n",
       "  <thead>\n",
       "    <tr style=\"text-align: right;\">\n",
       "      <th></th>\n",
       "      <th>review_id</th>\n",
       "      <th>book_id</th>\n",
       "      <th>username</th>\n",
       "      <th>text</th>\n",
       "    </tr>\n",
       "  </thead>\n",
       "  <tbody>\n",
       "    <tr>\n",
       "      <th>0</th>\n",
       "      <td>1</td>\n",
       "      <td>1</td>\n",
       "      <td>brandtandrea</td>\n",
       "      <td>Mention society tell send professor analysis. ...</td>\n",
       "    </tr>\n",
       "    <tr>\n",
       "      <th>1</th>\n",
       "      <td>2</td>\n",
       "      <td>1</td>\n",
       "      <td>ryanfranco</td>\n",
       "      <td>Foot glass pretty audience hit themselves. Amo...</td>\n",
       "    </tr>\n",
       "    <tr>\n",
       "      <th>2</th>\n",
       "      <td>3</td>\n",
       "      <td>2</td>\n",
       "      <td>lorichen</td>\n",
       "      <td>Listen treat keep worry. Miss husband tax but ...</td>\n",
       "    </tr>\n",
       "    <tr>\n",
       "      <th>3</th>\n",
       "      <td>4</td>\n",
       "      <td>3</td>\n",
       "      <td>johnsonamanda</td>\n",
       "      <td>Finally month interesting blue could nature cu...</td>\n",
       "    </tr>\n",
       "    <tr>\n",
       "      <th>4</th>\n",
       "      <td>5</td>\n",
       "      <td>3</td>\n",
       "      <td>scotttamara</td>\n",
       "      <td>Nation purpose heavy give wait song will. List...</td>\n",
       "    </tr>\n",
       "  </tbody>\n",
       "</table>\n",
       "</div>"
      ],
      "text/plain": [
       "   review_id  book_id       username  \\\n",
       "0          1        1   brandtandrea   \n",
       "1          2        1     ryanfranco   \n",
       "2          3        2       lorichen   \n",
       "3          4        3  johnsonamanda   \n",
       "4          5        3    scotttamara   \n",
       "\n",
       "                                                text  \n",
       "0  Mention society tell send professor analysis. ...  \n",
       "1  Foot glass pretty audience hit themselves. Amo...  \n",
       "2  Listen treat keep worry. Miss husband tax but ...  \n",
       "3  Finally month interesting blue could nature cu...  \n",
       "4  Nation purpose heavy give wait song will. List...  "
      ]
     },
     "execution_count": 6,
     "metadata": {},
     "output_type": "execute_result"
    }
   ],
   "source": [
    "# выполняем sql-запрос\n",
    "query = '''SELECT *\n",
    "           FROM reviews\n",
    "           LIMIT 5;\n",
    "        ''' \n",
    "pd.io.sql.read_sql(query, con = engine)"
   ]
  },
  {
   "cell_type": "markdown",
   "id": "7698082f",
   "metadata": {},
   "source": [
    "Таблица `reviews` содержит данные о пользовательских обзорах на книги:\n",
    "\n",
    "- `review_id` — идентификатор обзора,\n",
    "- `book_id` — идентификатор книги,\n",
    "- `username` — имя пользователя, написавшего обзор,\n",
    "- `text` — текст обзора."
   ]
  },
  {
   "cell_type": "markdown",
   "id": "70501b12",
   "metadata": {},
   "source": [
    "Мы получили данные из 5 таблиц, содержащих информацию о книгах, авторах, издательствах, пользовательских оценках и обзорах книг. "
   ]
  },
  {
   "cell_type": "markdown",
   "id": "664fa5c8",
   "metadata": {},
   "source": [
    "## Запросы к базе данных"
   ]
  },
  {
   "cell_type": "markdown",
   "id": "5840620a",
   "metadata": {},
   "source": [
    "### Подсчет количества книг вышедших после 1 января 2000 года"
   ]
  },
  {
   "cell_type": "code",
   "execution_count": 7,
   "id": "be69626d",
   "metadata": {
    "scrolled": true
   },
   "outputs": [
    {
     "data": {
      "text/html": [
       "<div>\n",
       "<style scoped>\n",
       "    .dataframe tbody tr th:only-of-type {\n",
       "        vertical-align: middle;\n",
       "    }\n",
       "\n",
       "    .dataframe tbody tr th {\n",
       "        vertical-align: top;\n",
       "    }\n",
       "\n",
       "    .dataframe thead th {\n",
       "        text-align: right;\n",
       "    }\n",
       "</style>\n",
       "<table border=\"1\" class=\"dataframe\">\n",
       "  <thead>\n",
       "    <tr style=\"text-align: right;\">\n",
       "      <th></th>\n",
       "      <th>count</th>\n",
       "    </tr>\n",
       "  </thead>\n",
       "  <tbody>\n",
       "    <tr>\n",
       "      <th>0</th>\n",
       "      <td>819</td>\n",
       "    </tr>\n",
       "  </tbody>\n",
       "</table>\n",
       "</div>"
      ],
      "text/plain": [
       "   count\n",
       "0    819"
      ]
     },
     "execution_count": 7,
     "metadata": {},
     "output_type": "execute_result"
    }
   ],
   "source": [
    "query = '''\n",
    "\n",
    "SELECT COUNT(book_id)\n",
    "FROM books\n",
    "WHERE publication_date > '01-01-2000';\n",
    "        \n",
    "        '''\n",
    "pd.io.sql.read_sql(query, con = engine)"
   ]
  },
  {
   "cell_type": "markdown",
   "id": "fee13d2e",
   "metadata": {},
   "source": [
    "После 1 января 2000 года вышло 819 книг."
   ]
  },
  {
   "cell_type": "markdown",
   "id": "01662483",
   "metadata": {},
   "source": [
    "### Подсчет количества обзоров и средней оценки для каждой книги"
   ]
  },
  {
   "cell_type": "code",
   "execution_count": 8,
   "id": "16841728",
   "metadata": {
    "scrolled": false
   },
   "outputs": [
    {
     "data": {
      "text/html": [
       "<div>\n",
       "<style scoped>\n",
       "    .dataframe tbody tr th:only-of-type {\n",
       "        vertical-align: middle;\n",
       "    }\n",
       "\n",
       "    .dataframe tbody tr th {\n",
       "        vertical-align: top;\n",
       "    }\n",
       "\n",
       "    .dataframe thead th {\n",
       "        text-align: right;\n",
       "    }\n",
       "</style>\n",
       "<table border=\"1\" class=\"dataframe\">\n",
       "  <thead>\n",
       "    <tr style=\"text-align: right;\">\n",
       "      <th></th>\n",
       "      <th>book_title</th>\n",
       "      <th>count_reviews</th>\n",
       "      <th>avg_rating</th>\n",
       "    </tr>\n",
       "  </thead>\n",
       "  <tbody>\n",
       "    <tr>\n",
       "      <th>0</th>\n",
       "      <td>A Dirty Job (Grim Reaper  #1)</td>\n",
       "      <td>4</td>\n",
       "      <td>5.0</td>\n",
       "    </tr>\n",
       "    <tr>\n",
       "      <th>1</th>\n",
       "      <td>School's Out—Forever (Maximum Ride  #2)</td>\n",
       "      <td>3</td>\n",
       "      <td>5.0</td>\n",
       "    </tr>\n",
       "    <tr>\n",
       "      <th>2</th>\n",
       "      <td>Moneyball: The Art of Winning an Unfair Game</td>\n",
       "      <td>3</td>\n",
       "      <td>5.0</td>\n",
       "    </tr>\n",
       "    <tr>\n",
       "      <th>3</th>\n",
       "      <td>Crucial Conversations: Tools for Talking When ...</td>\n",
       "      <td>2</td>\n",
       "      <td>5.0</td>\n",
       "    </tr>\n",
       "    <tr>\n",
       "      <th>4</th>\n",
       "      <td>Misty of Chincoteague (Misty  #1)</td>\n",
       "      <td>2</td>\n",
       "      <td>5.0</td>\n",
       "    </tr>\n",
       "    <tr>\n",
       "      <th>...</th>\n",
       "      <td>...</td>\n",
       "      <td>...</td>\n",
       "      <td>...</td>\n",
       "    </tr>\n",
       "    <tr>\n",
       "      <th>995</th>\n",
       "      <td>The World Is Flat: A Brief History of the Twen...</td>\n",
       "      <td>3</td>\n",
       "      <td>2.3</td>\n",
       "    </tr>\n",
       "    <tr>\n",
       "      <th>996</th>\n",
       "      <td>Drowning Ruth</td>\n",
       "      <td>3</td>\n",
       "      <td>2.0</td>\n",
       "    </tr>\n",
       "    <tr>\n",
       "      <th>997</th>\n",
       "      <td>His Excellency: George Washington</td>\n",
       "      <td>2</td>\n",
       "      <td>2.0</td>\n",
       "    </tr>\n",
       "    <tr>\n",
       "      <th>998</th>\n",
       "      <td>Junky</td>\n",
       "      <td>2</td>\n",
       "      <td>2.0</td>\n",
       "    </tr>\n",
       "    <tr>\n",
       "      <th>999</th>\n",
       "      <td>Harvesting the Heart</td>\n",
       "      <td>2</td>\n",
       "      <td>1.5</td>\n",
       "    </tr>\n",
       "  </tbody>\n",
       "</table>\n",
       "<p>1000 rows × 3 columns</p>\n",
       "</div>"
      ],
      "text/plain": [
       "                                            book_title  count_reviews  \\\n",
       "0                        A Dirty Job (Grim Reaper  #1)              4   \n",
       "1              School's Out—Forever (Maximum Ride  #2)              3   \n",
       "2         Moneyball: The Art of Winning an Unfair Game              3   \n",
       "3    Crucial Conversations: Tools for Talking When ...              2   \n",
       "4                    Misty of Chincoteague (Misty  #1)              2   \n",
       "..                                                 ...            ...   \n",
       "995  The World Is Flat: A Brief History of the Twen...              3   \n",
       "996                                      Drowning Ruth              3   \n",
       "997                  His Excellency: George Washington              2   \n",
       "998                                              Junky              2   \n",
       "999                               Harvesting the Heart              2   \n",
       "\n",
       "     avg_rating  \n",
       "0           5.0  \n",
       "1           5.0  \n",
       "2           5.0  \n",
       "3           5.0  \n",
       "4           5.0  \n",
       "..          ...  \n",
       "995         2.3  \n",
       "996         2.0  \n",
       "997         2.0  \n",
       "998         2.0  \n",
       "999         1.5  \n",
       "\n",
       "[1000 rows x 3 columns]"
      ]
     },
     "execution_count": 8,
     "metadata": {},
     "output_type": "execute_result"
    }
   ],
   "source": [
    "query = '''\n",
    "\n",
    "SELECT b.title AS book_title,\n",
    "       COUNT(DISTINCT review_id) AS count_reviews,\n",
    "       ROUND(AVG(rating),1) AS avg_rating\n",
    "FROM books AS b\n",
    "LEFT JOIN reviews AS re ON b.book_id=re.book_id\n",
    "LEFT JOIN ratings AS ra ON b.book_id=ra.book_id\n",
    "GROUP BY b.book_id\n",
    "ORDER BY avg_rating DESC,\n",
    "         count_reviews DESC;\n",
    "    \n",
    "        '''\n",
    "pd.io.sql.read_sql(query, con = engine)"
   ]
  },
  {
   "cell_type": "markdown",
   "id": "099a90a5",
   "metadata": {},
   "source": [
    "Мы вывели количество обзоров и средний рейтинг для каждой книги."
   ]
  },
  {
   "cell_type": "markdown",
   "id": "a2f09013",
   "metadata": {},
   "source": [
    "### Определение издательства, которое выпустило наибольшее число книг толще 50 страниц (для исключения из анализа брошюр)"
   ]
  },
  {
   "cell_type": "code",
   "execution_count": 9,
   "id": "803d7484",
   "metadata": {
    "scrolled": true
   },
   "outputs": [
    {
     "data": {
      "text/html": [
       "<div>\n",
       "<style scoped>\n",
       "    .dataframe tbody tr th:only-of-type {\n",
       "        vertical-align: middle;\n",
       "    }\n",
       "\n",
       "    .dataframe tbody tr th {\n",
       "        vertical-align: top;\n",
       "    }\n",
       "\n",
       "    .dataframe thead th {\n",
       "        text-align: right;\n",
       "    }\n",
       "</style>\n",
       "<table border=\"1\" class=\"dataframe\">\n",
       "  <thead>\n",
       "    <tr style=\"text-align: right;\">\n",
       "      <th></th>\n",
       "      <th>publisher</th>\n",
       "      <th>count_book</th>\n",
       "    </tr>\n",
       "  </thead>\n",
       "  <tbody>\n",
       "    <tr>\n",
       "      <th>0</th>\n",
       "      <td>Penguin Books</td>\n",
       "      <td>42</td>\n",
       "    </tr>\n",
       "  </tbody>\n",
       "</table>\n",
       "</div>"
      ],
      "text/plain": [
       "       publisher  count_book\n",
       "0  Penguin Books          42"
      ]
     },
     "execution_count": 9,
     "metadata": {},
     "output_type": "execute_result"
    }
   ],
   "source": [
    "query = '''\n",
    "\n",
    "SELECT p.publisher,\n",
    "       COUNT(b.book_id) AS count_book\n",
    "FROM publishers AS p\n",
    "JOIN books AS b ON p.publisher_id=b.publisher_id\n",
    "WHERE num_pages > 50\n",
    "GROUP BY p.publisher\n",
    "ORDER BY count_book DESC\n",
    "LIMIT 1;\n",
    "        \n",
    "        '''\n",
    "pd.io.sql.read_sql(query, con = engine)"
   ]
  },
  {
   "cell_type": "markdown",
   "id": "450bed7c",
   "metadata": {},
   "source": [
    "Издательство <b>Penguin Books</b> выпустило больше всего книг с количеством страниц больше 50."
   ]
  },
  {
   "cell_type": "markdown",
   "id": "4469fb21",
   "metadata": {},
   "source": [
    "### Определение автора с самой высокой средней оценкой книг (учитываются только книги с 50 и более оценками)"
   ]
  },
  {
   "cell_type": "code",
   "execution_count": 10,
   "id": "195f62c7",
   "metadata": {
    "scrolled": true
   },
   "outputs": [
    {
     "data": {
      "text/html": [
       "<div>\n",
       "<style scoped>\n",
       "    .dataframe tbody tr th:only-of-type {\n",
       "        vertical-align: middle;\n",
       "    }\n",
       "\n",
       "    .dataframe tbody tr th {\n",
       "        vertical-align: top;\n",
       "    }\n",
       "\n",
       "    .dataframe thead th {\n",
       "        text-align: right;\n",
       "    }\n",
       "</style>\n",
       "<table border=\"1\" class=\"dataframe\">\n",
       "  <thead>\n",
       "    <tr style=\"text-align: right;\">\n",
       "      <th></th>\n",
       "      <th>author</th>\n",
       "      <th>avg_rating</th>\n",
       "    </tr>\n",
       "  </thead>\n",
       "  <tbody>\n",
       "    <tr>\n",
       "      <th>0</th>\n",
       "      <td>J.K. Rowling/Mary GrandPré</td>\n",
       "      <td>4.283844</td>\n",
       "    </tr>\n",
       "  </tbody>\n",
       "</table>\n",
       "</div>"
      ],
      "text/plain": [
       "                       author  avg_rating\n",
       "0  J.K. Rowling/Mary GrandPré    4.283844"
      ]
     },
     "execution_count": 10,
     "metadata": {},
     "output_type": "execute_result"
    }
   ],
   "source": [
    "query = '''\n",
    "\n",
    "SELECT a_r_avg.author AS author,\n",
    "       AVG(a_r_avg.avg_rating) AS avg_rating\n",
    "FROM (SELECT a.author AS author,\n",
    "             b.book_id AS id,\n",
    "             AVG(ra.rating) AS avg_rating,\n",
    "             COUNT(ra.rating) AS count_rating\n",
    "        FROM authors AS a\n",
    "        INNER JOIN books AS b ON b.author_id = a.author_id\n",
    "        INNER JOIN ratings AS ra ON ra.book_id = b.book_id\n",
    "        GROUP BY author, id\n",
    "        HAVING COUNT(ra.rating) >= 50) AS a_r_avg\n",
    "GROUP BY author\n",
    "ORDER BY avg_rating DESC\n",
    "LIMIT 1;\n",
    "        \n",
    "        '''\n",
    "pd.io.sql.read_sql(query, con = engine)"
   ]
  },
  {
   "cell_type": "markdown",
   "id": "6b6968e4",
   "metadata": {},
   "source": [
    "<b>J.K. Rowling/Mary GrandPré</b> - автор с самой высокой средней оценкой книг (4.28)"
   ]
  },
  {
   "cell_type": "markdown",
   "id": "fc56662a",
   "metadata": {},
   "source": [
    "### Подсчет среднего количества обзоров от пользователей, которые поставили больше 50 оценок"
   ]
  },
  {
   "cell_type": "code",
   "execution_count": 11,
   "id": "2f4a32fa",
   "metadata": {},
   "outputs": [
    {
     "data": {
      "text/html": [
       "<div>\n",
       "<style scoped>\n",
       "    .dataframe tbody tr th:only-of-type {\n",
       "        vertical-align: middle;\n",
       "    }\n",
       "\n",
       "    .dataframe tbody tr th {\n",
       "        vertical-align: top;\n",
       "    }\n",
       "\n",
       "    .dataframe thead th {\n",
       "        text-align: right;\n",
       "    }\n",
       "</style>\n",
       "<table border=\"1\" class=\"dataframe\">\n",
       "  <thead>\n",
       "    <tr style=\"text-align: right;\">\n",
       "      <th></th>\n",
       "      <th>avg</th>\n",
       "    </tr>\n",
       "  </thead>\n",
       "  <tbody>\n",
       "    <tr>\n",
       "      <th>0</th>\n",
       "      <td>24.333333</td>\n",
       "    </tr>\n",
       "  </tbody>\n",
       "</table>\n",
       "</div>"
      ],
      "text/plain": [
       "         avg\n",
       "0  24.333333"
      ]
     },
     "execution_count": 11,
     "metadata": {},
     "output_type": "execute_result"
    }
   ],
   "source": [
    "query = '''\n",
    "\n",
    "WITH \n",
    "A AS \n",
    "(SELECT username,\n",
    "        COUNT(DISTINCT(review_id))\n",
    "FROM reviews       \n",
    "WHERE username IN (\n",
    "        SELECT username\n",
    "        FROM ratings\n",
    "        GROUP BY username\n",
    "        HAVING COUNT(DISTINCT(book_id)) > 50)\n",
    "GROUP BY username) \n",
    "SELECT AVG(COUNT)\n",
    "FROM A;\n",
    "        '''\n",
    "pd.io.sql.read_sql(query, con = engine)"
   ]
  },
  {
   "cell_type": "markdown",
   "id": "fa4f4506",
   "metadata": {},
   "source": [
    "Среднее количество обзоров от пользователей, поставивших больше 50 оценок, составляет 24.3"
   ]
  },
  {
   "cell_type": "markdown",
   "id": "fecff9c4",
   "metadata": {},
   "source": [
    "## Вывод"
   ]
  },
  {
   "cell_type": "markdown",
   "id": "a13f2e2b",
   "metadata": {},
   "source": [
    "* Мы проанализировали базу данных, включающую в себя информацию о книгах, авторах, издательствах, а также пользовательские оценки и обзоры книг\n",
    "\n",
    "\n",
    "* Для каждой книги была получена информация о количестве обзоров и среднем рейтинге \n",
    "\n",
    "\n",
    "* В ходе работы мы выяснили, что после 1 января 2000 года вышло 819 книг\n",
    "\n",
    "\n",
    "* Издательство, выпустившее больше всего книг - <b>Penguin Books</b>\n",
    "\n",
    "\n",
    "* <b>J.K. Rowling/Mary GrandPré</b> - автор с самой высокой средней оценкой книг - 4.28\n",
    "\n",
    "\n",
    "* Среднее количество обзоров от пользователей, поставивших больше 50 оценок, составляет 24.3"
   ]
  }
 ],
 "metadata": {
  "ExecuteTimeLog": [
   {
    "duration": 5503,
    "start_time": "2022-11-05T08:33:09.001Z"
   },
   {
    "duration": 597,
    "start_time": "2022-11-05T08:33:14.506Z"
   },
   {
    "duration": 14,
    "start_time": "2022-11-05T08:33:15.104Z"
   },
   {
    "duration": 9,
    "start_time": "2022-11-05T08:33:15.120Z"
   },
   {
    "duration": 8,
    "start_time": "2022-11-05T08:33:15.131Z"
   },
   {
    "duration": 11,
    "start_time": "2022-11-05T08:33:15.141Z"
   },
   {
    "duration": 7,
    "start_time": "2022-11-05T08:33:15.153Z"
   },
   {
    "duration": 13,
    "start_time": "2022-11-05T08:33:15.161Z"
   },
   {
    "duration": 34,
    "start_time": "2022-11-05T08:33:15.176Z"
   },
   {
    "duration": 9,
    "start_time": "2022-11-05T08:33:15.213Z"
   },
   {
    "duration": 11,
    "start_time": "2022-11-05T08:33:15.224Z"
   },
   {
    "duration": 13,
    "start_time": "2022-11-05T08:33:15.236Z"
   },
   {
    "duration": 21,
    "start_time": "2022-11-05T08:33:15.251Z"
   },
   {
    "duration": 161,
    "start_time": "2022-11-05T08:33:15.274Z"
   },
   {
    "duration": 77,
    "start_time": "2022-11-05T08:33:15.436Z"
   },
   {
    "duration": 104,
    "start_time": "2022-11-05T08:33:15.514Z"
   },
   {
    "duration": 76,
    "start_time": "2022-11-05T08:33:15.620Z"
   },
   {
    "duration": 79,
    "start_time": "2022-11-05T08:33:15.698Z"
   },
   {
    "duration": 79,
    "start_time": "2022-11-05T08:33:15.779Z"
   },
   {
    "duration": 44,
    "start_time": "2022-11-08T06:28:42.139Z"
   },
   {
    "duration": 5061,
    "start_time": "2022-11-08T06:28:49.512Z"
   },
   {
    "duration": 627,
    "start_time": "2022-11-08T06:28:54.574Z"
   },
   {
    "duration": 13,
    "start_time": "2022-11-08T06:28:55.205Z"
   },
   {
    "duration": 10,
    "start_time": "2022-11-08T06:28:55.219Z"
   },
   {
    "duration": 10,
    "start_time": "2022-11-08T06:28:55.230Z"
   },
   {
    "duration": 11,
    "start_time": "2022-11-08T06:28:55.241Z"
   },
   {
    "duration": 6,
    "start_time": "2022-11-08T06:28:55.267Z"
   },
   {
    "duration": 10,
    "start_time": "2022-11-08T06:28:55.275Z"
   },
   {
    "duration": 6,
    "start_time": "2022-11-08T06:28:55.288Z"
   },
   {
    "duration": 10,
    "start_time": "2022-11-08T06:28:55.295Z"
   },
   {
    "duration": 6,
    "start_time": "2022-11-08T06:28:55.306Z"
   },
   {
    "duration": 59,
    "start_time": "2022-11-08T06:28:55.314Z"
   },
   {
    "duration": 16,
    "start_time": "2022-11-08T06:28:55.375Z"
   },
   {
    "duration": 160,
    "start_time": "2022-11-08T06:28:55.393Z"
   },
   {
    "duration": 74,
    "start_time": "2022-11-08T06:28:55.554Z"
   },
   {
    "duration": 97,
    "start_time": "2022-11-08T06:28:55.630Z"
   },
   {
    "duration": 76,
    "start_time": "2022-11-08T06:28:55.729Z"
   },
   {
    "duration": 82,
    "start_time": "2022-11-08T06:28:55.807Z"
   },
   {
    "duration": 85,
    "start_time": "2022-11-08T06:28:55.890Z"
   },
   {
    "duration": 80,
    "start_time": "2022-11-08T06:33:34.226Z"
   },
   {
    "duration": 362,
    "start_time": "2022-11-08T07:46:50.369Z"
   },
   {
    "duration": 116,
    "start_time": "2022-11-08T08:45:53.330Z"
   },
   {
    "duration": 77,
    "start_time": "2022-11-08T08:59:51.718Z"
   },
   {
    "duration": 75,
    "start_time": "2022-11-08T08:59:56.401Z"
   },
   {
    "duration": 78,
    "start_time": "2022-11-08T09:00:01.263Z"
   },
   {
    "duration": 102,
    "start_time": "2022-11-08T09:00:06.674Z"
   },
   {
    "duration": 116,
    "start_time": "2022-11-08T09:00:12.949Z"
   },
   {
    "duration": 78,
    "start_time": "2022-11-08T09:00:15.747Z"
   },
   {
    "duration": 93,
    "start_time": "2022-11-08T09:01:25.117Z"
   },
   {
    "duration": 78,
    "start_time": "2022-11-08T09:01:33.438Z"
   },
   {
    "duration": 69,
    "start_time": "2022-11-08T09:02:14.230Z"
   },
   {
    "duration": 69,
    "start_time": "2022-11-08T09:02:23.065Z"
   },
   {
    "duration": 47,
    "start_time": "2022-11-08T09:09:47.860Z"
   },
   {
    "duration": 66,
    "start_time": "2022-11-08T09:10:11.723Z"
   },
   {
    "duration": 70,
    "start_time": "2022-11-08T09:10:31.157Z"
   },
   {
    "duration": 5799,
    "start_time": "2022-11-08T09:10:36.920Z"
   },
   {
    "duration": 234,
    "start_time": "2022-11-08T09:10:42.721Z"
   },
   {
    "duration": 67,
    "start_time": "2022-11-08T09:10:42.957Z"
   },
   {
    "duration": 67,
    "start_time": "2022-11-08T09:10:43.025Z"
   },
   {
    "duration": 67,
    "start_time": "2022-11-08T09:10:43.094Z"
   },
   {
    "duration": 68,
    "start_time": "2022-11-08T09:10:43.163Z"
   },
   {
    "duration": 143,
    "start_time": "2022-11-08T09:10:43.233Z"
   },
   {
    "duration": 65,
    "start_time": "2022-11-08T09:10:43.377Z"
   },
   {
    "duration": 101,
    "start_time": "2022-11-08T09:10:43.444Z"
   },
   {
    "duration": 67,
    "start_time": "2022-11-08T09:10:43.547Z"
   },
   {
    "duration": 72,
    "start_time": "2022-11-08T09:10:43.616Z"
   },
   {
    "duration": 70,
    "start_time": "2022-11-08T09:10:43.690Z"
   },
   {
    "duration": 66,
    "start_time": "2022-11-08T09:11:18.696Z"
   },
   {
    "duration": 66,
    "start_time": "2022-11-08T09:15:33.345Z"
   },
   {
    "duration": 68,
    "start_time": "2022-11-08T09:16:06.783Z"
   },
   {
    "duration": 68,
    "start_time": "2022-11-08T09:16:22.070Z"
   },
   {
    "duration": 65,
    "start_time": "2022-11-08T09:17:42.626Z"
   },
   {
    "duration": 72,
    "start_time": "2022-11-08T09:22:58.608Z"
   },
   {
    "duration": 68,
    "start_time": "2022-11-08T09:23:17.741Z"
   },
   {
    "duration": 68,
    "start_time": "2022-11-08T09:23:32.323Z"
   },
   {
    "duration": 66,
    "start_time": "2022-11-08T09:23:37.843Z"
   },
   {
    "duration": 68,
    "start_time": "2022-11-08T09:23:46.700Z"
   },
   {
    "duration": 67,
    "start_time": "2022-11-08T09:23:54.993Z"
   },
   {
    "duration": 68,
    "start_time": "2022-11-08T09:24:03.053Z"
   },
   {
    "duration": 15,
    "start_time": "2022-11-08T09:24:05.858Z"
   },
   {
    "duration": 67,
    "start_time": "2022-11-08T09:29:39.913Z"
   },
   {
    "duration": 66,
    "start_time": "2022-11-08T09:29:49.655Z"
   },
   {
    "duration": 66,
    "start_time": "2022-11-08T09:30:00.012Z"
   },
   {
    "duration": 67,
    "start_time": "2022-11-08T09:30:38.488Z"
   },
   {
    "duration": 66,
    "start_time": "2022-11-08T09:31:32.441Z"
   },
   {
    "duration": 66,
    "start_time": "2022-11-08T09:31:37.794Z"
   },
   {
    "duration": 175,
    "start_time": "2022-11-08T09:35:47.850Z"
   },
   {
    "duration": 6105,
    "start_time": "2022-11-08T09:36:31.083Z"
   },
   {
    "duration": 236,
    "start_time": "2022-11-08T09:36:37.190Z"
   },
   {
    "duration": 68,
    "start_time": "2022-11-08T09:36:37.428Z"
   },
   {
    "duration": 67,
    "start_time": "2022-11-08T09:36:37.498Z"
   },
   {
    "duration": 69,
    "start_time": "2022-11-08T09:36:37.566Z"
   },
   {
    "duration": 68,
    "start_time": "2022-11-08T09:36:37.637Z"
   },
   {
    "duration": 142,
    "start_time": "2022-11-08T09:36:37.707Z"
   },
   {
    "duration": 67,
    "start_time": "2022-11-08T09:36:37.850Z"
   },
   {
    "duration": 98,
    "start_time": "2022-11-08T09:36:37.919Z"
   },
   {
    "duration": 67,
    "start_time": "2022-11-08T09:36:38.020Z"
   },
   {
    "duration": 73,
    "start_time": "2022-11-08T09:36:38.088Z"
   },
   {
    "duration": 69,
    "start_time": "2022-11-08T09:36:38.163Z"
   },
   {
    "duration": 6470,
    "start_time": "2022-11-08T09:49:33.810Z"
   },
   {
    "duration": 239,
    "start_time": "2022-11-08T09:49:40.282Z"
   },
   {
    "duration": 70,
    "start_time": "2022-11-08T09:49:40.523Z"
   },
   {
    "duration": 71,
    "start_time": "2022-11-08T09:49:40.595Z"
   },
   {
    "duration": 72,
    "start_time": "2022-11-08T09:49:40.668Z"
   },
   {
    "duration": 69,
    "start_time": "2022-11-08T09:49:40.742Z"
   },
   {
    "duration": 145,
    "start_time": "2022-11-08T09:49:40.812Z"
   },
   {
    "duration": 68,
    "start_time": "2022-11-08T09:49:40.958Z"
   },
   {
    "duration": 101,
    "start_time": "2022-11-08T09:49:41.028Z"
   },
   {
    "duration": 70,
    "start_time": "2022-11-08T09:49:41.131Z"
   },
   {
    "duration": 80,
    "start_time": "2022-11-08T09:49:41.202Z"
   },
   {
    "duration": 77,
    "start_time": "2022-11-08T09:49:41.284Z"
   },
   {
    "duration": 6164,
    "start_time": "2022-11-08T09:51:22.761Z"
   },
   {
    "duration": 246,
    "start_time": "2022-11-08T09:51:28.927Z"
   },
   {
    "duration": 70,
    "start_time": "2022-11-08T09:51:29.175Z"
   },
   {
    "duration": 68,
    "start_time": "2022-11-08T09:51:29.247Z"
   },
   {
    "duration": 78,
    "start_time": "2022-11-08T09:51:29.316Z"
   },
   {
    "duration": 71,
    "start_time": "2022-11-08T09:51:29.396Z"
   },
   {
    "duration": 150,
    "start_time": "2022-11-08T09:51:29.469Z"
   },
   {
    "duration": 70,
    "start_time": "2022-11-08T09:51:29.621Z"
   },
   {
    "duration": 103,
    "start_time": "2022-11-08T09:51:29.693Z"
   },
   {
    "duration": 72,
    "start_time": "2022-11-08T09:51:29.798Z"
   },
   {
    "duration": 77,
    "start_time": "2022-11-08T09:51:29.872Z"
   },
   {
    "duration": 74,
    "start_time": "2022-11-08T09:51:29.950Z"
   },
   {
    "duration": 7344,
    "start_time": "2022-11-08T11:19:19.171Z"
   },
   {
    "duration": 247,
    "start_time": "2022-11-08T11:19:26.517Z"
   },
   {
    "duration": 70,
    "start_time": "2022-11-08T11:19:26.765Z"
   },
   {
    "duration": 69,
    "start_time": "2022-11-08T11:19:26.837Z"
   },
   {
    "duration": 68,
    "start_time": "2022-11-08T11:19:26.907Z"
   },
   {
    "duration": 69,
    "start_time": "2022-11-08T11:19:26.976Z"
   },
   {
    "duration": 148,
    "start_time": "2022-11-08T11:19:27.047Z"
   },
   {
    "duration": 67,
    "start_time": "2022-11-08T11:19:27.197Z"
   },
   {
    "duration": 104,
    "start_time": "2022-11-08T11:19:27.265Z"
   },
   {
    "duration": 85,
    "start_time": "2022-11-08T11:19:27.371Z"
   },
   {
    "duration": 9,
    "start_time": "2023-01-09T12:20:08.738Z"
   },
   {
    "duration": 9032,
    "start_time": "2023-01-09T12:24:11.784Z"
   },
   {
    "duration": 69,
    "start_time": "2023-01-09T12:24:20.818Z"
   },
   {
    "duration": 11,
    "start_time": "2023-01-09T12:24:20.890Z"
   },
   {
    "duration": 14,
    "start_time": "2023-01-09T12:24:20.903Z"
   },
   {
    "duration": 14,
    "start_time": "2023-01-09T12:24:20.920Z"
   },
   {
    "duration": 23,
    "start_time": "2023-01-09T12:24:20.937Z"
   },
   {
    "duration": 10,
    "start_time": "2023-01-09T12:24:20.962Z"
   },
   {
    "duration": 33,
    "start_time": "2023-01-09T12:24:20.974Z"
   },
   {
    "duration": 13,
    "start_time": "2023-01-09T12:24:21.009Z"
   },
   {
    "duration": 23,
    "start_time": "2023-01-09T12:24:21.025Z"
   },
   {
    "duration": 26,
    "start_time": "2023-01-09T12:24:21.050Z"
   }
  ],
  "kernelspec": {
   "display_name": "Python 3 (ipykernel)",
   "language": "python",
   "name": "python3"
  },
  "language_info": {
   "codemirror_mode": {
    "name": "ipython",
    "version": 3
   },
   "file_extension": ".py",
   "mimetype": "text/x-python",
   "name": "python",
   "nbconvert_exporter": "python",
   "pygments_lexer": "ipython3",
   "version": "3.9.5"
  },
  "toc": {
   "base_numbering": 1,
   "nav_menu": {},
   "number_sections": true,
   "sideBar": true,
   "skip_h1_title": true,
   "title_cell": "Содержание",
   "title_sidebar": "Contents",
   "toc_cell": true,
   "toc_position": {},
   "toc_section_display": true,
   "toc_window_display": false
  }
 },
 "nbformat": 4,
 "nbformat_minor": 5
}
